{
 "cells": [
  {
   "cell_type": "code",
   "execution_count": 17,
   "id": "18dab51d-fc97-42c0-8726-577026ff2aff",
   "metadata": {},
   "outputs": [
    {
     "ename": "LoadError",
     "evalue": "UndefVarError: Mime not defined",
     "output_type": "error",
     "traceback": [
      "UndefVarError: Mime not defined",
      ""
     ]
    }
   ],
   "source": [
    "Mime"
   ]
  },
  {
   "cell_type": "code",
   "execution_count": 18,
   "id": "d06ca30e-6328-49a1-8ee6-e69734af20e2",
   "metadata": {},
   "outputs": [],
   "source": [
    "Base.show(io::IO, ::MIME\"text/plain\", v::Vector) = print(io, \"[\", join(v, \", \"), \"]\")"
   ]
  },
  {
   "cell_type": "code",
   "execution_count": null,
   "id": "190120df-7a09-4d0c-a589-9fe568a9e140",
   "metadata": {},
   "outputs": [],
   "source": [
    "[1, 1, 3, 1, 1] < [1, 1, 5, 1, 1]"
   ]
  },
  {
   "cell_type": "code",
   "execution_count": null,
   "id": "effeba47-ee8d-4f65-8aa8-d4b4f83e5d74",
   "metadata": {},
   "outputs": [],
   "source": [
    "[[4, 4], 4, 4] < [[4, 4], 4, 4, 4]"
   ]
  },
  {
   "cell_type": "code",
   "execution_count": null,
   "id": "5c7306da-d39b-4c7f-848d-aeb031665319",
   "metadata": {},
   "outputs": [],
   "source": [
    "[] < [3]"
   ]
  },
  {
   "cell_type": "code",
   "execution_count": null,
   "id": "423a86eb-d54b-408c-9221-4489b78689c1",
   "metadata": {},
   "outputs": [],
   "source": [
    "[[[]]] < [[]]"
   ]
  },
  {
   "cell_type": "code",
   "execution_count": null,
   "id": "71be24fb-7802-4a2a-9b2d-d8e4aa2ab3a7",
   "metadata": {},
   "outputs": [],
   "source": []
  },
  {
   "cell_type": "code",
   "execution_count": 2,
   "id": "2be7ffe7-75a3-4bd4-872b-d1453804f6e7",
   "metadata": {},
   "outputs": [
    {
     "ename": "LoadError",
     "evalue": "MethodError: no method matching isless(::Vector{Int64}, ::Int64)\n\u001b[0mClosest candidates are:\n\u001b[0m  isless(::AbstractVector, \u001b[91m::AbstractVector\u001b[39m) at abstractarray.jl:2612\n\u001b[0m  isless(\u001b[91m::AbstractFloat\u001b[39m, ::Real) at operators.jl:186\n\u001b[0m  isless(\u001b[91m::Real\u001b[39m, ::Real) at operators.jl:434\n\u001b[0m  ...",
     "output_type": "error",
     "traceback": [
      "MethodError: no method matching isless(::Vector{Int64}, ::Int64)\n\u001b[0mClosest candidates are:\n\u001b[0m  isless(::AbstractVector, \u001b[91m::AbstractVector\u001b[39m) at abstractarray.jl:2612\n\u001b[0m  isless(\u001b[91m::AbstractFloat\u001b[39m, ::Real) at operators.jl:186\n\u001b[0m  isless(\u001b[91m::Real\u001b[39m, ::Real) at operators.jl:434\n\u001b[0m  ...",
      "",
      "Stacktrace:",
      " [1] cmp",
      "   @ ./abstractarray.jl:2601 [inlined]",
      " [2] isless(A::Vector{Vector{Int64}}, B::Vector{Int64})",
      "   @ Base ./abstractarray.jl:2612",
      " [3] cmp(A::Vector{Any}, B::Vector{Any})",
      "   @ Base ./abstractarray.jl:2601",
      " [4] isless",
      "   @ ./abstractarray.jl:2612 [inlined]",
      " [5] <(x::Vector{Any}, y::Vector{Any})",
      "   @ Base ./operators.jl:356",
      " [6] top-level scope",
      "   @ In[2]:1"
     ]
    }
   ],
   "source": [
    "[[[1]], 2] < [[1], 3]"
   ]
  },
  {
   "cell_type": "code",
   "execution_count": null,
   "id": "49201353-b8a0-4040-95fc-9210f2b6177f",
   "metadata": {},
   "outputs": [],
   "source": []
  },
  {
   "cell_type": "code",
   "execution_count": 3,
   "id": "17782a7c-5617-4c66-b9b7-82b79cdba7c0",
   "metadata": {},
   "outputs": [],
   "source": [
    "Base.isless(lhs::Int, rhs::Vector) = isless([lhs], rhs)\n",
    "Base.isless(lhs::Vector, rhs::Int) = isless(lhs, [rhs])"
   ]
  },
  {
   "cell_type": "code",
   "execution_count": 4,
   "id": "f57d8261-a515-4eef-9a7e-987bb5510ad1",
   "metadata": {},
   "outputs": [
    {
     "data": {
      "text/plain": [
       "true"
      ]
     },
     "execution_count": 4,
     "metadata": {},
     "output_type": "execute_result"
    }
   ],
   "source": [
    "[[1], [2, 3, 4]] < [[1], 4]"
   ]
  },
  {
   "cell_type": "code",
   "execution_count": 5,
   "id": "f49631c5-2277-4d39-8608-62a680db56e1",
   "metadata": {},
   "outputs": [
    {
     "data": {
      "text/plain": [
       "false"
      ]
     },
     "execution_count": 5,
     "metadata": {},
     "output_type": "execute_result"
    }
   ],
   "source": [
    "[[[1]], 2] < [[1], 3]"
   ]
  },
  {
   "cell_type": "code",
   "execution_count": null,
   "id": "1c2e5248-6b6c-4b80-bdc9-639b8574171f",
   "metadata": {},
   "outputs": [],
   "source": []
  },
  {
   "cell_type": "code",
   "execution_count": null,
   "id": "87071547-d7fd-4c3d-b1c8-6ec4fcccbb93",
   "metadata": {},
   "outputs": [],
   "source": []
  },
  {
   "cell_type": "code",
   "execution_count": 6,
   "id": "1d64b106-34a6-4c10-8b6b-459d0e454cd6",
   "metadata": {},
   "outputs": [],
   "source": [
    "Base.isequal(lhs::Int, rhs::Vector) = isequal([lhs], rhs)\n",
    "Base.isequal(lhs::Vector, rhs::Int) = isequal(lhs, [rhs])"
   ]
  },
  {
   "cell_type": "code",
   "execution_count": 7,
   "id": "4034b17c-002e-4282-acc0-3fca791b5af0",
   "metadata": {},
   "outputs": [
    {
     "data": {
      "text/plain": [
       "true"
      ]
     },
     "execution_count": 7,
     "metadata": {},
     "output_type": "execute_result"
    }
   ],
   "source": [
    "[[[1]], 2] < [[1], 3]"
   ]
  },
  {
   "cell_type": "code",
   "execution_count": null,
   "id": "b56bb843-20b8-4792-b3f0-a3529114cad5",
   "metadata": {},
   "outputs": [],
   "source": []
  },
  {
   "cell_type": "code",
   "execution_count": null,
   "id": "0d1de2fd-6975-4d04-a634-7d3d77742132",
   "metadata": {},
   "outputs": [],
   "source": [
    "isless([[1], [4, 2, 3, 4]], [[1], 4])"
   ]
  },
  {
   "cell_type": "code",
   "execution_count": null,
   "id": "7b39ed78-5567-48a2-9c5f-9a794e99146a",
   "metadata": {},
   "outputs": [],
   "source": [
    "isless([[1], [2, 3, 4]], [[1], 4])"
   ]
  },
  {
   "cell_type": "code",
   "execution_count": null,
   "id": "ed1ab79f-5ad3-45fc-aa57-388950c26be5",
   "metadata": {},
   "outputs": [],
   "source": [
    "isequal([[1]], [1])"
   ]
  },
  {
   "cell_type": "code",
   "execution_count": null,
   "id": "dce48485-f9fb-4860-a83f-e8a1d3e0db63",
   "metadata": {},
   "outputs": [],
   "source": []
  },
  {
   "cell_type": "code",
   "execution_count": 43,
   "id": "ed46c532-da38-4150-aff6-cc90d60ee810",
   "metadata": {},
   "outputs": [
    {
     "name": "stdout",
     "output_type": "stream",
     "text": [
      "v1 = [[[1, 1, 3, 1, 1], [1, 1, 5, 1, 1]], [[[1], [2, 3, 4]], [[1], 4]], [[9], [[8, 7, 6]]], [[[4, 4], 4, 4], [[4, 4], 4, 4, 4]], [[7, 7, 7, 7], [7, 7, 7]], [[], [3]], [[[[]]], [[]]], [[1, [2, [3, [4, [5, 6, 7]]]], 8, 9], [1, [2, [3, [4, [5, 6, 0]]]], 8, 9]]]\n"
     ]
    }
   ],
   "source": [
    "v1 = [\n",
    "    [\n",
    "        [1,1,3,1,1],\n",
    "        [1,1,5,1,1],\n",
    "    ],\n",
    "    [\n",
    "        [[1],[2,3,4]],\n",
    "        [[1],4],\n",
    "    ],\n",
    "    [\n",
    "        [9],\n",
    "        [[8,7,6]],\n",
    "    ],\n",
    "    [\n",
    "\n",
    "        [[4,4],4,4],\n",
    "        [[4,4],4,4,4],\n",
    "    ],\n",
    "    [\n",
    "\n",
    "        [7,7,7,7],\n",
    "        [7,7,7],\n",
    "    ],\n",
    "    [\n",
    "\n",
    "        [],\n",
    "        [3],\n",
    "    ],\n",
    "    [\n",
    "        [[[]]],\n",
    "        [[]],\n",
    "    ],\n",
    "    [\n",
    "        [1,[2,[3,[4,[5,6,7]]]],8,9],\n",
    "        [1,[2,[3,[4,[5,6,0]]]],8,9],\n",
    "    ]\n",
    "]\n",
    "\n",
    "println(\"v1 = $v1\")"
   ]
  },
  {
   "cell_type": "code",
   "execution_count": 44,
   "id": "cdf1dbb0-a0a6-432c-9b0a-731adac2008e",
   "metadata": {},
   "outputs": [
    {
     "data": {
      "text/plain": [
       "[true, true, false, true, false, true, false, false]"
      ]
     },
     "execution_count": 44,
     "metadata": {},
     "output_type": "execute_result"
    }
   ],
   "source": [
    "v2 = [lhs < rhs for (lhs, rhs) in v1]"
   ]
  },
  {
   "cell_type": "code",
   "execution_count": 45,
   "id": "3bcc8a44-6e90-459a-a43e-f6b54d78bbc4",
   "metadata": {},
   "outputs": [
    {
     "data": {
      "text/plain": [
       "[(1, true), (2, true), (3, false), (4, true), (5, false), (6, true), (7, false), (8, false)]"
      ]
     },
     "execution_count": 45,
     "metadata": {},
     "output_type": "execute_result"
    }
   ],
   "source": [
    "v3 = enumerate(v2) |> collect"
   ]
  },
  {
   "cell_type": "code",
   "execution_count": 46,
   "id": "78f9c56f-b13b-4222-b7f0-8a24e19e1605",
   "metadata": {},
   "outputs": [
    {
     "data": {
      "text/plain": [
       "[1, 2, 0, 4, 0, 6, 0, 0]"
      ]
     },
     "execution_count": 46,
     "metadata": {},
     "output_type": "execute_result"
    }
   ],
   "source": [
    "v4 = prod.(v3)"
   ]
  },
  {
   "cell_type": "code",
   "execution_count": 47,
   "id": "62a668fc-cad9-4799-92ed-bd7f89dd7594",
   "metadata": {},
   "outputs": [
    {
     "data": {
      "text/plain": [
       "13"
      ]
     },
     "execution_count": 47,
     "metadata": {},
     "output_type": "execute_result"
    }
   ],
   "source": [
    "sum(v4)"
   ]
  },
  {
   "cell_type": "code",
   "execution_count": null,
   "id": "ceaac958-36f1-419d-94f8-efde8a473246",
   "metadata": {},
   "outputs": [],
   "source": []
  },
  {
   "cell_type": "code",
   "execution_count": 55,
   "id": "afcc0433-74c2-4390-98a4-65f16432617a",
   "metadata": {},
   "outputs": [],
   "source": [
    "v5 = Iterators.flatten(v1) |> collect;"
   ]
  },
  {
   "cell_type": "code",
   "execution_count": 54,
   "id": "1ff6d11f-da20-484b-9bb8-99ec4c441927",
   "metadata": {},
   "outputs": [],
   "source": [
    "dividers = [[[2]], [[6]]];"
   ]
  },
  {
   "cell_type": "code",
   "execution_count": 56,
   "id": "bf469b0c-6cfc-4675-a78f-a1575a321e40",
   "metadata": {},
   "outputs": [
    {
     "data": {
      "text/plain": [
       "[[1, 1, 3, 1, 1], [1, 1, 5, 1, 1], [[1], [2, 3, 4]], [[1], 4], [9], [[8, 7, 6]], [[4, 4], 4, 4], [[4, 4], 4, 4, 4], [7, 7, 7, 7], [7, 7, 7], [], [3], [[[]]], [[]], [1, [2, [3, [4, [5, 6, 7]]]], 8, 9], [1, [2, [3, [4, [5, 6, 0]]]], 8, 9], [[2]], [[6]]]"
      ]
     },
     "execution_count": 56,
     "metadata": {},
     "output_type": "execute_result"
    }
   ],
   "source": [
    "append!(v5, dividers)"
   ]
  },
  {
   "cell_type": "code",
   "execution_count": 57,
   "id": "44231bde-4bf7-4829-b59e-2a1fccacd596",
   "metadata": {},
   "outputs": [
    {
     "data": {
      "text/plain": [
       "[[], [[]], [[[]]], [1, 1, 3, 1, 1], [1, 1, 5, 1, 1], [[1], [2, 3, 4]], [1, [2, [3, [4, [5, 6, 0]]]], 8, 9], [1, [2, [3, [4, [5, 6, 7]]]], 8, 9], [[1], 4], [[2]], [3], [[4, 4], 4, 4], [[4, 4], 4, 4, 4], [[6]], [7, 7, 7], [7, 7, 7, 7], [[8, 7, 6]], [9]]"
      ]
     },
     "execution_count": 57,
     "metadata": {},
     "output_type": "execute_result"
    }
   ],
   "source": [
    "sort!(v5)"
   ]
  },
  {
   "cell_type": "code",
   "execution_count": 59,
   "id": "9e1b8973-22a7-42d9-97ab-172f932c21cd",
   "metadata": {},
   "outputs": [
    {
     "data": {
      "text/plain": [
       "[10, 14]"
      ]
     },
     "execution_count": 59,
     "metadata": {},
     "output_type": "execute_result"
    }
   ],
   "source": [
    "indexin(dividers, v5)"
   ]
  },
  {
   "cell_type": "code",
   "execution_count": null,
   "id": "231265c8-6b23-497f-90e5-1c5172b99560",
   "metadata": {},
   "outputs": [],
   "source": []
  },
  {
   "cell_type": "code",
   "execution_count": null,
   "id": "0e9591e5-1ec2-4a03-9f85-7eef1c6ac886",
   "metadata": {},
   "outputs": [],
   "source": []
  },
  {
   "cell_type": "code",
   "execution_count": null,
   "id": "b51fb4c2-56be-4dce-bf72-230c9346fe7e",
   "metadata": {},
   "outputs": [],
   "source": []
  }
 ],
 "metadata": {
  "kernelspec": {
   "display_name": "Julia 1.8.5",
   "language": "julia",
   "name": "julia-1.8"
  },
  "language_info": {
   "file_extension": ".jl",
   "mimetype": "application/x-julia",
   "name": "julia",
   "version": "1.8.5"
  }
 },
 "nbformat": 4,
 "nbformat_minor": 5
}
