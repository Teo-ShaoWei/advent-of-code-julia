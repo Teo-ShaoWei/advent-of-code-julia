{
 "cells": [
  {
   "cell_type": "markdown",
   "metadata": {},
   "source": [
    "# Advent of Code 2021 Day 5\n",
    "[link](https://adventofcode.com/2021/day/5)"
   ]
  },
  {
   "cell_type": "markdown",
   "metadata": {
    "toc": true
   },
   "source": [
    "<h1>Table of Contents<span class=\"tocSkip\"></span></h1>\n",
    "<div class=\"toc\"><ul class=\"toc-item\"><li><span><a href=\"#include-code-file-using-Revise\" data-toc-modified-id=\"include-code-file-using-Revise-1\"><span class=\"toc-item-num\">1&nbsp;&nbsp;</span>include code file using Revise</a></span></li><li><span><a href=\"#read-input\" data-toc-modified-id=\"read-input-2\"><span class=\"toc-item-num\">2&nbsp;&nbsp;</span>read input</a></span></li><li><span><a href=\"#part-1\" data-toc-modified-id=\"part-1-3\"><span class=\"toc-item-num\">3&nbsp;&nbsp;</span>part 1</a></span><ul class=\"toc-item\"><li><span><a href=\"#answer\" data-toc-modified-id=\"answer-3.1\"><span class=\"toc-item-num\">3.1&nbsp;&nbsp;</span>answer</a></span></li></ul></li><li><span><a href=\"#part-2\" data-toc-modified-id=\"part-2-4\"><span class=\"toc-item-num\">4&nbsp;&nbsp;</span>part 2</a></span><ul class=\"toc-item\"><li><span><a href=\"#answer\" data-toc-modified-id=\"answer-4.1\"><span class=\"toc-item-num\">4.1&nbsp;&nbsp;</span>answer</a></span></li></ul></li></ul></div>"
   ]
  },
  {
   "cell_type": "markdown",
   "metadata": {},
   "source": [
    "## include code file using Revise"
   ]
  },
  {
   "cell_type": "code",
   "execution_count": 1,
   "metadata": {
    "ExecuteTime": {
     "end_time": "2021-12-25T21:33:33.237000+08:00",
     "start_time": "2021-12-25T13:33:24.587Z"
    }
   },
   "outputs": [],
   "source": [
    "using Revise"
   ]
  },
  {
   "cell_type": "code",
   "execution_count": 2,
   "metadata": {
    "ExecuteTime": {
     "end_time": "2021-12-25T21:33:38.605000+08:00",
     "start_time": "2021-12-25T13:33:24.705Z"
    },
    "scrolled": true
   },
   "outputs": [],
   "source": [
    "includet(\"functions.jl\")"
   ]
  },
  {
   "cell_type": "markdown",
   "metadata": {},
   "source": [
    "## read input"
   ]
  },
  {
   "cell_type": "code",
   "execution_count": 3,
   "metadata": {
    "ExecuteTime": {
     "end_time": "2021-12-13T00:34:40.740000+08:00",
     "start_time": "2021-12-12T16:34:33.550Z"
    },
    "scrolled": true
   },
   "outputs": [
    {
     "data": {
      "text/plain": [
       "10-element Vector{Pair{CartesianIndex{2}, CartesianIndex{2}}}:\n",
       " CartesianIndex(0, 9) => CartesianIndex(5, 9)\n",
       " CartesianIndex(8, 0) => CartesianIndex(0, 8)\n",
       " CartesianIndex(9, 4) => CartesianIndex(3, 4)\n",
       " CartesianIndex(2, 2) => CartesianIndex(2, 1)\n",
       " CartesianIndex(7, 0) => CartesianIndex(7, 4)\n",
       " CartesianIndex(6, 4) => CartesianIndex(2, 0)\n",
       " CartesianIndex(0, 9) => CartesianIndex(2, 9)\n",
       " CartesianIndex(3, 4) => CartesianIndex(1, 4)\n",
       " CartesianIndex(0, 0) => CartesianIndex(8, 8)\n",
       " CartesianIndex(5, 5) => CartesianIndex(8, 2)"
      ]
     },
     "execution_count": 3,
     "metadata": {},
     "output_type": "execute_result"
    }
   ],
   "source": [
    "PDS1 = parse_input(\"sample1.txt\")"
   ]
  },
  {
   "cell_type": "code",
   "execution_count": 4,
   "metadata": {
    "ExecuteTime": {
     "end_time": "2021-12-13T00:34:40.757000+08:00",
     "start_time": "2021-12-12T16:34:33.552Z"
    },
    "scrolled": true
   },
   "outputs": [
    {
     "data": {
      "text/plain": [
       "500-element Vector{Pair{CartesianIndex{2}, CartesianIndex{2}}}:\n",
       " CartesianIndex(348, 742) => CartesianIndex(620, 742)\n",
       " CartesianIndex(494, 864) => CartesianIndex(494, 484)\n",
       " CartesianIndex(193, 136) => CartesianIndex(301, 136)\n",
       " CartesianIndex(342, 692) => CartesianIndex(342, 538)\n",
       " CartesianIndex(234, 525) => CartesianIndex(102, 393)\n",
       "  CartesianIndex(72, 964) => CartesianIndex(847, 189)\n",
       " CartesianIndex(639, 430) => CartesianIndex(99, 970)\n",
       " CartesianIndex(398, 791) => CartesianIndex(398, 187)\n",
       " CartesianIndex(181, 144) => CartesianIndex(205, 168)\n",
       " CartesianIndex(607, 617) => CartesianIndex(416, 617)\n",
       "  CartesianIndex(98, 339) => CartesianIndex(98, 437)\n",
       " CartesianIndex(763, 119) => CartesianIndex(176, 119)\n",
       " CartesianIndex(450, 848) => CartesianIndex(450, 664)\n",
       "                          ⋮\n",
       "  CartesianIndex(32, 312) => CartesianIndex(833, 312)\n",
       "  CartesianIndex(42, 309) => CartesianIndex(42, 752)\n",
       "  CartesianIndex(332, 74) => CartesianIndex(736, 74)\n",
       " CartesianIndex(699, 209) => CartesianIndex(495, 209)\n",
       " CartesianIndex(297, 113) => CartesianIndex(297, 827)\n",
       " CartesianIndex(515, 973) => CartesianIndex(515, 35)\n",
       " CartesianIndex(774, 951) => CartesianIndex(774, 290)\n",
       " CartesianIndex(471, 921) => CartesianIndex(919, 921)\n",
       " CartesianIndex(297, 282) => CartesianIndex(297, 524)\n",
       " CartesianIndex(477, 825) => CartesianIndex(477, 343)\n",
       " CartesianIndex(220, 665) => CartesianIndex(351, 796)\n",
       " CartesianIndex(483, 128) => CartesianIndex(376, 128)"
      ]
     },
     "execution_count": 4,
     "metadata": {},
     "output_type": "execute_result"
    }
   ],
   "source": [
    "PDI = parse_input(\"input.txt\")"
   ]
  },
  {
   "cell_type": "markdown",
   "metadata": {},
   "source": [
    "## part 1"
   ]
  },
  {
   "cell_type": "code",
   "execution_count": 5,
   "metadata": {
    "ExecuteTime": {
     "end_time": "2021-12-13T00:34:41.330000+08:00",
     "start_time": "2021-12-12T16:34:33.619Z"
    }
   },
   "outputs": [
    {
     "data": {
      "text/plain": [
       "10×10 OffsetArray(::Matrix{Int64}, 0:9, 0:9) with eltype Int64 with indices 0:9×0:9:\n",
       " 0  0  0  0  0  0  0  0  0  0\n",
       " 0  0  0  0  0  0  0  0  0  0\n",
       " 0  0  0  0  0  0  0  0  0  0\n",
       " 0  0  0  0  0  0  0  0  0  0\n",
       " 0  0  0  0  0  0  0  0  0  0\n",
       " 0  0  0  0  0  0  0  0  0  0\n",
       " 0  0  0  0  0  0  0  0  0  0\n",
       " 0  0  0  0  0  0  0  0  0  0\n",
       " 0  0  0  0  0  0  0  0  0  0\n",
       " 0  0  0  0  0  0  0  0  0  0"
      ]
     },
     "execution_count": 5,
     "metadata": {},
     "output_type": "execute_result"
    }
   ],
   "source": [
    "init_area(PDS1)"
   ]
  },
  {
   "cell_type": "code",
   "execution_count": 6,
   "metadata": {
    "ExecuteTime": {
     "end_time": "2021-12-13T00:34:41.558000+08:00",
     "start_time": "2021-12-12T16:34:33.621Z"
    }
   },
   "outputs": [
    {
     "data": {
      "text/plain": [
       "true"
      ]
     },
     "execution_count": 6,
     "metadata": {},
     "output_type": "execute_result"
    }
   ],
   "source": [
    "is_straight(PDS1[1])"
   ]
  },
  {
   "cell_type": "code",
   "execution_count": 7,
   "metadata": {
    "ExecuteTime": {
     "end_time": "2021-12-13T00:34:41.571000+08:00",
     "start_time": "2021-12-12T16:34:33.623Z"
    }
   },
   "outputs": [
    {
     "data": {
      "text/plain": [
       "false"
      ]
     },
     "execution_count": 7,
     "metadata": {},
     "output_type": "execute_result"
    }
   ],
   "source": [
    "is_straight(PDS1[2])"
   ]
  },
  {
   "cell_type": "code",
   "execution_count": 8,
   "metadata": {
    "ExecuteTime": {
     "end_time": "2021-12-13T00:34:41.889000+08:00",
     "start_time": "2021-12-12T16:34:33.625Z"
    }
   },
   "outputs": [
    {
     "data": {
      "text/plain": [
       "10×10 OffsetArray(::Matrix{Int64}, 0:9, 0:9) with eltype Int64 with indices 0:9×0:9:\n",
       " 0  0  0  0  0  0  0  0  0  1\n",
       " 0  0  0  0  0  0  0  0  0  1\n",
       " 0  0  0  0  0  0  0  0  0  1\n",
       " 0  0  0  0  0  0  0  0  0  1\n",
       " 0  0  0  0  0  0  0  0  0  1\n",
       " 0  0  0  0  0  0  0  0  0  1\n",
       " 0  0  0  0  0  0  0  0  0  0\n",
       " 0  0  0  0  0  0  0  0  0  0\n",
       " 0  0  0  0  0  0  0  0  0  0\n",
       " 0  0  0  0  0  0  0  0  0  0"
      ]
     },
     "execution_count": 8,
     "metadata": {},
     "output_type": "execute_result"
    }
   ],
   "source": [
    "draw_straight_vents(init_area(PDS1), PDS1[1])"
   ]
  },
  {
   "cell_type": "markdown",
   "metadata": {},
   "source": [
    "### answer"
   ]
  },
  {
   "cell_type": "code",
   "execution_count": 9,
   "metadata": {
    "ExecuteTime": {
     "end_time": "2021-12-13T00:34:42.132000+08:00",
     "start_time": "2021-12-12T16:34:33.682Z"
    }
   },
   "outputs": [
    {
     "name": "stdout",
     "output_type": "stream",
     "text": [
      "  0.152269 seconds (245.64 k allocations: 36.134 MiB, 5.42% gc time, 84.53% compilation time)\n"
     ]
    },
    {
     "name": "stderr",
     "output_type": "stream",
     "text": [
      "┌ Info: part 1 answer\n",
      "│   result1(PDS1) = 5\n",
      "│   result1(PDI) = 4826\n",
      "└ @ Main In[9]:1\n"
     ]
    }
   ],
   "source": [
    "@time @info(\n",
    "    \"part 1 answer\",\n",
    "    result1(PDS1),\n",
    "    result1(PDI),\n",
    ")"
   ]
  },
  {
   "cell_type": "markdown",
   "metadata": {},
   "source": [
    "## part 2"
   ]
  },
  {
   "cell_type": "code",
   "execution_count": 10,
   "metadata": {
    "ExecuteTime": {
     "end_time": "2021-12-13T00:34:42.508000+08:00",
     "start_time": "2021-12-12T16:34:33.738Z"
    }
   },
   "outputs": [
    {
     "data": {
      "text/plain": [
       "10×10 OffsetArray(::Matrix{Int64}, 0:9, 0:9) with eltype Int64 with indices 0:9×0:9:\n",
       " 0  0  0  0  0  0  0  0  1  0\n",
       " 0  0  0  0  0  0  0  1  0  0\n",
       " 0  0  0  0  0  0  1  0  0  0\n",
       " 0  0  0  0  0  1  0  0  0  0\n",
       " 0  0  0  0  1  0  0  0  0  0\n",
       " 0  0  0  1  0  0  0  0  0  0\n",
       " 0  0  1  0  0  0  0  0  0  0\n",
       " 0  1  0  0  0  0  0  0  0  0\n",
       " 1  0  0  0  0  0  0  0  0  0\n",
       " 0  0  0  0  0  0  0  0  0  0"
      ]
     },
     "execution_count": 10,
     "metadata": {},
     "output_type": "execute_result"
    }
   ],
   "source": [
    "draw_diagonal_vents(init_area(PDS1), PDS1[2])"
   ]
  },
  {
   "cell_type": "markdown",
   "metadata": {},
   "source": [
    "### answer"
   ]
  },
  {
   "cell_type": "code",
   "execution_count": 11,
   "metadata": {
    "ExecuteTime": {
     "end_time": "2021-12-13T00:34:42.629000+08:00",
     "start_time": "2021-12-12T16:34:33.788Z"
    }
   },
   "outputs": [
    {
     "name": "stdout",
     "output_type": "stream",
     "text": [
      "  0.069298 seconds (104.98 k allocations: 30.149 MiB, 12.38% gc time, 80.97% compilation time)\n"
     ]
    },
    {
     "name": "stderr",
     "output_type": "stream",
     "text": [
      "┌ Info: part 2 answer\n",
      "│   result2(PDS1) = 12\n",
      "│   result2(PDI) = 16793\n",
      "└ @ Main In[11]:1\n"
     ]
    }
   ],
   "source": [
    "@time @info(\n",
    "    \"part 2 answer\",\n",
    "    result2(PDS1),\n",
    "    result2(PDI),\n",
    "    )"
   ]
  }
 ],
 "metadata": {
  "@webio": {
   "lastCommId": null,
   "lastKernelId": null
  },
  "kernelspec": {
   "display_name": "Julia 1.7.0",
   "language": "julia",
   "name": "julia-1.7"
  },
  "language_info": {
   "file_extension": ".jl",
   "mimetype": "application/julia",
   "name": "julia",
   "version": "1.7.0"
  },
  "latex_envs": {
   "LaTeX_envs_menu_present": true,
   "autoclose": false,
   "autocomplete": true,
   "bibliofile": "biblio.bib",
   "cite_by": "apalike",
   "current_citInitial": 1,
   "eqLabelWithNumbers": true,
   "eqNumInitial": 1,
   "hotkeys": {
    "equation": "Ctrl-E",
    "itemize": "Ctrl-I"
   },
   "labels_anchors": false,
   "latex_user_defs": false,
   "report_style_numbering": false,
   "user_envs_cfg": false
  },
  "toc": {
   "base_numbering": 1,
   "nav_menu": {},
   "number_sections": true,
   "sideBar": true,
   "skip_h1_title": true,
   "title_cell": "Table of Contents",
   "title_sidebar": "Contents",
   "toc_cell": true,
   "toc_position": {},
   "toc_section_display": true,
   "toc_window_display": false
  }
 },
 "nbformat": 4,
 "nbformat_minor": 4
}
