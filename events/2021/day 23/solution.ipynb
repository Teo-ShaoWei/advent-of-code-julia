{
 "cells": [
  {
   "cell_type": "markdown",
   "metadata": {},
   "source": [
    "# Advent of Code 2021 Day 23\n",
    "[link](https://adventofcode.com/2021/day/23)"
   ]
  },
  {
   "cell_type": "markdown",
   "metadata": {
    "toc": true
   },
   "source": [
    "<h1>Table of Contents<span class=\"tocSkip\"></span></h1>\n",
    "<div class=\"toc\"><ul class=\"toc-item\"><li><span><a href=\"#include-code-file-using-Revise\" data-toc-modified-id=\"include-code-file-using-Revise-1\"><span class=\"toc-item-num\">1&nbsp;&nbsp;</span>include code file using Revise</a></span></li><li><span><a href=\"#read-input\" data-toc-modified-id=\"read-input-2\"><span class=\"toc-item-num\">2&nbsp;&nbsp;</span>read input</a></span></li><li><span><a href=\"#part-1\" data-toc-modified-id=\"part-1-3\"><span class=\"toc-item-num\">3&nbsp;&nbsp;</span>part 1</a></span><ul class=\"toc-item\"><li><span><a href=\"#answer\" data-toc-modified-id=\"answer-3.1\"><span class=\"toc-item-num\">3.1&nbsp;&nbsp;</span>answer</a></span></li></ul></li><li><span><a href=\"#part-2\" data-toc-modified-id=\"part-2-4\"><span class=\"toc-item-num\">4&nbsp;&nbsp;</span>part 2</a></span><ul class=\"toc-item\"><li><span><a href=\"#answer\" data-toc-modified-id=\"answer-4.1\"><span class=\"toc-item-num\">4.1&nbsp;&nbsp;</span>answer</a></span></li></ul></li></ul></div>"
   ]
  },
  {
   "cell_type": "markdown",
   "metadata": {},
   "source": [
    "## include code file using Revise"
   ]
  },
  {
   "cell_type": "code",
   "execution_count": 1,
   "metadata": {
    "ExecuteTime": {
     "end_time": "2021-12-25T09:56:45.897000+08:00",
     "start_time": "2021-12-25T01:56:44.858Z"
    }
   },
   "outputs": [],
   "source": [
    "using Revise"
   ]
  },
  {
   "cell_type": "code",
   "execution_count": 2,
   "metadata": {
    "ExecuteTime": {
     "end_time": "2021-12-25T09:56:51.914000+08:00",
     "start_time": "2021-12-25T01:56:45.065Z"
    },
    "scrolled": true
   },
   "outputs": [],
   "source": [
    "includet(\"functions.jl\")"
   ]
  },
  {
   "cell_type": "markdown",
   "metadata": {},
   "source": [
    "## read input"
   ]
  },
  {
   "cell_type": "code",
   "execution_count": 325,
   "metadata": {
    "ExecuteTime": {
     "end_time": "2021-12-25T15:35:11.588000+08:00",
     "start_time": "2021-12-25T07:35:11.574Z"
    },
    "scrolled": false
   },
   "outputs": [
    {
     "data": {
      "text/plain": [
       "(r1 = ('B', 'A'), r2 = ('C', 'D'), r3 = ('B', 'C'), r4 = ('D', 'A'), cl1 = ('.',), cl2 = ('.',), cm1 = ('.',), cm2 = ('.',), cm3 = ('.',), cr1 = ('.',), cr2 = ('.',))"
      ]
     },
     "execution_count": 325,
     "metadata": {},
     "output_type": "execute_result"
    }
   ],
   "source": [
    "PDS1 = parse_input(\"sample1.txt\")"
   ]
  },
  {
   "cell_type": "code",
   "execution_count": 326,
   "metadata": {
    "ExecuteTime": {
     "end_time": "2021-12-25T15:35:11.777000+08:00",
     "start_time": "2021-12-25T07:35:11.761Z"
    },
    "scrolled": false
   },
   "outputs": [
    {
     "data": {
      "text/plain": [
       "(r1 = ('B', 'D', 'D', 'A'), r2 = ('C', 'C', 'B', 'D'), r3 = ('B', 'B', 'A', 'C'), r4 = ('D', 'A', 'C', 'A'), cl1 = ('.',), cl2 = ('.',), cm1 = ('.',), cm2 = ('.',), cm3 = ('.',), cr1 = ('.',), cr2 = ('.',))"
      ]
     },
     "execution_count": 326,
     "metadata": {},
     "output_type": "execute_result"
    }
   ],
   "source": [
    "PDS2 = parse_input(\"sample2.txt\")"
   ]
  },
  {
   "cell_type": "code",
   "execution_count": 327,
   "metadata": {
    "ExecuteTime": {
     "end_time": "2021-12-25T15:35:17.487000+08:00",
     "start_time": "2021-12-25T07:35:17.473Z"
    },
    "scrolled": true
   },
   "outputs": [
    {
     "data": {
      "text/plain": [
       "(r1 = ('C', 'C'), r2 = ('A', 'A'), r3 = ('B', 'D'), r4 = ('D', 'B'), cl1 = ('.',), cl2 = ('.',), cm1 = ('.',), cm2 = ('.',), cm3 = ('.',), cr1 = ('.',), cr2 = ('.',))"
      ]
     },
     "execution_count": 327,
     "metadata": {},
     "output_type": "execute_result"
    }
   ],
   "source": [
    "PDI1 = parse_input(\"input1.txt\")"
   ]
  },
  {
   "cell_type": "code",
   "execution_count": 328,
   "metadata": {
    "ExecuteTime": {
     "end_time": "2021-12-25T15:35:23.495000+08:00",
     "start_time": "2021-12-25T07:35:23.480Z"
    },
    "scrolled": true
   },
   "outputs": [
    {
     "data": {
      "text/plain": [
       "(r1 = ('C', 'D', 'D', 'C'), r2 = ('A', 'C', 'B', 'A'), r3 = ('B', 'B', 'A', 'D'), r4 = ('D', 'A', 'C', 'B'), cl1 = ('.',), cl2 = ('.',), cm1 = ('.',), cm2 = ('.',), cm3 = ('.',), cr1 = ('.',), cr2 = ('.',))"
      ]
     },
     "execution_count": 328,
     "metadata": {},
     "output_type": "execute_result"
    }
   ],
   "source": [
    "PDI2 = parse_input(\"input2.txt\")"
   ]
  },
  {
   "cell_type": "markdown",
   "metadata": {},
   "source": [
    "## part 1"
   ]
  },
  {
   "cell_type": "code",
   "execution_count": 329,
   "metadata": {
    "ExecuteTime": {
     "end_time": "2021-12-25T15:35:29.837000+08:00",
     "start_time": "2021-12-25T07:35:29.823Z"
    }
   },
   "outputs": [
    {
     "data": {
      "text/plain": [
       "60"
      ]
     },
     "execution_count": 329,
     "metadata": {},
     "output_type": "execute_result"
    }
   ],
   "source": [
    "Base.summarysize(PDS1)"
   ]
  },
  {
   "cell_type": "code",
   "execution_count": 347,
   "metadata": {
    "ExecuteTime": {
     "end_time": "2021-12-25T15:39:12.881000+08:00",
     "start_time": "2021-12-25T07:39:12.781Z"
    }
   },
   "outputs": [
    {
     "name": "stdout",
     "output_type": "stream",
     "text": [
      "░░░░░░░░░░░░░\n",
      "░.. . . . ..░\n",
      "░░░B░C░B░D░░░\n",
      "░░░A░D░C░A░░░\n",
      "░░░░░░░░░░░░░\n"
     ]
    }
   ],
   "source": [
    "display_state(PDS1)"
   ]
  },
  {
   "cell_type": "code",
   "execution_count": 348,
   "metadata": {
    "ExecuteTime": {
     "end_time": "2021-12-25T15:39:15.645000+08:00",
     "start_time": "2021-12-25T07:39:15.630Z"
    }
   },
   "outputs": [
    {
     "name": "stdout",
     "output_type": "stream",
     "text": [
      "░░░░░░░░░░░░░\n",
      "░.. . . . ..░\n",
      "░░░A░C░B░D░░░\n",
      "░░░A░D░C░B░░░\n",
      "░░░░░░░░░░░░░\n"
     ]
    }
   ],
   "source": [
    "PDS = pd\"\"\"\n",
    "#############\n",
    "#...........#\n",
    "###A#C#B#D###\n",
    "  #A#D#C#B#\n",
    "  #########\n",
    "\"\"\"\n",
    "\n",
    "display_state(PDS)"
   ]
  },
  {
   "cell_type": "code",
   "execution_count": 332,
   "metadata": {
    "ExecuteTime": {
     "end_time": "2021-12-25T15:35:35.588000+08:00",
     "start_time": "2021-12-25T07:35:35.574Z"
    }
   },
   "outputs": [
    {
     "data": {
      "text/plain": [
       "true"
      ]
     },
     "execution_count": 332,
     "metadata": {},
     "output_type": "execute_result"
    }
   ],
   "source": [
    "PDS = pd\"\"\"\n",
    "#############\n",
    "#...........#\n",
    "###A#C#B#D###\n",
    "  #A#D#C#B#\n",
    "  #########\n",
    "\"\"\"\n",
    "\n",
    "is_empty(PDS, :cr1)"
   ]
  },
  {
   "cell_type": "code",
   "execution_count": 333,
   "metadata": {
    "ExecuteTime": {
     "end_time": "2021-12-25T15:35:35.849000+08:00",
     "start_time": "2021-12-25T07:35:35.835Z"
    }
   },
   "outputs": [
    {
     "data": {
      "text/plain": [
       "true"
      ]
     },
     "execution_count": 333,
     "metadata": {},
     "output_type": "execute_result"
    }
   ],
   "source": [
    "is_room(:r2)"
   ]
  },
  {
   "cell_type": "code",
   "execution_count": 334,
   "metadata": {
    "ExecuteTime": {
     "end_time": "2021-12-25T15:35:36.266000+08:00",
     "start_time": "2021-12-25T07:35:36.251Z"
    }
   },
   "outputs": [
    {
     "data": {
      "text/plain": [
       "true"
      ]
     },
     "execution_count": 334,
     "metadata": {},
     "output_type": "execute_result"
    }
   ],
   "source": [
    "PDS = pd\"\"\"\n",
    "#############\n",
    "#...........#\n",
    "###A#C#B#D###\n",
    "  #A#D#C#B#\n",
    "  #########\n",
    "\"\"\"\n",
    "\n",
    "has_only_occupants(PDS, :r1)"
   ]
  },
  {
   "cell_type": "code",
   "execution_count": 335,
   "metadata": {
    "ExecuteTime": {
     "end_time": "2021-12-25T15:35:36.620000+08:00",
     "start_time": "2021-12-25T07:35:36.606Z"
    }
   },
   "outputs": [
    {
     "data": {
      "text/plain": [
       "C"
      ]
     },
     "execution_count": 335,
     "metadata": {},
     "output_type": "execute_result"
    }
   ],
   "source": [
    "PDS = pd\"\"\"\n",
    "#############\n",
    "#...........#\n",
    "###A#C#B#D###\n",
    "  #A#D#C#B#\n",
    "  #########\n",
    "\"\"\"\n",
    "\n",
    "first_occupant(PDS, :r2)"
   ]
  },
  {
   "cell_type": "code",
   "execution_count": 336,
   "metadata": {
    "ExecuteTime": {
     "end_time": "2021-12-25T15:35:37.033000+08:00",
     "start_time": "2021-12-25T07:35:37.019Z"
    }
   },
   "outputs": [
    {
     "data": {
      "text/plain": [
       "true"
      ]
     },
     "execution_count": 336,
     "metadata": {},
     "output_type": "execute_result"
    }
   ],
   "source": [
    "PDS = pd\"\"\"\n",
    "#############\n",
    "#...........#\n",
    "###A#C#B#D###\n",
    "  #A#D#C#B#\n",
    "  #########\n",
    "\"\"\"\n",
    "\n",
    "is_correct_occupant(PDS, 'B', :r2)"
   ]
  },
  {
   "cell_type": "code",
   "execution_count": 337,
   "metadata": {
    "ExecuteTime": {
     "end_time": "2021-12-25T15:35:37.536000+08:00",
     "start_time": "2021-12-25T07:35:37.523Z"
    },
    "scrolled": true
   },
   "outputs": [
    {
     "data": {
      "text/plain": [
       "(:cm1, :cm2, :cm3, :cr1)"
      ]
     },
     "execution_count": 337,
     "metadata": {},
     "output_type": "execute_result"
    }
   ],
   "source": [
    "get_on_path(:r1, :cr2)"
   ]
  },
  {
   "cell_type": "code",
   "execution_count": 349,
   "metadata": {
    "ExecuteTime": {
     "end_time": "2021-12-25T15:39:23.660000+08:00",
     "start_time": "2021-12-25T07:39:23.644Z"
    }
   },
   "outputs": [
    {
     "name": "stdout",
     "output_type": "stream",
     "text": [
      "░░░░░░░░░░░░░\n",
      "░.. . . . D.░\n",
      "░░░A░C░B░.░░░\n",
      "░░░A░D░C░B░░░\n",
      "░░░░░░░░░░░░░\n"
     ]
    }
   ],
   "source": [
    "PDS = pd\"\"\"\n",
    "#############\n",
    "#.........D.#\n",
    "###A#C#B#.###\n",
    "  #A#D#C#B#\n",
    "  #########\n",
    "\"\"\"\n",
    "display_state(PDS)"
   ]
  },
  {
   "cell_type": "code",
   "execution_count": 339,
   "metadata": {
    "ExecuteTime": {
     "end_time": "2021-12-25T15:35:40.650000+08:00",
     "start_time": "2021-12-25T07:35:40.636Z"
    }
   },
   "outputs": [
    {
     "data": {
      "text/plain": [
       "true"
      ]
     },
     "execution_count": 339,
     "metadata": {},
     "output_type": "execute_result"
    }
   ],
   "source": [
    "PDS = pd\"\"\"\n",
    "#############\n",
    "#.........D.#\n",
    "###A#C#B#.###\n",
    "  #A#D#C#B#\n",
    "  #########\n",
    "\"\"\"\n",
    "\n",
    "is_blocked(PDS, :r1, :cr2)"
   ]
  },
  {
   "cell_type": "code",
   "execution_count": 396,
   "metadata": {
    "ExecuteTime": {
     "end_time": "2021-12-25T16:31:19.944000+08:00",
     "start_time": "2021-12-25T08:31:19.929Z"
    },
    "scrolled": true
   },
   "outputs": [
    {
     "data": {
      "text/plain": [
       "56-element Vector{Tuple{Symbol, Symbol}}:\n",
       " (:r1, :cl1)\n",
       " (:r2, :cl1)\n",
       " (:r3, :cl1)\n",
       " (:r4, :cl1)\n",
       " (:r1, :cl2)\n",
       " (:r2, :cl2)\n",
       " (:r3, :cl2)\n",
       " (:r4, :cl2)\n",
       " (:r1, :cm1)\n",
       " (:r2, :cm1)\n",
       " (:r3, :cm1)\n",
       " (:r4, :cm1)\n",
       " (:r1, :cm2)\n",
       " ⋮\n",
       " (:cm1, :r3)\n",
       " (:cm2, :r3)\n",
       " (:cm3, :r3)\n",
       " (:cr1, :r3)\n",
       " (:cr2, :r3)\n",
       " (:cl1, :r4)\n",
       " (:cl2, :r4)\n",
       " (:cm1, :r4)\n",
       " (:cm2, :r4)\n",
       " (:cm3, :r4)\n",
       " (:cr1, :r4)\n",
       " (:cr2, :r4)"
      ]
     },
     "execution_count": 396,
     "metadata": {},
     "output_type": "execute_result"
    }
   ],
   "source": [
    "get_all_moves() |> collect"
   ]
  },
  {
   "cell_type": "code",
   "execution_count": 341,
   "metadata": {
    "ExecuteTime": {
     "end_time": "2021-12-25T15:35:44.687000+08:00",
     "start_time": "2021-12-25T07:35:44.662Z"
    }
   },
   "outputs": [
    {
     "name": "stdout",
     "output_type": "stream",
     "text": [
      "░░░░░░░░░░░░░\n",
      "░.. . . . ..░\n",
      "░░░.░C░B░D░░░\n",
      "░░░A░D░C░A░░░\n",
      "░░░░░░░░░░░░░\n"
     ]
    }
   ],
   "source": [
    "@chain PDS1 begin\n",
    "    eject_first_pod(:r1)\n",
    "    display_state(_[2])\n",
    "end"
   ]
  },
  {
   "cell_type": "code",
   "execution_count": 342,
   "metadata": {
    "ExecuteTime": {
     "end_time": "2021-12-25T15:35:45.440000+08:00",
     "start_time": "2021-12-25T07:35:45.425Z"
    }
   },
   "outputs": [
    {
     "name": "stdout",
     "output_type": "stream",
     "text": [
      "░░░░░░░░░░░░░\n",
      "░.. . . . ..░\n",
      "░░░A░C░B░.░░░\n",
      "░░░A░D░C░B░░░\n",
      "░░░░░░░░░░░░░\n"
     ]
    }
   ],
   "source": [
    "PDS = pd\"\"\"\n",
    "#############\n",
    "#.........D.#\n",
    "###A#C#B#.###\n",
    "  #A#D#C#B#\n",
    "  #########\n",
    "\"\"\"\n",
    "@chain PDS begin\n",
    "    eject_first_pod(:cr1)\n",
    "    display_state(_[2])\n",
    "end"
   ]
  },
  {
   "cell_type": "code",
   "execution_count": 343,
   "metadata": {
    "ExecuteTime": {
     "end_time": "2021-12-25T15:35:50.041000+08:00",
     "start_time": "2021-12-25T07:35:50.025Z"
    }
   },
   "outputs": [
    {
     "name": "stdout",
     "output_type": "stream",
     "text": [
      "░░░░░░░░░░░░░\n",
      "░B. . . . D.░\n",
      "░░░A░C░.░.░░░\n",
      "░░░A░D░C░B░░░\n",
      "░░░░░░░░░░░░░\n"
     ]
    }
   ],
   "source": [
    "PDS = pd\"\"\"\n",
    "#############\n",
    "#.........D.#\n",
    "###A#C#.#.###\n",
    "  #A#D#C#B#\n",
    "  #########\n",
    "\"\"\"\n",
    "@chain PDS begin\n",
    "    insert_pod(:cl1, 'B')\n",
    "    display_state(_[1])\n",
    "end"
   ]
  },
  {
   "cell_type": "code",
   "execution_count": 344,
   "metadata": {
    "ExecuteTime": {
     "end_time": "2021-12-25T15:35:52.140000+08:00",
     "start_time": "2021-12-25T07:35:52.124Z"
    }
   },
   "outputs": [
    {
     "name": "stdout",
     "output_type": "stream",
     "text": [
      "var\"##811\"[2] = 4000\n",
      "░░░░░░░░░░░░░\n",
      "░.. . . . ..░\n",
      "░░░A░C░D░.░░░\n",
      "░░░A░D░C░B░░░\n",
      "░░░░░░░░░░░░░\n"
     ]
    }
   ],
   "source": [
    "PDS = pd\"\"\"\n",
    "#############\n",
    "#.........D.#\n",
    "###A#C#.#.###\n",
    "  #A#D#C#B#\n",
    "  #########\n",
    "\"\"\"\n",
    "@chain PDS begin\n",
    "    make_move(:cr1, :r3)\n",
    "    @aside @show _[2]\n",
    "    display_state(_[1])\n",
    "end"
   ]
  },
  {
   "cell_type": "code",
   "execution_count": 345,
   "metadata": {
    "ExecuteTime": {
     "end_time": "2021-12-25T15:35:55.302000+08:00",
     "start_time": "2021-12-25T07:35:55.288Z"
    }
   },
   "outputs": [
    {
     "data": {
      "text/plain": [
       "10"
      ]
     },
     "execution_count": 345,
     "metadata": {},
     "output_type": "execute_result"
    }
   ],
   "source": [
    "PDS = pd\"\"\"\n",
    "#############\n",
    "#.........D.#\n",
    "###A#C#B#.###\n",
    "  #A#D#C#B#\n",
    "  #########\n",
    "\"\"\"\n",
    "get_min_energy_units_to_spend(PDS, 'D', :r4)"
   ]
  },
  {
   "cell_type": "code",
   "execution_count": 346,
   "metadata": {
    "ExecuteTime": {
     "end_time": "2021-12-25T15:35:58.289000+08:00",
     "start_time": "2021-12-25T07:35:58.275Z"
    }
   },
   "outputs": [
    {
     "data": {
      "text/plain": [
       "8499"
      ]
     },
     "execution_count": 346,
     "metadata": {},
     "output_type": "execute_result"
    }
   ],
   "source": [
    "get_min_energy_to_spend(PDS1)"
   ]
  },
  {
   "cell_type": "code",
   "execution_count": 353,
   "metadata": {
    "ExecuteTime": {
     "end_time": "2021-12-25T15:42:41.013000+08:00",
     "start_time": "2021-12-25T07:42:40.999Z"
    }
   },
   "outputs": [
    {
     "data": {
      "text/plain": [
       "true"
      ]
     },
     "execution_count": 353,
     "metadata": {},
     "output_type": "execute_result"
    }
   ],
   "source": [
    "PDS = pd\"\"\"\n",
    "#############\n",
    "#...........#\n",
    "###A#B#C#D###\n",
    "  #A#B#C#D#\n",
    "  #########\n",
    "\"\"\"\n",
    "is_done(PDS)"
   ]
  },
  {
   "cell_type": "code",
   "execution_count": 372,
   "metadata": {
    "ExecuteTime": {
     "end_time": "2021-12-25T15:57:07.846000+08:00",
     "start_time": "2021-12-25T07:56:58.581Z"
    },
    "scrolled": false
   },
   "outputs": [
    {
     "name": "stdout",
     "output_type": "stream",
     "text": [
      "get_min_energy_to_spend(var\"##828\") = 5489\n",
      "░░░░░░░░░░░░░\n",
      "░.B B D . CA░\n",
      "░░░.░.░.░D░░░\n",
      "░░░.░.░C░A░░░\n",
      "░░░░░░░░░░░░░\n"
     ]
    }
   ],
   "source": [
    "@chain PDS1 begin\n",
    "    result1\n",
    "    @aside @show get_min_energy_to_spend(_)\n",
    "    display_state\n",
    "end"
   ]
  },
  {
   "cell_type": "code",
   "execution_count": 409,
   "metadata": {
    "ExecuteTime": {
     "end_time": "2021-12-25T16:48:10.061000+08:00",
     "start_time": "2021-12-25T08:47:37.346Z"
    },
    "scrolled": false
   },
   "outputs": [
    {
     "name": "stdout",
     "output_type": "stream",
     "text": [
      "src = :cr1\n",
      "dst = :r4\n",
      "is_empty(state, src) = false\n",
      "has_space(state, dst) = false\n",
      "is_room(src) = false\n",
      "is_room(dst) = true\n",
      "has_only_occupants(state, dst) = false\n",
      "is_correct_occupant(state, src, dst) = false\n",
      "var\"##906\"[2] = 11536\n",
      "var\"##906\"[2] + get_min_energy_to_spend(var\"##906\"[1]) = 11536\n",
      "░░░░░░░░░░░░░\n",
      "░.. . . . ..░\n",
      "░░░A░B░C░D░░░\n",
      "░░░A░B░C░D░░░\n",
      "░░░░░░░░░░░░░\n"
     ]
    }
   ],
   "source": [
    "@chain PDI1 begin\n",
    "    result1\n",
    "    @aside @show _[2]\n",
    "    @aside @show _[2] + get_min_energy_to_spend(_[1])\n",
    "    display_state(_[1])\n",
    "end"
   ]
  },
  {
   "cell_type": "code",
   "execution_count": 413,
   "metadata": {
    "ExecuteTime": {
     "end_time": "2021-12-25T16:58:26.995000+08:00",
     "start_time": "2021-12-25T08:53:52.998Z"
    },
    "scrolled": false
   },
   "outputs": [
    {
     "name": "stdout",
     "output_type": "stream",
     "text": [
      "i = 10000\n",
      "░░░░░░░░░░░░░\n",
      "░AC A B B BA░\n",
      "░░░C░.░.░D░░░\n",
      "░░░D░.░.░A░░░\n",
      "░░░D░.░.░C░░░\n",
      "░░░C░.░D░B░░░\n",
      "░░░░░░░░░░░░░\n",
      "energy_spent = 631\n",
      "min_energy_to_spend = 36230\n",
      "i = 20000\n",
      "░░░░░░░░░░░░░\n",
      "░BA . D . B.░\n",
      "░░░C░A░.░D░░░\n",
      "░░░D░C░.░A░░░\n",
      "░░░D░B░.░C░░░\n",
      "░░░C░A░.░B░░░\n",
      "░░░░░░░░░░░░░\n",
      "energy_spent = 5128\n",
      "min_energy_to_spend = 37596\n",
      "i = 30000\n",
      "░░░░░░░░░░░░░\n",
      "░BA . C D DB░\n",
      "░░░.░A░.░.░░░\n",
      "░░░D░C░.░A░░░\n",
      "░░░D░B░.░C░░░\n",
      "░░░C░A░.░B░░░\n",
      "░░░░░░░░░░░░░\n",
      "energy_spent = 7538\n",
      "min_energy_to_spend = 39616\n",
      "i = 40000\n",
      "░░░░░░░░░░░░░\n",
      "░.C A . A DB░\n",
      "░░░C░.░.░.░░░\n",
      "░░░D░.░B░A░░░\n",
      "░░░D░.░A░C░░░\n",
      "░░░C░B░D░B░░░\n",
      "░░░░░░░░░░░░░\n",
      "energy_spent = 2649\n",
      "min_energy_to_spend = 40220\n",
      "i = 50000\n",
      "░░░░░░░░░░░░░\n",
      "░.. B . A .D░\n",
      "░░░C░.░.░.░░░\n",
      "░░░D░C░B░A░░░\n",
      "░░░D░B░A░C░░░\n",
      "░░░C░A░D░B░░░\n",
      "░░░░░░░░░░░░░\n",
      "energy_spent = 3044\n",
      "min_energy_to_spend = 41480\n",
      "i = 60000\n",
      "░░░░░░░░░░░░░\n",
      "░AB D . A CD░\n",
      "░░░.░.░.░.░░░\n",
      "░░░.░C░B░.░░░\n",
      "░░░D░B░A░C░░░\n",
      "░░░C░A░D░B░░░\n",
      "░░░░░░░░░░░░░\n",
      "energy_spent = 6868\n",
      "min_energy_to_spend = 42118\n",
      "i = 70000\n",
      "░░░░░░░░░░░░░\n",
      "░CD C B D .D░\n",
      "░░░.░A░.░.░░░\n",
      "░░░.░C░B░A░░░\n",
      "░░░.░B░A░C░░░\n",
      "░░░.░A░D░B░░░\n",
      "░░░░░░░░░░░░░\n",
      "energy_spent = 14820\n",
      "min_energy_to_spend = 43854\n",
      "i = 80000\n",
      "░░░░░░░░░░░░░\n",
      "░DC . D A CD░\n",
      "░░░.░.░B░.░░░\n",
      "░░░.░.░B░A░░░\n",
      "░░░.░B░A░C░░░\n",
      "░░░C░A░D░B░░░\n",
      "░░░░░░░░░░░░░\n",
      "energy_spent = 14304\n",
      "min_energy_to_spend = 46660\n",
      "i = 90000\n",
      "░░░░░░░░░░░░░\n",
      "░BD D C . BA░\n",
      "░░░.░A░.░.░░░\n",
      "░░░.░C░.░.░░░\n",
      "░░░D░B░A░C░░░\n",
      "░░░C░A░D░B░░░\n",
      "░░░░░░░░░░░░░\n",
      "energy_spent = 11524\n",
      "min_energy_to_spend = 51598\n",
      "i = 100000\n",
      "░░░░░░░░░░░░░\n",
      "░DB C . . AB░\n",
      "░░░.░A░.░.░░░\n",
      "░░░D░C░.░.░░░\n",
      "░░░D░B░A░C░░░\n",
      "░░░C░A░D░B░░░\n",
      "░░░░░░░░░░░░░\n",
      "energy_spent = 9323\n",
      "min_energy_to_spend = 53596\n",
      "i = 110000\n",
      "░░░░░░░░░░░░░\n",
      "░DC B B A AC░\n",
      "░░░.░.░.░.░░░\n",
      "░░░D░.░B░.░░░\n",
      "░░░D░.░A░C░░░\n",
      "░░░C░A░D░B░░░\n",
      "░░░░░░░░░░░░░\n",
      "energy_spent = 10467\n",
      "min_energy_to_spend = 54942\n",
      "i = 110162\n",
      "var\"##918\"[2] = 55136\n",
      "var\"##918\"[2] + get_min_energy_to_spend(var\"##918\"[1]) = 55136\n",
      "░░░░░░░░░░░░░\n",
      "░.. . . . ..░\n",
      "░░░A░B░C░D░░░\n",
      "░░░A░B░C░D░░░\n",
      "░░░A░B░C░D░░░\n",
      "░░░A░B░C░D░░░\n",
      "░░░░░░░░░░░░░\n"
     ]
    }
   ],
   "source": [
    "@chain PDI2 begin\n",
    "    result1\n",
    "    @aside @show _[2]\n",
    "    @aside @show _[2] + get_min_energy_to_spend(_[1])\n",
    "    display_state(_[1])\n",
    "end"
   ]
  },
  {
   "cell_type": "markdown",
   "metadata": {},
   "source": [
    "### answer"
   ]
  },
  {
   "cell_type": "code",
   "execution_count": null,
   "metadata": {},
   "outputs": [],
   "source": [
    "@time @info(\n",
    "    \"part 1 answer\",\n",
    "    result1(PDS1),\n",
    "    result1(PDI),\n",
    ")"
   ]
  },
  {
   "cell_type": "markdown",
   "metadata": {},
   "source": [
    "## part 2"
   ]
  },
  {
   "cell_type": "code",
   "execution_count": null,
   "metadata": {},
   "outputs": [],
   "source": []
  },
  {
   "cell_type": "markdown",
   "metadata": {},
   "source": [
    "### answer"
   ]
  },
  {
   "cell_type": "code",
   "execution_count": null,
   "metadata": {},
   "outputs": [],
   "source": [
    "@time @info(\n",
    "    \"part 2 answer\",\n",
    "    result2(PDS1),\n",
    "    result2(PDI),\n",
    "    )"
   ]
  }
 ],
 "metadata": {
  "@webio": {
   "lastCommId": null,
   "lastKernelId": null
  },
  "kernelspec": {
   "display_name": "Julia 1.7.0",
   "language": "julia",
   "name": "julia-1.7"
  },
  "language_info": {
   "file_extension": ".jl",
   "mimetype": "application/julia",
   "name": "julia",
   "version": "1.7.0"
  },
  "latex_envs": {
   "LaTeX_envs_menu_present": true,
   "autoclose": false,
   "autocomplete": true,
   "bibliofile": "biblio.bib",
   "cite_by": "apalike",
   "current_citInitial": 1,
   "eqLabelWithNumbers": true,
   "eqNumInitial": 1,
   "hotkeys": {
    "equation": "Ctrl-E",
    "itemize": "Ctrl-I"
   },
   "labels_anchors": false,
   "latex_user_defs": false,
   "report_style_numbering": false,
   "user_envs_cfg": false
  },
  "toc": {
   "base_numbering": 1,
   "nav_menu": {},
   "number_sections": true,
   "sideBar": true,
   "skip_h1_title": true,
   "title_cell": "Table of Contents",
   "title_sidebar": "Contents",
   "toc_cell": true,
   "toc_position": {},
   "toc_section_display": true,
   "toc_window_display": false
  }
 },
 "nbformat": 4,
 "nbformat_minor": 4
}
