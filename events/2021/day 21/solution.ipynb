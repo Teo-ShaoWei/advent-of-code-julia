{
 "cells": [
  {
   "cell_type": "markdown",
   "metadata": {},
   "source": [
    "# Advent of Code 2021 Day 21\n",
    "[link](https://adventofcode.com/2021/day/21)"
   ]
  },
  {
   "cell_type": "markdown",
   "metadata": {
    "toc": true
   },
   "source": [
    "<h1>Table of Contents<span class=\"tocSkip\"></span></h1>\n",
    "<div class=\"toc\"><ul class=\"toc-item\"><li><span><a href=\"#include-code-file-using-Revise\" data-toc-modified-id=\"include-code-file-using-Revise-1\"><span class=\"toc-item-num\">1&nbsp;&nbsp;</span>include code file using Revise</a></span></li><li><span><a href=\"#read-input\" data-toc-modified-id=\"read-input-2\"><span class=\"toc-item-num\">2&nbsp;&nbsp;</span>read input</a></span></li><li><span><a href=\"#part-1\" data-toc-modified-id=\"part-1-3\"><span class=\"toc-item-num\">3&nbsp;&nbsp;</span>part 1</a></span><ul class=\"toc-item\"><li><span><a href=\"#answer\" data-toc-modified-id=\"answer-3.1\"><span class=\"toc-item-num\">3.1&nbsp;&nbsp;</span>answer</a></span></li></ul></li><li><span><a href=\"#part-2\" data-toc-modified-id=\"part-2-4\"><span class=\"toc-item-num\">4&nbsp;&nbsp;</span>part 2</a></span><ul class=\"toc-item\"><li><span><a href=\"#answer\" data-toc-modified-id=\"answer-4.1\"><span class=\"toc-item-num\">4.1&nbsp;&nbsp;</span>answer</a></span></li></ul></li></ul></div>"
   ]
  },
  {
   "cell_type": "markdown",
   "metadata": {},
   "source": [
    "## include code file using Revise"
   ]
  },
  {
   "cell_type": "code",
   "execution_count": 1,
   "metadata": {
    "ExecuteTime": {
     "end_time": "2021-12-21T13:39:16.614000+08:00"
    }
   },
   "outputs": [],
   "source": [
    "using Revise"
   ]
  },
  {
   "cell_type": "code",
   "execution_count": 2,
   "metadata": {
    "ExecuteTime": {
     "end_time": "2021-12-21T13:39:32.136000+08:00"
    },
    "scrolled": true
   },
   "outputs": [],
   "source": [
    "includet(\"functions.jl\")"
   ]
  },
  {
   "cell_type": "markdown",
   "metadata": {},
   "source": [
    "## read input"
   ]
  },
  {
   "cell_type": "code",
   "execution_count": 3,
   "metadata": {
    "ExecuteTime": {
     "end_time": "2021-12-21T13:39:33.906000+08:00"
    },
    "scrolled": false
   },
   "outputs": [
    {
     "data": {
      "text/plain": [
       "((id = 1, pos = 4, score = 0), (id = 2, pos = 8, score = 0))"
      ]
     },
     "execution_count": 3,
     "metadata": {},
     "output_type": "execute_result"
    }
   ],
   "source": [
    "PDS1 = parse_input(\"sample1.txt\")"
   ]
  },
  {
   "cell_type": "code",
   "execution_count": 4,
   "metadata": {
    "ExecuteTime": {
     "end_time": "2021-12-21T13:39:33.922000+08:00"
    },
    "scrolled": true
   },
   "outputs": [
    {
     "data": {
      "text/plain": [
       "((id = 1, pos = 7, score = 0), (id = 2, pos = 4, score = 0))"
      ]
     },
     "execution_count": 4,
     "metadata": {},
     "output_type": "execute_result"
    }
   ],
   "source": [
    "PDI = parse_input(\"input.txt\")"
   ]
  },
  {
   "cell_type": "markdown",
   "metadata": {},
   "source": [
    "## part 1"
   ]
  },
  {
   "cell_type": "code",
   "execution_count": 5,
   "metadata": {
    "ExecuteTime": {
     "end_time": "2021-12-21T13:39:35.021000+08:00"
    }
   },
   "outputs": [
    {
     "data": {
      "text/plain": [
       "Base.Iterators.Stateful{Base.Iterators.Cycle{UnitRange{Int64}}, Union{Nothing, Tuple{Int64, Int64}}}(Base.Iterators.Cycle{UnitRange{Int64}}(1:10), (1, 1), 0)"
      ]
     },
     "execution_count": 5,
     "metadata": {},
     "output_type": "execute_result"
    }
   ],
   "source": [
    "ddd = make_dice(1:10)"
   ]
  },
  {
   "cell_type": "code",
   "execution_count": 6,
   "metadata": {
    "ExecuteTime": {
     "end_time": "2021-12-21T13:39:36.837000+08:00"
    }
   },
   "outputs": [
    {
     "data": {
      "text/plain": [
       "12-element Vector{Int64}:\n",
       "  1\n",
       "  2\n",
       "  3\n",
       "  4\n",
       "  5\n",
       "  6\n",
       "  7\n",
       "  8\n",
       "  9\n",
       " 10\n",
       "  1\n",
       "  2"
      ]
     },
     "execution_count": 6,
     "metadata": {},
     "output_type": "execute_result"
    }
   ],
   "source": [
    "Iterators.take(ddd, 12) |> collect"
   ]
  },
  {
   "cell_type": "code",
   "execution_count": 7,
   "metadata": {
    "ExecuteTime": {
     "end_time": "2021-12-21T13:39:37.367000+08:00"
    }
   },
   "outputs": [
    {
     "data": {
      "text/plain": [
       "10"
      ]
     },
     "execution_count": 7,
     "metadata": {},
     "output_type": "execute_result"
    }
   ],
   "source": [
    "make_move(9, 1)"
   ]
  },
  {
   "cell_type": "markdown",
   "metadata": {},
   "source": [
    "### answer"
   ]
  },
  {
   "cell_type": "code",
   "execution_count": 8,
   "metadata": {
    "ExecuteTime": {
     "end_time": "2021-12-21T13:39:37.514000+08:00"
    }
   },
   "outputs": [
    {
     "data": {
      "text/plain": [
       "739785"
      ]
     },
     "execution_count": 8,
     "metadata": {},
     "output_type": "execute_result"
    }
   ],
   "source": [
    "result1(PDS1)"
   ]
  },
  {
   "cell_type": "code",
   "execution_count": 9,
   "metadata": {
    "ExecuteTime": {
     "end_time": "2021-12-21T13:39:38.045000+08:00"
    }
   },
   "outputs": [
    {
     "name": "stdout",
     "output_type": "stream",
     "text": [
      "  0.307619 seconds (180.38 k allocations: 10.112 MiB, 5.85% gc time, 98.86% compilation time)\n"
     ]
    },
    {
     "name": "stderr",
     "output_type": "stream",
     "text": [
      "┌ Info: part 1 answer\n",
      "│   result1(PDS1) = 739785\n",
      "│   result1(PDI) = 675024\n",
      "└ @ Main In[9]:1\n"
     ]
    }
   ],
   "source": [
    "@time @info(\n",
    "    \"part 1 answer\",\n",
    "    result1(PDS1),\n",
    "    result1(PDI),\n",
    ")"
   ]
  },
  {
   "cell_type": "markdown",
   "metadata": {},
   "source": [
    "## part 2"
   ]
  },
  {
   "cell_type": "markdown",
   "metadata": {},
   "source": [
    "### answer"
   ]
  },
  {
   "cell_type": "code",
   "execution_count": 47,
   "metadata": {
    "ExecuteTime": {
     "end_time": "2021-12-21T14:27:10.088000+08:00",
     "start_time": "2021-12-21T06:27:07.462Z"
    }
   },
   "outputs": [
    {
     "data": {
      "text/plain": [
       "Dict{Int64, Int64} with 7 entries:\n",
       "  5 => 6\n",
       "  4 => 3\n",
       "  6 => 7\n",
       "  7 => 6\n",
       "  9 => 1\n",
       "  8 => 3\n",
       "  3 => 1"
      ]
     },
     "execution_count": 47,
     "metadata": {},
     "output_type": "execute_result"
    }
   ],
   "source": [
    "c = @chain Iterators.product(1:3, 1:3, 1:3) begin\n",
    "    @. collect\n",
    "    vec\n",
    "    @. sum\n",
    "end\n",
    "\n",
    "Dict(k => count(==(k), c) for k in unique(c))"
   ]
  },
  {
   "cell_type": "code",
   "execution_count": 49,
   "metadata": {
    "ExecuteTime": {
     "end_time": "2021-12-21T14:30:05.705000+08:00",
     "start_time": "2021-12-21T06:30:05.027Z"
    }
   },
   "outputs": [
    {
     "data": {
      "text/plain": [
       "DefaultDict{NTuple{5, Int64}, Int64, Int64} with 42285 entries:\n",
       "  (2, 2, 4, 8, 14)   => 1134\n",
       "  (1, 7, 6, 12, 10)  => 5346\n",
       "  (2, 10, 4, 14, 5)  => 126\n",
       "  (2, 6, 1, 14, 7)   => 161406\n",
       "  (2, 10, 8, 19, 11) => 29646\n",
       "  (1, 2, 8, 17, 25)  => 32877614130\n",
       "  (2, 4, 7, 13, 15)  => 742305\n",
       "  (1, 4, 1, 10, 21)  => 84700\n",
       "  (2, 4, 8, 20, 15)  => 39696393\n",
       "  (2, 7, 3, 17, 8)   => 20412\n",
       "  (2, 7, 10, 24, 15) => 118125\n",
       "  (1, 10, 7, 20, 23) => 133847102\n",
       "  (1, 9, 8, 20, 28)  => 2456148330\n",
       "  (1, 8, 10, 19, 18) => 4047756\n",
       "  (2, 4, 9, 13, 12)  => 5925\n",
       "  (2, 2, 5, 11, 15)  => 220578\n",
       "  (1, 2, 9, 18, 13)  => 441\n",
       "  (2, 2, 5, 16, 20)  => 412624608\n",
       "  (1, 8, 4, 18, 16)  => 26707266\n",
       "  (1, 4, 1, 19, 20)  => 57452943373\n",
       "  (1, 10, 8, 13, 20) => 1248\n",
       "  (2, 5, 8, 17, 12)  => 43632\n",
       "  (1, 2, 3, 11, 13)  => 278274\n",
       "  (1, 1, 8, 5, 18)   => 756\n",
       "  (2, 9, 6, 23, 9)   => 127446\n",
       "  ⋮                  => ⋮"
      ]
     },
     "metadata": {},
     "output_type": "display_data"
    },
    {
     "name": "stdout",
     "output_type": "stream",
     "text": [
      "u1 = 570239341223618\n",
      "u2 = 371697814511699\n"
     ]
    }
   ],
   "source": [
    "u1, u2, store = result2(PDI)\n",
    "@show u1 u2\n",
    "store |> display"
   ]
  },
  {
   "cell_type": "code",
   "execution_count": null,
   "metadata": {},
   "outputs": [],
   "source": []
  },
  {
   "cell_type": "code",
   "execution_count": 50,
   "metadata": {
    "ExecuteTime": {
     "end_time": "2021-12-21T14:32:43.895000+08:00",
     "start_time": "2021-12-21T06:32:41.414Z"
    }
   },
   "outputs": [
    {
     "name": "stdout",
     "output_type": "stream",
     "text": [
      "  2.313072 seconds (7.94 M allocations: 311.278 MiB, 6.26% gc time, 18.88% compilation time)\n"
     ]
    },
    {
     "name": "stderr",
     "output_type": "stream",
     "text": [
      "┌ Info: part 2 answer\n",
      "│   result2(PDS1) = 444356092776315\n",
      "│   result2(PDI) = 570239341223618\n",
      "└ @ Main In[50]:1\n"
     ]
    }
   ],
   "source": [
    "@time @info(\n",
    "    \"part 2 answer\",\n",
    "    result2(PDS1),\n",
    "    result2(PDI),\n",
    "    )"
   ]
  }
 ],
 "metadata": {
  "@webio": {
   "lastCommId": null,
   "lastKernelId": null
  },
  "kernelspec": {
   "display_name": "Julia 1.7.0",
   "language": "julia",
   "name": "julia-1.7"
  },
  "language_info": {
   "file_extension": ".jl",
   "mimetype": "application/julia",
   "name": "julia",
   "version": "1.7.0"
  },
  "latex_envs": {
   "LaTeX_envs_menu_present": true,
   "autoclose": false,
   "autocomplete": true,
   "bibliofile": "biblio.bib",
   "cite_by": "apalike",
   "current_citInitial": 1,
   "eqLabelWithNumbers": true,
   "eqNumInitial": 1,
   "hotkeys": {
    "equation": "Ctrl-E",
    "itemize": "Ctrl-I"
   },
   "labels_anchors": false,
   "latex_user_defs": false,
   "report_style_numbering": false,
   "user_envs_cfg": false
  },
  "toc": {
   "base_numbering": 1,
   "nav_menu": {},
   "number_sections": true,
   "sideBar": true,
   "skip_h1_title": true,
   "title_cell": "Table of Contents",
   "title_sidebar": "Contents",
   "toc_cell": true,
   "toc_position": {},
   "toc_section_display": true,
   "toc_window_display": false
  }
 },
 "nbformat": 4,
 "nbformat_minor": 4
}
