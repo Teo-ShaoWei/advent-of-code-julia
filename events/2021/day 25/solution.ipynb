{
 "cells": [
  {
   "cell_type": "markdown",
   "metadata": {},
   "source": [
    "# Advent of Code 2021 Day 25\n",
    "[link](https://adventofcode.com/2021/day/25)"
   ]
  },
  {
   "cell_type": "markdown",
   "metadata": {
    "toc": true
   },
   "source": [
    "<h1>Table of Contents<span class=\"tocSkip\"></span></h1>\n",
    "<div class=\"toc\"><ul class=\"toc-item\"><li><span><a href=\"#include-code-file-using-Revise\" data-toc-modified-id=\"include-code-file-using-Revise-1\"><span class=\"toc-item-num\">1&nbsp;&nbsp;</span>include code file using Revise</a></span></li><li><span><a href=\"#read-input\" data-toc-modified-id=\"read-input-2\"><span class=\"toc-item-num\">2&nbsp;&nbsp;</span>read input</a></span></li><li><span><a href=\"#part-1\" data-toc-modified-id=\"part-1-3\"><span class=\"toc-item-num\">3&nbsp;&nbsp;</span>part 1</a></span><ul class=\"toc-item\"><li><span><a href=\"#answer\" data-toc-modified-id=\"answer-3.1\"><span class=\"toc-item-num\">3.1&nbsp;&nbsp;</span>answer</a></span></li></ul></li><li><span><a href=\"#part-2\" data-toc-modified-id=\"part-2-4\"><span class=\"toc-item-num\">4&nbsp;&nbsp;</span>part 2</a></span><ul class=\"toc-item\"><li><span><a href=\"#answer\" data-toc-modified-id=\"answer-4.1\"><span class=\"toc-item-num\">4.1&nbsp;&nbsp;</span>answer</a></span></li></ul></li></ul></div>"
   ]
  },
  {
   "cell_type": "markdown",
   "metadata": {},
   "source": [
    "## include code file using Revise"
   ]
  },
  {
   "cell_type": "code",
   "execution_count": 1,
   "metadata": {
    "ExecuteTime": {
     "end_time": "2021-12-25T12:59:42.001000+08:00",
     "start_time": "2021-12-25T04:59:40.996Z"
    }
   },
   "outputs": [],
   "source": [
    "using Revise"
   ]
  },
  {
   "cell_type": "code",
   "execution_count": 2,
   "metadata": {
    "ExecuteTime": {
     "end_time": "2021-12-25T12:59:47.418000+08:00",
     "start_time": "2021-12-25T04:59:41.143Z"
    },
    "scrolled": true
   },
   "outputs": [],
   "source": [
    "includet(\"functions.jl\")"
   ]
  },
  {
   "cell_type": "markdown",
   "metadata": {},
   "source": [
    "## read input"
   ]
  },
  {
   "cell_type": "code",
   "execution_count": 55,
   "metadata": {
    "ExecuteTime": {
     "end_time": "2021-12-25T13:29:53.807000+08:00",
     "start_time": "2021-12-25T05:29:53.793Z"
    },
    "scrolled": true
   },
   "outputs": [
    {
     "data": {
      "text/plain": [
       "9×10 Matrix{Char}:\n",
       " v  .  .  .  >  >  .  v  v  >\n",
       " .  v  v  >  >  .  v  v  .  .\n",
       " >  >  .  >  v  >  .  .  .  v\n",
       " >  >  v  >  >  .  >  .  v  .\n",
       " v  >  v  .  v  v  .  v  .  .\n",
       " >  .  >  >  .  .  v  .  .  .\n",
       " .  v  v  .  .  >  .  >  v  .\n",
       " v  .  v  .  .  >  >  v  .  v\n",
       " .  .  .  .  v  .  .  v  .  >"
      ]
     },
     "execution_count": 55,
     "metadata": {},
     "output_type": "execute_result"
    }
   ],
   "source": [
    "PDS1 = parse_input(\"sample1.txt\")"
   ]
  },
  {
   "cell_type": "code",
   "execution_count": 9,
   "metadata": {
    "ExecuteTime": {
     "end_time": "2021-12-25T13:03:53.830000+08:00",
     "start_time": "2021-12-25T05:03:53.811Z"
    },
    "scrolled": true
   },
   "outputs": [
    {
     "data": {
      "text/plain": [
       "137×139 Matrix{Char}:\n",
       " .  v  v  v  v  >  .  v  …  .  >  .  .  .  .  .\n",
       " v  .  v  v  v  >  .  .     v  .  .  >  .  .  .\n",
       " >  .  >  .  >  v  v  >     .  v  v  v  v  >  .\n",
       " v  v  >  .  .  .  .  >     >  .  >  >  .  v  .\n",
       " v  .  .  .  .  >  >  v     .  .  .  >  >  v  >\n",
       " .  .  v  v  .  .  .  .  …  .  .  >  .  >  v  .\n",
       " v  .  .  >  .  v  .  v     .  v  .  >  v  v  .\n",
       " .  v  .  v  .  .  >  v     .  v  .  v  .  .  .\n",
       " v  .  >  v  .  v  .  >     .  v  v  v  .  >  .\n",
       " v  .  >  v  >  v  .  .     .  .  >  .  v  .  .\n",
       " .  .  >  .  .  .  >  .  …  v  .  .  >  >  >  .\n",
       " >  .  v  >  >  >  .  v     v  .  >  v  .  .  .\n",
       " .  .  v  >  v  v  >  .     v  .  .  .  .  .  .\n",
       " ⋮                        ⋮              ⋱                 ⋮              \n",
       " .  .  .  v  .  >  v  >  …  v  >  .  .  v  .  >\n",
       " .  >  >  .  .  >  >  .     .  .  .  .  .  v  v\n",
       " .  .  .  >  v  .  .  >     v  v  .  .  .  .  .\n",
       " .  .  .  v  .  >  v  >     v  .  .  .  .  v  .\n",
       " >  v  >  >  .  .  .  .     v  v  .  .  v  .  .\n",
       " .  v  v  >  v  v  v  .  …  v  >  >  .  .  >  .\n",
       " .  .  .  v  >  >  v  v     >  >  v  >  .  .  >\n",
       " v  >  .  v  v  >  .  .     >  .  >  .  v  v  .\n",
       " v  .  v  .  .  .  .  .     .  .  .  .  .  .  >\n",
       " .  >  .  .  .  v  >  .     v  >  >  v  >  .  >\n",
       " .  >  >  .  >  .  .  >  …  >  .  >  .  .  >  v\n",
       " >  .  v  v  .  >  .  .     .  >  v  v  v  >  >"
      ]
     },
     "execution_count": 9,
     "metadata": {},
     "output_type": "execute_result"
    }
   ],
   "source": [
    "PDI = parse_input(\"input.txt\")"
   ]
  },
  {
   "cell_type": "markdown",
   "metadata": {},
   "source": [
    "## part 1"
   ]
  },
  {
   "cell_type": "code",
   "execution_count": 31,
   "metadata": {
    "ExecuteTime": {
     "end_time": "2021-12-25T13:15:00.579000+08:00",
     "start_time": "2021-12-25T05:15:00.565Z"
    }
   },
   "outputs": [
    {
     "data": {
      "text/plain": [
       "CI(3, 1)"
      ]
     },
     "execution_count": 31,
     "metadata": {},
     "output_type": "execute_result"
    }
   ],
   "source": [
    "get_east_ci(PDS1, CI(3, 10))"
   ]
  },
  {
   "cell_type": "code",
   "execution_count": 33,
   "metadata": {
    "ExecuteTime": {
     "end_time": "2021-12-25T13:19:50.299000+08:00",
     "start_time": "2021-12-25T05:19:50.246Z"
    }
   },
   "outputs": [
    {
     "data": {
      "text/plain": [
       "CI(1, 5)"
      ]
     },
     "execution_count": 33,
     "metadata": {},
     "output_type": "execute_result"
    }
   ],
   "source": [
    "get_south_ci(PDS1, CI(9, 5))"
   ]
  },
  {
   "cell_type": "code",
   "execution_count": 44,
   "metadata": {
    "ExecuteTime": {
     "end_time": "2021-12-25T13:26:00.855000+08:00",
     "start_time": "2021-12-25T05:26:00.840Z"
    }
   },
   "outputs": [
    {
     "data": {
      "text/plain": [
       "9×10 Matrix{Char}:\n",
       " v  .  .  .  >  >  .  v  v  >\n",
       " .  v  v  >  >  .  v  v  .  .\n",
       " >  >  .  >  v  >  .  .  .  v\n",
       " >  >  v  >  >  .  >  .  v  .\n",
       " v  >  v  .  v  v  .  v  .  .\n",
       " >  .  >  >  .  .  v  .  .  .\n",
       " .  v  v  .  .  >  .  >  v  .\n",
       " v  .  v  .  .  >  >  v  .  v\n",
       " .  .  .  .  v  .  .  v  .  >"
      ]
     },
     "execution_count": 44,
     "metadata": {},
     "output_type": "execute_result"
    }
   ],
   "source": [
    "PDS1"
   ]
  },
  {
   "cell_type": "code",
   "execution_count": 51,
   "metadata": {
    "ExecuteTime": {
     "end_time": "2021-12-25T13:27:32.739000+08:00",
     "start_time": "2021-12-25T05:27:32.704Z"
    }
   },
   "outputs": [
    {
     "data": {
      "text/plain": [
       "9×10 Matrix{Char}:\n",
       " v  .  .  .  >  .  >  v  v  >\n",
       " .  v  v  >  .  >  v  v  .  .\n",
       " >  .  >  >  v  .  >  .  .  v\n",
       " >  >  v  >  .  >  .  >  v  .\n",
       " v  >  v  .  v  v  .  v  .  .\n",
       " .  >  >  .  >  .  v  .  .  .\n",
       " .  v  v  .  .  .  >  >  v  .\n",
       " v  .  v  .  .  >  >  v  .  v\n",
       " >  .  .  .  v  .  .  v  .  ."
      ]
     },
     "execution_count": 51,
     "metadata": {},
     "output_type": "execute_result"
    }
   ],
   "source": [
    "move_east(PDS1)"
   ]
  },
  {
   "cell_type": "code",
   "execution_count": 50,
   "metadata": {
    "ExecuteTime": {
     "end_time": "2021-12-25T13:27:27.305000+08:00",
     "start_time": "2021-12-25T05:27:27.267Z"
    }
   },
   "outputs": [
    {
     "data": {
      "text/plain": [
       "9×10 Matrix{Char}:\n",
       " .  .  .  .  >  >  .  v  .  >\n",
       " v  v  .  >  >  .  .  .  v  .\n",
       " >  >  v  >  v  >  v  v  .  .\n",
       " >  >  v  >  >  .  >  .  .  v\n",
       " v  >  v  .  .  .  .  .  v  .\n",
       " >  .  >  >  v  v  .  v  .  .\n",
       " .  .  v  .  .  >  v  >  .  .\n",
       " .  v  .  .  .  >  >  v  v  v\n",
       " v  .  v  .  v  .  .  v  .  >"
      ]
     },
     "execution_count": 50,
     "metadata": {},
     "output_type": "execute_result"
    }
   ],
   "source": [
    "move_south(PDS1)"
   ]
  },
  {
   "cell_type": "code",
   "execution_count": 56,
   "metadata": {
    "ExecuteTime": {
     "end_time": "2021-12-25T13:29:57.909000+08:00",
     "start_time": "2021-12-25T05:29:57.894Z"
    }
   },
   "outputs": [
    {
     "data": {
      "text/plain": [
       "9×10 Matrix{Char}:\n",
       " .  .  .  .  >  .  >  v  .  >\n",
       " v  .  v  >  .  >  v  .  v  .\n",
       " >  v  >  >  .  .  >  v  .  .\n",
       " >  >  v  >  v  >  .  >  .  v\n",
       " .  >  v  .  v  .  .  .  v  .\n",
       " v  >  >  .  >  v  v  v  .  .\n",
       " .  .  v  .  .  .  >  >  .  .\n",
       " v  v  .  .  .  >  >  v  v  .\n",
       " >  .  v  .  v  .  .  v  .  v"
      ]
     },
     "execution_count": 56,
     "metadata": {},
     "output_type": "execute_result"
    }
   ],
   "source": [
    "PDS1 |> move"
   ]
  },
  {
   "cell_type": "markdown",
   "metadata": {},
   "source": [
    "### answer"
   ]
  },
  {
   "cell_type": "code",
   "execution_count": 65,
   "metadata": {
    "ExecuteTime": {
     "end_time": "2021-12-25T13:33:08.886000+08:00",
     "start_time": "2021-12-25T05:33:08.673Z"
    }
   },
   "outputs": [
    {
     "data": {
      "text/plain": [
       "58"
      ]
     },
     "execution_count": 65,
     "metadata": {},
     "output_type": "execute_result"
    }
   ],
   "source": [
    "result1(PDS1)"
   ]
  },
  {
   "cell_type": "code",
   "execution_count": 66,
   "metadata": {
    "ExecuteTime": {
     "end_time": "2021-12-25T13:33:21.135000+08:00",
     "start_time": "2021-12-25T05:33:17.935Z"
    }
   },
   "outputs": [
    {
     "name": "stdout",
     "output_type": "stream",
     "text": [
      "  3.113171 seconds (58.23 M allocations: 2.005 GiB, 7.16% gc time, 3.40% compilation time)\n"
     ]
    },
    {
     "name": "stderr",
     "output_type": "stream",
     "text": [
      "┌ Info: part 1 answer\n",
      "│   result1(PDS1) = 58\n",
      "│   result1(PDI) = 389\n",
      "└ @ Main In[66]:1\n"
     ]
    }
   ],
   "source": [
    "@time @info(\n",
    "    \"part 1 answer\",\n",
    "    result1(PDS1),\n",
    "    result1(PDI),\n",
    ")"
   ]
  }
 ],
 "metadata": {
  "@webio": {
   "lastCommId": null,
   "lastKernelId": null
  },
  "kernelspec": {
   "display_name": "Julia 1.7.0",
   "language": "julia",
   "name": "julia-1.7"
  },
  "language_info": {
   "file_extension": ".jl",
   "mimetype": "application/julia",
   "name": "julia",
   "version": "1.7.0"
  },
  "latex_envs": {
   "LaTeX_envs_menu_present": true,
   "autoclose": false,
   "autocomplete": true,
   "bibliofile": "biblio.bib",
   "cite_by": "apalike",
   "current_citInitial": 1,
   "eqLabelWithNumbers": true,
   "eqNumInitial": 1,
   "hotkeys": {
    "equation": "Ctrl-E",
    "itemize": "Ctrl-I"
   },
   "labels_anchors": false,
   "latex_user_defs": false,
   "report_style_numbering": false,
   "user_envs_cfg": false
  },
  "toc": {
   "base_numbering": 1,
   "nav_menu": {},
   "number_sections": true,
   "sideBar": true,
   "skip_h1_title": true,
   "title_cell": "Table of Contents",
   "title_sidebar": "Contents",
   "toc_cell": true,
   "toc_position": {},
   "toc_section_display": true,
   "toc_window_display": false
  }
 },
 "nbformat": 4,
 "nbformat_minor": 4
}
