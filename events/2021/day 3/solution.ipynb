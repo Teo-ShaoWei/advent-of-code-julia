{
 "cells": [
  {
   "cell_type": "markdown",
   "metadata": {},
   "source": [
    "# Advent of Code 2021 Day 3\n",
    "[link](https://adventofcode.com/2021/day/3)"
   ]
  },
  {
   "cell_type": "markdown",
   "metadata": {
    "toc": true
   },
   "source": [
    "<h1>Table of Contents<span class=\"tocSkip\"></span></h1>\n",
    "<div class=\"toc\"><ul class=\"toc-item\"><li><span><a href=\"#include-code-file-using-Revise\" data-toc-modified-id=\"include-code-file-using-Revise-1\"><span class=\"toc-item-num\">1&nbsp;&nbsp;</span>include code file using Revise</a></span></li><li><span><a href=\"#read-input\" data-toc-modified-id=\"read-input-2\"><span class=\"toc-item-num\">2&nbsp;&nbsp;</span>read input</a></span></li><li><span><a href=\"#part-1\" data-toc-modified-id=\"part-1-3\"><span class=\"toc-item-num\">3&nbsp;&nbsp;</span>part 1</a></span><ul class=\"toc-item\"><li><span><a href=\"#answer\" data-toc-modified-id=\"answer-3.1\"><span class=\"toc-item-num\">3.1&nbsp;&nbsp;</span>answer</a></span></li></ul></li><li><span><a href=\"#part-2\" data-toc-modified-id=\"part-2-4\"><span class=\"toc-item-num\">4&nbsp;&nbsp;</span>part 2</a></span><ul class=\"toc-item\"><li><span><a href=\"#answer\" data-toc-modified-id=\"answer-4.1\"><span class=\"toc-item-num\">4.1&nbsp;&nbsp;</span>answer</a></span></li></ul></li></ul></div>"
   ]
  },
  {
   "cell_type": "markdown",
   "metadata": {},
   "source": [
    "## include code file using Revise"
   ]
  },
  {
   "cell_type": "code",
   "execution_count": 1,
   "metadata": {
    "ExecuteTime": {
     "end_time": "2021-12-25T21:18:57.305000+08:00",
     "start_time": "2021-12-25T13:18:56.175Z"
    }
   },
   "outputs": [],
   "source": [
    "using Revise"
   ]
  },
  {
   "cell_type": "code",
   "execution_count": 2,
   "metadata": {
    "ExecuteTime": {
     "end_time": "2021-12-25T21:19:03.167000+08:00",
     "start_time": "2021-12-25T13:18:56.177Z"
    },
    "scrolled": true
   },
   "outputs": [],
   "source": [
    "includet(\"functions.jl\")"
   ]
  },
  {
   "cell_type": "markdown",
   "metadata": {},
   "source": [
    "## read input"
   ]
  },
  {
   "cell_type": "code",
   "execution_count": 3,
   "metadata": {
    "ExecuteTime": {
     "end_time": "2021-12-25T21:19:04.647000+08:00",
     "start_time": "2021-12-25T13:18:56.236Z"
    },
    "scrolled": true
   },
   "outputs": [
    {
     "data": {
      "text/plain": [
       "12×5 BitMatrix:\n",
       " 0  0  1  0  0\n",
       " 1  1  1  1  0\n",
       " 1  0  1  1  0\n",
       " 1  0  1  1  1\n",
       " 1  0  1  0  1\n",
       " 0  1  1  1  1\n",
       " 0  0  1  1  1\n",
       " 1  1  1  0  0\n",
       " 1  0  0  0  0\n",
       " 1  1  0  0  1\n",
       " 0  0  0  1  0\n",
       " 0  1  0  1  0"
      ]
     },
     "execution_count": 3,
     "metadata": {},
     "output_type": "execute_result"
    }
   ],
   "source": [
    "PDS1 = pd\"\"\"\n",
    "00100\n",
    "11110\n",
    "10110\n",
    "10111\n",
    "10101\n",
    "01111\n",
    "00111\n",
    "11100\n",
    "10000\n",
    "11001\n",
    "00010\n",
    "01010\n",
    "\"\"\""
   ]
  },
  {
   "cell_type": "code",
   "execution_count": 4,
   "metadata": {
    "ExecuteTime": {
     "end_time": "2021-12-25T21:19:04.739000+08:00",
     "start_time": "2021-12-25T13:18:56.237Z"
    },
    "scrolled": true
   },
   "outputs": [
    {
     "data": {
      "text/plain": [
       "1000×12 BitMatrix:\n",
       " 0  1  1  1  1  0  1  1  1  1  0  1\n",
       " 1  1  0  0  1  0  0  1  0  0  0  1\n",
       " 1  1  1  0  1  1  1  1  1  1  1  1\n",
       " 1  1  0  0  1  1  0  1  0  1  0  0\n",
       " 1  1  1  1  0  0  0  0  0  0  1  1\n",
       " 0  1  0  1  0  1  0  0  1  0  0  1\n",
       " 0  1  0  1  0  1  0  0  0  0  1  0\n",
       " 1  0  0  1  1  1  1  0  1  0  0  0\n",
       " 1  1  0  1  1  0  1  0  1  1  1  0\n",
       " 0  0  1  0  0  1  1  0  1  0  0  0\n",
       " 1  0  1  1  0  0  1  0  0  1  1  0\n",
       " 1  0  1  0  0  1  1  0  0  1  1  0\n",
       " 1  0  1  1  1  0  0  0  0  1  1  0\n",
       " ⋮              ⋮              ⋮  \n",
       " 0  1  0  1  0  1  1  1  0  1  1  1\n",
       " 1  1  1  1  0  0  1  0  1  0  1  1\n",
       " 1  0  1  1  0  1  0  0  1  1  0  1\n",
       " 0  1  1  0  1  1  1  1  1  1  1  0\n",
       " 0  1  1  1  0  0  0  1  1  0  0  1\n",
       " 1  1  0  0  1  0  0  1  1  1  0  0\n",
       " 0  0  0  0  0  1  0  1  1  1  0  0\n",
       " 1  0  1  1  1  0  1  0  0  1  1  0\n",
       " 0  1  0  0  0  1  0  1  1  1  0  0\n",
       " 0  1  1  1  1  1  0  0  1  0  1  0\n",
       " 1  0  0  1  1  1  1  0  0  1  0  1\n",
       " 1  1  1  1  1  1  0  0  0  0  1  0"
      ]
     },
     "execution_count": 4,
     "metadata": {},
     "output_type": "execute_result"
    }
   ],
   "source": [
    "PDI = parse_puzzle_file(\"input.txt\")"
   ]
  },
  {
   "cell_type": "markdown",
   "metadata": {},
   "source": [
    "## part 1"
   ]
  },
  {
   "cell_type": "code",
   "execution_count": 5,
   "metadata": {
    "ExecuteTime": {
     "end_time": "2021-12-25T21:19:05.209000+08:00",
     "start_time": "2021-12-25T13:18:56.288Z"
    }
   },
   "outputs": [
    {
     "data": {
      "text/plain": [
       "22"
      ]
     },
     "execution_count": 5,
     "metadata": {},
     "output_type": "execute_result"
    }
   ],
   "source": [
    "gamma_rate(PDS1)"
   ]
  },
  {
   "cell_type": "code",
   "execution_count": 6,
   "metadata": {
    "ExecuteTime": {
     "end_time": "2021-12-25T21:19:05.279000+08:00",
     "start_time": "2021-12-25T13:18:56.290Z"
    }
   },
   "outputs": [
    {
     "data": {
      "text/plain": [
       "9"
      ]
     },
     "execution_count": 6,
     "metadata": {},
     "output_type": "execute_result"
    }
   ],
   "source": [
    "epsilon_rate(PDS1)"
   ]
  },
  {
   "cell_type": "markdown",
   "metadata": {},
   "source": [
    "### answer"
   ]
  },
  {
   "cell_type": "code",
   "execution_count": 7,
   "metadata": {
    "ExecuteTime": {
     "end_time": "2021-12-25T21:19:05.530000+08:00",
     "start_time": "2021-12-25T13:18:56.341Z"
    }
   },
   "outputs": [
    {
     "name": "stdout",
     "output_type": "stream",
     "text": [
      "  0.145987 seconds (175.62 k allocations: 9.957 MiB, 7.98% gc time, 99.09% compilation time)\n"
     ]
    },
    {
     "name": "stderr",
     "output_type": "stream",
     "text": [
      "┌ Info: part 1 answer\n",
      "│   result1(PDS1) = 198\n",
      "│   result1(PDI) = 3847100\n",
      "└ @ Main In[7]:1\n"
     ]
    }
   ],
   "source": [
    "@time @info(\n",
    "    \"part 1 answer\",\n",
    "    result1(PDS1),\n",
    "    result1(PDI),\n",
    ")"
   ]
  },
  {
   "cell_type": "markdown",
   "metadata": {},
   "source": [
    "## part 2"
   ]
  },
  {
   "cell_type": "code",
   "execution_count": 8,
   "metadata": {
    "ExecuteTime": {
     "end_time": "2021-12-25T21:19:05.753000+08:00",
     "start_time": "2021-12-25T13:18:56.407Z"
    }
   },
   "outputs": [
    {
     "data": {
      "text/plain": [
       "23"
      ]
     },
     "execution_count": 8,
     "metadata": {},
     "output_type": "execute_result"
    }
   ],
   "source": [
    "oxygen_generator_rating(PDS1)"
   ]
  },
  {
   "cell_type": "code",
   "execution_count": 9,
   "metadata": {
    "ExecuteTime": {
     "end_time": "2021-12-25T21:19:05.869000+08:00",
     "start_time": "2021-12-25T13:18:56.418Z"
    }
   },
   "outputs": [
    {
     "data": {
      "text/plain": [
       "10"
      ]
     },
     "execution_count": 9,
     "metadata": {},
     "output_type": "execute_result"
    }
   ],
   "source": [
    "co2_scrubber_rating(PDS1)"
   ]
  },
  {
   "cell_type": "markdown",
   "metadata": {},
   "source": [
    "### answer"
   ]
  },
  {
   "cell_type": "code",
   "execution_count": 10,
   "metadata": {
    "ExecuteTime": {
     "end_time": "2021-12-25T21:19:05.955000+08:00",
     "start_time": "2021-12-25T13:18:56.473Z"
    }
   },
   "outputs": [
    {
     "name": "stdout",
     "output_type": "stream",
     "text": [
      "  0.032616 seconds (69.13 k allocations: 3.954 MiB, 97.37% compilation time)\n"
     ]
    },
    {
     "name": "stderr",
     "output_type": "stream",
     "text": [
      "┌ Info: part 2 answer\n",
      "│   result2(PDS1) = 230\n",
      "│   result2(PDI) = 4105235\n",
      "└ @ Main In[10]:1\n"
     ]
    }
   ],
   "source": [
    "@time @info(\n",
    "    \"part 2 answer\",\n",
    "    result2(PDS1),\n",
    "    result2(PDI),\n",
    "    )"
   ]
  }
 ],
 "metadata": {
  "@webio": {
   "lastCommId": null,
   "lastKernelId": null
  },
  "kernelspec": {
   "display_name": "Julia 1.7.0",
   "language": "julia",
   "name": "julia-1.7"
  },
  "language_info": {
   "file_extension": ".jl",
   "mimetype": "application/julia",
   "name": "julia",
   "version": "1.7.0"
  },
  "latex_envs": {
   "LaTeX_envs_menu_present": true,
   "autoclose": false,
   "autocomplete": true,
   "bibliofile": "biblio.bib",
   "cite_by": "apalike",
   "current_citInitial": 1,
   "eqLabelWithNumbers": true,
   "eqNumInitial": 1,
   "hotkeys": {
    "equation": "Ctrl-E",
    "itemize": "Ctrl-I"
   },
   "labels_anchors": false,
   "latex_user_defs": false,
   "report_style_numbering": false,
   "user_envs_cfg": false
  },
  "toc": {
   "base_numbering": 1,
   "nav_menu": {},
   "number_sections": true,
   "sideBar": true,
   "skip_h1_title": true,
   "title_cell": "Table of Contents",
   "title_sidebar": "Contents",
   "toc_cell": true,
   "toc_position": {},
   "toc_section_display": true,
   "toc_window_display": false
  }
 },
 "nbformat": 4,
 "nbformat_minor": 4
}
