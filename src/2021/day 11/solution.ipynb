{
 "cells": [
  {
   "cell_type": "markdown",
   "metadata": {},
   "source": [
    "# Advent of Code 2021 Day 11\n",
    "[link](https://adventofcode.com/2021/day/11)"
   ]
  },
  {
   "cell_type": "markdown",
   "metadata": {
    "toc": true
   },
   "source": [
    "<h1>Table of Contents<span class=\"tocSkip\"></span></h1>\n",
    "<div class=\"toc\"><ul class=\"toc-item\"><li><span><a href=\"#include-code-file-using-Revise\" data-toc-modified-id=\"include-code-file-using-Revise-1\"><span class=\"toc-item-num\">1&nbsp;&nbsp;</span>include code file using Revise</a></span></li><li><span><a href=\"#read-input\" data-toc-modified-id=\"read-input-2\"><span class=\"toc-item-num\">2&nbsp;&nbsp;</span>read input</a></span><ul class=\"toc-item\"><li><span><a href=\"#PDS1-:=-puzzle-data-sample-1\" data-toc-modified-id=\"PDS1-:=-puzzle-data-sample-1-2.1\"><span class=\"toc-item-num\">2.1&nbsp;&nbsp;</span>PDS1 := puzzle data sample 1</a></span></li><li><span><a href=\"#PDA-:=-puzzle-data-actual\" data-toc-modified-id=\"PDA-:=-puzzle-data-actual-2.2\"><span class=\"toc-item-num\">2.2&nbsp;&nbsp;</span>PDA := puzzle data actual</a></span></li></ul></li><li><span><a href=\"#part-1\" data-toc-modified-id=\"part-1-3\"><span class=\"toc-item-num\">3&nbsp;&nbsp;</span>part 1</a></span><ul class=\"toc-item\"><li><span><a href=\"#answer\" data-toc-modified-id=\"answer-3.1\"><span class=\"toc-item-num\">3.1&nbsp;&nbsp;</span>answer</a></span></li></ul></li><li><span><a href=\"#part-2\" data-toc-modified-id=\"part-2-4\"><span class=\"toc-item-num\">4&nbsp;&nbsp;</span>part 2</a></span><ul class=\"toc-item\"><li><span><a href=\"#answer\" data-toc-modified-id=\"answer-4.1\"><span class=\"toc-item-num\">4.1&nbsp;&nbsp;</span>answer</a></span></li></ul></li></ul></div>"
   ]
  },
  {
   "cell_type": "markdown",
   "metadata": {},
   "source": [
    "## include code file using Revise"
   ]
  },
  {
   "cell_type": "code",
   "execution_count": 1,
   "metadata": {
    "ExecuteTime": {
     "end_time": "2021-12-11T13:27:55.634000+08:00",
     "start_time": "2021-12-11T05:27:54.523Z"
    }
   },
   "outputs": [],
   "source": [
    "using Revise"
   ]
  },
  {
   "cell_type": "code",
   "execution_count": 12,
   "metadata": {
    "ExecuteTime": {
     "end_time": "2021-12-11T13:28:11.605000+08:00",
     "start_time": "2021-12-11T05:28:08.794Z"
    },
    "scrolled": true
   },
   "outputs": [],
   "source": [
    "includet(\"solution.jl\")"
   ]
  },
  {
   "cell_type": "markdown",
   "metadata": {},
   "source": [
    "## read input"
   ]
  },
  {
   "cell_type": "markdown",
   "metadata": {},
   "source": [
    "### PDS1 := puzzle data sample 1"
   ]
  },
  {
   "cell_type": "code",
   "execution_count": 3,
   "metadata": {
    "ExecuteTime": {
     "end_time": "2021-12-11T13:28:00.691000+08:00",
     "start_time": "2021-12-11T05:27:54.660Z"
    },
    "scrolled": true
   },
   "outputs": [
    {
     "data": {
      "text/plain": [
       "10×10 Matrix{Int64}:\n",
       " 5  4  8  3  1  4  3  2  2  3\n",
       " 2  7  4  5  8  5  4  7  1  1\n",
       " 5  2  6  4  5  5  6  1  7  3\n",
       " 6  1  4  1  3  3  6  1  4  6\n",
       " 6  3  5  7  3  8  5  4  7  8\n",
       " 4  1  6  7  5  2  4  6  4  5\n",
       " 2  1  7  6  8  4  1  7  2  1\n",
       " 6  8  8  2  8  8  1  1  3  4\n",
       " 4  8  4  6  8  4  8  5  5  4\n",
       " 5  2  8  3  7  5  1  5  2  6"
      ]
     },
     "execution_count": 3,
     "metadata": {},
     "output_type": "execute_result"
    }
   ],
   "source": [
    "PDS1 = parse_input(\"pds1.txt\")"
   ]
  },
  {
   "cell_type": "markdown",
   "metadata": {},
   "source": [
    "### PDA := puzzle data actual"
   ]
  },
  {
   "cell_type": "code",
   "execution_count": 4,
   "metadata": {
    "ExecuteTime": {
     "end_time": "2021-12-11T13:28:00.705000+08:00",
     "start_time": "2021-12-11T05:27:54.717Z"
    },
    "scrolled": true
   },
   "outputs": [
    {
     "data": {
      "text/plain": [
       "10×10 Matrix{Int64}:\n",
       " 4  7  4  3  3  7  8  3  1  8\n",
       " 4  6  6  4  2  1  2  8  4  4\n",
       " 2  5  3  5  6  6  7  8  8  4\n",
       " 3  2  7  3  3  6  3  8  6  1\n",
       " 2  2  8  2  4  3  2  6  1  2\n",
       " 2  1  6  6  6  1  2  1  3  4\n",
       " 3  7  7  6  3  3  4  5  1  3\n",
       " 8  1  2  3  8  5  2  5  8  3\n",
       " 8  1  8  1  7  8  6  6  8  5\n",
       " 4  3  6  2  5  3  3  1  7  4"
      ]
     },
     "execution_count": 4,
     "metadata": {},
     "output_type": "execute_result"
    }
   ],
   "source": [
    "PDA = parse_input(\"pda.txt\")"
   ]
  },
  {
   "cell_type": "markdown",
   "metadata": {},
   "source": [
    "## part 1"
   ]
  },
  {
   "cell_type": "code",
   "execution_count": 5,
   "metadata": {
    "ExecuteTime": {
     "end_time": "2021-12-11T13:28:01.313000+08:00",
     "start_time": "2021-12-11T05:27:54.772Z"
    }
   },
   "outputs": [
    {
     "data": {
      "text/plain": [
       "8-element Vector{CartesianIndex{2}}:\n",
       " CartesianIndex(-1, -1)\n",
       " CartesianIndex(-1, 0)\n",
       " CartesianIndex(-1, 1)\n",
       " CartesianIndex(0, -1)\n",
       " CartesianIndex(0, 1)\n",
       " CartesianIndex(1, -1)\n",
       " CartesianIndex(1, 0)\n",
       " CartesianIndex(1, 1)"
      ]
     },
     "execution_count": 5,
     "metadata": {},
     "output_type": "execute_result"
    }
   ],
   "source": [
    "neighbour_offsets()"
   ]
  },
  {
   "cell_type": "code",
   "execution_count": 6,
   "metadata": {
    "ExecuteTime": {
     "end_time": "2021-12-11T13:28:01.600000+08:00",
     "start_time": "2021-12-11T05:27:54.774Z"
    },
    "scrolled": true
   },
   "outputs": [
    {
     "data": {
      "text/plain": [
       "3-element Vector{CartesianIndex{2}}:\n",
       " CartesianIndex(1, 2)\n",
       " CartesianIndex(2, 1)\n",
       " CartesianIndex(2, 2)"
      ]
     },
     "execution_count": 6,
     "metadata": {},
     "output_type": "execute_result"
    }
   ],
   "source": [
    "get_neighbours(PDS1, CI(1, 1))"
   ]
  },
  {
   "cell_type": "code",
   "execution_count": 42,
   "metadata": {
    "ExecuteTime": {
     "end_time": "2021-12-11T13:54:16.981000+08:00",
     "start_time": "2021-12-11T05:54:16.661Z"
    }
   },
   "outputs": [
    {
     "data": {
      "text/plain": [
       "(otps = [6 5 … 3 4; 3 8 … 2 2; … ; 5 9 … 6 5; 6 3 … 3 7], num_flash = 0)"
      ]
     },
     "execution_count": 42,
     "metadata": {},
     "output_type": "execute_result"
    }
   ],
   "source": [
    "flash(increase_energy((otps=PDS1, num_flash=0)))"
   ]
  },
  {
   "cell_type": "code",
   "execution_count": 43,
   "metadata": {
    "ExecuteTime": {
     "end_time": "2021-12-11T13:55:09.714000+08:00",
     "start_time": "2021-12-11T05:55:09.689Z"
    }
   },
   "outputs": [
    {
     "data": {
      "text/plain": [
       "true"
      ]
     },
     "execution_count": 43,
     "metadata": {},
     "output_type": "execute_result"
    }
   ],
   "source": [
    "is_done((otps=PDS1, num_flash=0))"
   ]
  },
  {
   "cell_type": "code",
   "execution_count": 44,
   "metadata": {
    "ExecuteTime": {
     "end_time": "2021-12-11T13:55:20.944000+08:00",
     "start_time": "2021-12-11T05:55:20.888Z"
    },
    "scrolled": true
   },
   "outputs": [
    {
     "data": {
      "text/plain": [
       "10×10 Matrix{Int64}:\n",
       " 8  8  0  7  4  7  6  5  5  5\n",
       " 5  0  8  9  0  8  7  0  5  4\n",
       " 8  5  9  7  8  8  9  6  0  8\n",
       " 8  4  8  5  7  6  9  6  0  0\n",
       " 8  7  0  0  9  0  8  8  0  0\n",
       " 6  6  0  0  0  8  8  9  8  9\n",
       " 6  8  0  0  0  0  5  9  4  3\n",
       " 0  0  0  0  0  0  7  4  5  6\n",
       " 9  0  0  0  0  0  0  8  7  6\n",
       " 8  7  0  0  0  0  6  8  4  8"
      ]
     },
     "execution_count": 44,
     "metadata": {},
     "output_type": "execute_result"
    }
   ],
   "source": [
    "((otps=PDS1, num_flash=0) |> next |> next)[1]"
   ]
  },
  {
   "cell_type": "markdown",
   "metadata": {},
   "source": [
    "### answer"
   ]
  },
  {
   "cell_type": "code",
   "execution_count": 45,
   "metadata": {
    "ExecuteTime": {
     "end_time": "2021-12-11T13:55:28.507000+08:00",
     "start_time": "2021-12-11T05:55:28.391Z"
    }
   },
   "outputs": [
    {
     "name": "stdout",
     "output_type": "stream",
     "text": [
      "  0.062962 seconds (314.36 k allocations: 33.334 MiB, 14.22% gc time, 63.04% compilation time)\n"
     ]
    },
    {
     "name": "stderr",
     "output_type": "stream",
     "text": [
      "┌ Info: part 1 answer\n",
      "│   result1(PDS1, 100) = 1656\n",
      "│   result1(PDA, 100) = 1741\n",
      "└ @ Main In[45]:1\n"
     ]
    }
   ],
   "source": [
    "@time @info(\n",
    "    \"part 1 answer\",\n",
    "    result1(PDS1, 100),\n",
    "    result1(PDA, 100),\n",
    ")"
   ]
  },
  {
   "cell_type": "markdown",
   "metadata": {},
   "source": [
    "## part 2"
   ]
  },
  {
   "cell_type": "markdown",
   "metadata": {},
   "source": [
    "### answer"
   ]
  },
  {
   "cell_type": "code",
   "execution_count": 46,
   "metadata": {
    "ExecuteTime": {
     "end_time": "2021-12-11T13:55:31.270000+08:00",
     "start_time": "2021-12-11T05:55:31.099Z"
    }
   },
   "outputs": [
    {
     "name": "stdout",
     "output_type": "stream",
     "text": [
      "  0.109080 seconds (548.95 k allocations: 79.692 MiB, 13.39% gc time, 26.44% compilation time)\n"
     ]
    },
    {
     "name": "stderr",
     "output_type": "stream",
     "text": [
      "┌ Info: part 2 answer\n",
      "│   result2(PDS1) = 195\n",
      "│   result2(PDA) = 440\n",
      "└ @ Main In[46]:1\n"
     ]
    }
   ],
   "source": [
    "@time @info(\n",
    "    \"part 2 answer\",\n",
    "    result2(PDS1),\n",
    "    result2(PDA),\n",
    "    )"
   ]
  }
 ],
 "metadata": {
  "@webio": {
   "lastCommId": null,
   "lastKernelId": null
  },
  "kernelspec": {
   "display_name": "Julia 1.7.0",
   "language": "julia",
   "name": "julia-1.7"
  },
  "language_info": {
   "file_extension": ".jl",
   "mimetype": "application/julia",
   "name": "julia",
   "version": "1.7.0"
  },
  "latex_envs": {
   "LaTeX_envs_menu_present": true,
   "autoclose": false,
   "autocomplete": true,
   "bibliofile": "biblio.bib",
   "cite_by": "apalike",
   "current_citInitial": 1,
   "eqLabelWithNumbers": true,
   "eqNumInitial": 1,
   "hotkeys": {
    "equation": "Ctrl-E",
    "itemize": "Ctrl-I"
   },
   "labels_anchors": false,
   "latex_user_defs": false,
   "report_style_numbering": false,
   "user_envs_cfg": false
  },
  "toc": {
   "base_numbering": 1,
   "nav_menu": {},
   "number_sections": true,
   "sideBar": true,
   "skip_h1_title": true,
   "title_cell": "Table of Contents",
   "title_sidebar": "Contents",
   "toc_cell": true,
   "toc_position": {},
   "toc_section_display": true,
   "toc_window_display": false
  }
 },
 "nbformat": 4,
 "nbformat_minor": 4
}
