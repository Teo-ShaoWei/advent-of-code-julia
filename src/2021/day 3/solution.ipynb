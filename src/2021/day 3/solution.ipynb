{
 "cells": [
  {
   "cell_type": "markdown",
   "metadata": {},
   "source": [
    "# Advent of Code 2021 Day 1\n",
    "[link](https://adventofcode.com/2021/day/1)"
   ]
  },
  {
   "cell_type": "markdown",
   "metadata": {
    "toc": true
   },
   "source": [
    "<h1>Table of Contents<span class=\"tocSkip\"></span></h1>\n",
    "<div class=\"toc\"><ul class=\"toc-item\"><li><span><a href=\"#read-input\" data-toc-modified-id=\"read-input-1\"><span class=\"toc-item-num\">1&nbsp;&nbsp;</span>read input</a></span><ul class=\"toc-item\"><li><span><a href=\"#parse_input\" data-toc-modified-id=\"parse_input-1.1\"><span class=\"toc-item-num\">1.1&nbsp;&nbsp;</span>parse_input</a></span></li><li><span><a href=\"#input_sample_1\" data-toc-modified-id=\"input_sample_1-1.2\"><span class=\"toc-item-num\">1.2&nbsp;&nbsp;</span>input_sample_1</a></span></li><li><span><a href=\"#input_puzzle\" data-toc-modified-id=\"input_puzzle-1.3\"><span class=\"toc-item-num\">1.3&nbsp;&nbsp;</span>input_puzzle</a></span></li></ul></li><li><span><a href=\"#part-1\" data-toc-modified-id=\"part-1-2\"><span class=\"toc-item-num\">2&nbsp;&nbsp;</span>part 1</a></span><ul class=\"toc-item\"><li><span><a href=\"#answer\" data-toc-modified-id=\"answer-2.1\"><span class=\"toc-item-num\">2.1&nbsp;&nbsp;</span>answer</a></span></li></ul></li><li><span><a href=\"#part-2\" data-toc-modified-id=\"part-2-3\"><span class=\"toc-item-num\">3&nbsp;&nbsp;</span>part 2</a></span><ul class=\"toc-item\"><li><span><a href=\"#answer\" data-toc-modified-id=\"answer-3.1\"><span class=\"toc-item-num\">3.1&nbsp;&nbsp;</span>answer</a></span></li></ul></li></ul></div>"
   ]
  },
  {
   "cell_type": "code",
   "execution_count": null,
   "metadata": {},
   "outputs": [],
   "source": [
    "# using Combinatorics\n",
    "# using DataStructures\n",
    "# using OffsetArrays\n",
    "# using Mods"
   ]
  },
  {
   "cell_type": "markdown",
   "metadata": {},
   "source": [
    "## read input"
   ]
  },
  {
   "cell_type": "markdown",
   "metadata": {},
   "source": [
    "### parse_input"
   ]
  },
  {
   "cell_type": "code",
   "execution_count": 1,
   "metadata": {
    "ExecuteTime": {
     "end_time": "2021-12-03T13:01:03.590000+08:00",
     "start_time": "2021-12-03T05:01:02.417Z"
    }
   },
   "outputs": [
    {
     "data": {
      "text/plain": [
       "parse_input (generic function with 1 method)"
      ]
     },
     "execution_count": 1,
     "metadata": {},
     "output_type": "execute_result"
    }
   ],
   "source": [
    "function parse_input(filename) \n",
    "    lines = parse_line.(readlines(filename))\n",
    "end"
   ]
  },
  {
   "cell_type": "code",
   "execution_count": 47,
   "metadata": {
    "ExecuteTime": {
     "end_time": "2021-12-03T13:21:45.937000+08:00",
     "start_time": "2021-12-03T05:21:45.935Z"
    }
   },
   "outputs": [
    {
     "data": {
      "text/plain": [
       "parse_line (generic function with 1 method)"
      ]
     },
     "execution_count": 47,
     "metadata": {},
     "output_type": "execute_result"
    }
   ],
   "source": [
    "function parse_line(line)\n",
    "    String.(split(line, \"\"))\n",
    "end"
   ]
  },
  {
   "cell_type": "markdown",
   "metadata": {},
   "source": [
    "### input_sample_1"
   ]
  },
  {
   "cell_type": "code",
   "execution_count": 48,
   "metadata": {
    "ExecuteTime": {
     "end_time": "2021-12-03T13:21:47.510000+08:00",
     "start_time": "2021-12-03T05:21:46.835Z"
    },
    "scrolled": true
   },
   "outputs": [
    {
     "data": {
      "text/plain": [
       "12-element Vector{Vector{String}}:\n",
       " [\"0\", \"0\", \"1\", \"0\", \"0\"]\n",
       " [\"1\", \"1\", \"1\", \"1\", \"0\"]\n",
       " [\"1\", \"0\", \"1\", \"1\", \"0\"]\n",
       " [\"1\", \"0\", \"1\", \"1\", \"1\"]\n",
       " [\"1\", \"0\", \"1\", \"0\", \"1\"]\n",
       " [\"0\", \"1\", \"1\", \"1\", \"1\"]\n",
       " [\"0\", \"0\", \"1\", \"1\", \"1\"]\n",
       " [\"1\", \"1\", \"1\", \"0\", \"0\"]\n",
       " [\"1\", \"0\", \"0\", \"0\", \"0\"]\n",
       " [\"1\", \"1\", \"0\", \"0\", \"1\"]\n",
       " [\"0\", \"0\", \"0\", \"1\", \"0\"]\n",
       " [\"0\", \"1\", \"0\", \"1\", \"0\"]"
      ]
     },
     "execution_count": 48,
     "metadata": {},
     "output_type": "execute_result"
    }
   ],
   "source": [
    "input_sample_1 = parse_input(\"input_sample_1.txt\")"
   ]
  },
  {
   "cell_type": "markdown",
   "metadata": {},
   "source": [
    "### input_puzzle"
   ]
  },
  {
   "cell_type": "code",
   "execution_count": 49,
   "metadata": {
    "ExecuteTime": {
     "end_time": "2021-12-03T13:21:49.552000+08:00",
     "start_time": "2021-12-03T05:21:49.497Z"
    },
    "scrolled": true
   },
   "outputs": [
    {
     "data": {
      "text/plain": [
       "1000-element Vector{Vector{String}}:\n",
       " [\"0\", \"1\", \"1\", \"1\", \"1\", \"0\", \"1\", \"1\", \"1\", \"1\", \"0\", \"1\"]\n",
       " [\"1\", \"1\", \"0\", \"0\", \"1\", \"0\", \"0\", \"1\", \"0\", \"0\", \"0\", \"1\"]\n",
       " [\"1\", \"1\", \"1\", \"0\", \"1\", \"1\", \"1\", \"1\", \"1\", \"1\", \"1\", \"1\"]\n",
       " [\"1\", \"1\", \"0\", \"0\", \"1\", \"1\", \"0\", \"1\", \"0\", \"1\", \"0\", \"0\"]\n",
       " [\"1\", \"1\", \"1\", \"1\", \"0\", \"0\", \"0\", \"0\", \"0\", \"0\", \"1\", \"1\"]\n",
       " [\"0\", \"1\", \"0\", \"1\", \"0\", \"1\", \"0\", \"0\", \"1\", \"0\", \"0\", \"1\"]\n",
       " [\"0\", \"1\", \"0\", \"1\", \"0\", \"1\", \"0\", \"0\", \"0\", \"0\", \"1\", \"0\"]\n",
       " [\"1\", \"0\", \"0\", \"1\", \"1\", \"1\", \"1\", \"0\", \"1\", \"0\", \"0\", \"0\"]\n",
       " [\"1\", \"1\", \"0\", \"1\", \"1\", \"0\", \"1\", \"0\", \"1\", \"1\", \"1\", \"0\"]\n",
       " [\"0\", \"0\", \"1\", \"0\", \"0\", \"1\", \"1\", \"0\", \"1\", \"0\", \"0\", \"0\"]\n",
       " [\"1\", \"0\", \"1\", \"1\", \"0\", \"0\", \"1\", \"0\", \"0\", \"1\", \"1\", \"0\"]\n",
       " [\"1\", \"0\", \"1\", \"0\", \"0\", \"1\", \"1\", \"0\", \"0\", \"1\", \"1\", \"0\"]\n",
       " [\"1\", \"0\", \"1\", \"1\", \"1\", \"0\", \"0\", \"0\", \"0\", \"1\", \"1\", \"0\"]\n",
       " ⋮\n",
       " [\"0\", \"1\", \"0\", \"1\", \"0\", \"1\", \"1\", \"1\", \"0\", \"1\", \"1\", \"1\"]\n",
       " [\"1\", \"1\", \"1\", \"1\", \"0\", \"0\", \"1\", \"0\", \"1\", \"0\", \"1\", \"1\"]\n",
       " [\"1\", \"0\", \"1\", \"1\", \"0\", \"1\", \"0\", \"0\", \"1\", \"1\", \"0\", \"1\"]\n",
       " [\"0\", \"1\", \"1\", \"0\", \"1\", \"1\", \"1\", \"1\", \"1\", \"1\", \"1\", \"0\"]\n",
       " [\"0\", \"1\", \"1\", \"1\", \"0\", \"0\", \"0\", \"1\", \"1\", \"0\", \"0\", \"1\"]\n",
       " [\"1\", \"1\", \"0\", \"0\", \"1\", \"0\", \"0\", \"1\", \"1\", \"1\", \"0\", \"0\"]\n",
       " [\"0\", \"0\", \"0\", \"0\", \"0\", \"1\", \"0\", \"1\", \"1\", \"1\", \"0\", \"0\"]\n",
       " [\"1\", \"0\", \"1\", \"1\", \"1\", \"0\", \"1\", \"0\", \"0\", \"1\", \"1\", \"0\"]\n",
       " [\"0\", \"1\", \"0\", \"0\", \"0\", \"1\", \"0\", \"1\", \"1\", \"1\", \"0\", \"0\"]\n",
       " [\"0\", \"1\", \"1\", \"1\", \"1\", \"1\", \"0\", \"0\", \"1\", \"0\", \"1\", \"0\"]\n",
       " [\"1\", \"0\", \"0\", \"1\", \"1\", \"1\", \"1\", \"0\", \"0\", \"1\", \"0\", \"1\"]\n",
       " [\"1\", \"1\", \"1\", \"1\", \"1\", \"1\", \"0\", \"0\", \"0\", \"0\", \"1\", \"0\"]"
      ]
     },
     "execution_count": 49,
     "metadata": {},
     "output_type": "execute_result"
    }
   ],
   "source": [
    "input_puzzle = parse_input(\"input_puzzle.txt\")"
   ]
  },
  {
   "cell_type": "markdown",
   "metadata": {},
   "source": [
    "## part 1"
   ]
  },
  {
   "cell_type": "code",
   "execution_count": 66,
   "metadata": {
    "ExecuteTime": {
     "end_time": "2021-12-03T13:25:55.236000+08:00",
     "start_time": "2021-12-03T05:25:55.214Z"
    }
   },
   "outputs": [
    {
     "data": {
      "text/plain": [
       "([488, 507, 495, 504, 507, 493, 513, 507, 495, 513, 492, 491], [512, 493, 505, 496, 493, 507, 487, 493, 505, 487, 508, 509])"
      ]
     },
     "execution_count": 66,
     "metadata": {},
     "output_type": "execute_result"
    }
   ],
   "source": [
    "ins = input_puzzle\n",
    "\n",
    "count0 = zeros(Int, length(ins[1]))\n",
    "count1 = zeros(Int, length(ins[1]))\n",
    "for i in 1:length(ins[1])\n",
    "    for v in ins\n",
    "        if v[i] == \"0\"\n",
    "            count0[i] += 1\n",
    "        else\n",
    "            count1[i] += 1\n",
    "        end\n",
    "    end\n",
    "end\n",
    "return count0, count1"
   ]
  },
  {
   "cell_type": "code",
   "execution_count": 67,
   "metadata": {
    "ExecuteTime": {
     "end_time": "2021-12-03T13:25:58.091000+08:00",
     "start_time": "2021-12-03T05:25:58.076Z"
    }
   },
   "outputs": [
    {
     "data": {
      "text/plain": [
       "2635"
      ]
     },
     "execution_count": 67,
     "metadata": {},
     "output_type": "execute_result"
    }
   ],
   "source": [
    "gamma = String[]\n",
    "for i in 1:length(ins[1])\n",
    "    push!(gamma, (count0[i] > count1[i]) ? \"0\" : \"1\")\n",
    "end\n",
    "gamma_num = parse(Int, join(gamma), base=2)"
   ]
  },
  {
   "cell_type": "code",
   "execution_count": 68,
   "metadata": {
    "ExecuteTime": {
     "end_time": "2021-12-03T13:25:58.792000+08:00",
     "start_time": "2021-12-03T05:25:58.777Z"
    }
   },
   "outputs": [
    {
     "data": {
      "text/plain": [
       "1460"
      ]
     },
     "execution_count": 68,
     "metadata": {},
     "output_type": "execute_result"
    }
   ],
   "source": [
    "epsilon = String[]\n",
    "for i in 1:length(ins[1])\n",
    "    push!(epsilon, (count0[i] > count1[i]) ? \"1\" : \"0\")\n",
    "end\n",
    "epsilon_num = parse(Int, join(epsilon), base=2)\n"
   ]
  },
  {
   "cell_type": "code",
   "execution_count": 69,
   "metadata": {
    "ExecuteTime": {
     "end_time": "2021-12-03T13:26:00.129000+08:00",
     "start_time": "2021-12-03T05:26:00.125Z"
    }
   },
   "outputs": [
    {
     "data": {
      "text/plain": [
       "12-element Vector{String}:\n",
       " \"0\"\n",
       " \"1\"\n",
       " \"0\"\n",
       " \"1\"\n",
       " \"1\"\n",
       " \"0\"\n",
       " \"1\"\n",
       " \"1\"\n",
       " \"0\"\n",
       " \"1\"\n",
       " \"0\"\n",
       " \"0\""
      ]
     },
     "execution_count": 69,
     "metadata": {},
     "output_type": "execute_result"
    }
   ],
   "source": [
    "epsilon"
   ]
  },
  {
   "cell_type": "code",
   "execution_count": 76,
   "metadata": {
    "ExecuteTime": {
     "end_time": "2021-12-03T13:33:22.442000+08:00",
     "start_time": "2021-12-03T05:33:22.440Z"
    }
   },
   "outputs": [
    {
     "data": {
      "text/plain": [
       "3847100"
      ]
     },
     "execution_count": 76,
     "metadata": {},
     "output_type": "execute_result"
    }
   ],
   "source": [
    "gamma_num * epsilon_num"
   ]
  },
  {
   "cell_type": "markdown",
   "metadata": {},
   "source": [
    "### answer"
   ]
  },
  {
   "cell_type": "code",
   "execution_count": 50,
   "metadata": {
    "ExecuteTime": {
     "end_time": "2021-12-02T13:27:34.073000+08:00",
     "start_time": "2021-12-02T05:27:33.885Z"
    }
   },
   "outputs": [
    {
     "name": "stdout",
     "output_type": "stream",
     "text": [
      "  0.108448 seconds (201.22 k allocations: 12.224 MiB, 8.62% gc time, 98.80% compilation time)\n"
     ]
    },
    {
     "name": "stderr",
     "output_type": "stream",
     "text": [
      "┌ Info: part 1 answer\n",
      "│   ans = 1561344\n",
      "└ @ Main In[50]:1\n"
     ]
    }
   ],
   "source": [
    "@time @info(\n",
    "        \"part 1 answer\",\n",
    "        ans = move_part1(input_puzzle),\n",
    "    )"
   ]
  },
  {
   "cell_type": "markdown",
   "metadata": {},
   "source": [
    "## part 2"
   ]
  },
  {
   "cell_type": "code",
   "execution_count": 71,
   "metadata": {
    "ExecuteTime": {
     "end_time": "2021-12-03T13:26:08.467000+08:00",
     "start_time": "2021-12-03T05:26:08.440Z"
    }
   },
   "outputs": [
    {
     "data": {
      "text/plain": [
       "1-element Vector{Any}:\n",
       " [\"1\", \"0\", \"1\", \"0\", \"1\", \"0\", \"1\", \"0\", \"1\", \"1\", \"1\", \"1\"]"
      ]
     },
     "execution_count": 71,
     "metadata": {},
     "output_type": "execute_result"
    }
   ],
   "source": [
    "oxy_v = copy(ins)\n",
    "\n",
    "for i in 1:length(ins[1])    \n",
    "    if length(oxy_v) == 1\n",
    "        return oxy_v\n",
    "    end\n",
    "    \n",
    "    new_oxy_v = []\n",
    "    \n",
    "    c0 = 0\n",
    "    c1 = 0\n",
    "    for v in oxy_v\n",
    "        if v[i] == \"0\"\n",
    "            c0 += 1\n",
    "        else\n",
    "            c1 += 1\n",
    "        end\n",
    "    end\n",
    "    \n",
    "    x = c0 > c1 ? \"0\" : \"1\"\n",
    "\n",
    "    \n",
    "    for v in oxy_v\n",
    "        if v[i] == x\n",
    "            push!(new_oxy_v, v)\n",
    "        end\n",
    "    end\n",
    "    oxy_v = new_oxy_v\n",
    "end\n",
    "return oxy_v"
   ]
  },
  {
   "cell_type": "code",
   "execution_count": 72,
   "metadata": {
    "ExecuteTime": {
     "end_time": "2021-12-03T13:26:09.979000+08:00",
     "start_time": "2021-12-03T05:26:09.977Z"
    }
   },
   "outputs": [
    {
     "data": {
      "text/plain": [
       "2735"
      ]
     },
     "execution_count": 72,
     "metadata": {},
     "output_type": "execute_result"
    }
   ],
   "source": [
    "oxy = parse(Int, join(oxy_v[1]), base=2)"
   ]
  },
  {
   "cell_type": "code",
   "execution_count": 73,
   "metadata": {
    "ExecuteTime": {
     "end_time": "2021-12-03T13:26:13.929000+08:00",
     "start_time": "2021-12-03T05:26:13.902Z"
    }
   },
   "outputs": [
    {
     "data": {
      "text/plain": [
       "1-element Vector{Any}:\n",
       " [\"0\", \"1\", \"0\", \"1\", \"1\", \"1\", \"0\", \"1\", \"1\", \"1\", \"0\", \"1\"]"
      ]
     },
     "execution_count": 73,
     "metadata": {},
     "output_type": "execute_result"
    }
   ],
   "source": [
    "co_v = copy(ins)\n",
    "\n",
    "for i in 1:length(ins[1])\n",
    "    if length(co_v) == 1\n",
    "        return co_v\n",
    "    end\n",
    "    \n",
    "    new_co_v = []\n",
    "    \n",
    "    c0 = 0\n",
    "    c1 = 0\n",
    "    for v in co_v\n",
    "        if v[i] == \"0\"\n",
    "            c0 += 1\n",
    "        else\n",
    "            c1 += 1\n",
    "        end\n",
    "    end\n",
    "    \n",
    "    x = c0 > c1 ? \"1\" : \"0\"\n",
    "\n",
    "    \n",
    "    for v in co_v\n",
    "        if v[i] == x\n",
    "            push!(new_co_v, v)\n",
    "        end\n",
    "    end\n",
    "    co_v = new_co_v\n",
    "end\n",
    "return co_v"
   ]
  },
  {
   "cell_type": "code",
   "execution_count": 74,
   "metadata": {
    "ExecuteTime": {
     "end_time": "2021-12-03T13:26:14.703000+08:00",
     "start_time": "2021-12-03T05:26:14.701Z"
    }
   },
   "outputs": [
    {
     "data": {
      "text/plain": [
       "1501"
      ]
     },
     "execution_count": 74,
     "metadata": {},
     "output_type": "execute_result"
    }
   ],
   "source": [
    "co = parse(Int, join(co_v[1]), base=2)"
   ]
  },
  {
   "cell_type": "code",
   "execution_count": 75,
   "metadata": {
    "ExecuteTime": {
     "end_time": "2021-12-03T13:26:15.464000+08:00",
     "start_time": "2021-12-03T05:26:15.462Z"
    }
   },
   "outputs": [
    {
     "data": {
      "text/plain": [
       "4105235"
      ]
     },
     "execution_count": 75,
     "metadata": {},
     "output_type": "execute_result"
    }
   ],
   "source": [
    "oxy * co"
   ]
  },
  {
   "cell_type": "code",
   "execution_count": 55,
   "metadata": {
    "ExecuteTime": {
     "end_time": "2021-12-02T13:30:47.321000+08:00",
     "start_time": "2021-12-02T05:30:47.318Z"
    }
   },
   "outputs": [
    {
     "data": {
      "text/plain": [
       "move_part2 (generic function with 1 method)"
      ]
     },
     "execution_count": 55,
     "metadata": {},
     "output_type": "execute_result"
    }
   ],
   "source": [
    "function move_part2(inputs)\n",
    "    c = [0, 0]\n",
    "    aim = 0\n",
    "    for i in inputs\n",
    "        if i.d == \"forward\"\n",
    "            c[1] += i.m\n",
    "            c[2] += i.m * aim\n",
    "        elseif i.d == \"down\"\n",
    "            aim += i.m\n",
    "        else  # i.d == \"up\"\n",
    "            aim -= i.m\n",
    "        end\n",
    "    end\n",
    "    return prod(c)\n",
    "end"
   ]
  },
  {
   "cell_type": "code",
   "execution_count": 56,
   "metadata": {
    "ExecuteTime": {
     "end_time": "2021-12-02T13:30:48.069000+08:00",
     "start_time": "2021-12-02T05:30:48.041Z"
    },
    "scrolled": true
   },
   "outputs": [
    {
     "data": {
      "text/plain": [
       "900"
      ]
     },
     "execution_count": 56,
     "metadata": {},
     "output_type": "execute_result"
    }
   ],
   "source": [
    "move_part2(input_sample_1)"
   ]
  },
  {
   "cell_type": "markdown",
   "metadata": {},
   "source": [
    "### answer"
   ]
  },
  {
   "cell_type": "code",
   "execution_count": 57,
   "metadata": {
    "ExecuteTime": {
     "end_time": "2021-12-02T13:31:12.212000+08:00",
     "start_time": "2021-12-02T05:31:12.145Z"
    }
   },
   "outputs": [
    {
     "name": "stdout",
     "output_type": "stream",
     "text": [
      "  0.000133 seconds (62 allocations: 2.328 KiB)\n"
     ]
    },
    {
     "name": "stderr",
     "output_type": "stream",
     "text": [
      "┌ Info: part 2 answer\n",
      "│   ans = 1848454425\n",
      "└ @ Main In[57]:1\n"
     ]
    }
   ],
   "source": [
    "@time @info(\n",
    "        \"part 2 answer\",\n",
    "        ans = move_part2(input_puzzle),\n",
    "    )"
   ]
  }
 ],
 "metadata": {
  "@webio": {
   "lastCommId": null,
   "lastKernelId": null
  },
  "kernelspec": {
   "display_name": "Julia 1.6.0",
   "language": "julia",
   "name": "julia-1.6"
  },
  "language_info": {
   "file_extension": ".jl",
   "mimetype": "application/julia",
   "name": "julia",
   "version": "1.6.0"
  },
  "latex_envs": {
   "LaTeX_envs_menu_present": true,
   "autoclose": false,
   "autocomplete": true,
   "bibliofile": "biblio.bib",
   "cite_by": "apalike",
   "current_citInitial": 1,
   "eqLabelWithNumbers": true,
   "eqNumInitial": 1,
   "hotkeys": {
    "equation": "Ctrl-E",
    "itemize": "Ctrl-I"
   },
   "labels_anchors": false,
   "latex_user_defs": false,
   "report_style_numbering": false,
   "user_envs_cfg": false
  },
  "toc": {
   "base_numbering": 1,
   "nav_menu": {},
   "number_sections": true,
   "sideBar": true,
   "skip_h1_title": true,
   "title_cell": "Table of Contents",
   "title_sidebar": "Contents",
   "toc_cell": true,
   "toc_position": {},
   "toc_section_display": true,
   "toc_window_display": true
  }
 },
 "nbformat": 4,
 "nbformat_minor": 4
}
