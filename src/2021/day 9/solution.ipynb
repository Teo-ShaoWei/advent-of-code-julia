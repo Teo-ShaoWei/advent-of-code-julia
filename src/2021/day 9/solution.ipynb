{
 "cells": [
  {
   "cell_type": "markdown",
   "metadata": {},
   "source": [
    "# Advent of Code 2021 Day 9\n",
    "[link](https://adventofcode.com/2021/day/9)"
   ]
  },
  {
   "cell_type": "markdown",
   "metadata": {
    "toc": true
   },
   "source": [
    "<h1>Table of Contents<span class=\"tocSkip\"></span></h1>\n",
    "<div class=\"toc\"><ul class=\"toc-item\"><li><span><a href=\"#read-input\" data-toc-modified-id=\"read-input-1\"><span class=\"toc-item-num\">1&nbsp;&nbsp;</span>read input</a></span><ul class=\"toc-item\"><li><span><a href=\"#PDS1-:=-puzzle-data-sample-1\" data-toc-modified-id=\"PDS1-:=-puzzle-data-sample-1-1.1\"><span class=\"toc-item-num\">1.1&nbsp;&nbsp;</span>PDS1 := puzzle data sample 1</a></span></li><li><span><a href=\"#PDA-:=-puzzle-data-actual\" data-toc-modified-id=\"PDA-:=-puzzle-data-actual-1.2\"><span class=\"toc-item-num\">1.2&nbsp;&nbsp;</span>PDA := puzzle data actual</a></span></li></ul></li><li><span><a href=\"#part-1\" data-toc-modified-id=\"part-1-2\"><span class=\"toc-item-num\">2&nbsp;&nbsp;</span>part 1</a></span><ul class=\"toc-item\"><li><span><a href=\"#answer\" data-toc-modified-id=\"answer-2.1\"><span class=\"toc-item-num\">2.1&nbsp;&nbsp;</span>answer</a></span></li></ul></li><li><span><a href=\"#part-2\" data-toc-modified-id=\"part-2-3\"><span class=\"toc-item-num\">3&nbsp;&nbsp;</span>part 2</a></span><ul class=\"toc-item\"><li><span><a href=\"#answer\" data-toc-modified-id=\"answer-3.1\"><span class=\"toc-item-num\">3.1&nbsp;&nbsp;</span>answer</a></span></li></ul></li><li><span><a href=\"#helpers\" data-toc-modified-id=\"helpers-4\"><span class=\"toc-item-num\">4&nbsp;&nbsp;</span>helpers</a></span></li><li><span><a href=\"#read-input\" data-toc-modified-id=\"read-input-5\"><span class=\"toc-item-num\">5&nbsp;&nbsp;</span>read input</a></span><ul class=\"toc-item\"><li><span><a href=\"#parse_input\" data-toc-modified-id=\"parse_input-5.1\"><span class=\"toc-item-num\">5.1&nbsp;&nbsp;</span>parse_input</a></span></li><li><span><a href=\"#ips1-:=-input-puzzle-sample-1\" data-toc-modified-id=\"ips1-:=-input-puzzle-sample-1-5.2\"><span class=\"toc-item-num\">5.2&nbsp;&nbsp;</span>ips1 := input puzzle sample 1</a></span></li><li><span><a href=\"#ipa-:=-input-puzzle-actual\" data-toc-modified-id=\"ipa-:=-input-puzzle-actual-5.3\"><span class=\"toc-item-num\">5.3&nbsp;&nbsp;</span>ipa := input puzzle actual</a></span></li></ul></li><li><span><a href=\"#part-1\" data-toc-modified-id=\"part-1-6\"><span class=\"toc-item-num\">6&nbsp;&nbsp;</span>part 1</a></span><ul class=\"toc-item\"><li><span><a href=\"#answer\" data-toc-modified-id=\"answer-6.1\"><span class=\"toc-item-num\">6.1&nbsp;&nbsp;</span>answer</a></span></li></ul></li><li><span><a href=\"#part-2\" data-toc-modified-id=\"part-2-7\"><span class=\"toc-item-num\">7&nbsp;&nbsp;</span>part 2</a></span><ul class=\"toc-item\"><li><span><a href=\"#answer\" data-toc-modified-id=\"answer-7.1\"><span class=\"toc-item-num\">7.1&nbsp;&nbsp;</span>answer</a></span></li></ul></li></ul></div>"
   ]
  },
  {
   "cell_type": "code",
   "execution_count": 1,
   "metadata": {
    "ExecuteTime": {
     "end_time": "2021-12-11T02:33:11.243000+08:00",
     "start_time": "2021-12-10T18:33:10.231Z"
    }
   },
   "outputs": [],
   "source": [
    "using Revise"
   ]
  },
  {
   "cell_type": "code",
   "execution_count": 3,
   "metadata": {
    "ExecuteTime": {
     "end_time": "2021-12-11T02:33:27.165000+08:00",
     "start_time": "2021-12-10T18:33:23.266Z"
    },
    "scrolled": true
   },
   "outputs": [],
   "source": [
    "includet(\"solution.jl\")"
   ]
  },
  {
   "cell_type": "markdown",
   "metadata": {},
   "source": [
    "## read input"
   ]
  },
  {
   "cell_type": "markdown",
   "metadata": {},
   "source": [
    "### PDS1 := puzzle data sample 1"
   ]
  },
  {
   "cell_type": "code",
   "execution_count": 19,
   "metadata": {
    "ExecuteTime": {
     "end_time": "2021-12-11T03:02:03.988000+08:00",
     "start_time": "2021-12-10T19:02:03.959Z"
    },
    "scrolled": true
   },
   "outputs": [
    {
     "data": {
      "text/plain": [
       "5×10 transpose(::Matrix{Int64}) with eltype Int64:\n",
       " 2  1  9  9  9  4  3  2  1  0\n",
       " 3  9  8  7  8  9  4  9  2  1\n",
       " 9  8  5  6  7  8  9  8  9  2\n",
       " 8  7  6  7  8  9  6  7  8  9\n",
       " 9  8  9  9  9  6  5  6  7  8"
      ]
     },
     "execution_count": 19,
     "metadata": {},
     "output_type": "execute_result"
    }
   ],
   "source": [
    "PDS1 = parse_input(\"pds1.txt\")"
   ]
  },
  {
   "cell_type": "code",
   "execution_count": 37,
   "metadata": {
    "ExecuteTime": {
     "end_time": "2021-12-11T03:42:16.080000+08:00",
     "start_time": "2021-12-10T19:42:15.932Z"
    }
   },
   "outputs": [
    {
     "ename": "LoadError",
     "evalue": "BoundsError: attempt to access Tuple{Vector{Int64}} at index [2]",
     "output_type": "error",
     "traceback": [
      "BoundsError: attempt to access Tuple{Vector{Int64}} at index [2]",
      "",
      "Stacktrace:",
      " [1] getindex",
      "   @ ./tuple.jl:29 [inlined]",
      " [2] _typed_hvncat_dims(#unused#::Type{Int64}, dims::Tuple{Int64, Int64}, row_first::Bool, as::Tuple{Vector{Int64}})",
      "   @ Base ./abstractarray.jl:2320",
      " [3] _typed_hvncat",
      "   @ ./abstractarray.jl:2304 [inlined]",
      " [4] _hvncat",
      "   @ ./abstractarray.jl:2137 [inlined]",
      " [5] hvncat(dimsshape::Tuple{Int64, Int64}, row_first::Bool, xs::Vector{Int64})",
      "   @ Base ./abstractarray.jl:2129",
      " [6] top-level scope",
      "   @ In[37]:1",
      " [7] eval",
      "   @ ./boot.jl:373 [inlined]",
      " [8] include_string(mapexpr::typeof(REPL.softscope), mod::Module, code::String, filename::String)",
      "   @ Base ./loading.jl:1196"
     ]
    }
   ],
   "source": [
    "hvncat((2, 3), false, collect(1:6))"
   ]
  },
  {
   "cell_type": "markdown",
   "metadata": {},
   "source": [
    "### PDA := puzzle data actual"
   ]
  },
  {
   "cell_type": "code",
   "execution_count": null,
   "metadata": {
    "scrolled": true
   },
   "outputs": [],
   "source": [
    "PDA = parse_input(\"pda.txt\")"
   ]
  },
  {
   "cell_type": "markdown",
   "metadata": {},
   "source": [
    "## part 1"
   ]
  },
  {
   "cell_type": "code",
   "execution_count": null,
   "metadata": {},
   "outputs": [],
   "source": []
  },
  {
   "cell_type": "markdown",
   "metadata": {},
   "source": [
    "### answer"
   ]
  },
  {
   "cell_type": "code",
   "execution_count": null,
   "metadata": {},
   "outputs": [],
   "source": [
    "@time @info(\n",
    "    \"part 1 answer\",\n",
    "    result1(PDS1),\n",
    "    result1(PDA),\n",
    ")"
   ]
  },
  {
   "cell_type": "markdown",
   "metadata": {},
   "source": [
    "## part 2"
   ]
  },
  {
   "cell_type": "code",
   "execution_count": null,
   "metadata": {},
   "outputs": [],
   "source": []
  },
  {
   "cell_type": "markdown",
   "metadata": {},
   "source": [
    "### answer"
   ]
  },
  {
   "cell_type": "code",
   "execution_count": null,
   "metadata": {},
   "outputs": [],
   "source": [
    "@time @info(\n",
    "    \"part 2 answer\",\n",
    "    result2(PDS1),\n",
    "    result2(PDA),\n",
    "    )"
   ]
  },
  {
   "cell_type": "markdown",
   "metadata": {},
   "source": [
    "## helpers"
   ]
  },
  {
   "cell_type": "code",
   "execution_count": 2,
   "metadata": {
    "ExecuteTime": {
     "end_time": "2021-12-09T13:01:00.116000+08:00",
     "start_time": "2021-12-09T05:00:58.078Z"
    }
   },
   "outputs": [
    {
     "data": {
      "text/plain": [
       "CartesianIndex"
      ]
     },
     "execution_count": 2,
     "metadata": {},
     "output_type": "execute_result"
    }
   ],
   "source": [
    "CI = CartesianIndex\n",
    "CIS = CartesianIndices"
   ]
  },
  {
   "cell_type": "markdown",
   "metadata": {},
   "source": [
    "## read input"
   ]
  },
  {
   "cell_type": "markdown",
   "metadata": {},
   "source": [
    "### parse_input"
   ]
  },
  {
   "cell_type": "code",
   "execution_count": 127,
   "metadata": {
    "ExecuteTime": {
     "end_time": "2021-12-09T14:13:43.090000+08:00",
     "start_time": "2021-12-09T06:13:42.857Z"
    }
   },
   "outputs": [
    {
     "data": {
      "text/plain": [
       "6-element Vector{SubString{String}}:\n",
       " \"2199943210\"\n",
       " \"3987894921\"\n",
       " \"9856789892\"\n",
       " \"8767896789\"\n",
       " \"9899965678\"\n",
       " \"\""
      ]
     },
     "execution_count": 127,
     "metadata": {},
     "output_type": "execute_result"
    }
   ],
   "source": [
    "split(read(\"ips1.txt\", String), \"\\n\")"
   ]
  },
  {
   "cell_type": "code",
   "execution_count": 128,
   "metadata": {
    "ExecuteTime": {
     "end_time": "2021-12-09T14:22:42.736000+08:00",
     "start_time": "2021-12-09T06:22:42.658Z"
    }
   },
   "outputs": [
    {
     "ename": "LoadError",
     "evalue": "MethodError: no method matching eachline(::Matrix{Int64})\n\u001b[0mClosest candidates are:\n\u001b[0m  eachline() at /Applications/Julia-1.7.app/Contents/Resources/julia/share/julia/base/io.jl:1009\n\u001b[0m  eachline(\u001b[91m::IO\u001b[39m; keep) at /Applications/Julia-1.7.app/Contents/Resources/julia/share/julia/base/io.jl:1009\n\u001b[0m  eachline(\u001b[91m::AbstractString\u001b[39m; keep) at /Applications/Julia-1.7.app/Contents/Resources/julia/share/julia/base/io.jl:1013\n\u001b[0m  ...",
     "output_type": "error",
     "traceback": [
      "MethodError: no method matching eachline(::Matrix{Int64})\n\u001b[0mClosest candidates are:\n\u001b[0m  eachline() at /Applications/Julia-1.7.app/Contents/Resources/julia/share/julia/base/io.jl:1009\n\u001b[0m  eachline(\u001b[91m::IO\u001b[39m; keep) at /Applications/Julia-1.7.app/Contents/Resources/julia/share/julia/base/io.jl:1009\n\u001b[0m  eachline(\u001b[91m::AbstractString\u001b[39m; keep) at /Applications/Julia-1.7.app/Contents/Resources/julia/share/julia/base/io.jl:1013\n\u001b[0m  ...",
      "",
      "Stacktrace:",
      " [1] readlines(s::Matrix{Int64}; kw::Base.Pairs{Symbol, Union{}, Tuple{}, NamedTuple{(), Tuple{}}})",
      "   @ Base ./io.jl:553",
      " [2] readlines(s::Matrix{Int64})",
      "   @ Base ./io.jl:553",
      " [3] top-level scope",
      "   @ In[128]:1",
      " [4] eval",
      "   @ ./boot.jl:373 [inlined]",
      " [5] include_string(mapexpr::typeof(REPL.softscope), mod::Module, code::String, filename::String)",
      "   @ Base ./loading.jl:1196"
     ]
    }
   ],
   "source": [
    "lines = parse_line.(readlines(ips1))\n",
    "\n",
    "[lines[i][j] for i in 1:length(lines), j in 1:length(lines[1])]"
   ]
  },
  {
   "cell_type": "code",
   "execution_count": 12,
   "metadata": {
    "ExecuteTime": {
     "end_time": "2021-12-09T13:02:28.757000+08:00",
     "start_time": "2021-12-09T05:02:28.743Z"
    },
    "code_folding": [],
    "scrolled": true
   },
   "outputs": [
    {
     "data": {
      "text/plain": [
       "parse_input (generic function with 1 method)"
      ]
     },
     "execution_count": 12,
     "metadata": {},
     "output_type": "execute_result"
    }
   ],
   "source": [
    "function parse_input(f) \n",
    "    lines = parse_line.(readlines(f))\n",
    "    \n",
    "    [lines[i][j] for i in 1:length(lines), j in 1:length(lines[1])]\n",
    "end"
   ]
  },
  {
   "cell_type": "code",
   "execution_count": 10,
   "metadata": {
    "ExecuteTime": {
     "end_time": "2021-12-09T13:01:44.197000+08:00",
     "start_time": "2021-12-09T05:01:44.183Z"
    }
   },
   "outputs": [
    {
     "data": {
      "text/plain": [
       "parse_line (generic function with 1 method)"
      ]
     },
     "execution_count": 10,
     "metadata": {},
     "output_type": "execute_result"
    }
   ],
   "source": [
    "function parse_line(l)\n",
    "    parse.(Int, split(l, \"\"))\n",
    "end"
   ]
  },
  {
   "cell_type": "markdown",
   "metadata": {},
   "source": [
    "### ips1 := input puzzle sample 1"
   ]
  },
  {
   "cell_type": "code",
   "execution_count": 13,
   "metadata": {
    "ExecuteTime": {
     "end_time": "2021-12-09T13:02:30.701000+08:00",
     "start_time": "2021-12-09T05:02:30.246Z"
    },
    "scrolled": true
   },
   "outputs": [
    {
     "data": {
      "text/plain": [
       "5×10 Matrix{Int64}:\n",
       " 2  1  9  9  9  4  3  2  1  0\n",
       " 3  9  8  7  8  9  4  9  2  1\n",
       " 9  8  5  6  7  8  9  8  9  2\n",
       " 8  7  6  7  8  9  6  7  8  9\n",
       " 9  8  9  9  9  6  5  6  7  8"
      ]
     },
     "execution_count": 13,
     "metadata": {},
     "output_type": "execute_result"
    }
   ],
   "source": [
    "ips1 = parse_input(\"ips1.txt\")"
   ]
  },
  {
   "cell_type": "markdown",
   "metadata": {},
   "source": [
    "### ipa := input puzzle actual"
   ]
  },
  {
   "cell_type": "code",
   "execution_count": 14,
   "metadata": {
    "ExecuteTime": {
     "end_time": "2021-12-09T13:02:39.615000+08:00",
     "start_time": "2021-12-09T05:02:39.597Z"
    },
    "scrolled": true
   },
   "outputs": [
    {
     "data": {
      "text/plain": [
       "100×100 Matrix{Int64}:\n",
       " 9  8  7  4  3  2  1  2  9  2  1  9  8  …  7  7  8  9  1  0  9  7  6  4  2  3\n",
       " 9  9  6  5  4  3  4  7  8  9  9  8  7     5  6  7  8  9  9  9  9  7  9  1  0\n",
       " 9  8  7  6  5  4  5  6  9  5  9  8  6     6  7  8  9  7  8  9  9  9  8  9  1\n",
       " 5  9  8  8  8  5  6  8  9  4  5  9  7     9  8  9  5  6  9  9  9  8  7  8  9\n",
       " 6  7  9  9  7  6  8  9  4  3  4  9  8     9  9  3  4  6  8  9  8  7  6  7  8\n",
       " 7  9  9  9  8  7  9  8  9  4  6  7  9  …  8  9  2  3  8  9  8  9  8  4  6  5\n",
       " 9  8  9  9  9  9  8  7  9  6  7  8  9     9  1  0  1  9  8  7  6  4  3  4  3\n",
       " 5  7  8  9  9  9  7  6  8  9  8  9  1     7  9  1  9  9  9  9  5  3  2  1  2\n",
       " 4  5  7  9  8  8  6  5  7  8  9  1  0     6  7  9  8  9  9  9  9  9  9  2  3\n",
       " 6  7  9  7  6  7  5  4  8  7  8  9  9     5  3  5  6  7  8  9  8  7  8  9  9\n",
       " 8  9  6  5  4  5  2  3  4  6  7  8  9  …  3  2  4  5  7  9  8  7  6  7  9  8\n",
       " 9  8  9  4  3  2  1  2  5  7  8  9  4     5  4  5  6  9  8  6  5  4  5  6  7\n",
       " 6  7  8  9  4  3  2  3  4  5  9  9  5     6  5  7  9  7  6  5  4  3  4  5  6\n",
       " ⋮              ⋮              ⋮        ⋱        ⋮              ⋮           \n",
       " 9  9  8  7  9  7  9  8  9  9  9  9  9     5  9  8  7  6  9  8  9  8  9  5  7\n",
       " 8  9  9  8  9  6  7  9  9  9  8  8  7     9  8  7  6  5  4  9  2  9  3  4  6\n",
       " 7  8  9  9  5  4  3  5  9  7  6  7  6  …  5  9  8  7  3  2  1  0  1  2  4  5\n",
       " 6  7  8  9  4  3  2  9  7  6  5  4  5     4  9  6  5  4  3  2  1  2  3  5  6\n",
       " 5  6  7  8  9  4  3  9  8  7  4  3  5     9  8  7  6  9  5  3  2  3  4  6  7\n",
       " 3  5  6  7  8  9  9  8  7  6  5  9  6     5  9  8  9  8  7  8  3  4  6  7  8\n",
       " 2  7  7  8  9  4  3  9  8  9  9  8  9     9  8  9  8  9  8  9  4  5  6  8  9\n",
       " 3  4  6  9  6  4  2  4  9  8  9  7  9  …  9  7  7  6  5  9  8  6  7  7  9  2\n",
       " 6  5  7  8  9  3  1  9  8  7  6  5  6     8  6  7  3  4  5  9  7  8  8  9  3\n",
       " 7  9  8  9  6  4  9  8  9  6  6  4  8     6  4  3  2  3  6  9  8  9  9  5  4\n",
       " 8  9  9  9  7  9  8  7  6  5  5  3  6     7  5  4  5  4  7  8  9  7  9  9  5\n",
       " 9  2  1  2  9  8  7  6  5  4  3  2  4     8  6  5  6  7  9  9  7  6  7  8  9"
      ]
     },
     "execution_count": 14,
     "metadata": {},
     "output_type": "execute_result"
    }
   ],
   "source": [
    "ipa = parse_input(\"ipa.txt\")"
   ]
  },
  {
   "cell_type": "markdown",
   "metadata": {},
   "source": [
    "## part 1"
   ]
  },
  {
   "cell_type": "code",
   "execution_count": 15,
   "metadata": {
    "ExecuteTime": {
     "end_time": "2021-12-09T13:03:19.198000+08:00",
     "start_time": "2021-12-09T05:03:19.183Z"
    }
   },
   "outputs": [
    {
     "data": {
      "text/plain": [
       "2×2 Matrix{Int64}:\n",
       " 1  2\n",
       " 3  4"
      ]
     },
     "execution_count": 15,
     "metadata": {},
     "output_type": "execute_result"
    }
   ],
   "source": [
    "v = [1 2; 3 4]"
   ]
  },
  {
   "cell_type": "code",
   "execution_count": 44,
   "metadata": {
    "ExecuteTime": {
     "end_time": "2021-12-09T13:12:33.735000+08:00",
     "start_time": "2021-12-09T05:12:33.719Z"
    }
   },
   "outputs": [
    {
     "data": {
      "text/plain": [
       "neighbours (generic function with 1 method)"
      ]
     },
     "execution_count": 44,
     "metadata": {},
     "output_type": "execute_result"
    }
   ],
   "source": [
    "function neighbours(area, index::CI)\n",
    "    result = CI[]\n",
    "    if index[1] > 1\n",
    "        push!(result, CI(index[1] - 1, index[2]))\n",
    "    end\n",
    "    if index[1] < size(area, 1)\n",
    "        push!(result, CI(index[1] + 1, index[2]))\n",
    "    end\n",
    "    if index[2] > 1\n",
    "        push!(result, CI(index[1], index[2] - 1))\n",
    "    end\n",
    "    if index[2] < size(area, 2)\n",
    "        push!(result, CI(index[1], index[2] + 1))\n",
    "    end\n",
    "    \n",
    "    return result\n",
    "end"
   ]
  },
  {
   "cell_type": "code",
   "execution_count": 45,
   "metadata": {
    "ExecuteTime": {
     "end_time": "2021-12-09T13:12:35.317000+08:00",
     "start_time": "2021-12-09T05:12:35.292Z"
    }
   },
   "outputs": [
    {
     "data": {
      "text/plain": [
       "4-element Vector{CartesianIndex}:\n",
       " CartesianIndex(3, 7)\n",
       " CartesianIndex(5, 7)\n",
       " CartesianIndex(4, 6)\n",
       " CartesianIndex(4, 8)"
      ]
     },
     "execution_count": 45,
     "metadata": {},
     "output_type": "execute_result"
    }
   ],
   "source": [
    "neighbours(ips1, CI(4, 7))"
   ]
  },
  {
   "cell_type": "code",
   "execution_count": 26,
   "metadata": {
    "ExecuteTime": {
     "end_time": "2021-12-09T13:08:43.305000+08:00",
     "start_time": "2021-12-09T05:08:43.212Z"
    }
   },
   "outputs": [
    {
     "data": {
      "text/plain": [
       "is_low_point (generic function with 1 method)"
      ]
     },
     "execution_count": 26,
     "metadata": {},
     "output_type": "execute_result"
    }
   ],
   "source": [
    "function is_low_point(area, coor)\n",
    "    ns = neighbours(area, coor)\n",
    "    \n",
    "    return area[coor] < minimum(area[c] for c in ns)\n",
    "end"
   ]
  },
  {
   "cell_type": "code",
   "execution_count": 69,
   "metadata": {
    "ExecuteTime": {
     "end_time": "2021-12-09T13:22:47.076000+08:00",
     "start_time": "2021-12-09T05:22:46.987Z"
    }
   },
   "outputs": [
    {
     "data": {
      "text/plain": [
       "all_valleys (generic function with 1 method)"
      ]
     },
     "execution_count": 69,
     "metadata": {},
     "output_type": "execute_result"
    }
   ],
   "source": [
    "function all_valleys(area)\n",
    "    result = CI[]\n",
    "    for c in CartesianIndices(area)\n",
    "        is_low_point(area, c) && push!(result, c)\n",
    "    end\n",
    "    return result\n",
    "end"
   ]
  },
  {
   "cell_type": "code",
   "execution_count": 72,
   "metadata": {
    "ExecuteTime": {
     "end_time": "2021-12-09T13:22:58.955000+08:00",
     "start_time": "2021-12-09T05:22:58.941Z"
    }
   },
   "outputs": [
    {
     "data": {
      "text/plain": [
       "result1 (generic function with 1 method)"
      ]
     },
     "execution_count": 72,
     "metadata": {},
     "output_type": "execute_result"
    }
   ],
   "source": [
    "function result1(ip)\n",
    "    result = all_valleys(ip)\n",
    "    \n",
    "    sum(ip[c] + 1 for c in result)\n",
    "end"
   ]
  },
  {
   "cell_type": "markdown",
   "metadata": {},
   "source": [
    "### answer"
   ]
  },
  {
   "cell_type": "code",
   "execution_count": 73,
   "metadata": {
    "ExecuteTime": {
     "end_time": "2021-12-09T13:22:59.862000+08:00",
     "start_time": "2021-12-09T05:22:59.766Z"
    }
   },
   "outputs": [
    {
     "name": "stdout",
     "output_type": "stream",
     "text": [
      "  0.045294 seconds (265.81 k allocations: 9.695 MiB, 72.27% compilation time)\n"
     ]
    },
    {
     "name": "stderr",
     "output_type": "stream",
     "text": [
      "┌ Info: part 1 answer\n",
      "│   result1(ips1) = 15\n",
      "│   result1(ipa) = 633\n",
      "└ @ Main In[73]:1\n"
     ]
    }
   ],
   "source": [
    "@time @info(\n",
    "    \"part 1 answer\",\n",
    "    result1(ips1),\n",
    "    result1(ipa),\n",
    ")"
   ]
  },
  {
   "cell_type": "markdown",
   "metadata": {},
   "source": [
    "## part 2"
   ]
  },
  {
   "cell_type": "code",
   "execution_count": 54,
   "metadata": {
    "ExecuteTime": {
     "end_time": "2021-12-09T13:18:33.621000+08:00",
     "start_time": "2021-12-09T05:18:33.607Z"
    }
   },
   "outputs": [
    {
     "data": {
      "text/plain": [
       "is_done (generic function with 2 methods)"
      ]
     },
     "execution_count": 54,
     "metadata": {},
     "output_type": "execute_result"
    }
   ],
   "source": [
    "function is_done(visited)\n",
    "    all(visited)\n",
    "end"
   ]
  },
  {
   "cell_type": "code",
   "execution_count": 102,
   "metadata": {
    "ExecuteTime": {
     "end_time": "2021-12-09T13:34:56.594000+08:00",
     "start_time": "2021-12-09T05:34:56.480Z"
    }
   },
   "outputs": [
    {
     "data": {
      "text/plain": [
       "get_basin_size (generic function with 1 method)"
      ]
     },
     "execution_count": 102,
     "metadata": {},
     "output_type": "execute_result"
    }
   ],
   "source": [
    "function get_basin_size(valleys, v::CI)\n",
    "    count(==(v), valleys)\n",
    "end"
   ]
  },
  {
   "cell_type": "code",
   "execution_count": 118,
   "metadata": {
    "ExecuteTime": {
     "end_time": "2021-12-09T13:37:48.019000+08:00",
     "start_time": "2021-12-09T05:37:48.000Z"
    }
   },
   "outputs": [
    {
     "data": {
      "text/plain": [
       "result2 (generic function with 1 method)"
      ]
     },
     "execution_count": 118,
     "metadata": {},
     "output_type": "execute_result"
    }
   ],
   "source": [
    "function result2(area)\n",
    "    visited = falses(size(area))\n",
    "    for c in CartesianIndices(area)\n",
    "        (area[c] == 9) && (visited[c] = true)\n",
    "    end\n",
    "    \n",
    "    valleys = similar(area, Union{Nothing, CI})\n",
    "    fill!(valleys, nothing)\n",
    "    initial_valleys = all_valleys(area)\n",
    "    for v in initial_valleys\n",
    "        valleys[v] = v\n",
    "    end\n",
    "    \n",
    "    q = Queue{CI}()\n",
    "    for v in initial_valleys\n",
    "        enqueue!(q, v)\n",
    "    end\n",
    "    \n",
    "    while !isempty(q)\n",
    "        c = dequeue!(q)\n",
    "        for n in neighbours(area, c)\n",
    "            visited[n] && continue\n",
    "            valleys[n] = valleys[c]\n",
    "            enqueue!(q, n)\n",
    "            visited[n] = true\n",
    "        end\n",
    "    end\n",
    "    \n",
    "    s = [get_basin_size(valleys, v) for v in initial_valleys]\n",
    "    sort!(s)\n",
    "    return prod(s[(end - 2):end])\n",
    "end"
   ]
  },
  {
   "cell_type": "markdown",
   "metadata": {},
   "source": [
    "### answer"
   ]
  },
  {
   "cell_type": "code",
   "execution_count": 119,
   "metadata": {
    "ExecuteTime": {
     "end_time": "2021-12-09T13:37:49.241000+08:00",
     "start_time": "2021-12-09T05:37:48.964Z"
    }
   },
   "outputs": [
    {
     "name": "stdout",
     "output_type": "stream",
     "text": [
      "  0.217363 seconds (2.35 M allocations: 75.621 MiB, 7.74% gc time, 45.42% compilation time)\n"
     ]
    },
    {
     "name": "stderr",
     "output_type": "stream",
     "text": [
      "┌ Info: part 2 answer\n",
      "│   result2(ips1) = 1134\n",
      "│   result2(ipa) = 1050192\n",
      "└ @ Main In[119]:1\n"
     ]
    }
   ],
   "source": [
    "@time @info(\n",
    "    \"part 2 answer\",\n",
    "    result2(ips1),\n",
    "    result2(ipa),\n",
    "    )"
   ]
  }
 ],
 "metadata": {
  "@webio": {
   "lastCommId": null,
   "lastKernelId": null
  },
  "kernelspec": {
   "display_name": "Julia 1.7.0",
   "language": "julia",
   "name": "julia-1.7"
  },
  "language_info": {
   "file_extension": ".jl",
   "mimetype": "application/julia",
   "name": "julia",
   "version": "1.7.0"
  },
  "latex_envs": {
   "LaTeX_envs_menu_present": true,
   "autoclose": false,
   "autocomplete": true,
   "bibliofile": "biblio.bib",
   "cite_by": "apalike",
   "current_citInitial": 1,
   "eqLabelWithNumbers": true,
   "eqNumInitial": 1,
   "hotkeys": {
    "equation": "Ctrl-E",
    "itemize": "Ctrl-I"
   },
   "labels_anchors": false,
   "latex_user_defs": false,
   "report_style_numbering": false,
   "user_envs_cfg": false
  },
  "toc": {
   "base_numbering": 1,
   "nav_menu": {},
   "number_sections": true,
   "sideBar": true,
   "skip_h1_title": true,
   "title_cell": "Table of Contents",
   "title_sidebar": "Contents",
   "toc_cell": true,
   "toc_position": {},
   "toc_section_display": true,
   "toc_window_display": true
  }
 },
 "nbformat": 4,
 "nbformat_minor": 4
}
