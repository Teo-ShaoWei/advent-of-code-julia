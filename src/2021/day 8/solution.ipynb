{
 "cells": [
  {
   "cell_type": "markdown",
   "metadata": {},
   "source": [
    "# Advent of Code 2021 Day 7\n",
    "[link](https://adventofcode.com/2021/day/7)"
   ]
  },
  {
   "cell_type": "markdown",
   "metadata": {
    "toc": true
   },
   "source": [
    "<h1>Table of Contents<span class=\"tocSkip\"></span></h1>\n",
    "<div class=\"toc\"><ul class=\"toc-item\"><li><span><a href=\"#helpers\" data-toc-modified-id=\"helpers-1\"><span class=\"toc-item-num\">1&nbsp;&nbsp;</span>helpers</a></span></li><li><span><a href=\"#read-input\" data-toc-modified-id=\"read-input-2\"><span class=\"toc-item-num\">2&nbsp;&nbsp;</span>read input</a></span><ul class=\"toc-item\"><li><span><a href=\"#parse_input\" data-toc-modified-id=\"parse_input-2.1\"><span class=\"toc-item-num\">2.1&nbsp;&nbsp;</span>parse_input</a></span></li><li><span><a href=\"#ips1-:=-input-puzzle-sample-1\" data-toc-modified-id=\"ips1-:=-input-puzzle-sample-1-2.2\"><span class=\"toc-item-num\">2.2&nbsp;&nbsp;</span>ips1 := input puzzle sample 1</a></span></li><li><span><a href=\"#ipa-:=-input-puzzle-actual\" data-toc-modified-id=\"ipa-:=-input-puzzle-actual-2.3\"><span class=\"toc-item-num\">2.3&nbsp;&nbsp;</span>ipa := input puzzle actual</a></span></li></ul></li><li><span><a href=\"#part-1\" data-toc-modified-id=\"part-1-3\"><span class=\"toc-item-num\">3&nbsp;&nbsp;</span>part 1</a></span><ul class=\"toc-item\"><li><span><a href=\"#answer\" data-toc-modified-id=\"answer-3.1\"><span class=\"toc-item-num\">3.1&nbsp;&nbsp;</span>answer</a></span></li></ul></li><li><span><a href=\"#part-2\" data-toc-modified-id=\"part-2-4\"><span class=\"toc-item-num\">4&nbsp;&nbsp;</span>part 2</a></span><ul class=\"toc-item\"><li><span><a href=\"#answer\" data-toc-modified-id=\"answer-4.1\"><span class=\"toc-item-num\">4.1&nbsp;&nbsp;</span>answer</a></span></li></ul></li></ul></div>"
   ]
  },
  {
   "cell_type": "code",
   "execution_count": null,
   "metadata": {},
   "outputs": [],
   "source": [
    "using Revise\n",
    "\n",
    "# using Combinatorics\n",
    "# using DataStructures\n",
    "using OffsetArrays\n",
    "# using Mods"
   ]
  },
  {
   "cell_type": "markdown",
   "metadata": {},
   "source": [
    "## helpers"
   ]
  },
  {
   "cell_type": "code",
   "execution_count": null,
   "metadata": {},
   "outputs": [],
   "source": [
    "CI = CartesianIndex"
   ]
  },
  {
   "cell_type": "markdown",
   "metadata": {},
   "source": [
    "## read input"
   ]
  },
  {
   "cell_type": "markdown",
   "metadata": {},
   "source": [
    "### parse_input"
   ]
  },
  {
   "cell_type": "code",
   "execution_count": 4,
   "metadata": {
    "ExecuteTime": {
     "end_time": "2021-12-08T13:04:49.503000+08:00",
     "start_time": "2021-12-08T05:04:49.500Z"
    },
    "code_folding": [],
    "scrolled": true
   },
   "outputs": [
    {
     "data": {
      "text/plain": [
       "parse_input (generic function with 1 method)"
      ]
     },
     "execution_count": 4,
     "metadata": {},
     "output_type": "execute_result"
    }
   ],
   "source": [
    "function parse_input(f) \n",
    "    parse_line.(readlines(f))\n",
    "end"
   ]
  },
  {
   "cell_type": "code",
   "execution_count": 55,
   "metadata": {
    "ExecuteTime": {
     "end_time": "2021-12-08T13:38:15.094000+08:00",
     "start_time": "2021-12-08T05:38:15.090Z"
    }
   },
   "outputs": [
    {
     "data": {
      "text/plain": [
       "3-element Vector{Char}:\n",
       " 'a': ASCII/Unicode U+0061 (category Ll: Letter, lowercase)\n",
       " 's': ASCII/Unicode U+0073 (category Ll: Letter, lowercase)\n",
       " 'b': ASCII/Unicode U+0062 (category Ll: Letter, lowercase)"
      ]
     },
     "execution_count": 55,
     "metadata": {},
     "output_type": "execute_result"
    }
   ],
   "source": [
    "collect(\"asb\")"
   ]
  },
  {
   "cell_type": "code",
   "execution_count": 56,
   "metadata": {
    "ExecuteTime": {
     "end_time": "2021-12-08T13:38:35.743000+08:00",
     "start_time": "2021-12-08T05:38:35.741Z"
    }
   },
   "outputs": [
    {
     "data": {
      "text/plain": [
       "parse_line (generic function with 1 method)"
      ]
     },
     "execution_count": 56,
     "metadata": {},
     "output_type": "execute_result"
    }
   ],
   "source": [
    "function parse_line(l)\n",
    "    f, b = split(l, \" | \")\n",
    "    \n",
    "    f = collect.(split(f, ' '))\n",
    "    b = collect.(split(b, ' '))\n",
    "        \n",
    "    return (; f, b)\n",
    "end"
   ]
  },
  {
   "cell_type": "markdown",
   "metadata": {},
   "source": [
    "### ips1 := input puzzle sample 1"
   ]
  },
  {
   "cell_type": "code",
   "execution_count": 57,
   "metadata": {
    "ExecuteTime": {
     "end_time": "2021-12-08T13:38:37.704000+08:00",
     "start_time": "2021-12-08T05:38:37.004Z"
    },
    "scrolled": true
   },
   "outputs": [
    {
     "data": {
      "text/plain": [
       "10-element Vector{NamedTuple{(:f, :b), Tuple{Vector{Vector{Char}}, Vector{Vector{Char}}}}}:\n",
       " (f = [['b', 'e'], ['c', 'f', 'b', 'e', 'g', 'a', 'd'], ['c', 'b', 'd', 'g', 'e', 'f'], ['f', 'g', 'a', 'e', 'c', 'd'], ['c', 'g', 'e', 'b'], ['f', 'd', 'c', 'g', 'e'], ['a', 'g', 'e', 'b', 'f', 'd'], ['f', 'e', 'c', 'd', 'b'], ['f', 'a', 'b', 'c', 'd'], ['e', 'd', 'b']], b = [['f', 'd', 'g', 'a', 'c', 'b', 'e'], ['c', 'e', 'f', 'd', 'b'], ['c', 'e', 'f', 'b', 'g', 'd'], ['g', 'c', 'b', 'e']])\n",
       " (f = [['e', 'd', 'b', 'f', 'g', 'a'], ['b', 'e', 'g', 'c', 'd'], ['c', 'b', 'g'], ['g', 'c'], ['g', 'c', 'a', 'd', 'e', 'b', 'f'], ['f', 'b', 'g', 'd', 'e'], ['a', 'c', 'b', 'g', 'f', 'd'], ['a', 'b', 'c', 'd', 'e'], ['g', 'f', 'c', 'b', 'e', 'd'], ['g', 'f', 'e', 'c']], b = [['f', 'c', 'g', 'e', 'd', 'b'], ['c', 'g', 'b'], ['d', 'g', 'e', 'b', 'a', 'c', 'f'], ['g', 'c']])\n",
       " (f = [['f', 'g', 'a', 'e', 'b', 'd'], ['c', 'g'], ['b', 'd', 'a', 'e', 'c'], ['g', 'd', 'a', 'f', 'b'], ['a', 'g', 'b', 'c', 'f', 'd'], ['g', 'd', 'c', 'b', 'e', 'f'], ['b', 'g', 'c', 'a', 'd'], ['g', 'f', 'a', 'c'], ['g', 'c', 'b'], ['c', 'd', 'g', 'a', 'b', 'e', 'f']], b = [['c', 'g'], ['c', 'g'], ['f', 'd', 'c', 'a', 'g', 'b'], ['c', 'b', 'g']])\n",
       " (f = [['f', 'b', 'e', 'g', 'c', 'd'], ['c', 'b', 'd'], ['a', 'd', 'c', 'e', 'f', 'b'], ['d', 'a', 'g', 'e', 'b'], ['a', 'f', 'c', 'b'], ['b', 'c'], ['a', 'e', 'f', 'd', 'c'], ['e', 'c', 'd', 'a', 'b'], ['f', 'g', 'd', 'e', 'c', 'a'], ['f', 'c', 'd', 'b', 'e', 'g', 'a']], b = [['e', 'f', 'a', 'b', 'c', 'd'], ['c', 'e', 'd', 'b', 'a'], ['g', 'a', 'd', 'f', 'e', 'c'], ['c', 'b']])\n",
       " (f = [['a', 'e', 'c', 'b', 'f', 'd', 'g'], ['f', 'b', 'g'], ['g', 'f'], ['b', 'a', 'f', 'e', 'g'], ['d', 'b', 'e', 'f', 'a'], ['f', 'c', 'g', 'e'], ['g', 'c', 'b', 'e', 'a'], ['f', 'c', 'a', 'e', 'g', 'b'], ['d', 'g', 'c', 'e', 'a', 'b'], ['f', 'c', 'b', 'd', 'g', 'a']], b = [['g', 'e', 'c', 'f'], ['e', 'g', 'd', 'c', 'a', 'b', 'f'], ['b', 'g', 'f'], ['b', 'f', 'g', 'e', 'a']])\n",
       " (f = [['f', 'g', 'e', 'a', 'b'], ['c', 'a'], ['a', 'f', 'c', 'e', 'b', 'g'], ['b', 'd', 'a', 'c', 'f', 'e', 'g'], ['c', 'f', 'a', 'e', 'd', 'g'], ['g', 'c', 'f', 'd', 'b'], ['b', 'a', 'e', 'c'], ['b', 'f', 'a', 'd', 'e', 'g'], ['b', 'a', 'f', 'g', 'c'], ['a', 'c', 'f']], b = [['g', 'e', 'b', 'd', 'c', 'f', 'a'], ['e', 'c', 'b', 'a'], ['c', 'a'], ['f', 'a', 'd', 'e', 'g', 'c', 'b']])\n",
       " (f = [['d', 'b', 'c', 'f', 'g'], ['f', 'g', 'd'], ['b', 'd', 'e', 'g', 'c', 'a', 'f'], ['f', 'g', 'e', 'c'], ['a', 'e', 'g', 'b', 'd', 'f'], ['e', 'c', 'd', 'f', 'a', 'b'], ['f', 'b', 'e', 'd', 'c'], ['d', 'a', 'c', 'g', 'b'], ['g', 'd', 'c', 'e', 'b', 'f'], ['g', 'f']], b = [['c', 'e', 'f', 'g'], ['d', 'c', 'b', 'e', 'f'], ['f', 'c', 'g', 'e'], ['g', 'b', 'c', 'a', 'd', 'f', 'e']])\n",
       " (f = [['b', 'd', 'f', 'e', 'g', 'c'], ['c', 'b', 'e', 'g', 'a', 'f'], ['g', 'e', 'c', 'b', 'f'], ['d', 'f', 'c', 'a', 'g', 'e'], ['b', 'd', 'a', 'c', 'g'], ['e', 'd'], ['b', 'e', 'd', 'f'], ['c', 'e', 'd'], ['a', 'd', 'c', 'b', 'e', 'f', 'g'], ['g', 'e', 'b', 'c', 'd']], b = [['e', 'd'], ['b', 'c', 'g', 'a', 'f', 'e'], ['c', 'd', 'g', 'b', 'a'], ['c', 'b', 'g', 'e', 'f']])\n",
       " (f = [['e', 'g', 'a', 'd', 'f', 'b'], ['c', 'd', 'b', 'f', 'e', 'g'], ['c', 'e', 'g', 'd'], ['f', 'e', 'c', 'a', 'b'], ['c', 'g', 'b'], ['g', 'b', 'd', 'e', 'f', 'c', 'a'], ['c', 'g'], ['f', 'g', 'c', 'd', 'a', 'b'], ['e', 'g', 'f', 'd', 'b'], ['b', 'f', 'c', 'e', 'g']], b = [['g', 'b', 'd', 'f', 'c', 'a', 'e'], ['b', 'g', 'c'], ['c', 'g'], ['c', 'g', 'b']])\n",
       " (f = [['g', 'c', 'a', 'f', 'b'], ['g', 'c', 'f'], ['d', 'c', 'a', 'e', 'b', 'f', 'g'], ['e', 'c', 'a', 'g', 'b'], ['g', 'f'], ['a', 'b', 'c', 'd', 'e', 'g'], ['g', 'a', 'e', 'f'], ['c', 'a', 'f', 'b', 'g', 'e'], ['f', 'd', 'b', 'a', 'c'], ['f', 'e', 'g', 'b', 'd', 'c']], b = [['f', 'g', 'a', 'e'], ['c', 'f', 'g', 'a', 'b'], ['f', 'g'], ['b', 'a', 'g', 'c', 'e']])"
      ]
     },
     "execution_count": 57,
     "metadata": {},
     "output_type": "execute_result"
    }
   ],
   "source": [
    "ips1 = parse_input(\"ips1.txt\")"
   ]
  },
  {
   "cell_type": "markdown",
   "metadata": {},
   "source": [
    "### ipa := input puzzle actual"
   ]
  },
  {
   "cell_type": "code",
   "execution_count": 58,
   "metadata": {
    "ExecuteTime": {
     "end_time": "2021-12-08T13:38:40.549000+08:00",
     "start_time": "2021-12-08T05:38:40.540Z"
    },
    "scrolled": true
   },
   "outputs": [
    {
     "data": {
      "text/plain": [
       "200-element Vector{NamedTuple{(:f, :b), Tuple{Vector{Vector{Char}}, Vector{Vector{Char}}}}}:\n",
       " (f = [['g', 'b', 'd', 'f', 'c', 'a', 'e'], ['e', 'b', 'c', 'g'], ['c', 'f', 'g'], ['g', 'c'], ['f', 'a', 'c', 'e', 'g', 'b'], ['f', 'e', 'c', 'a', 'b'], ['a', 'c', 'f', 'g', 'e'], ['c', 'b', 'f', 'g', 'd', 'a'], ['f', 'e', 'd', 'a', 'g'], ['c', 'a', 'e', 'b', 'f', 'd']], b = [['e', 'c', 'b', 'g'], ['b', 'f', 'c', 'a', 'g', 'd'], ['f', 'a', 'e', 'g', 'c'], ['g', 'c', 'f']])\n",
       " (f = [['e', 'a', 'c', 'g', 'f'], ['e', 'f', 'c', 'a', 'b'], ['f', 'g', 'c'], ['f', 'e', 'd', 'a', 'g', 'c'], ['g', 'd', 'e', 'a', 'f'], ['c', 'g', 'e', 'd'], ['a', 'e', 'b', 'f', 'g', 'd'], ['a', 'd', 'c', 'g', 'f', 'b', 'e'], ['g', 'c'], ['b', 'd', 'g', 'c', 'a', 'f']], b = [['f', 'g', 'b', 'a', 'c', 'd'], ['c', 'f', 'e', 'g', 'a'], ['e', 'c', 'd', 'g'], ['c', 'g']])\n",
       " (f = [['d', 'f', 'g', 'a', 'e'], ['g', 'c', 'a', 'd', 'e', 'f'], ['e', 'f', 'b'], ['e', 'b'], ['d', 'c', 'a', 'b', 'f'], ['b', 'g', 'd', 'e'], ['e', 'd', 'f', 'b', 'a'], ['b', 'c', 'f', 'a', 'e', 'g'], ['e', 'g', 'c', 'd', 'f', 'a', 'b'], ['f', 'b', 'g', 'a', 'd', 'e']], b = [['b', 'g', 'e', 'd'], ['e', 'a', 'f', 'd', 'b'], ['e', 'b'], ['g', 'f', 'd', 'e', 'a']])\n",
       " (f = [['a', 'e', 'f', 'd', 'b'], ['c', 'a', 'f', 'd', 'g', 'e', 'b'], ['e', 'g', 'd', 'f', 'a', 'c'], ['e', 'g', 'd', 'c', 'b', 'a'], ['f', 'c', 'b', 'd'], ['e', 'f', 'd'], ['e', 'a', 'd', 'c', 'b'], ['c', 'a', 'e', 'f', 'b', 'd'], ['d', 'f'], ['a', 'e', 'g', 'b', 'f']], b = [['c', 'f', 'a', 'd', 'e', 'g'], ['a', 'b', 'f', 'e', 'd', 'g', 'c'], ['f', 'd', 'e'], ['b', 'f', 'c', 'd']])\n",
       " (f = [['d', 'c'], ['d', 'e', 'a', 'f', 'g'], ['e', 'c', 'd'], ['d', 'b', 'a', 'e', 'f', 'c'], ['a', 'd', 'c', 'f', 'e', 'g'], ['c', 'f', 'g', 'e', 'd'], ['e', 'c', 'b', 'f', 'g'], ['a', 'c', 'd', 'g'], ['c', 'a', 'f', 'd', 'e', 'g', 'b'], ['g', 'f', 'e', 'a', 'd', 'b']], b = [['d', 'c', 'g', 'a'], ['e', 'd', 'c'], ['a', 'd', 'f', 'e', 'b', 'c', 'g'], ['e', 'c', 'g', 'f', 'b']])\n",
       " (f = [['b', 'e', 'f', 'd', 'c'], ['b', 'c', 'f', 'g', 'e'], ['b', 'e', 'f', 'a', 'd'], ['d', 'e', 'g', 'f', 'a', 'b'], ['c', 'd', 'e'], ['a', 'e', 'c', 'b', 'f', 'd'], ['g', 'c', 'e', 'd', 'a', 'f'], ['e', 'a', 'f', 'c', 'g', 'd', 'b'], ['d', 'c'], ['b', 'c', 'a', 'd']], b = [['b', 'd', 'e', 'a', 'f', 'c'], ['c', 'd', 'e'], ['e', 'b', 'd', 'c', 'a', 'f', 'g'], ['d', 'a', 'e', 'b', 'g', 'c', 'f']])\n",
       " (f = [['c', 'd'], ['e', 'g', 'd', 'a', 'c', 'f', 'b'], ['f', 'd', 'c'], ['f', 'e', 'c', 'g', 'b'], ['g', 'a', 'b', 'd', 'f'], ['f', 'b', 'c', 'd', 'g'], ['f', 'c', 'g', 'd', 'e', 'b'], ['g', 'd', 'c', 'f', 'e', 'a'], ['d', 'e', 'b', 'c'], ['e', 'c', 'f', 'b', 'g', 'a']], b = [['g', 'f', 'e', 'c', 'b'], ['f', 'b', 'g', 'e', 'c', 'd'], ['b', 'c', 'g', 'e', 'f'], ['d', 'c']])\n",
       " (f = [['f', 'a', 'g', 'c', 'd', 'b', 'e'], ['g', 'e', 'c'], ['g', 'b', 'd', 'e', 'a'], ['c', 'e'], ['b', 'g', 'e', 'd', 'c'], ['a', 'e', 'c', 'd'], ['c', 'g', 'b', 'e', 'a', 'f'], ['c', 'f', 'b', 'd', 'g'], ['g', 'e', 'b', 'c', 'd', 'a'], ['d', 'b', 'f', 'g', 'a', 'e']], b = [['c', 'f', 'b', 'a', 'g', 'e', 'd'], ['c', 'g', 'b', 'e', 'a', 'f'], ['c', 'e', 'g'], ['g', 'a', 'd', 'f', 'b', 'e']])\n",
       " (f = [['g', 'c', 'b', 'a', 'f'], ['g', 'f', 'd', 'b'], ['b', 'd', 'a', 'f', 'c'], ['d', 'f'], ['a', 'd', 'f'], ['a', 'd', 'c', 'b', 'e', 'f', 'g'], ['d', 'c', 'f', 'e', 'a', 'g'], ['c', 'e', 'b', 'a', 'd'], ['a', 'd', 'f', 'g', 'c', 'b'], ['f', 'a', 'e', 'c', 'g', 'b']], b = [['a', 'f', 'd'], ['a', 'g', 'f', 'e', 'd', 'c'], ['d', 'c', 'b', 'f', 'a'], ['g', 'd', 'f', 'a', 'b', 'c']])\n",
       " (f = [['f', 'b', 'a', 'e'], ['c', 'e', 'f'], ['f', 'e', 'c', 'd', 'b', 'g'], ['a', 'f', 'b', 'c', 'g'], ['c', 'e', 'f', 'b', 'g', 'a'], ['f', 'e'], ['a', 'c', 'd', 'f', 'g', 'b'], ['g', 'a', 'd', 'c', 'e'], ['f', 'b', 'd', 'a', 'c', 'g', 'e'], ['f', 'c', 'a', 'g', 'e']], b = [['f', 'e'], ['a', 'b', 'e', 'f'], ['g', 'f', 'b', 'a', 'c'], ['c', 'e', 'f']])\n",
       " (f = [['c', 'f', 'd', 'e', 'b', 'g'], ['b', 'g'], ['b', 'e', 'g'], ['c', 'a', 'b', 'f', 'e', 'g'], ['f', 'b', 'g', 'd'], ['a', 'c', 'g', 'e', 'd'], ['e', 'c', 'g', 'b', 'd'], ['f', 'd', 'c', 'b', 'e'], ['c', 'f', 'b', 'e', 'd', 'a'], ['c', 'e', 'b', 'g', 'a', 'd', 'f']], b = [['f', 'b', 'e', 'd', 'c'], ['g', 'a', 'd', 'c', 'e'], ['g', 'd', 'a', 'e', 'c'], ['b', 'c', 'f', 'e', 'd']])\n",
       " (f = [['g', 'b', 'a'], ['a', 'b'], ['f', 'g', 'b', 'c', 'd'], ['g', 'e', 'd', 'a', 'f'], ['b', 'c', 'a', 'd', 'g', 'e'], ['a', 'f', 'b', 'd', 'g', 'c'], ['c', 'd', 'g', 'f', 'b', 'e'], ['a', 'g', 'd', 'f', 'c', 'b', 'e'], ['b', 'c', 'f', 'a'], ['b', 'd', 'f', 'g', 'a']], b = [['g', 'a', 'b'], ['g', 'd', 'b', 'f', 'c'], ['b', 'a'], ['f', 'g', 'd', 'b', 'c', 'a', 'e']])\n",
       " (f = [['f', 'a', 'b', 'd', 'g', 'c', 'e'], ['b', 'f', 'd', 'g', 'a', 'c'], ['c', 'b', 'a', 'e', 'd'], ['d', 'c', 'b'], ['b', 'g', 'a', 'd', 'e'], ['f', 'b', 'a', 'e', 'c'], ['f', 'c', 'd', 'e'], ['e', 'd', 'b', 'f', 'a', 'c'], ['g', 'f', 'a', 'b', 'e', 'c'], ['c', 'd']], b = [['d', 'c'], ['c', 'e', 'f', 'd'], ['d', 'c'], ['c', 'd']])\n",
       " ⋮\n",
       " (f = [['c', 'a', 'f', 'e', 'b', 'g'], ['a', 'f', 'e', 'd', 'c', 'b'], ['g', 'f', 'e', 'a', 'b', 'c', 'd'], ['f', 'g', 'c', 'b'], ['c', 'f', 'a'], ['a', 'f', 'd', 'e', 'g'], ['f', 'c'], ['e', 'c', 'g', 'a', 'b'], ['d', 'a', 'c', 'e', 'b', 'g'], ['c', 'f', 'e', 'a', 'g']], b = [['b', 'c', 'g', 'f'], ['b', 'g', 'c', 'a', 'e'], ['g', 'd', 'f', 'e', 'a'], ['b', 'g', 'c', 'f']])\n",
       " (f = [['f', 'e', 'g'], ['g', 'f', 'c', 'a', 'e', 'd'], ['c', 'f', 'a', 'b', 'd', 'g', 'e'], ['g', 'f'], ['d', 'e', 'g', 'a', 'f', 'b'], ['f', 'd', 'e', 'g', 'c'], ['e', 'd', 'f', 'c', 'a', 'b'], ['e', 'd', 'g', 'b', 'c'], ['a', 'g', 'c', 'f'], ['c', 'f', 'a', 'd', 'e']], b = [['g', 'f'], ['g', 'f'], ['g', 'a', 'c', 'f'], ['e', 'g', 'f']])\n",
       " (f = [['c', 'e', 'a', 'd', 'f'], ['e', 'c', 'd', 'g', 'f'], ['e', 'a', 'c', 'b', 'd'], ['c', 'e', 'b', 'a', 'g', 'd'], ['d', 'c', 'a', 'b', 'f', 'g', 'e'], ['e', 'a', 'f'], ['f', 'd', 'c', 'e', 'a', 'b'], ['f', 'b', 'a', 'd'], ['f', 'g', 'e', 'b', 'c', 'a'], ['a', 'f']], b = [['c', 'e', 'f', 'a', 'd', 'b'], ['c', 'e', 'f', 'a', 'd'], ['b', 'f', 'a', 'd'], ['a', 'b', 'e', 'd', 'c']])\n",
       " (f = [['g', 'e', 'f', 'a', 'b', 'd'], ['c', 'a', 'b', 'd', 'f', 'e', 'g'], ['d', 'g', 'c', 'e', 'a', 'b'], ['d', 'a', 'g', 'e', 'f'], ['b', 'd', 'f', 'a', 'c', 'g'], ['e', 'g', 'f', 'd', 'c'], ['e', 'd', 'g', 'a', 'b'], ['a', 'f'], ['f', 'e', 'b', 'a'], ['f', 'd', 'a']], b = [['g', 'e', 'a', 'd', 'c', 'b'], ['d', 'a', 'g', 'f', 'c', 'e', 'b'], ['f', 'd', 'a'], ['a', 'f']])\n",
       " (f = [['d', 'f', 'c', 'e', 'a'], ['a', 'd', 'g', 'c', 'e'], ['d', 'f', 'e', 'b', 'c'], ['g', 'e', 'c', 'f', 'd', 'b', 'a'], ['f', 'a', 'd', 'g', 'b', 'e'], ['d', 'c', 'e', 'f', 'g', 'a'], ['c', 'f', 'g', 'a'], ['a', 'e', 'b', 'c', 'd', 'g'], ['e', 'f', 'a'], ['f', 'a']], b = [['f', 'a'], ['f', 'a', 'e'], ['a', 'f'], ['g', 'a', 'e', 'd', 'b', 'f']])\n",
       " (f = [['a', 'g', 'b', 'f', 'd'], ['a', 'c', 'b', 'g', 'e', 'd', 'f'], ['f', 'a', 'e', 'c', 'b'], ['c', 'e', 'g', 'b', 'a', 'd'], ['d', 'g', 'a', 'b', 'f', 'e'], ['g', 'b', 'c'], ['f', 'c', 'd', 'g'], ['c', 'f', 'a', 'g', 'b'], ['g', 'c'], ['a', 'f', 'd', 'b', 'g', 'c']], b = [['c', 'g'], ['c', 'g'], ['d', 'f', 'g', 'b', 'a', 'e'], ['c', 'd', 'f', 'g']])\n",
       " (f = [['e', 'f', 'g'], ['b', 'f', 'a', 'c', 'g'], ['f', 'e', 'a', 'b'], ['e', 'f', 'c', 'a', 'g', 'd'], ['f', 'e'], ['b', 'c', 'a', 'g', 'e', 'd', 'f'], ['e', 'd', 'g', 'b', 'c'], ['e', 'b', 'g', 'c', 'f'], ['a', 'f', 'b', 'e', 'g', 'c'], ['b', 'c', 'f', 'g', 'd', 'a']], b = [['d', 'g', 'e', 'c', 'f', 'a'], ['e', 'f'], ['f', 'g', 'c', 'b', 'a'], ['e', 'f', 'b', 'a']])\n",
       " (f = [['a', 'e', 'b', 'f', 'd', 'c'], ['b', 'c', 'f', 'a', 'g', 'e'], ['d', 'g', 'b', 'a', 'c', 'f'], ['g', 'f', 'a', 'c', 'e'], ['g', 'b', 'a', 'e', 'c', 'f', 'd'], ['d', 'f', 'g', 'c', 'e'], ['g', 'e', 'a', 'b'], ['a', 'c', 'f', 'b', 'g'], ['e', 'a'], ['e', 'a', 'c']], b = [['c', 'a', 'b', 'f', 'g'], ['e', 'a'], ['c', 'f', 'a', 'g', 'b'], ['e', 'a', 'g', 'b']])\n",
       " (f = [['g', 'b', 'a'], ['g', 'd', 'c', 'e', 'a'], ['c', 'd', 'b', 'f', 'g'], ['a', 'c', 'g', 'd', 'b'], ['g', 'b', 'e', 'c', 'a', 'd', 'f'], ['b', 'f', 'g', 'e', 'c', 'd'], ['d', 'g', 'c', 'f', 'a', 'b'], ['a', 'b', 'f', 'c'], ['b', 'a'], ['f', 'd', 'e', 'a', 'g', 'b']], b = [['a', 'b'], ['f', 'e', 'b', 'a', 'g', 'd', 'c'], ['d', 'f', 'g', 'b', 'a', 'c'], ['f', 'd', 'a', 'g', 'c', 'b']])\n",
       " (f = [['d', 'f', 'c', 'b'], ['g', 'c', 'e', 'b', 'd'], ['d', 'f', 'g', 'a', 'e', 'c'], ['e', 'f', 'd', 'g', 'c'], ['e', 'a', 'g', 'c', 'b'], ['d', 'f', 'a', 'e', 'b', 'g'], ['a', 'f', 'e', 'd', 'c', 'b', 'g'], ['g', 'b', 'd'], ['g', 'b', 'c', 'f', 'd', 'e'], ['b', 'd']], b = [['g', 'a', 'd', 'e', 'b', 'f', 'c'], ['d', 'b'], ['f', 'e', 'b', 'd', 'g', 'a'], ['b', 'g', 'd']])\n",
       " (f = [['e', 'a', 'b', 'd'], ['a', 'd', 'c', 'b', 'g'], ['c', 'e', 'a', 'f', 'g'], ['e', 'c', 'b'], ['b', 'e'], ['e', 'a', 'c', 'd', 'b', 'g'], ['a', 'c', 'e', 'g', 'b'], ['g', 'b', 'f', 'c', 'd', 'e'], ['a', 'd', 'g', 'c', 'b', 'f'], ['e', 'c', 'f', 'd', 'g', 'b', 'a']], b = [['c', 'g', 'f', 'e', 'b', 'a', 'd'], ['c', 'b', 'e'], ['e', 'b', 'a', 'c', 'g'], ['d', 'f', 'g', 'c', 'e', 'b']])\n",
       " (f = [['c', 'e', 'f', 'b', 'g', 'd'], ['c', 'g', 'd', 'f', 'a'], ['b', 'a', 'g', 'f', 'c', 'e', 'd'], ['d', 'a', 'b', 'e'], ['f', 'g', 'c', 'e', 'a', 'b'], ['a', 'b', 'f', 'e', 'g'], ['g', 'd', 'b', 'a', 'e', 'f'], ['g', 'b', 'f', 'a', 'd'], ['d', 'b'], ['g', 'd', 'b']], b = [['a', 'e', 'f', 'd', 'g', 'b'], ['b', 'd'], ['a', 'b', 'd', 'f', 'e', 'g', 'c'], ['f', 'g', 'a', 'b', 'e', 'd']])"
      ]
     },
     "execution_count": 58,
     "metadata": {},
     "output_type": "execute_result"
    }
   ],
   "source": [
    "ipa = parse_input(\"ipa.txt\")"
   ]
  },
  {
   "cell_type": "markdown",
   "metadata": {},
   "source": [
    "## part 1"
   ]
  },
  {
   "cell_type": "code",
   "execution_count": 12,
   "metadata": {
    "ExecuteTime": {
     "end_time": "2021-12-08T13:08:35.214000+08:00",
     "start_time": "2021-12-08T05:08:35.124Z"
    }
   },
   "outputs": [
    {
     "data": {
      "text/plain": [
       "count_1478 (generic function with 1 method)"
      ]
     },
     "execution_count": 12,
     "metadata": {},
     "output_type": "execute_result"
    }
   ],
   "source": [
    "function count_1478(l)\n",
    "    count(v -> length(v) ∈ [2, 3, 4, 7], l.b)\n",
    "end"
   ]
  },
  {
   "cell_type": "code",
   "execution_count": 16,
   "metadata": {
    "ExecuteTime": {
     "end_time": "2021-12-08T13:09:17.114000+08:00",
     "start_time": "2021-12-08T05:09:17.111Z"
    }
   },
   "outputs": [
    {
     "data": {
      "text/plain": [
       "result1 (generic function with 1 method)"
      ]
     },
     "execution_count": 16,
     "metadata": {},
     "output_type": "execute_result"
    }
   ],
   "source": [
    "function result1(ip)\n",
    "    sum(count_1478(l) for l in ip)\n",
    "end"
   ]
  },
  {
   "cell_type": "markdown",
   "metadata": {},
   "source": [
    "### answer"
   ]
  },
  {
   "cell_type": "code",
   "execution_count": 18,
   "metadata": {
    "ExecuteTime": {
     "end_time": "2021-12-08T13:09:21.032000+08:00",
     "start_time": "2021-12-08T05:09:20.950Z"
    }
   },
   "outputs": [
    {
     "name": "stdout",
     "output_type": "stream",
     "text": [
      "  0.032493 seconds (69.03 k allocations: 3.948 MiB, 97.15% compilation time)\n"
     ]
    },
    {
     "name": "stderr",
     "output_type": "stream",
     "text": [
      "┌ Info: part 1 answer\n",
      "│   result1(ips1) = 26\n",
      "│   result1(ipa) = 421\n",
      "└ @ Main In[18]:1\n"
     ]
    }
   ],
   "source": [
    "@time @info(\n",
    "    \"part 1 answer\",\n",
    "    result1(ips1),\n",
    "    result1(ipa),\n",
    ")"
   ]
  },
  {
   "cell_type": "markdown",
   "metadata": {},
   "source": [
    "## part 2"
   ]
  },
  {
   "cell_type": "code",
   "execution_count": null,
   "metadata": {},
   "outputs": [],
   "source": [
    "\n",
    "5: 2 3 5\n",
    "6: 0 6 9\n",
    "\n",
    "1, 4, 7, 8 = (2, 4, 3, 7)\n",
    "a = 7 - 1\n",
    "6 = only length 6 without full 1\n",
    "c = 8 - 6\n",
    "[0, 9] = leftover\n",
    "9 = [0, 9] containing full 4\n",
    "0 = leftover\n",
    "d = 8 - 0\n",
    "e = 8 - 9\n",
    "\n",
    "5 = length 5 without [c, e]\n",
    "2 = leftover with e\n",
    "3 = leftover"
   ]
  },
  {
   "cell_type": "code",
   "execution_count": 131,
   "metadata": {
    "ExecuteTime": {
     "end_time": "2021-12-08T14:03:21.049000+08:00",
     "start_time": "2021-12-08T06:03:21.035Z"
    }
   },
   "outputs": [
    {
     "data": {
      "text/plain": [
       "resolve_digits (generic function with 1 method)"
      ]
     },
     "execution_count": 131,
     "metadata": {},
     "output_type": "execute_result"
    }
   ],
   "source": [
    "function resolve_digits(digits)\n",
    "    ds = Dict()\n",
    "    ss = Dict()\n",
    "    \n",
    "    ds[1] = only(d for d in digits if length(d) == 2)\n",
    "    ds[4] = only(d for d in digits if length(d) == 4)\n",
    "    ds[7] = only(d for d in digits if length(d) == 3)\n",
    "    ds[8] = only(d for d in digits if length(d) == 7)\n",
    "    ss['a'] = only(setdiff(ds[7], ds[1]))\n",
    "    ds_069 = [d for d in digits if length(d) == 6]\n",
    "    ds[6] = only(d for d in ds_069 if length(ds[1] ∩ d) == 1)\n",
    "    ss['c'] = only(setdiff(ds[8], ds[6]))\n",
    "    ds_09 = setdiff(ds_069, [ds[6]])\n",
    "    ds[9] = only(d for d in ds_09 if length(ds[4] ∩ d) == 4)\n",
    "    ds[0] = only(setdiff(ds_09, [ds[9]]))\n",
    "    ss['d'] = only(setdiff(ds[8], ds[0]))\n",
    "    ss['e'] = only(setdiff(ds[8], ds[9]))\n",
    "    ds_235 = [d for d in digits if length(d) == 5]\n",
    "    ds[5] = only(d for d in ds_235 if ss['c'] ∉ d && ss['e'] ∉ d)\n",
    "    ds[2] = only(d for d in ds_235 if d != ds[5] && ss['e'] ∈ d)\n",
    "    ds[3] = only(setdiff(ds_235, [ds[2], ds[5]]))\n",
    "    \n",
    "    return ds\n",
    "end"
   ]
  },
  {
   "cell_type": "code",
   "execution_count": 137,
   "metadata": {
    "ExecuteTime": {
     "end_time": "2021-12-08T14:07:04.140000+08:00",
     "start_time": "2021-12-08T06:07:04.137Z"
    }
   },
   "outputs": [
    {
     "data": {
      "text/plain": [
       "decode_output (generic function with 1 method)"
      ]
     },
     "execution_count": 137,
     "metadata": {},
     "output_type": "execute_result"
    }
   ],
   "source": [
    "function decode_output(digits_out, ds)\n",
    "    result = Int[]\n",
    "    for d in digits_out\n",
    "        for (k, v) in ds\n",
    "            if issetequal(d, v)\n",
    "                push!(result, k)\n",
    "            end\n",
    "        end\n",
    "    end\n",
    "    return parse(Int, join(result))\n",
    "end"
   ]
  },
  {
   "cell_type": "code",
   "execution_count": 138,
   "metadata": {
    "ExecuteTime": {
     "end_time": "2021-12-08T14:07:04.787000+08:00",
     "start_time": "2021-12-08T06:07:04.761Z"
    }
   },
   "outputs": [
    {
     "data": {
      "text/plain": [
       "8394"
      ]
     },
     "execution_count": 138,
     "metadata": {},
     "output_type": "execute_result"
    }
   ],
   "source": [
    "decode_output(ips1[1].b, resolve_digits(ips1[1].f))"
   ]
  },
  {
   "cell_type": "code",
   "execution_count": 139,
   "metadata": {
    "ExecuteTime": {
     "end_time": "2021-12-08T14:07:53.354000+08:00",
     "start_time": "2021-12-08T06:07:53.259Z"
    }
   },
   "outputs": [
    {
     "data": {
      "text/plain": [
       "result2 (generic function with 1 method)"
      ]
     },
     "execution_count": 139,
     "metadata": {},
     "output_type": "execute_result"
    }
   ],
   "source": [
    "function result2(ip)\n",
    "    sum(\n",
    "        decode_output(entry.b, resolve_digits(entry.f))\n",
    "        for entry in ip\n",
    "    )\n",
    "end"
   ]
  },
  {
   "cell_type": "markdown",
   "metadata": {},
   "source": [
    "### answer"
   ]
  },
  {
   "cell_type": "code",
   "execution_count": 140,
   "metadata": {
    "ExecuteTime": {
     "end_time": "2021-12-08T14:07:54.899000+08:00",
     "start_time": "2021-12-08T06:07:54.799Z"
    }
   },
   "outputs": [
    {
     "name": "stdout",
     "output_type": "stream",
     "text": [
      "  0.051618 seconds (207.59 k allocations: 13.259 MiB, 87.04% compilation time)\n"
     ]
    },
    {
     "name": "stderr",
     "output_type": "stream",
     "text": [
      "┌ Info: part 2 answer\n",
      "│   result2(ips1) = 61229\n",
      "│   result2(ipa) = 986163\n",
      "└ @ Main In[140]:1\n"
     ]
    }
   ],
   "source": [
    "@time @info(\n",
    "    \"part 2 answer\",\n",
    "    result2(ips1),\n",
    "    result2(ipa),\n",
    "    )"
   ]
  }
 ],
 "metadata": {
  "@webio": {
   "lastCommId": null,
   "lastKernelId": null
  },
  "kernelspec": {
   "display_name": "Julia 1.7.0",
   "language": "julia",
   "name": "julia-1.7"
  },
  "language_info": {
   "file_extension": ".jl",
   "mimetype": "application/julia",
   "name": "julia",
   "version": "1.7.0"
  },
  "latex_envs": {
   "LaTeX_envs_menu_present": true,
   "autoclose": false,
   "autocomplete": true,
   "bibliofile": "biblio.bib",
   "cite_by": "apalike",
   "current_citInitial": 1,
   "eqLabelWithNumbers": true,
   "eqNumInitial": 1,
   "hotkeys": {
    "equation": "Ctrl-E",
    "itemize": "Ctrl-I"
   },
   "labels_anchors": false,
   "latex_user_defs": false,
   "report_style_numbering": false,
   "user_envs_cfg": false
  },
  "toc": {
   "base_numbering": 1,
   "nav_menu": {},
   "number_sections": true,
   "sideBar": true,
   "skip_h1_title": true,
   "title_cell": "Table of Contents",
   "title_sidebar": "Contents",
   "toc_cell": true,
   "toc_position": {},
   "toc_section_display": true,
   "toc_window_display": true
  }
 },
 "nbformat": 4,
 "nbformat_minor": 4
}
