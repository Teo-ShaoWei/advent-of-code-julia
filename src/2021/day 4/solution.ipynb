{
 "cells": [
  {
   "cell_type": "markdown",
   "metadata": {},
   "source": [
    "# Advent of Code 2021 Day 4\n",
    "[link](https://adventofcode.com/2021/day/4)"
   ]
  },
  {
   "cell_type": "markdown",
   "metadata": {
    "toc": true
   },
   "source": [
    "<h1>Table of Contents<span class=\"tocSkip\"></span></h1>\n",
    "<div class=\"toc\"><ul class=\"toc-item\"><li><span><a href=\"#read-input\" data-toc-modified-id=\"read-input-1\"><span class=\"toc-item-num\">1&nbsp;&nbsp;</span>read input</a></span><ul class=\"toc-item\"><li><span><a href=\"#parse_input\" data-toc-modified-id=\"parse_input-1.1\"><span class=\"toc-item-num\">1.1&nbsp;&nbsp;</span>parse_input</a></span></li><li><span><a href=\"#ips1-:=-input-puzzle-sample-1\" data-toc-modified-id=\"ips1-:=-input-puzzle-sample-1-1.2\"><span class=\"toc-item-num\">1.2&nbsp;&nbsp;</span>ips1 := input puzzle sample 1</a></span></li><li><span><a href=\"#ipa-:=-input-puzzle-actual\" data-toc-modified-id=\"ipa-:=-input-puzzle-actual-1.3\"><span class=\"toc-item-num\">1.3&nbsp;&nbsp;</span>ipa := input puzzle actual</a></span></li></ul></li><li><span><a href=\"#part-1\" data-toc-modified-id=\"part-1-2\"><span class=\"toc-item-num\">2&nbsp;&nbsp;</span>part 1</a></span><ul class=\"toc-item\"><li><span><a href=\"#answer\" data-toc-modified-id=\"answer-2.1\"><span class=\"toc-item-num\">2.1&nbsp;&nbsp;</span>answer</a></span></li></ul></li><li><span><a href=\"#part-2\" data-toc-modified-id=\"part-2-3\"><span class=\"toc-item-num\">3&nbsp;&nbsp;</span>part 2</a></span><ul class=\"toc-item\"><li><span><a href=\"#answer\" data-toc-modified-id=\"answer-3.1\"><span class=\"toc-item-num\">3.1&nbsp;&nbsp;</span>answer</a></span></li></ul></li></ul></div>"
   ]
  },
  {
   "cell_type": "code",
   "execution_count": null,
   "metadata": {},
   "outputs": [],
   "source": [
    "# using Combinatorics\n",
    "# using DataStructures\n",
    "# using OffsetArrays\n",
    "# using Mods"
   ]
  },
  {
   "cell_type": "markdown",
   "metadata": {},
   "source": [
    "## read input"
   ]
  },
  {
   "cell_type": "markdown",
   "metadata": {},
   "source": [
    "### parse_input"
   ]
  },
  {
   "cell_type": "code",
   "execution_count": 40,
   "metadata": {
    "ExecuteTime": {
     "end_time": "2021-12-04T13:14:28.842000+08:00",
     "start_time": "2021-12-04T05:14:28.835Z"
    },
    "scrolled": true
   },
   "outputs": [
    {
     "data": {
      "text/plain": [
       "parse_input (generic function with 1 method)"
      ]
     },
     "execution_count": 40,
     "metadata": {},
     "output_type": "execute_result"
    }
   ],
   "source": [
    "function parse_input(f) \n",
    "    lines = readlines(f)\n",
    "    \n",
    "    seq = parse_seq(lines[1])\n",
    "    \n",
    "    bingos = Matrix{Int}[]\n",
    "    b = [0 for _ in 1:5, _ in 1:5]\n",
    "    i = 1\n",
    "    for l in lines[3:end]\n",
    "        if i == 6\n",
    "            push!(bingos, b)\n",
    "            b = [0 for _ in 1:5, _ in 1:5]\n",
    "            i = 1\n",
    "            continue\n",
    "        end\n",
    "        for j in 1:5\n",
    "            v = parse(Int, l[(3*j - 2):(3*j - 1)])\n",
    "            b[i, j] = v\n",
    "        end\n",
    "        i += 1\n",
    "    end\n",
    "    push!(bingos, b)\n",
    "    \n",
    "    return (; seq, bingos)\n",
    "end"
   ]
  },
  {
   "cell_type": "code",
   "execution_count": 11,
   "metadata": {
    "ExecuteTime": {
     "end_time": "2021-12-04T13:03:48.900000+08:00",
     "start_time": "2021-12-04T05:03:48.898Z"
    }
   },
   "outputs": [
    {
     "data": {
      "text/plain": [
       "parse_seq (generic function with 1 method)"
      ]
     },
     "execution_count": 11,
     "metadata": {},
     "output_type": "execute_result"
    }
   ],
   "source": [
    "function parse_seq(l)\n",
    "    parse.(Int, split(l, \",\"))\n",
    "end"
   ]
  },
  {
   "cell_type": "markdown",
   "metadata": {},
   "source": [
    "### ips1 := input puzzle sample 1"
   ]
  },
  {
   "cell_type": "code",
   "execution_count": 41,
   "metadata": {
    "ExecuteTime": {
     "end_time": "2021-12-04T13:14:30.704000+08:00",
     "start_time": "2021-12-04T05:14:30.598Z"
    },
    "scrolled": true
   },
   "outputs": [
    {
     "data": {
      "text/plain": [
       "(seq = [7, 4, 9, 5, 11, 17, 23, 2, 0, 14  …  25, 12, 22, 18, 20, 8, 19, 3, 26, 1], bingos = [[22 13 … 11 0; 8 2 … 4 24; … ; 6 10 … 18 5; 1 12 … 15 19], [3 15 … 2 22; 9 18 … 17 5; … ; 20 11 … 24 4; 14 21 … 12 6], [14 21 … 24 4; 10 16 … 9 19; … ; 22 11 … 6 5; 2 0 … 3 7]])"
      ]
     },
     "execution_count": 41,
     "metadata": {},
     "output_type": "execute_result"
    }
   ],
   "source": [
    "ips1 = parse_input(\"ips1.txt\")"
   ]
  },
  {
   "cell_type": "markdown",
   "metadata": {},
   "source": [
    "### ipa := input puzzle actual"
   ]
  },
  {
   "cell_type": "code",
   "execution_count": 42,
   "metadata": {
    "ExecuteTime": {
     "end_time": "2021-12-04T13:14:32.060000+08:00",
     "start_time": "2021-12-04T05:14:32.057Z"
    },
    "scrolled": true
   },
   "outputs": [
    {
     "data": {
      "text/plain": [
       "(seq = [17, 11, 37, 7, 89, 48, 99, 28, 56, 55  …  21, 49, 29, 50, 0, 5, 8, 32, 62, 41], bingos = [[57 80 … 40 12; 62 36 … 0 20; … ; 14 2 … 18 86; 1 4 … 66 38], [1 25 … 16 24; 33 40 … 28 96; … ; 50 38 … 14 56; 73 42 … 36 67], [46 25 … 59 88; 33 48 … 0 95; … ; 11 81 … 70 65; 37 1 … 94 75], [53 56 … 72 99; 46 27 … 49 4; … ; 35 7 … 32 24; 81 78 … 54 88], [76 14 … 84 17; 5 89 … 57 15; … ; 31 71 … 2 39; 10 27 … 67 47], [27 95 … 40 50; 49 66 … 80 75; … ; 11 77 … 6 89; 71 45 … 23 29], [87 72 … 89 18; 91 56 … 14 88; … ; 36 66 … 34 17; 71 57 … 16 7], [35 85 … 2 59; 47 51 … 29 22; … ; 61 13 … 99 65; 92 52 … 9 73], [51 39 … 88 62; 79 91 … 50 15; … ; 12 73 … 95 32; 54 67 … 77 4], [49 38 … 68 13; 33 42 … 58 65; … ; 34 94 … 99 11; 89 43 … 0 78]  …  [68 30 … 16 88; 33 76 … 99 60; … ; 89 58 … 26 34; 70 92 … 64 94], [78 87 … 29 5; 75 54 … 20 33; … ; 93 73 … 39 22; 2 10 … 82 77], [93 33 … 39 3; 27 42 … 12 13; … ; 94 21 … 99 91; 95 97 … 63 92], [30 65 … 73 85; 90 60 … 1 37; … ; 62 51 … 19 76; 96 77 … 72 71], [69 88 … 14 64; 77 12 … 46 58; … ; 32 62 … 23 84; 78 97 … 41 85], [17 40 … 68 81; 52 24 … 30 80; … ; 94 16 … 67 19; 95 43 … 46 93], [32 60 … 75 98; 74 82 … 20 81; … ; 88 11 … 69 67; 72 36 … 62 34], [26 8 … 47 76; 27 15 … 65 80; … ; 97 18 … 93 20; 88 7 … 99 35], [40 94 … 53 58; 45 60 … 64 30; … ; 63 95 … 72 17; 80 18 … 89 28], [48 83 … 85 3; 98 80 … 96 91; … ; 20 88 … 45 28; 8 29 … 37 27]])"
      ]
     },
     "execution_count": 42,
     "metadata": {},
     "output_type": "execute_result"
    }
   ],
   "source": [
    "ipa = parse_input(\"ipa.txt\")"
   ]
  },
  {
   "cell_type": "markdown",
   "metadata": {},
   "source": [
    "## part 1"
   ]
  },
  {
   "cell_type": "code",
   "execution_count": 49,
   "metadata": {
    "ExecuteTime": {
     "end_time": "2021-12-04T13:16:42.243000+08:00",
     "start_time": "2021-12-04T05:16:42.227Z"
    }
   },
   "outputs": [
    {
     "data": {
      "text/plain": [
       "5×5 Matrix{Bool}:\n",
       " 0  0  0  0  0\n",
       " 0  0  0  0  0\n",
       " 0  0  0  0  0\n",
       " 0  0  0  0  0\n",
       " 0  0  0  0  0"
      ]
     },
     "execution_count": 49,
     "metadata": {},
     "output_type": "execute_result"
    }
   ],
   "source": [
    "zeros(Bool, size(ips1.bingos[1]))"
   ]
  },
  {
   "cell_type": "code",
   "execution_count": 56,
   "metadata": {
    "ExecuteTime": {
     "end_time": "2021-12-04T13:18:02.621000+08:00",
     "start_time": "2021-12-04T05:18:02.618Z"
    }
   },
   "outputs": [
    {
     "data": {
      "text/plain": [
       "make_bingo_result (generic function with 1 method)"
      ]
     },
     "execution_count": 56,
     "metadata": {},
     "output_type": "execute_result"
    }
   ],
   "source": [
    "function make_bingo_result(bingos)\n",
    "    return [zeros(Bool, size(b)) for b in bingos]\n",
    "end"
   ]
  },
  {
   "cell_type": "code",
   "execution_count": 63,
   "metadata": {
    "ExecuteTime": {
     "end_time": "2021-12-04T13:21:03.605000+08:00",
     "start_time": "2021-12-04T05:21:02.919Z"
    }
   },
   "outputs": [
    {
     "data": {
      "text/plain": [
       "5×5 BitMatrix:\n",
       " 1  0  0  0  0\n",
       " 0  0  0  0  0\n",
       " 0  0  0  0  0\n",
       " 0  0  0  0  0\n",
       " 0  0  0  0  0"
      ]
     },
     "execution_count": 63,
     "metadata": {},
     "output_type": "execute_result"
    }
   ],
   "source": [
    "(==(22)).(ips1.bingos[1])"
   ]
  },
  {
   "cell_type": "code",
   "execution_count": 89,
   "metadata": {
    "ExecuteTime": {
     "end_time": "2021-12-04T13:27:22.651000+08:00",
     "start_time": "2021-12-04T05:27:22.648Z"
    }
   },
   "outputs": [
    {
     "data": {
      "text/plain": [
       "next! (generic function with 1 method)"
      ]
     },
     "execution_count": 89,
     "metadata": {},
     "output_type": "execute_result"
    }
   ],
   "source": [
    "function next!(results, bingos, num)\n",
    "    changes = [(==(num)).(b) for b in bingos]\n",
    "    for i in 1:length(results)\n",
    "        results[i][:] = results[i] .+ changes[i]\n",
    "    end\n",
    "end"
   ]
  },
  {
   "cell_type": "code",
   "execution_count": 93,
   "metadata": {
    "ExecuteTime": {
     "end_time": "2021-12-04T13:30:15.202000+08:00",
     "start_time": "2021-12-04T05:30:15.107Z"
    }
   },
   "outputs": [
    {
     "data": {
      "text/plain": [
       "get_complete (generic function with 1 method)"
      ]
     },
     "execution_count": 93,
     "metadata": {},
     "output_type": "execute_result"
    }
   ],
   "source": [
    "function get_complete(results)\n",
    "    for i in 1:length(results)\n",
    "        for j in 1:5\n",
    "            all(results[i][j, :]) && return i\n",
    "            all(results[i][:, j]) && return i\n",
    "        end\n",
    "    end\n",
    "    return nothing\n",
    "end"
   ]
  },
  {
   "cell_type": "code",
   "execution_count": 111,
   "metadata": {
    "ExecuteTime": {
     "end_time": "2021-12-04T14:32:34.620000+08:00",
     "start_time": "2021-12-04T06:32:34.616Z"
    }
   },
   "outputs": [
    {
     "data": {
      "text/plain": [
       "get_blank_sum (generic function with 1 method)"
      ]
     },
     "execution_count": 111,
     "metadata": {},
     "output_type": "execute_result"
    }
   ],
   "source": [
    "function get_blank_sum(r, b)\n",
    "    @show typeof(r) typeof(b)\n",
    "    sum([r[i, j] ? 0 : b[i, j] for i in 1:5, j in 1:5])\n",
    "end"
   ]
  },
  {
   "cell_type": "code",
   "execution_count": 138,
   "metadata": {
    "ExecuteTime": {
     "end_time": "2021-12-04T14:38:43.776000+08:00",
     "start_time": "2021-12-04T06:38:43.772Z"
    }
   },
   "outputs": [
    {
     "data": {
      "text/plain": [
       "result1 (generic function with 1 method)"
      ]
     },
     "execution_count": 138,
     "metadata": {},
     "output_type": "execute_result"
    }
   ],
   "source": [
    "function result1(ip)\n",
    "    seq = ip.seq\n",
    "    bingos = ip.bingos\n",
    "    \n",
    "    results = make_bingo_result(bingos)\n",
    "    \n",
    "    for i in 1:length(seq)\n",
    "        next!(results, bingos, seq[i])\n",
    "        status = get_complete(results)\n",
    "        \n",
    "        if !isnothing(status)\n",
    "            @show status\n",
    "            bs = get_blank_sum(results[status], bingos[status])\n",
    "            @show bs seq[i]\n",
    "            return bs * seq[i]\n",
    "        end\n",
    "            \n",
    "    end\n",
    "end"
   ]
  },
  {
   "cell_type": "markdown",
   "metadata": {},
   "source": [
    "### answer"
   ]
  },
  {
   "cell_type": "code",
   "execution_count": 140,
   "metadata": {
    "ExecuteTime": {
     "end_time": "2021-12-04T14:38:58.025000+08:00",
     "start_time": "2021-12-04T06:38:57.946Z"
    }
   },
   "outputs": [
    {
     "name": "stdout",
     "output_type": "stream",
     "text": [
      "status = 3\n",
      "typeof(r) = Matrix{Bool}\n",
      "typeof(b) = Matrix{Int64}\n",
      "bs = 188\n",
      "seq[i] = 24\n",
      "status = 76\n",
      "typeof(r) = Matrix{Bool}\n",
      "typeof(b) = Matrix{Int64}\n",
      "bs = 715\n",
      "seq[i] = 78\n",
      "  0.038629 seconds (105.43 k allocations: 8.106 MiB, 82.60% compilation time)\n"
     ]
    },
    {
     "name": "stderr",
     "output_type": "stream",
     "text": [
      "┌ Info: part 1 answer\n",
      "│   result1(ips1) = 4512\n",
      "│   result1(ipa) = 55770\n",
      "└ @ Main In[140]:1\n"
     ]
    }
   ],
   "source": [
    "@time @info(\n",
    "    \"part 1 answer\",\n",
    "    result1(ips1),\n",
    "    result1(ipa),\n",
    "    )"
   ]
  },
  {
   "cell_type": "markdown",
   "metadata": {},
   "source": [
    "## part 2"
   ]
  },
  {
   "cell_type": "code",
   "execution_count": 167,
   "metadata": {
    "ExecuteTime": {
     "end_time": "2021-12-04T14:52:47.800000+08:00",
     "start_time": "2021-12-04T06:52:47.711Z"
    }
   },
   "outputs": [
    {
     "data": {
      "text/plain": [
       "is_done (generic function with 1 method)"
      ]
     },
     "execution_count": 167,
     "metadata": {},
     "output_type": "execute_result"
    }
   ],
   "source": [
    "function is_done(r)\n",
    "    for j in 1:5\n",
    "        all(r[j, :]) && return true\n",
    "        all(r[:, j]) && return true\n",
    "    end\n",
    "    return false\n",
    "end"
   ]
  },
  {
   "cell_type": "code",
   "execution_count": 174,
   "metadata": {
    "ExecuteTime": {
     "end_time": "2021-12-04T14:54:24.021000+08:00",
     "start_time": "2021-12-04T06:54:24.016Z"
    }
   },
   "outputs": [
    {
     "data": {
      "text/plain": [
       "filter_incomplete (generic function with 1 method)"
      ]
     },
     "execution_count": 174,
     "metadata": {},
     "output_type": "execute_result"
    }
   ],
   "source": [
    "function filter_incomplete(results, bingos)\n",
    "    bingos = [bingos[i] for i in 1:length(results) if !is_done(results[i])]\n",
    "    results = [results[i] for i in 1:length(results) if !is_done(results[i])]\n",
    "    \n",
    "    return (results, bingos)\n",
    "end"
   ]
  },
  {
   "cell_type": "code",
   "execution_count": 179,
   "metadata": {
    "ExecuteTime": {
     "end_time": "2021-12-04T14:55:31.117000+08:00",
     "start_time": "2021-12-04T06:55:31.113Z"
    }
   },
   "outputs": [
    {
     "data": {
      "text/plain": [
       "result2 (generic function with 1 method)"
      ]
     },
     "execution_count": 179,
     "metadata": {},
     "output_type": "execute_result"
    }
   ],
   "source": [
    "function result2(ip)\n",
    "    seq = deepcopy(ip.seq)\n",
    "    bingos = deepcopy(ip.bingos)\n",
    "    \n",
    "    results = make_bingo_result(bingos)\n",
    "    \n",
    "    for i in 1:length(seq)\n",
    "        next!(results, bingos, seq[i])\n",
    "        \n",
    "        status = get_complete(results)\n",
    "        if length(results) == 1 && !isnothing(status)\n",
    "            bs = get_blank_sum(results[status], bingos[status])\n",
    "            @show bs seq[i]\n",
    "            return bs * seq[i]\n",
    "        end\n",
    "            \n",
    "        (results, bingos) = filter_incomplete(results, bingos)\n",
    "    end\n",
    "end"
   ]
  },
  {
   "cell_type": "markdown",
   "metadata": {},
   "source": [
    "### answer"
   ]
  },
  {
   "cell_type": "code",
   "execution_count": 180,
   "metadata": {
    "ExecuteTime": {
     "end_time": "2021-12-04T14:55:32.131000+08:00",
     "start_time": "2021-12-04T06:55:32.053Z"
    }
   },
   "outputs": [
    {
     "name": "stdout",
     "output_type": "stream",
     "text": [
      "typeof(r) = Matrix{Bool}\n",
      "typeof(b) = Matrix{Int64}\n",
      "bs = 148\n",
      "seq[i] = 13\n",
      "typeof(r) = Matrix{Bool}\n",
      "typeof(b) = Matrix{Int64}\n",
      "bs = 298\n",
      "seq[i] = 10\n",
      "  0.037058 seconds (214.30 k allocations: 19.713 MiB, 57.89% compilation time)\n"
     ]
    },
    {
     "name": "stderr",
     "output_type": "stream",
     "text": [
      "┌ Info: part 2 answer\n",
      "│   result2(ips1) = 1924\n",
      "│   result2(ipa) = 2980\n",
      "└ @ Main In[180]:1\n"
     ]
    }
   ],
   "source": [
    "@time @info(\n",
    "    \"part 2 answer\",\n",
    "    result2(ips1),\n",
    "    result2(ipa),\n",
    "    )"
   ]
  }
 ],
 "metadata": {
  "@webio": {
   "lastCommId": null,
   "lastKernelId": null
  },
  "kernelspec": {
   "display_name": "Julia 1.6.0",
   "language": "julia",
   "name": "julia-1.6"
  },
  "language_info": {
   "file_extension": ".jl",
   "mimetype": "application/julia",
   "name": "julia",
   "version": "1.6.0"
  },
  "latex_envs": {
   "LaTeX_envs_menu_present": true,
   "autoclose": false,
   "autocomplete": true,
   "bibliofile": "biblio.bib",
   "cite_by": "apalike",
   "current_citInitial": 1,
   "eqLabelWithNumbers": true,
   "eqNumInitial": 1,
   "hotkeys": {
    "equation": "Ctrl-E",
    "itemize": "Ctrl-I"
   },
   "labels_anchors": false,
   "latex_user_defs": false,
   "report_style_numbering": false,
   "user_envs_cfg": false
  },
  "toc": {
   "base_numbering": 1,
   "nav_menu": {},
   "number_sections": true,
   "sideBar": true,
   "skip_h1_title": true,
   "title_cell": "Table of Contents",
   "title_sidebar": "Contents",
   "toc_cell": true,
   "toc_position": {},
   "toc_section_display": true,
   "toc_window_display": true
  }
 },
 "nbformat": 4,
 "nbformat_minor": 4
}
