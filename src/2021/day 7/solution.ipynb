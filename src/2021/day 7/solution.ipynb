{
 "cells": [
  {
   "cell_type": "markdown",
   "metadata": {},
   "source": [
    "# Advent of Code 2021 Day 7\n",
    "[link](https://adventofcode.com/2021/day/7)"
   ]
  },
  {
   "cell_type": "markdown",
   "metadata": {
    "toc": true
   },
   "source": [
    "<h1>Table of Contents<span class=\"tocSkip\"></span></h1>\n",
    "<div class=\"toc\"><ul class=\"toc-item\"><li><span><a href=\"#helpers\" data-toc-modified-id=\"helpers-1\"><span class=\"toc-item-num\">1&nbsp;&nbsp;</span>helpers</a></span></li><li><span><a href=\"#read-input\" data-toc-modified-id=\"read-input-2\"><span class=\"toc-item-num\">2&nbsp;&nbsp;</span>read input</a></span><ul class=\"toc-item\"><li><span><a href=\"#parse_input\" data-toc-modified-id=\"parse_input-2.1\"><span class=\"toc-item-num\">2.1&nbsp;&nbsp;</span>parse_input</a></span></li><li><span><a href=\"#ips1-:=-input-puzzle-sample-1\" data-toc-modified-id=\"ips1-:=-input-puzzle-sample-1-2.2\"><span class=\"toc-item-num\">2.2&nbsp;&nbsp;</span>ips1 := input puzzle sample 1</a></span></li><li><span><a href=\"#ipa-:=-input-puzzle-actual\" data-toc-modified-id=\"ipa-:=-input-puzzle-actual-2.3\"><span class=\"toc-item-num\">2.3&nbsp;&nbsp;</span>ipa := input puzzle actual</a></span></li></ul></li><li><span><a href=\"#part-1\" data-toc-modified-id=\"part-1-3\"><span class=\"toc-item-num\">3&nbsp;&nbsp;</span>part 1</a></span><ul class=\"toc-item\"><li><span><a href=\"#answer\" data-toc-modified-id=\"answer-3.1\"><span class=\"toc-item-num\">3.1&nbsp;&nbsp;</span>answer</a></span></li></ul></li><li><span><a href=\"#part-2\" data-toc-modified-id=\"part-2-4\"><span class=\"toc-item-num\">4&nbsp;&nbsp;</span>part 2</a></span><ul class=\"toc-item\"><li><span><a href=\"#answer\" data-toc-modified-id=\"answer-4.1\"><span class=\"toc-item-num\">4.1&nbsp;&nbsp;</span>answer</a></span></li></ul></li></ul></div>"
   ]
  },
  {
   "cell_type": "code",
   "execution_count": 2,
   "metadata": {
    "ExecuteTime": {
     "end_time": "2021-12-07T13:00:47.629000+08:00",
     "start_time": "2021-12-07T05:00:46.948Z"
    }
   },
   "outputs": [],
   "source": [
    "using Revise\n",
    "\n",
    "# using Combinatorics\n",
    "# using DataStructures\n",
    "using OffsetArrays\n",
    "# using Mods"
   ]
  },
  {
   "cell_type": "markdown",
   "metadata": {},
   "source": [
    "## helpers"
   ]
  },
  {
   "cell_type": "code",
   "execution_count": 1,
   "metadata": {
    "ExecuteTime": {
     "end_time": "2021-12-07T13:00:18.372000+08:00",
     "start_time": "2021-12-07T05:00:17.347Z"
    }
   },
   "outputs": [
    {
     "data": {
      "text/plain": [
       "CartesianIndex"
      ]
     },
     "execution_count": 1,
     "metadata": {},
     "output_type": "execute_result"
    }
   ],
   "source": [
    "CI = CartesianIndex"
   ]
  },
  {
   "cell_type": "markdown",
   "metadata": {},
   "source": [
    "## read input"
   ]
  },
  {
   "cell_type": "markdown",
   "metadata": {},
   "source": [
    "### parse_input"
   ]
  },
  {
   "cell_type": "code",
   "execution_count": 3,
   "metadata": {
    "ExecuteTime": {
     "end_time": "2021-12-07T13:00:57.601000+08:00",
     "start_time": "2021-12-07T05:00:56.372Z"
    },
    "code_folding": [],
    "scrolled": true
   },
   "outputs": [
    {
     "data": {
      "text/plain": [
       "parse_input (generic function with 1 method)"
      ]
     },
     "execution_count": 3,
     "metadata": {},
     "output_type": "execute_result"
    }
   ],
   "source": [
    "function parse_input(f) \n",
    "    line = readlines(f)[1]\n",
    "    parse_line(line)\n",
    "end"
   ]
  },
  {
   "cell_type": "code",
   "execution_count": 4,
   "metadata": {
    "ExecuteTime": {
     "end_time": "2021-12-07T13:00:57.760000+08:00",
     "start_time": "2021-12-07T05:00:56.685Z"
    }
   },
   "outputs": [
    {
     "data": {
      "text/plain": [
       "parse_line (generic function with 1 method)"
      ]
     },
     "execution_count": 4,
     "metadata": {},
     "output_type": "execute_result"
    }
   ],
   "source": [
    "function parse_line(l)\n",
    "    parse.(Int, split(l, ','))\n",
    "end"
   ]
  },
  {
   "cell_type": "markdown",
   "metadata": {},
   "source": [
    "### ips1 := input puzzle sample 1"
   ]
  },
  {
   "cell_type": "code",
   "execution_count": 5,
   "metadata": {
    "ExecuteTime": {
     "end_time": "2021-12-07T13:00:58.491000+08:00",
     "start_time": "2021-12-07T05:00:57.571Z"
    },
    "scrolled": true
   },
   "outputs": [
    {
     "data": {
      "text/plain": [
       "10-element Vector{Int64}:\n",
       " 16\n",
       "  1\n",
       "  2\n",
       "  0\n",
       "  4\n",
       "  2\n",
       "  7\n",
       "  1\n",
       "  2\n",
       " 14"
      ]
     },
     "execution_count": 5,
     "metadata": {},
     "output_type": "execute_result"
    }
   ],
   "source": [
    "ips1 = parse_input(\"ips1.txt\")"
   ]
  },
  {
   "cell_type": "markdown",
   "metadata": {},
   "source": [
    "### ipa := input puzzle actual"
   ]
  },
  {
   "cell_type": "code",
   "execution_count": 6,
   "metadata": {
    "ExecuteTime": {
     "end_time": "2021-12-07T13:00:58.695000+08:00",
     "start_time": "2021-12-07T05:00:58.679Z"
    },
    "scrolled": true
   },
   "outputs": [
    {
     "data": {
      "text/plain": [
       "1000-element Vector{Int64}:\n",
       " 1101\n",
       "    1\n",
       "   29\n",
       "   67\n",
       " 1102\n",
       "    0\n",
       "    1\n",
       "   65\n",
       " 1008\n",
       "   65\n",
       "   35\n",
       "   66\n",
       " 1005\n",
       "    ⋮\n",
       "   31\n",
       "  494\n",
       "   87\n",
       "  393\n",
       " 1740\n",
       "  315\n",
       "  195\n",
       "  328\n",
       "    2\n",
       "  472\n",
       "  101\n",
       "  995"
      ]
     },
     "execution_count": 6,
     "metadata": {},
     "output_type": "execute_result"
    }
   ],
   "source": [
    "ipa = parse_input(\"ipa.txt\")"
   ]
  },
  {
   "cell_type": "markdown",
   "metadata": {},
   "source": [
    "## part 1"
   ]
  },
  {
   "cell_type": "code",
   "execution_count": 22,
   "metadata": {
    "ExecuteTime": {
     "end_time": "2021-12-07T13:12:52.704000+08:00",
     "start_time": "2021-12-07T05:12:52.689Z"
    }
   },
   "outputs": [
    {
     "data": {
      "text/plain": [
       "result1 (generic function with 1 method)"
      ]
     },
     "execution_count": 22,
     "metadata": {},
     "output_type": "execute_result"
    }
   ],
   "source": [
    "function result1(ip)\n",
    "    max_crab = maximum(ip)\n",
    "    return minimum(sum(abs.(ip .- i)) for i in 1:max_crab)\n",
    "end"
   ]
  },
  {
   "cell_type": "markdown",
   "metadata": {},
   "source": [
    "### answer"
   ]
  },
  {
   "cell_type": "code",
   "execution_count": 23,
   "metadata": {
    "ExecuteTime": {
     "end_time": "2021-12-07T13:12:53.921000+08:00",
     "start_time": "2021-12-07T05:12:53.826Z"
    }
   },
   "outputs": [
    {
     "name": "stdout",
     "output_type": "stream",
     "text": [
      "  0.043670 seconds (129.01 k allocations: 22.089 MiB, 91.39% compilation time)\n"
     ]
    },
    {
     "name": "stderr",
     "output_type": "stream",
     "text": [
      "┌ Info: part 1 answer\n",
      "│   result1(ips1) = 37\n",
      "│   result1(ipa) = 328187\n",
      "└ @ Main In[23]:1\n"
     ]
    }
   ],
   "source": [
    "@time @info(\n",
    "    \"part 1 answer\",\n",
    "    result1(ips1),\n",
    "    result1(ipa),\n",
    ")"
   ]
  },
  {
   "cell_type": "markdown",
   "metadata": {},
   "source": [
    "## part 2"
   ]
  },
  {
   "cell_type": "code",
   "execution_count": 27,
   "metadata": {
    "ExecuteTime": {
     "end_time": "2021-12-07T13:16:59.636000+08:00",
     "start_time": "2021-12-07T05:16:59.620Z"
    }
   },
   "outputs": [
    {
     "data": {
      "text/plain": [
       "result2 (generic function with 1 method)"
      ]
     },
     "execution_count": 27,
     "metadata": {},
     "output_type": "execute_result"
    }
   ],
   "source": [
    "function result2(ip)\n",
    "    max_crab = maximum(ip)\n",
    "    dist(i) = abs.(ip .- i)\n",
    "    cost(dist) = dist .* (dist .+ 1) .÷ 2\n",
    "    return minimum(sum(cost(dist(i))) for i in 1:max_crab)\n",
    "end"
   ]
  },
  {
   "cell_type": "markdown",
   "metadata": {},
   "source": [
    "### answer"
   ]
  },
  {
   "cell_type": "code",
   "execution_count": 28,
   "metadata": {
    "ExecuteTime": {
     "end_time": "2021-12-07T13:17:01.202000+08:00",
     "start_time": "2021-12-07T05:17:01.056Z"
    }
   },
   "outputs": [
    {
     "name": "stdout",
     "output_type": "stream",
     "text": [
      "  0.095866 seconds (361.20 k allocations: 49.035 MiB, 8.55% gc time, 92.32% compilation time)\n"
     ]
    },
    {
     "name": "stderr",
     "output_type": "stream",
     "text": [
      "┌ Info: part 2 answer\n",
      "│   result2(ips1) = 168\n",
      "│   result2(ipa) = 91257582\n",
      "└ @ Main In[28]:1\n"
     ]
    }
   ],
   "source": [
    "@time @info(\n",
    "    \"part 2 answer\",\n",
    "    result2(ips1),\n",
    "    result2(ipa),\n",
    "    )"
   ]
  }
 ],
 "metadata": {
  "@webio": {
   "lastCommId": null,
   "lastKernelId": null
  },
  "kernelspec": {
   "display_name": "Julia 1.7.0",
   "language": "julia",
   "name": "julia-1.7"
  },
  "language_info": {
   "file_extension": ".jl",
   "mimetype": "application/julia",
   "name": "julia",
   "version": "1.7.0"
  },
  "latex_envs": {
   "LaTeX_envs_menu_present": true,
   "autoclose": false,
   "autocomplete": true,
   "bibliofile": "biblio.bib",
   "cite_by": "apalike",
   "current_citInitial": 1,
   "eqLabelWithNumbers": true,
   "eqNumInitial": 1,
   "hotkeys": {
    "equation": "Ctrl-E",
    "itemize": "Ctrl-I"
   },
   "labels_anchors": false,
   "latex_user_defs": false,
   "report_style_numbering": false,
   "user_envs_cfg": false
  },
  "toc": {
   "base_numbering": 1,
   "nav_menu": {},
   "number_sections": true,
   "sideBar": true,
   "skip_h1_title": true,
   "title_cell": "Table of Contents",
   "title_sidebar": "Contents",
   "toc_cell": true,
   "toc_position": {},
   "toc_section_display": true,
   "toc_window_display": true
  }
 },
 "nbformat": 4,
 "nbformat_minor": 4
}
