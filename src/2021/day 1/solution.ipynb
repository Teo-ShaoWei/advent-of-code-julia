{
 "cells": [
  {
   "cell_type": "markdown",
   "metadata": {},
   "source": [
    "# Advent of Code 2021 Day 1\n",
    "[link](https://adventofcode.com/2021/day/1)"
   ]
  },
  {
   "cell_type": "markdown",
   "metadata": {
    "toc": true
   },
   "source": [
    "<h1>Table of Contents<span class=\"tocSkip\"></span></h1>\n",
    "<div class=\"toc\"><ul class=\"toc-item\"><li><span><a href=\"#read-input\" data-toc-modified-id=\"read-input-1\"><span class=\"toc-item-num\">1&nbsp;&nbsp;</span>read input</a></span><ul class=\"toc-item\"><li><span><a href=\"#parse_input\" data-toc-modified-id=\"parse_input-1.1\"><span class=\"toc-item-num\">1.1&nbsp;&nbsp;</span>parse_input</a></span></li><li><span><a href=\"#input_sample_1\" data-toc-modified-id=\"input_sample_1-1.2\"><span class=\"toc-item-num\">1.2&nbsp;&nbsp;</span>input_sample_1</a></span></li><li><span><a href=\"#input_puzzle\" data-toc-modified-id=\"input_puzzle-1.3\"><span class=\"toc-item-num\">1.3&nbsp;&nbsp;</span>input_puzzle</a></span></li></ul></li><li><span><a href=\"#part-1\" data-toc-modified-id=\"part-1-2\"><span class=\"toc-item-num\">2&nbsp;&nbsp;</span>part 1</a></span><ul class=\"toc-item\"><li><span><a href=\"#count_consecutive_increasing_depths\" data-toc-modified-id=\"count_consecutive_increasing_depths-2.1\"><span class=\"toc-item-num\">2.1&nbsp;&nbsp;</span>count_consecutive_increasing_depths</a></span></li><li><span><a href=\"#answer\" data-toc-modified-id=\"answer-2.2\"><span class=\"toc-item-num\">2.2&nbsp;&nbsp;</span>answer</a></span></li></ul></li><li><span><a href=\"#part-2\" data-toc-modified-id=\"part-2-3\"><span class=\"toc-item-num\">3&nbsp;&nbsp;</span>part 2</a></span><ul class=\"toc-item\"><li><span><a href=\"#count_increasing_summed_depths\" data-toc-modified-id=\"count_increasing_summed_depths-3.1\"><span class=\"toc-item-num\">3.1&nbsp;&nbsp;</span>count_increasing_summed_depths</a></span></li><li><span><a href=\"#answer\" data-toc-modified-id=\"answer-3.2\"><span class=\"toc-item-num\">3.2&nbsp;&nbsp;</span>answer</a></span></li></ul></li></ul></div>"
   ]
  },
  {
   "cell_type": "code",
   "execution_count": null,
   "metadata": {},
   "outputs": [],
   "source": [
    "# using Combinatorics\n",
    "# using DataStructures\n",
    "# using OffsetArrays\n",
    "# using Mods"
   ]
  },
  {
   "cell_type": "markdown",
   "metadata": {},
   "source": [
    "## read input"
   ]
  },
  {
   "cell_type": "markdown",
   "metadata": {},
   "source": [
    "### parse_input"
   ]
  },
  {
   "cell_type": "code",
   "execution_count": 9,
   "metadata": {
    "ExecuteTime": {
     "end_time": "2021-12-01T13:00:45.612000+08:00",
     "start_time": "2021-12-01T05:00:45.311Z"
    }
   },
   "outputs": [
    {
     "data": {
      "text/plain": [
       "parse_input (generic function with 1 method)"
      ]
     },
     "execution_count": 9,
     "metadata": {},
     "output_type": "execute_result"
    }
   ],
   "source": [
    "parse_input(filename) = parse.(Int, readlines(filename))"
   ]
  },
  {
   "cell_type": "markdown",
   "metadata": {},
   "source": [
    "### input_sample_1"
   ]
  },
  {
   "cell_type": "code",
   "execution_count": 10,
   "metadata": {
    "ExecuteTime": {
     "end_time": "2021-12-01T13:00:47.323000+08:00",
     "start_time": "2021-12-01T05:00:46.361Z"
    },
    "scrolled": true
   },
   "outputs": [
    {
     "data": {
      "text/plain": [
       "10-element Vector{Int64}:\n",
       " 199\n",
       " 200\n",
       " 208\n",
       " 210\n",
       " 200\n",
       " 207\n",
       " 240\n",
       " 269\n",
       " 260\n",
       " 263"
      ]
     },
     "execution_count": 10,
     "metadata": {},
     "output_type": "execute_result"
    }
   ],
   "source": [
    "input_sample_1 = parse_input(\"input_sample_1.txt\")"
   ]
  },
  {
   "cell_type": "markdown",
   "metadata": {},
   "source": [
    "### input_puzzle"
   ]
  },
  {
   "cell_type": "code",
   "execution_count": 11,
   "metadata": {
    "ExecuteTime": {
     "end_time": "2021-12-01T13:00:47.677000+08:00",
     "start_time": "2021-12-01T05:00:47.636Z"
    },
    "scrolled": true
   },
   "outputs": [
    {
     "data": {
      "text/plain": [
       "2000-element Vector{Int64}:\n",
       "  191\n",
       "  192\n",
       "  201\n",
       "  205\n",
       "  206\n",
       "  203\n",
       "  188\n",
       "  189\n",
       "  199\n",
       "  206\n",
       "  224\n",
       "  230\n",
       "  233\n",
       "    ⋮\n",
       " 5712\n",
       " 5714\n",
       " 5730\n",
       " 5729\n",
       " 5740\n",
       " 5743\n",
       " 5776\n",
       " 5777\n",
       " 5788\n",
       " 5787\n",
       " 5783\n",
       " 5791"
      ]
     },
     "execution_count": 11,
     "metadata": {},
     "output_type": "execute_result"
    }
   ],
   "source": [
    "input_puzzle = parse_input(\"input_puzzle.txt\")"
   ]
  },
  {
   "cell_type": "markdown",
   "metadata": {},
   "source": [
    "## part 1"
   ]
  },
  {
   "cell_type": "markdown",
   "metadata": {},
   "source": [
    "### count_consecutive_increasing_depths\n",
    "\n",
    "Count the number of consecutive increasing depths."
   ]
  },
  {
   "cell_type": "code",
   "execution_count": 48,
   "metadata": {
    "ExecuteTime": {
     "end_time": "2021-12-02T12:31:08.304000+08:00",
     "start_time": "2021-12-02T04:31:08.289Z"
    }
   },
   "outputs": [
    {
     "ename": "LoadError",
     "evalue": "MethodError: no method matching isless(::Int64, ::Vector{Int64})\n\u001b[0mClosest candidates are:\n\u001b[0m  isless(\u001b[91m::AbstractVector{T} where T\u001b[39m, ::AbstractVector{T} where T) at abstractarray.jl:1989\n\u001b[0m  isless(::Real, \u001b[91m::AbstractFloat\u001b[39m) at operators.jl:168\n\u001b[0m  isless(::Real, \u001b[91m::Real\u001b[39m) at operators.jl:357\n\u001b[0m  ...",
     "output_type": "error",
     "traceback": [
      "MethodError: no method matching isless(::Int64, ::Vector{Int64})\n\u001b[0mClosest candidates are:\n\u001b[0m  isless(\u001b[91m::AbstractVector{T} where T\u001b[39m, ::AbstractVector{T} where T) at abstractarray.jl:1989\n\u001b[0m  isless(::Real, \u001b[91m::AbstractFloat\u001b[39m) at operators.jl:168\n\u001b[0m  isless(::Real, \u001b[91m::Real\u001b[39m) at operators.jl:357\n\u001b[0m  ...",
      "",
      "Stacktrace:",
      " [1] <(x::Int64, y::Vector{Int64})",
      "   @ Base ./operators.jl:279",
      " [2] >(x::Vector{Int64}, y::Int64)",
      "   @ Base ./operators.jl:305",
      " [3] (::Base.Fix2{typeof(>), Int64})(y::Vector{Int64})",
      "   @ Base ./operators.jl:1002",
      " [4] top-level scope",
      "   @ In[48]:1",
      " [5] eval",
      "   @ ./boot.jl:360 [inlined]",
      " [6] include_string(mapexpr::typeof(REPL.softscope), mod::Module, code::String, filename::String)",
      "   @ Base ./loading.jl:1094"
     ]
    }
   ],
   "source": [
    "(>(0))([1, 2])"
   ]
  },
  {
   "cell_type": "code",
   "execution_count": 61,
   "metadata": {
    "ExecuteTime": {
     "end_time": "2021-12-02T12:35:39.079000+08:00",
     "start_time": "2021-12-02T04:35:39.061Z"
    }
   },
   "outputs": [
    {
     "ename": "LoadError",
     "evalue": "MethodError: no method matching isless(::Int64, ::Vector{Int64})\n\u001b[0mClosest candidates are:\n\u001b[0m  isless(\u001b[91m::AbstractVector{T} where T\u001b[39m, ::AbstractVector{T} where T) at abstractarray.jl:1989\n\u001b[0m  isless(::Real, \u001b[91m::AbstractFloat\u001b[39m) at operators.jl:168\n\u001b[0m  isless(::Real, \u001b[91m::Real\u001b[39m) at operators.jl:357\n\u001b[0m  ...",
     "output_type": "error",
     "traceback": [
      "MethodError: no method matching isless(::Int64, ::Vector{Int64})\n\u001b[0mClosest candidates are:\n\u001b[0m  isless(\u001b[91m::AbstractVector{T} where T\u001b[39m, ::AbstractVector{T} where T) at abstractarray.jl:1989\n\u001b[0m  isless(::Real, \u001b[91m::AbstractFloat\u001b[39m) at operators.jl:168\n\u001b[0m  isless(::Real, \u001b[91m::Real\u001b[39m) at operators.jl:357\n\u001b[0m  ...",
      "",
      "Stacktrace:",
      " [1] <(x::Int64, y::Vector{Int64})",
      "   @ Base ./operators.jl:279",
      " [2] >(x::Vector{Int64}, y::Int64)",
      "   @ Base ./operators.jl:305",
      " [3] (::Base.Fix2{typeof(>), Int64})(y::Vector{Int64})",
      "   @ Base ./operators.jl:1002",
      " [4] (::ComposedFunction{Base.Fix2{typeof(>), Int64}, typeof(diff)})(x::Vector{Int64})",
      "   @ Base ./operators.jl:938",
      " [5] top-level scope",
      "   @ In[61]:5",
      " [6] eval",
      "   @ ./boot.jl:360 [inlined]",
      " [7] include_string(mapexpr::typeof(REPL.softscope), mod::Module, code::String, filename::String)",
      "   @ Base ./loading.jl:1094"
     ]
    }
   ],
   "source": [
    "∑Δ(i) = i |> diff .|> >(0) |> sum |> println\n",
    "\n",
    "f = .>(0) ∘ diff\n",
    "\n",
    "f(input_puzzle)"
   ]
  },
  {
   "cell_type": "code",
   "execution_count": 24,
   "metadata": {
    "ExecuteTime": {
     "end_time": "2021-12-01T14:45:41.987000+08:00",
     "start_time": "2021-12-01T06:45:41.904Z"
    }
   },
   "outputs": [
    {
     "data": {
      "text/plain": [
       "count_consecutive_increasing_depths (generic function with 1 method)"
      ]
     },
     "execution_count": 24,
     "metadata": {},
     "output_type": "execute_result"
    }
   ],
   "source": [
    "function count_consecutive_increasing_depths(depths)\n",
    "    count = 0\n",
    "    for i in 2:length(depths)\n",
    "        (depths[i - 1] < depths[i]) && (count += 1)\n",
    "    end\n",
    "    return count\n",
    "end"
   ]
  },
  {
   "cell_type": "code",
   "execution_count": 25,
   "metadata": {
    "ExecuteTime": {
     "end_time": "2021-12-01T14:45:42.831000+08:00",
     "start_time": "2021-12-01T06:45:42.829Z"
    }
   },
   "outputs": [
    {
     "data": {
      "text/plain": [
       "7"
      ]
     },
     "execution_count": 25,
     "metadata": {},
     "output_type": "execute_result"
    }
   ],
   "source": [
    "count_increasing_depths(input_sample_1)"
   ]
  },
  {
   "cell_type": "code",
   "execution_count": 26,
   "metadata": {
    "ExecuteTime": {
     "end_time": "2021-12-01T14:45:43.543000+08:00",
     "start_time": "2021-12-01T06:45:43.541Z"
    }
   },
   "outputs": [
    {
     "data": {
      "text/plain": [
       "1374"
      ]
     },
     "execution_count": 26,
     "metadata": {},
     "output_type": "execute_result"
    }
   ],
   "source": [
    "count_increasing_depths(input_puzzle)"
   ]
  },
  {
   "cell_type": "markdown",
   "metadata": {},
   "source": [
    "### answer"
   ]
  },
  {
   "cell_type": "code",
   "execution_count": 38,
   "metadata": {
    "ExecuteTime": {
     "end_time": "2021-12-01T14:50:59.599000+08:00",
     "start_time": "2021-12-01T06:50:59.552Z"
    }
   },
   "outputs": [
    {
     "name": "stdout",
     "output_type": "stream",
     "text": [
      "  0.000213 seconds (60 allocations: 2.062 KiB)\n"
     ]
    },
    {
     "name": "stderr",
     "output_type": "stream",
     "text": [
      "┌ Info: part 1 answer\n",
      "│   ans = 1374\n",
      "└ @ Main In[38]:1\n"
     ]
    }
   ],
   "source": [
    "@time @info(\n",
    "        \"part 1 answer\",\n",
    "        ans = count_increasing_depths(input_puzzle),\n",
    "    )"
   ]
  },
  {
   "cell_type": "markdown",
   "metadata": {},
   "source": [
    "## part 2"
   ]
  },
  {
   "cell_type": "markdown",
   "metadata": {},
   "source": [
    "### count_increasing_summed_depths\n",
    "\n",
    "Count the consecutive increasing $k$-sum depths.\n",
    "\n",
    "This is equivalent to finding whether the difference between depths $k$ apart is increasing."
   ]
  },
  {
   "cell_type": "code",
   "execution_count": 32,
   "metadata": {
    "ExecuteTime": {
     "end_time": "2021-12-01T14:47:31.986000+08:00",
     "start_time": "2021-12-01T06:47:31.983Z"
    }
   },
   "outputs": [
    {
     "data": {
      "text/plain": [
       "count_increasing_summed_depths (generic function with 1 method)"
      ]
     },
     "execution_count": 32,
     "metadata": {},
     "output_type": "execute_result"
    }
   ],
   "source": [
    "function count_increasing_summed_depths(depths, k)\n",
    "    count = 0\n",
    "    for i in (k + 1):length(depths)\n",
    "        (depths[i - k] < depths[i]) && (count += 1)\n",
    "    end\n",
    "    return count\n",
    "end"
   ]
  },
  {
   "cell_type": "code",
   "execution_count": 33,
   "metadata": {
    "ExecuteTime": {
     "end_time": "2021-12-01T14:47:32.805000+08:00",
     "start_time": "2021-12-01T06:47:32.795Z"
    }
   },
   "outputs": [
    {
     "data": {
      "text/plain": [
       "5"
      ]
     },
     "execution_count": 33,
     "metadata": {},
     "output_type": "execute_result"
    }
   ],
   "source": [
    "count_increasing_summed_depths(input_sample_1, 3)"
   ]
  },
  {
   "cell_type": "code",
   "execution_count": 34,
   "metadata": {
    "ExecuteTime": {
     "end_time": "2021-12-01T14:47:33.522000+08:00",
     "start_time": "2021-12-01T06:47:33.520Z"
    }
   },
   "outputs": [
    {
     "data": {
      "text/plain": [
       "1418"
      ]
     },
     "execution_count": 34,
     "metadata": {},
     "output_type": "execute_result"
    }
   ],
   "source": [
    "count_increasing_summed_depths(input_puzzle, 3)"
   ]
  },
  {
   "cell_type": "markdown",
   "metadata": {},
   "source": [
    "### answer"
   ]
  },
  {
   "cell_type": "code",
   "execution_count": 37,
   "metadata": {
    "ExecuteTime": {
     "end_time": "2021-12-01T14:50:09.248000+08:00",
     "start_time": "2021-12-01T06:50:09.213Z"
    }
   },
   "outputs": [
    {
     "name": "stdout",
     "output_type": "stream",
     "text": [
      "  0.000161 seconds (60 allocations: 2.062 KiB)\n"
     ]
    },
    {
     "name": "stderr",
     "output_type": "stream",
     "text": [
      "┌ Info: part 2 answer\n",
      "│   ans = 1418\n",
      "└ @ Main In[37]:1\n"
     ]
    }
   ],
   "source": [
    "@time @info(\n",
    "        \"part 2 answer\",\n",
    "        ans = count_increasing_summed_depths(input_puzzle, 3),\n",
    "    )"
   ]
  }
 ],
 "metadata": {
  "@webio": {
   "lastCommId": null,
   "lastKernelId": null
  },
  "kernelspec": {
   "display_name": "Julia 1.6.0",
   "language": "julia",
   "name": "julia-1.6"
  },
  "language_info": {
   "file_extension": ".jl",
   "mimetype": "application/julia",
   "name": "julia",
   "version": "1.6.0"
  },
  "latex_envs": {
   "LaTeX_envs_menu_present": true,
   "autoclose": false,
   "autocomplete": true,
   "bibliofile": "biblio.bib",
   "cite_by": "apalike",
   "current_citInitial": 1,
   "eqLabelWithNumbers": true,
   "eqNumInitial": 1,
   "hotkeys": {
    "equation": "Ctrl-E",
    "itemize": "Ctrl-I"
   },
   "labels_anchors": false,
   "latex_user_defs": false,
   "report_style_numbering": false,
   "user_envs_cfg": false
  },
  "toc": {
   "base_numbering": 1,
   "nav_menu": {},
   "number_sections": true,
   "sideBar": true,
   "skip_h1_title": true,
   "title_cell": "Table of Contents",
   "title_sidebar": "Contents",
   "toc_cell": true,
   "toc_position": {},
   "toc_section_display": true,
   "toc_window_display": true
  }
 },
 "nbformat": 4,
 "nbformat_minor": 4
}
