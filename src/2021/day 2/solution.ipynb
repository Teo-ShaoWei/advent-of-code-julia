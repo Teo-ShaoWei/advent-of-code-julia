{
 "cells": [
  {
   "cell_type": "markdown",
   "metadata": {},
   "source": [
    "# Advent of Code 2021 Day 1\n",
    "[link](https://adventofcode.com/2021/day/1)"
   ]
  },
  {
   "cell_type": "markdown",
   "metadata": {
    "toc": true
   },
   "source": [
    "<h1>Table of Contents<span class=\"tocSkip\"></span></h1>\n",
    "<div class=\"toc\"><ul class=\"toc-item\"><li><span><a href=\"#read-input\" data-toc-modified-id=\"read-input-1\"><span class=\"toc-item-num\">1&nbsp;&nbsp;</span>read input</a></span><ul class=\"toc-item\"><li><span><a href=\"#parse_input\" data-toc-modified-id=\"parse_input-1.1\"><span class=\"toc-item-num\">1.1&nbsp;&nbsp;</span>parse_input</a></span></li><li><span><a href=\"#input_sample_1\" data-toc-modified-id=\"input_sample_1-1.2\"><span class=\"toc-item-num\">1.2&nbsp;&nbsp;</span>input_sample_1</a></span></li><li><span><a href=\"#input_puzzle\" data-toc-modified-id=\"input_puzzle-1.3\"><span class=\"toc-item-num\">1.3&nbsp;&nbsp;</span>input_puzzle</a></span></li></ul></li><li><span><a href=\"#part-1\" data-toc-modified-id=\"part-1-2\"><span class=\"toc-item-num\">2&nbsp;&nbsp;</span>part 1</a></span><ul class=\"toc-item\"><li><span><a href=\"#answer\" data-toc-modified-id=\"answer-2.1\"><span class=\"toc-item-num\">2.1&nbsp;&nbsp;</span>answer</a></span></li></ul></li><li><span><a href=\"#part-2\" data-toc-modified-id=\"part-2-3\"><span class=\"toc-item-num\">3&nbsp;&nbsp;</span>part 2</a></span><ul class=\"toc-item\"><li><span><a href=\"#count_increasing_summed_depths\" data-toc-modified-id=\"count_increasing_summed_depths-3.1\"><span class=\"toc-item-num\">3.1&nbsp;&nbsp;</span>count_increasing_summed_depths</a></span></li><li><span><a href=\"#answer\" data-toc-modified-id=\"answer-3.2\"><span class=\"toc-item-num\">3.2&nbsp;&nbsp;</span>answer</a></span></li></ul></li></ul></div>"
   ]
  },
  {
   "cell_type": "code",
   "execution_count": null,
   "metadata": {},
   "outputs": [],
   "source": [
    "# using Combinatorics\n",
    "# using DataStructures\n",
    "# using OffsetArrays\n",
    "# using Mods"
   ]
  },
  {
   "cell_type": "markdown",
   "metadata": {},
   "source": [
    "## read input"
   ]
  },
  {
   "cell_type": "markdown",
   "metadata": {},
   "source": [
    "### parse_input"
   ]
  },
  {
   "cell_type": "code",
   "execution_count": 41,
   "metadata": {
    "ExecuteTime": {
     "end_time": "2021-12-02T13:23:37.117000+08:00",
     "start_time": "2021-12-02T05:23:37.115Z"
    }
   },
   "outputs": [
    {
     "data": {
      "text/plain": [
       "parse_input (generic function with 1 method)"
      ]
     },
     "execution_count": 41,
     "metadata": {},
     "output_type": "execute_result"
    }
   ],
   "source": [
    "function parse_input(filename) \n",
    "    lines = parse_line.(readlines(filename))\n",
    "end"
   ]
  },
  {
   "cell_type": "code",
   "execution_count": 42,
   "metadata": {
    "ExecuteTime": {
     "end_time": "2021-12-02T13:23:38.768000+08:00",
     "start_time": "2021-12-02T05:23:38.765Z"
    }
   },
   "outputs": [
    {
     "data": {
      "text/plain": [
       "parse_line (generic function with 1 method)"
      ]
     },
     "execution_count": 42,
     "metadata": {},
     "output_type": "execute_result"
    }
   ],
   "source": [
    "function parse_line(line)\n",
    "    d, m = split(line)\n",
    "    return (; d, m = parse(Int, m))\n",
    "end"
   ]
  },
  {
   "cell_type": "markdown",
   "metadata": {},
   "source": [
    "### input_sample_1"
   ]
  },
  {
   "cell_type": "code",
   "execution_count": 43,
   "metadata": {
    "ExecuteTime": {
     "end_time": "2021-12-02T13:23:41.270000+08:00",
     "start_time": "2021-12-02T05:23:40.590Z"
    },
    "scrolled": true
   },
   "outputs": [
    {
     "data": {
      "text/plain": [
       "6-element Vector{NamedTuple{(:d, :m), Tuple{SubString{String}, Int64}}}:\n",
       " (d = \"forward\", m = 5)\n",
       " (d = \"down\", m = 5)\n",
       " (d = \"forward\", m = 8)\n",
       " (d = \"up\", m = 3)\n",
       " (d = \"down\", m = 8)\n",
       " (d = \"forward\", m = 2)"
      ]
     },
     "execution_count": 43,
     "metadata": {},
     "output_type": "execute_result"
    }
   ],
   "source": [
    "input_sample_1 = parse_input(\"input_sample_1.txt\")"
   ]
  },
  {
   "cell_type": "markdown",
   "metadata": {},
   "source": [
    "### input_puzzle"
   ]
  },
  {
   "cell_type": "code",
   "execution_count": 44,
   "metadata": {
    "ExecuteTime": {
     "end_time": "2021-12-02T13:23:42.904000+08:00",
     "start_time": "2021-12-02T05:23:42.866Z"
    },
    "scrolled": true
   },
   "outputs": [
    {
     "data": {
      "text/plain": [
       "1000-element Vector{NamedTuple{(:d, :m), Tuple{SubString{String}, Int64}}}:\n",
       " (d = \"forward\", m = 3)\n",
       " (d = \"down\", m = 7)\n",
       " (d = \"forward\", m = 7)\n",
       " (d = \"down\", m = 4)\n",
       " (d = \"down\", m = 9)\n",
       " (d = \"down\", m = 7)\n",
       " (d = \"forward\", m = 5)\n",
       " (d = \"forward\", m = 9)\n",
       " (d = \"forward\", m = 3)\n",
       " (d = \"forward\", m = 8)\n",
       " (d = \"down\", m = 4)\n",
       " (d = \"down\", m = 6)\n",
       " (d = \"down\", m = 3)\n",
       " ⋮\n",
       " (d = \"forward\", m = 8)\n",
       " (d = \"down\", m = 5)\n",
       " (d = \"down\", m = 6)\n",
       " (d = \"up\", m = 5)\n",
       " (d = \"forward\", m = 8)\n",
       " (d = \"forward\", m = 6)\n",
       " (d = \"up\", m = 8)\n",
       " (d = \"forward\", m = 8)\n",
       " (d = \"up\", m = 3)\n",
       " (d = \"up\", m = 6)\n",
       " (d = \"up\", m = 3)\n",
       " (d = \"forward\", m = 1)"
      ]
     },
     "execution_count": 44,
     "metadata": {},
     "output_type": "execute_result"
    }
   ],
   "source": [
    "input_puzzle = parse_input(\"input_puzzle.txt\")"
   ]
  },
  {
   "cell_type": "markdown",
   "metadata": {},
   "source": [
    "## part 1"
   ]
  },
  {
   "cell_type": "code",
   "execution_count": 48,
   "metadata": {
    "ExecuteTime": {
     "end_time": "2021-12-02T13:27:09.616000+08:00",
     "start_time": "2021-12-02T05:27:09.535Z"
    }
   },
   "outputs": [
    {
     "data": {
      "text/plain": [
       "move_part1 (generic function with 1 method)"
      ]
     },
     "execution_count": 48,
     "metadata": {},
     "output_type": "execute_result"
    }
   ],
   "source": [
    "function move_part1(inputs)\n",
    "    c = [0, 0]\n",
    "    for i in inputs\n",
    "        if i.d == \"forward\"\n",
    "            c[1] += i.m\n",
    "        elseif i.d == \"down\"\n",
    "            c[2] += i.m\n",
    "        else  # i.d == \"up\"\n",
    "            c[2] -= i.m\n",
    "        end\n",
    "    end\n",
    "    return prod(c)\n",
    "end"
   ]
  },
  {
   "cell_type": "code",
   "execution_count": 49,
   "metadata": {
    "ExecuteTime": {
     "end_time": "2021-12-02T13:27:16.114000+08:00",
     "start_time": "2021-12-02T05:27:16.085Z"
    }
   },
   "outputs": [
    {
     "data": {
      "text/plain": [
       "150"
      ]
     },
     "execution_count": 49,
     "metadata": {},
     "output_type": "execute_result"
    }
   ],
   "source": [
    "move_part1(input_sample_1)"
   ]
  },
  {
   "cell_type": "markdown",
   "metadata": {},
   "source": [
    "### answer"
   ]
  },
  {
   "cell_type": "code",
   "execution_count": 50,
   "metadata": {
    "ExecuteTime": {
     "end_time": "2021-12-02T13:27:34.073000+08:00",
     "start_time": "2021-12-02T05:27:33.885Z"
    }
   },
   "outputs": [
    {
     "name": "stdout",
     "output_type": "stream",
     "text": [
      "  0.108448 seconds (201.22 k allocations: 12.224 MiB, 8.62% gc time, 98.80% compilation time)\n"
     ]
    },
    {
     "name": "stderr",
     "output_type": "stream",
     "text": [
      "┌ Info: part 1 answer\n",
      "│   ans = 1561344\n",
      "└ @ Main In[50]:1\n"
     ]
    }
   ],
   "source": [
    "@time @info(\n",
    "        \"part 1 answer\",\n",
    "        ans = move_part1(input_puzzle),\n",
    "    )"
   ]
  },
  {
   "cell_type": "markdown",
   "metadata": {},
   "source": [
    "## part 2"
   ]
  },
  {
   "cell_type": "code",
   "execution_count": 55,
   "metadata": {
    "ExecuteTime": {
     "end_time": "2021-12-02T13:30:47.321000+08:00",
     "start_time": "2021-12-02T05:30:47.318Z"
    }
   },
   "outputs": [
    {
     "data": {
      "text/plain": [
       "move_part2 (generic function with 1 method)"
      ]
     },
     "execution_count": 55,
     "metadata": {},
     "output_type": "execute_result"
    }
   ],
   "source": [
    "function move_part2(inputs)\n",
    "    c = [0, 0]\n",
    "    aim = 0\n",
    "    for i in inputs\n",
    "        if i.d == \"forward\"\n",
    "            c[1] += i.m\n",
    "            c[2] += i.m * aim\n",
    "        elseif i.d == \"down\"\n",
    "            aim += i.m\n",
    "        else  # i.d == \"up\"\n",
    "            aim -= i.m\n",
    "        end\n",
    "    end\n",
    "    return prod(c)\n",
    "end"
   ]
  },
  {
   "cell_type": "code",
   "execution_count": 56,
   "metadata": {
    "ExecuteTime": {
     "end_time": "2021-12-02T13:30:48.069000+08:00",
     "start_time": "2021-12-02T05:30:48.041Z"
    },
    "scrolled": true
   },
   "outputs": [
    {
     "data": {
      "text/plain": [
       "900"
      ]
     },
     "execution_count": 56,
     "metadata": {},
     "output_type": "execute_result"
    }
   ],
   "source": [
    "move_part2(input_sample_1)"
   ]
  },
  {
   "cell_type": "markdown",
   "metadata": {},
   "source": [
    "### answer"
   ]
  },
  {
   "cell_type": "code",
   "execution_count": 57,
   "metadata": {
    "ExecuteTime": {
     "end_time": "2021-12-02T13:31:12.212000+08:00",
     "start_time": "2021-12-02T05:31:12.145Z"
    }
   },
   "outputs": [
    {
     "name": "stdout",
     "output_type": "stream",
     "text": [
      "  0.000133 seconds (62 allocations: 2.328 KiB)\n"
     ]
    },
    {
     "name": "stderr",
     "output_type": "stream",
     "text": [
      "┌ Info: part 2 answer\n",
      "│   ans = 1848454425\n",
      "└ @ Main In[57]:1\n"
     ]
    }
   ],
   "source": [
    "@time @info(\n",
    "        \"part 2 answer\",\n",
    "        ans = move_part2(input_puzzle),\n",
    "    )"
   ]
  }
 ],
 "metadata": {
  "@webio": {
   "lastCommId": null,
   "lastKernelId": null
  },
  "kernelspec": {
   "display_name": "Julia 1.6.0",
   "language": "julia",
   "name": "julia-1.6"
  },
  "language_info": {
   "file_extension": ".jl",
   "mimetype": "application/julia",
   "name": "julia",
   "version": "1.6.0"
  },
  "latex_envs": {
   "LaTeX_envs_menu_present": true,
   "autoclose": false,
   "autocomplete": true,
   "bibliofile": "biblio.bib",
   "cite_by": "apalike",
   "current_citInitial": 1,
   "eqLabelWithNumbers": true,
   "eqNumInitial": 1,
   "hotkeys": {
    "equation": "Ctrl-E",
    "itemize": "Ctrl-I"
   },
   "labels_anchors": false,
   "latex_user_defs": false,
   "report_style_numbering": false,
   "user_envs_cfg": false
  },
  "toc": {
   "base_numbering": 1,
   "nav_menu": {},
   "number_sections": true,
   "sideBar": true,
   "skip_h1_title": true,
   "title_cell": "Table of Contents",
   "title_sidebar": "Contents",
   "toc_cell": true,
   "toc_position": {},
   "toc_section_display": true,
   "toc_window_display": true
  }
 },
 "nbformat": 4,
 "nbformat_minor": 4
}
