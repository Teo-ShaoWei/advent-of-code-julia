{
 "cells": [
  {
   "cell_type": "markdown",
   "metadata": {},
   "source": [
    "# Advent of Code 2021 Day 5\n",
    "[link](https://adventofcode.com/2021/day/5)"
   ]
  },
  {
   "cell_type": "markdown",
   "metadata": {
    "toc": true
   },
   "source": [
    "<h1>Table of Contents<span class=\"tocSkip\"></span></h1>\n",
    "<div class=\"toc\"><ul class=\"toc-item\"><li><span><a href=\"#helpers\" data-toc-modified-id=\"helpers-1\"><span class=\"toc-item-num\">1&nbsp;&nbsp;</span>helpers</a></span></li><li><span><a href=\"#read-input\" data-toc-modified-id=\"read-input-2\"><span class=\"toc-item-num\">2&nbsp;&nbsp;</span>read input</a></span><ul class=\"toc-item\"><li><span><a href=\"#parse_input\" data-toc-modified-id=\"parse_input-2.1\"><span class=\"toc-item-num\">2.1&nbsp;&nbsp;</span>parse_input</a></span></li><li><span><a href=\"#ips1-:=-input-puzzle-sample-1\" data-toc-modified-id=\"ips1-:=-input-puzzle-sample-1-2.2\"><span class=\"toc-item-num\">2.2&nbsp;&nbsp;</span>ips1 := input puzzle sample 1</a></span></li><li><span><a href=\"#ipa-:=-input-puzzle-actual\" data-toc-modified-id=\"ipa-:=-input-puzzle-actual-2.3\"><span class=\"toc-item-num\">2.3&nbsp;&nbsp;</span>ipa := input puzzle actual</a></span></li></ul></li><li><span><a href=\"#part-1\" data-toc-modified-id=\"part-1-3\"><span class=\"toc-item-num\">3&nbsp;&nbsp;</span>part 1</a></span><ul class=\"toc-item\"><li><span><a href=\"#answer\" data-toc-modified-id=\"answer-3.1\"><span class=\"toc-item-num\">3.1&nbsp;&nbsp;</span>answer</a></span></li></ul></li><li><span><a href=\"#part-2\" data-toc-modified-id=\"part-2-4\"><span class=\"toc-item-num\">4&nbsp;&nbsp;</span>part 2</a></span><ul class=\"toc-item\"><li><span><a href=\"#answer\" data-toc-modified-id=\"answer-4.1\"><span class=\"toc-item-num\">4.1&nbsp;&nbsp;</span>answer</a></span></li></ul></li></ul></div>"
   ]
  },
  {
   "cell_type": "code",
   "execution_count": 131,
   "metadata": {
    "ExecuteTime": {
     "end_time": "2021-12-05T18:25:16.974000+08:00",
     "start_time": "2021-12-05T10:25:16.948Z"
    }
   },
   "outputs": [],
   "source": [
    "# using Combinatorics\n",
    "# using DataStructures\n",
    "using OffsetArrays\n",
    "# using Mods"
   ]
  },
  {
   "cell_type": "markdown",
   "metadata": {},
   "source": [
    "## helpers"
   ]
  },
  {
   "cell_type": "code",
   "execution_count": 177,
   "metadata": {
    "ExecuteTime": {
     "end_time": "2021-12-05T21:27:39.240000+08:00",
     "start_time": "2021-12-05T13:27:38.950Z"
    }
   },
   "outputs": [
    {
     "data": {
      "text/plain": [
       "'A': ASCII/Unicode U+0041 (category Lu: Letter, uppercase)"
      ]
     },
     "execution_count": 177,
     "metadata": {},
     "output_type": "execute_result"
    }
   ],
   "source": [
    "\"A\"[1]"
   ]
  },
  {
   "cell_type": "code",
   "execution_count": null,
   "metadata": {},
   "outputs": [],
   "source": [
    "parse(Int, \"123ad4\", base=16)"
   ]
  },
  {
   "cell_type": "code",
   "execution_count": 159,
   "metadata": {
    "ExecuteTime": {
     "end_time": "2021-12-05T21:20:26.070000+08:00",
     "start_time": "2021-12-05T13:20:26.064Z"
    }
   },
   "outputs": [
    {
     "data": {
      "text/plain": [
       "CartesianIndex"
      ]
     },
     "execution_count": 159,
     "metadata": {},
     "output_type": "execute_result"
    }
   ],
   "source": [
    "CI = CartesianIndex"
   ]
  },
  {
   "cell_type": "code",
   "execution_count": 124,
   "metadata": {
    "ExecuteTime": {
     "end_time": "2021-12-05T18:21:22.998000+08:00",
     "start_time": "2021-12-05T10:21:22.532Z"
    }
   },
   "outputs": [
    {
     "data": {
      "text/plain": [
       "2-element Vector{CartesianIndex{3}}:\n",
       " CartesianIndex(1, 2, 5)\n",
       " CartesianIndex(1, 3, 6)"
      ]
     },
     "execution_count": 124,
     "metadata": {},
     "output_type": "execute_result"
    }
   ],
   "source": [
    "CartesianIndex.(1, 2:3, 5:6)"
   ]
  },
  {
   "cell_type": "markdown",
   "metadata": {},
   "source": [
    "## read input"
   ]
  },
  {
   "cell_type": "markdown",
   "metadata": {},
   "source": [
    "### parse_input"
   ]
  },
  {
   "cell_type": "code",
   "execution_count": 3,
   "metadata": {
    "ExecuteTime": {
     "end_time": "2021-12-05T13:03:20.674000+08:00",
     "start_time": "2021-12-05T05:03:20.672Z"
    },
    "scrolled": true
   },
   "outputs": [
    {
     "data": {
      "text/plain": [
       "parse_input (generic function with 1 method)"
      ]
     },
     "execution_count": 3,
     "metadata": {},
     "output_type": "execute_result"
    }
   ],
   "source": [
    "function parse_input(f) \n",
    "    lines = parse_coor.(readlines(f))\n",
    "end"
   ]
  },
  {
   "cell_type": "code",
   "execution_count": 172,
   "metadata": {
    "ExecuteTime": {
     "end_time": "2021-12-05T21:26:37.822000+08:00",
     "start_time": "2021-12-05T13:26:37.819Z"
    }
   },
   "outputs": [
    {
     "data": {
      "text/plain": [
       "parse_coor (generic function with 1 method)"
      ]
     },
     "execution_count": 172,
     "metadata": {},
     "output_type": "execute_result"
    }
   ],
   "source": [
    "function parse_coor(s)\n",
    "    m = match(r\"(\\d+),(\\d+) -> (\\d+),(\\d+)\", s)\n",
    "    return (\n",
    "        c1 = CI(\n",
    "            Int(m[1]),\n",
    "            Int(m[2]),\n",
    "        ),\n",
    "        c2 = CI(\n",
    "            Int(m[3]),\n",
    "            Int(m[4]),\n",
    "        ),\n",
    "    )\n",
    "end"
   ]
  },
  {
   "cell_type": "markdown",
   "metadata": {},
   "source": [
    "### ips1 := input puzzle sample 1"
   ]
  },
  {
   "cell_type": "code",
   "execution_count": 173,
   "metadata": {
    "ExecuteTime": {
     "end_time": "2021-12-05T21:26:39.296000+08:00",
     "start_time": "2021-12-05T13:26:39.209Z"
    },
    "scrolled": true
   },
   "outputs": [
    {
     "data": {
      "text/plain": [
       "10-element Vector{NamedTuple{(:c1, :c2), Tuple{CartesianIndex{2}, CartesianIndex{2}}}}:\n",
       " (c1 = CartesianIndex(0, 9), c2 = CartesianIndex(5, 9))\n",
       " (c1 = CartesianIndex(8, 0), c2 = CartesianIndex(0, 8))\n",
       " (c1 = CartesianIndex(9, 4), c2 = CartesianIndex(3, 4))\n",
       " (c1 = CartesianIndex(2, 2), c2 = CartesianIndex(2, 1))\n",
       " (c1 = CartesianIndex(7, 0), c2 = CartesianIndex(7, 4))\n",
       " (c1 = CartesianIndex(6, 4), c2 = CartesianIndex(2, 0))\n",
       " (c1 = CartesianIndex(0, 9), c2 = CartesianIndex(2, 9))\n",
       " (c1 = CartesianIndex(3, 4), c2 = CartesianIndex(1, 4))\n",
       " (c1 = CartesianIndex(0, 0), c2 = CartesianIndex(8, 8))\n",
       " (c1 = CartesianIndex(5, 5), c2 = CartesianIndex(8, 2))"
      ]
     },
     "execution_count": 173,
     "metadata": {},
     "output_type": "execute_result"
    }
   ],
   "source": [
    "ips1 = parse_input(\"ips1.txt\")"
   ]
  },
  {
   "cell_type": "markdown",
   "metadata": {},
   "source": [
    "### ipa := input puzzle actual"
   ]
  },
  {
   "cell_type": "code",
   "execution_count": 183,
   "metadata": {
    "ExecuteTime": {
     "end_time": "2021-12-05T21:30:01.946000+08:00",
     "start_time": "2021-12-05T13:30:01.940Z"
    },
    "scrolled": true
   },
   "outputs": [
    {
     "data": {
      "text/plain": [
       "500-element Vector{NamedTuple{(:c1, :c2), Tuple{CartesianIndex{2}, CartesianIndex{2}}}}:\n",
       " (c1 = CartesianIndex(348, 742), c2 = CartesianIndex(620, 742))\n",
       " (c1 = CartesianIndex(494, 864), c2 = CartesianIndex(494, 484))\n",
       " (c1 = CartesianIndex(193, 136), c2 = CartesianIndex(301, 136))\n",
       " (c1 = CartesianIndex(342, 692), c2 = CartesianIndex(342, 538))\n",
       " (c1 = CartesianIndex(234, 525), c2 = CartesianIndex(102, 393))\n",
       " (c1 = CartesianIndex(72, 964), c2 = CartesianIndex(847, 189))\n",
       " (c1 = CartesianIndex(639, 430), c2 = CartesianIndex(99, 970))\n",
       " (c1 = CartesianIndex(398, 791), c2 = CartesianIndex(398, 187))\n",
       " (c1 = CartesianIndex(181, 144), c2 = CartesianIndex(205, 168))\n",
       " (c1 = CartesianIndex(607, 617), c2 = CartesianIndex(416, 617))\n",
       " (c1 = CartesianIndex(98, 339), c2 = CartesianIndex(98, 437))\n",
       " (c1 = CartesianIndex(763, 119), c2 = CartesianIndex(176, 119))\n",
       " (c1 = CartesianIndex(450, 848), c2 = CartesianIndex(450, 664))\n",
       " ⋮\n",
       " (c1 = CartesianIndex(32, 312), c2 = CartesianIndex(833, 312))\n",
       " (c1 = CartesianIndex(42, 309), c2 = CartesianIndex(42, 752))\n",
       " (c1 = CartesianIndex(332, 74), c2 = CartesianIndex(736, 74))\n",
       " (c1 = CartesianIndex(699, 209), c2 = CartesianIndex(495, 209))\n",
       " (c1 = CartesianIndex(297, 113), c2 = CartesianIndex(297, 827))\n",
       " (c1 = CartesianIndex(515, 973), c2 = CartesianIndex(515, 35))\n",
       " (c1 = CartesianIndex(774, 951), c2 = CartesianIndex(774, 290))\n",
       " (c1 = CartesianIndex(471, 921), c2 = CartesianIndex(919, 921))\n",
       " (c1 = CartesianIndex(297, 282), c2 = CartesianIndex(297, 524))\n",
       " (c1 = CartesianIndex(477, 825), c2 = CartesianIndex(477, 343))\n",
       " (c1 = CartesianIndex(220, 665), c2 = CartesianIndex(351, 796))\n",
       " (c1 = CartesianIndex(483, 128), c2 = CartesianIndex(376, 128))"
      ]
     },
     "execution_count": 183,
     "metadata": {},
     "output_type": "execute_result"
    }
   ],
   "source": [
    "ipa = parse_input(\"ipa.txt\")"
   ]
  },
  {
   "cell_type": "markdown",
   "metadata": {},
   "source": [
    "## part 1"
   ]
  },
  {
   "cell_type": "code",
   "execution_count": 184,
   "metadata": {
    "ExecuteTime": {
     "end_time": "2021-12-05T21:30:14.722000+08:00",
     "start_time": "2021-12-05T13:30:14.716Z"
    }
   },
   "outputs": [
    {
     "data": {
      "text/plain": [
       "y_min (generic function with 1 method)"
      ]
     },
     "execution_count": 184,
     "metadata": {},
     "output_type": "execute_result"
    }
   ],
   "source": [
    "x_max(ip) = maximum(max(l.c1[2], l.c2[2]) for l in ip)\n",
    "x_min(ip) = minimum(min(l.c1[2], l.c2[2]) for l in ip)\n",
    "y_max(ip) = maximum(max(l.c1[1], l.c2[1]) for l in ip)\n",
    "y_min(ip) = minimum(min(l.c1[1], l.c2[1]) for l in ip)"
   ]
  },
  {
   "cell_type": "code",
   "execution_count": 185,
   "metadata": {
    "ExecuteTime": {
     "end_time": "2021-12-05T21:30:19.898000+08:00",
     "start_time": "2021-12-05T13:30:19.895Z"
    }
   },
   "outputs": [
    {
     "data": {
      "text/plain": [
       "get_starting_area (generic function with 1 method)"
      ]
     },
     "execution_count": 185,
     "metadata": {},
     "output_type": "execute_result"
    }
   ],
   "source": [
    "function get_starting_area(ip)\n",
    "    return zeros(\n",
    "        Int,\n",
    "        (\n",
    "            y_min(ip):y_max(ip),\n",
    "            x_min(ip):x_max(ip),\n",
    "        ),\n",
    "    )\n",
    "end"
   ]
  },
  {
   "cell_type": "code",
   "execution_count": 85,
   "metadata": {
    "ExecuteTime": {
     "end_time": "2021-12-05T17:46:21.103000+08:00",
     "start_time": "2021-12-05T09:46:21.099Z"
    }
   },
   "outputs": [
    {
     "data": {
      "text/plain": [
       "is_diagonal (generic function with 1 method)"
      ]
     },
     "execution_count": 85,
     "metadata": {},
     "output_type": "execute_result"
    }
   ],
   "source": [
    "function is_horizontal(l)\n",
    "    return l.c1.x == l.c2.x\n",
    "end\n",
    "\n",
    "function is_vertical(l)\n",
    "    return l.c1.y == l.c2.y\n",
    "end\n",
    "\n",
    "function is_diagonal(l)\n",
    "    is_horizontal(l) && return false\n",
    "    is_vertical(l) && return false\n",
    "    return true\n",
    "end"
   ]
  },
  {
   "cell_type": "code",
   "execution_count": 91,
   "metadata": {
    "ExecuteTime": {
     "end_time": "2021-12-05T17:53:22.150000+08:00",
     "start_time": "2021-12-05T09:53:21.919Z"
    }
   },
   "outputs": [
    {
     "name": "stdout",
     "output_type": "stream",
     "text": [
      "is_horizontal.(ips1) = Bool[0, 0, 0, 1, 1, 0, 0, 0, 0, 0]\n",
      "is_vertical.(ips1) = Bool[1, 0, 1, 0, 0, 0, 1, 1, 0, 0]\n",
      "is_diagonal.(ips1) = Bool[0, 1, 0, 0, 0, 1, 0, 0, 1, 1]\n"
     ]
    }
   ],
   "source": [
    "@show is_horizontal.(ips1) is_vertical.(ips1) is_diagonal.(ips1);"
   ]
  },
  {
   "cell_type": "code",
   "execution_count": 106,
   "metadata": {
    "ExecuteTime": {
     "end_time": "2021-12-05T18:01:53.480000+08:00",
     "start_time": "2021-12-05T10:01:53.475Z"
    }
   },
   "outputs": [
    {
     "data": {
      "text/plain": [
       "get_horizontal_vents (generic function with 2 methods)"
      ]
     },
     "execution_count": 106,
     "metadata": {},
     "output_type": "execute_result"
    }
   ],
   "source": [
    "function get_vertical_vents(l, n)\n",
    "    area = get_starting_area(n)\n",
    "    (; x, y) = l.c1\n",
    "    x_step = sign(l.c2.y - l.c1.y)\n",
    "    steps = abs(l.c2.y - l.c1.y)\n",
    "    \n",
    "    for i in 0:steps\n",
    "        area[y + i * y_step, x] = 1\n",
    "    end\n",
    "    return area\n",
    "end"
   ]
  },
  {
   "cell_type": "code",
   "execution_count": 45,
   "metadata": {
    "ExecuteTime": {
     "end_time": "2021-12-05T13:19:59.632000+08:00",
     "start_time": "2021-12-05T05:19:59.629Z"
    }
   },
   "outputs": [
    {
     "data": {
      "text/plain": [
       "get_horizontal_vents (generic function with 2 methods)"
      ]
     },
     "execution_count": 45,
     "metadata": {},
     "output_type": "execute_result"
    }
   ],
   "source": [
    "function get_horizontal_vents(l, n)\n",
    "    area = get_starting_area(n)\n",
    "    x = l.c1.x\n",
    "    y = l.c1.y\n",
    "    y_step = sign(l.c2.y - l.c1.y)\n",
    "    steps = abs(l.c2.y - l.c1.y)\n",
    "    \n",
    "    @show x y y_step steps\n",
    "    \n",
    "    for i in 0:steps\n",
    "        area[y + i * y_step, x] = 1\n",
    "    end\n",
    "    return area\n",
    "end"
   ]
  },
  {
   "cell_type": "code",
   "execution_count": 105,
   "metadata": {
    "ExecuteTime": {
     "end_time": "2021-12-05T18:01:39.353000+08:00",
     "start_time": "2021-12-05T10:01:39.329Z"
    }
   },
   "outputs": [
    {
     "name": "stdout",
     "output_type": "stream",
     "text": [
      "x = 3\n",
      "y = 3\n",
      "y_step = -1\n",
      "steps = 1\n"
     ]
    },
    {
     "data": {
      "text/plain": [
       "10×10 Matrix{Int64}:\n",
       " 0  0  0  0  0  0  0  0  0  0\n",
       " 0  0  1  0  0  0  0  0  0  0\n",
       " 0  0  1  0  0  0  0  0  0  0\n",
       " 0  0  0  0  0  0  0  0  0  0\n",
       " 0  0  0  0  0  0  0  0  0  0\n",
       " 0  0  0  0  0  0  0  0  0  0\n",
       " 0  0  0  0  0  0  0  0  0  0\n",
       " 0  0  0  0  0  0  0  0  0  0\n",
       " 0  0  0  0  0  0  0  0  0  0\n",
       " 0  0  0  0  0  0  0  0  0  0"
      ]
     },
     "execution_count": 105,
     "metadata": {},
     "output_type": "execute_result"
    }
   ],
   "source": [
    "get_horizontal_vents(ips1[4], 10)"
   ]
  },
  {
   "cell_type": "code",
   "execution_count": 72,
   "metadata": {
    "ExecuteTime": {
     "end_time": "2021-12-05T13:28:40.150000+08:00",
     "start_time": "2021-12-05T05:28:40.145Z"
    }
   },
   "outputs": [
    {
     "data": {
      "text/plain": [
       "get_diagonal_vents (generic function with 1 method)"
      ]
     },
     "execution_count": 72,
     "metadata": {},
     "output_type": "execute_result"
    }
   ],
   "source": [
    "function get_diagonal_vents(l, n)\n",
    "    area = get_starting_area(n)\n",
    "    x = l.c1.x\n",
    "    y = l.c1.y\n",
    "    x_step = sign(l.c2.x - l.c1.x)\n",
    "    y_step = sign(l.c2.y - l.c1.y)\n",
    "    steps = abs(l.c2.x - l.c1.x)\n",
    "    \n",
    "    @show x y x_step y_step steps\n",
    "    \n",
    "    for i in 0:steps\n",
    "        area[y + y_step * i, x + x_step * i] = 1\n",
    "    end\n",
    "    return area\n",
    "end"
   ]
  },
  {
   "cell_type": "code",
   "execution_count": 56,
   "metadata": {
    "ExecuteTime": {
     "end_time": "2021-12-05T13:22:05.413000+08:00",
     "start_time": "2021-12-05T05:22:05.325Z"
    }
   },
   "outputs": [
    {
     "data": {
      "text/plain": [
       "count_dangerous (generic function with 1 method)"
      ]
     },
     "execution_count": 56,
     "metadata": {},
     "output_type": "execute_result"
    }
   ],
   "source": [
    "function count_dangerous(area)\n",
    "    count(>(1), area)\n",
    "end"
   ]
  },
  {
   "cell_type": "code",
   "execution_count": 57,
   "metadata": {
    "ExecuteTime": {
     "end_time": "2021-12-05T13:22:14.152000+08:00",
     "start_time": "2021-12-05T05:22:14.149Z"
    }
   },
   "outputs": [
    {
     "data": {
      "text/plain": [
       "result1 (generic function with 2 methods)"
      ]
     },
     "execution_count": 57,
     "metadata": {},
     "output_type": "execute_result"
    }
   ],
   "source": [
    "function result1(ip, n)\n",
    "    area = get_starting_area(n)\n",
    "    \n",
    "    for l in filter(is_horizontal, ip)\n",
    "        area .+= get_horizontal_vents(l, n)\n",
    "    end\n",
    "    \n",
    "    for l in filter(is_vertical, ip)\n",
    "        area .+= get_vertical_vents(l, n)\n",
    "    end\n",
    "    \n",
    "    return count_dangerous(area)\n",
    "end"
   ]
  },
  {
   "cell_type": "code",
   "execution_count": 58,
   "metadata": {
    "ExecuteTime": {
     "end_time": "2021-12-05T13:22:15.655000+08:00",
     "start_time": "2021-12-05T05:22:15.561Z"
    }
   },
   "outputs": [
    {
     "data": {
      "text/plain": [
       "5"
      ]
     },
     "execution_count": 58,
     "metadata": {},
     "output_type": "execute_result"
    }
   ],
   "source": [
    "result1(ips1, 10)"
   ]
  },
  {
   "cell_type": "markdown",
   "metadata": {},
   "source": [
    "### answer"
   ]
  },
  {
   "cell_type": "code",
   "execution_count": 59,
   "metadata": {
    "ExecuteTime": {
     "end_time": "2021-12-05T13:22:19.089000+08:00",
     "start_time": "2021-12-05T05:22:18.328Z"
    }
   },
   "outputs": [
    {
     "name": "stdout",
     "output_type": "stream",
     "text": [
      "  0.715239 seconds (68.38 k allocations: 2.440 GiB, 19.76% gc time, 3.68% compilation time)\n"
     ]
    },
    {
     "name": "stderr",
     "output_type": "stream",
     "text": [
      "┌ Info: part 1 answer\n",
      "│   result1(ips1, 10) = 5\n",
      "│   result1(ipa, 1000) = 4826\n",
      "└ @ Main In[59]:1\n"
     ]
    }
   ],
   "source": [
    "@time @info(\n",
    "    \"part 1 answer\",\n",
    "    result1(ips1, 10),\n",
    "    result1(ipa, 1000),\n",
    ")"
   ]
  },
  {
   "cell_type": "markdown",
   "metadata": {},
   "source": [
    "## part 2"
   ]
  },
  {
   "cell_type": "code",
   "execution_count": 74,
   "metadata": {
    "ExecuteTime": {
     "end_time": "2021-12-05T13:29:18.416000+08:00",
     "start_time": "2021-12-05T05:29:18.313Z"
    }
   },
   "outputs": [
    {
     "data": {
      "text/plain": [
       "result2 (generic function with 1 method)"
      ]
     },
     "execution_count": 74,
     "metadata": {},
     "output_type": "execute_result"
    }
   ],
   "source": [
    "function result2(ip, n)\n",
    "    area = get_starting_area(n)\n",
    "    \n",
    "    for l in filter(is_horizontal, ip)\n",
    "        area .+= get_horizontal_vents(l, n)\n",
    "    end\n",
    "    \n",
    "    for l in filter(is_vertical, ip)\n",
    "        area .+= get_vertical_vents(l, n)\n",
    "    end\n",
    "    \n",
    "    for l in filter(is_diagonal, ip)\n",
    "        area .+= get_diagonal_vents(l, n)\n",
    "    end\n",
    "    \n",
    "    return count_dangerous(area)\n",
    "end"
   ]
  },
  {
   "cell_type": "markdown",
   "metadata": {},
   "source": [
    "### answer"
   ]
  },
  {
   "cell_type": "code",
   "execution_count": 75,
   "metadata": {
    "ExecuteTime": {
     "end_time": "2021-12-05T13:29:26.521000+08:00",
     "start_time": "2021-12-05T05:29:25.111Z"
    }
   },
   "outputs": [
    {
     "name": "stdout",
     "output_type": "stream",
     "text": [
      "x = 1\n",
      "y = 9\n",
      "x_step = 1\n",
      "y_step = -1\n",
      "steps = 8\n",
      "x = 5\n",
      "y = 7\n",
      "x_step = -1\n",
      "y_step = -1\n",
      "steps = 4\n",
      "x = 1\n",
      "y = 1\n",
      "x_step = 1\n",
      "y_step = 1\n",
      "steps = 8\n",
      "x = 6\n",
      "y = 6\n",
      "x_step = -1\n",
      "y_step = 1\n",
      "steps = 3\n",
      "x = 526\n",
      "y = 235\n",
      "x_step = -1\n",
      "y_step = -1\n",
      "steps = 132\n",
      "x = 965\n",
      "y = 73\n",
      "x_step = -1\n",
      "y_step = 1\n",
      "steps = 775\n",
      "x = 431\n",
      "y = 640\n",
      "x_step = 1\n",
      "y_step = -1\n",
      "steps = 540\n",
      "x = 145\n",
      "y = 182\n",
      "x_step = 1\n",
      "y_step = 1\n",
      "steps = 24\n",
      "x = 22\n",
      "y = 158\n",
      "x_step = 1\n",
      "y_step = 1\n",
      "steps = 248\n",
      "x = 956\n",
      "y = 43\n",
      "x_step = -1\n",
      "y_step = 1\n",
      "steps = 914\n",
      "x = 24\n",
      "y = 170\n",
      "x_step = 1\n",
      "y_step = 1\n",
      "steps = 104\n",
      "x = 600\n",
      "y = 939\n",
      "x_step = 1\n",
      "y_step = -1\n",
      "steps = 269\n",
      "x = 47\n",
      "y = 914\n",
      "x_step = 1\n",
      "y_step = -1\n",
      "steps = 455\n",
      "x = 652\n",
      "y = 179\n",
      "x_step = -1\n",
      "y_step = 1\n",
      "steps = 462\n",
      "x = 744\n",
      "y = 184\n",
      "x_step = -1\n",
      "y_step = 1\n",
      "steps = 314\n",
      "x = 35\n",
      "y = 943\n",
      "x_step = 1\n",
      "y_step = -1\n",
      "steps = 555\n",
      "x = 461\n",
      "y = 34\n",
      "x_step = 1\n",
      "y_step = 1\n",
      "steps = 423\n",
      "x = 863\n",
      "y = 343\n",
      "x_step = 1\n",
      "y_step = -1\n",
      "steps = 92\n",
      "x = 126\n",
      "y = 867\n",
      "x_step = 1\n",
      "y_step = -1\n",
      "steps = 715\n",
      "x = 490\n",
      "y = 796\n",
      "x_step = 1\n",
      "y_step = -1\n",
      "steps = 196\n",
      "x = 508\n",
      "y = 900\n",
      "x_step = 1\n",
      "y_step = -1\n",
      "steps = 200\n",
      "x = 81\n",
      "y = 799\n",
      "x_step = 1\n",
      "y_step = -1\n",
      "steps = 379\n",
      "x = 467\n",
      "y = 492\n",
      "x_step = -1\n",
      "y_step = 1\n",
      "steps = 55\n",
      "x = 71\n",
      "y = 548\n",
      "x_step = 1\n",
      "y_step = -1\n",
      "steps = 140\n",
      "x = 110\n",
      "y = 875\n",
      "x_step = 1\n",
      "y_step = -1\n",
      "steps = 826\n",
      "x = 893\n",
      "y = 981\n",
      "x_step = -1\n",
      "y_step = -1\n",
      "steps = 821\n",
      "x = 38\n",
      "y = 783\n",
      "x_step = 1\n",
      "y_step = -1\n",
      "steps = 693\n",
      "x = 887\n",
      "y = 378\n",
      "x_step = -1\n",
      "y_step = 1\n",
      "steps = 192\n",
      "x = 404\n",
      "y = 778\n",
      "x_step = 1\n",
      "y_step = -1\n",
      "steps = 51\n",
      "x = 565\n",
      "y = 426\n",
      "x_step = -1\n",
      "y_step = -1\n",
      "steps = 238\n",
      "x = 111\n",
      "y = 444\n",
      "x_step = 1\n",
      "y_step = -1\n",
      "steps = 57\n",
      "x = 984\n",
      "y = 986\n",
      "x_step = -1\n",
      "y_step = -1\n",
      "steps = 969\n",
      "x = 113\n",
      "y = 146\n",
      "x_step = 1\n",
      "y_step = 1\n",
      "steps = 732\n",
      "x = 35\n",
      "y = 915\n",
      "x_step = 1\n",
      "y_step = -1\n",
      "steps = 793\n",
      "x = 929\n",
      "y = 986\n",
      "x_step = -1\n",
      "y_step = -1\n",
      "steps = 686\n",
      "x = 284\n",
      "y = 48\n",
      "x_step = 1\n",
      "y_step = 1\n",
      "steps = 405\n",
      "x = 902\n",
      "y = 870\n",
      "x_step = -1\n",
      "y_step = -1\n",
      "steps = 226\n",
      "x = 766\n",
      "y = 279\n",
      "x_step = -1\n",
      "y_step = 1\n",
      "steps = 322\n",
      "x = 587\n",
      "y = 174\n",
      "x_step = -1\n",
      "y_step = 1\n",
      "steps = 494\n",
      "x = 880\n",
      "y = 170\n",
      "x_step = -1\n",
      "y_step = 1\n",
      "steps = 297\n",
      "x = 120\n",
      "y = 49\n",
      "x_step = 1\n",
      "y_step = 1\n",
      "steps = 733\n",
      "x = 970\n",
      "y = 703\n",
      "x_step = -1\n",
      "y_step = -1\n",
      "steps = 508\n",
      "x = 764\n",
      "y = 712\n",
      "x_step = -1\n",
      "y_step = 1\n",
      "steps = 276\n",
      "x = 932\n",
      "y = 44\n",
      "x_step = -1\n",
      "y_step = 1\n",
      "steps = 874\n",
      "x = 842\n",
      "y = 981\n",
      "x_step = -1\n",
      "y_step = -1\n",
      "steps = 454\n",
      "x = 108\n",
      "y = 335\n",
      "x_step = 1\n",
      "y_step = 1\n",
      "steps = 175\n",
      "x = 903\n",
      "y = 257\n",
      "x_step = -1\n",
      "y_step = 1\n",
      "steps = 666\n",
      "x = 454\n",
      "y = 587\n",
      "x_step = -1\n",
      "y_step = -1\n",
      "steps = 342\n",
      "x = 93\n",
      "y = 22\n",
      "x_step = 1\n",
      "y_step = 1\n",
      "steps = 819\n",
      "x = 889\n",
      "y = 283\n",
      "x_step = -1\n",
      "y_step = 1\n",
      "steps = 557\n",
      "x = 440\n",
      "y = 279\n",
      "x_step = 1\n",
      "y_step = 1\n",
      "steps = 434\n",
      "x = 656\n",
      "y = 161\n",
      "x_step = -1\n",
      "y_step = 1\n",
      "steps = 593\n",
      "x = 375\n",
      "y = 908\n",
      "x_step = 1\n",
      "y_step = -1\n",
      "steps = 355\n",
      "x = 962\n",
      "y = 617\n",
      "x_step = -1\n",
      "y_step = 1\n",
      "steps = 130\n",
      "x = 317\n",
      "y = 117\n",
      "x_step = 1\n",
      "y_step = 1\n",
      "steps = 550\n",
      "x = 45\n",
      "y = 79\n",
      "x_step = 1\n",
      "y_step = 1\n",
      "steps = 872\n",
      "x = 860\n",
      "y = 203\n",
      "x_step = -1\n",
      "y_step = 1\n",
      "steps = 683\n",
      "x = 180\n",
      "y = 144\n",
      "x_step = 1\n",
      "y_step = 1\n",
      "steps = 617\n",
      "x = 697\n",
      "y = 631\n",
      "x_step = 1\n",
      "y_step = -1\n",
      "steps = 193\n",
      "x = 590\n",
      "y = 351\n",
      "x_step = 1\n",
      "y_step = -1\n",
      "steps = 232\n",
      "x = 779\n",
      "y = 491\n",
      "x_step = -1\n",
      "y_step = 1\n",
      "steps = 328\n",
      "x = 879\n",
      "y = 19\n",
      "x_step = -1\n",
      "y_step = 1\n",
      "steps = 521\n",
      "x = 936\n",
      "y = 177\n",
      "x_step = -1\n",
      "y_step = 1\n",
      "steps = 747\n",
      "x = 399\n",
      "y = 399\n",
      "x_step = 1\n",
      "y_step = 1\n",
      "steps = 38\n",
      "x = 46\n",
      "y = 328\n",
      "x_step = 1\n",
      "y_step = 1\n",
      "steps = 493\n",
      "x = 429\n",
      "y = 644\n",
      "x_step = 1\n",
      "y_step = 1\n",
      "steps = 247\n",
      "x = 715\n",
      "y = 744\n",
      "x_step = -1\n",
      "y_step = -1\n",
      "steps = 600\n",
      "x = 181\n",
      "y = 20\n",
      "x_step = 1\n",
      "y_step = 1\n",
      "steps = 219\n",
      "x = 942\n",
      "y = 48\n",
      "x_step = -1\n",
      "y_step = 1\n",
      "steps = 841\n",
      "x = 889\n",
      "y = 526\n",
      "x_step = -1\n",
      "y_step = -1\n",
      "steps = 289\n",
      "x = 754\n",
      "y = 973\n",
      "x_step = -1\n",
      "y_step = -1\n",
      "steps = 636\n",
      "x = 979\n",
      "y = 683\n",
      "x_step = -1\n",
      "y_step = -1\n",
      "steps = 634\n",
      "x = 110\n",
      "y = 55\n",
      "x_step = 1\n",
      "y_step = 1\n",
      "steps = 755\n",
      "x = 540\n",
      "y = 118\n",
      "x_step = 1\n",
      "y_step = -1\n",
      "steps = 91\n",
      "x = 918\n",
      "y = 493\n",
      "x_step = -1\n",
      "y_step = 1\n",
      "steps = 343\n",
      "x = 119\n",
      "y = 695\n",
      "x_step = 1\n",
      "y_step = -1\n",
      "steps = 40\n",
      "x = 693\n",
      "y = 549\n",
      "x_step = 1\n",
      "y_step = 1\n",
      "steps = 120\n",
      "x = 51\n",
      "y = 892\n",
      "x_step = 1\n",
      "y_step = -1\n",
      "steps = 881\n",
      "x = 523\n",
      "y = 580\n",
      "x_step = 1\n",
      "y_step = -1\n",
      "steps = 23\n",
      "x = 314\n",
      "y = 620\n",
      "x_step = 1\n",
      "y_step = -1\n",
      "steps = 545\n",
      "x = 503\n",
      "y = 372\n",
      "x_step = -1\n",
      "y_step = 1\n",
      "steps = 271\n",
      "x = 695\n",
      "y = 970\n",
      "x_step = 1\n",
      "y_step = -1\n",
      "steps = 255\n",
      "x = 158\n",
      "y = 944\n",
      "x_step = 1\n",
      "y_step = -1\n",
      "steps = 764\n",
      "x = 580\n",
      "y = 783\n",
      "x_step = 1\n",
      "y_step = 1\n",
      "steps = 92\n",
      "x = 637\n",
      "y = 316\n",
      "x_step = 1\n",
      "y_step = 1\n",
      "steps = 257\n",
      "x = 409\n",
      "y = 545\n",
      "x_step = 1\n",
      "y_step = 1\n",
      "steps = 206\n",
      "x = 149\n",
      "y = 864\n",
      "x_step = 1\n",
      "y_step = -1\n",
      "steps = 841\n",
      "x = 581\n",
      "y = 566\n",
      "x_step = -1\n",
      "y_step = 1\n",
      "steps = 383\n",
      "x = 953\n",
      "y = 232\n",
      "x_step = -1\n",
      "y_step = 1\n",
      "steps = 567\n",
      "x = 833\n",
      "y = 936\n",
      "x_step = -1\n",
      "y_step = -1\n",
      "steps = 822\n",
      "x = 329\n",
      "y = 171\n",
      "x_step = 1\n",
      "y_step = 1\n",
      "steps = 466\n",
      "x = 787\n",
      "y = 543\n",
      "x_step = 1\n",
      "y_step = -1\n",
      "steps = 107\n",
      "x = 43\n",
      "y = 736\n",
      "x_step = 1\n",
      "y_step = -1\n",
      "steps = 346\n",
      "x = 916\n",
      "y = 930\n",
      "x_step = -1\n",
      "y_step = -1\n",
      "steps = 900\n",
      "x = 354\n",
      "y = 730\n",
      "x_step = -1\n",
      "y_step = -1\n",
      "steps = 221\n",
      "x = 822\n",
      "y = 920\n",
      "x_step = -1\n",
      "y_step = -1\n",
      "steps = 602\n",
      "x = 863\n",
      "y = 920\n",
      "x_step = -1\n",
      "y_step = -1\n",
      "steps = 720\n",
      "x = 517\n",
      "y = 439\n",
      "x_step = -1\n",
      "y_step = -1\n",
      "steps = 288\n",
      "x = 133\n",
      "y = 915\n",
      "x_step = 1\n",
      "y_step = -1\n",
      "steps = 741\n",
      "x = 547\n",
      "y = 549\n",
      "x_step = 1\n",
      "y_step = -1\n",
      "steps = 97\n",
      "x = 900\n",
      "y = 75\n",
      "x_step = -1\n",
      "y_step = 1\n",
      "steps = 411\n",
      "x = 945\n",
      "y = 794\n",
      "x_step = -1\n",
      "y_step = 1\n",
      "steps = 117\n",
      "x = 299\n",
      "y = 68\n",
      "x_step = 1\n",
      "y_step = 1\n",
      "steps = 543\n",
      "x = 16\n",
      "y = 44\n",
      "x_step = 1\n",
      "y_step = 1\n",
      "steps = 917\n",
      "x = 528\n",
      "y = 634\n",
      "x_step = 1\n",
      "y_step = 1\n",
      "steps = 279\n",
      "x = 247\n",
      "y = 783\n",
      "x_step = 1\n",
      "y_step = -1\n",
      "steps = 66\n",
      "x = 47\n",
      "y = 31\n",
      "x_step = 1\n",
      "y_step = 1\n",
      "steps = 882\n",
      "x = 696\n",
      "y = 421\n",
      "x_step = -1\n",
      "y_step = -1\n",
      "steps = 29\n",
      "x = 111\n",
      "y = 561\n",
      "x_step = 1\n",
      "y_step = 1\n",
      "steps = 250\n",
      "x = 398\n",
      "y = 400\n",
      "x_step = -1\n",
      "y_step = 1\n",
      "steps = 382\n",
      "x = 14\n",
      "y = 89\n",
      "x_step = 1\n",
      "y_step = 1\n",
      "steps = 900\n",
      "x = 21\n",
      "y = 174\n",
      "x_step = 1\n",
      "y_step = 1\n",
      "steps = 671\n",
      "x = 841\n",
      "y = 385\n",
      "x_step = -1\n",
      "y_step = 1\n",
      "steps = 408\n",
      "x = 828\n",
      "y = 614\n",
      "x_step = 1\n",
      "y_step = 1\n",
      "steps = 135\n",
      "x = 82\n",
      "y = 42\n",
      "x_step = 1\n",
      "y_step = 1\n",
      "steps = 844\n",
      "x = 613\n",
      "y = 381\n",
      "x_step = 1\n",
      "y_step = 1\n",
      "steps = 22\n",
      "x = 261\n",
      "y = 442\n",
      "x_step = 1\n",
      "y_step = 1\n",
      "steps = 514\n",
      "x = 981\n",
      "y = 926\n",
      "x_step = -1\n",
      "y_step = -1\n",
      "steps = 611\n",
      "x = 349\n",
      "y = 186\n",
      "x_step = 1\n",
      "y_step = 1\n",
      "steps = 430\n",
      "x = 856\n",
      "y = 523\n",
      "x_step = -1\n",
      "y_step = -1\n",
      "steps = 156\n",
      "x = 567\n",
      "y = 96\n",
      "x_step = -1\n",
      "y_step = 1\n",
      "steps = 294\n",
      "x = 691\n",
      "y = 191\n",
      "x_step = -1\n",
      "y_step = -1\n",
      "steps = 120\n",
      "x = 87\n",
      "y = 920\n",
      "x_step = 1\n",
      "y_step = -1\n",
      "steps = 866\n",
      "x = 109\n",
      "y = 34\n",
      "x_step = 1\n",
      "y_step = 1\n",
      "steps = 840\n",
      "x = 638\n",
      "y = 854\n",
      "x_step = -1\n",
      "y_step = -1\n",
      "steps = 601\n",
      "x = 894\n",
      "y = 882\n",
      "x_step = -1\n",
      "y_step = -1\n",
      "steps = 644\n",
      "x = 689\n",
      "y = 534\n",
      "x_step = -1\n",
      "y_step = -1\n",
      "steps = 455\n",
      "x = 315\n",
      "y = 446\n",
      "x_step = -1\n",
      "y_step = -1\n",
      "steps = 116\n",
      "x = 959\n",
      "y = 956\n",
      "x_step = -1\n",
      "y_step = -1\n",
      "steps = 781\n",
      "x = 841\n",
      "y = 266\n",
      "x_step = -1\n",
      "y_step = 1\n",
      "steps = 186\n",
      "x = 829\n",
      "y = 971\n",
      "x_step = -1\n",
      "y_step = -1\n",
      "steps = 773\n",
      "x = 760\n",
      "y = 766\n",
      "x_step = -1\n",
      "y_step = -1\n",
      "steps = 646\n",
      "x = 761\n",
      "y = 677\n",
      "x_step = -1\n",
      "y_step = -1\n",
      "steps = 615\n",
      "x = 709\n",
      "y = 391\n",
      "x_step = -1\n",
      "y_step = 1\n",
      "steps = 518\n",
      "x = 128\n",
      "y = 253\n",
      "x_step = 1\n",
      "y_step = -1\n",
      "steps = 108\n",
      "x = 590\n",
      "y = 582\n",
      "x_step = -1\n",
      "y_step = -1\n",
      "steps = 451\n",
      "x = 836\n",
      "y = 928\n",
      "x_step = -1\n",
      "y_step = -1\n",
      "steps = 45\n",
      "x = 659\n",
      "y = 860\n",
      "x_step = -1\n",
      "y_step = -1\n",
      "steps = 539\n",
      "x = 65\n",
      "y = 150\n",
      "x_step = 1\n",
      "y_step = 1\n",
      "steps = 768\n",
      "x = 67\n",
      "y = 789\n",
      "x_step = 1\n",
      "y_step = -1\n",
      "steps = 557\n",
      "x = 609\n",
      "y = 711\n",
      "x_step = -1\n",
      "y_step = -1\n",
      "steps = 340\n",
      "x = 176\n",
      "y = 928\n",
      "x_step = -1\n",
      "y_step = -1\n",
      "steps = 149\n",
      "x = 971\n",
      "y = 958\n",
      "x_step = -1\n",
      "y_step = -1\n",
      "steps = 904\n",
      "x = 335\n",
      "y = 875\n",
      "x_step = 1\n",
      "y_step = -1\n",
      "steps = 342\n",
      "x = 454\n",
      "y = 840\n",
      "x_step = 1\n",
      "y_step = -1\n",
      "steps = 529\n",
      "x = 384\n",
      "y = 52\n",
      "x_step = -1\n",
      "y_step = 1\n",
      "steps = 246\n",
      "x = 955\n",
      "y = 344\n",
      "x_step = -1\n",
      "y_step = -1\n",
      "steps = 81\n",
      "x = 475\n",
      "y = 727\n",
      "x_step = 1\n",
      "y_step = -1\n",
      "steps = 89\n",
      "x = 176\n",
      "y = 273\n",
      "x_step = 1\n",
      "y_step = -1\n",
      "steps = 60\n",
      "x = 865\n",
      "y = 26\n",
      "x_step = -1\n",
      "y_step = 1\n",
      "steps = 830\n",
      "x = 330\n",
      "y = 401\n",
      "x_step = -1\n",
      "y_step = 1\n",
      "steps = 125\n",
      "x = 752\n",
      "y = 894\n",
      "x_step = 1\n",
      "y_step = -1\n",
      "steps = 35\n",
      "x = 766\n",
      "y = 622\n",
      "x_step = -1\n",
      "y_step = -1\n",
      "steps = 611\n",
      "x = 831\n",
      "y = 97\n",
      "x_step = -1\n",
      "y_step = 1\n",
      "steps = 550\n",
      "x = 721\n",
      "y = 647\n",
      "x_step = -1\n",
      "y_step = -1\n",
      "steps = 396\n",
      "x = 587\n",
      "y = 368\n",
      "x_step = -1\n",
      "y_step = 1\n",
      "steps = 328\n",
      "x = 354\n",
      "y = 299\n",
      "x_step = 1\n",
      "y_step = 1\n",
      "steps = 268\n",
      "x = 188\n",
      "y = 952\n",
      "x_step = 1\n",
      "y_step = -1\n",
      "steps = 717\n",
      "x = 938\n",
      "y = 92\n",
      "x_step = -1\n",
      "y_step = 1\n",
      "steps = 712\n",
      "x = 143\n",
      "y = 113\n",
      "x_step = 1\n",
      "y_step = -1\n",
      "steps = 94\n",
      "x = 868\n",
      "y = 96\n",
      "x_step = -1\n",
      "y_step = 1\n",
      "steps = 658\n",
      "x = 566\n",
      "y = 492\n",
      "x_step = -1\n",
      "y_step = 1\n",
      "steps = 497\n",
      "x = 743\n",
      "y = 798\n",
      "x_step = -1\n",
      "y_step = -1\n",
      "steps = 201\n",
      "x = 622\n",
      "y = 582\n",
      "x_step = -1\n",
      "y_step = -1\n",
      "steps = 304\n",
      "x = 222\n",
      "y = 525\n",
      "x_step = 1\n",
      "y_step = 1\n",
      "steps = 373\n",
      "x = 550\n",
      "y = 695\n",
      "x_step = -1\n",
      "y_step = -1\n",
      "steps = 515\n",
      "x = 96\n",
      "y = 864\n",
      "x_step = 1\n",
      "y_step = -1\n",
      "steps = 850\n",
      "x = 21\n",
      "y = 945\n",
      "x_step = 1\n",
      "y_step = -1\n",
      "steps = 913\n",
      "x = 989\n",
      "y = 23\n",
      "x_step = -1\n",
      "y_step = 1\n",
      "steps = 851\n",
      "x = 862\n",
      "y = 164\n",
      "x_step = -1\n",
      "y_step = 1\n",
      "steps = 569\n",
      "x = 305\n",
      "y = 749\n",
      "x_step = 1\n",
      "y_step = 1\n",
      "steps = 125\n",
      "x = 116\n",
      "y = 175\n",
      "x_step = 1\n",
      "y_step = 1\n",
      "steps = 808\n",
      "x = 961\n",
      "y = 299\n",
      "x_step = -1\n",
      "y_step = 1\n",
      "steps = 554\n",
      "x = 773\n",
      "y = 745\n",
      "x_step = 1\n",
      "y_step = -1\n",
      "steps = 51\n",
      "x = 771\n",
      "y = 127\n",
      "x_step = -1\n",
      "y_step = 1\n",
      "steps = 606\n",
      "x = 987\n",
      "y = 14\n",
      "x_step = -1\n",
      "y_step = 1\n",
      "steps = 975\n",
      "x = 901\n",
      "y = 133\n",
      "x_step = -1\n",
      "y_step = 1\n",
      "steps = 852\n",
      "x = 666\n",
      "y = 221\n",
      "x_step = 1\n",
      "y_step = 1\n",
      "steps = 131\n",
      "  1.360164 seconds (213.16 k allocations: 3.742 GiB, 16.67% gc time, 12.54% compilation time)\n"
     ]
    },
    {
     "name": "stderr",
     "output_type": "stream",
     "text": [
      "┌ Info: part 2 answer\n",
      "│   result2(ips1, 10) = 12\n",
      "│   result2(ipa, 1000) = 16793\n",
      "└ @ Main In[75]:1\n"
     ]
    }
   ],
   "source": [
    "@time @info(\n",
    "    \"part 2 answer\",\n",
    "    result2(ips1, 10),\n",
    "    result2(ipa, 1000),\n",
    "    )"
   ]
  }
 ],
 "metadata": {
  "@webio": {
   "lastCommId": null,
   "lastKernelId": null
  },
  "kernelspec": {
   "display_name": "Julia 1.7.0",
   "language": "julia",
   "name": "julia-1.7"
  },
  "language_info": {
   "file_extension": ".jl",
   "mimetype": "application/julia",
   "name": "julia",
   "version": "1.7.0"
  },
  "latex_envs": {
   "LaTeX_envs_menu_present": true,
   "autoclose": false,
   "autocomplete": true,
   "bibliofile": "biblio.bib",
   "cite_by": "apalike",
   "current_citInitial": 1,
   "eqLabelWithNumbers": true,
   "eqNumInitial": 1,
   "hotkeys": {
    "equation": "Ctrl-E",
    "itemize": "Ctrl-I"
   },
   "labels_anchors": false,
   "latex_user_defs": false,
   "report_style_numbering": false,
   "user_envs_cfg": false
  },
  "toc": {
   "base_numbering": 1,
   "nav_menu": {},
   "number_sections": true,
   "sideBar": true,
   "skip_h1_title": true,
   "title_cell": "Table of Contents",
   "title_sidebar": "Contents",
   "toc_cell": true,
   "toc_position": {},
   "toc_section_display": true,
   "toc_window_display": true
  }
 },
 "nbformat": 4,
 "nbformat_minor": 4
}
