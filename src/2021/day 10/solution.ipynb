{
 "cells": [
  {
   "cell_type": "markdown",
   "metadata": {},
   "source": [
    "# Advent of Code 2021 Day 10\n",
    "[link](https://adventofcode.com/2021/day/10)"
   ]
  },
  {
   "cell_type": "markdown",
   "metadata": {
    "toc": true
   },
   "source": [
    "<h1>Table of Contents<span class=\"tocSkip\"></span></h1>\n",
    "<div class=\"toc\"><ul class=\"toc-item\"><li><span><a href=\"#include-code-file\" data-toc-modified-id=\"include-code-file-1\"><span class=\"toc-item-num\">1&nbsp;&nbsp;</span>include code file</a></span></li><li><span><a href=\"#read-input\" data-toc-modified-id=\"read-input-2\"><span class=\"toc-item-num\">2&nbsp;&nbsp;</span>read input</a></span><ul class=\"toc-item\"><li><span><a href=\"#PDS1-:=-puzzle-data-sample-1\" data-toc-modified-id=\"PDS1-:=-puzzle-data-sample-1-2.1\"><span class=\"toc-item-num\">2.1&nbsp;&nbsp;</span>PDS1 := puzzle data sample 1</a></span></li><li><span><a href=\"#PDA-:=-puzzle-data-actual\" data-toc-modified-id=\"PDA-:=-puzzle-data-actual-2.2\"><span class=\"toc-item-num\">2.2&nbsp;&nbsp;</span>PDA := puzzle data actual</a></span></li></ul></li><li><span><a href=\"#part-1\" data-toc-modified-id=\"part-1-3\"><span class=\"toc-item-num\">3&nbsp;&nbsp;</span>part 1</a></span><ul class=\"toc-item\"><li><span><a href=\"#answer\" data-toc-modified-id=\"answer-3.1\"><span class=\"toc-item-num\">3.1&nbsp;&nbsp;</span>answer</a></span></li></ul></li><li><span><a href=\"#part-2\" data-toc-modified-id=\"part-2-4\"><span class=\"toc-item-num\">4&nbsp;&nbsp;</span>part 2</a></span><ul class=\"toc-item\"><li><span><a href=\"#answer\" data-toc-modified-id=\"answer-4.1\"><span class=\"toc-item-num\">4.1&nbsp;&nbsp;</span>answer</a></span></li></ul></li></ul></div>"
   ]
  },
  {
   "cell_type": "code",
   "execution_count": 1,
   "metadata": {
    "ExecuteTime": {
     "end_time": "2021-12-10T23:29:55.435000+08:00"
    }
   },
   "outputs": [],
   "source": [
    "using Revise"
   ]
  },
  {
   "cell_type": "markdown",
   "metadata": {},
   "source": [
    "## include code file"
   ]
  },
  {
   "cell_type": "code",
   "execution_count": 3,
   "metadata": {
    "ExecuteTime": {
     "end_time": "2021-12-10T23:29:59.357000+08:00",
     "start_time": "2021-12-10T15:29:58.134Z"
    },
    "scrolled": true
   },
   "outputs": [],
   "source": [
    "includet(\"solution.jl\")"
   ]
  },
  {
   "cell_type": "markdown",
   "metadata": {},
   "source": [
    "## read input"
   ]
  },
  {
   "cell_type": "markdown",
   "metadata": {},
   "source": [
    "### PDS1 := puzzle data sample 1"
   ]
  },
  {
   "cell_type": "code",
   "execution_count": 45,
   "metadata": {
    "ExecuteTime": {
     "end_time": "2021-12-11T01:23:27.453000+08:00",
     "start_time": "2021-12-10T17:23:27.429Z"
    },
    "scrolled": true
   },
   "outputs": [
    {
     "data": {
      "text/plain": [
       "10-element Vector{Vector{Char}}:\n",
       " ['[', '(', '{', '(', '<', '(', '(', ')', ')', '['  …  '{', '[', ']', '{', '<', '(', ')', '<', '>', '>']\n",
       " ['[', '(', '(', ')', '[', '<', '>', ']', ')', ']'  …  '[', '<', '{', '<', '<', '[', ']', '>', '>', '(']\n",
       " ['{', '(', '[', '(', '<', '{', '}', '[', '<', '>'  …  '{', '[', ']', '{', '[', '(', '<', '(', ')', '>']\n",
       " ['(', '(', '(', '(', '{', '<', '>', '}', '<', '{'  …  '>', '}', '{', '[', ']', '{', '[', ']', '{', '}']\n",
       " ['[', '[', '<', '[', '(', '[', ']', ')', ')', '<'  …  '[', '{', '}', '[', '[', '(', ')', ']', ']', ']']\n",
       " ['[', '{', '[', '{', '(', '{', '}', ']', '{', '}'  …  '{', '[', '{', '{', '{', '}', '}', '(', '[', ']']\n",
       " ['{', '<', '[', '[', ']', ']', '>', '}', '<', '{'  …  '{', '[', ']', '{', '(', ')', '[', '[', '[', ']']\n",
       " ['[', '<', '(', '<', '(', '<', '(', '<', '{', '}'  …  '>', '<', '(', '[', ']', '(', '[', ']', '(', ')']\n",
       " ['<', '{', '(', '[', '(', '[', '[', '(', '<', '>'  …  ')', '{', '}', ']', '>', '(', '<', '<', '{', '{']\n",
       " ['<', '{', '(', '[', '{', '{', '}', '}', '[', '<'  …  '>', '{', '}', ']', ']', ']', '>', '[', ']', ']']"
      ]
     },
     "execution_count": 45,
     "metadata": {},
     "output_type": "execute_result"
    }
   ],
   "source": [
    "PDS1 = parse_input(\"pds1.txt\")"
   ]
  },
  {
   "cell_type": "markdown",
   "metadata": {},
   "source": [
    "### PDA := puzzle data actual"
   ]
  },
  {
   "cell_type": "code",
   "execution_count": 46,
   "metadata": {
    "ExecuteTime": {
     "end_time": "2021-12-11T01:23:28.384000+08:00",
     "start_time": "2021-12-10T17:23:28.344Z"
    },
    "scrolled": true
   },
   "outputs": [
    {
     "data": {
      "text/plain": [
       "102-element Vector{Vector{Char}}:\n",
       " ['(', '(', '(', '(', '<', '(', '[', '<', '{', '('  …  '{', '}', '}', ']', '>', '}', ')', '{', '{', '<']\n",
       " ['<', '{', '<', '[', '(', '[', '{', '<', '{', '{'  …  '<', '[', ']', '[', ']', '>', '>', '{', '[', '<']\n",
       " ['[', '(', '[', '<', '[', '(', '(', '{', '(', '<'  …  ')', '{', '[', '<', '>', '[', ']', ']', '[', '<']\n",
       " ['[', '<', '[', '[', '[', '{', '{', '<', '{', '{'  …  '}', '}', '<', '<', '[', '<', '<', '<', '>', '<']\n",
       " ['{', '{', '{', '[', '{', '[', '[', '{', '{', '{'  …  '(', '<', '>', '<', '>', ')', '}', '{', '(', '[']\n",
       " ['{', '{', '<', '[', '(', '[', '<', '[', '(', '{'  …  '{', '}', '[', ']', ')', ')', ']', '(', '{', '(']\n",
       " ['(', '{', '(', '(', '[', '[', '<', '<', '(', '['  …  '[', '{', '[', '{', '}', '<', '>', ']', '(', '{']\n",
       " ['{', '[', '<', '{', '(', '(', '[', '{', '[', '('  …  '(', '<', '>', '[', ']', ')', ')', ']', '}', ')']\n",
       " ['[', '(', '{', '<', '(', '{', '(', '[', '<', '{'  …  '[', ']', '<', '>', '>', '<', '<', '>', '(', ')']\n",
       " ['[', '(', '[', '(', '<', '[', '(', '[', '<', '['  …  '}', '<', '(', ')', '(', ')', '>', ']', ')', '}']\n",
       " ['{', '{', '[', '[', '(', '(', '[', '{', '{', '('  …  '>', ']', '[', '[', '{', '}', '[', ']', ']', '{']\n",
       " ['[', '{', '(', '<', '{', '<', '[', '<', '(', '<'  …  ']', ')', '>', '<', '(', '[', '[', '<', '(', ')']\n",
       " ['[', '{', '<', '[', '<', '{', '<', '(', '(', '{'  …  ']', '[', ']', ')', '(', '{', '}', '<', '>', ')']\n",
       " ⋮\n",
       " ['{', '(', '{', '<', '(', '<', '(', '<', '{', '{'  …  '{', '{', '(', '<', '[', ']', '<', '>', '>', '<']\n",
       " ['{', '[', '{', '{', '[', '(', '<', '[', '[', '['  …  '}', '<', '(', '<', '>', '(', ')', ')', '<', '<']\n",
       " ['<', '{', '<', '{', '{', '[', '<', '[', '<', '{'  …  ']', ')', '>', '>', '[', '(', '(', '[', ']', ')']\n",
       " ['(', '(', '[', '{', '(', '[', '<', '<', '{', '{'  …  '(', '(', ')', '(', ')', ')', '{', '<', '>', '<']\n",
       " ['[', '[', '{', '<', '{', '{', '{', '{', '<', '('  …  '>', ']', '<', '(', ')', '(', ')', '>', ']', '[']\n",
       " ['[', '(', '<', '<', '{', '[', '{', '(', '[', '{'  …  '>', '[', '{', '}', '<', '>', ']', '}', '>', '[']\n",
       " ['<', '[', '{', '[', '(', '{', '[', '[', '[', '['  …  '<', '>', '<', '>', ']', ')', '{', '{', '<', '>']\n",
       " ['{', '(', '[', '(', '(', '<', '{', '[', '<', '('  …  ')', ']', '<', '<', '{', '}', '{', '}', '>', '{']\n",
       " ['[', '<', '<', '{', '(', '[', '{', '{', '{', '('  …  ']', '}', '{', '<', '(', '[', ']', '<', '>', ')']\n",
       " ['{', '[', '<', '(', '(', '[', '[', '[', '{', '{'  …  '{', '}', '[', ']', '}', ']', '{', '{', '{', '}']\n",
       " ['[', '<', '[', '{', '(', '{', '{', '{', '[', '<'  …  '}', ']', ']', '{', '[', '[', '<', '>', '<', '>']\n",
       " ['(', '[', '{', '<', '(', '(', '[', '(', '(', '('  …  '(', '(', ')', '[', ']', '>', '(', '[', ']', '(']"
      ]
     },
     "execution_count": 46,
     "metadata": {},
     "output_type": "execute_result"
    }
   ],
   "source": [
    "PDA = parse_input(\"pda.txt\")"
   ]
  },
  {
   "cell_type": "markdown",
   "metadata": {},
   "source": [
    "## part 1"
   ]
  },
  {
   "cell_type": "code",
   "execution_count": 34,
   "metadata": {
    "ExecuteTime": {
     "end_time": "2021-12-11T00:10:39.173000+08:00",
     "start_time": "2021-12-10T16:10:39.157Z"
    }
   },
   "outputs": [
    {
     "data": {
      "text/plain": [
       "Dict{Char, Char} with 4 entries:\n",
       "  '<' => '>'\n",
       "  '(' => ')'\n",
       "  '[' => ']'\n",
       "  '{' => '}'"
      ]
     },
     "execution_count": 34,
     "metadata": {},
     "output_type": "execute_result"
    }
   ],
   "source": [
    "MATCHING_CHARS = Dict(\n",
    "    '(' => ')',\n",
    "    '[' => ']',\n",
    "    '{' => '}',\n",
    "    '<' => '>',\n",
    ")"
   ]
  },
  {
   "cell_type": "code",
   "execution_count": 35,
   "metadata": {
    "ExecuteTime": {
     "end_time": "2021-12-11T00:10:39.988000+08:00",
     "start_time": "2021-12-10T16:10:39.974Z"
    }
   },
   "outputs": [
    {
     "data": {
      "text/plain": [
       "Dict{Char, Int64} with 4 entries:\n",
       "  '}' => 1197\n",
       "  ']' => 57\n",
       "  ')' => 3\n",
       "  '>' => 25137"
      ]
     },
     "execution_count": 35,
     "metadata": {},
     "output_type": "execute_result"
    }
   ],
   "source": [
    "CORRUPT_POINTS = Dict(\n",
    "    ')' => 3,\n",
    "    ']' => 57,\n",
    "    '}' => 1197,\n",
    "    '>' => 25137,\n",
    ")"
   ]
  },
  {
   "cell_type": "code",
   "execution_count": 51,
   "metadata": {
    "ExecuteTime": {
     "end_time": "2021-12-11T01:37:29.701000+08:00",
     "start_time": "2021-12-10T17:37:29.417Z"
    }
   },
   "outputs": [
    {
     "data": {
      "text/plain": [
       "(is_corrupted = true, c = '}', i = 13)"
      ]
     },
     "execution_count": 51,
     "metadata": {},
     "output_type": "execute_result"
    }
   ],
   "source": [
    "get_status(parse_line(\"{([(<{}[<>[]}>{[]{[(<()>\"))"
   ]
  },
  {
   "cell_type": "markdown",
   "metadata": {},
   "source": [
    "### answer"
   ]
  },
  {
   "cell_type": "code",
   "execution_count": 50,
   "metadata": {
    "ExecuteTime": {
     "end_time": "2021-12-11T01:37:20.067000+08:00",
     "start_time": "2021-12-10T17:37:19.758Z"
    }
   },
   "outputs": [
    {
     "name": "stdout",
     "output_type": "stream",
     "text": [
      "  0.247635 seconds (408.29 k allocations: 22.290 MiB, 3.36% gc time, 99.68% compilation time)\n"
     ]
    },
    {
     "name": "stderr",
     "output_type": "stream",
     "text": [
      "┌ Info: part 1 answer\n",
      "│   result1(PDS1) = 26397\n",
      "│   result1(PDA) = 464991\n",
      "└ @ Main In[50]:1\n"
     ]
    }
   ],
   "source": [
    "@time @info(\n",
    "    \"part 1 answer\",\n",
    "    result1(PDS1),\n",
    "    result1(PDA),\n",
    ")"
   ]
  },
  {
   "cell_type": "markdown",
   "metadata": {},
   "source": [
    "## part 2"
   ]
  },
  {
   "cell_type": "code",
   "execution_count": 60,
   "metadata": {
    "ExecuteTime": {
     "end_time": "2021-12-11T01:43:07.572000+08:00",
     "start_time": "2021-12-10T17:43:07.557Z"
    }
   },
   "outputs": [
    {
     "data": {
      "text/plain": [
       "Dict{Char, Int64} with 4 entries:\n",
       "  '<' => 4\n",
       "  '(' => 1\n",
       "  '[' => 2\n",
       "  '{' => 3"
      ]
     },
     "execution_count": 60,
     "metadata": {},
     "output_type": "execute_result"
    }
   ],
   "source": [
    "INCOMPLETE_POINTS = Dict(\n",
    "    '(' => 1,\n",
    "    '[' => 2,\n",
    "    '{' => 3,\n",
    "    '<' => 4,\n",
    ")"
   ]
  },
  {
   "cell_type": "markdown",
   "metadata": {},
   "source": [
    "### answer"
   ]
  },
  {
   "cell_type": "code",
   "execution_count": 63,
   "metadata": {
    "ExecuteTime": {
     "end_time": "2021-12-11T01:44:29.112000+08:00",
     "start_time": "2021-12-10T17:44:28.897Z"
    }
   },
   "outputs": [
    {
     "name": "stdout",
     "output_type": "stream",
     "text": [
      "  0.146610 seconds (253.52 k allocations: 13.825 MiB, 97.54% compilation time)\n"
     ]
    },
    {
     "name": "stderr",
     "output_type": "stream",
     "text": [
      "┌ Info: part 2 answer\n",
      "│   result2(PDS1) = 288957\n",
      "│   result2(PDA) = 3662008566\n",
      "└ @ Main In[63]:1\n"
     ]
    }
   ],
   "source": [
    "@time @info(\n",
    "    \"part 2 answer\",\n",
    "    result2(PDS1),\n",
    "    result2(PDA),\n",
    "    )"
   ]
  }
 ],
 "metadata": {
  "@webio": {
   "lastCommId": null,
   "lastKernelId": null
  },
  "kernelspec": {
   "display_name": "Julia 1.7.0",
   "language": "julia",
   "name": "julia-1.7"
  },
  "language_info": {
   "file_extension": ".jl",
   "mimetype": "application/julia",
   "name": "julia",
   "version": "1.7.0"
  },
  "latex_envs": {
   "LaTeX_envs_menu_present": true,
   "autoclose": false,
   "autocomplete": true,
   "bibliofile": "biblio.bib",
   "cite_by": "apalike",
   "current_citInitial": 1,
   "eqLabelWithNumbers": true,
   "eqNumInitial": 1,
   "hotkeys": {
    "equation": "Ctrl-E",
    "itemize": "Ctrl-I"
   },
   "labels_anchors": false,
   "latex_user_defs": false,
   "report_style_numbering": false,
   "user_envs_cfg": false
  },
  "toc": {
   "base_numbering": 1,
   "nav_menu": {},
   "number_sections": true,
   "sideBar": true,
   "skip_h1_title": true,
   "title_cell": "Table of Contents",
   "title_sidebar": "Contents",
   "toc_cell": true,
   "toc_position": {},
   "toc_section_display": true,
   "toc_window_display": false
  }
 },
 "nbformat": 4,
 "nbformat_minor": 4
}
