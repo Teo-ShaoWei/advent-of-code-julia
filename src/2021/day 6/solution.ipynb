{
 "cells": [
  {
   "cell_type": "markdown",
   "metadata": {},
   "source": [
    "# Advent of Code 2021 Day 5\n",
    "[link](https://adventofcode.com/2021/day/5)"
   ]
  },
  {
   "cell_type": "markdown",
   "metadata": {
    "toc": true
   },
   "source": [
    "<h1>Table of Contents<span class=\"tocSkip\"></span></h1>\n",
    "<div class=\"toc\"><ul class=\"toc-item\"><li><span><a href=\"#helpers\" data-toc-modified-id=\"helpers-1\"><span class=\"toc-item-num\">1&nbsp;&nbsp;</span>helpers</a></span></li><li><span><a href=\"#read-input\" data-toc-modified-id=\"read-input-2\"><span class=\"toc-item-num\">2&nbsp;&nbsp;</span>read input</a></span><ul class=\"toc-item\"><li><span><a href=\"#parse_input\" data-toc-modified-id=\"parse_input-2.1\"><span class=\"toc-item-num\">2.1&nbsp;&nbsp;</span>parse_input</a></span></li><li><span><a href=\"#ips1-:=-input-puzzle-sample-1\" data-toc-modified-id=\"ips1-:=-input-puzzle-sample-1-2.2\"><span class=\"toc-item-num\">2.2&nbsp;&nbsp;</span>ips1 := input puzzle sample 1</a></span></li><li><span><a href=\"#ipa-:=-input-puzzle-actual\" data-toc-modified-id=\"ipa-:=-input-puzzle-actual-2.3\"><span class=\"toc-item-num\">2.3&nbsp;&nbsp;</span>ipa := input puzzle actual</a></span></li></ul></li><li><span><a href=\"#part-1\" data-toc-modified-id=\"part-1-3\"><span class=\"toc-item-num\">3&nbsp;&nbsp;</span>part 1</a></span><ul class=\"toc-item\"><li><span><a href=\"#answer\" data-toc-modified-id=\"answer-3.1\"><span class=\"toc-item-num\">3.1&nbsp;&nbsp;</span>answer</a></span></li></ul></li><li><span><a href=\"#part-2\" data-toc-modified-id=\"part-2-4\"><span class=\"toc-item-num\">4&nbsp;&nbsp;</span>part 2</a></span><ul class=\"toc-item\"><li><span><a href=\"#answer\" data-toc-modified-id=\"answer-4.1\"><span class=\"toc-item-num\">4.1&nbsp;&nbsp;</span>answer</a></span></li></ul></li></ul></div>"
   ]
  },
  {
   "cell_type": "code",
   "execution_count": 22,
   "metadata": {
    "ExecuteTime": {
     "end_time": "2021-12-06T13:11:25.983000+08:00",
     "start_time": "2021-12-06T05:11:25.958Z"
    }
   },
   "outputs": [],
   "source": [
    "# using Combinatorics\n",
    "# using DataStructures\n",
    "using OffsetArrays\n",
    "# using Mods"
   ]
  },
  {
   "cell_type": "markdown",
   "metadata": {},
   "source": [
    "## helpers"
   ]
  },
  {
   "cell_type": "code",
   "execution_count": null,
   "metadata": {},
   "outputs": [],
   "source": [
    "\"A\"[1]"
   ]
  },
  {
   "cell_type": "code",
   "execution_count": null,
   "metadata": {},
   "outputs": [],
   "source": [
    "parse(Int, \"123ad4\", base=16)"
   ]
  },
  {
   "cell_type": "code",
   "execution_count": 1,
   "metadata": {
    "ExecuteTime": {
     "end_time": "2021-12-06T12:53:56.700000+08:00",
     "start_time": "2021-12-06T04:53:55.721Z"
    }
   },
   "outputs": [
    {
     "data": {
      "text/plain": [
       "CartesianIndex"
      ]
     },
     "execution_count": 1,
     "metadata": {},
     "output_type": "execute_result"
    }
   ],
   "source": [
    "CI = CartesianIndex"
   ]
  },
  {
   "cell_type": "code",
   "execution_count": 4,
   "metadata": {
    "ExecuteTime": {
     "end_time": "2021-12-06T12:58:40.827000+08:00",
     "start_time": "2021-12-06T04:58:40.823Z"
    }
   },
   "outputs": [
    {
     "data": {
      "text/plain": [
       "2-element Vector{CartesianIndex{3}}:\n",
       " CartesianIndex(1, 2, 5)\n",
       " CartesianIndex(1, 3, 6)"
      ]
     },
     "execution_count": 4,
     "metadata": {},
     "output_type": "execute_result"
    }
   ],
   "source": [
    "CartesianIndex.(1, 2:3, 5:6)"
   ]
  },
  {
   "cell_type": "markdown",
   "metadata": {},
   "source": [
    "## read input"
   ]
  },
  {
   "cell_type": "markdown",
   "metadata": {},
   "source": [
    "### parse_input"
   ]
  },
  {
   "cell_type": "code",
   "execution_count": 8,
   "metadata": {
    "ExecuteTime": {
     "end_time": "2021-12-06T13:01:32.602000+08:00",
     "start_time": "2021-12-06T05:01:32.600Z"
    },
    "code_folding": [],
    "scrolled": true
   },
   "outputs": [
    {
     "data": {
      "text/plain": [
       "parse_input (generic function with 1 method)"
      ]
     },
     "execution_count": 8,
     "metadata": {},
     "output_type": "execute_result"
    }
   ],
   "source": [
    "function parse_input(f) \n",
    "    line = readlines(f)[1]\n",
    "    parse_line(line)\n",
    "end"
   ]
  },
  {
   "cell_type": "code",
   "execution_count": 6,
   "metadata": {
    "ExecuteTime": {
     "end_time": "2021-12-06T13:01:18.725000+08:00",
     "start_time": "2021-12-06T05:01:18.640Z"
    }
   },
   "outputs": [
    {
     "data": {
      "text/plain": [
       "parse_line (generic function with 1 method)"
      ]
     },
     "execution_count": 6,
     "metadata": {},
     "output_type": "execute_result"
    }
   ],
   "source": [
    "function parse_line(l)\n",
    "    parse.(Int, split(l, ','))\n",
    "end"
   ]
  },
  {
   "cell_type": "markdown",
   "metadata": {},
   "source": [
    "### ips1 := input puzzle sample 1"
   ]
  },
  {
   "cell_type": "code",
   "execution_count": 9,
   "metadata": {
    "ExecuteTime": {
     "end_time": "2021-12-06T13:01:35.341000+08:00",
     "start_time": "2021-12-06T05:01:34.898Z"
    },
    "scrolled": true
   },
   "outputs": [
    {
     "data": {
      "text/plain": [
       "5-element Vector{Int64}:\n",
       " 3\n",
       " 4\n",
       " 3\n",
       " 1\n",
       " 2"
      ]
     },
     "execution_count": 9,
     "metadata": {},
     "output_type": "execute_result"
    }
   ],
   "source": [
    "ips1 = parse_input(\"ips1.txt\")"
   ]
  },
  {
   "cell_type": "markdown",
   "metadata": {},
   "source": [
    "### ipa := input puzzle actual"
   ]
  },
  {
   "cell_type": "code",
   "execution_count": 10,
   "metadata": {
    "ExecuteTime": {
     "end_time": "2021-12-06T13:01:36.287000+08:00",
     "start_time": "2021-12-06T05:01:36.284Z"
    },
    "scrolled": true
   },
   "outputs": [
    {
     "data": {
      "text/plain": [
       "300-element Vector{Int64}:\n",
       " 3\n",
       " 1\n",
       " 5\n",
       " 4\n",
       " 4\n",
       " 4\n",
       " 5\n",
       " 3\n",
       " 4\n",
       " 4\n",
       " 1\n",
       " 4\n",
       " 2\n",
       " ⋮\n",
       " 1\n",
       " 3\n",
       " 4\n",
       " 1\n",
       " 1\n",
       " 4\n",
       " 5\n",
       " 5\n",
       " 2\n",
       " 1\n",
       " 3\n",
       " 3"
      ]
     },
     "execution_count": 10,
     "metadata": {},
     "output_type": "execute_result"
    }
   ],
   "source": [
    "ipa = parse_input(\"ipa.txt\")"
   ]
  },
  {
   "cell_type": "markdown",
   "metadata": {},
   "source": [
    "## part 1"
   ]
  },
  {
   "cell_type": "code",
   "execution_count": 14,
   "metadata": {
    "ExecuteTime": {
     "end_time": "2021-12-06T13:05:46.145000+08:00",
     "start_time": "2021-12-06T05:05:46.141Z"
    }
   },
   "outputs": [
    {
     "data": {
      "text/plain": [
       "next (generic function with 1 method)"
      ]
     },
     "execution_count": 14,
     "metadata": {},
     "output_type": "execute_result"
    }
   ],
   "source": [
    "function next(v::Vector{Int})\n",
    "    v = deepcopy(v)\n",
    "    counter = 0\n",
    "    for i in 1:length(v)\n",
    "        if v[i] == 0\n",
    "            v[i] = 6\n",
    "            counter += 1\n",
    "        else\n",
    "            v[i] -= 1\n",
    "        end\n",
    "    end\n",
    "    append!(v, [8 for _ in 1:counter])\n",
    "    \n",
    "    return v\n",
    "end"
   ]
  },
  {
   "cell_type": "code",
   "execution_count": 16,
   "metadata": {
    "ExecuteTime": {
     "end_time": "2021-12-06T13:05:58.680000+08:00",
     "start_time": "2021-12-06T05:05:58.677Z"
    }
   },
   "outputs": [
    {
     "data": {
      "text/plain": [
       "6-element Vector{Int64}:\n",
       " 1\n",
       " 2\n",
       " 1\n",
       " 6\n",
       " 0\n",
       " 8"
      ]
     },
     "execution_count": 16,
     "metadata": {},
     "output_type": "execute_result"
    }
   ],
   "source": [
    "next(next(ips1))"
   ]
  },
  {
   "cell_type": "code",
   "execution_count": 19,
   "metadata": {
    "ExecuteTime": {
     "end_time": "2021-12-06T13:06:54.326000+08:00",
     "start_time": "2021-12-06T05:06:54.323Z"
    }
   },
   "outputs": [
    {
     "data": {
      "text/plain": [
       "result1 (generic function with 1 method)"
      ]
     },
     "execution_count": 19,
     "metadata": {},
     "output_type": "execute_result"
    }
   ],
   "source": [
    "function result1(ip; n)\n",
    "    for i in 1:n\n",
    "        ip = next(ip)\n",
    "    end\n",
    "    return length(ip)\n",
    "end"
   ]
  },
  {
   "cell_type": "code",
   "execution_count": 20,
   "metadata": {
    "ExecuteTime": {
     "end_time": "2021-12-06T13:06:56.076000+08:00",
     "start_time": "2021-12-06T05:06:55.897Z"
    }
   },
   "outputs": [
    {
     "data": {
      "text/plain": [
       "26"
      ]
     },
     "execution_count": 20,
     "metadata": {},
     "output_type": "execute_result"
    }
   ],
   "source": [
    "result1(ips1; n=18)"
   ]
  },
  {
   "cell_type": "markdown",
   "metadata": {},
   "source": [
    "### answer"
   ]
  },
  {
   "cell_type": "code",
   "execution_count": 21,
   "metadata": {
    "ExecuteTime": {
     "end_time": "2021-12-06T13:07:09.036000+08:00",
     "start_time": "2021-12-06T05:07:08.812Z"
    }
   },
   "outputs": [
    {
     "name": "stdout",
     "output_type": "stream",
     "text": [
      "  0.129790 seconds (172.88 k allocations: 70.995 MiB, 5.14% gc time, 69.02% compilation time)\n"
     ]
    },
    {
     "name": "stderr",
     "output_type": "stream",
     "text": [
      "┌ Info: part 1 answer\n",
      "│   result1(ips1; n = 18) = 26\n",
      "│   result1(ipa; n = 80) = 345793\n",
      "└ @ Main In[21]:1\n"
     ]
    }
   ],
   "source": [
    "@time @info(\n",
    "    \"part 1 answer\",\n",
    "    result1(ips1; n = 18),\n",
    "    result1(ipa; n = 80),\n",
    ")"
   ]
  },
  {
   "cell_type": "markdown",
   "metadata": {},
   "source": [
    "## part 2"
   ]
  },
  {
   "cell_type": "code",
   "execution_count": 29,
   "metadata": {
    "ExecuteTime": {
     "end_time": "2021-12-06T13:12:59.300000+08:00",
     "start_time": "2021-12-06T05:12:59.297Z"
    }
   },
   "outputs": [
    {
     "data": {
      "text/plain": [
       "1"
      ]
     },
     "execution_count": 29,
     "metadata": {},
     "output_type": "execute_result"
    }
   ],
   "source": [
    "fish_count = zeros(Int, (0:8, 0:256))\n",
    "fish_count[:, 0] .= 1"
   ]
  },
  {
   "cell_type": "code",
   "execution_count": 40,
   "metadata": {
    "ExecuteTime": {
     "end_time": "2021-12-06T13:17:29.128000+08:00",
     "start_time": "2021-12-06T05:17:29.110Z"
    }
   },
   "outputs": [],
   "source": [
    "for day in 1:256\n",
    "    for state in 0:8\n",
    "        if state == 0\n",
    "            fish_count[state, day] = fish_count[6, day - 1] + fish_count[8, day - 1]\n",
    "        else\n",
    "            fish_count[state, day] = fish_count[state - 1, day - 1]\n",
    "        end\n",
    "    end\n",
    "end"
   ]
  },
  {
   "cell_type": "code",
   "execution_count": 42,
   "metadata": {
    "ExecuteTime": {
     "end_time": "2021-12-06T13:17:41.357000+08:00",
     "start_time": "2021-12-06T05:17:41.308Z"
    }
   },
   "outputs": [
    {
     "data": {
      "text/plain": [
       "1572643095893"
      ]
     },
     "execution_count": 42,
     "metadata": {},
     "output_type": "execute_result"
    }
   ],
   "source": [
    "sum([fish_count[s, 256] for s in ipa])"
   ]
  },
  {
   "cell_type": "code",
   "execution_count": null,
   "metadata": {},
   "outputs": [],
   "source": [
    "function result2(ip)\n",
    "    ip\n",
    "end"
   ]
  },
  {
   "cell_type": "markdown",
   "metadata": {
    "heading_collapsed": true
   },
   "source": [
    "### answer"
   ]
  },
  {
   "cell_type": "code",
   "execution_count": null,
   "metadata": {
    "hidden": true
   },
   "outputs": [],
   "source": [
    "@time @info(\n",
    "    \"part 2 answer\",\n",
    "    result2(ips1),\n",
    "    result2(ipa),\n",
    "    )"
   ]
  }
 ],
 "metadata": {
  "@webio": {
   "lastCommId": null,
   "lastKernelId": null
  },
  "kernelspec": {
   "display_name": "Julia 1.7.0",
   "language": "julia",
   "name": "julia-1.7"
  },
  "language_info": {
   "file_extension": ".jl",
   "mimetype": "application/julia",
   "name": "julia",
   "version": "1.7.0"
  },
  "latex_envs": {
   "LaTeX_envs_menu_present": true,
   "autoclose": false,
   "autocomplete": true,
   "bibliofile": "biblio.bib",
   "cite_by": "apalike",
   "current_citInitial": 1,
   "eqLabelWithNumbers": true,
   "eqNumInitial": 1,
   "hotkeys": {
    "equation": "Ctrl-E",
    "itemize": "Ctrl-I"
   },
   "labels_anchors": false,
   "latex_user_defs": false,
   "report_style_numbering": false,
   "user_envs_cfg": false
  },
  "toc": {
   "base_numbering": 1,
   "nav_menu": {},
   "number_sections": true,
   "sideBar": true,
   "skip_h1_title": true,
   "title_cell": "Table of Contents",
   "title_sidebar": "Contents",
   "toc_cell": true,
   "toc_position": {},
   "toc_section_display": true,
   "toc_window_display": true
  }
 },
 "nbformat": 4,
 "nbformat_minor": 4
}
