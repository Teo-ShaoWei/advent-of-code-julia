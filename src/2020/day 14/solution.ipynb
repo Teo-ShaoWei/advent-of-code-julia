{
 "cells": [
  {
   "cell_type": "markdown",
   "metadata": {},
   "source": [
    "# Advent of Code 2020 Day 14\n",
    "[link](https://adventofcode.com/2020/day/14)"
   ]
  },
  {
   "cell_type": "markdown",
   "metadata": {
    "toc": true
   },
   "source": [
    "<h1>Table of Contents<span class=\"tocSkip\"></span></h1>\n",
    "<div class=\"toc\"><ul class=\"toc-item\"><li><span><a href=\"#read-input\" data-toc-modified-id=\"read-input-1\"><span class=\"toc-item-num\">1&nbsp;&nbsp;</span>read input</a></span></li><li><span><a href=\"#part-1\" data-toc-modified-id=\"part-1-2\"><span class=\"toc-item-num\">2&nbsp;&nbsp;</span>part 1</a></span><ul class=\"toc-item\"><li><span><a href=\"#answer\" data-toc-modified-id=\"answer-2.1\"><span class=\"toc-item-num\">2.1&nbsp;&nbsp;</span>answer</a></span></li></ul></li><li><span><a href=\"#part-2\" data-toc-modified-id=\"part-2-3\"><span class=\"toc-item-num\">3&nbsp;&nbsp;</span>part 2</a></span><ul class=\"toc-item\"><li><span><a href=\"#answer\" data-toc-modified-id=\"answer-3.1\"><span class=\"toc-item-num\">3.1&nbsp;&nbsp;</span>answer</a></span></li></ul></li></ul></div>"
   ]
  },
  {
   "cell_type": "markdown",
   "metadata": {},
   "source": [
    "## read input"
   ]
  },
  {
   "cell_type": "code",
   "execution_count": 199,
   "metadata": {
    "ExecuteTime": {
     "end_time": "2020-12-14T15:07:27.556000+08:00",
     "start_time": "2020-12-14T07:07:27.554Z"
    }
   },
   "outputs": [
    {
     "data": {
      "text/plain": [
       "parse_mask (generic function with 1 method)"
      ]
     },
     "execution_count": 199,
     "metadata": {},
     "output_type": "execute_result"
    }
   ],
   "source": [
    "function parse_mask(line)\n",
    "    m = match(r\"^mask = ([01X]+)\", line)\n",
    "    return m[1]\n",
    "end"
   ]
  },
  {
   "cell_type": "code",
   "execution_count": 196,
   "metadata": {
    "ExecuteTime": {
     "end_time": "2020-12-14T15:07:17.606000+08:00",
     "start_time": "2020-12-14T07:07:17.602Z"
    }
   },
   "outputs": [
    {
     "data": {
      "text/plain": [
       "parse_cmd (generic function with 1 method)"
      ]
     },
     "execution_count": 196,
     "metadata": {},
     "output_type": "execute_result"
    }
   ],
   "source": [
    "function parse_cmd(line)\n",
    "    m = match(r\"^mem\\[(\\d+)\\] = (\\d+)\", line)\n",
    "    return (addr = parse(Int, m[1]), val = parse(Int, m[2]))\n",
    "end"
   ]
  },
  {
   "cell_type": "code",
   "execution_count": 197,
   "metadata": {
    "ExecuteTime": {
     "end_time": "2020-12-14T15:07:18.344000+08:00",
     "start_time": "2020-12-14T07:07:18.339Z"
    }
   },
   "outputs": [
    {
     "data": {
      "text/plain": [
       "parse_input (generic function with 1 method)"
      ]
     },
     "execution_count": 197,
     "metadata": {},
     "output_type": "execute_result"
    }
   ],
   "source": [
    "function parse_input(filename)\n",
    "    lines = readlines(filename)\n",
    "    \n",
    "    groups = []\n",
    "    cur_group = nothing\n",
    "    for l in lines\n",
    "        if l[1:4] == \"mask\"\n",
    "            push!(groups, (mask = parse_mask(l), cmds = []))\n",
    "            cur_group = last(groups)\n",
    "        else\n",
    "            push!(cur_group.cmds, parse_cmd(l))\n",
    "        end\n",
    "    end\n",
    "    \n",
    "    return groups\n",
    "end"
   ]
  },
  {
   "cell_type": "code",
   "execution_count": 200,
   "metadata": {
    "ExecuteTime": {
     "end_time": "2020-12-14T15:07:29.176000+08:00",
     "start_time": "2020-12-14T07:07:29.128Z"
    }
   },
   "outputs": [
    {
     "data": {
      "text/plain": [
       "1-element Array{Any,1}:\n",
       " (mask = \"XXXXXXXXXXXXXXXXXXXXXXXXXXXXX1XXXX0X\", cmds = Any[(addr = 8, val = 11), (addr = 7, val = 101), (addr = 8, val = 0)])"
      ]
     },
     "execution_count": 200,
     "metadata": {},
     "output_type": "execute_result"
    }
   ],
   "source": [
    "input_sample_1 = parse_input(\"input_sample_1.txt\")"
   ]
  },
  {
   "cell_type": "code",
   "execution_count": 201,
   "metadata": {
    "ExecuteTime": {
     "end_time": "2020-12-14T15:07:30.466000+08:00",
     "start_time": "2020-12-14T07:07:30.463Z"
    }
   },
   "outputs": [
    {
     "data": {
      "text/plain": [
       "2-element Array{Any,1}:\n",
       " (mask = \"000000000000000000000000000000X1001X\", cmds = Any[(addr = 42, val = 100)])\n",
       " (mask = \"00000000000000000000000000000000X0XX\", cmds = Any[(addr = 26, val = 1)])"
      ]
     },
     "execution_count": 201,
     "metadata": {},
     "output_type": "execute_result"
    }
   ],
   "source": [
    "input_sample_2 = parse_input(\"input_sample_2.txt\")"
   ]
  },
  {
   "cell_type": "code",
   "execution_count": 202,
   "metadata": {
    "ExecuteTime": {
     "end_time": "2020-12-14T15:07:32.301000+08:00",
     "start_time": "2020-12-14T07:07:32.291Z"
    },
    "scrolled": true
   },
   "outputs": [
    {
     "data": {
      "text/plain": [
       "100-element Array{Any,1}:\n",
       " (mask = \"01101001XXX000000111X1000X0000X11010\", cmds = Any[(addr = 9227, val = 2018), (addr = 2743, val = 107216), (addr = 7335, val = 5498199), (addr = 62141, val = 28643), (addr = 10396, val = 615), (addr = 44596, val = 16631831), (addr = 30301, val = 1036820554)])\n",
       " (mask = \"0X0010X11100000010011011111010101XX1\", cmds = Any[(addr = 25912, val = 1706212), (addr = 18700, val = 1436), (addr = 31216, val = 1307), (addr = 61767, val = 10950397), (addr = 55019, val = 9351804), (addr = 5477, val = 970907882), (addr = 49380, val = 1102790)])\n",
       " (mask = \"1100110XX10X10X00001X00010X10XX11111\", cmds = Any[(addr = 43431, val = 43329), (addr = 39748, val = 2295), (addr = 59160, val = 4068818)])\n",
       " (mask = \"X10010101XXX00X010010X1X011001001X1X\", cmds = Any[(addr = 783, val = 969), (addr = 15182, val = 4439242), (addr = 34082, val = 129773486), (addr = 3726, val = 36911281), (addr = 14093, val = 198), (addr = 7136, val = 967728)])\n",
       " (mask = \"1100X1100101000011011000010XX010111X\", cmds = Any[(addr = 33093, val = 2500), (addr = 48387, val = 5485316), (addr = 56382, val = 38247), (addr = 19403, val = 4830301), (addr = 53014, val = 12910126), (addr = 51746, val = 7221070)])\n",
       " (mask = \"1100111011000000X101XX1001111100000X\", cmds = Any[(addr = 45506, val = 6583), (addr = 37356, val = 5047), (addr = 60299, val = 16732544), (addr = 34415, val = 233715), (addr = 38131, val = 3633859), (addr = 39038, val = 569179)])\n",
       " (mask = \"11X011111110XXX01011X0001X000100X0XX\", cmds = Any[(addr = 61857, val = 60109927), (addr = 61984, val = 56703060), (addr = 25744, val = 85084), (addr = 19683, val = 146541846), (addr = 5034, val = 3308207)])\n",
       " (mask = \"X1X01100110X01001101001110011000X111\", cmds = Any[(addr = 33321, val = 476094), (addr = 47197, val = 2775), (addr = 33561, val = 1185), (addr = 44649, val = 1910953), (addr = 12452, val = 778855), (addr = 62667, val = 7299049), (addr = 30629, val = 942780)])\n",
       " (mask = \"11101010110000000X01101X01001111XX01\", cmds = Any[(addr = 15304, val = 2029422), (addr = 47648, val = 224645267)])\n",
       " (mask = \"110010000XX0X00000010X0000000X001000\", cmds = Any[(addr = 18174, val = 10605), (addr = 27164, val = 58633252), (addr = 49380, val = 896), (addr = 35511, val = 1865)])\n",
       " (mask = \"1101X10011111010001100100001X011XX1X\", cmds = Any[(addr = 46534, val = 133047049), (addr = 40985, val = 1546810), (addr = 19567, val = 322254), (addr = 13516, val = 5103), (addr = 43307, val = 220958462), (addr = 3522, val = 10)])\n",
       " (mask = \"00101010110X0000110X100101XX00110000\", cmds = Any[(addr = 32856, val = 468089608), (addr = 16581, val = 1520), (addr = 44671, val = 493645), (addr = 59135, val = 743)])\n",
       " (mask = \"X1001100010000X00001X1X100X0100011X1\", cmds = Any[(addr = 24709, val = 381965), (addr = 18599, val = 58320)])\n",
       " ⋮\n",
       " (mask = \"X10X11X011X1101000X1000X10X0X001000X\", cmds = Any[(addr = 10734, val = 35783), (addr = 60994, val = 64736), (addr = 47530, val = 211)])\n",
       " (mask = \"110011111101X00X000X0X10X01001100001\", cmds = Any[(addr = 45758, val = 714), (addr = 33710, val = 3308098), (addr = 34082, val = 1470), (addr = 13513, val = 339084), (addr = 36005, val = 948), (addr = 22208, val = 54801)])\n",
       " (mask = \"11001X00X10XX000X00100X01X1X1010X010\", cmds = Any[(addr = 64623, val = 226472), (addr = 61920, val = 69906), (addr = 21637, val = 18145978), (addr = 35989, val = 52932732)])\n",
       " (mask = \"XX001011X100000X1001XX10X100X1011010\", cmds = Any[(addr = 16277, val = 1953), (addr = 1820, val = 71), (addr = 52001, val = 2117192), (addr = 41507, val = 2489824), (addr = 63428, val = 4874)])\n",
       " (mask = \"01000X11110X0000100110X010X1X0000X0X\", cmds = Any[(addr = 50966, val = 649836905), (addr = 13251, val = 84391), (addr = 2827, val = 2335210)])\n",
       " (mask = \"01X01000X100X0000111X00X1101XX110010\", cmds = Any[(addr = 37050, val = 22573528), (addr = 60994, val = 508), (addr = 1560, val = 286179)])\n",
       " (mask = \"1110110111000100X1101X10000X0010X111\", cmds = Any[(addr = 15675, val = 36967016), (addr = 46000, val = 233496883), (addr = 34415, val = 2067736), (addr = 9212, val = 59203547), (addr = 4474, val = 1218632), (addr = 18794, val = 248839504), (addr = 48996, val = 1469)])\n",
       " (mask = \"XX0X111011000010X000000X011100111011\", cmds = Any[(addr = 2827, val = 265677), (addr = 38352, val = 14739817), (addr = 8104, val = 552372), (addr = 44416, val = 430420), (addr = 10177, val = 292), (addr = 27665, val = 233108)])\n",
       " (mask = \"X0X010X01101X0000101010X110010100000\", cmds = Any[(addr = 26604, val = 97034170), (addr = 24910, val = 2438352), (addr = 21800, val = 6131), (addr = 38442, val = 33942864)])\n",
       " (mask = \"11X010X01101X100X0101101101001X01X1X\", cmds = Any[(addr = 19403, val = 2412), (addr = 62888, val = 53930), (addr = 55471, val = 3757), (addr = 62415, val = 124924), (addr = 837, val = 78)])\n",
       " (mask = \"11101000110XX00110100X11111101001X11\", cmds = Any[(addr = 28580, val = 14210267), (addr = 61701, val = 21584384), (addr = 28544, val = 23917)])\n",
       " (mask = \"110011X01100000000011110X11X011X0010\", cmds = Any[(addr = 24266, val = 4131276), (addr = 38423, val = 9580), (addr = 64502, val = 2974919)])"
      ]
     },
     "execution_count": 202,
     "metadata": {},
     "output_type": "execute_result"
    }
   ],
   "source": [
    "input_puzzle = parse_input(\"input_puzzle.txt\")"
   ]
  },
  {
   "cell_type": "markdown",
   "metadata": {},
   "source": [
    "## part 1"
   ]
  },
  {
   "cell_type": "code",
   "execution_count": 248,
   "metadata": {
    "ExecuteTime": {
     "end_time": "2020-12-14T15:25:49.134000+08:00",
     "start_time": "2020-12-14T07:25:49.130Z"
    }
   },
   "outputs": [
    {
     "data": {
      "text/plain": [
       "set_memory (generic function with 2 methods)"
      ]
     },
     "execution_count": 248,
     "metadata": {},
     "output_type": "execute_result"
    }
   ],
   "source": [
    "function set_memory(instruction_groups, mask_func)\n",
    "    result = Dict{Int, Int}()\n",
    "    for (mask, cmds) in instruction_groups, (addr, val) in cmds\n",
    "        for (addr, val) in mask_func(mask, addr, val)\n",
    "            result[addr] = val\n",
    "        end\n",
    "    end\n",
    "    return result\n",
    "end"
   ]
  },
  {
   "cell_type": "code",
   "execution_count": 247,
   "metadata": {
    "ExecuteTime": {
     "end_time": "2020-12-14T15:25:48.558000+08:00",
     "start_time": "2020-12-14T07:25:48.554Z"
    }
   },
   "outputs": [
    {
     "data": {
      "text/plain": [
       "apply_value_mask (generic function with 2 methods)"
      ]
     },
     "execution_count": 247,
     "metadata": {},
     "output_type": "execute_result"
    }
   ],
   "source": [
    "function apply_value_mask(mask, addr, val)\n",
    "    val_string = string(val, base=2, pad=36)\n",
    "    masked_val = map(zip(mask, val_string)) do (m, v)\n",
    "        return m != 'X' ? m : v\n",
    "    end\n",
    "    return [(addr, parse(Int, String(masked_val), base=2))]\n",
    "end"
   ]
  },
  {
   "cell_type": "markdown",
   "metadata": {},
   "source": [
    "### answer"
   ]
  },
  {
   "cell_type": "code",
   "execution_count": 231,
   "metadata": {
    "ExecuteTime": {
     "end_time": "2020-12-14T15:23:55.516000+08:00",
     "start_time": "2020-12-14T07:23:55.513Z"
    }
   },
   "outputs": [
    {
     "data": {
      "text/plain": [
       "show_answer_report (generic function with 2 methods)"
      ]
     },
     "execution_count": 231,
     "metadata": {},
     "output_type": "execute_result"
    }
   ],
   "source": [
    "function show_answer_report(input, ::Val{:part1})\n",
    "    result = set_memory(input, apply_value_mask)\n",
    "    @info \"Answer found.\" answer=sum(values(result))\n",
    "    return\n",
    "end"
   ]
  },
  {
   "cell_type": "code",
   "execution_count": 249,
   "metadata": {
    "ExecuteTime": {
     "end_time": "2020-12-14T15:25:50.633000+08:00",
     "start_time": "2020-12-14T07:25:50.517Z"
    },
    "scrolled": true
   },
   "outputs": [
    {
     "name": "stderr",
     "output_type": "stream",
     "text": [
      "┌ Info: Answer found.\n",
      "│   answer = 165\n",
      "└ @ Main In[231]:3\n"
     ]
    }
   ],
   "source": [
    "show_answer_report(input_sample_1, Val(:part1))"
   ]
  },
  {
   "cell_type": "code",
   "execution_count": 250,
   "metadata": {
    "ExecuteTime": {
     "end_time": "2020-12-14T15:25:51.831000+08:00",
     "start_time": "2020-12-14T07:25:51.829Z"
    },
    "scrolled": false
   },
   "outputs": [
    {
     "name": "stderr",
     "output_type": "stream",
     "text": [
      "┌ Info: Answer found.\n",
      "│   answer = 15172047086292\n",
      "└ @ Main In[231]:3\n"
     ]
    }
   ],
   "source": [
    "show_answer_report(input_puzzle, Val(:part1))"
   ]
  },
  {
   "cell_type": "markdown",
   "metadata": {},
   "source": [
    "## part 2"
   ]
  },
  {
   "cell_type": "code",
   "execution_count": 264,
   "metadata": {
    "ExecuteTime": {
     "end_time": "2020-12-14T15:41:05.776000+08:00",
     "start_time": "2020-12-14T07:41:05.692Z"
    }
   },
   "outputs": [
    {
     "data": {
      "text/plain": [
       "apply_addr_mask (generic function with 1 method)"
      ]
     },
     "execution_count": 264,
     "metadata": {},
     "output_type": "execute_result"
    }
   ],
   "source": [
    "function apply_addr_mask(mask, addr, val)\n",
    "    addr_string = string(addr, base=2, pad=36)\n",
    "    masked_addr = map(zip(mask, addr_string)) do (m, a)\n",
    "        m != '0' ? m : a\n",
    "    end\n",
    "    \n",
    "    addrs = [0]\n",
    "    for i in 1:length(masked_addr)\n",
    "        if masked_addr[i] == 'X'\n",
    "            new_addrs = addrs .+ 2^(length(masked_addr) - i)\n",
    "            append!(addrs, new_addrs)\n",
    "        elseif masked_addr[i] == '1'\n",
    "            addrs .+= 2^(length(masked_addr) - i)\n",
    "        end\n",
    "    end\n",
    "    \n",
    "    return tuple.(addrs, val)\n",
    "end"
   ]
  },
  {
   "cell_type": "markdown",
   "metadata": {},
   "source": [
    "### answer"
   ]
  },
  {
   "cell_type": "code",
   "execution_count": 265,
   "metadata": {
    "ExecuteTime": {
     "end_time": "2020-12-14T15:41:09.459000+08:00",
     "start_time": "2020-12-14T07:41:09.455Z"
    }
   },
   "outputs": [
    {
     "data": {
      "text/plain": [
       "show_answer_report (generic function with 2 methods)"
      ]
     },
     "execution_count": 265,
     "metadata": {},
     "output_type": "execute_result"
    }
   ],
   "source": [
    "function show_answer_report(input, ::Val{:part2})\n",
    "    mems = set_memory(input, apply_addr_mask)\n",
    "    @info \"Answer found.\" answer=sum(values(mems))\n",
    "    return\n",
    "end"
   ]
  },
  {
   "cell_type": "code",
   "execution_count": 258,
   "metadata": {
    "ExecuteTime": {
     "end_time": "2020-12-14T15:27:18.915000+08:00",
     "start_time": "2020-12-14T07:27:18.782Z"
    },
    "scrolled": true
   },
   "outputs": [
    {
     "name": "stderr",
     "output_type": "stream",
     "text": [
      "┌ Info: Answer found.\n",
      "│   answer = 208\n",
      "└ @ Main In[251]:3\n"
     ]
    }
   ],
   "source": [
    "show_answer_report(input_sample_2, Val(:part2))"
   ]
  },
  {
   "cell_type": "code",
   "execution_count": 259,
   "metadata": {
    "ExecuteTime": {
     "end_time": "2020-12-14T15:27:20.240000+08:00",
     "start_time": "2020-12-14T07:27:20.207Z"
    },
    "scrolled": true
   },
   "outputs": [
    {
     "name": "stderr",
     "output_type": "stream",
     "text": [
      "┌ Info: Answer found.\n",
      "│   answer = 4197941339968\n",
      "└ @ Main In[251]:3\n"
     ]
    }
   ],
   "source": [
    "show_answer_report(input_puzzle, Val(:part2))"
   ]
  },
  {
   "cell_type": "code",
   "execution_count": 262,
   "metadata": {
    "ExecuteTime": {
     "end_time": "2020-12-14T15:40:29.842000+08:00",
     "start_time": "2020-12-14T07:40:17.976Z"
    }
   },
   "outputs": [
    {
     "data": {
      "text/plain": [
       "BenchmarkTools.Trial: \n",
       "  memory estimate:  425.91 KiB\n",
       "  allocs estimate:  8347\n",
       "  --------------\n",
       "  minimum time:     424.192 μs (0.00% GC)\n",
       "  median time:      485.295 μs (0.00% GC)\n",
       "  mean time:        555.215 μs (8.17% GC)\n",
       "  maximum time:     7.201 ms (90.54% GC)\n",
       "  --------------\n",
       "  samples:          9001\n",
       "  evals/sample:     1"
      ]
     },
     "execution_count": 262,
     "metadata": {},
     "output_type": "execute_result"
    }
   ],
   "source": [
    "@benchmark sum(values(set_memory(input_puzzle, apply_value_mask)))"
   ]
  },
  {
   "cell_type": "code",
   "execution_count": 266,
   "metadata": {
    "ExecuteTime": {
     "end_time": "2020-12-14T15:41:24.611000+08:00",
     "start_time": "2020-12-14T07:41:13.380Z"
    }
   },
   "outputs": [
    {
     "data": {
      "text/plain": [
       "BenchmarkTools.Trial: \n",
       "  memory estimate:  21.23 MiB\n",
       "  allocs estimate:  478247\n",
       "  --------------\n",
       "  minimum time:     16.262 ms (0.00% GC)\n",
       "  median time:      22.581 ms (0.00% GC)\n",
       "  mean time:        22.656 ms (10.09% GC)\n",
       "  maximum time:     37.516 ms (30.24% GC)\n",
       "  --------------\n",
       "  samples:          221\n",
       "  evals/sample:     1"
      ]
     },
     "execution_count": 266,
     "metadata": {},
     "output_type": "execute_result"
    }
   ],
   "source": [
    "@benchmark sum(values(set_memory(input_puzzle, apply_addr_mask)))"
   ]
  }
 ],
 "metadata": {
  "@webio": {
   "lastCommId": null,
   "lastKernelId": null
  },
  "kernelspec": {
   "display_name": "Julia 1.5.3",
   "language": "julia",
   "name": "julia-1.5"
  },
  "language_info": {
   "file_extension": ".jl",
   "mimetype": "application/julia",
   "name": "julia",
   "version": "1.5.3"
  },
  "latex_envs": {
   "LaTeX_envs_menu_present": true,
   "autoclose": false,
   "autocomplete": true,
   "bibliofile": "biblio.bib",
   "cite_by": "apalike",
   "current_citInitial": 1,
   "eqLabelWithNumbers": true,
   "eqNumInitial": 1,
   "hotkeys": {
    "equation": "Ctrl-E",
    "itemize": "Ctrl-I"
   },
   "labels_anchors": false,
   "latex_user_defs": false,
   "report_style_numbering": false,
   "user_envs_cfg": false
  },
  "toc": {
   "base_numbering": 1,
   "nav_menu": {},
   "number_sections": true,
   "sideBar": true,
   "skip_h1_title": true,
   "title_cell": "Table of Contents",
   "title_sidebar": "Contents",
   "toc_cell": true,
   "toc_position": {},
   "toc_section_display": true,
   "toc_window_display": false
  }
 },
 "nbformat": 4,
 "nbformat_minor": 4
}
