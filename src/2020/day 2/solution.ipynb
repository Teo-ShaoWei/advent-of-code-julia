{
 "cells": [
  {
   "cell_type": "markdown",
   "metadata": {},
   "source": [
    "# Advent of Code 2020 Day 2\n",
    "[link](https://adventofcode.com/2020/day/2)\n",
    "\n",
    "This is a standard regex practice. The algorithm part is quite straightforward."
   ]
  },
  {
   "cell_type": "markdown",
   "metadata": {
    "toc": true
   },
   "source": [
    "<h1>Table of Contents<span class=\"tocSkip\"></span></h1>\n",
    "<div class=\"toc\"><ul class=\"toc-item\"><li><span><a href=\"#read-input\" data-toc-modified-id=\"read-input-1\"><span class=\"toc-item-num\">1&nbsp;&nbsp;</span>read input</a></span></li><li><span><a href=\"#part-1\" data-toc-modified-id=\"part-1-2\"><span class=\"toc-item-num\">2&nbsp;&nbsp;</span>part 1</a></span><ul class=\"toc-item\"><li><span><a href=\"#answer\" data-toc-modified-id=\"answer-2.1\"><span class=\"toc-item-num\">2.1&nbsp;&nbsp;</span>answer</a></span></li></ul></li><li><span><a href=\"#part-2\" data-toc-modified-id=\"part-2-3\"><span class=\"toc-item-num\">3&nbsp;&nbsp;</span>part 2</a></span><ul class=\"toc-item\"><li><span><a href=\"#answer\" data-toc-modified-id=\"answer-3.1\"><span class=\"toc-item-num\">3.1&nbsp;&nbsp;</span>answer</a></span></li></ul></li></ul></div>"
   ]
  },
  {
   "cell_type": "markdown",
   "metadata": {},
   "source": [
    "## read input"
   ]
  },
  {
   "cell_type": "code",
   "execution_count": 14,
   "metadata": {
    "ExecuteTime": {
     "end_time": "2020-12-02T13:48:28.079000+08:00",
     "start_time": "2020-12-02T05:48:24.338Z"
    }
   },
   "outputs": [
    {
     "data": {
      "text/plain": [
       "parse_input_line (generic function with 1 method)"
      ]
     },
     "execution_count": 14,
     "metadata": {},
     "output_type": "execute_result"
    }
   ],
   "source": [
    "function parse_input_line(line)\n",
    "    m = match(r\"(?<low>\\d*)-(?<high>\\d*) (?<char>\\w): (?<password>\\w*)\", line)\n",
    "    return (\n",
    "        password = m[:password],\n",
    "        char = m[:char],\n",
    "        low = parse(Int, m[:low]),\n",
    "        high = parse(Int, m[:high]),\n",
    "    )\n",
    "end"
   ]
  },
  {
   "cell_type": "code",
   "execution_count": 15,
   "metadata": {
    "ExecuteTime": {
     "end_time": "2020-12-02T13:48:28.080000+08:00",
     "start_time": "2020-12-02T05:48:24.340Z"
    }
   },
   "outputs": [
    {
     "data": {
      "text/plain": [
       "parse_input (generic function with 1 method)"
      ]
     },
     "execution_count": 15,
     "metadata": {},
     "output_type": "execute_result"
    }
   ],
   "source": [
    "parse_input(filename) = parse_input_line.(readlines(filename))"
   ]
  },
  {
   "cell_type": "code",
   "execution_count": 16,
   "metadata": {
    "ExecuteTime": {
     "end_time": "2020-12-02T13:48:28.119000+08:00",
     "start_time": "2020-12-02T05:48:24.342Z"
    }
   },
   "outputs": [
    {
     "data": {
      "text/plain": [
       "3-element Array{NamedTuple{(:password, :char, :low, :high),Tuple{SubString{String},SubString{String},Int64,Int64}},1}:\n",
       " (password = \"abcde\", char = \"a\", low = 1, high = 3)\n",
       " (password = \"cdefg\", char = \"b\", low = 1, high = 3)\n",
       " (password = \"ccccccccc\", char = \"c\", low = 2, high = 9)"
      ]
     },
     "execution_count": 16,
     "metadata": {},
     "output_type": "execute_result"
    }
   ],
   "source": [
    "input_sample_1 = parse_input(\"input_sample_1.txt\")"
   ]
  },
  {
   "cell_type": "code",
   "execution_count": 17,
   "metadata": {
    "ExecuteTime": {
     "end_time": "2020-12-02T13:48:28.124000+08:00",
     "start_time": "2020-12-02T05:48:24.344Z"
    },
    "scrolled": true
   },
   "outputs": [
    {
     "data": {
      "text/plain": [
       "1000-element Array{NamedTuple{(:password, :char, :low, :high),Tuple{SubString{String},SubString{String},Int64,Int64}},1}:\n",
       " (password = \"rrrjr\", char = \"r\", low = 4, high = 5)\n",
       " (password = \"pxcbpxxwkqjttx\", char = \"x\", low = 9, high = 10)\n",
       " (password = \"rjbbbbvgrbrfjx\", char = \"b\", low = 8, high = 13)\n",
       " (password = \"dtddsdddddsddddddwd\", char = \"d\", low = 3, high = 5)\n",
       " (password = \"qbqsqqzqqxkmbqx\", char = \"q\", low = 3, high = 11)\n",
       " (password = \"vgvhcvxlbfcwg\", char = \"v\", low = 3, high = 4)\n",
       " (password = \"rtctmtt\", char = \"t\", low = 1, high = 7)\n",
       " (password = \"ksssswsssstssssss\", char = \"s\", low = 8, high = 11)\n",
       " (password = \"vxvvvlvv\", char = \"v\", low = 2, high = 6)\n",
       " (password = \"ptgprcccvqvbfcnckc\", char = \"c\", low = 16, high = 18)\n",
       " (password = \"wgtnwgnwvzwqhqtwvwrw\", char = \"w\", low = 18, high = 20)\n",
       " (password = \"kkkkkkxkkkkkknkkkl\", char = \"k\", low = 14, high = 18)\n",
       " (password = \"pwfgqlbbrfvwf\", char = \"f\", low = 3, high = 6)\n",
       " ⋮\n",
       " (password = \"trbqnthjrfwdg\", char = \"b\", low = 5, high = 7)\n",
       " (password = \"jjjjjjjjjjjjbsjj\", char = \"j\", low = 12, high = 14)\n",
       " (password = \"jswmwvtw\", char = \"s\", low = 2, high = 4)\n",
       " (password = \"mccctnkcccccccm\", char = \"c\", low = 1, high = 7)\n",
       " (password = \"zjmmmmgd\", char = \"m\", low = 7, high = 8)\n",
       " (password = \"xhqxddbfrngbxfzb\", char = \"x\", low = 4, high = 6)\n",
       " (password = \"xdtqxbdwx\", char = \"x\", low = 6, high = 9)\n",
       " (password = \"qskrrvvzclrrvztrdkrh\", char = \"r\", low = 10, high = 14)\n",
       " (password = \"wccwcccbccccrccc\", char = \"c\", low = 4, high = 13)\n",
       " (password = \"wlqzllcljjtqglbhl\", char = \"l\", low = 11, high = 14)\n",
       " (password = \"bbbbbbbbbbbbbbbbbbq\", char = \"b\", low = 17, high = 19)\n",
       " (password = \"xxqxm\", char = \"x\", low = 3, high = 5)"
      ]
     },
     "execution_count": 17,
     "metadata": {},
     "output_type": "execute_result"
    }
   ],
   "source": [
    "input_puzzle = parse_input(\"input_puzzle.txt\")"
   ]
  },
  {
   "cell_type": "markdown",
   "metadata": {},
   "source": [
    "## part 1"
   ]
  },
  {
   "cell_type": "code",
   "execution_count": 18,
   "metadata": {
    "ExecuteTime": {
     "end_time": "2020-12-02T13:48:28.126000+08:00",
     "start_time": "2020-12-02T05:48:24.389Z"
    }
   },
   "outputs": [
    {
     "data": {
      "text/plain": [
       "is_valid (generic function with 1 method)"
      ]
     },
     "execution_count": 18,
     "metadata": {},
     "output_type": "execute_result"
    }
   ],
   "source": [
    "is_valid(t) = t.low ≤ count(t.char, t.password) ≤ t.high"
   ]
  },
  {
   "cell_type": "markdown",
   "metadata": {},
   "source": [
    "### answer"
   ]
  },
  {
   "cell_type": "code",
   "execution_count": 19,
   "metadata": {
    "ExecuteTime": {
     "end_time": "2020-12-02T13:48:28.129000+08:00",
     "start_time": "2020-12-02T05:48:24.435Z"
    }
   },
   "outputs": [
    {
     "data": {
      "text/plain": [
       "show_answer_report (generic function with 2 methods)"
      ]
     },
     "execution_count": 19,
     "metadata": {},
     "output_type": "execute_result"
    }
   ],
   "source": [
    "function show_answer_report(input, ::Val{:part1})\n",
    "    @info \"Answer found.\" answer=sum(is_valid.(input))\n",
    "    return\n",
    "end"
   ]
  },
  {
   "cell_type": "code",
   "execution_count": 20,
   "metadata": {
    "ExecuteTime": {
     "end_time": "2020-12-02T13:48:28.235000+08:00",
     "start_time": "2020-12-02T05:48:24.437Z"
    },
    "scrolled": true
   },
   "outputs": [
    {
     "name": "stdout",
     "output_type": "stream",
     "text": [
      "  0.098160 seconds (395.35 k allocations: 17.767 MiB)\n"
     ]
    },
    {
     "name": "stderr",
     "output_type": "stream",
     "text": [
      "┌ Info: Answer found.\n",
      "│   answer = 2\n",
      "└ @ Main In[19]:2\n"
     ]
    }
   ],
   "source": [
    "@time show_answer_report(input_sample_1, Val(:part1))"
   ]
  },
  {
   "cell_type": "code",
   "execution_count": 21,
   "metadata": {
    "ExecuteTime": {
     "end_time": "2020-12-02T13:48:28.244000+08:00",
     "start_time": "2020-12-02T05:48:24.439Z"
    },
    "scrolled": false
   },
   "outputs": [
    {
     "name": "stdout",
     "output_type": "stream",
     "text": [
      "  0.000745 seconds (6.70 k allocations: 526.188 KiB)\n"
     ]
    },
    {
     "name": "stderr",
     "output_type": "stream",
     "text": [
      "┌ Info: Answer found.\n",
      "│   answer = 398\n",
      "└ @ Main In[19]:2\n"
     ]
    }
   ],
   "source": [
    "@time show_answer_report(input_puzzle, Val(:part1))"
   ]
  },
  {
   "cell_type": "markdown",
   "metadata": {},
   "source": [
    "## part 2"
   ]
  },
  {
   "cell_type": "code",
   "execution_count": 22,
   "metadata": {
    "ExecuteTime": {
     "end_time": "2020-12-02T13:48:28.247000+08:00",
     "start_time": "2020-12-02T05:48:24.503Z"
    }
   },
   "outputs": [
    {
     "data": {
      "text/plain": [
       "is_valid_updated (generic function with 1 method)"
      ]
     },
     "execution_count": 22,
     "metadata": {},
     "output_type": "execute_result"
    }
   ],
   "source": [
    "function is_valid_updated(t)\n",
    "    return 1 == count(\n",
    "        c -> c == t.char[1],\n",
    "        [t.password[t.low], t.password[t.high]],\n",
    "    )\n",
    "end"
   ]
  },
  {
   "cell_type": "code",
   "execution_count": 23,
   "metadata": {
    "ExecuteTime": {
     "end_time": "2020-12-02T13:48:28.324000+08:00",
     "start_time": "2020-12-02T05:48:24.505Z"
    }
   },
   "outputs": [
    {
     "data": {
      "text/plain": [
       "3-element BitArray{1}:\n",
       " 1\n",
       " 0\n",
       " 0"
      ]
     },
     "execution_count": 23,
     "metadata": {},
     "output_type": "execute_result"
    }
   ],
   "source": [
    "is_valid_updated.(input_sample_1)"
   ]
  },
  {
   "cell_type": "markdown",
   "metadata": {},
   "source": [
    "### answer"
   ]
  },
  {
   "cell_type": "code",
   "execution_count": 24,
   "metadata": {
    "ExecuteTime": {
     "end_time": "2020-12-02T13:48:28.327000+08:00",
     "start_time": "2020-12-02T05:48:24.559Z"
    }
   },
   "outputs": [
    {
     "data": {
      "text/plain": [
       "show_answer_report (generic function with 2 methods)"
      ]
     },
     "execution_count": 24,
     "metadata": {},
     "output_type": "execute_result"
    }
   ],
   "source": [
    "function show_answer_report(input, ::Val{:part2})\n",
    "    @info \"Answer found.\" answer=sum(is_valid_updated.(input))\n",
    "    return\n",
    "end"
   ]
  },
  {
   "cell_type": "code",
   "execution_count": 25,
   "metadata": {
    "ExecuteTime": {
     "end_time": "2020-12-02T13:48:28.419000+08:00",
     "start_time": "2020-12-02T05:48:24.563Z"
    },
    "scrolled": true
   },
   "outputs": [
    {
     "name": "stdout",
     "output_type": "stream",
     "text": [
      "  0.084332 seconds (135.35 k allocations: 6.112 MiB, 13.02% gc time)\n"
     ]
    },
    {
     "name": "stderr",
     "output_type": "stream",
     "text": [
      "┌ Info: Answer found.\n",
      "│   answer = 562\n",
      "└ @ Main In[24]:2\n"
     ]
    }
   ],
   "source": [
    "@time show_answer_report(input_puzzle, Val(:part2))"
   ]
  },
  {
   "cell_type": "code",
   "execution_count": 26,
   "metadata": {
    "ExecuteTime": {
     "end_time": "2020-12-02T13:48:28.427000+08:00",
     "start_time": "2020-12-02T05:48:24.566Z"
    },
    "scrolled": true
   },
   "outputs": [
    {
     "name": "stdout",
     "output_type": "stream",
     "text": [
      "  0.000083 seconds (38 allocations: 1.703 KiB)\n"
     ]
    },
    {
     "name": "stderr",
     "output_type": "stream",
     "text": [
      "┌ Info: Answer found.\n",
      "│   answer = 1\n",
      "└ @ Main In[24]:2\n"
     ]
    }
   ],
   "source": [
    "@time show_answer_report(input_sample_1, Val(:part2))"
   ]
  }
 ],
 "metadata": {
  "@webio": {
   "lastCommId": null,
   "lastKernelId": null
  },
  "kernelspec": {
   "display_name": "Julia 1.5.3",
   "language": "julia",
   "name": "julia-1.5"
  },
  "language_info": {
   "file_extension": ".jl",
   "mimetype": "application/julia",
   "name": "julia",
   "version": "1.5.3"
  },
  "latex_envs": {
   "LaTeX_envs_menu_present": true,
   "autoclose": false,
   "autocomplete": true,
   "bibliofile": "biblio.bib",
   "cite_by": "apalike",
   "current_citInitial": 1,
   "eqLabelWithNumbers": true,
   "eqNumInitial": 1,
   "hotkeys": {
    "equation": "Ctrl-E",
    "itemize": "Ctrl-I"
   },
   "labels_anchors": false,
   "latex_user_defs": false,
   "report_style_numbering": false,
   "user_envs_cfg": false
  },
  "toc": {
   "base_numbering": 1,
   "nav_menu": {},
   "number_sections": true,
   "sideBar": true,
   "skip_h1_title": true,
   "title_cell": "Table of Contents",
   "title_sidebar": "Contents",
   "toc_cell": true,
   "toc_position": {},
   "toc_section_display": true,
   "toc_window_display": false
  }
 },
 "nbformat": 4,
 "nbformat_minor": 4
}
