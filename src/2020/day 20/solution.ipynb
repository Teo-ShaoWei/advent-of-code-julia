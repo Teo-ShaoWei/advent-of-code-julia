{
 "cells": [
  {
   "cell_type": "markdown",
   "metadata": {},
   "source": [
    "# Advent of Code 2020 Day 20\n",
    "[link](https://adventofcode.com/2020/day/20)"
   ]
  },
  {
   "cell_type": "markdown",
   "metadata": {
    "toc": true
   },
   "source": [
    "<h1>Table of Contents<span class=\"tocSkip\"></span></h1>\n",
    "<div class=\"toc\"><ul class=\"toc-item\"><li><span><a href=\"#dependencies\" data-toc-modified-id=\"dependencies-1\"><span class=\"toc-item-num\">1&nbsp;&nbsp;</span>dependencies</a></span></li><li><span><a href=\"#read-input\" data-toc-modified-id=\"read-input-2\"><span class=\"toc-item-num\">2&nbsp;&nbsp;</span>read input</a></span></li><li><span><a href=\"#part-1\" data-toc-modified-id=\"part-1-3\"><span class=\"toc-item-num\">3&nbsp;&nbsp;</span>part 1</a></span><ul class=\"toc-item\"><li><span><a href=\"#answer\" data-toc-modified-id=\"answer-3.1\"><span class=\"toc-item-num\">3.1&nbsp;&nbsp;</span>answer</a></span></li></ul></li><li><span><a href=\"#part-2\" data-toc-modified-id=\"part-2-4\"><span class=\"toc-item-num\">4&nbsp;&nbsp;</span>part 2</a></span><ul class=\"toc-item\"><li><span><a href=\"#answer\" data-toc-modified-id=\"answer-4.1\"><span class=\"toc-item-num\">4.1&nbsp;&nbsp;</span>answer</a></span></li></ul></li></ul></div>"
   ]
  },
  {
   "cell_type": "markdown",
   "metadata": {},
   "source": [
    "## dependencies"
   ]
  },
  {
   "cell_type": "code",
   "execution_count": 6,
   "metadata": {
    "ExecuteTime": {
     "end_time": "2020-12-20T13:02:54.026000+08:00",
     "start_time": "2020-12-20T05:02:53.952Z"
    }
   },
   "outputs": [],
   "source": [
    "using Combinatorics, DataStructures, JSON, OffsetArrays, Interact, Images, NBInclude, Lazy"
   ]
  },
  {
   "cell_type": "markdown",
   "metadata": {},
   "source": [
    "Make use of the fact that all possible orientation is defined by how many 90degree rotation to the left should I do `r ∈ [0, 1, 2, 3]`, and whether to flip upside down, `f == -1` if yes, `f == 1` if not. This gives the following as the valid orientations."
   ]
  },
  {
   "cell_type": "code",
   "execution_count": 466,
   "metadata": {
    "ExecuteTime": {
     "end_time": "2020-12-20T15:33:43.483000+08:00",
     "start_time": "2020-12-20T07:33:42.757Z"
    }
   },
   "outputs": [
    {
     "data": {
      "text/plain": [
       "8-element Array{NamedTuple{(:r, :f),Tuple{Int64,Int64}},1}:\n",
       " (r = 0, f = 1)\n",
       " (r = 1, f = 1)\n",
       " (r = 2, f = 1)\n",
       " (r = 3, f = 1)\n",
       " (r = 0, f = -1)\n",
       " (r = 1, f = -1)\n",
       " (r = 2, f = -1)\n",
       " (r = 3, f = -1)"
      ]
     },
     "execution_count": 466,
     "metadata": {},
     "output_type": "execute_result"
    }
   ],
   "source": [
    "orientations = [\n",
    "    (r = 0, f = 1),\n",
    "    (r = 1, f = 1),\n",
    "    (r = 2, f = 1),\n",
    "    (r = 3, f = 1),\n",
    "    (r = 0, f = -1),\n",
    "    (r = 1, f = -1),\n",
    "    (r = 2, f = -1),\n",
    "    (r = 3, f = -1),\n",
    "]"
   ]
  },
  {
   "cell_type": "markdown",
   "metadata": {},
   "source": [
    "## read input"
   ]
  },
  {
   "cell_type": "code",
   "execution_count": 652,
   "metadata": {
    "ExecuteTime": {
     "end_time": "2020-12-20T16:36:22.147000+08:00",
     "start_time": "2020-12-20T08:36:22.013Z"
    }
   },
   "outputs": [
    {
     "data": {
      "text/plain": [
       "3×20 Array{Bool,2}:\n",
       " 0  0  0  0  0  0  0  0  0  0  0  0  0  0  0  0  0  0  1  0\n",
       " 1  0  0  0  0  1  1  0  0  0  0  1  1  0  0  0  0  1  1  1\n",
       " 0  1  0  0  1  0  0  1  0  0  1  0  0  1  0  0  1  0  0  0"
      ]
     },
     "execution_count": 652,
     "metadata": {},
     "output_type": "execute_result"
    }
   ],
   "source": [
    "monster = begin\n",
    "    lines = readlines(\"monster.txt\") .|> (l -> (==('#')).(collect(l)))\n",
    "    return [lines[i][j] for i in eachindex(lines), j in eachindex(lines[1])]\n",
    "end"
   ]
  },
  {
   "cell_type": "code",
   "execution_count": 161,
   "metadata": {
    "ExecuteTime": {
     "end_time": "2020-12-20T14:00:17.206000+08:00",
     "start_time": "2020-12-20T06:00:17.202Z"
    }
   },
   "outputs": [
    {
     "data": {
      "text/plain": [
       "parse_group (generic function with 1 method)"
      ]
     },
     "execution_count": 161,
     "metadata": {},
     "output_type": "execute_result"
    }
   ],
   "source": [
    "function parse_group(lines)\n",
    "    id = @>> begin\n",
    "        match(r\"Tile (\\d+):\", lines[1])[1]\n",
    "        parse(Int)\n",
    "    end\n",
    "    \n",
    "    tile = @>> begin\n",
    "        [lines[i][j] for i in 2:length(lines), j in eachindex(lines[2])]\n",
    "        map(==('#'))\n",
    "    end\n",
    "    \n",
    "    return id => tile\n",
    "end"
   ]
  },
  {
   "cell_type": "code",
   "execution_count": 162,
   "metadata": {
    "ExecuteTime": {
     "end_time": "2020-12-20T14:00:18.092000+08:00",
     "start_time": "2020-12-20T06:00:18.089Z"
    }
   },
   "outputs": [
    {
     "data": {
      "text/plain": [
       "parse_input (generic function with 1 method)"
      ]
     },
     "execution_count": 162,
     "metadata": {},
     "output_type": "execute_result"
    }
   ],
   "source": [
    "function parse_input(filename)\n",
    "    Dict(\n",
    "        @as lines read(filename, String) begin\n",
    "            split(lines, \"\\n\\n\")\n",
    "            split.(lines, \"\\n\")\n",
    "            parse_group.(lines)\n",
    "        end\n",
    "    )\n",
    "end"
   ]
  },
  {
   "cell_type": "code",
   "execution_count": 163,
   "metadata": {
    "ExecuteTime": {
     "end_time": "2020-12-20T14:00:19.625000+08:00",
     "start_time": "2020-12-20T06:00:18.951Z"
    }
   },
   "outputs": [
    {
     "data": {
      "text/plain": [
       "Dict{Int64,Array{Bool,2}} with 9 entries:\n",
       "  2729 => Bool[0 0 … 0 1; 1 1 … 0 0; … ; 1 1 … 0 0; 1 0 … 1 0]\n",
       "  1489 => Bool[1 1 … 0 0; 0 0 … 0 0; … ; 0 0 … 1 1; 1 1 … 0 0]\n",
       "  2473 => Bool[1 0 … 1 0; 1 0 … 0 0; … ; 1 1 … 1 0; 0 0 … 1 0]\n",
       "  3079 => Bool[1 0 … 1 0; 0 1 … 1 1; … ; 0 0 … 0 0; 0 0 … 0 0]\n",
       "  2311 => Bool[0 0 … 1 0; 1 1 … 0 0; … ; 1 1 … 1 0; 0 0 … 1 1]\n",
       "  1171 => Bool[1 1 … 1 0; 1 0 … 0 1; … ; 1 1 … 0 0; 0 0 … 0 0]\n",
       "  2971 => Bool[0 0 … 0 1; 1 0 … 0 0; … ; 0 0 … 1 0; 0 0 … 0 1]\n",
       "  1951 => Bool[1 0 … 1 0; 1 0 … 0 1; … ; 0 0 … 0 1; 1 0 … 0 0]\n",
       "  1427 => Bool[1 1 … 0 0; 0 1 … 0 0; … ; 0 0 … 0 1; 0 0 … 1 0]"
      ]
     },
     "execution_count": 163,
     "metadata": {},
     "output_type": "execute_result"
    }
   ],
   "source": [
    "input_sample_1 = parse_input(\"input_sample_1.txt\")"
   ]
  },
  {
   "cell_type": "code",
   "execution_count": 164,
   "metadata": {
    "ExecuteTime": {
     "end_time": "2020-12-20T14:00:20.705000+08:00",
     "start_time": "2020-12-20T06:00:20.701Z"
    },
    "scrolled": true
   },
   "outputs": [
    {
     "data": {
      "text/plain": [
       "Dict{Int64,Array{Bool,2}} with 144 entries:\n",
       "  2803 => Bool[0 1 … 0 1; 1 0 … 1 0; … ; 1 0 … 0 0; 0 0 … 0 0]\n",
       "  2837 => Bool[0 0 … 0 0; 0 0 … 0 0; … ; 0 0 … 0 0; 0 1 … 1 0]\n",
       "  2131 => Bool[1 1 … 1 0; 0 1 … 1 1; … ; 0 0 … 1 0; 0 1 … 1 0]\n",
       "  1069 => Bool[0 0 … 0 0; 1 1 … 0 1; … ; 0 1 … 0 1; 1 0 … 0 0]\n",
       "  2311 => Bool[1 0 … 1 0; 1 0 … 0 0; … ; 0 0 … 0 0; 1 1 … 1 0]\n",
       "  2441 => Bool[0 0 … 1 1; 1 0 … 0 0; … ; 1 0 … 1 1; 1 0 … 1 0]\n",
       "  2111 => Bool[0 0 … 0 0; 0 0 … 0 1; … ; 0 0 … 0 0; 0 1 … 0 0]\n",
       "  3767 => Bool[0 1 … 1 1; 0 0 … 0 0; … ; 1 0 … 0 1; 0 0 … 1 0]\n",
       "  1933 => Bool[0 1 … 0 0; 1 0 … 0 0; … ; 0 0 … 0 0; 0 0 … 1 0]\n",
       "  1741 => Bool[0 1 … 0 1; 1 0 … 1 1; … ; 0 0 … 0 1; 0 1 … 1 1]\n",
       "  3203 => Bool[0 1 … 1 0; 0 0 … 1 0; … ; 1 0 … 0 0; 1 1 … 0 0]\n",
       "  2939 => Bool[1 0 … 1 1; 0 1 … 0 1; … ; 1 1 … 0 0; 0 0 … 1 0]\n",
       "  2381 => Bool[0 0 … 0 1; 0 0 … 0 0; … ; 0 0 … 0 1; 1 0 … 0 0]\n",
       "  1579 => Bool[1 0 … 1 1; 0 0 … 1 1; … ; 0 0 … 0 0; 0 1 … 0 0]\n",
       "  3559 => Bool[0 0 … 1 0; 1 1 … 0 1; … ; 0 0 … 0 1; 0 0 … 0 0]\n",
       "  2273 => Bool[1 0 … 1 1; 0 0 … 0 0; … ; 1 1 … 1 1; 1 0 … 1 1]\n",
       "  2467 => Bool[0 0 … 0 0; 1 1 … 1 1; … ; 1 0 … 0 1; 1 0 … 1 1]\n",
       "  1217 => Bool[1 0 … 1 1; 1 0 … 0 0; … ; 0 1 … 0 0; 0 1 … 1 0]\n",
       "  2659 => Bool[1 0 … 1 0; 0 0 … 1 0; … ; 0 1 … 0 1; 0 0 … 1 0]\n",
       "  2423 => Bool[1 0 … 1 1; 0 1 … 0 1; … ; 1 1 … 0 1; 0 1 … 1 1]\n",
       "  1483 => Bool[0 0 … 0 0; 0 0 … 0 1; … ; 0 0 … 0 1; 0 1 … 0 0]\n",
       "  3709 => Bool[0 0 … 0 1; 1 0 … 0 1; … ; 0 0 … 0 1; 0 1 … 1 0]\n",
       "  1289 => Bool[1 1 … 1 0; 0 0 … 0 0; … ; 0 0 … 1 0; 1 1 … 1 1]\n",
       "  3217 => Bool[1 0 … 1 1; 0 0 … 0 1; … ; 0 1 … 0 1; 1 0 … 0 1]\n",
       "  1049 => Bool[1 0 … 1 1; 1 1 … 1 1; … ; 1 0 … 0 0; 1 1 … 0 0]\n",
       "  ⋮    => ⋮"
      ]
     },
     "execution_count": 164,
     "metadata": {},
     "output_type": "execute_result"
    }
   ],
   "source": [
    "input_puzzle = parse_input(\"input_puzzle.txt\")"
   ]
  },
  {
   "cell_type": "code",
   "execution_count": 165,
   "metadata": {
    "ExecuteTime": {
     "end_time": "2020-12-20T14:00:22.678000+08:00",
     "start_time": "2020-12-20T06:00:22.676Z"
    }
   },
   "outputs": [
    {
     "data": {
      "text/plain": [
       "Dict{Int64,Array{Bool,2}} with 9 entries:\n",
       "  2729 => Bool[0 0 … 0 1; 1 1 … 0 0; … ; 1 1 … 0 0; 1 0 … 1 0]\n",
       "  1489 => Bool[1 1 … 0 0; 0 0 … 0 0; … ; 0 0 … 1 1; 1 1 … 0 0]\n",
       "  2473 => Bool[1 0 … 1 0; 1 0 … 0 0; … ; 1 1 … 1 0; 0 0 … 1 0]\n",
       "  3079 => Bool[1 0 … 1 0; 0 1 … 1 1; … ; 0 0 … 0 0; 0 0 … 0 0]\n",
       "  2311 => Bool[0 0 … 1 0; 1 1 … 0 0; … ; 1 1 … 1 0; 0 0 … 1 1]\n",
       "  1171 => Bool[1 1 … 1 0; 1 0 … 0 1; … ; 1 1 … 0 0; 0 0 … 0 0]\n",
       "  2971 => Bool[0 0 … 0 1; 1 0 … 0 0; … ; 0 0 … 1 0; 0 0 … 0 1]\n",
       "  1951 => Bool[1 0 … 1 0; 1 0 … 0 1; … ; 0 0 … 0 1; 1 0 … 0 0]\n",
       "  1427 => Bool[1 1 … 0 0; 0 1 … 0 0; … ; 0 0 … 0 1; 0 0 … 1 0]"
      ]
     },
     "execution_count": 165,
     "metadata": {},
     "output_type": "execute_result"
    }
   ],
   "source": [
    "data = input_sample_1"
   ]
  },
  {
   "cell_type": "markdown",
   "metadata": {},
   "source": [
    "## part 1"
   ]
  },
  {
   "cell_type": "code",
   "execution_count": 237,
   "metadata": {
    "ExecuteTime": {
     "end_time": "2020-12-20T14:16:08.963000+08:00",
     "start_time": "2020-12-20T06:16:08.960Z"
    }
   },
   "outputs": [
    {
     "data": {
      "text/plain": [
       "match_border (generic function with 1 method)"
      ]
     },
     "execution_count": 237,
     "metadata": {},
     "output_type": "execute_result"
    }
   ],
   "source": [
    "function match_border(border1, border2)\n",
    "    return border1 == reverse(border2)\n",
    "end"
   ]
  },
  {
   "cell_type": "code",
   "execution_count": 513,
   "metadata": {
    "ExecuteTime": {
     "end_time": "2020-12-20T15:44:23.137000+08:00",
     "start_time": "2020-12-20T07:44:23.133Z"
    }
   },
   "outputs": [
    {
     "data": {
      "text/plain": [
       "border (generic function with 6 methods)"
      ]
     },
     "execution_count": 513,
     "metadata": {},
     "output_type": "execute_result"
    }
   ],
   "source": [
    "function border(tile, o::@NamedTuple{r::Int, f::Int})\n",
    "    filp_func = (o.f == 1) ? identity : reverse\n",
    "    \n",
    "    all_borders = [\n",
    "        reverse!(tile[end, :]),\n",
    "        reverse!(tile[:, begin]),\n",
    "        tile[begin, :],\n",
    "        tile[:, end],\n",
    "    ]\n",
    "    \n",
    "    return all_borders[mod1(o.r, 4)] |> filp_func\n",
    "end"
   ]
  },
  {
   "cell_type": "code",
   "execution_count": 468,
   "metadata": {
    "ExecuteTime": {
     "end_time": "2020-12-20T15:34:24.795000+08:00",
     "start_time": "2020-12-20T07:34:24.792Z"
    }
   },
   "outputs": [
    {
     "data": {
      "text/plain": [
       "get_all_borders (generic function with 1 method)"
      ]
     },
     "execution_count": 468,
     "metadata": {},
     "output_type": "execute_result"
    }
   ],
   "source": [
    "function get_all_borders(data)\n",
    "    return Dict(\n",
    "        id => border.(Ref(tile), orientations)\n",
    "        for (id, tile) in data\n",
    "    )\n",
    "end"
   ]
  },
  {
   "cell_type": "code",
   "execution_count": 469,
   "metadata": {
    "ExecuteTime": {
     "end_time": "2020-12-20T15:34:26.036000+08:00",
     "start_time": "2020-12-20T07:34:26.032Z"
    }
   },
   "outputs": [
    {
     "data": {
      "text/plain": [
       "unmatched_borders (generic function with 1 method)"
      ]
     },
     "execution_count": 469,
     "metadata": {},
     "output_type": "execute_result"
    }
   ],
   "source": [
    "function unmatched_borders(id, all_borders)\n",
    "    result = []\n",
    "    for border in all_borders[id]\n",
    "        is_matched = false\n",
    "        for (other_id, other_borders) in all_borders\n",
    "            (other_id == id) && continue\n",
    "            if any(match_border.(Ref(border), other_borders))\n",
    "                is_matched = true\n",
    "                break\n",
    "            end\n",
    "        end\n",
    "        is_matched || push!(result, border)\n",
    "    end\n",
    "    return id => result\n",
    "end"
   ]
  },
  {
   "cell_type": "markdown",
   "metadata": {},
   "source": [
    "### answer"
   ]
  },
  {
   "cell_type": "code",
   "execution_count": 470,
   "metadata": {
    "ExecuteTime": {
     "end_time": "2020-12-20T15:34:27.575000+08:00",
     "start_time": "2020-12-20T07:34:27.570Z"
    }
   },
   "outputs": [
    {
     "data": {
      "text/plain": [
       "show_answer_report (generic function with 3 methods)"
      ]
     },
     "execution_count": 470,
     "metadata": {},
     "output_type": "execute_result"
    }
   ],
   "source": [
    "function show_answer_report(data, ::Val{:part1})\n",
    "    all_borders = get_all_borders(data)\n",
    "    d = unmatched_borders.(keys(data), Ref(all_borders))\n",
    "    @show corner_ids = [id for (id, ubs) in d if length(ubs) == 4]\n",
    "    @info \"Answer found.\" answer=prod(corner_ids)\n",
    "    return\n",
    "end"
   ]
  },
  {
   "cell_type": "code",
   "execution_count": 514,
   "metadata": {
    "ExecuteTime": {
     "end_time": "2020-12-20T15:44:41.602000+08:00",
     "start_time": "2020-12-20T07:44:41.548Z"
    },
    "scrolled": true
   },
   "outputs": [
    {
     "name": "stdout",
     "output_type": "stream",
     "text": [
      "corner_ids = [id for (id, ubs) = d if length(ubs) == 4] = [3079, 1171, 2971, 1951]\n"
     ]
    },
    {
     "name": "stderr",
     "output_type": "stream",
     "text": [
      "┌ Info: Answer found.\n",
      "│   answer = 20899048083289\n",
      "└ @ Main In[470]:5\n"
     ]
    }
   ],
   "source": [
    "show_answer_report(input_sample_1, Val(:part1))"
   ]
  },
  {
   "cell_type": "code",
   "execution_count": 515,
   "metadata": {
    "ExecuteTime": {
     "end_time": "2020-12-20T15:44:42.361000+08:00",
     "start_time": "2020-12-20T07:44:42.285Z"
    },
    "scrolled": false
   },
   "outputs": [
    {
     "name": "stdout",
     "output_type": "stream",
     "text": [
      "corner_ids = [id for (id, ubs) = d if length(ubs) == 4] = [2287, 3433, 3461, 3083]\n"
     ]
    },
    {
     "name": "stderr",
     "output_type": "stream",
     "text": [
      "┌ Info: Answer found.\n",
      "│   answer = 83775126454273\n",
      "└ @ Main In[470]:5\n"
     ]
    }
   ],
   "source": [
    "show_answer_report(input_puzzle, Val(:part1))"
   ]
  },
  {
   "cell_type": "markdown",
   "metadata": {},
   "source": [
    "## part 2"
   ]
  },
  {
   "cell_type": "code",
   "execution_count": 475,
   "metadata": {
    "ExecuteTime": {
     "end_time": "2020-12-20T15:34:47.798000+08:00",
     "start_time": "2020-12-20T07:34:47.795Z"
    }
   },
   "outputs": [
    {
     "data": {
      "text/plain": [
       "fit_tile (generic function with 1 method)"
      ]
     },
     "execution_count": 475,
     "metadata": {},
     "output_type": "execute_result"
    }
   ],
   "source": [
    "function fit_tile(tile1, tile2)\n",
    "    for o1 in orientations[1:4], o2 in orientations\n",
    "        if match_border(border(tile1, o1), border(tile2, o2))\n",
    "            return (; o1, o2)\n",
    "        end\n",
    "    end\n",
    "end"
   ]
  },
  {
   "cell_type": "code",
   "execution_count": 516,
   "metadata": {
    "ExecuteTime": {
     "end_time": "2020-12-20T15:44:45.013000+08:00",
     "start_time": "2020-12-20T07:44:45.011Z"
    }
   },
   "outputs": [
    {
     "data": {
      "text/plain": [
       "(o1 = (r = 3, f = 1), o2 = (r = 1, f = 1))"
      ]
     },
     "execution_count": 516,
     "metadata": {},
     "output_type": "execute_result"
    }
   ],
   "source": [
    "fit_tile(data[1951], data[2729])"
   ]
  },
  {
   "cell_type": "code",
   "execution_count": 517,
   "metadata": {
    "ExecuteTime": {
     "end_time": "2020-12-20T15:44:46.051000+08:00",
     "start_time": "2020-12-20T07:44:46.049Z"
    }
   },
   "outputs": [
    {
     "data": {
      "text/plain": [
       "(o1 = (r = 0, f = 1), o2 = (r = 2, f = 1))"
      ]
     },
     "execution_count": 517,
     "metadata": {},
     "output_type": "execute_result"
    }
   ],
   "source": [
    "fit_tile(data[1951], data[2311])"
   ]
  },
  {
   "cell_type": "code",
   "execution_count": 478,
   "metadata": {
    "ExecuteTime": {
     "end_time": "2020-12-20T15:34:54.150000+08:00",
     "start_time": "2020-12-20T07:34:54.146Z"
    }
   },
   "outputs": [
    {
     "data": {
      "text/plain": [
       "matchable_ids (generic function with 1 method)"
      ]
     },
     "execution_count": 478,
     "metadata": {},
     "output_type": "execute_result"
    }
   ],
   "source": [
    "function matchable_ids(id, all_borders)\n",
    "    result = []\n",
    "    borders = all_borders[id]\n",
    "    for (other_id, other_borders) in all_borders\n",
    "        (other_id == id) && continue\n",
    "        if any(Iterators.product(borders, other_borders) .|> (((b1, b2),) -> match_border(b1, b2)))\n",
    "            push!(result, other_id)\n",
    "        end\n",
    "    end\n",
    "    return result\n",
    "end"
   ]
  },
  {
   "cell_type": "code",
   "execution_count": 522,
   "metadata": {
    "ExecuteTime": {
     "end_time": "2020-12-20T15:46:16.759000+08:00",
     "start_time": "2020-12-20T07:46:16.753Z"
    }
   },
   "outputs": [
    {
     "data": {
      "text/plain": [
       "whats_right (generic function with 3 methods)"
      ]
     },
     "execution_count": 522,
     "metadata": {},
     "output_type": "execute_result"
    }
   ],
   "source": [
    "function whats_right(id, all_borders, all_tiles; current_f = 1, exclusion_ids = Int[])\n",
    "    ids = setdiff(\n",
    "        matchable_ids(id, all_borders),\n",
    "        exclusion_ids,\n",
    "    )\n",
    "    if length(ids) == 1\n",
    "        fit = fit_tile(all_tiles[id], all_tiles[ids[1]])\n",
    "        return (\n",
    "            id = ids[1],\n",
    "            r = mod(fit.o2.r - 2, 4),\n",
    "            f = current_f * fit.o2.f,\n",
    "        )\n",
    "    end\n",
    "    \n",
    "    # else there are 2 choices, one right one down\n",
    "    fit1 = fit_tile(all_tiles[id], all_tiles[ids[1]])\n",
    "    fit2 = fit_tile(all_tiles[id], all_tiles[ids[2]])\n",
    "    \n",
    "    if mod(current_f * (fit1.o1.r - fit2.o1.r), 4) == 1\n",
    "        return (\n",
    "            id = ids[2],\n",
    "            r = mod(fit2.o2.r - 2, 4),\n",
    "            f = current_f * fit2.o2.f,\n",
    "        )\n",
    "    else\n",
    "        return (\n",
    "            id = ids[1],\n",
    "            r = mod(fit1.o2.r - 2, 4),\n",
    "            f = current_f * fit1.o2.f,\n",
    "        )\n",
    "    end\n",
    "end"
   ]
  },
  {
   "cell_type": "code",
   "execution_count": 591,
   "metadata": {
    "ExecuteTime": {
     "end_time": "2020-12-20T16:14:17.164000+08:00",
     "start_time": "2020-12-20T08:14:17.157Z"
    }
   },
   "outputs": [
    {
     "data": {
      "text/plain": [
       "whats_down (generic function with 1 method)"
      ]
     },
     "execution_count": 591,
     "metadata": {},
     "output_type": "execute_result"
    }
   ],
   "source": [
    "function whats_down(id, all_borders, all_tiles; current_f = 1, exclusion_ids = Int[])\n",
    "    ids = setdiff(\n",
    "        matchable_ids(id, all_borders),\n",
    "        exclusion_ids,\n",
    "    )\n",
    "    if length(ids) == 1\n",
    "        fit = fit_tile(all_tiles[id], all_tiles[ids[1]])\n",
    "        return (\n",
    "            id = ids[1],\n",
    "            r = mod(fit.o2.r + current_f * fit.o2.f, 4),\n",
    "            f = current_f * fit.o2.f,\n",
    "        )\n",
    "    end\n",
    "    \n",
    "    # else there are 2 choices, one right one down\n",
    "    fit1 = fit_tile(all_tiles[id], all_tiles[ids[1]])\n",
    "    fit2 = fit_tile(all_tiles[id], all_tiles[ids[2]])\n",
    "    \n",
    "    if mod(current_f * (fit1.o1.r - fit2.o1.r), 4) == 1\n",
    "        return (\n",
    "            id = ids[1],\n",
    "            r = mod(fit1.o2.r + current_f * fit1.o2.f, 4),\n",
    "            f = current_f * fit1.o2.f,\n",
    "        )\n",
    "    else\n",
    "        return (\n",
    "            id = ids[2],\n",
    "            r = mod(fit2.o2.r + current_f * fit2.o2.f, 4),\n",
    "            f = current_f * fit2.o2.f,\n",
    "        )\n",
    "    end\n",
    "end"
   ]
  },
  {
   "cell_type": "code",
   "execution_count": 539,
   "metadata": {
    "ExecuteTime": {
     "end_time": "2020-12-20T15:55:15.485000+08:00",
     "start_time": "2020-12-20T07:55:15.483Z"
    }
   },
   "outputs": [
    {
     "data": {
      "text/plain": [
       "2×2 Array{Int64,2}:\n",
       " 1  2\n",
       " 3  4"
      ]
     },
     "execution_count": 539,
     "metadata": {},
     "output_type": "execute_result"
    }
   ],
   "source": [
    "aaaa = [1 2; 3 4]"
   ]
  },
  {
   "cell_type": "code",
   "execution_count": 545,
   "metadata": {
    "ExecuteTime": {
     "end_time": "2020-12-20T15:56:31.074000+08:00",
     "start_time": "2020-12-20T07:56:31.039Z"
    }
   },
   "outputs": [
    {
     "data": {
      "text/plain": [
       "2×6 Array{Int64,2}:\n",
       " 1  2  1  2  1  2\n",
       " 3  4  3  4  3  4"
      ]
     },
     "execution_count": 545,
     "metadata": {},
     "output_type": "execute_result"
    }
   ],
   "source": [
    "hcat(aaaa, aaaa, aaaa)"
   ]
  },
  {
   "cell_type": "code",
   "execution_count": 602,
   "metadata": {
    "ExecuteTime": {
     "end_time": "2020-12-20T16:17:21.055000+08:00",
     "start_time": "2020-12-20T08:17:21.045Z"
    }
   },
   "outputs": [
    {
     "data": {
      "text/plain": [
       "make_map (generic function with 3 methods)"
      ]
     },
     "execution_count": 602,
     "metadata": {},
     "output_type": "execute_result"
    }
   ],
   "source": [
    "function make_map(top_left_id, all_borders, all_tiles, sq_len)\n",
    "    metas = Matrix{@NamedTuple{id::Int, r::Int, f::Int}}(undef, (sq_len, sq_len))\n",
    "    \n",
    "    next_id, _, _ = whats_right(top_left_id, all_borders, all_tiles)\n",
    "    \n",
    "    o, _ = fit_tile(all_tiles[top_left_id], all_tiles[next_id])\n",
    "    metas[1, 1] = (id = top_left_id, o.r, o.f)\n",
    "    \n",
    "    for i in 2:sq_len\n",
    "        current_id, _, current_f = metas[1, i - 1]\n",
    "        exclusion_ids = getfield.(metas[1, 1:(i - 1)], :id)\n",
    "        metas[1, i] = whats_right(\n",
    "            current_id,\n",
    "            all_borders,\n",
    "            all_tiles;\n",
    "            current_f,\n",
    "            exclusion_ids,\n",
    "        )\n",
    "    end\n",
    "    \n",
    "    for j in 1:sq_len, i in 2:sq_len\n",
    "        current_id, _, current_f = metas[i - 1, j]\n",
    "        current_id\n",
    "        exclusion_ids = getfield.(metas[1:(i - 1), 1:j], :id)\n",
    "        metas[i, j] = whats_down(\n",
    "            current_id,\n",
    "            all_borders,\n",
    "            all_tiles;\n",
    "            current_f,\n",
    "            exclusion_ids,\n",
    "        )\n",
    "    end\n",
    "    \n",
    "    return vcat(\n",
    "        [\n",
    "            hcat(\n",
    "                [\n",
    "                    ((id, r, f) = metas[i, j]; oriented_tile(trim_tile(all_tiles[id]), r, f))\n",
    "                    for j in 1:sq_len\n",
    "                ]...\n",
    "            ) for i in 1:sq_len\n",
    "        ]...\n",
    "    )\n",
    "end"
   ]
  },
  {
   "cell_type": "code",
   "execution_count": 601,
   "metadata": {
    "ExecuteTime": {
     "end_time": "2020-12-20T16:16:53.514000+08:00",
     "start_time": "2020-12-20T08:16:53.435Z"
    }
   },
   "outputs": [
    {
     "data": {
      "text/plain": [
       "trim_tile (generic function with 1 method)"
      ]
     },
     "execution_count": 601,
     "metadata": {},
     "output_type": "execute_result"
    }
   ],
   "source": [
    "function trim_tile(tile)\n",
    "    return tile[2:(end - 1), 2:(end - 1)]\n",
    "end"
   ]
  },
  {
   "cell_type": "code",
   "execution_count": 585,
   "metadata": {
    "ExecuteTime": {
     "end_time": "2020-12-20T16:08:29.649000+08:00",
     "start_time": "2020-12-20T08:08:29.645Z"
    }
   },
   "outputs": [
    {
     "data": {
      "text/plain": [
       "oriented_tile (generic function with 1 method)"
      ]
     },
     "execution_count": 585,
     "metadata": {},
     "output_type": "execute_result"
    }
   ],
   "source": [
    "function oriented_tile(tile, r, f)\n",
    "    for i in 1:r\n",
    "        tile = rotl90(tile)\n",
    "    end\n",
    "    tile = (f == 1) ? tile : reverse(tile, dims = 1)\n",
    "    return tile \n",
    "end"
   ]
  },
  {
   "cell_type": "code",
   "execution_count": 619,
   "metadata": {
    "ExecuteTime": {
     "end_time": "2020-12-20T16:24:29.620000+08:00",
     "start_time": "2020-12-20T08:24:29.618Z"
    }
   },
   "outputs": [
    {
     "data": {
      "text/plain": [
       "has_sea_monster (generic function with 2 methods)"
      ]
     },
     "execution_count": 619,
     "metadata": {},
     "output_type": "execute_result"
    }
   ],
   "source": [
    "function has_sea_monster(map, monster)\n",
    "    return monster == map .* monster\n",
    "end"
   ]
  },
  {
   "cell_type": "code",
   "execution_count": 749,
   "metadata": {
    "ExecuteTime": {
     "end_time": "2020-12-20T17:06:42.832000+08:00",
     "start_time": "2020-12-20T09:06:42.830Z"
    }
   },
   "outputs": [
    {
     "data": {
      "text/plain": [
       "false"
      ]
     },
     "execution_count": 749,
     "metadata": {},
     "output_type": "execute_result"
    }
   ],
   "source": [
    "true ⊻ true"
   ]
  },
  {
   "cell_type": "code",
   "execution_count": 760,
   "metadata": {
    "ExecuteTime": {
     "end_time": "2020-12-20T17:08:32.568000+08:00",
     "start_time": "2020-12-20T09:08:32.485Z"
    }
   },
   "outputs": [
    {
     "data": {
      "text/plain": [
       "make_safe_map (generic function with 1 method)"
      ]
     },
     "execution_count": 760,
     "metadata": {},
     "output_type": "execute_result"
    }
   ],
   "source": [
    "function make_safe_map(map, monster)\n",
    "    result = copy(map)\n",
    "    \n",
    "    x_len_monster = size(monster, 2)\n",
    "    y_len_monster = size(monster, 1)\n",
    "    x_range = size(map, 2) - x_len_monster + 1\n",
    "    y_range = size(map, 1) - y_len_monster + 1\n",
    "    \n",
    "    for x in 1:x_range, y in 1:y_range\n",
    "        map_slice = @view(map[y:(y+y_len_monster-1), x:(x+x_len_monster-1)])\n",
    "        if has_sea_monster(map_slice, monster)\n",
    "            result[y:(y+y_len_monster-1), x:(x+x_len_monster-1)] .⊻= monster\n",
    "        end\n",
    "    end\n",
    "    return result\n",
    "end"
   ]
  },
  {
   "cell_type": "markdown",
   "metadata": {},
   "source": [
    "### answer"
   ]
  },
  {
   "cell_type": "code",
   "execution_count": 654,
   "metadata": {
    "ExecuteTime": {
     "end_time": "2020-12-20T16:36:32.655000+08:00",
     "start_time": "2020-12-20T08:36:32.651Z"
    }
   },
   "outputs": [
    {
     "data": {
      "text/plain": [
       "print_area (generic function with 2 methods)"
      ]
     },
     "execution_count": 654,
     "metadata": {},
     "output_type": "execute_result"
    }
   ],
   "source": [
    "function print_area(area, p=true)\n",
    "    for i in axes(area, 1)\n",
    "        for j in axes(area, 2)\n",
    "            print(area[i, j] ? '#' : '.', ' ')\n",
    "            p && (j % 8 == 0) && print(' ')\n",
    "        end\n",
    "        println()\n",
    "        p && (i % 8 == 0) && println()\n",
    "    end\n",
    "end"
   ]
  },
  {
   "cell_type": "code",
   "execution_count": 783,
   "metadata": {
    "ExecuteTime": {
     "end_time": "2020-12-20T19:44:06.906000+08:00",
     "start_time": "2020-12-20T11:44:06.751Z"
    }
   },
   "outputs": [
    {
     "name": "stdout",
     "output_type": "stream",
     "text": [
      "SubArray{Int64,0,Array{Int64,2},Tuple{Int64,Int64},true}\n",
      "  parent: Array{Int64}((2, 2)) [1 2; 3 4]\n",
      "  indices: Tuple{Int64,Int64}\n",
      "    1: Int64 1\n",
      "    2: Int64 2\n",
      "  offset1: Int64 2\n",
      "  stride1: Int64 1\n"
     ]
    }
   ],
   "source": [
    "dump(@view(@view(aaaa[1:1, 1:2])[1, 2]))"
   ]
  },
  {
   "cell_type": "code",
   "execution_count": 772,
   "metadata": {
    "ExecuteTime": {
     "end_time": "2020-12-20T17:11:17.783000+08:00",
     "start_time": "2020-12-20T09:11:17.776Z"
    }
   },
   "outputs": [
    {
     "data": {
      "text/plain": [
       "show_answer_report (generic function with 3 methods)"
      ]
     },
     "execution_count": 772,
     "metadata": {},
     "output_type": "execute_result"
    }
   ],
   "source": [
    "function show_answer_report(data, lens, ::Val{:part2})\n",
    "    all_borders = get_all_borders(data)\n",
    "    d = unmatched_borders.(keys(data), Ref(all_borders))\n",
    "    corner_ids = [id for (id, ubs) in d if length(ubs) == 4]\n",
    "    top_left_corner_id = corner_ids[1]\n",
    "    map = make_map(top_left_corner_id, all_borders, data, lens)\n",
    "    \n",
    "#     print_area(map)\n",
    "    \n",
    "    # using the fact that only 1 orientation has sea monster\n",
    "    for (r, f) in orientations\n",
    "        safe_map = make_safe_map(map, oriented_tile(monster, r, f))\n",
    "#         print_area(safe_map)\n",
    "        \n",
    "        if safe_map != map\n",
    "        @show count(safe_map)\n",
    "        end\n",
    "    end\n",
    "#     m = reverse(monster, dims=1)\n",
    "#     print_area(m, false)\n",
    "    \n",
    "#     println()\n",
    "    \n",
    "#     map_slice = @view(map[6:8, 2:21])\n",
    "#     print_area(map_slice, false)\n",
    "    \n",
    "    \n",
    "#     @show has_sea_monster(map_slice, m)\n",
    "\n",
    "\n",
    "#     mark_sea_monster(map, reverse(monster, dims=1), [])\n",
    "    \n",
    "    @info \"Answer found.\" answer=1\n",
    "end"
   ]
  },
  {
   "cell_type": "code",
   "execution_count": 773,
   "metadata": {
    "ExecuteTime": {
     "end_time": "2020-12-20T17:11:18.914000+08:00",
     "start_time": "2020-12-20T09:11:18.826Z"
    }
   },
   "outputs": [
    {
     "name": "stdout",
     "output_type": "stream",
     "text": [
      "count(safe_map) = 273\n"
     ]
    },
    {
     "name": "stderr",
     "output_type": "stream",
     "text": [
      "┌ Info: Answer found.\n",
      "│   answer = 1\n",
      "└ @ Main In[772]:33\n"
     ]
    }
   ],
   "source": [
    "show_answer_report(input_sample_1, 3, Val(:part2))"
   ]
  },
  {
   "cell_type": "code",
   "execution_count": 774,
   "metadata": {
    "ExecuteTime": {
     "end_time": "2020-12-20T17:12:12.773000+08:00",
     "start_time": "2020-12-20T09:12:12.553Z"
    },
    "scrolled": true
   },
   "outputs": [
    {
     "name": "stdout",
     "output_type": "stream",
     "text": [
      "count(safe_map) = 1993\n"
     ]
    },
    {
     "name": "stderr",
     "output_type": "stream",
     "text": [
      "┌ Info: Answer found.\n",
      "│   answer = 1\n",
      "└ @ Main In[772]:33\n"
     ]
    }
   ],
   "source": [
    "show_answer_report(input_puzzle, 12, Val(:part2))"
   ]
  }
 ],
 "metadata": {
  "@webio": {
   "lastCommId": null,
   "lastKernelId": null
  },
  "kernelspec": {
   "display_name": "Julia 1.5.3",
   "language": "julia",
   "name": "julia-1.5"
  },
  "language_info": {
   "file_extension": ".jl",
   "mimetype": "application/julia",
   "name": "julia",
   "version": "1.5.3"
  },
  "latex_envs": {
   "LaTeX_envs_menu_present": true,
   "autoclose": false,
   "autocomplete": true,
   "bibliofile": "biblio.bib",
   "cite_by": "apalike",
   "current_citInitial": 1,
   "eqLabelWithNumbers": true,
   "eqNumInitial": 1,
   "hotkeys": {
    "equation": "Ctrl-E",
    "itemize": "Ctrl-I"
   },
   "labels_anchors": false,
   "latex_user_defs": false,
   "report_style_numbering": false,
   "user_envs_cfg": false
  },
  "toc": {
   "base_numbering": 1,
   "nav_menu": {},
   "number_sections": true,
   "sideBar": true,
   "skip_h1_title": true,
   "title_cell": "Table of Contents",
   "title_sidebar": "Contents",
   "toc_cell": true,
   "toc_position": {},
   "toc_section_display": true,
   "toc_window_display": false
  }
 },
 "nbformat": 4,
 "nbformat_minor": 4
}
