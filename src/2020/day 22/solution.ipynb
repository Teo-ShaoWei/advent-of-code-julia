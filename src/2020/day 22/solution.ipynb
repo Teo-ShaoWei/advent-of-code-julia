{
 "cells": [
  {
   "cell_type": "markdown",
   "metadata": {},
   "source": [
    "# Advent of Code 2020 Day 22\n",
    "[link](https://adventofcode.com/2020/day/22)"
   ]
  },
  {
   "cell_type": "markdown",
   "metadata": {
    "toc": true
   },
   "source": [
    "<h1>Table of Contents<span class=\"tocSkip\"></span></h1>\n",
    "<div class=\"toc\"><ul class=\"toc-item\"><li><span><a href=\"#read-input\" data-toc-modified-id=\"read-input-1\"><span class=\"toc-item-num\">1&nbsp;&nbsp;</span>read input</a></span></li><li><span><a href=\"#part-1\" data-toc-modified-id=\"part-1-2\"><span class=\"toc-item-num\">2&nbsp;&nbsp;</span>part 1</a></span><ul class=\"toc-item\"><li><span><a href=\"#answer\" data-toc-modified-id=\"answer-2.1\"><span class=\"toc-item-num\">2.1&nbsp;&nbsp;</span>answer</a></span></li></ul></li><li><span><a href=\"#part-2\" data-toc-modified-id=\"part-2-3\"><span class=\"toc-item-num\">3&nbsp;&nbsp;</span>part 2</a></span><ul class=\"toc-item\"><li><span><a href=\"#answer\" data-toc-modified-id=\"answer-3.1\"><span class=\"toc-item-num\">3.1&nbsp;&nbsp;</span>answer</a></span></li></ul></li></ul></div>"
   ]
  },
  {
   "cell_type": "code",
   "execution_count": 1,
   "metadata": {
    "ExecuteTime": {
     "end_time": "2020-12-22T14:33:32.169000+08:00",
     "start_time": "2020-12-22T06:33:28.613Z"
    }
   },
   "outputs": [],
   "source": [
    "using Lazy"
   ]
  },
  {
   "cell_type": "markdown",
   "metadata": {},
   "source": [
    "## read input"
   ]
  },
  {
   "cell_type": "code",
   "execution_count": 33,
   "metadata": {
    "ExecuteTime": {
     "end_time": "2020-12-22T14:40:28.540000+08:00",
     "start_time": "2020-12-22T06:40:28.536Z"
    }
   },
   "outputs": [
    {
     "data": {
      "text/plain": [
       "parse_input (generic function with 1 method)"
      ]
     },
     "execution_count": 33,
     "metadata": {},
     "output_type": "execute_result"
    }
   ],
   "source": [
    "function parse_input(filename)\n",
    "    p1, p2 = @> read(filename, String) split(\"\\n\\n\") split.(\"\\n\")\n",
    "    return (p1 = parse.(Int, p1[2:end]), p2 = parse.(Int, p2[2:end]))\n",
    "end"
   ]
  },
  {
   "cell_type": "code",
   "execution_count": 53,
   "metadata": {
    "ExecuteTime": {
     "end_time": "2020-12-22T14:57:42.049000+08:00",
     "start_time": "2020-12-22T06:57:42.030Z"
    }
   },
   "outputs": [
    {
     "data": {
      "text/plain": [
       "1-element Array{Array{Array{String,1},1},1}:\n",
       " [[\"Player 1:\", \"9\", \"2\", \"6\", \"3\", \"1\", \"\", \"Player 2:\", \"5\", \"8\", \"4\", \"7\", \"10\"]]"
      ]
     },
     "execution_count": 53,
     "metadata": {},
     "output_type": "execute_result"
    }
   ],
   "source": [
    "@_ readlines(\"input_sample_1.txt\") |> split(__, \"\\n\\n\") |> split.(__, \"\\n\")"
   ]
  },
  {
   "cell_type": "code",
   "execution_count": 34,
   "metadata": {
    "ExecuteTime": {
     "end_time": "2020-12-22T14:40:29.256000+08:00",
     "start_time": "2020-12-22T06:40:29.212Z"
    }
   },
   "outputs": [
    {
     "data": {
      "text/plain": [
       "(p1 = [9, 2, 6, 3, 1], p2 = [5, 8, 4, 7, 10])"
      ]
     },
     "execution_count": 34,
     "metadata": {},
     "output_type": "execute_result"
    }
   ],
   "source": [
    "input_sample_1 = parse_input(\"input_sample_1.txt\")"
   ]
  },
  {
   "cell_type": "code",
   "execution_count": 4,
   "metadata": {
    "ExecuteTime": {
     "end_time": "2020-12-22T14:33:35.950000+08:00",
     "start_time": "2020-12-22T06:33:35.948Z"
    },
    "scrolled": true
   },
   "outputs": [
    {
     "data": {
      "text/plain": [
       "(p1 = [43, 19], p2 = [2, 29, 14])"
      ]
     },
     "execution_count": 4,
     "metadata": {},
     "output_type": "execute_result"
    }
   ],
   "source": [
    "input_sample_2 = parse_input(\"input_sample_2.txt\")"
   ]
  },
  {
   "cell_type": "code",
   "execution_count": 5,
   "metadata": {
    "ExecuteTime": {
     "end_time": "2020-12-22T14:33:36.642000+08:00",
     "start_time": "2020-12-22T06:33:36.639Z"
    },
    "scrolled": false
   },
   "outputs": [
    {
     "data": {
      "text/plain": [
       "(p1 = [30, 42, 25, 7, 29, 1, 16, 50, 11, 40  …  20, 32, 38, 31, 2, 44, 28, 33, 18, 10], p2 = [36, 13, 46, 15, 27, 45, 5, 19, 39, 24  …  47, 43, 21, 6, 35, 23, 48, 34, 26, 49])"
      ]
     },
     "execution_count": 5,
     "metadata": {},
     "output_type": "execute_result"
    }
   ],
   "source": [
    "input_puzzle = parse_input(\"input_puzzle.txt\")"
   ]
  },
  {
   "cell_type": "code",
   "execution_count": 6,
   "metadata": {
    "ExecuteTime": {
     "end_time": "2020-12-22T14:33:39.513000+08:00",
     "start_time": "2020-12-22T06:33:39.511Z"
    }
   },
   "outputs": [
    {
     "data": {
      "text/plain": [
       "(p1 = [9, 2, 6, 3, 1], p2 = [5, 8, 4, 7, 10])"
      ]
     },
     "execution_count": 6,
     "metadata": {},
     "output_type": "execute_result"
    }
   ],
   "source": [
    "data = input_sample_1"
   ]
  },
  {
   "cell_type": "markdown",
   "metadata": {},
   "source": [
    "## part 1"
   ]
  },
  {
   "cell_type": "code",
   "execution_count": 7,
   "metadata": {
    "ExecuteTime": {
     "end_time": "2020-12-22T14:33:40.647000+08:00",
     "start_time": "2020-12-22T06:33:40.576Z"
    }
   },
   "outputs": [
    {
     "data": {
      "text/plain": [
       "p1_normal_win (generic function with 1 method)"
      ]
     },
     "execution_count": 7,
     "metadata": {},
     "output_type": "execute_result"
    }
   ],
   "source": [
    "p1_normal_win(decks, self) = decks.p1[1] > decks.p2[1]"
   ]
  },
  {
   "cell_type": "code",
   "execution_count": 8,
   "metadata": {
    "ExecuteTime": {
     "end_time": "2020-12-22T14:33:41.412000+08:00",
     "start_time": "2020-12-22T06:33:41.339Z"
    }
   },
   "outputs": [
    {
     "data": {
      "text/plain": [
       "tail_cards (generic function with 2 methods)"
      ]
     },
     "execution_count": 8,
     "metadata": {},
     "output_type": "execute_result"
    }
   ],
   "source": [
    "tail_cards(deck, n=length(deck)) = deck[2:n]"
   ]
  },
  {
   "cell_type": "code",
   "execution_count": 9,
   "metadata": {
    "ExecuteTime": {
     "end_time": "2020-12-22T14:33:42.956000+08:00",
     "start_time": "2020-12-22T06:33:42.876Z"
    },
    "code_folding": []
   },
   "outputs": [
    {
     "data": {
      "text/plain": [
       "next (generic function with 1 method)"
      ]
     },
     "execution_count": 9,
     "metadata": {},
     "output_type": "execute_result"
    }
   ],
   "source": [
    "function next(decks, p1_win_func)\n",
    "    if p1_win_func(decks, p1_win_func)\n",
    "        return (\n",
    "            p1 = [tail_cards(decks.p1); decks.p1[1]; decks.p2[1]],\n",
    "            p2 = tail_cards(decks.p2),\n",
    "        )\n",
    "    else\n",
    "        return (\n",
    "            p1 = tail_cards(decks.p1),\n",
    "            p2 = [tail_cards(decks.p2); decks.p2[1]; decks.p1[1]],\n",
    "        )\n",
    "    end\n",
    "end"
   ]
  },
  {
   "cell_type": "code",
   "execution_count": 124,
   "metadata": {
    "ExecuteTime": {
     "end_time": "2020-12-22T21:34:22.670000+08:00",
     "start_time": "2020-12-22T13:34:22.663Z"
    }
   },
   "outputs": [
    {
     "data": {
      "text/plain": [
       "complete_game (generic function with 1 method)"
      ]
     },
     "execution_count": 124,
     "metadata": {},
     "output_type": "execute_result"
    }
   ],
   "source": [
    "function complete_game(decks, p1_win_func)\n",
    "    seen_deckss = Set([decks])\n",
    "    \n",
    "    for i in Iterators.countfrom(2)\n",
    "        isempty(decks.p2) && return (p1_won = true, winning_deck = decks.p1)\n",
    "        isempty(decks.p1) && return (p1_won = false, winning_deck = decks.p2)\n",
    "        \n",
    "        decks = next(decks, p1_win_func)\n",
    "        push!(seen_deckss, decks)\n",
    "        (length(seen_deckss) != i) && return (p1_won = true, winning_deck = decks.p1)\n",
    "    end\n",
    "end"
   ]
  },
  {
   "cell_type": "code",
   "execution_count": 16,
   "metadata": {
    "ExecuteTime": {
     "end_time": "2020-12-22T14:34:07.018000+08:00",
     "start_time": "2020-12-22T06:34:07.015Z"
    }
   },
   "outputs": [
    {
     "data": {
      "text/plain": [
       "score (generic function with 1 method)"
      ]
     },
     "execution_count": 16,
     "metadata": {},
     "output_type": "execute_result"
    }
   ],
   "source": [
    "score(winning_deck) = sum(i * winning_deck[end - i + 1] for i in 1:length(winning_deck))"
   ]
  },
  {
   "cell_type": "markdown",
   "metadata": {},
   "source": [
    "### answer"
   ]
  },
  {
   "cell_type": "code",
   "execution_count": 14,
   "metadata": {
    "ExecuteTime": {
     "end_time": "2020-12-22T14:33:55.831000+08:00",
     "start_time": "2020-12-22T06:33:55.827Z"
    }
   },
   "outputs": [
    {
     "data": {
      "text/plain": [
       "show_answer_report (generic function with 1 method)"
      ]
     },
     "execution_count": 14,
     "metadata": {},
     "output_type": "execute_result"
    }
   ],
   "source": [
    "function show_answer_report(data, ::Val{:part1})\n",
    "    result = complete_game(data, p1_normal_win)\n",
    "    @info \"Answer found.\" answer=score(result.winning_deck)\n",
    "    return\n",
    "end"
   ]
  },
  {
   "cell_type": "code",
   "execution_count": 118,
   "metadata": {
    "ExecuteTime": {
     "end_time": "2020-12-22T21:33:13.722000+08:00",
     "start_time": "2020-12-22T13:33:13.686Z"
    },
    "scrolled": true
   },
   "outputs": [
    {
     "name": "stderr",
     "output_type": "stream",
     "text": [
      "┌ Info: Answer found.\n",
      "│   answer = 306\n",
      "└ @ Main In[14]:3\n"
     ]
    }
   ],
   "source": [
    "show_answer_report(input_sample_1, Val(:part1))"
   ]
  },
  {
   "cell_type": "code",
   "execution_count": 119,
   "metadata": {
    "ExecuteTime": {
     "end_time": "2020-12-22T21:33:14.879000+08:00",
     "start_time": "2020-12-22T13:33:14.875Z"
    },
    "scrolled": true
   },
   "outputs": [
    {
     "name": "stderr",
     "output_type": "stream",
     "text": [
      "┌ Info: Answer found.\n",
      "│   answer = 35818\n",
      "└ @ Main In[14]:3\n"
     ]
    }
   ],
   "source": [
    "show_answer_report(input_puzzle, Val(:part1))"
   ]
  },
  {
   "cell_type": "markdown",
   "metadata": {},
   "source": [
    "## part 2"
   ]
  },
  {
   "cell_type": "code",
   "execution_count": 22,
   "metadata": {
    "ExecuteTime": {
     "end_time": "2020-12-22T14:35:15.965000+08:00",
     "start_time": "2020-12-22T06:35:15.962Z"
    }
   },
   "outputs": [
    {
     "data": {
      "text/plain": [
       "p1_recur_win (generic function with 1 method)"
      ]
     },
     "execution_count": 22,
     "metadata": {},
     "output_type": "execute_result"
    }
   ],
   "source": [
    "function p1_recur_win(decks, self)\n",
    "    if decks.p1[1] < length(decks.p1) && decks.p2[1] < length(decks.p2)\n",
    "        return complete_game(\n",
    "            (\n",
    "                p1 = decks.p1[2:(decks.p1[1] + 1)],\n",
    "                p2 = decks.p2[2:(decks.p2[1] + 1)],\n",
    "            ),\n",
    "            self,\n",
    "        ).p1_won\n",
    "    else\n",
    "        return p1_normal_win(decks, self)\n",
    "    end\n",
    "end"
   ]
  },
  {
   "cell_type": "markdown",
   "metadata": {},
   "source": [
    "### answer"
   ]
  },
  {
   "cell_type": "code",
   "execution_count": 23,
   "metadata": {
    "ExecuteTime": {
     "end_time": "2020-12-22T14:35:22.407000+08:00",
     "start_time": "2020-12-22T06:35:22.404Z"
    }
   },
   "outputs": [
    {
     "data": {
      "text/plain": [
       "show_answer_report (generic function with 2 methods)"
      ]
     },
     "execution_count": 23,
     "metadata": {},
     "output_type": "execute_result"
    }
   ],
   "source": [
    "function show_answer_report(data, ::Val{:part2})\n",
    "    result = complete_game(data, p1_recur_win)\n",
    "    @info \"Answer found.\" answer=score(result.winning_deck)\n",
    "    return\n",
    "end"
   ]
  },
  {
   "cell_type": "code",
   "execution_count": 121,
   "metadata": {
    "ExecuteTime": {
     "end_time": "2020-12-22T21:33:26.552000+08:00",
     "start_time": "2020-12-22T13:33:26.472Z"
    },
    "scrolled": false
   },
   "outputs": [
    {
     "name": "stderr",
     "output_type": "stream",
     "text": [
      "┌ Info: Answer found.\n",
      "│   answer = 291\n",
      "└ @ Main In[23]:3\n"
     ]
    }
   ],
   "source": [
    "show_answer_report(input_sample_1, Val(:part2))"
   ]
  },
  {
   "cell_type": "code",
   "execution_count": 126,
   "metadata": {
    "ExecuteTime": {
     "end_time": "2020-12-22T21:34:28.115000+08:00",
     "start_time": "2020-12-22T13:34:28.113Z"
    },
    "scrolled": false
   },
   "outputs": [
    {
     "name": "stderr",
     "output_type": "stream",
     "text": [
      "┌ Info: Answer found.\n",
      "│   answer = 105\n",
      "└ @ Main In[23]:3\n"
     ]
    }
   ],
   "source": [
    "show_answer_report(input_sample_2, Val(:part2))"
   ]
  },
  {
   "cell_type": "code",
   "execution_count": 128,
   "metadata": {
    "ExecuteTime": {
     "end_time": "2020-12-22T21:34:47.986000+08:00",
     "start_time": "2020-12-22T13:34:42.326Z"
    },
    "scrolled": true
   },
   "outputs": [
    {
     "name": "stderr",
     "output_type": "stream",
     "text": [
      "┌ Info: Answer found.\n",
      "│   answer = 34771\n",
      "└ @ Main In[23]:3\n"
     ]
    }
   ],
   "source": [
    "show_answer_report(input_puzzle, Val(:part2))"
   ]
  }
 ],
 "metadata": {
  "@webio": {
   "lastCommId": null,
   "lastKernelId": null
  },
  "kernelspec": {
   "display_name": "Julia 1.5.3",
   "language": "julia",
   "name": "julia-1.5"
  },
  "language_info": {
   "file_extension": ".jl",
   "mimetype": "application/julia",
   "name": "julia",
   "version": "1.5.3"
  },
  "latex_envs": {
   "LaTeX_envs_menu_present": true,
   "autoclose": false,
   "autocomplete": true,
   "bibliofile": "biblio.bib",
   "cite_by": "apalike",
   "current_citInitial": 1,
   "eqLabelWithNumbers": true,
   "eqNumInitial": 1,
   "hotkeys": {
    "equation": "Ctrl-E",
    "itemize": "Ctrl-I"
   },
   "labels_anchors": false,
   "latex_user_defs": false,
   "report_style_numbering": false,
   "user_envs_cfg": false
  },
  "toc": {
   "base_numbering": 1,
   "nav_menu": {},
   "number_sections": true,
   "sideBar": true,
   "skip_h1_title": true,
   "title_cell": "Table of Contents",
   "title_sidebar": "Contents",
   "toc_cell": true,
   "toc_position": {},
   "toc_section_display": true,
   "toc_window_display": false
  }
 },
 "nbformat": 4,
 "nbformat_minor": 4
}
