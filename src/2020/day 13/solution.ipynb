{
 "cells": [
  {
   "cell_type": "markdown",
   "metadata": {},
   "source": [
    "# Advent of Code 2020 Day 13\n",
    "[link](https://adventofcode.com/2020/day/13)"
   ]
  },
  {
   "cell_type": "markdown",
   "metadata": {
    "toc": true
   },
   "source": [
    "<h1>Table of Contents<span class=\"tocSkip\"></span></h1>\n",
    "<div class=\"toc\"><ul class=\"toc-item\"><li><span><a href=\"#read-input\" data-toc-modified-id=\"read-input-1\"><span class=\"toc-item-num\">1&nbsp;&nbsp;</span>read input</a></span></li><li><span><a href=\"#part-1\" data-toc-modified-id=\"part-1-2\"><span class=\"toc-item-num\">2&nbsp;&nbsp;</span>part 1</a></span><ul class=\"toc-item\"><li><span><a href=\"#answer\" data-toc-modified-id=\"answer-2.1\"><span class=\"toc-item-num\">2.1&nbsp;&nbsp;</span>answer</a></span></li></ul></li><li><span><a href=\"#part-2\" data-toc-modified-id=\"part-2-3\"><span class=\"toc-item-num\">3&nbsp;&nbsp;</span>part 2</a></span><ul class=\"toc-item\"><li><span><a href=\"#solution-1\" data-toc-modified-id=\"solution-1-3.1\"><span class=\"toc-item-num\">3.1&nbsp;&nbsp;</span>solution 1</a></span></li><li><span><a href=\"#solution-2\" data-toc-modified-id=\"solution-2-3.2\"><span class=\"toc-item-num\">3.2&nbsp;&nbsp;</span>solution 2</a></span></li><li><span><a href=\"#answer\" data-toc-modified-id=\"answer-3.3\"><span class=\"toc-item-num\">3.3&nbsp;&nbsp;</span>answer</a></span></li></ul></li></ul></div>"
   ]
  },
  {
   "cell_type": "markdown",
   "metadata": {},
   "source": [
    "## read input"
   ]
  },
  {
   "cell_type": "markdown",
   "metadata": {},
   "source": [
    "This problem benefits if we ignore the x but remember the original index of the non-x. This lossless cleaning resulted in a cleaner more useful data."
   ]
  },
  {
   "cell_type": "code",
   "execution_count": 1,
   "metadata": {
    "ExecuteTime": {
     "end_time": "2020-12-13T15:06:45.258000+08:00",
     "start_time": "2020-12-13T07:06:44.270Z"
    }
   },
   "outputs": [
    {
     "data": {
      "text/plain": [
       "parse_input (generic function with 1 method)"
      ]
     },
     "execution_count": 1,
     "metadata": {},
     "output_type": "execute_result"
    }
   ],
   "source": [
    "function parse_input(filename)\n",
    "    lines = readlines(filename)\n",
    "    earliest_depart_time = parse(Int, lines[1])\n",
    "    buses_string = split(lines[2], ',')\n",
    "    positions = findall(!=(\"x\"), buses_string)\n",
    "    buses = parse.(Int, buses_string[positions])\n",
    "    return (; earliest_depart_time, positions, buses)\n",
    "end"
   ]
  },
  {
   "cell_type": "code",
   "execution_count": 2,
   "metadata": {
    "ExecuteTime": {
     "end_time": "2020-12-13T15:06:45.871000+08:00",
     "start_time": "2020-12-13T07:06:44.611Z"
    }
   },
   "outputs": [
    {
     "data": {
      "text/plain": [
       "(earliest_depart_time = 939, positions = [1, 2, 5, 7, 8], buses = [7, 13, 59, 31, 19])"
      ]
     },
     "execution_count": 2,
     "metadata": {},
     "output_type": "execute_result"
    }
   ],
   "source": [
    "input_sample_1 = parse_input(\"input_sample_1.txt\")"
   ]
  },
  {
   "cell_type": "code",
   "execution_count": 3,
   "metadata": {
    "ExecuteTime": {
     "end_time": "2020-12-13T15:06:45.872000+08:00",
     "start_time": "2020-12-13T07:06:44.949Z"
    },
    "scrolled": true
   },
   "outputs": [
    {
     "data": {
      "text/plain": [
       "(earliest_depart_time = 1000511, positions = [1, 24, 30, 47, 48, 49, 53, 61, 102], buses = [29, 37, 409, 17, 13, 19, 23, 353, 41])"
      ]
     },
     "execution_count": 3,
     "metadata": {},
     "output_type": "execute_result"
    }
   ],
   "source": [
    "input_puzzle = parse_input(\"input_puzzle.txt\")"
   ]
  },
  {
   "cell_type": "markdown",
   "metadata": {},
   "source": [
    "## part 1"
   ]
  },
  {
   "cell_type": "code",
   "execution_count": 4,
   "metadata": {
    "ExecuteTime": {
     "end_time": "2020-12-13T15:06:47.372000+08:00",
     "start_time": "2020-12-13T07:06:47.301Z"
    }
   },
   "outputs": [
    {
     "data": {
      "text/plain": [
       "depart (generic function with 1 method)"
      ]
     },
     "execution_count": 4,
     "metadata": {},
     "output_type": "execute_result"
    }
   ],
   "source": [
    "function depart(earliest_depart_time, buses)    \n",
    "    wait_times = buses .- rem.(earliest_depart_time, buses)\n",
    "    i = argmin(wait_times)\n",
    "    return (t = wait_times[i], bus = buses[i])\n",
    "end"
   ]
  },
  {
   "cell_type": "markdown",
   "metadata": {},
   "source": [
    "### answer"
   ]
  },
  {
   "cell_type": "code",
   "execution_count": 5,
   "metadata": {
    "ExecuteTime": {
     "end_time": "2020-12-13T15:06:48.013000+08:00",
     "start_time": "2020-12-13T07:06:47.939Z"
    }
   },
   "outputs": [
    {
     "data": {
      "text/plain": [
       "show_answer_report (generic function with 1 method)"
      ]
     },
     "execution_count": 5,
     "metadata": {},
     "output_type": "execute_result"
    }
   ],
   "source": [
    "function show_answer_report(input, ::Val{:part1})\n",
    "    t, bus = depart(input.earliest_depart_time, input.buses)\n",
    "    @info \"Answer found.\" answer= t * bus\n",
    "    return\n",
    "end"
   ]
  },
  {
   "cell_type": "code",
   "execution_count": 6,
   "metadata": {
    "ExecuteTime": {
     "end_time": "2020-12-13T15:06:48.492000+08:00",
     "start_time": "2020-12-13T07:06:48.229Z"
    },
    "scrolled": true
   },
   "outputs": [
    {
     "name": "stderr",
     "output_type": "stream",
     "text": [
      "┌ Info: Answer found.\n",
      "│   answer = 295\n",
      "└ @ Main In[5]:3\n"
     ]
    }
   ],
   "source": [
    "show_answer_report(input_sample_1, Val(:part1))"
   ]
  },
  {
   "cell_type": "code",
   "execution_count": 7,
   "metadata": {
    "ExecuteTime": {
     "end_time": "2020-12-13T15:06:48.590000+08:00",
     "start_time": "2020-12-13T07:06:48.588Z"
    },
    "scrolled": false
   },
   "outputs": [
    {
     "name": "stderr",
     "output_type": "stream",
     "text": [
      "┌ Info: Answer found.\n",
      "│   answer = 222\n",
      "└ @ Main In[5]:3\n"
     ]
    }
   ],
   "source": [
    "show_answer_report(input_puzzle, Val(:part1))"
   ]
  },
  {
   "cell_type": "markdown",
   "metadata": {},
   "source": [
    "## part 2"
   ]
  },
  {
   "cell_type": "markdown",
   "metadata": {},
   "source": [
    "### solution 1\n",
    "\n",
    "This smells of Chinese Remainder Theorem. I could implement it myself (which is as below), or use `CRT` in `Mods.jl`."
   ]
  },
  {
   "cell_type": "code",
   "execution_count": 16,
   "metadata": {
    "ExecuteTime": {
     "end_time": "2020-12-13T15:08:16.056000+08:00",
     "start_time": "2020-12-13T07:08:16.053Z"
    }
   },
   "outputs": [
    {
     "data": {
      "text/plain": [
       "chinese_remainder_theorem"
      ]
     },
     "execution_count": 16,
     "metadata": {},
     "output_type": "execute_result"
    }
   ],
   "source": [
    "\"\"\"\n",
    "Get the value `x` such that `x ≡ a[i] mod n[i]` for each index `i` in `congruent_pairs.\n",
    "\"\"\"\n",
    "function chinese_remainder_theorem(a, n)\n",
    "    a, n\n",
    "    N = prod(n)\n",
    "    y = N .÷ n\n",
    "    z = invmod.(y, n)\n",
    "    x = sum(a .* y .* z)\n",
    "\n",
    "    return mod(x, N)\n",
    "end"
   ]
  },
  {
   "cell_type": "markdown",
   "metadata": {},
   "source": [
    "### solution 2\n",
    "\n",
    "We deliberately implement a solution without Chinese Remainder Theorem to prove that it is possible. In the event that the size is too big, we should use `BigInt` instead of `Int`, but the Advent of Code input is very contained so it's fine."
   ]
  },
  {
   "cell_type": "code",
   "execution_count": 19,
   "metadata": {
    "ExecuteTime": {
     "end_time": "2020-12-13T15:08:28.552000+08:00",
     "start_time": "2020-12-13T07:08:28.479Z"
    }
   },
   "outputs": [
    {
     "data": {
      "text/plain": [
       "get_timestamp (generic function with 1 method)"
      ]
     },
     "execution_count": 19,
     "metadata": {},
     "output_type": "execute_result"
    }
   ],
   "source": [
    "function get_timestamp(time_lefts::Vector{Int}, buses::Vector{Int})\n",
    "    t = 0\n",
    "    N = 1\n",
    "\n",
    "    for i in 1:length(time_lefts)\n",
    "        while true\n",
    "            t += N\n",
    "            (mod(t - time_lefts[i], buses[i]) == 0) && break\n",
    "        end\n",
    "        N *= buses[i]\n",
    "    end\n",
    "    \n",
    "    return mod(t, N)\n",
    "end"
   ]
  },
  {
   "cell_type": "code",
   "execution_count": 20,
   "metadata": {
    "ExecuteTime": {
     "end_time": "2020-12-13T15:08:29.756000+08:00",
     "start_time": "2020-12-13T07:08:29.753Z"
    }
   },
   "outputs": [
    {
     "data": {
      "text/plain": [
       "get_earliest_depart_time (generic function with 1 method)"
      ]
     },
     "execution_count": 20,
     "metadata": {},
     "output_type": "execute_result"
    }
   ],
   "source": [
    "function get_earliest_depart_time(positions, buses)\n",
    "    time_lefts = buses .- positions .+ 1\n",
    "    return get_timestamp(time_lefts, buses)\n",
    "    # alternatively, use chinese_remainder_theorem(time_Lefts, valid_buses) instead\n",
    "end"
   ]
  },
  {
   "cell_type": "markdown",
   "metadata": {},
   "source": [
    "### answer"
   ]
  },
  {
   "cell_type": "code",
   "execution_count": 13,
   "metadata": {
    "ExecuteTime": {
     "end_time": "2020-12-13T15:07:57.306000+08:00",
     "start_time": "2020-12-13T07:07:57.302Z"
    }
   },
   "outputs": [
    {
     "data": {
      "text/plain": [
       "show_answer_report (generic function with 2 methods)"
      ]
     },
     "execution_count": 13,
     "metadata": {},
     "output_type": "execute_result"
    }
   ],
   "source": [
    "function show_answer_report(input, ::Val{:part2})\n",
    "    @info \"Answer found.\" answer=get_earliest_depart_time(input.positions, input.buses)\n",
    "    return\n",
    "end"
   ]
  },
  {
   "cell_type": "code",
   "execution_count": 21,
   "metadata": {
    "ExecuteTime": {
     "end_time": "2020-12-13T15:08:32.009000+08:00",
     "start_time": "2020-12-13T07:08:31.916Z"
    },
    "scrolled": true
   },
   "outputs": [
    {
     "name": "stderr",
     "output_type": "stream",
     "text": [
      "┌ Info: Answer found.\n",
      "│   answer = 1068781\n",
      "└ @ Main In[13]:2\n"
     ]
    }
   ],
   "source": [
    "show_answer_report(input_sample_1, Val(:part2))"
   ]
  },
  {
   "cell_type": "code",
   "execution_count": 22,
   "metadata": {
    "ExecuteTime": {
     "end_time": "2020-12-13T15:08:32.906000+08:00",
     "start_time": "2020-12-13T07:08:32.904Z"
    },
    "scrolled": true
   },
   "outputs": [
    {
     "name": "stderr",
     "output_type": "stream",
     "text": [
      "┌ Info: Answer found.\n",
      "│   answer = 408270049879073\n",
      "└ @ Main In[13]:2\n"
     ]
    }
   ],
   "source": [
    "show_answer_report(input_puzzle, Val(:part2))"
   ]
  }
 ],
 "metadata": {
  "@webio": {
   "lastCommId": null,
   "lastKernelId": null
  },
  "kernelspec": {
   "display_name": "Julia 1.5.3",
   "language": "julia",
   "name": "julia-1.5"
  },
  "language_info": {
   "file_extension": ".jl",
   "mimetype": "application/julia",
   "name": "julia",
   "version": "1.5.3"
  },
  "latex_envs": {
   "LaTeX_envs_menu_present": true,
   "autoclose": false,
   "autocomplete": true,
   "bibliofile": "biblio.bib",
   "cite_by": "apalike",
   "current_citInitial": 1,
   "eqLabelWithNumbers": true,
   "eqNumInitial": 1,
   "hotkeys": {
    "equation": "Ctrl-E",
    "itemize": "Ctrl-I"
   },
   "labels_anchors": false,
   "latex_user_defs": false,
   "report_style_numbering": false,
   "user_envs_cfg": false
  },
  "toc": {
   "base_numbering": 1,
   "nav_menu": {},
   "number_sections": true,
   "sideBar": true,
   "skip_h1_title": true,
   "title_cell": "Table of Contents",
   "title_sidebar": "Contents",
   "toc_cell": true,
   "toc_position": {},
   "toc_section_display": true,
   "toc_window_display": false
  }
 },
 "nbformat": 4,
 "nbformat_minor": 4
}
