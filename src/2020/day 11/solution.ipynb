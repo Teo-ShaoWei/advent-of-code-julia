{
 "cells": [
  {
   "cell_type": "markdown",
   "metadata": {},
   "source": [
    "# Advent of Code 2020 Day 11\n",
    "[link](https://adventofcode.com/2020/day/11)"
   ]
  },
  {
   "cell_type": "markdown",
   "metadata": {
    "toc": true
   },
   "source": [
    "<h1>Table of Contents<span class=\"tocSkip\"></span></h1>\n",
    "<div class=\"toc\"><ul class=\"toc-item\"><li><span><a href=\"#dependencies\" data-toc-modified-id=\"dependencies-1\"><span class=\"toc-item-num\">1&nbsp;&nbsp;</span>dependencies</a></span></li><li><span><a href=\"#read-input\" data-toc-modified-id=\"read-input-2\"><span class=\"toc-item-num\">2&nbsp;&nbsp;</span>read input</a></span></li><li><span><a href=\"#part-1\" data-toc-modified-id=\"part-1-3\"><span class=\"toc-item-num\">3&nbsp;&nbsp;</span>part 1</a></span><ul class=\"toc-item\"><li><span><a href=\"#answer\" data-toc-modified-id=\"answer-3.1\"><span class=\"toc-item-num\">3.1&nbsp;&nbsp;</span>answer</a></span></li></ul></li><li><span><a href=\"#part-2\" data-toc-modified-id=\"part-2-4\"><span class=\"toc-item-num\">4&nbsp;&nbsp;</span>part 2</a></span><ul class=\"toc-item\"><li><span><a href=\"#answer\" data-toc-modified-id=\"answer-4.1\"><span class=\"toc-item-num\">4.1&nbsp;&nbsp;</span>answer</a></span></li></ul></li></ul></div>"
   ]
  },
  {
   "cell_type": "markdown",
   "metadata": {},
   "source": [
    "## dependencies"
   ]
  },
  {
   "cell_type": "markdown",
   "metadata": {},
   "source": [
    "## read input"
   ]
  },
  {
   "cell_type": "code",
   "execution_count": 2,
   "metadata": {
    "ExecuteTime": {
     "end_time": "2020-12-11T20:19:49.030000+08:00",
     "start_time": "2020-12-11T12:19:48.505Z"
    }
   },
   "outputs": [
    {
     "data": {
      "text/plain": [
       "parse_input (generic function with 1 method)"
      ]
     },
     "execution_count": 2,
     "metadata": {},
     "output_type": "execute_result"
    }
   ],
   "source": [
    "function parse_input(filename)\n",
    "    lines = readlines(filename)\n",
    "    return [lines[i][j] for i in eachindex(lines), j in eachindex(lines[1])]\n",
    "end"
   ]
  },
  {
   "cell_type": "code",
   "execution_count": 3,
   "metadata": {
    "ExecuteTime": {
     "end_time": "2020-12-11T20:19:50.090000+08:00",
     "start_time": "2020-12-11T12:19:49.066Z"
    },
    "scrolled": true
   },
   "outputs": [
    {
     "data": {
      "text/plain": [
       "10×10 Array{Char,2}:\n",
       " 'L'  '.'  'L'  'L'  '.'  'L'  'L'  '.'  'L'  'L'\n",
       " 'L'  'L'  'L'  'L'  'L'  'L'  'L'  '.'  'L'  'L'\n",
       " 'L'  '.'  'L'  '.'  'L'  '.'  '.'  'L'  '.'  '.'\n",
       " 'L'  'L'  'L'  'L'  '.'  'L'  'L'  '.'  'L'  'L'\n",
       " 'L'  '.'  'L'  'L'  '.'  'L'  'L'  '.'  'L'  'L'\n",
       " 'L'  '.'  'L'  'L'  'L'  'L'  'L'  '.'  'L'  'L'\n",
       " '.'  '.'  'L'  '.'  'L'  '.'  '.'  '.'  '.'  '.'\n",
       " 'L'  'L'  'L'  'L'  'L'  'L'  'L'  'L'  'L'  'L'\n",
       " 'L'  '.'  'L'  'L'  'L'  'L'  'L'  'L'  '.'  'L'\n",
       " 'L'  '.'  'L'  'L'  'L'  'L'  'L'  '.'  'L'  'L'"
      ]
     },
     "execution_count": 3,
     "metadata": {},
     "output_type": "execute_result"
    }
   ],
   "source": [
    "input_sample_1 = parse_input(\"input_sample_1.txt\")"
   ]
  },
  {
   "cell_type": "code",
   "execution_count": 4,
   "metadata": {
    "ExecuteTime": {
     "end_time": "2020-12-11T20:19:50.268000+08:00",
     "start_time": "2020-12-11T12:19:49.341Z"
    },
    "scrolled": true
   },
   "outputs": [
    {
     "data": {
      "text/plain": [
       "91×92 Array{Char,2}:\n",
       " 'L'  'L'  'L'  'L'  'L'  'L'  'L'  'L'  …  'L'  'L'  'L'  'L'  'L'  'L'  'L'\n",
       " 'L'  'L'  'L'  '.'  'L'  'L'  'L'  'L'     'L'  'L'  'L'  'L'  'L'  'L'  'L'\n",
       " 'L'  'L'  'L'  'L'  'L'  'L'  'L'  'L'     'L'  'L'  'L'  'L'  'L'  'L'  'L'\n",
       " 'L'  'L'  'L'  'L'  'L'  'L'  'L'  'L'     'L'  'L'  'L'  'L'  'L'  'L'  'L'\n",
       " 'L'  'L'  'L'  'L'  '.'  'L'  'L'  'L'     'L'  'L'  'L'  'L'  'L'  'L'  'L'\n",
       " 'L'  'L'  'L'  'L'  'L'  'L'  'L'  'L'  …  'L'  'L'  'L'  'L'  'L'  'L'  'L'\n",
       " 'L'  'L'  'L'  'L'  'L'  'L'  'L'  'L'     '.'  'L'  'L'  '.'  'L'  'L'  'L'\n",
       " 'L'  'L'  'L'  'L'  'L'  'L'  'L'  'L'     'L'  'L'  'L'  'L'  'L'  'L'  'L'\n",
       " 'L'  'L'  'L'  'L'  'L'  'L'  'L'  'L'     'L'  'L'  'L'  'L'  'L'  'L'  'L'\n",
       " '.'  '.'  '.'  '.'  'L'  '.'  '.'  'L'     '.'  'L'  '.'  'L'  '.'  '.'  'L'\n",
       " 'L'  'L'  'L'  'L'  'L'  'L'  'L'  'L'  …  'L'  'L'  'L'  'L'  'L'  'L'  'L'\n",
       " 'L'  'L'  'L'  'L'  'L'  '.'  'L'  'L'     'L'  'L'  'L'  'L'  'L'  'L'  'L'\n",
       " 'L'  'L'  'L'  'L'  'L'  'L'  'L'  'L'     'L'  'L'  'L'  'L'  'L'  'L'  'L'\n",
       " ⋮                        ⋮              ⋱  ⋮                        ⋮    \n",
       " 'L'  'L'  'L'  'L'  'L'  'L'  'L'  'L'     'L'  'L'  'L'  'L'  'L'  'L'  'L'\n",
       " 'L'  'L'  'L'  'L'  'L'  'L'  'L'  'L'  …  'L'  'L'  'L'  'L'  'L'  'L'  'L'\n",
       " 'L'  'L'  'L'  'L'  'L'  'L'  'L'  'L'     'L'  'L'  'L'  'L'  'L'  'L'  'L'\n",
       " 'L'  'L'  'L'  'L'  'L'  'L'  'L'  'L'     'L'  'L'  'L'  'L'  'L'  'L'  'L'\n",
       " 'L'  'L'  'L'  'L'  'L'  'L'  'L'  'L'     'L'  'L'  'L'  'L'  'L'  '.'  'L'\n",
       " 'L'  'L'  'L'  'L'  '.'  'L'  'L'  'L'     'L'  'L'  'L'  'L'  'L'  'L'  'L'\n",
       " 'L'  'L'  'L'  'L'  'L'  'L'  'L'  'L'  …  'L'  'L'  '.'  'L'  'L'  'L'  'L'\n",
       " 'L'  'L'  'L'  'L'  'L'  'L'  'L'  'L'     'L'  'L'  'L'  'L'  'L'  'L'  'L'\n",
       " 'L'  'L'  'L'  'L'  'L'  'L'  'L'  'L'     'L'  'L'  'L'  'L'  'L'  'L'  'L'\n",
       " 'L'  'L'  'L'  'L'  'L'  'L'  'L'  'L'     'L'  'L'  'L'  'L'  'L'  'L'  'L'\n",
       " 'L'  'L'  'L'  'L'  'L'  'L'  'L'  'L'     'L'  'L'  'L'  'L'  'L'  'L'  'L'\n",
       " 'L'  '.'  'L'  'L'  'L'  'L'  'L'  'L'  …  'L'  'L'  'L'  'L'  'L'  'L'  'L'"
      ]
     },
     "execution_count": 4,
     "metadata": {},
     "output_type": "execute_result"
    }
   ],
   "source": [
    "input_puzzle = parse_input(\"input_puzzle.txt\")"
   ]
  },
  {
   "cell_type": "markdown",
   "metadata": {},
   "source": [
    "## part 1"
   ]
  },
  {
   "cell_type": "code",
   "execution_count": 5,
   "metadata": {
    "ExecuteTime": {
     "end_time": "2020-12-11T20:19:52.303000+08:00",
     "start_time": "2020-12-11T12:19:52.179Z"
    }
   },
   "outputs": [
    {
     "data": {
      "text/plain": [
       "neighbours_seats (generic function with 1 method)"
      ]
     },
     "execution_count": 5,
     "metadata": {},
     "output_type": "execute_result"
    }
   ],
   "source": [
    "δs = CartesianIndex.([\n",
    "    (-1 , -1),\n",
    "    (0 , -1),\n",
    "    (1 , -1),\n",
    "    (-1 , 0),\n",
    "    (1 , 0),\n",
    "    (-1 , 1),\n",
    "    (0 , 1),\n",
    "    (1 , 1),\n",
    "])\n",
    "\n",
    "function neighbours(seats::Matrix{Char}, i::CartesianIndex, ::Val{:king})\n",
    "    is = Ref(i) .+ δs\n",
    "    return filter(i -> checkbounds(Bool, seats, i), is)\n",
    "end\n",
    "\n",
    "neighbours_seats(seats::Matrix{Char}, i::CartesianIndex, range_val::Val) = seats[neighbours(seats, i, range_val)]"
   ]
  },
  {
   "cell_type": "code",
   "execution_count": 6,
   "metadata": {
    "ExecuteTime": {
     "end_time": "2020-12-11T20:19:53.322000+08:00",
     "start_time": "2020-12-11T12:19:53.245Z"
    }
   },
   "outputs": [
    {
     "data": {
      "text/plain": [
       "next (generic function with 1 method)"
      ]
     },
     "execution_count": 6,
     "metadata": {},
     "output_type": "execute_result"
    }
   ],
   "source": [
    "function next(seats::Matrix{Char}, i::CartesianIndex, range_val::Val{:king})\n",
    "    if seats[i] == 'L'\n",
    "        return any(neighbours_seats(seats, i, range_val) .== '#') ? 'L' : '#'\n",
    "    elseif seats[i] == '#'\n",
    "        return count(neighbours_seats(seats, i, range_val) .== '#') ≥ 4 ? 'L' : '#'\n",
    "    else\n",
    "        return '.'\n",
    "    end\n",
    "end"
   ]
  },
  {
   "cell_type": "code",
   "execution_count": 7,
   "metadata": {
    "ExecuteTime": {
     "end_time": "2020-12-11T20:19:53.592000+08:00",
     "start_time": "2020-12-11T12:19:53.590Z"
    }
   },
   "outputs": [
    {
     "data": {
      "text/plain": [
       "next (generic function with 2 methods)"
      ]
     },
     "execution_count": 7,
     "metadata": {},
     "output_type": "execute_result"
    }
   ],
   "source": [
    "next(seats::Matrix{Char}, range_val::Val) = next.(Ref(seats), CartesianIndices(seats), range_val)"
   ]
  },
  {
   "cell_type": "code",
   "execution_count": 8,
   "metadata": {
    "ExecuteTime": {
     "end_time": "2020-12-11T20:19:54.123000+08:00",
     "start_time": "2020-12-11T12:19:54.053Z"
    }
   },
   "outputs": [
    {
     "data": {
      "text/plain": [
       "final (generic function with 1 method)"
      ]
     },
     "execution_count": 8,
     "metadata": {},
     "output_type": "execute_result"
    }
   ],
   "source": [
    "function final(seats::Matrix{Char}, range_val::Val)\n",
    "    for cycle_count in Iterators.countfrom(1)\n",
    "        next_seats = next(seats, range_val)\n",
    "        (seats == next_seats) && return (; cycle_count, seats)\n",
    "        seats = next_seats\n",
    "    end\n",
    "end"
   ]
  },
  {
   "cell_type": "markdown",
   "metadata": {},
   "source": [
    "### answer"
   ]
  },
  {
   "cell_type": "code",
   "execution_count": 9,
   "metadata": {
    "ExecuteTime": {
     "end_time": "2020-12-11T20:19:55.163000+08:00",
     "start_time": "2020-12-11T12:19:55.080Z"
    }
   },
   "outputs": [
    {
     "data": {
      "text/plain": [
       "show_answer_report (generic function with 1 method)"
      ]
     },
     "execution_count": 9,
     "metadata": {},
     "output_type": "execute_result"
    }
   ],
   "source": [
    "function show_answer_report(input, ::Val{:part1})\n",
    "    result = final(input, Val(:king))\n",
    "    @show result.cycle_count\n",
    "    @info \"Answer found.\" answer=count('#' .== result.seats)\n",
    "    return\n",
    "end"
   ]
  },
  {
   "cell_type": "code",
   "execution_count": 10,
   "metadata": {
    "ExecuteTime": {
     "end_time": "2020-12-11T20:19:56.301000+08:00",
     "start_time": "2020-12-11T12:19:55.466Z"
    },
    "scrolled": true
   },
   "outputs": [
    {
     "name": "stdout",
     "output_type": "stream",
     "text": [
      "result.cycle_count = 6\n"
     ]
    },
    {
     "name": "stderr",
     "output_type": "stream",
     "text": [
      "┌ Info: Answer found.\n",
      "│   answer = 37\n",
      "└ @ Main In[9]:4\n"
     ]
    }
   ],
   "source": [
    "show_answer_report(input_sample_1, Val(:part1))"
   ]
  },
  {
   "cell_type": "code",
   "execution_count": 11,
   "metadata": {
    "ExecuteTime": {
     "end_time": "2020-12-11T20:19:57.089000+08:00",
     "start_time": "2020-12-11T12:19:55.703Z"
    },
    "scrolled": true
   },
   "outputs": [
    {
     "name": "stdout",
     "output_type": "stream",
     "text": [
      "result.cycle_count = 94\n"
     ]
    },
    {
     "name": "stderr",
     "output_type": "stream",
     "text": [
      "┌ Info: Answer found.\n",
      "│   answer = 2164\n",
      "└ @ Main In[9]:4\n"
     ]
    }
   ],
   "source": [
    "show_answer_report(input_puzzle, Val(:part1))"
   ]
  },
  {
   "cell_type": "markdown",
   "metadata": {},
   "source": [
    "## part 2"
   ]
  },
  {
   "cell_type": "code",
   "execution_count": 20,
   "metadata": {
    "ExecuteTime": {
     "end_time": "2020-12-11T21:23:37.720000+08:00",
     "start_time": "2020-12-11T13:23:37.637Z"
    }
   },
   "outputs": [
    {
     "data": {
      "text/plain": [
       "neighbours (generic function with 3 methods)"
      ]
     },
     "execution_count": 20,
     "metadata": {},
     "output_type": "execute_result"
    }
   ],
   "source": [
    "function neighbours(seats::Matrix{Char}, i::CartesianIndex, ::Val{:queen})\n",
    "    result = CartesianIndex{2}[]\n",
    "    for δ in δs\n",
    "        neighbour = i\n",
    "        \n",
    "        while true\n",
    "            neighbour += δ\n",
    "            if checkbounds(Bool, seats, neighbour)\n",
    "                if seats[neighbour] != '.'\n",
    "                    push!(result, neighbour)\n",
    "                    break\n",
    "                end\n",
    "            else\n",
    "                break\n",
    "            end\n",
    "        end\n",
    "    end\n",
    "    return result\n",
    "end"
   ]
  },
  {
   "cell_type": "code",
   "execution_count": 21,
   "metadata": {
    "ExecuteTime": {
     "end_time": "2020-12-11T21:23:38.029000+08:00",
     "start_time": "2020-12-11T13:23:38.024Z"
    }
   },
   "outputs": [
    {
     "data": {
      "text/plain": [
       "next (generic function with 4 methods)"
      ]
     },
     "execution_count": 21,
     "metadata": {},
     "output_type": "execute_result"
    }
   ],
   "source": [
    "function next(seats::Matrix{Char}, i::CartesianIndex, range_val::Val{:queen})\n",
    "    if seats[i] == 'L'\n",
    "        return any(neighbours_seats(seats, i, range_val) .== '#') ? 'L' : '#'\n",
    "    elseif seats[i] == '#'\n",
    "        return count(neighbours_seats(seats, i, range_val) .== '#') ≥ 5 ? 'L' : '#'\n",
    "    else\n",
    "        return '.'\n",
    "    end\n",
    "end"
   ]
  },
  {
   "cell_type": "markdown",
   "metadata": {},
   "source": [
    "### answer"
   ]
  },
  {
   "cell_type": "code",
   "execution_count": 22,
   "metadata": {
    "ExecuteTime": {
     "end_time": "2020-12-11T21:23:39.154000+08:00",
     "start_time": "2020-12-11T13:23:39.145Z"
    }
   },
   "outputs": [
    {
     "data": {
      "text/plain": [
       "show_answer_report (generic function with 2 methods)"
      ]
     },
     "execution_count": 22,
     "metadata": {},
     "output_type": "execute_result"
    }
   ],
   "source": [
    "function show_answer_report(input, ::Val{:part2})\n",
    "    result = final(input, Val(:queen))\n",
    "    @show result.cycle_count\n",
    "    @info \"Answer found.\" answer=count('#' .== result.seats)\n",
    "    return\n",
    "end"
   ]
  },
  {
   "cell_type": "code",
   "execution_count": 23,
   "metadata": {
    "ExecuteTime": {
     "end_time": "2020-12-11T21:23:40.214000+08:00",
     "start_time": "2020-12-11T13:23:39.740Z"
    },
    "scrolled": true
   },
   "outputs": [
    {
     "name": "stdout",
     "output_type": "stream",
     "text": [
      "result.cycle_count = 7\n",
      "  0.447171 seconds (631.75 k allocations: 28.697 MiB, 19.55% gc time)\n"
     ]
    },
    {
     "name": "stderr",
     "output_type": "stream",
     "text": [
      "┌ Info: Answer found.\n",
      "│   answer = 26\n",
      "└ @ Main In[22]:4\n"
     ]
    }
   ],
   "source": [
    "@time show_answer_report(input_sample_1, Val(:part2))"
   ]
  },
  {
   "cell_type": "code",
   "execution_count": 24,
   "metadata": {
    "ExecuteTime": {
     "end_time": "2020-12-11T21:23:42.120000+08:00",
     "start_time": "2020-12-11T13:23:41.501Z"
    },
    "scrolled": true
   },
   "outputs": [
    {
     "name": "stdout",
     "output_type": "stream",
     "text": [
      "result.cycle_count = 85\n",
      "  0.609178 seconds (13.72 M allocations: 657.943 MiB, 14.43% gc time)\n"
     ]
    },
    {
     "name": "stderr",
     "output_type": "stream",
     "text": [
      "┌ Info: Answer found.\n",
      "│   answer = 1974\n",
      "└ @ Main In[22]:4\n"
     ]
    }
   ],
   "source": [
    "@time show_answer_report(input_puzzle, Val(:part2))"
   ]
  },
  {
   "cell_type": "code",
   "execution_count": 25,
   "metadata": {
    "ExecuteTime": {
     "end_time": "2020-12-12T10:04:15.743000+08:00",
     "start_time": "2020-12-12T02:04:15.632Z"
    }
   },
   "outputs": [],
   "source": [
    "using OffsetArrays"
   ]
  },
  {
   "cell_type": "code",
   "execution_count": 27,
   "metadata": {
    "ExecuteTime": {
     "end_time": "2020-12-12T10:05:33.711000+08:00",
     "start_time": "2020-12-12T02:05:32.777Z"
    }
   },
   "outputs": [
    {
     "data": {
      "text/plain": [
       "2×4 OffsetArray(::Array{Int64,2}, 0:1, 1:4) with eltype Int64 with indices 0:1×1:4:\n",
       " 1  2  3  4\n",
       " 5  6  7  8"
      ]
     },
     "execution_count": 27,
     "metadata": {},
     "output_type": "execute_result"
    }
   ],
   "source": [
    "a = OffsetArray([1 2 3 4; 5 6 7 8], -1, 0)"
   ]
  },
  {
   "cell_type": "code",
   "execution_count": 34,
   "metadata": {
    "ExecuteTime": {
     "end_time": "2020-12-12T10:33:08.200000+08:00",
     "start_time": "2020-12-12T02:33:08.133Z"
    }
   },
   "outputs": [
    {
     "data": {
      "text/plain": [
       "3-element Array{Int64,1}:\n",
       " 1\n",
       " 2\n",
       " 6"
      ]
     },
     "execution_count": 34,
     "metadata": {},
     "output_type": "execute_result"
    }
   ],
   "source": [
    "i = CartesianIndex(1, 1)\n",
    "\n",
    "δs = CartesianIndex.([\n",
    "    (-1 , -1),\n",
    "    (0 , -1),\n",
    "    (1 , -1),\n",
    "    (-1 , 0),\n",
    "    (1 , 0),\n",
    "    (-1 , 1),\n",
    "    (0 , 1),\n",
    "    (1 , 1),\n",
    "])\n",
    "\n",
    "is = Ref(i) .+ δs\n",
    "\n",
    "a[is ∩ CartesianIndices(a)]"
   ]
  },
  {
   "cell_type": "code",
   "execution_count": 38,
   "metadata": {
    "ExecuteTime": {
     "end_time": "2020-12-12T12:49:47.185000+08:00",
     "start_time": "2020-12-12T04:49:46.850Z"
    }
   },
   "outputs": [
    {
     "data": {
      "text/plain": [
       "8-element Array{CartesianIndex{2},1}:\n",
       " CartesianIndex(-1, -1)\n",
       " CartesianIndex(0, -1)\n",
       " CartesianIndex(1, -1)\n",
       " CartesianIndex(-1, 0)\n",
       " CartesianIndex(1, 0)\n",
       " CartesianIndex(-1, 1)\n",
       " CartesianIndex(0, 1)\n",
       " CartesianIndex(1, 1)"
      ]
     },
     "execution_count": 38,
     "metadata": {},
     "output_type": "execute_result"
    }
   ],
   "source": [
    "king_move = OffsetArray(\n",
    "    [\n",
    "        1 1 1;\n",
    "        1 0 1;\n",
    "        1 1 1;\n",
    "    ],\n",
    "    -1:1,\n",
    "    -1:1,\n",
    ")\n",
    "\n",
    "\n",
    "δs = filter(i -> king_move[i] == 1, CartesianIndices(king_move))"
   ]
  }
 ],
 "metadata": {
  "@webio": {
   "lastCommId": null,
   "lastKernelId": null
  },
  "kernelspec": {
   "display_name": "Julia 1.5.3",
   "language": "julia",
   "name": "julia-1.5"
  },
  "language_info": {
   "file_extension": ".jl",
   "mimetype": "application/julia",
   "name": "julia",
   "version": "1.5.3"
  },
  "latex_envs": {
   "LaTeX_envs_menu_present": true,
   "autoclose": false,
   "autocomplete": true,
   "bibliofile": "biblio.bib",
   "cite_by": "apalike",
   "current_citInitial": 1,
   "eqLabelWithNumbers": true,
   "eqNumInitial": 1,
   "hotkeys": {
    "equation": "Ctrl-E",
    "itemize": "Ctrl-I"
   },
   "labels_anchors": false,
   "latex_user_defs": false,
   "report_style_numbering": false,
   "user_envs_cfg": false
  },
  "toc": {
   "base_numbering": 1,
   "nav_menu": {},
   "number_sections": true,
   "sideBar": true,
   "skip_h1_title": true,
   "title_cell": "Table of Contents",
   "title_sidebar": "Contents",
   "toc_cell": true,
   "toc_position": {},
   "toc_section_display": true,
   "toc_window_display": false
  }
 },
 "nbformat": 4,
 "nbformat_minor": 4
}
