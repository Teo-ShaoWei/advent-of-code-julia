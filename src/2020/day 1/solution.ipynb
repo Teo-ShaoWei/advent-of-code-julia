{
 "cells": [
  {
   "source": [
    "# Advent of Code 2020 Day 1\n",
    "[link](https://adventofcode.com/2020/day/1)\n",
    "\n",
    "If going for speed, we can just brute force the answer via nested for-loops. This question's size is quite suitable for brute force. The input is an integer array of length 200. This means that part 1 need about $4 \\times 10^4$ checks, while part 2 need about $8 \\times 10^6 \\approx 2^{23}$ checks. This is very manageable with the speed of our computer.\n",
    "\n",
    "This is however a commonly seen problem that can be amortized using some sorting and searching algorithm."
   ],
   "cell_type": "markdown",
   "metadata": {}
  },
  {
   "cell_type": "markdown",
   "metadata": {
    "toc": true
   },
   "source": [
    "<h1>Table of Contents<span class=\"tocSkip\"></span></h1>\n",
    "<div class=\"toc\"><ul class=\"toc-item\"><li><span><a href=\"#read-input\" data-toc-modified-id=\"read-input-1\"><span class=\"toc-item-num\">1&nbsp;&nbsp;</span>read input</a></span></li><li><span><a href=\"#part-1\" data-toc-modified-id=\"part-1-2\"><span class=\"toc-item-num\">2&nbsp;&nbsp;</span>part 1</a></span><ul class=\"toc-item\"><li><span><a href=\"#solution-1\" data-toc-modified-id=\"solution-1-2.1\"><span class=\"toc-item-num\">2.1&nbsp;&nbsp;</span>solution 1</a></span></li><li><span><a href=\"#solution-2\" data-toc-modified-id=\"solution-2-2.2\"><span class=\"toc-item-num\">2.2&nbsp;&nbsp;</span>solution 2</a></span></li><li><span><a href=\"#answer\" data-toc-modified-id=\"answer-2.3\"><span class=\"toc-item-num\">2.3&nbsp;&nbsp;</span>answer</a></span></li></ul></li><li><span><a href=\"#part-2\" data-toc-modified-id=\"part-2-3\"><span class=\"toc-item-num\">3&nbsp;&nbsp;</span>part 2</a></span><ul class=\"toc-item\"><li><span><a href=\"#solution-1\" data-toc-modified-id=\"solution-1-3.1\"><span class=\"toc-item-num\">3.1&nbsp;&nbsp;</span>solution 1</a></span></li><li><span><a href=\"#solution-2\" data-toc-modified-id=\"solution-2-3.2\"><span class=\"toc-item-num\">3.2&nbsp;&nbsp;</span>solution 2</a></span></li><li><span><a href=\"#answer\" data-toc-modified-id=\"answer-3.3\"><span class=\"toc-item-num\">3.3&nbsp;&nbsp;</span>answer</a></span></li></ul></li></ul></div>"
   ]
  },
  {
   "cell_type": "markdown",
   "metadata": {},
   "source": [
    "## read input"
   ]
  },
  {
   "cell_type": "code",
   "execution_count": 1,
   "metadata": {
    "ExecuteTime": {
     "end_time": "2020-12-01T15:12:53.951000+08:00",
     "start_time": "2020-12-01T07:12:52.902Z"
    }
   },
   "outputs": [
    {
     "output_type": "execute_result",
     "data": {
      "text/plain": [
       "parse_input (generic function with 1 method)"
      ]
     },
     "metadata": {},
     "execution_count": 1
    }
   ],
   "source": [
    "parse_input(filename) = parse.(Int, readlines(filename))"
   ]
  },
  {
   "cell_type": "code",
   "execution_count": 2,
   "metadata": {
    "ExecuteTime": {
     "end_time": "2020-12-01T15:12:54.747000+08:00",
     "start_time": "2020-12-01T07:12:52.903Z"
    }
   },
   "outputs": [
    {
     "output_type": "execute_result",
     "data": {
      "text/plain": [
       "6-element Array{Int64,1}:\n",
       " 1721\n",
       "  979\n",
       "  366\n",
       "  299\n",
       "  675\n",
       " 1456"
      ]
     },
     "metadata": {},
     "execution_count": 2
    }
   ],
   "source": [
    "input_sample_1 = parse_input(\"input_sample_1.txt\")"
   ]
  },
  {
   "cell_type": "code",
   "execution_count": 3,
   "metadata": {
    "ExecuteTime": {
     "end_time": "2020-12-01T15:12:54.809000+08:00",
     "start_time": "2020-12-01T07:12:52.905Z"
    },
    "scrolled": true
   },
   "outputs": [
    {
     "output_type": "execute_result",
     "data": {
      "text/plain": [
       "200-element Array{Int64,1}:\n",
       " 1822\n",
       " 1917\n",
       " 1642\n",
       " 1617\n",
       " 1941\n",
       " 1740\n",
       " 1529\n",
       " 1896\n",
       " 1880\n",
       "  568\n",
       " 1897\n",
       " 1521\n",
       " 1832\n",
       "    ⋮\n",
       " 1865\n",
       " 1535\n",
       " 1994\n",
       " 1756\n",
       " 1662\n",
       " 1621\n",
       " 1993\n",
       " 1825\n",
       " 1679\n",
       " 1959\n",
       " 1691\n",
       " 1875"
      ]
     },
     "metadata": {},
     "execution_count": 3
    }
   ],
   "source": [
    "input_puzzle = parse_input(\"input_puzzle.txt\")"
   ]
  },
  {
   "cell_type": "markdown",
   "metadata": {},
   "source": [
    "## part 1\n",
    "\n",
    "### solution 1\n",
    "\n",
    "Brute force with time complexity $O(n^2)$.\n",
    "\n",
    "To going for speed, this is a sloppier easy to write solution with are a few assumptions, e.g. the entries are distinct, and there is no 1010 (so it ended up add itself to get 2020), etc. Without that, we will need to traverse the indices and not the values of the entries, so that single 1010 is not accepted but double 1010 is."
   ]
  },
  {
   "cell_type": "code",
   "execution_count": 4,
   "metadata": {
    "ExecuteTime": {
     "end_time": "2020-12-01T15:12:54.901000+08:00",
     "start_time": "2020-12-01T07:12:52.956Z"
    }
   },
   "outputs": [
    {
     "output_type": "execute_result",
     "data": {
      "text/plain": [
       "two_entries_sum_to_2020 (generic function with 1 method)"
      ]
     },
     "metadata": {},
     "execution_count": 4
    }
   ],
   "source": [
    "function two_entries_sum_to_2020(v, ::Val{:solution1})\n",
    "    for a1 in v, a2 in v\n",
    "        if a1 + a2 == 2020\n",
    "            return [a1, a2]\n",
    "        end\n",
    "    end\n",
    "end"
   ]
  },
  {
   "cell_type": "markdown",
   "metadata": {},
   "source": [
    "### solution 2\n",
    "\n",
    "A way is to sort the array first with time complexity of $O(n \\lg n)$, and then traverse it from both end with time complexity of $O(n)$. It is probably not worth the effort for the size of the input array. This solution handles the edge cases in the previous solution."
   ]
  },
  {
   "cell_type": "code",
   "execution_count": 5,
   "metadata": {
    "ExecuteTime": {
     "end_time": "2020-12-01T15:12:54.905000+08:00",
     "start_time": "2020-12-01T07:12:53.014Z"
    }
   },
   "outputs": [
    {
     "output_type": "execute_result",
     "data": {
      "text/plain": [
       "two_entries_sum_to_2020 (generic function with 2 methods)"
      ]
     },
     "metadata": {},
     "execution_count": 5
    }
   ],
   "source": [
    "function two_entries_sum_to_2020(v, ::Val{:solution2})\n",
    "    v = sort(v)\n",
    "    i = 1\n",
    "    j = length(v)\n",
    "    while i != j\n",
    "        total = v[i] + v[j]\n",
    "        if total == 2020\n",
    "            return [v[i], v[j]]\n",
    "        elseif total < 2020\n",
    "            i += 1\n",
    "        else\n",
    "            j -= 1\n",
    "        end\n",
    "    end\n",
    "end"
   ]
  },
  {
   "cell_type": "markdown",
   "metadata": {},
   "source": [
    "### answer"
   ]
  },
  {
   "cell_type": "code",
   "execution_count": 6,
   "metadata": {
    "ExecuteTime": {
     "end_time": "2020-12-01T15:12:54.992000+08:00",
     "start_time": "2020-12-01T07:12:53.069Z"
    }
   },
   "outputs": [
    {
     "output_type": "execute_result",
     "data": {
      "text/plain": [
       "show_answer_report (generic function with 1 method)"
      ]
     },
     "metadata": {},
     "execution_count": 6
    }
   ],
   "source": [
    "function show_answer_report(input, ::Val{:part1}, solution_val)\n",
    "    @show entries_with_issue = two_entries_sum_to_2020(input, solution_val)\n",
    "    @show sum(entries_with_issue)\n",
    "    @info \"Answer found.\" answer=prod(entries_with_issue)\n",
    "    return\n",
    "end"
   ]
  },
  {
   "cell_type": "code",
   "execution_count": 7,
   "metadata": {
    "ExecuteTime": {
     "end_time": "2020-12-01T15:12:55.334000+08:00",
     "start_time": "2020-12-01T07:12:53.073Z"
    },
    "scrolled": true
   },
   "outputs": [
    {
     "output_type": "stream",
     "name": "stdout",
     "text": [
      "entries_with_issue = two_entries_sum_to_2020(input, solution_val) = [1721, 299]\n",
      "sum(entries_with_issue) = 2020\n",
      "  0.286686 seconds (645.32 k allocations: 33.350 MiB, 3.08% gc time)\n",
      "┌ Info: Answer found.\n",
      "│   answer = 514579\n",
      "└ @ Main In[6]:4\n"
     ]
    }
   ],
   "source": [
    "@time show_answer_report(input_sample_1, Val(:part1), Val(:solution1))"
   ]
  },
  {
   "cell_type": "code",
   "execution_count": 8,
   "metadata": {
    "ExecuteTime": {
     "end_time": "2020-12-01T15:12:55.309000+08:00",
     "start_time": "2020-12-01T07:12:53.071Z"
    },
    "scrolled": false
   },
   "outputs": [
    {
     "output_type": "stream",
     "name": "stdout",
     "text": [
      "entries_with_issue = two_entries_sum_to_2020(input, solution_val) = [1245, 775]\n",
      "sum(entries_with_issue) = 2020\n",
      "  0.000227 seconds (148 allocations: 4.859 KiB)\n",
      "┌ Info: Answer found.\n",
      "│   answer = 964875\n",
      "└ @ Main In[6]:4\n"
     ]
    }
   ],
   "source": [
    "@time show_answer_report(input_puzzle, Val(:part1), Val(:solution1))"
   ]
  },
  {
   "cell_type": "markdown",
   "metadata": {},
   "source": [
    "## part 2\n",
    "\n",
    "### solution 1\n",
    "\n",
    "Brute force. Similar assumption as previous."
   ]
  },
  {
   "cell_type": "code",
   "execution_count": 9,
   "metadata": {
    "ExecuteTime": {
     "end_time": "2020-12-01T15:12:55.405000+08:00",
     "start_time": "2020-12-01T07:12:53.137Z"
    }
   },
   "outputs": [
    {
     "output_type": "execute_result",
     "data": {
      "text/plain": [
       "three_entries_sum_to_2020 (generic function with 1 method)"
      ]
     },
     "metadata": {},
     "execution_count": 9
    }
   ],
   "source": [
    "function three_entries_sum_to_2020(v, ::Val{:solution1})\n",
    "    for a1 in v, a2 in v, a3 in v\n",
    "        if a1 + a2 + a3 == 2020\n",
    "            return [a1, a2, a3]\n",
    "        end\n",
    "    end\n",
    "end"
   ]
  },
  {
   "cell_type": "markdown",
   "metadata": {},
   "source": [
    "### solution 2\n",
    "\n",
    "A way is to create a lookup of all sum of two entries with time complexity $O(n^2)$, and then for each entry lookup whether there exists a sum that can complete it to 2020 (with time complexity $(n^2)$). Similarly it is probably not worth the effort for the size of the input array.\n",
    "\n",
    "In this solution we need extra assumptions that no valid 3 sums consist of repeated values, and there isn't more than one pair of entries with the same sum. In that event we will need a multi-dict instead of a dict to store the lookup, and work with indices instead of values for the entries."
   ]
  },
  {
   "cell_type": "code",
   "execution_count": 10,
   "metadata": {
    "ExecuteTime": {
     "end_time": "2020-12-01T15:12:55.481000+08:00",
     "start_time": "2020-12-01T07:12:53.190Z"
    }
   },
   "outputs": [
    {
     "output_type": "execute_result",
     "data": {
      "text/plain": [
       "lookup_two_sums (generic function with 1 method)"
      ]
     },
     "metadata": {},
     "execution_count": 10
    }
   ],
   "source": [
    "function lookup_two_sums(v)\n",
    "    result = Dict{Int, Vector{Int}}()\n",
    "    for i in 1:length(v), j in 1:(i - 1)\n",
    "        result[v[i] + v[j]] = [v[i], v[j]]\n",
    "    end\n",
    "    return result\n",
    "end"
   ]
  },
  {
   "cell_type": "code",
   "execution_count": 11,
   "metadata": {
    "ExecuteTime": {
     "end_time": "2020-12-01T15:12:55.484000+08:00",
     "start_time": "2020-12-01T07:12:53.192Z"
    }
   },
   "outputs": [
    {
     "output_type": "execute_result",
     "data": {
      "text/plain": [
       "three_entries_sum_to_2020 (generic function with 2 methods)"
      ]
     },
     "metadata": {},
     "execution_count": 11
    }
   ],
   "source": [
    "function three_entries_sum_to_2020(v, ::Val{:solution2})\n",
    "    lookup = lookup_two_sums(v)\n",
    "    for a in v\n",
    "        diff = 2020 - a\n",
    "        if haskey(lookup, diff)\n",
    "            remaining_entries = lookup[diff]\n",
    "            (a ∉ remaining_entries) && return [a, lookup[diff]...]\n",
    "        end\n",
    "    end\n",
    "end"
   ]
  },
  {
   "cell_type": "markdown",
   "metadata": {},
   "source": [
    "### answer"
   ]
  },
  {
   "cell_type": "code",
   "execution_count": 12,
   "metadata": {
    "ExecuteTime": {
     "end_time": "2020-12-01T15:12:55.488000+08:00",
     "start_time": "2020-12-01T07:12:53.240Z"
    }
   },
   "outputs": [
    {
     "output_type": "execute_result",
     "data": {
      "text/plain": [
       "show_answer_report (generic function with 2 methods)"
      ]
     },
     "metadata": {},
     "execution_count": 12
    }
   ],
   "source": [
    "function show_answer_report(input, ::Val{:part2}, solution_val)\n",
    "    @show entries_with_issue = three_entries_sum_to_2020(input, solution_val)\n",
    "    @show sum(entries_with_issue)\n",
    "    @info \"Answer found.\" answer=prod(entries_with_issue)\n",
    "    return\n",
    "end"
   ]
  },
  {
   "cell_type": "code",
   "execution_count": 13,
   "metadata": {
    "ExecuteTime": {
     "end_time": "2020-12-01T15:12:55.573000+08:00",
     "start_time": "2020-12-01T07:12:53.242Z"
    },
    "scrolled": true
   },
   "outputs": [
    {
     "output_type": "stream",
     "name": "stdout",
     "text": [
      "entries_with_issue = three_entries_sum_to_2020(input, solution_val) = [979, 366, 675]\n",
      "sum(entries_with_issue) = 2020\n",
      "  0.081574 seconds (161.73 k allocations: 8.086 MiB, 24.40% gc time)\n",
      "┌ Info: Answer found.\n",
      "│   answer = 241861950\n",
      "└ @ Main In[12]:4\n"
     ]
    }
   ],
   "source": [
    "@time show_answer_report(input_sample_1, Val(:part2), Val(:solution1))"
   ]
  },
  {
   "cell_type": "code",
   "execution_count": 14,
   "metadata": {
    "ExecuteTime": {
     "end_time": "2020-12-01T15:12:55.582000+08:00",
     "start_time": "2020-12-01T07:12:53.244Z"
    },
    "scrolled": true
   },
   "outputs": [
    {
     "output_type": "stream",
     "name": "stdout",
     "text": [
      "entries_with_issue = three_entries_sum_to_2020(input, solution_val) = [1104, 715, 201]\n",
      "sum(entries_with_issue) = 2020\n",
      "  0.001274 seconds (149 allocations: 5.000 KiB)\n",
      "┌ Info: Answer found.\n",
      "│   answer = 158661360\n",
      "└ @ Main In[12]:4\n"
     ]
    }
   ],
   "source": [
    "@time show_answer_report(input_puzzle, Val(:part2), Val(:solution1))"
   ]
  }
 ],
 "metadata": {
  "@webio": {
   "lastCommId": null,
   "lastKernelId": null
  },
  "kernelspec": {
   "display_name": "Julia 1.5.0",
   "language": "julia",
   "name": "julia-1.5"
  },
  "language_info": {
   "file_extension": ".jl",
   "mimetype": "application/julia",
   "name": "julia",
   "version": "1.5.3"
  },
  "latex_envs": {
   "LaTeX_envs_menu_present": true,
   "autoclose": false,
   "autocomplete": true,
   "bibliofile": "biblio.bib",
   "cite_by": "apalike",
   "current_citInitial": 1,
   "eqLabelWithNumbers": true,
   "eqNumInitial": 1,
   "hotkeys": {
    "equation": "Ctrl-E",
    "itemize": "Ctrl-I"
   },
   "labels_anchors": false,
   "latex_user_defs": false,
   "report_style_numbering": false,
   "user_envs_cfg": false
  },
  "toc": {
   "base_numbering": 1,
   "nav_menu": {},
   "number_sections": true,
   "sideBar": true,
   "skip_h1_title": true,
   "title_cell": "Table of Contents",
   "title_sidebar": "Contents",
   "toc_cell": true,
   "toc_position": {},
   "toc_section_display": true,
   "toc_window_display": false
  }
 },
 "nbformat": 4,
 "nbformat_minor": 4
}