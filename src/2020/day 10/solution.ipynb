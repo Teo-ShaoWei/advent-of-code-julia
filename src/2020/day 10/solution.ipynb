{
 "cells": [
  {
   "cell_type": "markdown",
   "metadata": {},
   "source": [
    "# Advent of Code 2020 Day 10\n",
    "[link](https://adventofcode.com/2020/day/10)\n",
    "\n",
    "We shall call the $n$-jolt difference as $n$-diff for short."
   ]
  },
  {
   "cell_type": "markdown",
   "metadata": {
    "toc": true
   },
   "source": [
    "<h1>Table of Contents<span class=\"tocSkip\"></span></h1>\n",
    "<div class=\"toc\"><ul class=\"toc-item\"><li><span><a href=\"#dependencies\" data-toc-modified-id=\"dependencies-1\"><span class=\"toc-item-num\">1&nbsp;&nbsp;</span>dependencies</a></span></li><li><span><a href=\"#read-input\" data-toc-modified-id=\"read-input-2\"><span class=\"toc-item-num\">2&nbsp;&nbsp;</span>read input</a></span></li><li><span><a href=\"#part-1\" data-toc-modified-id=\"part-1-3\"><span class=\"toc-item-num\">3&nbsp;&nbsp;</span>part 1</a></span><ul class=\"toc-item\"><li><span><a href=\"#answer\" data-toc-modified-id=\"answer-3.1\"><span class=\"toc-item-num\">3.1&nbsp;&nbsp;</span>answer</a></span></li></ul></li><li><span><a href=\"#part-2\" data-toc-modified-id=\"part-2-4\"><span class=\"toc-item-num\">4&nbsp;&nbsp;</span>part 2</a></span><ul class=\"toc-item\"><li><span><a href=\"#solution-1\" data-toc-modified-id=\"solution-1-4.1\"><span class=\"toc-item-num\">4.1&nbsp;&nbsp;</span>solution 1</a></span></li><li><span><a href=\"#solution-2\" data-toc-modified-id=\"solution-2-4.2\"><span class=\"toc-item-num\">4.2&nbsp;&nbsp;</span>solution 2</a></span></li><li><span><a href=\"#solution-3\" data-toc-modified-id=\"solution-3-4.3\"><span class=\"toc-item-num\">4.3&nbsp;&nbsp;</span>solution 3</a></span></li><li><span><a href=\"#answer\" data-toc-modified-id=\"answer-4.4\"><span class=\"toc-item-num\">4.4&nbsp;&nbsp;</span>answer</a></span></li></ul></li></ul></div>"
   ]
  },
  {
   "cell_type": "markdown",
   "metadata": {},
   "source": [
    "## dependencies"
   ]
  },
  {
   "cell_type": "markdown",
   "metadata": {},
   "source": [
    "## read input"
   ]
  },
  {
   "cell_type": "code",
   "execution_count": 1,
   "metadata": {
    "ExecuteTime": {
     "end_time": "2020-12-11T01:30:25.424000+08:00"
    }
   },
   "outputs": [
    {
     "data": {
      "text/plain": [
       "parse_input (generic function with 1 method)"
      ]
     },
     "execution_count": 1,
     "metadata": {},
     "output_type": "execute_result"
    }
   ],
   "source": [
    "function parse_input(filename)\n",
    "    result = parse.(Int, readlines(filename))\n",
    "end"
   ]
  },
  {
   "cell_type": "code",
   "execution_count": 2,
   "metadata": {
    "ExecuteTime": {
     "end_time": "2020-12-11T01:30:26.153000+08:00"
    }
   },
   "outputs": [
    {
     "data": {
      "text/plain": [
       "11-element Array{Int64,1}:\n",
       " 16\n",
       " 10\n",
       " 15\n",
       "  5\n",
       "  1\n",
       " 11\n",
       "  7\n",
       " 19\n",
       "  6\n",
       " 12\n",
       "  4"
      ]
     },
     "execution_count": 2,
     "metadata": {},
     "output_type": "execute_result"
    }
   ],
   "source": [
    "input_sample_1 = parse_input(\"input_sample_1.txt\")"
   ]
  },
  {
   "cell_type": "code",
   "execution_count": 3,
   "metadata": {
    "ExecuteTime": {
     "end_time": "2020-12-11T01:30:26.211000+08:00"
    }
   },
   "outputs": [
    {
     "data": {
      "text/plain": [
       "31-element Array{Int64,1}:\n",
       " 28\n",
       " 33\n",
       " 18\n",
       " 42\n",
       " 31\n",
       " 14\n",
       " 46\n",
       " 20\n",
       " 48\n",
       " 47\n",
       " 24\n",
       " 23\n",
       " 49\n",
       "  ⋮\n",
       " 32\n",
       " 25\n",
       " 35\n",
       "  8\n",
       " 17\n",
       "  7\n",
       "  9\n",
       "  4\n",
       "  2\n",
       " 34\n",
       " 10\n",
       "  3"
      ]
     },
     "execution_count": 3,
     "metadata": {},
     "output_type": "execute_result"
    }
   ],
   "source": [
    "input_sample_2 = parse_input(\"input_sample_2.txt\")"
   ]
  },
  {
   "cell_type": "code",
   "execution_count": 4,
   "metadata": {
    "ExecuteTime": {
     "end_time": "2020-12-11T01:30:26.213000+08:00"
    },
    "scrolled": true
   },
   "outputs": [
    {
     "data": {
      "text/plain": [
       "92-element Array{Int64,1}:\n",
       "  76\n",
       "  51\n",
       " 117\n",
       "  97\n",
       "   7\n",
       "  77\n",
       "  63\n",
       "  18\n",
       " 137\n",
       "  10\n",
       "  23\n",
       "  14\n",
       " 130\n",
       "   ⋮\n",
       "  92\n",
       " 102\n",
       "  88\n",
       "  95\n",
       " 132\n",
       "  47\n",
       "  50\n",
       "  15\n",
       "  68\n",
       "  84\n",
       " 136\n",
       " 103"
      ]
     },
     "execution_count": 4,
     "metadata": {},
     "output_type": "execute_result"
    }
   ],
   "source": [
    "input_puzzle = parse_input(\"input_puzzle.txt\")"
   ]
  },
  {
   "cell_type": "code",
   "execution_count": 28,
   "metadata": {
    "ExecuteTime": {
     "end_time": "2020-12-11T01:33:25.150000+08:00",
     "start_time": "2020-12-10T17:33:25.080Z"
    }
   },
   "outputs": [
    {
     "data": {
      "text/plain": [
       "sort_adapters (generic function with 1 method)"
      ]
     },
     "execution_count": 28,
     "metadata": {},
     "output_type": "execute_result"
    }
   ],
   "source": [
    "sort_adapters(adapters) = [0; sort(adapters); maximum(adapters) + 3]"
   ]
  },
  {
   "cell_type": "code",
   "execution_count": 29,
   "metadata": {
    "ExecuteTime": {
     "end_time": "2020-12-11T01:33:53.298000+08:00",
     "start_time": "2020-12-10T17:33:53.296Z"
    }
   },
   "outputs": [
    {
     "data": {
      "text/plain": [
       "jolt_difference_path"
      ]
     },
     "execution_count": 29,
     "metadata": {},
     "output_type": "execute_result"
    }
   ],
   "source": [
    "\"\"\"\n",
    "The jolt difference from 0 up to the device, along all the adapters in jolt order.\n",
    "\"\"\"\n",
    "jolt_difference_path(adapters) = diff(sort_adapters(adapters))"
   ]
  },
  {
   "cell_type": "markdown",
   "metadata": {},
   "source": [
    "## part 1"
   ]
  },
  {
   "cell_type": "code",
   "execution_count": 163,
   "metadata": {
    "ExecuteTime": {
     "end_time": "2020-12-11T11:22:59.491000+08:00",
     "start_time": "2020-12-11T03:22:59.488Z"
    }
   },
   "outputs": [
    {
     "data": {
      "text/plain": [
       "jolt_difference_lookup (generic function with 1 method)"
      ]
     },
     "execution_count": 163,
     "metadata": {},
     "output_type": "execute_result"
    }
   ],
   "source": [
    "jolt_difference_lookup(diffs) = Dict(d => count(diffs .== d) for d in unique(diffs))"
   ]
  },
  {
   "cell_type": "markdown",
   "metadata": {},
   "source": [
    "### answer"
   ]
  },
  {
   "cell_type": "code",
   "execution_count": 164,
   "metadata": {
    "ExecuteTime": {
     "end_time": "2020-12-11T11:23:02.355000+08:00",
     "start_time": "2020-12-11T03:23:02.351Z"
    }
   },
   "outputs": [
    {
     "data": {
      "text/plain": [
       "show_answer_report (generic function with 2 methods)"
      ]
     },
     "execution_count": 164,
     "metadata": {},
     "output_type": "execute_result"
    }
   ],
   "source": [
    "function show_answer_report(input, ::Val{:part1})\n",
    "    diffs = jolt_difference_path(input)\n",
    "    @show @timev d = jolt_difference_lookup(diffs)\n",
    "    @info \"Answer found.\" answer = d[1] * d[3]\n",
    "    return\n",
    "end"
   ]
  },
  {
   "cell_type": "code",
   "execution_count": 165,
   "metadata": {
    "ExecuteTime": {
     "end_time": "2020-12-11T11:23:05.377000+08:00",
     "start_time": "2020-12-11T03:23:05.276Z"
    },
    "scrolled": false
   },
   "outputs": [
    {
     "name": "stdout",
     "output_type": "stream",
     "text": [
      "  0.000005 seconds (14 allocations: 1.438 KiB)\n",
      "elapsed time (ns): 4626\n",
      "bytes allocated:   1472\n",
      "pool allocs:       14\n",
      "#= In[164]:3 =# @timev(d = jolt_difference_lookup(diffs)) = Dict(3 => 5,1 => 7)\n"
     ]
    },
    {
     "name": "stderr",
     "output_type": "stream",
     "text": [
      "┌ Info: Answer found.\n",
      "│   answer = 35\n",
      "└ @ Main In[164]:4\n"
     ]
    }
   ],
   "source": [
    "show_answer_report(input_sample_1, Val(:part1))"
   ]
  },
  {
   "cell_type": "code",
   "execution_count": 166,
   "metadata": {
    "ExecuteTime": {
     "end_time": "2020-12-11T11:23:06.114000+08:00",
     "start_time": "2020-12-11T03:23:06.112Z"
    },
    "scrolled": true
   },
   "outputs": [
    {
     "name": "stdout",
     "output_type": "stream",
     "text": [
      "  0.000004 seconds (14 allocations: 1.438 KiB)\n",
      "elapsed time (ns): 4280\n",
      "bytes allocated:   1472\n",
      "pool allocs:       14\n",
      "#= In[164]:3 =# @timev(d = jolt_difference_lookup(diffs)) = Dict(3 => 10,1 => 22)\n"
     ]
    },
    {
     "name": "stderr",
     "output_type": "stream",
     "text": [
      "┌ Info: Answer found.\n",
      "│   answer = 220\n",
      "└ @ Main In[164]:4\n"
     ]
    }
   ],
   "source": [
    "show_answer_report(input_sample_2, Val(:part1))"
   ]
  },
  {
   "cell_type": "code",
   "execution_count": 167,
   "metadata": {
    "ExecuteTime": {
     "end_time": "2020-12-11T11:23:06.966000+08:00",
     "start_time": "2020-12-11T03:23:06.963Z"
    },
    "scrolled": false
   },
   "outputs": [
    {
     "name": "stdout",
     "output_type": "stream",
     "text": [
      "  0.000005 seconds (14 allocations: 1.438 KiB)\n",
      "elapsed time (ns): 4891\n",
      "bytes allocated:   1472\n",
      "pool allocs:       14\n",
      "#= In[164]:3 =# @timev(d = jolt_difference_lookup(diffs)) = Dict(3 => 24,1 => 69)\n"
     ]
    },
    {
     "name": "stderr",
     "output_type": "stream",
     "text": [
      "┌ Info: Answer found.\n",
      "│   answer = 1656\n",
      "└ @ Main In[164]:4\n"
     ]
    }
   ],
   "source": [
    "show_answer_report(input_puzzle, Val(:part1))"
   ]
  },
  {
   "cell_type": "markdown",
   "metadata": {},
   "source": [
    "## part 2\n",
    "\n",
    "This part is effectively some sort of Tribonacci, which cannot be calculated by naive recursion. There are usually 2 ways to handle this, using memoization of the recursion function (because it is an easy tag on), or use dynamic programming if there is a way to convert it.\n",
    "\n",
    "It happened that there is a 3rd way in this problem, using the fact that there are only at most 5 consecutive adapters with 1-diff in jolt at one time, and there are only 1-diff and 3-diff."
   ]
  },
  {
   "cell_type": "markdown",
   "metadata": {},
   "source": [
    "### solution 1\n",
    "\n",
    "Recursion with memoization."
   ]
  },
  {
   "cell_type": "code",
   "execution_count": 168,
   "metadata": {
    "ExecuteTime": {
     "end_time": "2020-12-11T11:23:38.256000+08:00",
     "start_time": "2020-12-11T03:23:38.251Z"
    }
   },
   "outputs": [
    {
     "data": {
      "text/plain": [
       "arrangements (generic function with 3 methods)"
      ]
     },
     "execution_count": 168,
     "metadata": {},
     "output_type": "execute_result"
    }
   ],
   "source": [
    "function arrangements(diffs, ::Val{:solution1})\n",
    "    lookup = Dict(length(diffs) => 1)\n",
    "\n",
    "    function arrangements(i)\n",
    "        if !haskey(lookup, i)\n",
    "            total_arrangement = 0\n",
    "            total_diff = 0\n",
    "            for k in 1:3\n",
    "                (i - 1 + k > length(diffs)) && break\n",
    "                total_diff += diffs[i - 1 + k]\n",
    "                (total_diff ≤ 3) ? (total_arrangement += arrangements(i + k)) : break\n",
    "            end\n",
    "            lookup[i] = total_arrangement\n",
    "        end\n",
    "        return lookup[i]\n",
    "    end\n",
    "    \n",
    "    return arrangements(1)\n",
    "end"
   ]
  },
  {
   "cell_type": "markdown",
   "metadata": {},
   "source": [
    "### solution 2\n",
    "\n",
    "Dynamic programming.\n",
    "\n",
    "Alternatively if we need memory to be $O(1)$, it can be done by only remembering the latest 3 found values in the lookup as they are the only one used at most in the next lookup."
   ]
  },
  {
   "cell_type": "code",
   "execution_count": 169,
   "metadata": {
    "ExecuteTime": {
     "end_time": "2020-12-11T11:23:39.396000+08:00",
     "start_time": "2020-12-11T03:23:39.391Z"
    }
   },
   "outputs": [
    {
     "data": {
      "text/plain": [
       "arrangements (generic function with 3 methods)"
      ]
     },
     "execution_count": 169,
     "metadata": {},
     "output_type": "execute_result"
    }
   ],
   "source": [
    "function arrangements(diffs, ::Val{:solution2})\n",
    "    lookup = zeros(Int, length(diffs))\n",
    "    lookup[1] = 1\n",
    "    \n",
    "    for i in eachindex(diffs)\n",
    "        total_diff = 0\n",
    "        for k in 1:3\n",
    "            (i - k ≤ 0) && break\n",
    "            total_diff += diffs[i - k]\n",
    "            (total_diff ≤ 3) ? (lookup[i] += lookup[i - k]) : break\n",
    "        end\n",
    "    end\n",
    "    \n",
    "    return lookup[end]\n",
    "end"
   ]
  },
  {
   "cell_type": "markdown",
   "metadata": {},
   "source": [
    "### solution 3\n",
    "\n",
    "Using the fact that we can count the arrangement for each consecutive 1-diff, and then multiply them together. This is possible because 3-diff means both adapters at the boundary have to be used. Also there is no 2-diff.\n",
    "\n",
    "In addition, we optionally use hardcoding because the puzzle has at most 5 consecutive 1-diff."
   ]
  },
  {
   "cell_type": "code",
   "execution_count": 170,
   "metadata": {
    "ExecuteTime": {
     "end_time": "2020-12-11T11:23:39.666000+08:00",
     "start_time": "2020-12-11T03:23:39.663Z"
    }
   },
   "outputs": [
    {
     "data": {
      "text/plain": [
       "arragements_1diff"
      ]
     },
     "execution_count": 170,
     "metadata": {},
     "output_type": "execute_result"
    }
   ],
   "source": [
    "\"\"\"\n",
    "Number of valid arrangements of `n` 1-diff (i.e. n + 1 adapters of consecutive jolt),\n",
    "such that the 1st and the last will be taken.\n",
    "This is effectively the tribonacci number of non-negative integer starting with (1, 1, 2).\n",
    "Only work for n ∈ 0:4 as it is hardcoded.\n",
    "\"\"\"\n",
    "arragements_1diff(n) = [1, 1, 2, 4, 7][n + 1]"
   ]
  },
  {
   "cell_type": "code",
   "execution_count": 171,
   "metadata": {
    "ExecuteTime": {
     "end_time": "2020-12-11T11:23:39.835000+08:00",
     "start_time": "2020-12-11T03:23:39.830Z"
    }
   },
   "outputs": [
    {
     "data": {
      "text/plain": [
       "consecutive_1diff"
      ]
     },
     "execution_count": 171,
     "metadata": {},
     "output_type": "execute_result"
    }
   ],
   "source": [
    "\"\"\"\n",
    "Count the number of consecutive 1-diff in each partition in the diffs.\n",
    "\"\"\"\n",
    "function consecutive_1diff(diffs)\n",
    "    result = [0]\n",
    "    index = 1\n",
    "    for d in diffs\n",
    "        if d == 1\n",
    "            result[index] += 1\n",
    "        else\n",
    "            push!(result, 0)\n",
    "            index += 1\n",
    "        end\n",
    "    end\n",
    "    return result\n",
    "end"
   ]
  },
  {
   "cell_type": "code",
   "execution_count": 172,
   "metadata": {
    "ExecuteTime": {
     "end_time": "2020-12-11T11:23:39.967000+08:00",
     "start_time": "2020-12-11T03:23:39.964Z"
    }
   },
   "outputs": [
    {
     "data": {
      "text/plain": [
       "arrangements (generic function with 3 methods)"
      ]
     },
     "execution_count": 172,
     "metadata": {},
     "output_type": "execute_result"
    }
   ],
   "source": [
    "function arrangements(diffs, ::Val{:solution3})\n",
    "    return (\n",
    "        diffs\n",
    "        |> consecutive_1diff\n",
    "        .|> arragements_1diff\n",
    "        |> prod\n",
    "    )\n",
    "end"
   ]
  },
  {
   "cell_type": "markdown",
   "metadata": {},
   "source": [
    "### answer"
   ]
  },
  {
   "cell_type": "code",
   "execution_count": 173,
   "metadata": {
    "ExecuteTime": {
     "end_time": "2020-12-11T11:24:06.793000+08:00",
     "start_time": "2020-12-11T03:24:06.789Z"
    }
   },
   "outputs": [
    {
     "data": {
      "text/plain": [
       "show_answer_report (generic function with 2 methods)"
      ]
     },
     "execution_count": 173,
     "metadata": {},
     "output_type": "execute_result"
    }
   ],
   "source": [
    "function show_answer_report(input, ::Val{:part2}, solution_val)\n",
    "    diffs = jolt_difference_path(input)\n",
    "    @info \"Answer found.\" @timev answer=arrangements(diffs, solution_val)\n",
    "    return\n",
    "end"
   ]
  },
  {
   "cell_type": "code",
   "execution_count": 187,
   "metadata": {
    "ExecuteTime": {
     "end_time": "2020-12-11T11:24:24.080000+08:00",
     "start_time": "2020-12-11T03:24:24.078Z"
    },
    "scrolled": true
   },
   "outputs": [
    {
     "name": "stdout",
     "output_type": "stream",
     "text": [
      "  0.000006 seconds (9 allocations: 2.016 KiB)\n",
      "elapsed time (ns): 6326\n",
      "bytes allocated:   2064\n",
      "pool allocs:       9\n"
     ]
    },
    {
     "name": "stderr",
     "output_type": "stream",
     "text": [
      "┌ Info: Answer found.\n",
      "│   #= In[173]:3 =# @timev answer = arrangements(diffs, solution_val) = 8\n",
      "└ @ Main In[173]:3\n"
     ]
    }
   ],
   "source": [
    "show_answer_report(input_sample_1, Val(:part2), Val(:solution1))"
   ]
  },
  {
   "cell_type": "code",
   "execution_count": 188,
   "metadata": {
    "ExecuteTime": {
     "end_time": "2020-12-11T11:24:24.208000+08:00",
     "start_time": "2020-12-11T03:24:24.206Z"
    },
    "scrolled": true
   },
   "outputs": [
    {
     "name": "stdout",
     "output_type": "stream",
     "text": [
      "  0.000000 seconds (1 allocation: 176 bytes)\n",
      "elapsed time (ns): 412\n",
      "bytes allocated:   176\n",
      "pool allocs:       1\n"
     ]
    },
    {
     "name": "stderr",
     "output_type": "stream",
     "text": [
      "┌ Info: Answer found.\n",
      "│   #= In[173]:3 =# @timev answer = arrangements(diffs, solution_val) = 8\n",
      "└ @ Main In[173]:3\n"
     ]
    }
   ],
   "source": [
    "show_answer_report(input_sample_1, Val(:part2), Val(:solution2))"
   ]
  },
  {
   "cell_type": "code",
   "execution_count": 189,
   "metadata": {
    "ExecuteTime": {
     "end_time": "2020-12-11T11:24:24.356000+08:00",
     "start_time": "2020-12-11T03:24:24.352Z"
    },
    "scrolled": false
   },
   "outputs": [
    {
     "name": "stdout",
     "output_type": "stream",
     "text": [
      "  0.000001 seconds (10 allocations: 1.094 KiB)\n",
      "elapsed time (ns): 1438\n",
      "bytes allocated:   1120\n",
      "pool allocs:       10\n"
     ]
    },
    {
     "name": "stderr",
     "output_type": "stream",
     "text": [
      "┌ Info: Answer found.\n",
      "│   #= In[173]:3 =# @timev answer = arrangements(diffs, solution_val) = 8\n",
      "└ @ Main In[173]:3\n"
     ]
    }
   ],
   "source": [
    "show_answer_report(input_sample_1, Val(:part2), Val(:solution3))"
   ]
  },
  {
   "cell_type": "code",
   "execution_count": 190,
   "metadata": {
    "ExecuteTime": {
     "end_time": "2020-12-11T11:24:24.517000+08:00",
     "start_time": "2020-12-11T03:24:24.506Z"
    },
    "scrolled": false
   },
   "outputs": [
    {
     "name": "stdout",
     "output_type": "stream",
     "text": [
      "  0.000015 seconds (40 allocations: 2.500 KiB)\n",
      "elapsed time (ns): 14951\n",
      "bytes allocated:   2560\n",
      "pool allocs:       40\n",
      "  0.000728 seconds (415 allocations: 14.250 KiB)\n"
     ]
    },
    {
     "name": "stderr",
     "output_type": "stream",
     "text": [
      "┌ Info: Answer found.\n",
      "│   #= In[173]:3 =# @timev answer = arrangements(diffs, solution_val) = 19208\n",
      "└ @ Main In[173]:3\n"
     ]
    }
   ],
   "source": [
    "@time show_answer_report(input_sample_2, Val(:part2), Val(:solution1))"
   ]
  },
  {
   "cell_type": "code",
   "execution_count": 191,
   "metadata": {
    "ExecuteTime": {
     "end_time": "2020-12-11T11:24:24.663000+08:00",
     "start_time": "2020-12-11T03:24:24.652Z"
    },
    "scrolled": false
   },
   "outputs": [
    {
     "name": "stdout",
     "output_type": "stream",
     "text": [
      "  0.000001 seconds (1 allocation: 336 bytes)\n",
      "elapsed time (ns): 675\n",
      "bytes allocated:   336\n",
      "pool allocs:       1\n",
      "  0.000627 seconds (374 allocations: 11.812 KiB)\n"
     ]
    },
    {
     "name": "stderr",
     "output_type": "stream",
     "text": [
      "┌ Info: Answer found.\n",
      "│   #= In[173]:3 =# @timev answer = arrangements(diffs, solution_val) = 19208\n",
      "└ @ Main In[173]:3\n"
     ]
    }
   ],
   "source": [
    "@time show_answer_report(input_sample_2, Val(:part2), Val(:solution2))"
   ]
  },
  {
   "cell_type": "code",
   "execution_count": 192,
   "metadata": {
    "ExecuteTime": {
     "end_time": "2020-12-11T11:24:25.485000+08:00",
     "start_time": "2020-12-11T03:24:25.476Z"
    },
    "scrolled": false
   },
   "outputs": [
    {
     "name": "stdout",
     "output_type": "stream",
     "text": [
      "  0.000002 seconds (16 allocations: 1.906 KiB)\n",
      "elapsed time (ns): 2434\n",
      "bytes allocated:   1952\n",
      "pool allocs:       16\n",
      "  0.000639 seconds (391 allocations: 13.656 KiB)\n"
     ]
    },
    {
     "name": "stderr",
     "output_type": "stream",
     "text": [
      "┌ Info: Answer found.\n",
      "│   #= In[173]:3 =# @timev answer = arrangements(diffs, solution_val) = 19208\n",
      "└ @ Main In[173]:3\n"
     ]
    }
   ],
   "source": [
    "@time show_answer_report(input_sample_2, Val(:part2), Val(:solution3))"
   ]
  },
  {
   "cell_type": "code",
   "execution_count": 196,
   "metadata": {
    "ExecuteTime": {
     "end_time": "2020-12-11T11:24:35.474000+08:00",
     "start_time": "2020-12-11T03:24:35.464Z"
    },
    "scrolled": true
   },
   "outputs": [
    {
     "name": "stdout",
     "output_type": "stream",
     "text": [
      "  0.000026 seconds (283 allocations: 10.859 KiB)\n",
      "elapsed time (ns): 25515\n",
      "bytes allocated:   11120\n",
      "pool allocs:       281\n",
      "non-pool GC allocs:2\n",
      "  0.000670 seconds (725 allocations: 25.656 KiB)\n"
     ]
    },
    {
     "name": "stderr",
     "output_type": "stream",
     "text": [
      "┌ Info: Answer found.\n",
      "│   #= In[173]:3 =# @timev answer = arrangements(diffs, solution_val) = 56693912375296\n",
      "└ @ Main In[173]:3\n"
     ]
    }
   ],
   "source": [
    "@time show_answer_report(input_puzzle, Val(:part2), Val(:solution1))"
   ]
  },
  {
   "cell_type": "code",
   "execution_count": 194,
   "metadata": {
    "ExecuteTime": {
     "end_time": "2020-12-11T11:24:28.352000+08:00",
     "start_time": "2020-12-11T03:24:28.342Z"
    },
    "scrolled": true
   },
   "outputs": [
    {
     "name": "stdout",
     "output_type": "stream",
     "text": [
      "  0.000001 seconds (1 allocation: 896 bytes)\n",
      "elapsed time (ns): 1193\n",
      "bytes allocated:   896\n",
      "pool allocs:       1\n",
      "  0.000578 seconds (377 allocations: 13.938 KiB)\n"
     ]
    },
    {
     "name": "stderr",
     "output_type": "stream",
     "text": [
      "┌ Info: Answer found.\n",
      "│   #= In[173]:3 =# @timev answer = arrangements(diffs, solution_val) = 56693912375296\n",
      "└ @ Main In[173]:3\n"
     ]
    }
   ],
   "source": [
    "@time show_answer_report(input_puzzle, Val(:part2), Val(:solution2))"
   ]
  },
  {
   "cell_type": "code",
   "execution_count": 195,
   "metadata": {
    "ExecuteTime": {
     "end_time": "2020-12-11T11:24:28.748000+08:00",
     "start_time": "2020-12-11T03:24:28.738Z"
    },
    "scrolled": true
   },
   "outputs": [
    {
     "name": "stdout",
     "output_type": "stream",
     "text": [
      "  0.000004 seconds (31 allocations: 4.031 KiB)\n",
      "elapsed time (ns): 4287\n",
      "bytes allocated:   4128\n",
      "pool allocs:       31\n",
      "  0.000619 seconds (407 allocations: 17.641 KiB)\n"
     ]
    },
    {
     "name": "stderr",
     "output_type": "stream",
     "text": [
      "┌ Info: Answer found.\n",
      "│   #= In[173]:3 =# @timev answer = arrangements(diffs, solution_val) = 56693912375296\n",
      "└ @ Main In[173]:3\n"
     ]
    }
   ],
   "source": [
    "@time show_answer_report(input_puzzle, Val(:part2), Val(:solution3))"
   ]
  }
 ],
 "metadata": {
  "@webio": {
   "lastCommId": null,
   "lastKernelId": null
  },
  "kernelspec": {
   "display_name": "Julia 1.5.3",
   "language": "julia",
   "name": "julia-1.5"
  },
  "language_info": {
   "file_extension": ".jl",
   "mimetype": "application/julia",
   "name": "julia",
   "version": "1.5.3"
  },
  "latex_envs": {
   "LaTeX_envs_menu_present": true,
   "autoclose": false,
   "autocomplete": true,
   "bibliofile": "biblio.bib",
   "cite_by": "apalike",
   "current_citInitial": 1,
   "eqLabelWithNumbers": true,
   "eqNumInitial": 1,
   "hotkeys": {
    "equation": "Ctrl-E",
    "itemize": "Ctrl-I"
   },
   "labels_anchors": false,
   "latex_user_defs": false,
   "report_style_numbering": false,
   "user_envs_cfg": false
  },
  "toc": {
   "base_numbering": 1,
   "nav_menu": {},
   "number_sections": true,
   "sideBar": true,
   "skip_h1_title": true,
   "title_cell": "Table of Contents",
   "title_sidebar": "Contents",
   "toc_cell": true,
   "toc_position": {},
   "toc_section_display": true,
   "toc_window_display": false
  }
 },
 "nbformat": 4,
 "nbformat_minor": 4
}
