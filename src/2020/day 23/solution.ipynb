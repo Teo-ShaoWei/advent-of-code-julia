{
 "cells": [
  {
   "cell_type": "markdown",
   "metadata": {},
   "source": [
    "# Advent of Code 2020 Day 23\n",
    "[link](https://adventofcode.com/2020/day/23)"
   ]
  },
  {
   "cell_type": "markdown",
   "metadata": {
    "toc": true
   },
   "source": [
    "<h1>Table of Contents<span class=\"tocSkip\"></span></h1>\n",
    "<div class=\"toc\"><ul class=\"toc-item\"><li><span><a href=\"#dependencies\" data-toc-modified-id=\"dependencies-1\"><span class=\"toc-item-num\">1&nbsp;&nbsp;</span>dependencies</a></span></li><li><span><a href=\"#read-input\" data-toc-modified-id=\"read-input-2\"><span class=\"toc-item-num\">2&nbsp;&nbsp;</span>read input</a></span></li><li><span><a href=\"#part-1\" data-toc-modified-id=\"part-1-3\"><span class=\"toc-item-num\">3&nbsp;&nbsp;</span>part 1</a></span><ul class=\"toc-item\"><li><span><a href=\"#answer\" data-toc-modified-id=\"answer-3.1\"><span class=\"toc-item-num\">3.1&nbsp;&nbsp;</span>answer</a></span></li></ul></li><li><span><a href=\"#part-2\" data-toc-modified-id=\"part-2-4\"><span class=\"toc-item-num\">4&nbsp;&nbsp;</span>part 2</a></span><ul class=\"toc-item\"><li><span><a href=\"#answer\" data-toc-modified-id=\"answer-4.1\"><span class=\"toc-item-num\">4.1&nbsp;&nbsp;</span>answer</a></span></li></ul></li></ul></div>"
   ]
  },
  {
   "cell_type": "markdown",
   "metadata": {},
   "source": [
    "## dependencies"
   ]
  },
  {
   "cell_type": "markdown",
   "metadata": {},
   "source": [
    "## read input"
   ]
  },
  {
   "cell_type": "code",
   "execution_count": 2,
   "metadata": {
    "ExecuteTime": {
     "end_time": "2020-12-23T23:42:07.595000+08:00",
     "start_time": "2020-12-23T15:42:07.525Z"
    }
   },
   "outputs": [
    {
     "data": {
      "text/plain": [
       "parse_input (generic function with 1 method)"
      ]
     },
     "execution_count": 2,
     "metadata": {},
     "output_type": "execute_result"
    }
   ],
   "source": [
    "parse_input(line) = parse.(Int, split(line, \"\"))"
   ]
  },
  {
   "cell_type": "code",
   "execution_count": 3,
   "metadata": {
    "ExecuteTime": {
     "end_time": "2020-12-23T23:42:08.474000+08:00",
     "start_time": "2020-12-23T15:42:07.686Z"
    }
   },
   "outputs": [
    {
     "data": {
      "text/plain": [
       "9-element Array{Int64,1}:\n",
       " 3\n",
       " 8\n",
       " 9\n",
       " 1\n",
       " 2\n",
       " 5\n",
       " 4\n",
       " 6\n",
       " 7"
      ]
     },
     "execution_count": 3,
     "metadata": {},
     "output_type": "execute_result"
    }
   ],
   "source": [
    "input_sample_1 = \"389125467\" |> parse_input"
   ]
  },
  {
   "cell_type": "code",
   "execution_count": 4,
   "metadata": {
    "ExecuteTime": {
     "end_time": "2020-12-23T23:42:08.476000+08:00",
     "start_time": "2020-12-23T15:42:07.874Z"
    },
    "scrolled": true
   },
   "outputs": [
    {
     "data": {
      "text/plain": [
       "9-element Array{Int64,1}:\n",
       " 4\n",
       " 8\n",
       " 7\n",
       " 9\n",
       " 1\n",
       " 2\n",
       " 3\n",
       " 6\n",
       " 5"
      ]
     },
     "execution_count": 4,
     "metadata": {},
     "output_type": "execute_result"
    }
   ],
   "source": [
    "input_puzzle = \"487912365\" |> parse_input"
   ]
  },
  {
   "cell_type": "code",
   "execution_count": 5,
   "metadata": {
    "ExecuteTime": {
     "end_time": "2020-12-23T23:42:08.486000+08:00",
     "start_time": "2020-12-23T15:42:08.047Z"
    },
    "scrolled": true
   },
   "outputs": [
    {
     "data": {
      "text/plain": [
       "9-element Array{Int64,1}:\n",
       " 3\n",
       " 8\n",
       " 9\n",
       " 1\n",
       " 2\n",
       " 5\n",
       " 4\n",
       " 6\n",
       " 7"
      ]
     },
     "execution_count": 5,
     "metadata": {},
     "output_type": "execute_result"
    }
   ],
   "source": [
    "data = deepcopy(input_sample_1)"
   ]
  },
  {
   "cell_type": "markdown",
   "metadata": {},
   "source": [
    "## part 1"
   ]
  },
  {
   "cell_type": "code",
   "execution_count": 6,
   "metadata": {
    "ExecuteTime": {
     "end_time": "2020-12-23T23:42:10.366000+08:00",
     "start_time": "2020-12-23T15:42:10.163Z"
    }
   },
   "outputs": [
    {
     "data": {
      "text/plain": [
       "make_cups"
      ]
     },
     "execution_count": 6,
     "metadata": {},
     "output_type": "execute_result"
    }
   ],
   "source": [
    "\"\"\"\n",
    "Cups is a vector of integers where at index `i` contains the label of the cup that is clockwise to cup `i`.\n",
    "So if the input is \"389125467\", then the cups will be `[2, 5, 8, 6, 4, 7, 3, 9, 1]`.\n",
    "\"\"\"\n",
    "function make_cups(v::Vector{Int})\n",
    "    cups = Vector{Int}(undef, length(v))\n",
    "    for i in 2:length(v)\n",
    "        cups[v[i - 1]] = v[i]\n",
    "    end\n",
    "    cups[v[end]] = v[1]\n",
    "    return cups\n",
    "end"
   ]
  },
  {
   "cell_type": "code",
   "execution_count": 26,
   "metadata": {
    "ExecuteTime": {
     "end_time": "2020-12-23T23:57:27.852000+08:00",
     "start_time": "2020-12-23T15:57:27.849Z"
    }
   },
   "outputs": [
    {
     "data": {
      "text/plain": [
       "remove_cups_after! (generic function with 1 method)"
      ]
     },
     "execution_count": 26,
     "metadata": {},
     "output_type": "execute_result"
    }
   ],
   "source": [
    "function remove_cups_after!(cups::Vector{Int}, start_cup, remove_count)\n",
    "    removed_cups = Vector{Int}(undef, remove_count)\n",
    "    cup = start_cup\n",
    "    for i in 1:remove_count\n",
    "        removed_cups[i] = cup = cups[cup]\n",
    "    end\n",
    "    final_cup = cups[cup]\n",
    "    cups[start_cup] = final_cup\n",
    "    return removed_cups\n",
    "end"
   ]
  },
  {
   "cell_type": "code",
   "execution_count": 27,
   "metadata": {
    "ExecuteTime": {
     "end_time": "2020-12-23T23:57:55.152000+08:00",
     "start_time": "2020-12-23T15:57:55.150Z"
    }
   },
   "outputs": [
    {
     "data": {
      "text/plain": [
       "insert_cups_after! (generic function with 1 method)"
      ]
     },
     "execution_count": 27,
     "metadata": {},
     "output_type": "execute_result"
    }
   ],
   "source": [
    "function insert_cups_after!(cups::Vector{Int}, start_cup, cups_to_insert)\n",
    "    final_cup = cups[start_cup]\n",
    "    cups[start_cup] = cups_to_insert[1]\n",
    "    cups[cups_to_insert[end]] = final_cup\n",
    "    return cups\n",
    "end"
   ]
  },
  {
   "cell_type": "code",
   "execution_count": 10,
   "metadata": {
    "ExecuteTime": {
     "end_time": "2020-12-23T23:42:11.225000+08:00",
     "start_time": "2020-12-23T15:42:11.149Z"
    }
   },
   "outputs": [
    {
     "data": {
      "text/plain": [
       "calculate_target_cup (generic function with 1 method)"
      ]
     },
     "execution_count": 10,
     "metadata": {},
     "output_type": "execute_result"
    }
   ],
   "source": [
    "function calculate_target_cup(current_cup, removed_cups, cup_count)\n",
    "    while true\n",
    "        current_cup -= 1\n",
    "        (current_cup == 0) && (current_cup = cup_count)\n",
    "        (current_cup ∈ removed_cups) || (return current_cup)\n",
    "    end\n",
    "end"
   ]
  },
  {
   "cell_type": "code",
   "execution_count": 11,
   "metadata": {
    "ExecuteTime": {
     "end_time": "2020-12-23T23:42:11.395000+08:00",
     "start_time": "2020-12-23T15:42:11.299Z"
    }
   },
   "outputs": [
    {
     "data": {
      "text/plain": [
       "next! (generic function with 1 method)"
      ]
     },
     "execution_count": 11,
     "metadata": {},
     "output_type": "execute_result"
    }
   ],
   "source": [
    "function next!(cups::Vector{Int}, current_cup::Int)\n",
    "    cups_count = length(cups)\n",
    "    removed_cups = remove_cups_after!(cups, current_cup, 3)\n",
    "    target_cup = calculate_target_cup(current_cup, removed_cups, cups_count)\n",
    "    insert_cups_after!(cups, target_cup, removed_cups)\n",
    "    return cups[current_cup]\n",
    "end"
   ]
  },
  {
   "cell_type": "code",
   "execution_count": 12,
   "metadata": {
    "ExecuteTime": {
     "end_time": "2020-12-23T23:42:11.919000+08:00",
     "start_time": "2020-12-23T15:42:11.837Z"
    }
   },
   "outputs": [
    {
     "data": {
      "text/plain": [
       "next_repeat! (generic function with 1 method)"
      ]
     },
     "execution_count": 12,
     "metadata": {},
     "output_type": "execute_result"
    }
   ],
   "source": [
    "function next_repeat!(cups, current_cup, moves)\n",
    "    cup = current_cup\n",
    "    for i in 1:moves\n",
    "        cup = next!(cups, cup)\n",
    "    end\n",
    "    \n",
    "    return cups\n",
    "end"
   ]
  },
  {
   "cell_type": "markdown",
   "metadata": {},
   "source": [
    "### answer"
   ]
  },
  {
   "cell_type": "code",
   "execution_count": 14,
   "metadata": {
    "ExecuteTime": {
     "end_time": "2020-12-23T23:44:36.139000+08:00",
     "start_time": "2020-12-23T15:44:36.066Z"
    }
   },
   "outputs": [
    {
     "data": {
      "text/plain": [
       "form_part1_answer (generic function with 1 method)"
      ]
     },
     "execution_count": 14,
     "metadata": {},
     "output_type": "execute_result"
    }
   ],
   "source": [
    "function form_part1_answer(cups)\n",
    "    result = Int[]\n",
    "    cup = cups[1]\n",
    "    while cup != 1\n",
    "        push!(result, cup)\n",
    "        cup = cups[cup]\n",
    "    end\n",
    "    return join(string.(result))\n",
    "end"
   ]
  },
  {
   "cell_type": "code",
   "execution_count": 15,
   "metadata": {
    "ExecuteTime": {
     "end_time": "2020-12-23T23:44:37.904000+08:00",
     "start_time": "2020-12-23T15:44:37.901Z"
    }
   },
   "outputs": [
    {
     "data": {
      "text/plain": [
       "show_answer_report (generic function with 1 method)"
      ]
     },
     "execution_count": 15,
     "metadata": {},
     "output_type": "execute_result"
    }
   ],
   "source": [
    "function show_answer_report(data, moves, ::Val{:part1})\n",
    "    cups = make_cups(data)\n",
    "    result = next_repeat!(cups, data[1], moves)\n",
    "    @info \"Answer found.\" answer=form_part1_answer(result)\n",
    "    return\n",
    "end"
   ]
  },
  {
   "cell_type": "code",
   "execution_count": 28,
   "metadata": {
    "ExecuteTime": {
     "end_time": "2020-12-23T23:58:01.427000+08:00",
     "start_time": "2020-12-23T15:58:01.383Z"
    }
   },
   "outputs": [
    {
     "name": "stderr",
     "output_type": "stream",
     "text": [
      "┌ Info: Answer found.\n",
      "│   answer = 92658374\n",
      "└ @ Main In[15]:4\n"
     ]
    }
   ],
   "source": [
    "show_answer_report(input_sample_1, 10, Val(:part1))"
   ]
  },
  {
   "cell_type": "code",
   "execution_count": 29,
   "metadata": {
    "ExecuteTime": {
     "end_time": "2020-12-23T23:58:02.198000+08:00",
     "start_time": "2020-12-23T15:58:02.196Z"
    },
    "scrolled": true
   },
   "outputs": [
    {
     "name": "stderr",
     "output_type": "stream",
     "text": [
      "┌ Info: Answer found.\n",
      "│   answer = 67384529\n",
      "└ @ Main In[15]:4\n"
     ]
    }
   ],
   "source": [
    "show_answer_report(input_sample_1, 100, Val(:part1))"
   ]
  },
  {
   "cell_type": "code",
   "execution_count": 30,
   "metadata": {
    "ExecuteTime": {
     "end_time": "2020-12-23T23:58:02.812000+08:00",
     "start_time": "2020-12-23T15:58:02.810Z"
    },
    "scrolled": false
   },
   "outputs": [
    {
     "name": "stderr",
     "output_type": "stream",
     "text": [
      "┌ Info: Answer found.\n",
      "│   answer = 89573246\n",
      "└ @ Main In[15]:4\n"
     ]
    }
   ],
   "source": [
    "show_answer_report(input_puzzle, 100, Val(:part1))"
   ]
  },
  {
   "cell_type": "markdown",
   "metadata": {},
   "source": [
    "## part 2"
   ]
  },
  {
   "cell_type": "markdown",
   "metadata": {},
   "source": [
    "### answer"
   ]
  },
  {
   "cell_type": "code",
   "execution_count": 23,
   "metadata": {
    "ExecuteTime": {
     "end_time": "2020-12-23T23:48:25.424000+08:00",
     "start_time": "2020-12-23T15:48:25.421Z"
    }
   },
   "outputs": [
    {
     "data": {
      "text/plain": [
       "form_part2_answer (generic function with 1 method)"
      ]
     },
     "execution_count": 23,
     "metadata": {},
     "output_type": "execute_result"
    }
   ],
   "source": [
    "function form_part2_answer(cups)\n",
    "    cup1 = cups[1]\n",
    "    cup2 = cups[cup1]\n",
    "    return cup1 * cup2\n",
    "end"
   ]
  },
  {
   "cell_type": "code",
   "execution_count": 20,
   "metadata": {
    "ExecuteTime": {
     "end_time": "2020-12-23T23:45:34.480000+08:00",
     "start_time": "2020-12-23T15:45:34.477Z"
    },
    "scrolled": true
   },
   "outputs": [
    {
     "data": {
      "text/plain": [
       "show_answer_report (generic function with 2 methods)"
      ]
     },
     "execution_count": 20,
     "metadata": {},
     "output_type": "execute_result"
    }
   ],
   "source": [
    "function show_answer_report(data, moves, ::Val{:part2})\n",
    "    cups = make_cups([data; 10:1000000])\n",
    "    result = next_repeat!(cups, data[1], moves)\n",
    "    @info \"Answer found.\" answer=form_part2_answer(result)\n",
    "    return\n",
    "end"
   ]
  },
  {
   "cell_type": "code",
   "execution_count": 31,
   "metadata": {
    "ExecuteTime": {
     "end_time": "2020-12-23T23:58:05.530000+08:00",
     "start_time": "2020-12-23T15:58:04.637Z"
    },
    "scrolled": true
   },
   "outputs": [
    {
     "name": "stderr",
     "output_type": "stream",
     "text": [
      "┌ Info: Answer found.\n",
      "│   answer = 149245887792\n",
      "└ @ Main In[20]:4\n"
     ]
    }
   ],
   "source": [
    "show_answer_report(input_sample_1, 10000000, Val(:part2))"
   ]
  },
  {
   "cell_type": "code",
   "execution_count": 32,
   "metadata": {
    "ExecuteTime": {
     "end_time": "2020-12-23T23:58:07.089000+08:00",
     "start_time": "2020-12-23T15:58:06.320Z"
    },
    "scrolled": true
   },
   "outputs": [
    {
     "name": "stderr",
     "output_type": "stream",
     "text": [
      "┌ Info: Answer found.\n",
      "│   answer = 2029056128\n",
      "└ @ Main In[20]:4\n"
     ]
    }
   ],
   "source": [
    "show_answer_report(input_puzzle, 10000000, Val(:part2))"
   ]
  }
 ],
 "metadata": {
  "@webio": {
   "lastCommId": null,
   "lastKernelId": null
  },
  "kernelspec": {
   "display_name": "Julia 1.5.3",
   "language": "julia",
   "name": "julia-1.5"
  },
  "language_info": {
   "file_extension": ".jl",
   "mimetype": "application/julia",
   "name": "julia",
   "version": "1.5.3"
  },
  "latex_envs": {
   "LaTeX_envs_menu_present": true,
   "autoclose": false,
   "autocomplete": true,
   "bibliofile": "biblio.bib",
   "cite_by": "apalike",
   "current_citInitial": 1,
   "eqLabelWithNumbers": true,
   "eqNumInitial": 1,
   "hotkeys": {
    "equation": "Ctrl-E",
    "itemize": "Ctrl-I"
   },
   "labels_anchors": false,
   "latex_user_defs": false,
   "report_style_numbering": false,
   "user_envs_cfg": false
  },
  "toc": {
   "base_numbering": 1,
   "nav_menu": {},
   "number_sections": true,
   "sideBar": true,
   "skip_h1_title": true,
   "title_cell": "Table of Contents",
   "title_sidebar": "Contents",
   "toc_cell": true,
   "toc_position": {},
   "toc_section_display": true,
   "toc_window_display": false
  }
 },
 "nbformat": 4,
 "nbformat_minor": 4
}
