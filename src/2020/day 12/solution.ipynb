{
 "cells": [
  {
   "cell_type": "markdown",
   "metadata": {},
   "source": [
    "# Advent of Code 2020 Day 12\n",
    "[link](https://adventofcode.com/2020/day/12)"
   ]
  },
  {
   "cell_type": "markdown",
   "metadata": {
    "toc": true
   },
   "source": [
    "<h1>Table of Contents<span class=\"tocSkip\"></span></h1>\n",
    "<div class=\"toc\"><ul class=\"toc-item\"><li><span><a href=\"#dependencies\" data-toc-modified-id=\"dependencies-1\"><span class=\"toc-item-num\">1&nbsp;&nbsp;</span>dependencies</a></span></li><li><span><a href=\"#read-input\" data-toc-modified-id=\"read-input-2\"><span class=\"toc-item-num\">2&nbsp;&nbsp;</span>read input</a></span></li><li><span><a href=\"#part-1\" data-toc-modified-id=\"part-1-3\"><span class=\"toc-item-num\">3&nbsp;&nbsp;</span>part 1</a></span><ul class=\"toc-item\"><li><span><a href=\"#answer\" data-toc-modified-id=\"answer-3.1\"><span class=\"toc-item-num\">3.1&nbsp;&nbsp;</span>answer</a></span></li></ul></li><li><span><a href=\"#part-2\" data-toc-modified-id=\"part-2-4\"><span class=\"toc-item-num\">4&nbsp;&nbsp;</span>part 2</a></span><ul class=\"toc-item\"><li><span><a href=\"#answer\" data-toc-modified-id=\"answer-4.1\"><span class=\"toc-item-num\">4.1&nbsp;&nbsp;</span>answer</a></span></li></ul></li></ul></div>"
   ]
  },
  {
   "cell_type": "markdown",
   "metadata": {},
   "source": [
    "## dependencies"
   ]
  },
  {
   "cell_type": "markdown",
   "metadata": {},
   "source": [
    "## read input"
   ]
  },
  {
   "cell_type": "code",
   "execution_count": 102,
   "metadata": {
    "ExecuteTime": {
     "end_time": "2020-12-12T23:02:59.991000+08:00",
     "start_time": "2020-12-12T15:02:59.988Z"
    }
   },
   "outputs": [
    {
     "data": {
      "text/plain": [
       "parse_input_line (generic function with 1 method)"
      ]
     },
     "execution_count": 102,
     "metadata": {},
     "output_type": "execute_result"
    }
   ],
   "source": [
    "parse_input_line(line) = (op = Symbol(line[1]), val = parse(Int, line[2:end]))"
   ]
  },
  {
   "cell_type": "code",
   "execution_count": 89,
   "metadata": {
    "ExecuteTime": {
     "end_time": "2020-12-12T22:45:38.604000+08:00",
     "start_time": "2020-12-12T14:45:38.602Z"
    }
   },
   "outputs": [
    {
     "data": {
      "text/plain": [
       "parse_input (generic function with 1 method)"
      ]
     },
     "execution_count": 89,
     "metadata": {},
     "output_type": "execute_result"
    }
   ],
   "source": [
    "parse_input(filename) = parse_input_line.(readlines(filename))"
   ]
  },
  {
   "cell_type": "code",
   "execution_count": 103,
   "metadata": {
    "ExecuteTime": {
     "end_time": "2020-12-12T23:03:01.793000+08:00",
     "start_time": "2020-12-12T15:03:01.751Z"
    }
   },
   "outputs": [
    {
     "data": {
      "text/plain": [
       "5-element Array{NamedTuple{(:op, :val),Tuple{Symbol,Int64}},1}:\n",
       " (op = :F, val = 10)\n",
       " (op = :N, val = 3)\n",
       " (op = :F, val = 7)\n",
       " (op = :R, val = 90)\n",
       " (op = :F, val = 11)"
      ]
     },
     "execution_count": 103,
     "metadata": {},
     "output_type": "execute_result"
    }
   ],
   "source": [
    "input_sample_1 = parse_input(\"input_sample_1.txt\")"
   ]
  },
  {
   "cell_type": "code",
   "execution_count": 104,
   "metadata": {
    "ExecuteTime": {
     "end_time": "2020-12-12T23:03:03.594000+08:00",
     "start_time": "2020-12-12T15:03:03.589Z"
    },
    "scrolled": true
   },
   "outputs": [
    {
     "data": {
      "text/plain": [
       "773-element Array{NamedTuple{(:op, :val),Tuple{Symbol,Int64}},1}:\n",
       " (op = :N, val = 4)\n",
       " (op = :R, val = 90)\n",
       " (op = :E, val = 1)\n",
       " (op = :L, val = 90)\n",
       " (op = :S, val = 5)\n",
       " (op = :R, val = 90)\n",
       " (op = :E, val = 4)\n",
       " (op = :L, val = 180)\n",
       " (op = :W, val = 1)\n",
       " (op = :W, val = 2)\n",
       " (op = :L, val = 90)\n",
       " (op = :N, val = 1)\n",
       " (op = :R, val = 90)\n",
       " ⋮\n",
       " (op = :F, val = 6)\n",
       " (op = :N, val = 5)\n",
       " (op = :F, val = 100)\n",
       " (op = :L, val = 180)\n",
       " (op = :W, val = 3)\n",
       " (op = :L, val = 90)\n",
       " (op = :E, val = 3)\n",
       " (op = :S, val = 3)\n",
       " (op = :W, val = 4)\n",
       " (op = :S, val = 3)\n",
       " (op = :W, val = 4)\n",
       " (op = :F, val = 38)"
      ]
     },
     "execution_count": 104,
     "metadata": {},
     "output_type": "execute_result"
    }
   ],
   "source": [
    "input_puzzle = parse_input(\"input_puzzle.txt\")"
   ]
  },
  {
   "cell_type": "markdown",
   "metadata": {},
   "source": [
    "## part 1"
   ]
  },
  {
   "cell_type": "code",
   "execution_count": 8,
   "metadata": {
    "ExecuteTime": {
     "end_time": "2020-12-12T21:02:31.975000+08:00",
     "start_time": "2020-12-12T13:02:31.973Z"
    }
   },
   "outputs": [
    {
     "data": {
      "text/plain": [
       "NamedTuple{(:x, :y),Tuple{Int64,Int64}}"
      ]
     },
     "execution_count": 8,
     "metadata": {},
     "output_type": "execute_result"
    }
   ],
   "source": [
    "Coordinate = @NamedTuple{x::Int, y::Int}"
   ]
  },
  {
   "cell_type": "code",
   "execution_count": 56,
   "metadata": {
    "ExecuteTime": {
     "end_time": "2020-12-12T22:27:26.762000+08:00",
     "start_time": "2020-12-12T14:27:26.682Z"
    }
   },
   "outputs": [
    {
     "data": {
      "text/plain": [
       "dist (generic function with 1 method)"
      ]
     },
     "execution_count": 56,
     "metadata": {},
     "output_type": "execute_result"
    }
   ],
   "source": [
    "dist(c::Coordinate) = abs(c.x) + abs(c.y)"
   ]
  },
  {
   "cell_type": "code",
   "execution_count": 55,
   "metadata": {
    "ExecuteTime": {
     "end_time": "2020-12-12T22:27:06.801000+08:00",
     "start_time": "2020-12-12T14:27:06.798Z"
    }
   },
   "outputs": [],
   "source": [
    "Base.:+(c1::Coordinate, c2::Coordinate)::Coordinate = (x = c1.x + c2.x, y = c1.y + c2.y)"
   ]
  },
  {
   "cell_type": "code",
   "execution_count": 54,
   "metadata": {
    "ExecuteTime": {
     "end_time": "2020-12-12T22:27:06.164000+08:00",
     "start_time": "2020-12-12T14:27:06.161Z"
    }
   },
   "outputs": [],
   "source": [
    "Base.:*(r::Int, c::Coordinate)::Coordinate = (x = r * c.x, y = r * c.y)"
   ]
  },
  {
   "cell_type": "code",
   "execution_count": 87,
   "metadata": {
    "ExecuteTime": {
     "end_time": "2020-12-12T22:45:08.193000+08:00",
     "start_time": "2020-12-12T14:45:08.188Z"
    }
   },
   "outputs": [
    {
     "data": {
      "text/plain": [
       "unit (generic function with 4 methods)"
      ]
     },
     "execution_count": 87,
     "metadata": {},
     "output_type": "execute_result"
    }
   ],
   "source": [
    "unit(::Val{:N})::Coordinate = (x = 0, y = 1)\n",
    "unit(::Val{:S})::Coordinate = (x = 0, y = -1)\n",
    "unit(::Val{:E})::Coordinate = (x = 1, y = 0)\n",
    "unit(::Val{:W})::Coordinate = (x = -1, y = 0)"
   ]
  },
  {
   "cell_type": "code",
   "execution_count": 90,
   "metadata": {
    "ExecuteTime": {
     "end_time": "2020-12-12T22:48:27.748000+08:00",
     "start_time": "2020-12-12T14:48:27.657Z"
    }
   },
   "outputs": [
    {
     "data": {
      "text/plain": [
       "deg_to_rep (generic function with 1 method)"
      ]
     },
     "execution_count": 90,
     "metadata": {},
     "output_type": "execute_result"
    }
   ],
   "source": [
    "deg_to_rep(deg::Int) = mod(deg ÷ 90, 4)"
   ]
  },
  {
   "cell_type": "code",
   "execution_count": 91,
   "metadata": {
    "ExecuteTime": {
     "end_time": "2020-12-12T22:48:28.423000+08:00",
     "start_time": "2020-12-12T14:48:28.419Z"
    }
   },
   "outputs": [
    {
     "data": {
      "text/plain": [
       "rotate_right (generic function with 2 methods)"
      ]
     },
     "execution_count": 91,
     "metadata": {},
     "output_type": "execute_result"
    }
   ],
   "source": [
    "rotate_right(pos::Coordinate)::Coordinate = (x = pos.y, y = -pos.x)\n",
    "rotate_right(pos::Coordinate, rep::Int)::Coordinate = foldr((_, pos) -> rot_right(pos), 1:rep, init=pos)"
   ]
  },
  {
   "cell_type": "code",
   "execution_count": 66,
   "metadata": {
    "ExecuteTime": {
     "end_time": "2020-12-12T22:34:54.601000+08:00",
     "start_time": "2020-12-12T14:34:54.512Z"
    }
   },
   "outputs": [
    {
     "data": {
      "text/plain": [
       "move (generic function with 1 method)"
      ]
     },
     "execution_count": 66,
     "metadata": {},
     "output_type": "execute_result"
    }
   ],
   "source": [
    "move(pos::Coordinate, direction::Coordinate, magnitude::Int)::Coordinate = pos + magnitude * direction"
   ]
  },
  {
   "cell_type": "code",
   "execution_count": 92,
   "metadata": {
    "ExecuteTime": {
     "end_time": "2020-12-12T22:48:35.423000+08:00",
     "start_time": "2020-12-12T14:48:35.419Z"
    }
   },
   "outputs": [
    {
     "data": {
      "text/plain": [
       "final_position (generic function with 5 methods)"
      ]
     },
     "execution_count": 92,
     "metadata": {},
     "output_type": "execute_result"
    }
   ],
   "source": [
    "function final_position(instructions)\n",
    "    pos = (x = 0, y = 0)\n",
    "    facing = (x = 1, y = 0)\n",
    "    \n",
    "    for (op, val) in instructions\n",
    "        if op ∈ (:N, :S, :E, :W)\n",
    "            pos = move(pos, unit(Val(op)), val)\n",
    "        elseif op == :F\n",
    "            pos = move(pos, facing, val)\n",
    "        elseif op == :L\n",
    "            facing = rotate_right(facing, deg_to_rep(-val))\n",
    "        elseif op == :R\n",
    "            facing = rotate_right(facing, deg_to_rep(val))\n",
    "        end\n",
    "    end\n",
    "    \n",
    "    return pos\n",
    "end"
   ]
  },
  {
   "cell_type": "markdown",
   "metadata": {},
   "source": [
    "### answer"
   ]
  },
  {
   "cell_type": "code",
   "execution_count": 71,
   "metadata": {
    "ExecuteTime": {
     "end_time": "2020-12-12T22:38:27.744000+08:00",
     "start_time": "2020-12-12T14:38:27.741Z"
    }
   },
   "outputs": [
    {
     "data": {
      "text/plain": [
       "show_answer_report (generic function with 1 method)"
      ]
     },
     "execution_count": 71,
     "metadata": {},
     "output_type": "execute_result"
    }
   ],
   "source": [
    "function show_answer_report(input, ::Val{:part1})\n",
    "    @show pos = final_position(input)\n",
    "    @info \"Answer found.\" answer=dist(pos)\n",
    "    return\n",
    "end"
   ]
  },
  {
   "cell_type": "code",
   "execution_count": 93,
   "metadata": {
    "ExecuteTime": {
     "end_time": "2020-12-12T22:48:37.527000+08:00",
     "start_time": "2020-12-12T14:48:37.447Z"
    },
    "scrolled": true
   },
   "outputs": [
    {
     "name": "stdout",
     "output_type": "stream",
     "text": [
      "pos = final_position(input) = (x = 17, y = -8)\n"
     ]
    },
    {
     "name": "stderr",
     "output_type": "stream",
     "text": [
      "┌ Info: Answer found.\n",
      "│   answer = 25\n",
      "└ @ Main In[71]:3\n"
     ]
    }
   ],
   "source": [
    "show_answer_report(input_sample_1, Val(:part1))"
   ]
  },
  {
   "cell_type": "code",
   "execution_count": 94,
   "metadata": {
    "ExecuteTime": {
     "end_time": "2020-12-12T22:48:38.306000+08:00",
     "start_time": "2020-12-12T14:48:38.295Z"
    },
    "scrolled": false
   },
   "outputs": [
    {
     "name": "stdout",
     "output_type": "stream",
     "text": [
      "pos = final_position(input) = (x = 198, y = -121)\n"
     ]
    },
    {
     "name": "stderr",
     "output_type": "stream",
     "text": [
      "┌ Info: Answer found.\n",
      "│   answer = 319\n",
      "└ @ Main In[71]:3\n"
     ]
    }
   ],
   "source": [
    "show_answer_report(input_puzzle, Val(:part1))"
   ]
  },
  {
   "cell_type": "markdown",
   "metadata": {},
   "source": [
    "## part 2"
   ]
  },
  {
   "cell_type": "code",
   "execution_count": 70,
   "metadata": {
    "ExecuteTime": {
     "end_time": "2020-12-12T22:38:03.055000+08:00",
     "start_time": "2020-12-12T14:38:02.977Z"
    }
   },
   "outputs": [
    {
     "data": {
      "text/plain": [
       "correct_final_position (generic function with 1 method)"
      ]
     },
     "execution_count": 70,
     "metadata": {},
     "output_type": "execute_result"
    }
   ],
   "source": [
    "function correct_final_position(instructions)\n",
    "    pos = (x = 0, y = 0)\n",
    "    waypoint = (x = 10, y = 1)\n",
    "    \n",
    "    for (op, val) in instructions\n",
    "        if op ∈ (:N, :S, :E, :W)\n",
    "            waypoint = move(waypoint, unit(Val(op)), val)\n",
    "        elseif op == :F\n",
    "            pos = move(pos, waypoint, val)\n",
    "        elseif op == :L\n",
    "            waypoint = rotate_right(waypoint, deg_to_rep(-val))\n",
    "        elseif op == :R\n",
    "            waypoint = rotate_right(waypoint, deg_to_rep(val))\n",
    "        end\n",
    "    end\n",
    "    return pos\n",
    "end"
   ]
  },
  {
   "cell_type": "markdown",
   "metadata": {},
   "source": [
    "### answer"
   ]
  },
  {
   "cell_type": "code",
   "execution_count": 74,
   "metadata": {
    "ExecuteTime": {
     "end_time": "2020-12-12T22:38:55.010000+08:00",
     "start_time": "2020-12-12T14:38:55.005Z"
    }
   },
   "outputs": [
    {
     "data": {
      "text/plain": [
       "show_answer_report (generic function with 2 methods)"
      ]
     },
     "execution_count": 74,
     "metadata": {},
     "output_type": "execute_result"
    }
   ],
   "source": [
    "function show_answer_report(input, ::Val{:part2})\n",
    "    @show pos = correct_final_position(input)\n",
    "    @info \"Answer found.\" answer=dist(pos)\n",
    "    return\n",
    "end"
   ]
  },
  {
   "cell_type": "code",
   "execution_count": 75,
   "metadata": {
    "ExecuteTime": {
     "end_time": "2020-12-12T22:38:56.816000+08:00",
     "start_time": "2020-12-12T14:38:56.766Z"
    },
    "scrolled": true
   },
   "outputs": [
    {
     "name": "stdout",
     "output_type": "stream",
     "text": [
      "pos = correct_final_position(input) = (x = 214, y = -72)\n"
     ]
    },
    {
     "name": "stderr",
     "output_type": "stream",
     "text": [
      "┌ Info: Answer found.\n",
      "│   answer = 286\n",
      "└ @ Main In[74]:3\n"
     ]
    }
   ],
   "source": [
    "show_answer_report(input_sample_1, Val(:part2))"
   ]
  },
  {
   "cell_type": "code",
   "execution_count": 76,
   "metadata": {
    "ExecuteTime": {
     "end_time": "2020-12-12T22:39:02.797000+08:00",
     "start_time": "2020-12-12T14:39:02.793Z"
    },
    "scrolled": true
   },
   "outputs": [
    {
     "name": "stdout",
     "output_type": "stream",
     "text": [
      "pos = correct_final_position(input) = (x = -10938, y = 39219)\n"
     ]
    },
    {
     "name": "stderr",
     "output_type": "stream",
     "text": [
      "┌ Info: Answer found.\n",
      "│   answer = 50157\n",
      "└ @ Main In[74]:3\n"
     ]
    }
   ],
   "source": [
    "show_answer_report(input_puzzle, Val(:part2))"
   ]
  }
 ],
 "metadata": {
  "@webio": {
   "lastCommId": null,
   "lastKernelId": null
  },
  "kernelspec": {
   "display_name": "Julia 1.5.3",
   "language": "julia",
   "name": "julia-1.5"
  },
  "language_info": {
   "file_extension": ".jl",
   "mimetype": "application/julia",
   "name": "julia",
   "version": "1.5.3"
  },
  "latex_envs": {
   "LaTeX_envs_menu_present": true,
   "autoclose": false,
   "autocomplete": true,
   "bibliofile": "biblio.bib",
   "cite_by": "apalike",
   "current_citInitial": 1,
   "eqLabelWithNumbers": true,
   "eqNumInitial": 1,
   "hotkeys": {
    "equation": "Ctrl-E",
    "itemize": "Ctrl-I"
   },
   "labels_anchors": false,
   "latex_user_defs": false,
   "report_style_numbering": false,
   "user_envs_cfg": false
  },
  "toc": {
   "base_numbering": 1,
   "nav_menu": {},
   "number_sections": true,
   "sideBar": true,
   "skip_h1_title": true,
   "title_cell": "Table of Contents",
   "title_sidebar": "Contents",
   "toc_cell": true,
   "toc_position": {},
   "toc_section_display": true,
   "toc_window_display": false
  },
  "varInspector": {
   "cols": {
    "lenName": 16,
    "lenType": 16,
    "lenVar": 40
   },
   "kernels_config": {
    "python": {
     "delete_cmd_postfix": "",
     "delete_cmd_prefix": "del ",
     "library": "var_list.py",
     "varRefreshCmd": "print(var_dic_list())"
    },
    "r": {
     "delete_cmd_postfix": ") ",
     "delete_cmd_prefix": "rm(",
     "library": "var_list.r",
     "varRefreshCmd": "cat(var_dic_list()) "
    }
   },
   "types_to_exclude": [
    "module",
    "function",
    "builtin_function_or_method",
    "instance",
    "_Feature"
   ],
   "window_display": false
  }
 },
 "nbformat": 4,
 "nbformat_minor": 4
}
