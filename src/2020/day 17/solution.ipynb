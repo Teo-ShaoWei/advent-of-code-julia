{
 "cells": [
  {
   "cell_type": "markdown",
   "metadata": {},
   "source": [
    "# Advent of Code 2020 Day ?\n",
    "[link](https://adventofcode.com/2020/day/?)"
   ]
  },
  {
   "cell_type": "markdown",
   "metadata": {
    "toc": true
   },
   "source": [
    "<h1>Table of Contents<span class=\"tocSkip\"></span></h1>\n",
    "<div class=\"toc\"><ul class=\"toc-item\"><li><span><a href=\"#dependencies\" data-toc-modified-id=\"dependencies-1\"><span class=\"toc-item-num\">1&nbsp;&nbsp;</span>dependencies</a></span></li><li><span><a href=\"#read-input\" data-toc-modified-id=\"read-input-2\"><span class=\"toc-item-num\">2&nbsp;&nbsp;</span>read input</a></span></li><li><span><a href=\"#part-1\" data-toc-modified-id=\"part-1-3\"><span class=\"toc-item-num\">3&nbsp;&nbsp;</span>part 1</a></span><ul class=\"toc-item\"><li><span><a href=\"#answer\" data-toc-modified-id=\"answer-3.1\"><span class=\"toc-item-num\">3.1&nbsp;&nbsp;</span>answer</a></span></li></ul></li><li><span><a href=\"#part-2\" data-toc-modified-id=\"part-2-4\"><span class=\"toc-item-num\">4&nbsp;&nbsp;</span>part 2</a></span><ul class=\"toc-item\"><li><span><a href=\"#answer\" data-toc-modified-id=\"answer-4.1\"><span class=\"toc-item-num\">4.1&nbsp;&nbsp;</span>answer</a></span></li></ul></li></ul></div>"
   ]
  },
  {
   "cell_type": "markdown",
   "metadata": {},
   "source": [
    "## dependencies"
   ]
  },
  {
   "cell_type": "code",
   "execution_count": 1,
   "metadata": {
    "ExecuteTime": {
     "end_time": "2020-12-17T13:01:29.597000+08:00",
     "start_time": "2020-12-17T05:01:18.782Z"
    }
   },
   "outputs": [
    {
     "data": {
      "text/html": [
       "<script>\n",
       "// Immediately-invoked-function-expression to avoid global variables.\n",
       "(function() {\n",
       "    var warning_div = document.getElementById(\"webio-warning-17996595458377945946\");\n",
       "    var hide = function () {\n",
       "        var script = document.getElementById(\"webio-setup-6241015813136177347\");\n",
       "        var parent = script && script.parentElement;\n",
       "        var grandparent = parent && parent.parentElement;\n",
       "        if (grandparent) {\n",
       "            grandparent.style.display = \"none\";\n",
       "        }\n",
       "        warning_div.style.display = \"none\";\n",
       "    };\n",
       "    if (typeof Jupyter !== \"undefined\") {\n",
       "        console.log(\"WebIO detected Jupyter notebook environment.\");\n",
       "        // Jupyter notebook.\n",
       "        var extensions = (\n",
       "            Jupyter\n",
       "            && Jupyter.notebook.config.data\n",
       "            && Jupyter.notebook.config.data.load_extensions\n",
       "        );\n",
       "        if (extensions && extensions[\"webio-jupyter-notebook\"]) {\n",
       "            // Extension already loaded.\n",
       "            console.log(\"Jupyter WebIO nbextension detected; not loading ad-hoc.\");\n",
       "            hide();\n",
       "            return;\n",
       "        }\n",
       "    } else if (window.location.pathname.includes(\"/lab\")) {\n",
       "        // Guessing JupyterLa\n",
       "        console.log(\"Jupyter Lab detected; make sure the @webio/jupyter-lab-provider labextension is installed.\");\n",
       "        hide();\n",
       "        return;\n",
       "    }\n",
       "})();\n",
       "\n",
       "</script>\n",
       "<p\n",
       "    id=\"webio-warning-17996595458377945946\"\n",
       "    class=\"output_text output_stderr\"\n",
       "    style=\"padding: 1em; font-weight: bold;\"\n",
       ">\n",
       "    Unable to load WebIO. Please make sure WebIO works for your Jupyter client.\n",
       "    For troubleshooting, please see <a href=\"https://juliagizmos.github.io/WebIO.jl/latest/providers/ijulia/\">\n",
       "    the WebIO/IJulia documentation</a>.\n",
       "    <!-- TODO: link to installation docs. -->\n",
       "</p>\n"
      ],
      "text/plain": [
       "HTML{String}(\"<script>\\n// Immediately-invoked-function-expression to avoid global variables.\\n(function() {\\n    var warning_div = document.getElementById(\\\"webio-warning-17996595458377945946\\\");\\n    var hide = function () {\\n        var script = document.getElementById(\\\"webio-setup-6241015813136177347\\\");\\n        var parent = script && script.parentElement;\\n        var grandparent = parent && parent.parentElement;\\n        if (grandparent) {\\n            grandparent.style.display = \\\"none\\\";\\n        }\\n        warning_div.style.display = \\\"none\\\";\\n    };\\n    if (typeof Jupyter !== \\\"undefined\\\") {\\n        console.log(\\\"WebIO detected Jupyter notebook environment.\\\");\\n        // Jupyter notebook.\\n        var extensions = (\\n            Jupyter\\n            && Jupyter.notebook.config.data\\n            && Jupyter.notebook.config.data.load_extensions\\n        );\\n        if (extensions && extensions[\\\"webio-jupyter-notebook\\\"]) {\\n            // Extension already loaded.\\n            console.log(\\\"Jupyter WebIO nbextension detected; not loading ad-hoc.\\\");\\n            hide();\\n            return;\\n        }\\n    } else if (window.location.pathname.includes(\\\"/lab\\\")) {\\n        // Guessing JupyterLa\\n        console.log(\\\"Jupyter Lab detected; make sure the @webio/jupyter-lab-provider labextension is installed.\\\");\\n        hide();\\n        return;\\n    }\\n})();\\n\\n</script>\\n<p\\n    id=\\\"webio-warning-17996595458377945946\\\"\\n    class=\\\"output_text output_stderr\\\"\\n    style=\\\"padding: 1em; font-weight: bold;\\\"\\n>\\n    Unable to load WebIO. Please make sure WebIO works for your Jupyter client.\\n    For troubleshooting, please see <a href=\\\"https://juliagizmos.github.io/WebIO.jl/latest/providers/ijulia/\\\">\\n    the WebIO/IJulia documentation</a>.\\n    <!-- TODO: link to installation docs. -->\\n</p>\\n\")"
      ]
     },
     "metadata": {},
     "output_type": "display_data"
    }
   ],
   "source": [
    "using Combinatorics, DataStructures, JSON, OffsetArrays, Interact, Images, NBInclude"
   ]
  },
  {
   "cell_type": "markdown",
   "metadata": {},
   "source": [
    "## read input"
   ]
  },
  {
   "cell_type": "code",
   "execution_count": 108,
   "metadata": {
    "ExecuteTime": {
     "end_time": "2020-12-17T13:37:43.686000+08:00",
     "start_time": "2020-12-17T05:37:43.682Z"
    }
   },
   "outputs": [
    {
     "data": {
      "text/plain": [
       "parse_input (generic function with 1 method)"
      ]
     },
     "execution_count": 108,
     "metadata": {},
     "output_type": "execute_result"
    }
   ],
   "source": [
    "function parse_input(filename)\n",
    "    lines = readlines(filename)\n",
    "    lines = [lines[i][j] for i in eachindex(lines), j in eachindex(lines[1]), _ in 1:1, _ in 1:1]\n",
    "    return OffsetArray((c -> c == '#' ? true : false).(lines), 0, 0, -1, -1)\n",
    "end"
   ]
  },
  {
   "cell_type": "code",
   "execution_count": 109,
   "metadata": {
    "ExecuteTime": {
     "end_time": "2020-12-17T13:37:46.430000+08:00",
     "start_time": "2020-12-17T05:37:45.071Z"
    }
   },
   "outputs": [
    {
     "data": {
      "text/plain": [
       "3×3×1×1 OffsetArray(::BitArray{4}, 1:3, 1:3, 0:0, 0:0) with eltype Bool with indices 1:3×1:3×0:0×0:0:\n",
       "[:, :, 0, 0] =\n",
       " 0  1  0\n",
       " 0  0  1\n",
       " 1  1  1"
      ]
     },
     "execution_count": 109,
     "metadata": {},
     "output_type": "execute_result"
    }
   ],
   "source": [
    "input_sample_1 = parse_input(\"input_sample_1.txt\")"
   ]
  },
  {
   "cell_type": "code",
   "execution_count": 110,
   "metadata": {
    "ExecuteTime": {
     "end_time": "2020-12-17T13:37:56.412000+08:00",
     "start_time": "2020-12-17T05:37:56.408Z"
    },
    "scrolled": true
   },
   "outputs": [
    {
     "data": {
      "text/plain": [
       "8×8×1×1 OffsetArray(::BitArray{4}, 1:8, 1:8, 0:0, 0:0) with eltype Bool with indices 1:8×1:8×0:0×0:0:\n",
       "[:, :, 0, 0] =\n",
       " 0  1  0  1  1  0  0  1\n",
       " 0  0  0  0  1  0  1  1\n",
       " 1  1  0  1  1  1  0  0\n",
       " 0  1  0  1  0  1  1  1\n",
       " 1  0  1  0  0  0  0  0\n",
       " 0  1  0  0  1  1  1  0\n",
       " 0  1  1  1  1  1  0  1\n",
       " 1  0  0  1  1  1  1  0"
      ]
     },
     "execution_count": 110,
     "metadata": {},
     "output_type": "execute_result"
    }
   ],
   "source": [
    "input_puzzle = parse_input(\"input_puzzle.txt\")"
   ]
  },
  {
   "cell_type": "markdown",
   "metadata": {},
   "source": [
    "## part 1"
   ]
  },
  {
   "cell_type": "code",
   "execution_count": 38,
   "metadata": {
    "ExecuteTime": {
     "end_time": "2020-12-17T13:12:44.172000+08:00",
     "start_time": "2020-12-17T05:12:44.098Z"
    }
   },
   "outputs": [
    {
     "data": {
      "text/plain": [
       "expand_dim (generic function with 1 method)"
      ]
     },
     "execution_count": 38,
     "metadata": {},
     "output_type": "execute_result"
    }
   ],
   "source": [
    "expand_dim(range) = (first(range) - 1):(last(range) + 1)"
   ]
  },
  {
   "cell_type": "code",
   "execution_count": 111,
   "metadata": {
    "ExecuteTime": {
     "end_time": "2020-12-17T13:38:16.528000+08:00",
     "start_time": "2020-12-17T05:38:15.496Z"
    }
   },
   "outputs": [
    {
     "data": {
      "text/plain": [
       "80-element Array{CartesianIndex{4},1}:\n",
       " CartesianIndex(-1, -1, -1, -1)\n",
       " CartesianIndex(0, -1, -1, -1)\n",
       " CartesianIndex(1, -1, -1, -1)\n",
       " CartesianIndex(-1, 0, -1, -1)\n",
       " CartesianIndex(0, 0, -1, -1)\n",
       " CartesianIndex(1, 0, -1, -1)\n",
       " CartesianIndex(-1, 1, -1, -1)\n",
       " CartesianIndex(0, 1, -1, -1)\n",
       " CartesianIndex(1, 1, -1, -1)\n",
       " CartesianIndex(-1, -1, 0, -1)\n",
       " CartesianIndex(0, -1, 0, -1)\n",
       " CartesianIndex(1, -1, 0, -1)\n",
       " CartesianIndex(-1, 0, 0, -1)\n",
       " ⋮\n",
       " CartesianIndex(-1, 1, 0, 1)\n",
       " CartesianIndex(0, 1, 0, 1)\n",
       " CartesianIndex(1, 1, 0, 1)\n",
       " CartesianIndex(-1, -1, 1, 1)\n",
       " CartesianIndex(0, -1, 1, 1)\n",
       " CartesianIndex(1, -1, 1, 1)\n",
       " CartesianIndex(-1, 0, 1, 1)\n",
       " CartesianIndex(0, 0, 1, 1)\n",
       " CartesianIndex(1, 0, 1, 1)\n",
       " CartesianIndex(-1, 1, 1, 1)\n",
       " CartesianIndex(0, 1, 1, 1)\n",
       " CartesianIndex(1, 1, 1, 1)"
      ]
     },
     "execution_count": 111,
     "metadata": {},
     "output_type": "execute_result"
    }
   ],
   "source": [
    "δs = filter(\n",
    "    i -> Tuple(i) != (0, 0, 0, 0),\n",
    "    CartesianIndices(\n",
    "        OffsetArray(falses(3, 3, 3, 3), -2, -2, -2, -2)\n",
    "    );\n",
    ")"
   ]
  },
  {
   "cell_type": "code",
   "execution_count": 112,
   "metadata": {
    "ExecuteTime": {
     "end_time": "2020-12-17T13:38:19.571000+08:00",
     "start_time": "2020-12-17T05:38:19.569Z"
    }
   },
   "outputs": [
    {
     "data": {
      "text/plain": [
       "neighbour_indices (generic function with 1 method)"
      ]
     },
     "execution_count": 112,
     "metadata": {},
     "output_type": "execute_result"
    }
   ],
   "source": [
    "function neighbour_indices(a, index)\n",
    "    return (Ref(index) .+ δs) ∩ CartesianIndices(a)\n",
    "end"
   ]
  },
  {
   "cell_type": "code",
   "execution_count": 97,
   "metadata": {
    "ExecuteTime": {
     "end_time": "2020-12-17T13:34:37.609000+08:00",
     "start_time": "2020-12-17T05:34:37.605Z"
    }
   },
   "outputs": [
    {
     "data": {
      "text/plain": [
       "next (generic function with 1 method)"
      ]
     },
     "execution_count": 97,
     "metadata": {},
     "output_type": "execute_result"
    }
   ],
   "source": [
    "function next(state)\n",
    "    x, y, z = expand_dim.(axes(state))\n",
    "    new_state = OffsetArray(falses(x, y, z), x, y, z)\n",
    "    \n",
    "    for i in CartesianIndices(new_state)\n",
    "            neighbours_state = state[neighbour_indices(state, i)]\n",
    "        if i ∈ CartesianIndices(state) && state[i]\n",
    "            new_state[i] = count(neighbours_state) ∈ 2:3\n",
    "        else\n",
    "            new_state[i] = count(neighbours_state) == 3\n",
    "        end\n",
    "    end\n",
    "    \n",
    "    return new_state\n",
    "end"
   ]
  },
  {
   "cell_type": "code",
   "execution_count": 99,
   "metadata": {
    "ExecuteTime": {
     "end_time": "2020-12-17T13:35:20.795000+08:00",
     "start_time": "2020-12-17T05:35:20.792Z"
    }
   },
   "outputs": [
    {
     "data": {
      "text/plain": [
       "next (generic function with 2 methods)"
      ]
     },
     "execution_count": 99,
     "metadata": {},
     "output_type": "execute_result"
    }
   ],
   "source": [
    "function next(state, n)\n",
    "    for i in 1:n\n",
    "        state = next(state)\n",
    "    end\n",
    "    return state\n",
    "end"
   ]
  },
  {
   "cell_type": "markdown",
   "metadata": {},
   "source": [
    "### answer"
   ]
  },
  {
   "cell_type": "code",
   "execution_count": 104,
   "metadata": {
    "ExecuteTime": {
     "end_time": "2020-12-17T13:36:40.742000+08:00",
     "start_time": "2020-12-17T05:36:40.569Z"
    }
   },
   "outputs": [
    {
     "data": {
      "text/plain": [
       "show_answer_report (generic function with 1 method)"
      ]
     },
     "execution_count": 104,
     "metadata": {},
     "output_type": "execute_result"
    }
   ],
   "source": [
    "function show_answer_report(input, ::Val{:part1})\n",
    "    final_state = next(input, 6)\n",
    "    @info \"Answer found.\" answer=count(final_state)\n",
    "    return\n",
    "end"
   ]
  },
  {
   "cell_type": "code",
   "execution_count": 105,
   "metadata": {
    "ExecuteTime": {
     "end_time": "2020-12-17T13:36:42.102000+08:00",
     "start_time": "2020-12-17T05:36:41.205Z"
    },
    "scrolled": true
   },
   "outputs": [
    {
     "name": "stderr",
     "output_type": "stream",
     "text": [
      "┌ Info: Answer found.\n",
      "│   answer = 112\n",
      "└ @ Main In[104]:3\n"
     ]
    }
   ],
   "source": [
    "show_answer_report(input_sample_1, Val(:part1))"
   ]
  },
  {
   "cell_type": "code",
   "execution_count": 106,
   "metadata": {
    "ExecuteTime": {
     "end_time": "2020-12-17T13:36:47.040000+08:00",
     "start_time": "2020-12-17T05:36:44.032Z"
    },
    "scrolled": false
   },
   "outputs": [
    {
     "name": "stderr",
     "output_type": "stream",
     "text": [
      "┌ Info: Answer found.\n",
      "│   answer = 338\n",
      "└ @ Main In[104]:3\n"
     ]
    }
   ],
   "source": [
    "show_answer_report(input_puzzle, Val(:part1))"
   ]
  },
  {
   "cell_type": "markdown",
   "metadata": {},
   "source": [
    "## part 2"
   ]
  },
  {
   "cell_type": "code",
   "execution_count": 130,
   "metadata": {
    "ExecuteTime": {
     "end_time": "2020-12-17T13:44:18.915000+08:00",
     "start_time": "2020-12-17T05:44:18.913Z"
    }
   },
   "outputs": [
    {
     "data": {
      "text/plain": [
       "in_range (generic function with 1 method)"
      ]
     },
     "execution_count": 130,
     "metadata": {},
     "output_type": "execute_result"
    }
   ],
   "source": [
    "function in_range(a, i)\n",
    "    return all(Tuple(i) .∈ axes(a))\n",
    "end"
   ]
  },
  {
   "cell_type": "code",
   "execution_count": 131,
   "metadata": {
    "ExecuteTime": {
     "end_time": "2020-12-17T13:44:19.541000+08:00",
     "start_time": "2020-12-17T05:44:19.538Z"
    }
   },
   "outputs": [
    {
     "data": {
      "text/plain": [
       "neighbour_indices (generic function with 1 method)"
      ]
     },
     "execution_count": 131,
     "metadata": {},
     "output_type": "execute_result"
    }
   ],
   "source": [
    "function neighbour_indices(a, index)\n",
    "    ranges = axes(a)\n",
    "    return filter(i -> in_range(a, i), Ref(index) .+ δs)\n",
    "end"
   ]
  },
  {
   "cell_type": "code",
   "execution_count": 132,
   "metadata": {
    "ExecuteTime": {
     "end_time": "2020-12-17T13:44:31.692000+08:00",
     "start_time": "2020-12-17T05:44:31.688Z"
    }
   },
   "outputs": [
    {
     "data": {
      "text/plain": [
       "next (generic function with 2 methods)"
      ]
     },
     "execution_count": 132,
     "metadata": {},
     "output_type": "execute_result"
    }
   ],
   "source": [
    "function next(state)\n",
    "    w, x, y, z = expand_dim.(axes(state))\n",
    "    new_state = OffsetArray(falses(w, x, y, z), w, x, y, z)\n",
    "    \n",
    "    for i in CartesianIndices(new_state)\n",
    "            neighbours_state = state[neighbour_indices(state, i)]\n",
    "        if in_range(state, i) && state[i]\n",
    "            new_state[i] = count(neighbours_state) ∈ 2:3\n",
    "        else\n",
    "            new_state[i] = count(neighbours_state) == 3\n",
    "        end\n",
    "    end\n",
    "    \n",
    "    return new_state\n",
    "end"
   ]
  },
  {
   "cell_type": "code",
   "execution_count": 114,
   "metadata": {
    "ExecuteTime": {
     "end_time": "2020-12-17T13:39:05.372000+08:00",
     "start_time": "2020-12-17T05:39:05.368Z"
    }
   },
   "outputs": [
    {
     "data": {
      "text/plain": [
       "next (generic function with 2 methods)"
      ]
     },
     "execution_count": 114,
     "metadata": {},
     "output_type": "execute_result"
    }
   ],
   "source": [
    "function next(state, n)\n",
    "    for i in 1:n\n",
    "        state = next(state)\n",
    "    end\n",
    "    return state\n",
    "end"
   ]
  },
  {
   "cell_type": "markdown",
   "metadata": {},
   "source": [
    "### answer"
   ]
  },
  {
   "cell_type": "code",
   "execution_count": 115,
   "metadata": {
    "ExecuteTime": {
     "end_time": "2020-12-17T13:39:12.682000+08:00",
     "start_time": "2020-12-17T05:39:12.679Z"
    }
   },
   "outputs": [
    {
     "data": {
      "text/plain": [
       "show_answer_report (generic function with 2 methods)"
      ]
     },
     "execution_count": 115,
     "metadata": {},
     "output_type": "execute_result"
    }
   ],
   "source": [
    "function show_answer_report(input, ::Val{:part2})\n",
    "    final_state = next(input, 6)\n",
    "    @info \"Answer found.\" answer=count(final_state)\n",
    "    return\n",
    "end"
   ]
  },
  {
   "cell_type": "code",
   "execution_count": 133,
   "metadata": {
    "ExecuteTime": {
     "end_time": "2020-12-17T13:44:35.216000+08:00",
     "start_time": "2020-12-17T05:44:34.813Z"
    },
    "scrolled": true
   },
   "outputs": [
    {
     "name": "stderr",
     "output_type": "stream",
     "text": [
      "┌ Info: Answer found.\n",
      "│   answer = 848\n",
      "└ @ Main In[115]:3\n"
     ]
    }
   ],
   "source": [
    "show_answer_report(input_sample_1, Val(:part2))"
   ]
  },
  {
   "cell_type": "code",
   "execution_count": 134,
   "metadata": {
    "ExecuteTime": {
     "end_time": "2020-12-17T13:44:37.187000+08:00",
     "start_time": "2020-12-17T05:44:36.739Z"
    },
    "scrolled": true
   },
   "outputs": [
    {
     "name": "stderr",
     "output_type": "stream",
     "text": [
      "┌ Info: Answer found.\n",
      "│   answer = 2440\n",
      "└ @ Main In[115]:3\n"
     ]
    }
   ],
   "source": [
    "show_answer_report(input_puzzle, Val(:part2))"
   ]
  }
 ],
 "metadata": {
  "@webio": {
   "lastCommId": null,
   "lastKernelId": null
  },
  "kernelspec": {
   "display_name": "Julia 1.5.3",
   "language": "julia",
   "name": "julia-1.5"
  },
  "language_info": {
   "file_extension": ".jl",
   "mimetype": "application/julia",
   "name": "julia",
   "version": "1.5.3"
  },
  "latex_envs": {
   "LaTeX_envs_menu_present": true,
   "autoclose": false,
   "autocomplete": true,
   "bibliofile": "biblio.bib",
   "cite_by": "apalike",
   "current_citInitial": 1,
   "eqLabelWithNumbers": true,
   "eqNumInitial": 1,
   "hotkeys": {
    "equation": "Ctrl-E",
    "itemize": "Ctrl-I"
   },
   "labels_anchors": false,
   "latex_user_defs": false,
   "report_style_numbering": false,
   "user_envs_cfg": false
  },
  "toc": {
   "base_numbering": 1,
   "nav_menu": {},
   "number_sections": true,
   "sideBar": true,
   "skip_h1_title": true,
   "title_cell": "Table of Contents",
   "title_sidebar": "Contents",
   "toc_cell": true,
   "toc_position": {},
   "toc_section_display": true,
   "toc_window_display": false
  }
 },
 "nbformat": 4,
 "nbformat_minor": 4
}
