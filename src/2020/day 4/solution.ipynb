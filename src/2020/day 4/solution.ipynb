{
 "cells": [
  {
   "cell_type": "markdown",
   "metadata": {},
   "source": [
    "# Advent of Code 2020 Day 4\n",
    "[link](https://adventofcode.com/2020/day/4)"
   ]
  },
  {
   "cell_type": "markdown",
   "metadata": {
    "toc": true
   },
   "source": [
    "<h1>Table of Contents<span class=\"tocSkip\"></span></h1>\n",
    "<div class=\"toc\"><ul class=\"toc-item\"><li><span><a href=\"#read-input\" data-toc-modified-id=\"read-input-1\"><span class=\"toc-item-num\">1&nbsp;&nbsp;</span>read input</a></span></li><li><span><a href=\"#part-1\" data-toc-modified-id=\"part-1-2\"><span class=\"toc-item-num\">2&nbsp;&nbsp;</span>part 1</a></span><ul class=\"toc-item\"><li><span><a href=\"#answer\" data-toc-modified-id=\"answer-2.1\"><span class=\"toc-item-num\">2.1&nbsp;&nbsp;</span>answer</a></span></li></ul></li><li><span><a href=\"#part-2\" data-toc-modified-id=\"part-2-3\"><span class=\"toc-item-num\">3&nbsp;&nbsp;</span>part 2</a></span><ul class=\"toc-item\"><li><span><a href=\"#answer\" data-toc-modified-id=\"answer-3.1\"><span class=\"toc-item-num\">3.1&nbsp;&nbsp;</span>answer</a></span></li></ul></li></ul></div>"
   ]
  },
  {
   "cell_type": "markdown",
   "metadata": {},
   "source": [
    "## read input"
   ]
  },
  {
   "cell_type": "code",
   "execution_count": 1,
   "metadata": {
    "ExecuteTime": {
     "end_time": "2020-12-07T12:48:35.641000+08:00",
     "start_time": "2020-12-07T04:48:34.657Z"
    }
   },
   "outputs": [
    {
     "data": {
      "text/plain": [
       "parse_entry (generic function with 1 method)"
      ]
     },
     "execution_count": 1,
     "metadata": {},
     "output_type": "execute_result"
    }
   ],
   "source": [
    "parse_entry(line) = Dict(split.(split(line, ' '), ':'))"
   ]
  },
  {
   "cell_type": "code",
   "execution_count": 2,
   "metadata": {
    "ExecuteTime": {
     "end_time": "2020-12-07T12:48:35.720000+08:00",
     "start_time": "2020-12-07T04:48:34.660Z"
    }
   },
   "outputs": [
    {
     "data": {
      "text/plain": [
       "parse_input (generic function with 1 method)"
      ]
     },
     "execution_count": 2,
     "metadata": {},
     "output_type": "execute_result"
    }
   ],
   "source": [
    "parse_input(filename) = parse_entry.(join.(split.(split(read(filename, String), \"\\n\\n\")), ' '))"
   ]
  },
  {
   "cell_type": "code",
   "execution_count": 3,
   "metadata": {
    "ExecuteTime": {
     "end_time": "2020-12-07T12:48:37.104000+08:00",
     "start_time": "2020-12-07T04:48:34.662Z"
    },
    "scrolled": true
   },
   "outputs": [
    {
     "data": {
      "text/plain": [
       "4-element Array{Dict{SubString{String},SubString{String}},1}:\n",
       " Dict(\"hcl\" => \"#fffffd\",\"ecl\" => \"gry\",\"pid\" => \"860033327\",\"cid\" => \"147\",\"iyr\" => \"2017\",\"eyr\" => \"2020\",\"hgt\" => \"183cm\",\"byr\" => \"1937\")\n",
       " Dict(\"hcl\" => \"#cfa07d\",\"ecl\" => \"amb\",\"cid\" => \"350\",\"pid\" => \"028048884\",\"iyr\" => \"2013\",\"eyr\" => \"2023\",\"byr\" => \"1929\")\n",
       " Dict(\"hcl\" => \"#ae17e1\",\"ecl\" => \"brn\",\"pid\" => \"760753108\",\"hgt\" => \"179cm\",\"iyr\" => \"2013\",\"eyr\" => \"2024\",\"byr\" => \"1931\")\n",
       " Dict(\"hcl\" => \"#cfa07d\",\"ecl\" => \"brn\",\"pid\" => \"166559648\",\"hgt\" => \"59in\",\"iyr\" => \"2011\",\"eyr\" => \"2025\")"
      ]
     },
     "execution_count": 3,
     "metadata": {},
     "output_type": "execute_result"
    }
   ],
   "source": [
    "input_sample_1 = parse_input(\"input_sample_1.txt\")"
   ]
  },
  {
   "cell_type": "code",
   "execution_count": 4,
   "metadata": {
    "ExecuteTime": {
     "end_time": "2020-12-07T12:48:37.177000+08:00",
     "start_time": "2020-12-07T04:48:34.665Z"
    },
    "scrolled": true
   },
   "outputs": [
    {
     "data": {
      "text/plain": [
       "295-element Array{Dict{SubString{String},SubString{String}},1}:\n",
       " Dict(\"hcl\" => \"#6c4ab1\",\"ecl\" => \"oth\",\"cid\" => \"189\",\"hgt\" => \"174cm\",\"iyr\" => \"2015\",\"eyr\" => \"2026\",\"pid\" => \"526744288\",\"byr\" => \"1947\")\n",
       " Dict(\"hcl\" => \"#808e9e\",\"ecl\" => \"grn\",\"pid\" => \"688706448\",\"hgt\" => \"162cm\",\"iyr\" => \"2017\",\"cid\" => \"174\",\"eyr\" => \"2025\",\"byr\" => \"1943\")\n",
       " Dict(\"hcl\" => \"#733820\",\"ecl\" => \"oth\",\"cid\" => \"124\",\"pid\" => \"111220591\",\"iyr\" => \"2019\",\"eyr\" => \"2001\",\"hgt\" => \"159in\",\"byr\" => \"1933\")\n",
       " Dict(\"hcl\" => \"#fffffd\",\"ecl\" => \"oth\",\"pid\" => \"812929897\",\"hgt\" => \"159cm\",\"iyr\" => \"2026\",\"cid\" => \"291\",\"eyr\" => \"2024\",\"byr\" => \"1942\")\n",
       " Dict(\"hcl\" => \"#ceb3a1\",\"ecl\" => \"amb\",\"cid\" => \"83\",\"pid\" => \"524032739\",\"iyr\" => \"2013\",\"hgt\" => \"191cm\",\"eyr\" => \"2028\",\"byr\" => \"1974\")\n",
       " Dict(\"hcl\" => \"eefed5\",\"ecl\" => \"gry\",\"pid\" => \"88405792\",\"hgt\" => \"183cm\",\"cid\" => \"221\",\"eyr\" => \"2029\",\"byr\" => \"1963\")\n",
       " Dict(\"hcl\" => \"#18171d\",\"ecl\" => \"grn\",\"pid\" => \"777881168\",\"hgt\" => \"181cm\",\"iyr\" => \"2018\",\"eyr\" => \"2021\",\"byr\" => \"1923\")\n",
       " Dict(\"hcl\" => \"#a5e1b5\",\"ecl\" => \"gry\",\"pid\" => \"062495008\",\"hgt\" => \"178cm\",\"iyr\" => \"2016\",\"eyr\" => \"2027\",\"byr\" => \"1941\")\n",
       " Dict(\"hcl\" => \"#efcc98\",\"cid\" => \"56\",\"pid\" => \"649868696\",\"iyr\" => \"2011\",\"eyr\" => \"2025\",\"hgt\" => \"164cm\",\"byr\" => \"1971\")\n",
       " Dict(\"hcl\" => \"#888785\",\"ecl\" => \"blu\",\"pid\" => \"117915262\",\"hgt\" => \"188cm\",\"iyr\" => \"2020\",\"eyr\" => \"2023\",\"byr\" => \"1925\")\n",
       " Dict(\"ecl\" => \"brn\",\"cid\" => \"174\",\"pid\" => \"143293382\",\"iyr\" => \"2012\",\"eyr\" => \"2024\",\"hgt\" => \"193cm\",\"byr\" => \"1946\")\n",
       " Dict(\"hcl\" => \"#602927\",\"ecl\" => \"blu\",\"hgt\" => \"192cm\",\"pid\" => \"251564680\",\"iyr\" => \"2011\",\"eyr\" => \"2021\",\"byr\" => \"1976\")\n",
       " Dict(\"hcl\" => \"#b6652a\",\"ecl\" => \"blu\",\"hgt\" => \"164cm\",\"pid\" => \"695538656\",\"iyr\" => \"2010\",\"eyr\" => \"2022\",\"cid\" => \"244\",\"byr\" => \"1973\")\n",
       " ⋮\n",
       " Dict(\"hcl\" => \"#c0946f\",\"ecl\" => \"amb\",\"hgt\" => \"177cm\",\"pid\" => \"476675886\",\"iyr\" => \"2016\",\"eyr\" => \"2030\",\"byr\" => \"1955\")\n",
       " Dict(\"hcl\" => \"#b6652a\",\"ecl\" => \"blu\",\"pid\" => \"152702068\",\"cid\" => \"82\",\"iyr\" => \"2016\",\"eyr\" => \"2029\",\"hgt\" => \"161cm\",\"byr\" => \"1975\")\n",
       " Dict(\"ecl\" => \"oth\",\"pid\" => \"136852264\",\"cid\" => \"339\",\"iyr\" => \"2011\",\"eyr\" => \"2024\",\"byr\" => \"1949\")\n",
       " Dict(\"hcl\" => \"#6b5442\",\"ecl\" => \"brn\",\"pid\" => \"772739059\",\"hgt\" => \"157cm\",\"iyr\" => \"2020\",\"eyr\" => \"2025\",\"byr\" => \"1945\")\n",
       " Dict(\"hcl\" => \"#18171d\",\"ecl\" => \"grn\",\"pid\" => \"053763751\",\"iyr\" => \"2018\",\"eyr\" => \"2022\",\"byr\" => \"1933\")\n",
       " Dict(\"hcl\" => \"#18171d\",\"ecl\" => \"oth\",\"pid\" => \"214212776\",\"cid\" => \"122\",\"iyr\" => \"2020\",\"eyr\" => \"2030\",\"hgt\" => \"170cm\",\"byr\" => \"1988\")\n",
       " Dict(\"ecl\" => \"brn\",\"pid\" => \"883116919\",\"hgt\" => \"187cm\",\"iyr\" => \"2018\",\"eyr\" => \"2020\",\"byr\" => \"1938\")\n",
       " Dict(\"hcl\" => \"#a97842\",\"ecl\" => \"grn\",\"cid\" => \"329\",\"pid\" => \"636649774\",\"iyr\" => \"2020\",\"eyr\" => \"2025\",\"hgt\" => \"158cm\",\"byr\" => \"1946\")\n",
       " Dict(\"hcl\" => \"#341e13\",\"ecl\" => \"blu\",\"hgt\" => \"161cm\",\"pid\" => \"461889565\",\"iyr\" => \"2020\",\"eyr\" => \"2023\",\"cid\" => \"97\",\"byr\" => \"1951\")\n",
       " Dict(\"hcl\" => \"#cfa07d\",\"ecl\" => \"hzl\",\"hgt\" => \"168cm\",\"pid\" => \"492241189\",\"iyr\" => \"2013\",\"eyr\" => \"2029\",\"cid\" => \"150\",\"byr\" => \"1980\")\n",
       " Dict(\"hcl\" => \"#733820\",\"ecl\" => \"gry\",\"hgt\" => \"150cm\",\"pid\" => \"401735295\",\"cid\" => \"153\",\"eyr\" => \"2024\",\"iyr\" => \"2016\",\"byr\" => \"1998\")\n",
       " Dict(\"hcl\" => \"#a97842\",\"ecl\" => \"hzl\",\"hgt\" => \"184cm\",\"pid\" => \"453480077\",\"iyr\" => \"2018\",\"eyr\" => \"2025\",\"byr\" => \"2001\")"
      ]
     },
     "execution_count": 4,
     "metadata": {},
     "output_type": "execute_result"
    }
   ],
   "source": [
    "input_puzzle = parse_input(\"input_puzzle.txt\")"
   ]
  },
  {
   "cell_type": "markdown",
   "metadata": {},
   "source": [
    "## part 1"
   ]
  },
  {
   "cell_type": "code",
   "execution_count": 5,
   "metadata": {
    "ExecuteTime": {
     "end_time": "2020-12-07T12:48:37.243000+08:00",
     "start_time": "2020-12-07T04:48:34.709Z"
    }
   },
   "outputs": [
    {
     "data": {
      "text/plain": [
       "valid_passport (generic function with 1 method)"
      ]
     },
     "execution_count": 5,
     "metadata": {},
     "output_type": "execute_result"
    }
   ],
   "source": [
    "function valid_passport(passport)\n",
    "    length(passport) == 8 && return true\n",
    "    return length(passport) == 7 && !haskey(passport, \"cid\")\n",
    "end"
   ]
  },
  {
   "cell_type": "markdown",
   "metadata": {},
   "source": [
    "### answer"
   ]
  },
  {
   "cell_type": "code",
   "execution_count": 6,
   "metadata": {
    "ExecuteTime": {
     "end_time": "2020-12-07T12:48:37.313000+08:00",
     "start_time": "2020-12-07T04:48:34.751Z"
    }
   },
   "outputs": [
    {
     "data": {
      "text/plain": [
       "show_answer_report (generic function with 1 method)"
      ]
     },
     "execution_count": 6,
     "metadata": {},
     "output_type": "execute_result"
    }
   ],
   "source": [
    "function show_answer_report(input, ::Val{:part1})\n",
    "    @info \"Answer found.\" answer=sum(valid_passport.(input))\n",
    "    return\n",
    "end"
   ]
  },
  {
   "cell_type": "code",
   "execution_count": 7,
   "metadata": {
    "ExecuteTime": {
     "end_time": "2020-12-07T12:48:37.588000+08:00",
     "start_time": "2020-12-07T04:48:34.753Z"
    },
    "scrolled": true
   },
   "outputs": [
    {
     "name": "stdout",
     "output_type": "stream",
     "text": [
      "  0.230971 seconds (711.05 k allocations: 34.567 MiB, 3.52% gc time)\n"
     ]
    },
    {
     "name": "stderr",
     "output_type": "stream",
     "text": [
      "┌ Info: Answer found.\n",
      "│   answer = 2\n",
      "└ @ Main In[6]:2\n"
     ]
    }
   ],
   "source": [
    "@time show_answer_report(input_sample_1, Val(:part1))"
   ]
  },
  {
   "cell_type": "code",
   "execution_count": 8,
   "metadata": {
    "ExecuteTime": {
     "end_time": "2020-12-07T12:48:37.613000+08:00",
     "start_time": "2020-12-07T04:48:34.754Z"
    },
    "scrolled": false
   },
   "outputs": [
    {
     "name": "stdout",
     "output_type": "stream",
     "text": [
      "  0.000142 seconds (612 allocations: 37.141 KiB)\n"
     ]
    },
    {
     "name": "stderr",
     "output_type": "stream",
     "text": [
      "┌ Info: Answer found.\n",
      "│   answer = 264\n",
      "└ @ Main In[6]:2\n"
     ]
    }
   ],
   "source": [
    "@time show_answer_report(input_puzzle, Val(:part1))"
   ]
  },
  {
   "cell_type": "markdown",
   "metadata": {},
   "source": [
    "## part 2"
   ]
  },
  {
   "cell_type": "code",
   "execution_count": 9,
   "metadata": {
    "ExecuteTime": {
     "end_time": "2020-12-07T12:48:37.693000+08:00",
     "start_time": "2020-12-07T04:48:34.801Z"
    }
   },
   "outputs": [
    {
     "data": {
      "text/plain": [
       "strict_valid_passport (generic function with 1 method)"
      ]
     },
     "execution_count": 9,
     "metadata": {},
     "output_type": "execute_result"
    }
   ],
   "source": [
    "function strict_valid_passport(passport)\n",
    "    found_byr = match(r\"^(\\d{4})$\", get(passport, \"byr\", \"\"))\n",
    "    isnothing(found_byr) && return false\n",
    "    (1920 ≤ parse(Int, found_byr[1]) ≤ 2002) || return false\n",
    "    \n",
    "    found_iyr = match(r\"^(\\d{4})$\", get(passport, \"iyr\", \"\"))\n",
    "    isnothing(found_iyr) && return false\n",
    "    (2010 ≤ parse(Int, found_iyr[1]) ≤ 2020) || return false\n",
    "    \n",
    "    found_eyr = match(r\"^(\\d{4})$\", get(passport, \"eyr\", \"\"))\n",
    "    isnothing(found_eyr) && return false\n",
    "    (2020 ≤ parse(Int, found_eyr[1]) ≤ 2030) || return false\n",
    "    \n",
    "    hgt_m = match(r\"^(\\d*)(cm|in)$\", get(passport, \"hgt\", \"\"))\n",
    "    isnothing(hgt_m) && return false\n",
    "    if hgt_m[2] == \"cm\"\n",
    "        !(150 <= parse(Int, hgt_m[1]) <= 193) && return false\n",
    "    else\n",
    "        !(59 <= parse(Int, hgt_m[1]) <= 76) && return false\n",
    "    end\n",
    "    \n",
    "    hcl_m = match(r\"^#([0-9a-f]{6})$\", get(passport, \"hcl\", \"\"))\n",
    "    isnothing(hcl_m) && return false\n",
    "    \n",
    "    !contains(get(passport, \"ecl\", \"\"), r\"^(amb|blu|brn|gry|grn|hzl|oth)$\") && return false\n",
    "    \n",
    "    if (\n",
    "            !contains(get(passport, \"pid\", \"\"), r\"^(\\d{9})$\")\n",
    "    )\n",
    "        return false\n",
    "    end\n",
    "    \n",
    "    return true\n",
    "end"
   ]
  },
  {
   "cell_type": "code",
   "execution_count": 10,
   "metadata": {
    "ExecuteTime": {
     "end_time": "2020-12-07T12:48:37.698000+08:00",
     "start_time": "2020-12-07T04:48:34.803Z"
    }
   },
   "outputs": [
    {
     "data": {
      "text/plain": [
       "strict_valid_passport (generic function with 1 method)"
      ]
     },
     "execution_count": 10,
     "metadata": {},
     "output_type": "execute_result"
    }
   ],
   "source": [
    "function strict_valid_passport(passport)\n",
    "    found_byr = match(r\"^(\\d{4})$\", get(passport, \"byr\", \"\"))\n",
    "    isnothing(found_byr) && return false\n",
    "    parse(Int, found_byr[1]) ∈ 1920:2002 || return false\n",
    "    \n",
    "    found_iyr = match(r\"^(\\d{4})$\", get(passport, \"iyr\", \"\"))\n",
    "    isnothing(found_iyr) && return false\n",
    "    parse(Int, found_iyr[1]) ∈ 2010:2020 || return false\n",
    "    \n",
    "    found_eyr = match(r\"^(\\d{4})$\", get(passport, \"eyr\", \"\"))\n",
    "    isnothing(found_eyr) && return false\n",
    "    parse(Int, found_eyr[1]) ∈ 2020:2030 || return false\n",
    "    \n",
    "    found_hgt = match(r\"^(\\d*)(cm|in)$\", get(passport, \"hgt\", \"\"))\n",
    "    isnothing(found_hgt) && return false\n",
    "    hgt = parse(Int, found_hgt[1])\n",
    "    unit = found_hgt[2]\n",
    "    if unit == \"cm\"\n",
    "        hgt ∈ 150:193 || return false\n",
    "    else  # unit = \"in\"\n",
    "        hgt ∈ 59:76 || return false\n",
    "    end\n",
    "    \n",
    "    contains(get(passport, \"hcl\", \"\"), r\"^#([0-9a-f]{6})$\") || return false\n",
    "    \n",
    "    contains(get(passport, \"ecl\", \"\"), r\"^(amb|blu|brn|gry|grn|hzl|oth)$\") || return false\n",
    "    \n",
    "    contains(get(passport, \"pid\", \"\"), r\"^(\\d{9})$\") || return false\n",
    "    \n",
    "    return true\n",
    "end"
   ]
  },
  {
   "cell_type": "markdown",
   "metadata": {},
   "source": [
    "### answer"
   ]
  },
  {
   "cell_type": "code",
   "execution_count": 11,
   "metadata": {
    "ExecuteTime": {
     "end_time": "2020-12-07T12:48:37.700000+08:00",
     "start_time": "2020-12-07T04:48:34.854Z"
    }
   },
   "outputs": [
    {
     "data": {
      "text/plain": [
       "show_answer_report (generic function with 2 methods)"
      ]
     },
     "execution_count": 11,
     "metadata": {},
     "output_type": "execute_result"
    }
   ],
   "source": [
    "function show_answer_report(input, ::Val{:part2})\n",
    "    @info \"Answer found.\" answer=sum(strict_valid_passport.(input))\n",
    "    return\n",
    "end"
   ]
  },
  {
   "cell_type": "code",
   "execution_count": 12,
   "metadata": {
    "ExecuteTime": {
     "end_time": "2020-12-07T12:48:37.847000+08:00",
     "start_time": "2020-12-07T04:48:34.856Z"
    },
    "scrolled": true
   },
   "outputs": [
    {
     "name": "stdout",
     "output_type": "stream",
     "text": [
      "  0.139832 seconds (508.73 k allocations: 24.212 MiB)\n"
     ]
    },
    {
     "name": "stderr",
     "output_type": "stream",
     "text": [
      "┌ Info: Answer found.\n",
      "│   answer = 2\n",
      "└ @ Main In[11]:2\n"
     ]
    }
   ],
   "source": [
    "@time show_answer_report(input_sample_1, Val(:part2))"
   ]
  },
  {
   "cell_type": "code",
   "execution_count": 13,
   "metadata": {
    "ExecuteTime": {
     "end_time": "2020-12-07T12:48:37.856000+08:00",
     "start_time": "2020-12-07T04:48:34.859Z"
    },
    "scrolled": true
   },
   "outputs": [
    {
     "name": "stdout",
     "output_type": "stream",
     "text": [
      "  0.000906 seconds (11.47 k allocations: 650.375 KiB)\n"
     ]
    },
    {
     "name": "stderr",
     "output_type": "stream",
     "text": [
      "┌ Info: Answer found.\n",
      "│   answer = 224\n",
      "└ @ Main In[11]:2\n"
     ]
    }
   ],
   "source": [
    "@time show_answer_report(input_puzzle, Val(:part2))"
   ]
  }
 ],
 "metadata": {
  "@webio": {
   "lastCommId": null,
   "lastKernelId": null
  },
  "kernelspec": {
   "display_name": "Julia 1.5.3",
   "language": "julia",
   "name": "julia-1.5"
  },
  "language_info": {
   "file_extension": ".jl",
   "mimetype": "application/julia",
   "name": "julia",
   "version": "1.5.3"
  },
  "latex_envs": {
   "LaTeX_envs_menu_present": true,
   "autoclose": false,
   "autocomplete": true,
   "bibliofile": "biblio.bib",
   "cite_by": "apalike",
   "current_citInitial": 1,
   "eqLabelWithNumbers": true,
   "eqNumInitial": 1,
   "hotkeys": {
    "equation": "Ctrl-E",
    "itemize": "Ctrl-I"
   },
   "labels_anchors": false,
   "latex_user_defs": false,
   "report_style_numbering": false,
   "user_envs_cfg": false
  },
  "toc": {
   "base_numbering": 1,
   "nav_menu": {},
   "number_sections": true,
   "sideBar": true,
   "skip_h1_title": true,
   "title_cell": "Table of Contents",
   "title_sidebar": "Contents",
   "toc_cell": true,
   "toc_position": {},
   "toc_section_display": true,
   "toc_window_display": false
  }
 },
 "nbformat": 4,
 "nbformat_minor": 4
}
