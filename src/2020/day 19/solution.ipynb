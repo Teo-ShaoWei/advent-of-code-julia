{
 "cells": [
  {
   "cell_type": "markdown",
   "metadata": {},
   "source": [
    "# Advent of Code 2020 Day 19\n",
    "[link](https://adventofcode.com/2020/day/19)"
   ]
  },
  {
   "cell_type": "markdown",
   "metadata": {
    "toc": true
   },
   "source": [
    "<h1>Table of Contents<span class=\"tocSkip\"></span></h1>\n",
    "<div class=\"toc\"><ul class=\"toc-item\"><li><span><a href=\"#dependencies\" data-toc-modified-id=\"dependencies-1\"><span class=\"toc-item-num\">1&nbsp;&nbsp;</span>dependencies</a></span></li><li><span><a href=\"#read-input\" data-toc-modified-id=\"read-input-2\"><span class=\"toc-item-num\">2&nbsp;&nbsp;</span>read input</a></span></li><li><span><a href=\"#part-1\" data-toc-modified-id=\"part-1-3\"><span class=\"toc-item-num\">3&nbsp;&nbsp;</span>part 1</a></span><ul class=\"toc-item\"><li><span><a href=\"#answer\" data-toc-modified-id=\"answer-3.1\"><span class=\"toc-item-num\">3.1&nbsp;&nbsp;</span>answer</a></span></li></ul></li><li><span><a href=\"#part-2\" data-toc-modified-id=\"part-2-4\"><span class=\"toc-item-num\">4&nbsp;&nbsp;</span>part 2</a></span><ul class=\"toc-item\"><li><span><a href=\"#answer\" data-toc-modified-id=\"answer-4.1\"><span class=\"toc-item-num\">4.1&nbsp;&nbsp;</span>answer</a></span></li></ul></li></ul></div>"
   ]
  },
  {
   "cell_type": "markdown",
   "metadata": {},
   "source": [
    "## dependencies"
   ]
  },
  {
   "cell_type": "code",
   "execution_count": 1,
   "metadata": {
    "ExecuteTime": {
     "end_time": "2020-12-19T12:45:19.932000+08:00",
     "start_time": "2020-12-19T04:45:09.442Z"
    }
   },
   "outputs": [
    {
     "data": {
      "text/html": [
       "<script>\n",
       "// Immediately-invoked-function-expression to avoid global variables.\n",
       "(function() {\n",
       "    var warning_div = document.getElementById(\"webio-warning-12007658750556679752\");\n",
       "    var hide = function () {\n",
       "        var script = document.getElementById(\"webio-setup-12661808478762209553\");\n",
       "        var parent = script && script.parentElement;\n",
       "        var grandparent = parent && parent.parentElement;\n",
       "        if (grandparent) {\n",
       "            grandparent.style.display = \"none\";\n",
       "        }\n",
       "        warning_div.style.display = \"none\";\n",
       "    };\n",
       "    if (typeof Jupyter !== \"undefined\") {\n",
       "        console.log(\"WebIO detected Jupyter notebook environment.\");\n",
       "        // Jupyter notebook.\n",
       "        var extensions = (\n",
       "            Jupyter\n",
       "            && Jupyter.notebook.config.data\n",
       "            && Jupyter.notebook.config.data.load_extensions\n",
       "        );\n",
       "        if (extensions && extensions[\"webio-jupyter-notebook\"]) {\n",
       "            // Extension already loaded.\n",
       "            console.log(\"Jupyter WebIO nbextension detected; not loading ad-hoc.\");\n",
       "            hide();\n",
       "            return;\n",
       "        }\n",
       "    } else if (window.location.pathname.includes(\"/lab\")) {\n",
       "        // Guessing JupyterLa\n",
       "        console.log(\"Jupyter Lab detected; make sure the @webio/jupyter-lab-provider labextension is installed.\");\n",
       "        hide();\n",
       "        return;\n",
       "    }\n",
       "})();\n",
       "\n",
       "</script>\n",
       "<p\n",
       "    id=\"webio-warning-12007658750556679752\"\n",
       "    class=\"output_text output_stderr\"\n",
       "    style=\"padding: 1em; font-weight: bold;\"\n",
       ">\n",
       "    Unable to load WebIO. Please make sure WebIO works for your Jupyter client.\n",
       "    For troubleshooting, please see <a href=\"https://juliagizmos.github.io/WebIO.jl/latest/providers/ijulia/\">\n",
       "    the WebIO/IJulia documentation</a>.\n",
       "    <!-- TODO: link to installation docs. -->\n",
       "</p>\n"
      ],
      "text/plain": [
       "HTML{String}(\"<script>\\n// Immediately-invoked-function-expression to avoid global variables.\\n(function() {\\n    var warning_div = document.getElementById(\\\"webio-warning-12007658750556679752\\\");\\n    var hide = function () {\\n        var script = document.getElementById(\\\"webio-setup-12661808478762209553\\\");\\n        var parent = script && script.parentElement;\\n        var grandparent = parent && parent.parentElement;\\n        if (grandparent) {\\n            grandparent.style.display = \\\"none\\\";\\n        }\\n        warning_div.style.display = \\\"none\\\";\\n    };\\n    if (typeof Jupyter !== \\\"undefined\\\") {\\n        console.log(\\\"WebIO detected Jupyter notebook environment.\\\");\\n        // Jupyter notebook.\\n        var extensions = (\\n            Jupyter\\n            && Jupyter.notebook.config.data\\n            && Jupyter.notebook.config.data.load_extensions\\n        );\\n        if (extensions && extensions[\\\"webio-jupyter-notebook\\\"]) {\\n            // Extension already loaded.\\n            console.log(\\\"Jupyter WebIO nbextension detected; not loading ad-hoc.\\\");\\n            hide();\\n            return;\\n        }\\n    } else if (window.location.pathname.includes(\\\"/lab\\\")) {\\n        // Guessing JupyterLa\\n        console.log(\\\"Jupyter Lab detected; make sure the @webio/jupyter-lab-provider labextension is installed.\\\");\\n        hide();\\n        return;\\n    }\\n})();\\n\\n</script>\\n<p\\n    id=\\\"webio-warning-12007658750556679752\\\"\\n    class=\\\"output_text output_stderr\\\"\\n    style=\\\"padding: 1em; font-weight: bold;\\\"\\n>\\n    Unable to load WebIO. Please make sure WebIO works for your Jupyter client.\\n    For troubleshooting, please see <a href=\\\"https://juliagizmos.github.io/WebIO.jl/latest/providers/ijulia/\\\">\\n    the WebIO/IJulia documentation</a>.\\n    <!-- TODO: link to installation docs. -->\\n</p>\\n\")"
      ]
     },
     "metadata": {},
     "output_type": "display_data"
    }
   ],
   "source": [
    "using Combinatorics, DataStructures, JSON, OffsetArrays, Interact, Images, NBInclude, Lazy"
   ]
  },
  {
   "cell_type": "markdown",
   "metadata": {},
   "source": [
    "## read input"
   ]
  },
  {
   "cell_type": "code",
   "execution_count": 114,
   "metadata": {
    "ExecuteTime": {
     "end_time": "2020-12-19T13:31:11.954000+08:00",
     "start_time": "2020-12-19T05:31:11.949Z"
    }
   },
   "outputs": [
    {
     "data": {
      "text/plain": [
       "parse_input (generic function with 1 method)"
      ]
     },
     "execution_count": 114,
     "metadata": {},
     "output_type": "execute_result"
    }
   ],
   "source": [
    "function parse_input(filename)\n",
    "    r_strs, texts = split.(split(read(filename, String), \"\\n\\n\"), \"\\n\")\n",
    "\n",
    "    a_index, b_index = 0, 0\n",
    "    \n",
    "    rules = r_strs .|> function(line)\n",
    "        m = match(r\"(\\d+): (.+)\", line)\n",
    "        id = parse(Int, m[1])\n",
    "        \n",
    "        if m[2] == \"\\\"a\\\"\"\n",
    "            a_index = id\n",
    "            return id => [[id]]\n",
    "        elseif m[2] == \"\\\"b\\\"\"\n",
    "            b_index = id\n",
    "            return id => [[id]]\n",
    "        end\n",
    "        \n",
    "        groups = split.(split(m[2], \" | \"), \" \")\n",
    "        groups = groups .|> (g -> parse.(Int, g))\n",
    "        \n",
    "        return id => groups\n",
    "    end\n",
    "    rules = Dict(rules)\n",
    "    \n",
    "    return (; rules, texts, a_index, b_index)\n",
    "end"
   ]
  },
  {
   "cell_type": "code",
   "execution_count": 279,
   "metadata": {
    "ExecuteTime": {
     "end_time": "2020-12-19T14:19:15.235000+08:00",
     "start_time": "2020-12-19T06:19:15.233Z"
    }
   },
   "outputs": [
    {
     "data": {
      "text/plain": [
       "(rules = Dict(0 => [[4, 1, 5]],4 => [[4]],2 => [[4, 4], [5, 5]],3 => [[4, 5], [5, 4]],5 => [[5]],1 => [[2, 3], [3, 2]]), texts = SubString{String}[\"ababbb\", \"bababa\", \"abbbab\", \"aaabbb\", \"aaaabbb\"], a_index = 4, b_index = 5)"
      ]
     },
     "execution_count": 279,
     "metadata": {},
     "output_type": "execute_result"
    }
   ],
   "source": [
    "in1 = parse_input(\"input_sample_1.txt\")"
   ]
  },
  {
   "cell_type": "code",
   "execution_count": 280,
   "metadata": {
    "ExecuteTime": {
     "end_time": "2020-12-19T14:19:15.829000+08:00",
     "start_time": "2020-12-19T06:19:15.826Z"
    }
   },
   "outputs": [
    {
     "data": {
      "text/plain": [
       "(rules = Dict(18 => [[15, 15]],2 => [[1, 24], [14, 4]],16 => [[15, 1], [14, 14]],11 => [[42, 31]],21 => [[14, 1], [1, 14]],0 => [[8, 11]],9 => [[14, 27], [1, 26]],25 => [[1, 1], [1, 14]],10 => [[23, 14], [28, 1]],42 => [[9, 14], [10, 1]]…), texts = SubString{String}[\"abbbbbabbbaaaababbaabbbbabababbbabbbbbbabaaaa\", \"bbabbbbaabaabba\", \"babbbbaabbbbbabbbbbbaabaaabaaa\", \"aaabbbbbbaaaabaababaabababbabaaabbababababaaa\", \"bbbbbbbaaaabbbbaaabbabaaa\", \"bbbababbbbaaaaaaaabbababaaababaabab\", \"ababaaaaaabaaab\", \"ababaaaaabbbaba\", \"baabbaaaabbaaaababbaababb\", \"abbbbabbbbaaaababbbbbbaaaababb\", \"aaaaabbaabaaaaababaa\", \"aaaabbaaaabbaaa\", \"aaaabbaabbaaaaaaabbbabbbaaabbaabaaa\", \"babaaabbbaaabaababbaabababaaab\", \"aabbbbbaabbbaaaaaabbbbbababaaaaabbaaabba\"], a_index = 1, b_index = 14)"
      ]
     },
     "execution_count": 280,
     "metadata": {},
     "output_type": "execute_result"
    }
   ],
   "source": [
    "in2 = parse_input(\"input_sample_2.txt\")"
   ]
  },
  {
   "cell_type": "code",
   "execution_count": 281,
   "metadata": {
    "ExecuteTime": {
     "end_time": "2020-12-19T14:19:16.425000+08:00",
     "start_time": "2020-12-19T06:19:16.421Z"
    },
    "scrolled": false
   },
   "outputs": [
    {
     "data": {
      "text/plain": [
       "(rules = Dict(68 => [[5, 5], [44, 92]],124 => [[92, 55], [5, 4]],2 => [[5, 5], [92, 44]],89 => [[5, 54], [92, 47]],11 => [[42, 31]],39 => [[5, 4], [92, 21]],46 => [[98, 92], [19, 5]],85 => [[92, 55], [5, 33]],134 => [[129, 5], [76, 92]],25 => [[92, 111], [5, 4]]…), texts = SubString{String}[\"baabbabbbabbaaabababaabbbaaaaababaaaabab\", \"bbabbbaaababaaaaaaabaaab\", \"aabbbbbababbbbbbbbbbababbbabbbbb\", \"bbaaaabbaabbaabaaaaababa\", \"bbbbababbabbbbbaaaabbbab\", \"aaaaaaaaaabababbaaaaaaabbbbabbbbbbabbabbababbbbabbbbabaabbaabbaa\", \"babababaabbabbabbabbbaaa\", \"abaaaaababaaaabbbabababaabbbbbbaaabbbbaa\", \"aaaaaaabbbbabaaababbbaabaabbabbabbbbbbba\", \"bbabbbbaaaaaaabaaaaabaabaaabbaaaababaabbbbabaabbabbbbabaabaaaabbbbbbabab\"  …  \"aabbbabbaaaaaaabaabbbbaa\", \"babbaabbabbbbabaaabaaaab\", \"bababaabbbbaaabbaabbbbba\", \"aababbbaabbabaaabbabbbbb\", \"aabaaabbaaaababbbabbbabb\", \"bbbaaabaabbabaaabbbbbabb\", \"aabbaabaababaabaaabaaabaabbbbaaabaabbbab\", \"ababaababaababbbaabbbaaa\", \"abbaaaaaabbabbabbaabaaba\", \"abbbbbaabaaaaabbaaaaaabb\"], a_index = 5, b_index = 92)"
      ]
     },
     "execution_count": 281,
     "metadata": {},
     "output_type": "execute_result"
    }
   ],
   "source": [
    "inp = parse_input(\"input_puzzle.txt\")"
   ]
  },
  {
   "cell_type": "code",
   "execution_count": 297,
   "metadata": {
    "ExecuteTime": {
     "end_time": "2020-12-19T14:23:41.703000+08:00",
     "start_time": "2020-12-19T06:23:41.701Z"
    }
   },
   "outputs": [
    {
     "data": {
      "text/plain": [
       "(rules = Dict(68 => [[5, 5], [44, 92]],124 => [[92, 55], [5, 4]],2 => [[5, 5], [92, 44]],89 => [[5, 54], [92, 47]],11 => [[42, 31]],39 => [[5, 4], [92, 21]],46 => [[98, 92], [19, 5]],85 => [[92, 55], [5, 33]],134 => [[129, 5], [76, 92]],25 => [[92, 111], [5, 4]]…), texts = SubString{String}[\"baabbabbbabbaaabababaabbbaaaaababaaaabab\", \"bbabbbaaababaaaaaaabaaab\", \"aabbbbbababbbbbbbbbbababbbabbbbb\", \"bbaaaabbaabbaabaaaaababa\", \"bbbbababbabbbbbaaaabbbab\", \"aaaaaaaaaabababbaaaaaaabbbbabbbbbbabbabbababbbbabbbbabaabbaabbaa\", \"babababaabbabbabbabbbaaa\", \"abaaaaababaaaabbbabababaabbbbbbaaabbbbaa\", \"aaaaaaabbbbabaaababbbaabaabbabbabbbbbbba\", \"bbabbbbaaaaaaabaaaaabaabaaabbaaaababaabbbbabaabbabbbbabaabaaaabbbbbbabab\"  …  \"aabbbabbaaaaaaabaabbbbaa\", \"babbaabbabbbbabaaabaaaab\", \"bababaabbbbaaabbaabbbbba\", \"aababbbaabbabaaabbabbbbb\", \"aabaaabbaaaababbbabbbabb\", \"bbbaaabaabbabaaabbbbbabb\", \"aabbaabaababaabaaabaaabaabbbbaaabaabbbab\", \"ababaababaababbbaabbbaaa\", \"abbaaaaaabbabbabbaabaaba\", \"abbbbbaabaaaaabbaaaaaabb\"], a_index = 5, b_index = 92)"
      ]
     },
     "execution_count": 297,
     "metadata": {},
     "output_type": "execute_result"
    }
   ],
   "source": [
    "data = inp"
   ]
  },
  {
   "cell_type": "code",
   "execution_count": 6,
   "metadata": {
    "ExecuteTime": {
     "end_time": "2020-12-19T12:45:52.400000+08:00",
     "start_time": "2020-12-19T04:45:52.376Z"
    }
   },
   "outputs": [],
   "source": [
    "json(in1, 4) |> clipboard"
   ]
  },
  {
   "cell_type": "code",
   "execution_count": 5,
   "metadata": {
    "ExecuteTime": {
     "end_time": "2020-12-19T12:45:51.648000+08:00",
     "start_time": "2020-12-19T04:45:51.236Z"
    }
   },
   "outputs": [],
   "source": [
    "json(inp, 4) |> clipboard"
   ]
  },
  {
   "cell_type": "markdown",
   "metadata": {},
   "source": [
    "## part 1"
   ]
  },
  {
   "cell_type": "code",
   "execution_count": 196,
   "metadata": {
    "ExecuteTime": {
     "end_time": "2020-12-19T13:50:11.917000+08:00",
     "start_time": "2020-12-19T05:50:11.913Z"
    }
   },
   "outputs": [
    {
     "data": {
      "text/plain": [
       "append_all (generic function with 1 method)"
      ]
     },
     "execution_count": 196,
     "metadata": {},
     "output_type": "execute_result"
    }
   ],
   "source": [
    "function append_all(vs, xs)\n",
    "    isempty(vs) && (return copy(xs))\n",
    "    return [join([v, x]) for v in vs for x in xs]\n",
    "end"
   ]
  },
  {
   "cell_type": "code",
   "execution_count": 190,
   "metadata": {
    "ExecuteTime": {
     "end_time": "2020-12-19T13:49:20.166000+08:00",
     "start_time": "2020-12-19T05:49:20.161Z"
    }
   },
   "outputs": [
    {
     "data": {
      "text/plain": [
       "expand_rules (generic function with 2 methods)"
      ]
     },
     "execution_count": 190,
     "metadata": {},
     "output_type": "execute_result"
    }
   ],
   "source": [
    "function expand_rules(rules, a_index, b_index)\n",
    "    result = Dict(\n",
    "        a_index => [\"a\"],\n",
    "        b_index => [\"b\"],\n",
    "    )\n",
    "    \n",
    "    function get_valid_texts(id)\n",
    "        haskey(result, id) && return result[id]\n",
    "        \n",
    "        all_valid_texts = []\n",
    "        for group in rules[id]\n",
    "            valid_texts = []\n",
    "            for sub_id in group\n",
    "                valid_texts = append_all(valid_texts, get_valid_texts(sub_id))\n",
    "            end\n",
    "             append!(all_valid_texts, valid_texts)\n",
    "        end\n",
    "        result[id] = all_valid_texts\n",
    "    end\n",
    "    \n",
    "    get_valid_texts.(keys(rules))\n",
    "    \n",
    "    return result\n",
    "end"
   ]
  },
  {
   "cell_type": "code",
   "execution_count": 238,
   "metadata": {
    "ExecuteTime": {
     "end_time": "2020-12-19T14:06:15.022000+08:00",
     "start_time": "2020-12-19T06:06:14.928Z"
    }
   },
   "outputs": [
    {
     "data": {
      "text/plain": [
       "count_match (generic function with 1 method)"
      ]
     },
     "execution_count": 238,
     "metadata": {},
     "output_type": "execute_result"
    }
   ],
   "source": [
    "function count_match(texts, valid_texts)\n",
    "    length(texts ∩ valid_texts)\n",
    "end"
   ]
  },
  {
   "cell_type": "markdown",
   "metadata": {},
   "source": [
    "### answer"
   ]
  },
  {
   "cell_type": "code",
   "execution_count": 239,
   "metadata": {
    "ExecuteTime": {
     "end_time": "2020-12-19T14:06:15.638000+08:00",
     "start_time": "2020-12-19T06:06:15.635Z"
    }
   },
   "outputs": [
    {
     "data": {
      "text/plain": [
       "count_match (generic function with 2 methods)"
      ]
     },
     "execution_count": 239,
     "metadata": {},
     "output_type": "execute_result"
    }
   ],
   "source": [
    "function count_match(input, ::Val{:part1})\n",
    "    valid_texts = expand_rules(input.rules, input.a_index, input.b_index)\n",
    "    return can_match(input.texts, valid_texts[0])\n",
    "end"
   ]
  },
  {
   "cell_type": "code",
   "execution_count": 218,
   "metadata": {
    "ExecuteTime": {
     "end_time": "2020-12-19T13:53:48.360000+08:00",
     "start_time": "2020-12-19T05:53:48.288Z"
    },
    "scrolled": true
   },
   "outputs": [
    {
     "data": {
      "text/plain": [
       "2"
      ]
     },
     "execution_count": 218,
     "metadata": {},
     "output_type": "execute_result"
    }
   ],
   "source": [
    "show_answer_report(in1, Val(:part1))"
   ]
  },
  {
   "cell_type": "code",
   "execution_count": 219,
   "metadata": {
    "ExecuteTime": {
     "end_time": "2020-12-19T13:53:50.563000+08:00",
     "start_time": "2020-12-19T05:53:49.144Z"
    },
    "scrolled": false
   },
   "outputs": [
    {
     "data": {
      "text/plain": [
       "285"
      ]
     },
     "execution_count": 219,
     "metadata": {},
     "output_type": "execute_result"
    }
   ],
   "source": [
    "show_answer_report(inp, Val(:part1))"
   ]
  },
  {
   "cell_type": "markdown",
   "metadata": {},
   "source": [
    "## part 2"
   ]
  },
  {
   "cell_type": "markdown",
   "metadata": {},
   "source": [
    "Default length\n",
    "ID 42 has length 8\n",
    "ID 31 has length 8 too"
   ]
  },
  {
   "cell_type": "code",
   "execution_count": 228,
   "metadata": {
    "ExecuteTime": {
     "end_time": "2020-12-19T14:00:46.183000+08:00",
     "start_time": "2020-12-19T06:00:46.181Z"
    }
   },
   "outputs": [
    {
     "data": {
      "text/plain": [
       "8"
      ]
     },
     "execution_count": 228,
     "metadata": {},
     "output_type": "execute_result"
    }
   ],
   "source": [
    "length(exs[31][1])"
   ]
  },
  {
   "cell_type": "code",
   "execution_count": 339,
   "metadata": {
    "ExecuteTime": {
     "end_time": "2020-12-19T14:45:52.529000+08:00",
     "start_time": "2020-12-19T06:45:52.524Z"
    }
   },
   "outputs": [
    {
     "data": {
      "text/plain": [
       "new_can_match (generic function with 2 methods)"
      ]
     },
     "execution_count": 339,
     "metadata": {},
     "output_type": "execute_result"
    }
   ],
   "source": [
    "function new_can_match(texts, all_valid_texts, width = 8)\n",
    "    count = 0\n",
    "    for t in texts\n",
    "        ts = join.(Iterators.partition(t, width))\n",
    "        phase_counts = Dict(42 => 0, 31 => 0)\n",
    "        is_match = true\n",
    "        phase = 42\n",
    "        for sub_t in ts\n",
    "            if sub_t ∈ all_valid_texts[phase]\n",
    "                phase_counts[phase] += 1\n",
    "            else\n",
    "                if phase == 31\n",
    "                    is_match = false\n",
    "                    break\n",
    "                else\n",
    "                    phase = 31\n",
    "                    if sub_t ∈ all_valid_texts[phase]\n",
    "                        phase_counts[phase] += 1\n",
    "                    else\n",
    "                        is_match = false\n",
    "                        break\n",
    "                    end\n",
    "                end\n",
    "            end\n",
    "        end\n",
    "        \n",
    "        all(\n",
    "            [\n",
    "                is_match,\n",
    "                phase_counts[42] > phase_counts[31] ≥ 1,\n",
    "            ]\n",
    "        ) && (count += 1)\n",
    "    end\n",
    "    return count\n",
    "end"
   ]
  },
  {
   "cell_type": "code",
   "execution_count": 342,
   "metadata": {
    "ExecuteTime": {
     "end_time": "2020-12-19T14:46:01.443000+08:00",
     "start_time": "2020-12-19T06:46:01.441Z"
    },
    "scrolled": true
   },
   "outputs": [
    {
     "data": {
      "text/plain": [
       "(rules = Dict(68 => [[5, 5], [44, 92]],124 => [[92, 55], [5, 4]],2 => [[5, 5], [92, 44]],89 => [[5, 54], [92, 47]],11 => [[42, 31]],39 => [[5, 4], [92, 21]],46 => [[98, 92], [19, 5]],85 => [[92, 55], [5, 33]],134 => [[129, 5], [76, 92]],25 => [[92, 111], [5, 4]]…), texts = SubString{String}[\"baabbabbbabbaaabababaabbbaaaaababaaaabab\", \"bbabbbaaababaaaaaaabaaab\", \"aabbbbbababbbbbbbbbbababbbabbbbb\", \"bbaaaabbaabbaabaaaaababa\", \"bbbbababbabbbbbaaaabbbab\", \"aaaaaaaaaabababbaaaaaaabbbbabbbbbbabbabbababbbbabbbbabaabbaabbaa\", \"babababaabbabbabbabbbaaa\", \"abaaaaababaaaabbbabababaabbbbbbaaabbbbaa\", \"aaaaaaabbbbabaaababbbaabaabbabbabbbbbbba\", \"bbabbbbaaaaaaabaaaaabaabaaabbaaaababaabbbbabaabbabbbbabaabaaaabbbbbbabab\"  …  \"aabbbabbaaaaaaabaabbbbaa\", \"babbaabbabbbbabaaabaaaab\", \"bababaabbbbaaabbaabbbbba\", \"aababbbaabbabaaabbabbbbb\", \"aabaaabbaaaababbbabbbabb\", \"bbbaaabaabbabaaabbbbbabb\", \"aabbaabaababaabaaabaaabaabbbbaaabaabbbab\", \"ababaababaababbbaabbbaaa\", \"abbaaaaaabbabbabbaabaaba\", \"abbbbbaabaaaaabbaaaaaabb\"], a_index = 5, b_index = 92)"
      ]
     },
     "execution_count": 342,
     "metadata": {},
     "output_type": "execute_result"
    }
   ],
   "source": [
    "data = inp"
   ]
  },
  {
   "cell_type": "code",
   "execution_count": 343,
   "metadata": {
    "ExecuteTime": {
     "end_time": "2020-12-19T14:46:05.832000+08:00",
     "start_time": "2020-12-19T06:46:05.181Z"
    },
    "scrolled": true
   },
   "outputs": [
    {
     "data": {
      "text/plain": [
       "412"
      ]
     },
     "execution_count": 343,
     "metadata": {},
     "output_type": "execute_result"
    }
   ],
   "source": [
    "exs = expand_rules(data.rules, data.a_index, data.b_index)\n",
    "new_can_match(data.texts, exs, 8)"
   ]
  },
  {
   "cell_type": "markdown",
   "metadata": {},
   "source": [
    "### answer"
   ]
  },
  {
   "cell_type": "code",
   "execution_count": null,
   "metadata": {},
   "outputs": [],
   "source": [
    "function show_answer_report(input, ::Val{:part2})\n",
    "    return\n",
    "end"
   ]
  },
  {
   "cell_type": "code",
   "execution_count": null,
   "metadata": {
    "scrolled": true
   },
   "outputs": [],
   "source": [
    "show_answer_report(in1, Val(:part2))"
   ]
  },
  {
   "cell_type": "code",
   "execution_count": null,
   "metadata": {
    "scrolled": true
   },
   "outputs": [],
   "source": [
    "show_answer_report(inp, Val(:part2))"
   ]
  }
 ],
 "metadata": {
  "@webio": {
   "lastCommId": null,
   "lastKernelId": null
  },
  "kernelspec": {
   "display_name": "Julia 1.5.3",
   "language": "julia",
   "name": "julia-1.5"
  },
  "language_info": {
   "file_extension": ".jl",
   "mimetype": "application/julia",
   "name": "julia",
   "version": "1.5.3"
  },
  "latex_envs": {
   "LaTeX_envs_menu_present": true,
   "autoclose": false,
   "autocomplete": true,
   "bibliofile": "biblio.bib",
   "cite_by": "apalike",
   "current_citInitial": 1,
   "eqLabelWithNumbers": true,
   "eqNumInitial": 1,
   "hotkeys": {
    "equation": "Ctrl-E",
    "itemize": "Ctrl-I"
   },
   "labels_anchors": false,
   "latex_user_defs": false,
   "report_style_numbering": false,
   "user_envs_cfg": false
  },
  "toc": {
   "base_numbering": 1,
   "nav_menu": {},
   "number_sections": true,
   "sideBar": true,
   "skip_h1_title": true,
   "title_cell": "Table of Contents",
   "title_sidebar": "Contents",
   "toc_cell": true,
   "toc_position": {},
   "toc_section_display": true,
   "toc_window_display": false
  }
 },
 "nbformat": 4,
 "nbformat_minor": 4
}
