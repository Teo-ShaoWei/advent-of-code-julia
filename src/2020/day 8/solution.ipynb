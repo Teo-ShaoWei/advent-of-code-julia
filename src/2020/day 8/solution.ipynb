{
 "cells": [
  {
   "cell_type": "markdown",
   "metadata": {},
   "source": [
    "# Advent of Code 2020 Day 8\n",
    "[link](https://adventofcode.com/2020/day/8)\n",
    "\n",
    "There are 2 ways to handle this.\n",
    "\n",
    "The faster way to write is to brute force all possible 1-line code change as a new program.\n",
    "\n",
    "The faster way to run is to use recursion and search for the alternative 1-line code change while remembering which lines of code has been read and the current accumulated value."
   ]
  },
  {
   "cell_type": "markdown",
   "metadata": {
    "toc": true
   },
   "source": [
    "<h1>Table of Contents<span class=\"tocSkip\"></span></h1>\n",
    "<div class=\"toc\"><ul class=\"toc-item\"><li><span><a href=\"#dependencies\" data-toc-modified-id=\"dependencies-1\"><span class=\"toc-item-num\">1&nbsp;&nbsp;</span>dependencies</a></span></li><li><span><a href=\"#read-input\" data-toc-modified-id=\"read-input-2\"><span class=\"toc-item-num\">2&nbsp;&nbsp;</span>read input</a></span></li><li><span><a href=\"#part-1\" data-toc-modified-id=\"part-1-3\"><span class=\"toc-item-num\">3&nbsp;&nbsp;</span>part 1</a></span><ul class=\"toc-item\"><li><span><a href=\"#solution-1\" data-toc-modified-id=\"solution-1-3.1\"><span class=\"toc-item-num\">3.1&nbsp;&nbsp;</span>solution 1</a></span></li><li><span><a href=\"#solution-2\" data-toc-modified-id=\"solution-2-3.2\"><span class=\"toc-item-num\">3.2&nbsp;&nbsp;</span>solution 2</a></span></li><li><span><a href=\"#answer\" data-toc-modified-id=\"answer-3.3\"><span class=\"toc-item-num\">3.3&nbsp;&nbsp;</span>answer</a></span></li></ul></li><li><span><a href=\"#part-2\" data-toc-modified-id=\"part-2-4\"><span class=\"toc-item-num\">4&nbsp;&nbsp;</span>part 2</a></span><ul class=\"toc-item\"><li><span><a href=\"#solution-1\" data-toc-modified-id=\"solution-1-4.1\"><span class=\"toc-item-num\">4.1&nbsp;&nbsp;</span>solution 1</a></span></li><li><span><a href=\"#solution-2\" data-toc-modified-id=\"solution-2-4.2\"><span class=\"toc-item-num\">4.2&nbsp;&nbsp;</span>solution 2</a></span></li><li><span><a href=\"#solution-3\" data-toc-modified-id=\"solution-3-4.3\"><span class=\"toc-item-num\">4.3&nbsp;&nbsp;</span>solution 3</a></span></li><li><span><a href=\"#answer\" data-toc-modified-id=\"answer-4.4\"><span class=\"toc-item-num\">4.4&nbsp;&nbsp;</span>answer</a></span></li><li><span><a href=\"#solution-2\" data-toc-modified-id=\"solution-2-4.5\"><span class=\"toc-item-num\">4.5&nbsp;&nbsp;</span>solution 2</a></span></li></ul></li></ul></div>"
   ]
  },
  {
   "cell_type": "markdown",
   "metadata": {},
   "source": [
    "## dependencies"
   ]
  },
  {
   "cell_type": "markdown",
   "metadata": {},
   "source": [
    "## read input"
   ]
  },
  {
   "cell_type": "code",
   "execution_count": 1,
   "metadata": {
    "ExecuteTime": {
     "end_time": "2020-12-09T16:38:55.052000+08:00",
     "start_time": "2020-12-09T08:38:54.061Z"
    }
   },
   "outputs": [
    {
     "data": {
      "text/plain": [
       "parse_input_line (generic function with 1 method)"
      ]
     },
     "execution_count": 1,
     "metadata": {},
     "output_type": "execute_result"
    }
   ],
   "source": [
    "function parse_input_line(line)\n",
    "    m = match(r\"(\\w{3}) ([+-]\\d+)\", line)\n",
    "    return (op = string(m[1]), val = parse(Int, m[2]))\n",
    "end"
   ]
  },
  {
   "cell_type": "code",
   "execution_count": 2,
   "metadata": {
    "ExecuteTime": {
     "end_time": "2020-12-09T16:38:55.164000+08:00",
     "start_time": "2020-12-09T08:38:54.287Z"
    }
   },
   "outputs": [
    {
     "data": {
      "text/plain": [
       "parse_input (generic function with 1 method)"
      ]
     },
     "execution_count": 2,
     "metadata": {},
     "output_type": "execute_result"
    }
   ],
   "source": [
    "parse_input(filename) = parse_input_line.(readlines(filename))"
   ]
  },
  {
   "cell_type": "code",
   "execution_count": 3,
   "metadata": {
    "ExecuteTime": {
     "end_time": "2020-12-09T16:38:56.750000+08:00",
     "start_time": "2020-12-09T08:38:54.458Z"
    }
   },
   "outputs": [
    {
     "data": {
      "text/plain": [
       "9-element Array{NamedTuple{(:op, :val),Tuple{String,Int64}},1}:\n",
       " (op = \"nop\", val = 0)\n",
       " (op = \"acc\", val = 1)\n",
       " (op = \"jmp\", val = 4)\n",
       " (op = \"acc\", val = 3)\n",
       " (op = \"jmp\", val = -3)\n",
       " (op = \"acc\", val = -99)\n",
       " (op = \"acc\", val = 1)\n",
       " (op = \"jmp\", val = -4)\n",
       " (op = \"acc\", val = 6)"
      ]
     },
     "execution_count": 3,
     "metadata": {},
     "output_type": "execute_result"
    }
   ],
   "source": [
    "input_sample_1 = parse_input(\"input_sample_1.txt\")"
   ]
  },
  {
   "cell_type": "code",
   "execution_count": 4,
   "metadata": {
    "ExecuteTime": {
     "end_time": "2020-12-09T16:38:56.840000+08:00",
     "start_time": "2020-12-09T08:38:54.626Z"
    },
    "scrolled": true
   },
   "outputs": [
    {
     "data": {
      "text/plain": [
       "626-element Array{NamedTuple{(:op, :val),Tuple{String,Int64}},1}:\n",
       " (op = \"nop\", val = 116)\n",
       " (op = \"acc\", val = 12)\n",
       " (op = \"acc\", val = -8)\n",
       " (op = \"acc\", val = 34)\n",
       " (op = \"jmp\", val = 485)\n",
       " (op = \"acc\", val = 42)\n",
       " (op = \"jmp\", val = 388)\n",
       " (op = \"acc\", val = 36)\n",
       " (op = \"nop\", val = 605)\n",
       " (op = \"acc\", val = 17)\n",
       " (op = \"jmp\", val = 411)\n",
       " (op = \"acc\", val = 49)\n",
       " (op = \"jmp\", val = 1)\n",
       " ⋮\n",
       " (op = \"acc\", val = 27)\n",
       " (op = \"acc\", val = 44)\n",
       " (op = \"acc\", val = 15)\n",
       " (op = \"jmp\", val = -22)\n",
       " (op = \"acc\", val = 48)\n",
       " (op = \"acc\", val = -18)\n",
       " (op = \"jmp\", val = -350)\n",
       " (op = \"acc\", val = -7)\n",
       " (op = \"acc\", val = 30)\n",
       " (op = \"acc\", val = 26)\n",
       " (op = \"jmp\", val = 1)\n",
       " (op = \"jmp\", val = 1)"
      ]
     },
     "execution_count": 4,
     "metadata": {},
     "output_type": "execute_result"
    }
   ],
   "source": [
    "input_puzzle = parse_input(\"input_puzzle.txt\")"
   ]
  },
  {
   "cell_type": "markdown",
   "metadata": {},
   "source": [
    "## part 1\n",
    "\n",
    "We can write this iteratively or recursively with similar performance."
   ]
  },
  {
   "cell_type": "markdown",
   "metadata": {},
   "source": [
    "### solution 1\n",
    "\n",
    "Iteration."
   ]
  },
  {
   "cell_type": "code",
   "execution_count": 82,
   "metadata": {
    "ExecuteTime": {
     "end_time": "2020-12-09T17:47:23.461000+08:00",
     "start_time": "2020-12-09T09:47:23.455Z"
    }
   },
   "outputs": [
    {
     "data": {
      "text/plain": [
       "exec (generic function with 20 methods)"
      ]
     },
     "execution_count": 82,
     "metadata": {},
     "output_type": "execute_result"
    }
   ],
   "source": [
    "function exec(\n",
    "        prog,\n",
    "        acc::Int = 0,\n",
    "        line_num::Int = 1,\n",
    "        seen::Set{Int} = Set{Int}(),\n",
    "        ;\n",
    "        code = prog[line_num],\n",
    "    )\n",
    "    \n",
    "    return exec(\n",
    "        Val(:solution1),\n",
    "        prog,\n",
    "        acc,\n",
    "        line_num,\n",
    "        seen,\n",
    "        ;\n",
    "        code,\n",
    "    )\n",
    "end"
   ]
  },
  {
   "cell_type": "code",
   "execution_count": 66,
   "metadata": {
    "ExecuteTime": {
     "end_time": "2020-12-09T17:41:06.530000+08:00",
     "start_time": "2020-12-09T09:41:06.523Z"
    }
   },
   "outputs": [
    {
     "data": {
      "text/plain": [
       "exec (generic function with 16 methods)"
      ]
     },
     "execution_count": 66,
     "metadata": {},
     "output_type": "execute_result"
    }
   ],
   "source": [
    "function exec(\n",
    "        ::Val{:solution1},\n",
    "        prog,\n",
    "        acc::Int = 0,\n",
    "        line_num::Int = 1,\n",
    "        seen::Set{Int} = Set{Int}(),\n",
    "        ;\n",
    "        code = prog[line_num],\n",
    "    )\n",
    "    \n",
    "    while true\n",
    "\n",
    "        if code.op == \"acc\"\n",
    "            acc += code.val\n",
    "            line_num += 1\n",
    "        elseif code.op == \"nop\"\n",
    "            line_num += 1\n",
    "        else  # code.op == \"jmp\"\n",
    "            line_num += code.val\n",
    "        end\n",
    "        \n",
    "        line_num ∈ seen && return (is_loop = true, acc)\n",
    "        push!(seen, line_num)\n",
    "        line_num > length(prog) && return (is_loop = false, acc)\n",
    "        code = prog[line_num]\n",
    "    end\n",
    "end"
   ]
  },
  {
   "cell_type": "markdown",
   "metadata": {},
   "source": [
    "### solution 2\n",
    "\n",
    "Recursion."
   ]
  },
  {
   "cell_type": "code",
   "execution_count": 67,
   "metadata": {
    "ExecuteTime": {
     "end_time": "2020-12-09T17:41:08.751000+08:00",
     "start_time": "2020-12-09T09:41:08.744Z"
    }
   },
   "outputs": [
    {
     "data": {
      "text/plain": [
       "exec (generic function with 20 methods)"
      ]
     },
     "execution_count": 67,
     "metadata": {},
     "output_type": "execute_result"
    }
   ],
   "source": [
    "function exec(\n",
    "        ::Val{:solution2},\n",
    "        prog,\n",
    "        acc::Int = 0,\n",
    "        line_num::Int = 1,\n",
    "        seen::Set{Int} = Set{Int}(),\n",
    "        ;\n",
    "        code = prog[line_num],\n",
    "    )\n",
    "    \n",
    "    if code.op == \"acc\"\n",
    "        acc += code.val\n",
    "        line_num += 1\n",
    "    elseif code.op == \"nop\"\n",
    "        line_num += 1\n",
    "    else  # code.op == \"jmp\"\n",
    "        line_num += code.val\n",
    "    end\n",
    "    \n",
    "    line_num > length(prog) && return (is_loop = false, acc)\n",
    "    line_num ∈ seen && return (is_loop = true, acc)\n",
    "    push!(seen, line_num)\n",
    "    \n",
    "    return exec(prog, acc, line_num, seen)\n",
    "    \n",
    "end"
   ]
  },
  {
   "cell_type": "markdown",
   "metadata": {},
   "source": [
    "### answer"
   ]
  },
  {
   "cell_type": "code",
   "execution_count": 68,
   "metadata": {
    "ExecuteTime": {
     "end_time": "2020-12-09T17:41:10.422000+08:00",
     "start_time": "2020-12-09T09:41:10.419Z"
    }
   },
   "outputs": [
    {
     "data": {
      "text/plain": [
       "show_answer_report (generic function with 3 methods)"
      ]
     },
     "execution_count": 68,
     "metadata": {},
     "output_type": "execute_result"
    }
   ],
   "source": [
    "function show_answer_report(input, ::Val{:part1}, solution_val)\n",
    "    result = exec(solution_val, input)\n",
    "    @show result.is_loop\n",
    "    @info \"Answer found.\" answer=result.acc\n",
    "    return\n",
    "end"
   ]
  },
  {
   "cell_type": "code",
   "execution_count": 71,
   "metadata": {
    "ExecuteTime": {
     "end_time": "2020-12-09T17:41:42.489000+08:00",
     "start_time": "2020-12-09T09:41:42.480Z"
    },
    "scrolled": true
   },
   "outputs": [
    {
     "name": "stdout",
     "output_type": "stream",
     "text": [
      "result.is_loop = true\n",
      "  0.000166 seconds (88 allocations: 3.031 KiB)\n"
     ]
    },
    {
     "name": "stderr",
     "output_type": "stream",
     "text": [
      "┌ Info: Answer found.\n",
      "│   answer = 5\n",
      "└ @ Main In[68]:4\n"
     ]
    }
   ],
   "source": [
    "@time show_answer_report(input_sample_1, Val(:part1), Val(:solution1))"
   ]
  },
  {
   "cell_type": "code",
   "execution_count": 73,
   "metadata": {
    "ExecuteTime": {
     "end_time": "2020-12-09T17:41:53.177000+08:00",
     "start_time": "2020-12-09T09:41:53.168Z"
    },
    "scrolled": false
   },
   "outputs": [
    {
     "name": "stdout",
     "output_type": "stream",
     "text": [
      "result.is_loop = true\n",
      "  0.000202 seconds (90 allocations: 3.062 KiB)\n"
     ]
    },
    {
     "name": "stderr",
     "output_type": "stream",
     "text": [
      "┌ Info: Answer found.\n",
      "│   answer = 5\n",
      "└ @ Main In[68]:4\n"
     ]
    }
   ],
   "source": [
    "@time show_answer_report(input_sample_1, Val(:part1), Val(:solution2))"
   ]
  },
  {
   "cell_type": "code",
   "execution_count": 72,
   "metadata": {
    "ExecuteTime": {
     "end_time": "2020-12-09T17:41:47.152000+08:00",
     "start_time": "2020-12-09T09:41:47.142Z"
    }
   },
   "outputs": [
    {
     "name": "stdout",
     "output_type": "stream",
     "text": [
      "result.is_loop = true\n",
      "  0.000189 seconds (99 allocations: 15.812 KiB)\n"
     ]
    },
    {
     "name": "stderr",
     "output_type": "stream",
     "text": [
      "┌ Info: Answer found.\n",
      "│   answer = 1832\n",
      "└ @ Main In[68]:4\n"
     ]
    }
   ],
   "source": [
    "@time show_answer_report(input_puzzle, Val(:part1), Val(:solution1))"
   ]
  },
  {
   "cell_type": "code",
   "execution_count": 74,
   "metadata": {
    "ExecuteTime": {
     "end_time": "2020-12-09T17:41:54.441000+08:00",
     "start_time": "2020-12-09T09:41:54.431Z"
    },
    "scrolled": true
   },
   "outputs": [
    {
     "name": "stdout",
     "output_type": "stream",
     "text": [
      "result.is_loop = true\n",
      "  0.000204 seconds (99 allocations: 15.812 KiB)\n"
     ]
    },
    {
     "name": "stderr",
     "output_type": "stream",
     "text": [
      "┌ Info: Answer found.\n",
      "│   answer = 1832\n",
      "└ @ Main In[68]:4\n"
     ]
    }
   ],
   "source": [
    "@time show_answer_report(input_puzzle, Val(:part1), Val(:solution2))"
   ]
  },
  {
   "cell_type": "markdown",
   "metadata": {},
   "source": [
    "## part 2"
   ]
  },
  {
   "cell_type": "markdown",
   "metadata": {},
   "source": [
    "### solution 1\n",
    "\n",
    "The shorter way to conceptualize a solution is to not call `exec` midway, always altering a copied program and starting from scratch. It might not seems this way from the code now, because it has been cleaned up, and it seems that not much ."
   ]
  },
  {
   "cell_type": "code",
   "execution_count": 128,
   "metadata": {
    "ExecuteTime": {
     "end_time": "2020-12-09T18:14:05.796000+08:00",
     "start_time": "2020-12-09T10:14:05.791Z"
    }
   },
   "outputs": [
    {
     "data": {
      "text/plain": [
       "corrected_exec (generic function with 16 methods)"
      ]
     },
     "execution_count": 128,
     "metadata": {},
     "output_type": "execute_result"
    }
   ],
   "source": [
    "function corrected_exec(::Val{:solution1}, prog)\n",
    "    acc = 0\n",
    "    line_num = 1\n",
    "    seen = Set{Int}()\n",
    "    \n",
    "    while true\n",
    "        code = prog[line_num]\n",
    "    \n",
    "        if code.op == \"acc\"\n",
    "            acc += code.val\n",
    "            line_num += 1\n",
    "        else  # code.op ∈ (\"nop\", \"jmp\")\n",
    "            copy_prog = deepcopy(prog)\n",
    "            op = code.op == \"nop\" ? \"jmp\" : \"nop\"\n",
    "            copy_prog[line_num] = (; op, code.val)\n",
    "            result = exec(copy_prog)\n",
    "            result.is_loop || return (changed_line = line_num, result.acc)\n",
    "            line_num += code.op == \"nop\" ? 1 : code.val\n",
    "        end\n",
    "    \n",
    "        push!(seen, line_num)\n",
    "    end    \n",
    "end"
   ]
  },
  {
   "cell_type": "markdown",
   "metadata": {},
   "source": [
    "### solution 2\n",
    "\n",
    "We can get `corrected_exec` to call `exec` in the middle, that will help to save time.\n",
    "This is the iterative version."
   ]
  },
  {
   "cell_type": "code",
   "execution_count": 112,
   "metadata": {
    "ExecuteTime": {
     "end_time": "2020-12-09T18:10:54.783000+08:00",
     "start_time": "2020-12-09T10:10:54.779Z"
    }
   },
   "outputs": [
    {
     "data": {
      "text/plain": [
       "corrected_exec (generic function with 16 methods)"
      ]
     },
     "execution_count": 112,
     "metadata": {},
     "output_type": "execute_result"
    }
   ],
   "source": [
    "function corrected_exec(::Val{:solution2}, prog)\n",
    "    acc = 0\n",
    "    line_num = 1\n",
    "    seen = Set{Int}()\n",
    "    \n",
    "    while true\n",
    "        code = prog[line_num]\n",
    "    \n",
    "        if code.op == \"acc\"\n",
    "            acc += code.val\n",
    "            line_num += 1\n",
    "        else  # code.op ∈ (\"nop\", \"jmp\")\n",
    "            op = code.op == \"nop\" ? \"jmp\" : \"nop\"\n",
    "            result = exec(prog, acc, line_num, seen, code = (; op, code.val))\n",
    "            result.is_loop || return (changed_line = line_num, result.acc)\n",
    "            line_num += code.op == \"nop\" ? 1 : code.val\n",
    "        end\n",
    "    \n",
    "        push!(seen, line_num)\n",
    "    end    \n",
    "end"
   ]
  },
  {
   "cell_type": "markdown",
   "metadata": {},
   "source": [
    "### solution 3\n",
    "\n",
    "We can get `corrected_exec` to call `exec` in the middle, that will help to save time.\n",
    "This is the recursive version."
   ]
  },
  {
   "cell_type": "code",
   "execution_count": 111,
   "metadata": {
    "ExecuteTime": {
     "end_time": "2020-12-09T18:10:53.692000+08:00",
     "start_time": "2020-12-09T10:10:53.688Z"
    }
   },
   "outputs": [
    {
     "data": {
      "text/plain": [
       "corrected_exec (generic function with 16 methods)"
      ]
     },
     "execution_count": 111,
     "metadata": {},
     "output_type": "execute_result"
    }
   ],
   "source": [
    "function corrected_exec(\n",
    "        ::Val{:solution3},\n",
    "        prog,\n",
    "        acc::Int = 0,\n",
    "        line_num::Int = 1,\n",
    "        seen::Set{Int} = Set{Int}(),\n",
    "    )\n",
    "    \n",
    "    code = prog[line_num]\n",
    "    \n",
    "    if code.op == \"acc\"\n",
    "        acc += code.val\n",
    "        line_num += 1\n",
    "    else  # code.op ∈ (\"nop\", \"jmp\")\n",
    "        op = code.op == \"nop\" ? \"jmp\" : \"nop\"\n",
    "        result = exec(prog, acc, line_num, seen, code = (; op, code.val))\n",
    "        result.is_loop || return (changed_line = line_num, result.acc)\n",
    "        line_num += code.op == \"nop\" ? 1 : code.val\n",
    "    end\n",
    "    \n",
    "    push!(seen, line_num)\n",
    "    \n",
    "    return corrected_exec(Val(:solution3), prog, acc, line_num, seen)\n",
    "    \n",
    "end"
   ]
  },
  {
   "cell_type": "markdown",
   "metadata": {},
   "source": [
    "### answer"
   ]
  },
  {
   "cell_type": "markdown",
   "metadata": {},
   "source": [
    "### solution 2\n",
    "\n",
    "We can get `corrected_exec` to call `exec` in the middle, that will help to save time."
   ]
  },
  {
   "cell_type": "code",
   "execution_count": 113,
   "metadata": {
    "ExecuteTime": {
     "end_time": "2020-12-09T18:10:56.457000+08:00",
     "start_time": "2020-12-09T10:10:56.453Z"
    }
   },
   "outputs": [
    {
     "data": {
      "text/plain": [
       "show_answer_report (generic function with 4 methods)"
      ]
     },
     "execution_count": 113,
     "metadata": {},
     "output_type": "execute_result"
    }
   ],
   "source": [
    "function show_answer_report(input, ::Val{:part2}, solution_val)\n",
    "    result = corrected_exec(input)\n",
    "    @show result.changed_line\n",
    "    @info \"Answer found.\" answer=corrected_exec(solution_val, input).acc\n",
    "    return\n",
    "end"
   ]
  },
  {
   "cell_type": "code",
   "execution_count": 130,
   "metadata": {
    "ExecuteTime": {
     "end_time": "2020-12-09T18:14:20.927000+08:00",
     "start_time": "2020-12-09T10:14:20.918Z"
    },
    "scrolled": false
   },
   "outputs": [
    {
     "name": "stdout",
     "output_type": "stream",
     "text": [
      "result.changed_line = 8\n",
      "  0.000229 seconds (205 allocations: 11.234 KiB)\n"
     ]
    },
    {
     "name": "stderr",
     "output_type": "stream",
     "text": [
      "┌ Info: Answer found.\n",
      "│   answer = 8\n",
      "└ @ Main In[113]:4\n"
     ]
    }
   ],
   "source": [
    "@time show_answer_report(input_sample_1, Val(:part2), Val(:solution1))"
   ]
  },
  {
   "cell_type": "code",
   "execution_count": 131,
   "metadata": {
    "ExecuteTime": {
     "end_time": "2020-12-09T18:14:23.299000+08:00",
     "start_time": "2020-12-09T10:14:23.290Z"
    },
    "scrolled": false
   },
   "outputs": [
    {
     "name": "stdout",
     "output_type": "stream",
     "text": [
      "result.changed_line = 8\n",
      "  0.000173 seconds (94 allocations: 3.594 KiB)\n"
     ]
    },
    {
     "name": "stderr",
     "output_type": "stream",
     "text": [
      "┌ Info: Answer found.\n",
      "│   answer = 8\n",
      "└ @ Main In[113]:4\n"
     ]
    }
   ],
   "source": [
    "@time show_answer_report(input_sample_1, Val(:part2), Val(:solution2))"
   ]
  },
  {
   "cell_type": "code",
   "execution_count": 132,
   "metadata": {
    "ExecuteTime": {
     "end_time": "2020-12-09T18:14:24.143000+08:00",
     "start_time": "2020-12-09T10:14:24.134Z"
    },
    "scrolled": false
   },
   "outputs": [
    {
     "name": "stdout",
     "output_type": "stream",
     "text": [
      "result.changed_line = 8\n",
      "  0.000210 seconds (96 allocations: 3.625 KiB)\n"
     ]
    },
    {
     "name": "stderr",
     "output_type": "stream",
     "text": [
      "┌ Info: Answer found.\n",
      "│   answer = 8\n",
      "└ @ Main In[113]:4\n"
     ]
    }
   ],
   "source": [
    "@time show_answer_report(input_sample_1, Val(:part2), Val(:solution3))"
   ]
  },
  {
   "cell_type": "code",
   "execution_count": 133,
   "metadata": {
    "ExecuteTime": {
     "end_time": "2020-12-09T18:14:25.023000+08:00",
     "start_time": "2020-12-09T10:14:24.991Z"
    },
    "scrolled": true
   },
   "outputs": [
    {
     "name": "stdout",
     "output_type": "stream",
     "text": [
      "result.changed_line = 360\n",
      "  0.022178 seconds (45.89 k allocations: 2.723 MiB)\n"
     ]
    },
    {
     "name": "stderr",
     "output_type": "stream",
     "text": [
      "┌ Info: Answer found.\n",
      "│   answer = 662\n",
      "└ @ Main In[113]:4\n"
     ]
    }
   ],
   "source": [
    "@time show_answer_report(input_puzzle, Val(:part2), Val(:solution1))"
   ]
  },
  {
   "cell_type": "code",
   "execution_count": 134,
   "metadata": {
    "ExecuteTime": {
     "end_time": "2020-12-09T18:14:26.340000+08:00",
     "start_time": "2020-12-09T10:14:26.330Z"
    },
    "scrolled": true
   },
   "outputs": [
    {
     "name": "stdout",
     "output_type": "stream",
     "text": [
      "result.changed_line = 360\n",
      "  0.000226 seconds (114 allocations: 29.141 KiB)\n"
     ]
    },
    {
     "name": "stderr",
     "output_type": "stream",
     "text": [
      "┌ Info: Answer found.\n",
      "│   answer = 662\n",
      "└ @ Main In[113]:4\n"
     ]
    }
   ],
   "source": [
    "@time show_answer_report(input_puzzle, Val(:part2), Val(:solution2))"
   ]
  },
  {
   "cell_type": "code",
   "execution_count": 135,
   "metadata": {
    "ExecuteTime": {
     "end_time": "2020-12-09T18:14:26.992000+08:00",
     "start_time": "2020-12-09T10:14:26.983Z"
    },
    "scrolled": true
   },
   "outputs": [
    {
     "name": "stdout",
     "output_type": "stream",
     "text": [
      "result.changed_line = 360\n",
      "  0.000220 seconds (114 allocations: 29.141 KiB)\n"
     ]
    },
    {
     "name": "stderr",
     "output_type": "stream",
     "text": [
      "┌ Info: Answer found.\n",
      "│   answer = 662\n",
      "└ @ Main In[113]:4\n"
     ]
    }
   ],
   "source": [
    "@time show_answer_report(input_puzzle, Val(:part2), Val(:solution3))"
   ]
  }
 ],
 "metadata": {
  "@webio": {
   "lastCommId": null,
   "lastKernelId": null
  },
  "kernelspec": {
   "display_name": "Julia 1.5.3",
   "language": "julia",
   "name": "julia-1.5"
  },
  "language_info": {
   "file_extension": ".jl",
   "mimetype": "application/julia",
   "name": "julia",
   "version": "1.5.3"
  },
  "latex_envs": {
   "LaTeX_envs_menu_present": true,
   "autoclose": false,
   "autocomplete": true,
   "bibliofile": "biblio.bib",
   "cite_by": "apalike",
   "current_citInitial": 1,
   "eqLabelWithNumbers": true,
   "eqNumInitial": 1,
   "hotkeys": {
    "equation": "Ctrl-E",
    "itemize": "Ctrl-I"
   },
   "labels_anchors": false,
   "latex_user_defs": false,
   "report_style_numbering": false,
   "user_envs_cfg": false
  },
  "toc": {
   "base_numbering": 1,
   "nav_menu": {},
   "number_sections": true,
   "sideBar": true,
   "skip_h1_title": true,
   "title_cell": "Table of Contents",
   "title_sidebar": "Contents",
   "toc_cell": true,
   "toc_position": {},
   "toc_section_display": true,
   "toc_window_display": false
  }
 },
 "nbformat": 4,
 "nbformat_minor": 4
}
