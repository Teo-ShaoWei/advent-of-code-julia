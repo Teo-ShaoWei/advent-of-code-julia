{
 "cells": [
  {
   "cell_type": "markdown",
   "metadata": {},
   "source": [
    "# Advent of Code 2020 Day 16\n",
    "[link](https://adventofcode.com/2020/day/16)"
   ]
  },
  {
   "cell_type": "markdown",
   "metadata": {
    "toc": true
   },
   "source": [
    "<h1>Table of Contents<span class=\"tocSkip\"></span></h1>\n",
    "<div class=\"toc\"><ul class=\"toc-item\"><li><span><a href=\"#dependencies\" data-toc-modified-id=\"dependencies-1\"><span class=\"toc-item-num\">1&nbsp;&nbsp;</span>dependencies</a></span></li><li><span><a href=\"#read-input\" data-toc-modified-id=\"read-input-2\"><span class=\"toc-item-num\">2&nbsp;&nbsp;</span>read input</a></span></li><li><span><a href=\"#part-1\" data-toc-modified-id=\"part-1-3\"><span class=\"toc-item-num\">3&nbsp;&nbsp;</span>part 1</a></span><ul class=\"toc-item\"><li><span><a href=\"#answer\" data-toc-modified-id=\"answer-3.1\"><span class=\"toc-item-num\">3.1&nbsp;&nbsp;</span>answer</a></span></li></ul></li><li><span><a href=\"#part-2\" data-toc-modified-id=\"part-2-4\"><span class=\"toc-item-num\">4&nbsp;&nbsp;</span>part 2</a></span><ul class=\"toc-item\"><li><span><a href=\"#answer\" data-toc-modified-id=\"answer-4.1\"><span class=\"toc-item-num\">4.1&nbsp;&nbsp;</span>answer</a></span></li></ul></li></ul></div>"
   ]
  },
  {
   "cell_type": "markdown",
   "metadata": {},
   "source": [
    "## dependencies"
   ]
  },
  {
   "cell_type": "code",
   "execution_count": 1,
   "metadata": {
    "ExecuteTime": {
     "end_time": "2020-12-16T12:50:35.991000+08:00",
     "start_time": "2020-12-16T04:50:25.554Z"
    }
   },
   "outputs": [
    {
     "data": {
      "text/html": [
       "<script>\n",
       "// Immediately-invoked-function-expression to avoid global variables.\n",
       "(function() {\n",
       "    var warning_div = document.getElementById(\"webio-warning-15582617280321233273\");\n",
       "    var hide = function () {\n",
       "        var script = document.getElementById(\"webio-setup-12260769949214023566\");\n",
       "        var parent = script && script.parentElement;\n",
       "        var grandparent = parent && parent.parentElement;\n",
       "        if (grandparent) {\n",
       "            grandparent.style.display = \"none\";\n",
       "        }\n",
       "        warning_div.style.display = \"none\";\n",
       "    };\n",
       "    if (typeof Jupyter !== \"undefined\") {\n",
       "        console.log(\"WebIO detected Jupyter notebook environment.\");\n",
       "        // Jupyter notebook.\n",
       "        var extensions = (\n",
       "            Jupyter\n",
       "            && Jupyter.notebook.config.data\n",
       "            && Jupyter.notebook.config.data.load_extensions\n",
       "        );\n",
       "        if (extensions && extensions[\"webio-jupyter-notebook\"]) {\n",
       "            // Extension already loaded.\n",
       "            console.log(\"Jupyter WebIO nbextension detected; not loading ad-hoc.\");\n",
       "            hide();\n",
       "            return;\n",
       "        }\n",
       "    } else if (window.location.pathname.includes(\"/lab\")) {\n",
       "        // Guessing JupyterLa\n",
       "        console.log(\"Jupyter Lab detected; make sure the @webio/jupyter-lab-provider labextension is installed.\");\n",
       "        hide();\n",
       "        return;\n",
       "    }\n",
       "})();\n",
       "\n",
       "</script>\n",
       "<p\n",
       "    id=\"webio-warning-15582617280321233273\"\n",
       "    class=\"output_text output_stderr\"\n",
       "    style=\"padding: 1em; font-weight: bold;\"\n",
       ">\n",
       "    Unable to load WebIO. Please make sure WebIO works for your Jupyter client.\n",
       "    For troubleshooting, please see <a href=\"https://juliagizmos.github.io/WebIO.jl/latest/providers/ijulia/\">\n",
       "    the WebIO/IJulia documentation</a>.\n",
       "    <!-- TODO: link to installation docs. -->\n",
       "</p>\n"
      ],
      "text/plain": [
       "HTML{String}(\"<script>\\n// Immediately-invoked-function-expression to avoid global variables.\\n(function() {\\n    var warning_div = document.getElementById(\\\"webio-warning-15582617280321233273\\\");\\n    var hide = function () {\\n        var script = document.getElementById(\\\"webio-setup-12260769949214023566\\\");\\n        var parent = script && script.parentElement;\\n        var grandparent = parent && parent.parentElement;\\n        if (grandparent) {\\n            grandparent.style.display = \\\"none\\\";\\n        }\\n        warning_div.style.display = \\\"none\\\";\\n    };\\n    if (typeof Jupyter !== \\\"undefined\\\") {\\n        console.log(\\\"WebIO detected Jupyter notebook environment.\\\");\\n        // Jupyter notebook.\\n        var extensions = (\\n            Jupyter\\n            && Jupyter.notebook.config.data\\n            && Jupyter.notebook.config.data.load_extensions\\n        );\\n        if (extensions && extensions[\\\"webio-jupyter-notebook\\\"]) {\\n            // Extension already loaded.\\n            console.log(\\\"Jupyter WebIO nbextension detected; not loading ad-hoc.\\\");\\n            hide();\\n            return;\\n        }\\n    } else if (window.location.pathname.includes(\\\"/lab\\\")) {\\n        // Guessing JupyterLa\\n        console.log(\\\"Jupyter Lab detected; make sure the @webio/jupyter-lab-provider labextension is installed.\\\");\\n        hide();\\n        return;\\n    }\\n})();\\n\\n</script>\\n<p\\n    id=\\\"webio-warning-15582617280321233273\\\"\\n    class=\\\"output_text output_stderr\\\"\\n    style=\\\"padding: 1em; font-weight: bold;\\\"\\n>\\n    Unable to load WebIO. Please make sure WebIO works for your Jupyter client.\\n    For troubleshooting, please see <a href=\\\"https://juliagizmos.github.io/WebIO.jl/latest/providers/ijulia/\\\">\\n    the WebIO/IJulia documentation</a>.\\n    <!-- TODO: link to installation docs. -->\\n</p>\\n\")"
      ]
     },
     "metadata": {},
     "output_type": "display_data"
    }
   ],
   "source": [
    "using Combinatorics, DataStructures, OffsetArrays, Interact, Images, NBInclude"
   ]
  },
  {
   "cell_type": "markdown",
   "metadata": {},
   "source": [
    "## read input"
   ]
  },
  {
   "cell_type": "code",
   "execution_count": 57,
   "metadata": {
    "ExecuteTime": {
     "end_time": "2020-12-16T13:15:33.640000+08:00",
     "start_time": "2020-12-16T05:15:33.637Z"
    }
   },
   "outputs": [
    {
     "data": {
      "text/plain": [
       "parse_range (generic function with 1 method)"
      ]
     },
     "execution_count": 57,
     "metadata": {},
     "output_type": "execute_result"
    }
   ],
   "source": [
    "function parse_range(line)\n",
    "    m = match(r\"(\\d+)-(\\d+)\", line)\n",
    "    return (l = parse(Int, m[1]), u = parse(Int, m[2]))\n",
    "end"
   ]
  },
  {
   "cell_type": "code",
   "execution_count": 40,
   "metadata": {
    "ExecuteTime": {
     "end_time": "2020-12-16T13:12:18.092000+08:00",
     "start_time": "2020-12-16T05:12:18.089Z"
    }
   },
   "outputs": [
    {
     "data": {
      "text/plain": [
       "parse_field (generic function with 1 method)"
      ]
     },
     "execution_count": 40,
     "metadata": {},
     "output_type": "execute_result"
    }
   ],
   "source": [
    "function parse_field(line)\n",
    "    key, value_s = split(line, \": \")\n",
    "    values = parse_range.(split(value_s, \" or \"))\n",
    "    \n",
    "    return (; key, values)\n",
    "end"
   ]
  },
  {
   "cell_type": "code",
   "execution_count": 17,
   "metadata": {
    "ExecuteTime": {
     "end_time": "2020-12-16T13:06:41.700000+08:00",
     "start_time": "2020-12-16T05:06:41.697Z"
    }
   },
   "outputs": [
    {
     "data": {
      "text/plain": [
       "parse_ticket (generic function with 1 method)"
      ]
     },
     "execution_count": 17,
     "metadata": {},
     "output_type": "execute_result"
    }
   ],
   "source": [
    "function parse_ticket(s)\n",
    "    return parse.(Int, split(s, ','))\n",
    "end"
   ]
  },
  {
   "cell_type": "code",
   "execution_count": 37,
   "metadata": {
    "ExecuteTime": {
     "end_time": "2020-12-16T13:11:43.907000+08:00",
     "start_time": "2020-12-16T05:11:43.903Z"
    }
   },
   "outputs": [
    {
     "data": {
      "text/plain": [
       "parse_input (generic function with 1 method)"
      ]
     },
     "execution_count": 37,
     "metadata": {},
     "output_type": "execute_result"
    }
   ],
   "source": [
    "function parse_input(filename)\n",
    "    fields_s, mine_s, others_s = split.(split(read(filename, String), \"\\n\\n\"), '\\n')\n",
    "    \n",
    "    fields = parse_field.(fields_s)\n",
    "    mine = parse_ticket(mine_s[2])\n",
    "    others = parse_ticket.(others_s[2:end])\n",
    "    \n",
    "    return (; fields, mine, others)\n",
    "end"
   ]
  },
  {
   "cell_type": "code",
   "execution_count": 58,
   "metadata": {
    "ExecuteTime": {
     "end_time": "2020-12-16T13:15:37.321000+08:00",
     "start_time": "2020-12-16T05:15:36.647Z"
    }
   },
   "outputs": [
    {
     "data": {
      "text/plain": [
       "(fields = NamedTuple{(:key, :values),Tuple{SubString{String},Array{NamedTuple{(:l, :u),Tuple{Int64,Int64}},1}}}[(key = \"class\", values = [(l = 1, u = 3), (l = 5, u = 7)]), (key = \"row\", values = [(l = 6, u = 11), (l = 33, u = 44)]), (key = \"seat\", values = [(l = 13, u = 40), (l = 45, u = 50)])], mine = [7, 1, 14], others = [[7, 3, 47], [40, 4, 50], [55, 2, 20], [38, 6, 12]])"
      ]
     },
     "execution_count": 58,
     "metadata": {},
     "output_type": "execute_result"
    }
   ],
   "source": [
    "input_sample_1 = parse_input(\"input_sample_1.txt\")"
   ]
  },
  {
   "cell_type": "code",
   "execution_count": 4,
   "metadata": {
    "ExecuteTime": {
     "end_time": "2020-12-16T13:01:06.750000+08:00",
     "start_time": "2020-12-16T05:01:06.401Z"
    }
   },
   "outputs": [
    {
     "data": {
      "text/plain": [
       "String[]"
      ]
     },
     "execution_count": 4,
     "metadata": {},
     "output_type": "execute_result"
    }
   ],
   "source": [
    "input_sample_2 = parse_input(\"input_sample_2.txt\")"
   ]
  },
  {
   "cell_type": "code",
   "execution_count": 59,
   "metadata": {
    "ExecuteTime": {
     "end_time": "2020-12-16T13:15:38.330000+08:00",
     "start_time": "2020-12-16T05:15:38.323Z"
    },
    "scrolled": true
   },
   "outputs": [
    {
     "data": {
      "text/plain": [
       "(fields = NamedTuple{(:key, :values),Tuple{SubString{String},Array{NamedTuple{(:l, :u),Tuple{Int64,Int64}},1}}}[(key = \"departure location\", values = [(l = 25, u = 80), (l = 90, u = 961)]), (key = \"departure station\", values = [(l = 41, u = 133), (l = 148, u = 968)]), (key = \"departure platform\", values = [(l = 48, u = 425), (l = 451, u = 952)]), (key = \"departure track\", values = [(l = 25, u = 371), (l = 384, u = 966)]), (key = \"departure date\", values = [(l = 49, u = 531), (l = 546, u = 973)]), (key = \"departure time\", values = [(l = 45, u = 641), (l = 656, u = 954)]), (key = \"arrival location\", values = [(l = 43, u = 357), (l = 364, u = 969)]), (key = \"arrival station\", values = [(l = 40, u = 669), (l = 689, u = 954)]), (key = \"arrival platform\", values = [(l = 40, u = 550), (l = 570, u = 956)]), (key = \"arrival track\", values = [(l = 49, u = 854), (l = 863, u = 953)]), (key = \"class\", values = [(l = 48, u = 601), (l = 614, u = 964)]), (key = \"duration\", values = [(l = 27, u = 698), (l = 715, u = 962)]), (key = \"price\", values = [(l = 38, u = 781), (l = 800, u = 970)]), (key = \"route\", values = [(l = 47, u = 824), (l = 842, u = 965)]), (key = \"row\", values = [(l = 45, u = 219), (l = 241, u = 955)]), (key = \"seat\", values = [(l = 47, u = 388), (l = 401, u = 954)]), (key = \"train\", values = [(l = 42, u = 906), (l = 919, u = 965)]), (key = \"type\", values = [(l = 40, u = 726), (l = 733, u = 955)]), (key = \"wagon\", values = [(l = 27, u = 161), (l = 174, u = 974)]), (key = \"zone\", values = [(l = 48, u = 103), (l = 110, u = 954)])], mine = [181, 131, 61, 67, 151, 59, 113, 101, 79, 53, 71, 193, 179, 103, 149, 157, 127, 97, 73, 191], others = [[522, 420, 365, 200, 585, 386, 904, 206, 275, 61, 185, 273, 550, 686, 352, 338, 294, 695, 503, 718], [129, 758, 494, 886, 213, 178, 94, 496, 423, 352, 51, 863, 498, 925, 653, 505, 403, 314, 619, 241], [125, 766, 123, 196, 205, 847, 379, 480, 268, 887, 546, 62, 114, 209, 766, 248, 501, 696, 575, 76], [183, 872, 520, 282, 717, 522, 776, 722, 94, 717, 100, 161, 208, 949, 945, 255, 853, 483, 117, 145], [283, 101, 290, 751, 617, 334, 885, 633, 767, 417, 733, 887, 192, 595, 62, 329, 688, 187, 736, 458], [635, 466, 583, 585, 733, 511, 754, 106, 513, 256, 347, 506, 180, 403, 938, 126, 886, 868, 262, 481], [895, 166, 885, 272, 621, 205, 739, 724, 809, 777, 890, 345, 303, 764, 347, 253, 320, 114, 750, 517], [599, 726, 584, 582, 249, 347, 257, 277, 320, 493, 820, 147, 179, 659, 271, 249, 924, 615, 577, 882], [821, 422, 630, 696, 938, 361, 487, 895, 692, 936, 160, 691, 155, 332, 195, 928, 357, 100, 62, 122], [770, 506, 110, 123, 344, 260, 114, 800, 507, 889, 385, 629, 884, 380, 132, 328, 615, 73, 245, 940]  …  [98, 161, 525, 69, 583, 663, 112, 653, 599, 423, 527, 817, 741, 778, 454, 664, 284, 664, 872, 525], [803, 781, 760, 259, 56, 520, 666, 244, 724, 821, 719, 9, 721, 719, 813, 618, 816, 744, 941, 248], [869, 923, 312, 388, 937, 213, 86, 319, 770, 743, 693, 847, 283, 469, 806, 419, 947, 186, 279, 513], [453, 340, 342, 746, 245, 284, 339, 847, 214, 597, 692, 845, 598, 244, 452, 114, 139, 854, 752, 62], [757, 186, 207, 250, 510, 151, 928, 256, 419, 757, 690, 321, 824, 127, 306, 823, 199, 630, 874, 828], [270, 127, 339, 311, 70, 349, 513, 458, 286, 996, 305, 721, 152, 473, 570, 161, 460, 299, 356, 261], [411, 286, 852, 916, 763, 854, 412, 312, 842, 113, 345, 258, 289, 346, 869, 256, 453, 929, 468, 161], [462, 120, 847, 638, 868, 316, 583, 404, 403, 168, 193, 175, 213, 721, 184, 349, 364, 217, 775, 880], [933, 266, 195, 584, 902, 322, 338, 930, 987, 494, 306, 309, 182, 150, 421, 870, 307, 100, 761, 304], [744, 515, 822, 903, 633, 639, 883, 257, 945, 943, 666, 156, 353, 878, 155, 198, 518, 930, 707, 753]])"
      ]
     },
     "execution_count": 59,
     "metadata": {},
     "output_type": "execute_result"
    }
   ],
   "source": [
    "input_puzzle = parse_input(\"input_puzzle.txt\")"
   ]
  },
  {
   "cell_type": "markdown",
   "metadata": {},
   "source": [
    "## part 1"
   ]
  },
  {
   "cell_type": "code",
   "execution_count": 67,
   "metadata": {
    "ExecuteTime": {
     "end_time": "2020-12-16T13:17:32.366000+08:00",
     "start_time": "2020-12-16T05:17:32.363Z"
    }
   },
   "outputs": [
    {
     "data": {
      "text/plain": [
       "in_range (generic function with 1 method)"
      ]
     },
     "execution_count": 67,
     "metadata": {},
     "output_type": "execute_result"
    }
   ],
   "source": [
    "function in_range(x, field)\n",
    "    for (l, u) in field.values\n",
    "        (x ∈ l:u) && (return true) \n",
    "    end\n",
    "    return false\n",
    "end"
   ]
  },
  {
   "cell_type": "code",
   "execution_count": 80,
   "metadata": {
    "ExecuteTime": {
     "end_time": "2020-12-16T13:19:15.339000+08:00",
     "start_time": "2020-12-16T05:19:15.335Z"
    }
   },
   "outputs": [
    {
     "data": {
      "text/plain": [
       "invalid_values (generic function with 1 method)"
      ]
     },
     "execution_count": 80,
     "metadata": {},
     "output_type": "execute_result"
    }
   ],
   "source": [
    "function invalid_values(tickets, fields)\n",
    "    result = Int[]\n",
    "    for ticket in tickets, v in ticket\n",
    "        !any(in_range.(v, fields)) && push!(result, v)\n",
    "    end\n",
    "    \n",
    "    return result\n",
    "end"
   ]
  },
  {
   "cell_type": "markdown",
   "metadata": {},
   "source": [
    "### answer"
   ]
  },
  {
   "cell_type": "code",
   "execution_count": 82,
   "metadata": {
    "ExecuteTime": {
     "end_time": "2020-12-16T13:19:26.669000+08:00",
     "start_time": "2020-12-16T05:19:26.643Z"
    }
   },
   "outputs": [
    {
     "data": {
      "text/plain": [
       "show_answer_report (generic function with 1 method)"
      ]
     },
     "execution_count": 82,
     "metadata": {},
     "output_type": "execute_result"
    }
   ],
   "source": [
    "function show_answer_report(input, ::Val{:part1})\n",
    "    @show vs = invalid_values(input.others, input.fields)\n",
    "    @info \"Answer found.\" answer=sum(vs)\n",
    "    return\n",
    "end"
   ]
  },
  {
   "cell_type": "code",
   "execution_count": 83,
   "metadata": {
    "ExecuteTime": {
     "end_time": "2020-12-16T13:19:28.112000+08:00",
     "start_time": "2020-12-16T05:19:28.071Z"
    },
    "scrolled": true
   },
   "outputs": [
    {
     "name": "stdout",
     "output_type": "stream",
     "text": [
      "vs = invalid_values(input.others, input.fields) = [4, 55, 12]\n"
     ]
    },
    {
     "name": "stderr",
     "output_type": "stream",
     "text": [
      "┌ Info: Answer found.\n",
      "│   answer = 71\n",
      "└ @ Main In[82]:3\n"
     ]
    }
   ],
   "source": [
    "show_answer_report(input_sample_1, Val(:part1))"
   ]
  },
  {
   "cell_type": "code",
   "execution_count": null,
   "metadata": {
    "scrolled": true
   },
   "outputs": [],
   "source": [
    "show_answer_report(input_sample_2, Val(:part1))"
   ]
  },
  {
   "cell_type": "code",
   "execution_count": 84,
   "metadata": {
    "ExecuteTime": {
     "end_time": "2020-12-16T13:19:29.936000+08:00",
     "start_time": "2020-12-16T05:19:29.933Z"
    },
    "scrolled": false
   },
   "outputs": [
    {
     "name": "stdout",
     "output_type": "stream",
     "text": [
      "vs = invalid_values(input.others, input.fields) = [24, 8, 5, 987, 992, 4, 9, 978, 991, 9, 13, 992, 998, 18, 7, 984, 20, 6, 20, 8, 986, 980, 13, 22, 981, 985, 9, 9, 996, 985, 9, 982, 978, 989, 987, 987, 980, 18, 990, 983, 998, 0, 975, 15, 996, 999, 981, 9, 996, 987]\n"
     ]
    },
    {
     "name": "stderr",
     "output_type": "stream",
     "text": [
      "┌ Info: Answer found.\n",
      "│   answer = 27898\n",
      "└ @ Main In[82]:3\n"
     ]
    }
   ],
   "source": [
    "show_answer_report(input_puzzle, Val(:part1))"
   ]
  },
  {
   "cell_type": "markdown",
   "metadata": {},
   "source": [
    "## part 2"
   ]
  },
  {
   "cell_type": "code",
   "execution_count": 87,
   "metadata": {
    "ExecuteTime": {
     "end_time": "2020-12-16T13:22:52.241000+08:00",
     "start_time": "2020-12-16T05:22:52.138Z"
    }
   },
   "outputs": [
    {
     "data": {
      "text/plain": [
       "valid_ticket (generic function with 1 method)"
      ]
     },
     "execution_count": 87,
     "metadata": {},
     "output_type": "execute_result"
    }
   ],
   "source": [
    "function valid_ticket(ticket, fields)\n",
    "    for v in ticket\n",
    "        any(in_range.(v, fields)) || return false\n",
    "    end\n",
    "    return true\n",
    "end"
   ]
  },
  {
   "cell_type": "code",
   "execution_count": 85,
   "metadata": {
    "ExecuteTime": {
     "end_time": "2020-12-16T14:45:56.768000+08:00",
     "start_time": "2020-12-16T06:45:56.541Z"
    }
   },
   "outputs": [
    {
     "data": {
      "text/plain": [
       "filter_valid_tickets (generic function with 1 method)"
      ]
     },
     "execution_count": 85,
     "metadata": {},
     "output_type": "execute_result"
    }
   ],
   "source": [
    "function filter_valid_tickets(tickets, fields)\n",
    "    return filter(t -> valid_ticket(t, fields), tickets)\n",
    "end"
   ]
  },
  {
   "cell_type": "code",
   "execution_count": 105,
   "metadata": {
    "ExecuteTime": {
     "end_time": "2020-12-16T13:30:31.267000+08:00",
     "start_time": "2020-12-16T05:30:31.263Z"
    }
   },
   "outputs": [
    {
     "data": {
      "text/plain": [
       "get_all_descriptions (generic function with 1 method)"
      ]
     },
     "execution_count": 105,
     "metadata": {},
     "output_type": "execute_result"
    }
   ],
   "source": [
    "function get_all_descriptions(tickets, fields)\n",
    "    tickets = filter_valid_tickets(tickets, fields)\n",
    "    \n",
    "    result = []\n",
    "    for i in 1:length(tickets[1])\n",
    "        @show get_description(gather_entries(tickets, i), fields)\n",
    "    end\n",
    "end"
   ]
  },
  {
   "cell_type": "code",
   "execution_count": 94,
   "metadata": {
    "ExecuteTime": {
     "end_time": "2020-12-16T13:25:37.901000+08:00",
     "start_time": "2020-12-16T05:25:37.897Z"
    }
   },
   "outputs": [
    {
     "data": {
      "text/plain": [
       "gather_entries (generic function with 1 method)"
      ]
     },
     "execution_count": 94,
     "metadata": {},
     "output_type": "execute_result"
    }
   ],
   "source": [
    "function gather_entries(tickets, n)\n",
    "    return [t[n] for t in tickets]\n",
    "end"
   ]
  },
  {
   "cell_type": "code",
   "execution_count": 111,
   "metadata": {
    "ExecuteTime": {
     "end_time": "2020-12-16T13:36:18.338000+08:00",
     "start_time": "2020-12-16T05:36:18.335Z"
    }
   },
   "outputs": [
    {
     "data": {
      "text/plain": [
       "get_all_valid_description (generic function with 1 method)"
      ]
     },
     "execution_count": 111,
     "metadata": {},
     "output_type": "execute_result"
    }
   ],
   "source": [
    "function get_all_valid_description(entries, fields)\n",
    "    result = []\n",
    "    for f in fields\n",
    "        all(in_range.(entries, Ref(f))) && push!(result, f.key)\n",
    "    end\n",
    "    return result\n",
    "end"
   ]
  },
  {
   "cell_type": "code",
   "execution_count": 158,
   "metadata": {
    "ExecuteTime": {
     "end_time": "2020-12-16T14:44:56.895000+08:00",
     "start_time": "2020-12-16T06:44:56.889Z"
    },
    "scrolled": true
   },
   "outputs": [
    {
     "data": {
      "text/plain": [
       "f (generic function with 1 method)"
      ]
     },
     "execution_count": 158,
     "metadata": {},
     "output_type": "execute_result"
    }
   ],
   "source": [
    "function f()\n",
    "    descriptions = []\n",
    "    for i in 1:length(input_puzzle.fields)\n",
    "        choices = get_all_valid_description(gather_entries(tickets, i), input_puzzle.fields)\n",
    "        push!(\n",
    "            descriptions,\n",
    "            (\n",
    "                len = length(choices),\n",
    "                i,\n",
    "                choices,\n",
    "            )\n",
    "        )\n",
    "    end\n",
    "    \n",
    "    sort!(descriptions, by = d -> d.len)\n",
    "    \n",
    "    actual_descriptions = Dict()\n",
    "    for k in 1:length(descriptions)\n",
    "        d = only(setdiff(descriptions[k].choices, values(actual_descriptions)))\n",
    "        actual_descriptions[descriptions[k].i] = d\n",
    "    end\n",
    "    \n",
    "    result = []\n",
    "    for (k, v) in actual_descriptions\n",
    "        if contains(v, \"departure\")\n",
    "            push!(result, k)\n",
    "        end\n",
    "    end\n",
    "    return result\n",
    "end"
   ]
  },
  {
   "cell_type": "code",
   "execution_count": 159,
   "metadata": {
    "ExecuteTime": {
     "end_time": "2020-12-16T14:44:58.569000+08:00",
     "start_time": "2020-12-16T06:44:58.461Z"
    }
   },
   "outputs": [
    {
     "data": {
      "text/plain": [
       "6-element Array{Any,1}:\n",
       "  2\n",
       " 16\n",
       " 17\n",
       "  3\n",
       " 13\n",
       " 18"
      ]
     },
     "execution_count": 159,
     "metadata": {},
     "output_type": "execute_result"
    }
   ],
   "source": [
    "f()"
   ]
  },
  {
   "cell_type": "code",
   "execution_count": 164,
   "metadata": {
    "ExecuteTime": {
     "end_time": "2020-12-16T14:45:56.768000+08:00",
     "start_time": "2020-12-16T06:45:56.541Z"
    }
   },
   "outputs": [
    {
     "data": {
      "text/plain": [
       "2766491048287"
      ]
     },
     "execution_count": 164,
     "metadata": {},
     "output_type": "execute_result"
    }
   ],
   "source": [
    "prod(input_puzzle.mine[f()])"
   ]
  },
  {
   "cell_type": "markdown",
   "metadata": {},
   "source": [
    "### answer"
   ]
  },
  {
   "cell_type": "code",
   "execution_count": 106,
   "metadata": {
    "ExecuteTime": {
     "end_time": "2020-12-16T13:30:37.575000+08:00",
     "start_time": "2020-12-16T05:30:37.571Z"
    }
   },
   "outputs": [
    {
     "data": {
      "text/plain": [
       "show_answer_report (generic function with 2 methods)"
      ]
     },
     "execution_count": 106,
     "metadata": {},
     "output_type": "execute_result"
    }
   ],
   "source": [
    "function show_answer_report(input, ::Val{:part2})\n",
    "    @show vs = get_all_descriptions(input.others, input.fields)\n",
    "    @info \"Answer found.\" answer=sum(vs)\n",
    "    return\n",
    "end"
   ]
  },
  {
   "cell_type": "code",
   "execution_count": 107,
   "metadata": {
    "ExecuteTime": {
     "end_time": "2020-12-16T13:30:38.699000+08:00",
     "start_time": "2020-12-16T05:30:38.578Z"
    },
    "scrolled": false
   },
   "outputs": [
    {
     "name": "stdout",
     "output_type": "stream",
     "text": [
      "get_description(gather_entries(tickets, i), fields) = \"class\"\n",
      "get_description(gather_entries(tickets, i), fields) = \"class\"\n",
      "get_description(gather_entries(tickets, i), fields) = \"seat\"\n",
      "vs = get_all_descriptions(input.others, input.fields) = nothing\n"
     ]
    },
    {
     "ename": "LoadError",
     "evalue": "MethodError: no method matching iterate(::Nothing)\nClosest candidates are:\n  iterate(!Matched::Pkg.Resolve.NodePerm, !Matched::Any...) at /Users/julia/buildbot/worker/package_macos64/build/usr/share/julia/stdlib/v1.5/Pkg/src/Resolve/maxsum.jl:228\n  iterate(!Matched::Test.GenericString) at /Users/julia/buildbot/worker/package_macos64/build/usr/share/julia/stdlib/v1.5/Test/src/Test.jl:1589\n  iterate(!Matched::Test.GenericString, !Matched::Integer) at /Users/julia/buildbot/worker/package_macos64/build/usr/share/julia/stdlib/v1.5/Test/src/Test.jl:1589\n  ...",
     "output_type": "error",
     "traceback": [
      "MethodError: no method matching iterate(::Nothing)\nClosest candidates are:\n  iterate(!Matched::Pkg.Resolve.NodePerm, !Matched::Any...) at /Users/julia/buildbot/worker/package_macos64/build/usr/share/julia/stdlib/v1.5/Pkg/src/Resolve/maxsum.jl:228\n  iterate(!Matched::Test.GenericString) at /Users/julia/buildbot/worker/package_macos64/build/usr/share/julia/stdlib/v1.5/Test/src/Test.jl:1589\n  iterate(!Matched::Test.GenericString, !Matched::Integer) at /Users/julia/buildbot/worker/package_macos64/build/usr/share/julia/stdlib/v1.5/Test/src/Test.jl:1589\n  ...",
      "",
      "Stacktrace:",
      " [1] _foldl_impl(::Base.BottomRF{typeof(Base.add_sum)}, ::Base._InitialValue, ::Nothing) at ./reduce.jl:56",
      " [2] foldl_impl(::Base.BottomRF{typeof(Base.add_sum)}, ::NamedTuple{(),Tuple{}}, ::Nothing) at ./reduce.jl:48",
      " [3] mapfoldl_impl(::typeof(identity), ::typeof(Base.add_sum), ::NamedTuple{(),Tuple{}}, ::Nothing) at ./reduce.jl:44",
      " [4] mapfoldl(::Function, ::Function, ::Nothing; kw::Base.Iterators.Pairs{Union{},Union{},Tuple{},NamedTuple{(),Tuple{}}}) at ./reduce.jl:160",
      " [5] mapfoldl(::Function, ::Function, ::Nothing) at ./reduce.jl:160",
      " [6] mapreduce(::Function, ::Function, ::Nothing; kw::Base.Iterators.Pairs{Union{},Union{},Tuple{},NamedTuple{(),Tuple{}}}) at ./reduce.jl:287",
      " [7] mapreduce(::Function, ::Function, ::Nothing) at ./reduce.jl:287",
      " [8] sum(::Function, ::Nothing) at ./reduce.jl:494",
      " [9] sum(::Nothing) at ./reduce.jl:511",
      " [10] macro expansion at ./logging.jl:332 [inlined]",
      " [11] show_answer_report(::NamedTuple{(:fields, :mine, :others),Tuple{Array{NamedTuple{(:key, :values),Tuple{SubString{String},Array{NamedTuple{(:l, :u),Tuple{Int64,Int64}},1}}},1},Array{Int64,1},Array{Array{Int64,1},1}}}, ::Val{:part2}) at ./In[106]:3",
      " [12] top-level scope at In[107]:1",
      " [13] include_string(::Function, ::Module, ::String, ::String) at ./loading.jl:1091"
     ]
    }
   ],
   "source": [
    "show_answer_report(input_sample_1, Val(:part2))"
   ]
  },
  {
   "cell_type": "code",
   "execution_count": null,
   "metadata": {
    "scrolled": true
   },
   "outputs": [],
   "source": [
    "show_answer_report(input_sample_2, Val(:part2))"
   ]
  },
  {
   "cell_type": "code",
   "execution_count": 108,
   "metadata": {
    "ExecuteTime": {
     "end_time": "2020-12-16T13:30:46.436000+08:00",
     "start_time": "2020-12-16T05:30:46.413Z"
    },
    "scrolled": true
   },
   "outputs": [
    {
     "name": "stdout",
     "output_type": "stream",
     "text": [
      "get_description(gather_entries(tickets, i), fields) = \"departure location\"\n",
      "get_description(gather_entries(tickets, i), fields) = \"departure location\"\n",
      "get_description(gather_entries(tickets, i), fields) = \"departure location\"\n",
      "get_description(gather_entries(tickets, i), fields) = \"arrival platform\"\n",
      "get_description(gather_entries(tickets, i), fields) = \"arrival platform\"\n",
      "get_description(gather_entries(tickets, i), fields) = \"arrival platform\"\n",
      "get_description(gather_entries(tickets, i), fields) = \"row\"\n",
      "get_description(gather_entries(tickets, i), fields) = \"arrival platform\"\n",
      "get_description(gather_entries(tickets, i), fields) = \"departure location\"\n",
      "get_description(gather_entries(tickets, i), fields) = \"arrival location\"\n",
      "get_description(gather_entries(tickets, i), fields) = \"departure location\"\n",
      "get_description(gather_entries(tickets, i), fields) = \"arrival location\"\n",
      "get_description(gather_entries(tickets, i), fields) = \"departure location\"\n",
      "get_description(gather_entries(tickets, i), fields) = \"arrival platform\"\n",
      "get_description(gather_entries(tickets, i), fields) = \"row\"\n",
      "get_description(gather_entries(tickets, i), fields) = \"departure location\"\n",
      "get_description(gather_entries(tickets, i), fields) = \"departure location\"\n",
      "get_description(gather_entries(tickets, i), fields) = \"departure location\"\n",
      "get_description(gather_entries(tickets, i), fields) = \"departure location\"\n",
      "get_description(gather_entries(tickets, i), fields) = \"arrival platform\"\n",
      "vs = get_all_descriptions(input.others, input.fields) = nothing\n"
     ]
    },
    {
     "ename": "LoadError",
     "evalue": "MethodError: no method matching iterate(::Nothing)\nClosest candidates are:\n  iterate(!Matched::Pkg.Resolve.NodePerm, !Matched::Any...) at /Users/julia/buildbot/worker/package_macos64/build/usr/share/julia/stdlib/v1.5/Pkg/src/Resolve/maxsum.jl:228\n  iterate(!Matched::Test.GenericString) at /Users/julia/buildbot/worker/package_macos64/build/usr/share/julia/stdlib/v1.5/Test/src/Test.jl:1589\n  iterate(!Matched::Test.GenericString, !Matched::Integer) at /Users/julia/buildbot/worker/package_macos64/build/usr/share/julia/stdlib/v1.5/Test/src/Test.jl:1589\n  ...",
     "output_type": "error",
     "traceback": [
      "MethodError: no method matching iterate(::Nothing)\nClosest candidates are:\n  iterate(!Matched::Pkg.Resolve.NodePerm, !Matched::Any...) at /Users/julia/buildbot/worker/package_macos64/build/usr/share/julia/stdlib/v1.5/Pkg/src/Resolve/maxsum.jl:228\n  iterate(!Matched::Test.GenericString) at /Users/julia/buildbot/worker/package_macos64/build/usr/share/julia/stdlib/v1.5/Test/src/Test.jl:1589\n  iterate(!Matched::Test.GenericString, !Matched::Integer) at /Users/julia/buildbot/worker/package_macos64/build/usr/share/julia/stdlib/v1.5/Test/src/Test.jl:1589\n  ...",
      "",
      "Stacktrace:",
      " [1] _foldl_impl(::Base.BottomRF{typeof(Base.add_sum)}, ::Base._InitialValue, ::Nothing) at ./reduce.jl:56",
      " [2] foldl_impl(::Base.BottomRF{typeof(Base.add_sum)}, ::NamedTuple{(),Tuple{}}, ::Nothing) at ./reduce.jl:48",
      " [3] mapfoldl_impl(::typeof(identity), ::typeof(Base.add_sum), ::NamedTuple{(),Tuple{}}, ::Nothing) at ./reduce.jl:44",
      " [4] mapfoldl(::Function, ::Function, ::Nothing; kw::Base.Iterators.Pairs{Union{},Union{},Tuple{},NamedTuple{(),Tuple{}}}) at ./reduce.jl:160",
      " [5] mapfoldl(::Function, ::Function, ::Nothing) at ./reduce.jl:160",
      " [6] mapreduce(::Function, ::Function, ::Nothing; kw::Base.Iterators.Pairs{Union{},Union{},Tuple{},NamedTuple{(),Tuple{}}}) at ./reduce.jl:287",
      " [7] mapreduce(::Function, ::Function, ::Nothing) at ./reduce.jl:287",
      " [8] sum(::Function, ::Nothing) at ./reduce.jl:494",
      " [9] sum(::Nothing) at ./reduce.jl:511",
      " [10] macro expansion at ./logging.jl:332 [inlined]",
      " [11] show_answer_report(::NamedTuple{(:fields, :mine, :others),Tuple{Array{NamedTuple{(:key, :values),Tuple{SubString{String},Array{NamedTuple{(:l, :u),Tuple{Int64,Int64}},1}}},1},Array{Int64,1},Array{Array{Int64,1},1}}}, ::Val{:part2}) at ./In[106]:3",
      " [12] top-level scope at In[108]:1",
      " [13] include_string(::Function, ::Module, ::String, ::String) at ./loading.jl:1091"
     ]
    }
   ],
   "source": [
    "show_answer_report(input_puzzle, Val(:part2))"
   ]
  }
 ],
 "metadata": {
  "@webio": {
   "lastCommId": null,
   "lastKernelId": null
  },
  "kernelspec": {
   "display_name": "Julia 1.5.3",
   "language": "julia",
   "name": "julia-1.5"
  },
  "language_info": {
   "file_extension": ".jl",
   "mimetype": "application/julia",
   "name": "julia",
   "version": "1.5.3"
  },
  "latex_envs": {
   "LaTeX_envs_menu_present": true,
   "autoclose": false,
   "autocomplete": true,
   "bibliofile": "biblio.bib",
   "cite_by": "apalike",
   "current_citInitial": 1,
   "eqLabelWithNumbers": true,
   "eqNumInitial": 1,
   "hotkeys": {
    "equation": "Ctrl-E",
    "itemize": "Ctrl-I"
   },
   "labels_anchors": false,
   "latex_user_defs": false,
   "report_style_numbering": false,
   "user_envs_cfg": false
  },
  "toc": {
   "base_numbering": 1,
   "nav_menu": {},
   "number_sections": true,
   "sideBar": true,
   "skip_h1_title": true,
   "title_cell": "Table of Contents",
   "title_sidebar": "Contents",
   "toc_cell": true,
   "toc_position": {},
   "toc_section_display": true,
   "toc_window_display": false
  }
 },
 "nbformat": 4,
 "nbformat_minor": 4
}
