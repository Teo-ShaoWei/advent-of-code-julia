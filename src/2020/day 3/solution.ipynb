{
 "cells": [
  {
   "cell_type": "markdown",
   "metadata": {},
   "source": [
    "# Advent of Code 2020 Day 3\n",
    "[link](https://adventofcode.com/2020/day/3)"
   ]
  },
  {
   "cell_type": "markdown",
   "metadata": {
    "toc": true
   },
   "source": [
    "<h1>Table of Contents<span class=\"tocSkip\"></span></h1>\n",
    "<div class=\"toc\"><ul class=\"toc-item\"><li><span><a href=\"#read-input\" data-toc-modified-id=\"read-input-1\"><span class=\"toc-item-num\">1&nbsp;&nbsp;</span>read input</a></span></li><li><span><a href=\"#part-1\" data-toc-modified-id=\"part-1-2\"><span class=\"toc-item-num\">2&nbsp;&nbsp;</span>part 1</a></span><ul class=\"toc-item\"><li><span><a href=\"#answer\" data-toc-modified-id=\"answer-2.1\"><span class=\"toc-item-num\">2.1&nbsp;&nbsp;</span>answer</a></span></li></ul></li><li><span><a href=\"#part-2\" data-toc-modified-id=\"part-2-3\"><span class=\"toc-item-num\">3&nbsp;&nbsp;</span>part 2</a></span><ul class=\"toc-item\"><li><span><a href=\"#answer\" data-toc-modified-id=\"answer-3.1\"><span class=\"toc-item-num\">3.1&nbsp;&nbsp;</span>answer</a></span></li></ul></li></ul></div>"
   ]
  },
  {
   "cell_type": "markdown",
   "metadata": {},
   "source": [
    "## read input"
   ]
  },
  {
   "cell_type": "code",
   "execution_count": 1,
   "metadata": {
    "ExecuteTime": {
     "end_time": "2020-12-03T13:54:37.968000+08:00",
     "start_time": "2020-12-03T05:54:36.996Z"
    }
   },
   "outputs": [
    {
     "data": {
      "text/plain": [
       "parse_input_line (generic function with 1 method)"
      ]
     },
     "execution_count": 1,
     "metadata": {},
     "output_type": "execute_result"
    }
   ],
   "source": [
    "parse_input_line(line) = (==('#')).(collect(line))"
   ]
  },
  {
   "cell_type": "code",
   "execution_count": 2,
   "metadata": {
    "ExecuteTime": {
     "end_time": "2020-12-03T13:54:38.056000+08:00",
     "start_time": "2020-12-03T05:54:36.999Z"
    }
   },
   "outputs": [
    {
     "data": {
      "text/plain": [
       "parse_input (generic function with 1 method)"
      ]
     },
     "execution_count": 2,
     "metadata": {},
     "output_type": "execute_result"
    }
   ],
   "source": [
    "function parse_input(filename)\n",
    "    lines = parse_input_line.(readlines(filename))\n",
    "    return [lines[i][j] for i in 1:length(lines), j in 1:length(lines[1])]\n",
    "end"
   ]
  },
  {
   "cell_type": "code",
   "execution_count": 3,
   "metadata": {
    "ExecuteTime": {
     "end_time": "2020-12-03T13:54:39.125000+08:00",
     "start_time": "2020-12-03T05:54:37.007Z"
    }
   },
   "outputs": [
    {
     "data": {
      "text/plain": [
       "11×11 Array{Bool,2}:\n",
       " 0  0  1  1  0  0  0  0  0  0  0\n",
       " 1  0  0  0  1  0  0  0  1  0  0\n",
       " 0  1  0  0  0  0  1  0  0  1  0\n",
       " 0  0  1  0  1  0  0  0  1  0  1\n",
       " 0  1  0  0  0  1  1  0  0  1  0\n",
       " 0  0  1  0  1  1  0  0  0  0  0\n",
       " 0  1  0  1  0  1  0  0  0  0  1\n",
       " 0  1  0  0  0  0  0  0  0  0  1\n",
       " 1  0  1  1  0  0  0  1  0  0  0\n",
       " 1  0  0  0  1  1  0  0  0  0  1\n",
       " 0  1  0  0  1  0  0  0  1  0  1"
      ]
     },
     "execution_count": 3,
     "metadata": {},
     "output_type": "execute_result"
    }
   ],
   "source": [
    "input_sample_1 = parse_input(\"input_sample_1.txt\")"
   ]
  },
  {
   "cell_type": "code",
   "execution_count": 4,
   "metadata": {
    "ExecuteTime": {
     "end_time": "2020-12-03T13:54:39.289000+08:00",
     "start_time": "2020-12-03T05:54:37.010Z"
    },
    "scrolled": true
   },
   "outputs": [
    {
     "data": {
      "text/plain": [
       "323×31 Array{Bool,2}:\n",
       " 0  0  0  0  1  0  0  0  1  1  0  0  0  …  0  1  0  0  1  0  1  0  0  0  1  0\n",
       " 0  0  1  1  1  1  1  1  0  0  0  1  0     0  0  0  0  1  0  0  1  0  1  1  0\n",
       " 0  0  1  0  1  0  0  0  1  1  0  0  0     0  0  1  0  0  1  0  0  0  0  1  0\n",
       " 0  0  1  0  0  0  0  0  1  0  0  1  0     0  0  0  1  0  1  0  0  1  0  0  1\n",
       " 1  0  0  0  0  0  0  1  1  0  0  1  1     1  0  0  1  0  0  0  0  0  1  0  0\n",
       " 1  0  0  0  0  0  0  0  1  1  0  0  0  …  1  0  0  0  0  1  0  0  0  0  0  0\n",
       " 0  0  0  0  0  1  1  0  0  0  1  0  0     0  1  0  1  0  0  1  0  1  1  0  0\n",
       " 0  0  0  0  0  0  0  0  0  1  0  0  0     0  0  0  1  0  0  0  0  0  0  1  0\n",
       " 0  0  1  0  1  0  0  1  0  0  0  0  1     0  0  0  0  0  1  1  0  1  0  1  1\n",
       " 0  1  0  0  0  1  0  0  1  0  0  0  0     0  0  0  1  0  1  0  0  1  0  1  0\n",
       " 0  0  0  0  1  0  0  1  0  1  0  1  1  …  1  0  0  1  0  0  1  0  0  0  0  1\n",
       " 0  0  0  1  0  0  1  0  0  0  0  0  1     0  1  0  0  0  1  0  0  1  0  0  1\n",
       " 0  0  0  0  0  1  0  0  0  0  0  1  0     1  0  0  1  0  0  0  1  0  0  0  0\n",
       " ⋮              ⋮              ⋮        ⋱     ⋮              ⋮              ⋮\n",
       " 0  0  1  1  0  0  0  0  0  0  0  0  0     0  0  1  1  0  0  0  1  1  1  0  1\n",
       " 0  1  0  1  0  0  1  0  0  0  0  0  0     0  0  0  0  0  0  0  0  1  0  0  0\n",
       " 0  0  0  0  0  0  0  0  0  1  0  1  0     0  0  0  1  0  0  1  0  0  0  1  1\n",
       " 0  0  0  0  1  0  0  1  0  0  0  0  1     1  0  0  0  1  0  0  1  0  0  0  0\n",
       " 0  0  0  1  0  0  0  0  0  1  0  0  0  …  1  0  1  0  0  1  0  1  0  0  0  0\n",
       " 0  1  0  0  1  0  0  0  0  0  0  0  0     0  0  0  0  0  0  0  1  1  0  1  0\n",
       " 0  0  0  1  1  0  0  0  0  0  0  0  1     0  1  1  0  0  0  0  0  0  1  0  0\n",
       " 0  0  0  0  0  0  0  0  0  0  0  1  1     0  0  1  1  1  0  0  0  1  0  1  0\n",
       " 0  0  0  0  0  0  0  0  0  0  0  1  0     0  0  0  0  1  0  0  0  1  0  0  1\n",
       " 0  0  1  0  0  0  0  1  0  1  1  0  1  …  0  0  0  0  0  0  0  0  0  0  0  1\n",
       " 0  0  1  0  0  0  0  0  1  1  0  0  0     0  1  0  0  0  1  0  0  0  0  0  0\n",
       " 0  0  0  1  1  1  0  1  1  1  0  0  0     0  0  0  0  0  0  0  0  1  0  0  1"
      ]
     },
     "execution_count": 4,
     "metadata": {},
     "output_type": "execute_result"
    }
   ],
   "source": [
    "input_puzzle = parse_input(\"input_puzzle.txt\")"
   ]
  },
  {
   "cell_type": "markdown",
   "metadata": {},
   "source": [
    "## part 1"
   ]
  },
  {
   "cell_type": "code",
   "execution_count": 5,
   "metadata": {
    "ExecuteTime": {
     "end_time": "2020-12-03T13:54:39.357000+08:00",
     "start_time": "2020-12-03T05:54:37.050Z"
    }
   },
   "outputs": [
    {
     "data": {
      "text/plain": [
       "count_trees (generic function with 1 method)"
      ]
     },
     "execution_count": 5,
     "metadata": {},
     "output_type": "execute_result"
    }
   ],
   "source": [
    "function count_trees(map, move_right, move_down)\n",
    "    num_trees = 0\n",
    "    \n",
    "    map_width = size(map, 2)\n",
    "    coor = (x = 1, y = 1)\n",
    "    while true\n",
    "        coor = (\n",
    "            x = mod1(coor.x + move_right, map_width),\n",
    "            y = coor.y + move_down,\n",
    "        )\n",
    "        (coor.y >  size(map, 1)) && break\n",
    "        map[coor.y, coor.x] && (num_trees += 1)\n",
    "    end\n",
    "    \n",
    "    return num_trees\n",
    "end"
   ]
  },
  {
   "cell_type": "markdown",
   "metadata": {},
   "source": [
    "### answer"
   ]
  },
  {
   "cell_type": "code",
   "execution_count": 6,
   "metadata": {
    "ExecuteTime": {
     "end_time": "2020-12-03T13:54:39.441000+08:00",
     "start_time": "2020-12-03T05:54:37.089Z"
    }
   },
   "outputs": [
    {
     "data": {
      "text/plain": [
       "show_answer_report (generic function with 1 method)"
      ]
     },
     "execution_count": 6,
     "metadata": {},
     "output_type": "execute_result"
    }
   ],
   "source": [
    "function show_answer_report(input, ::Val{:part1})\n",
    "    @info \"Answer found.\" answer=count_trees(input, 3, 1)\n",
    "    return\n",
    "end"
   ]
  },
  {
   "cell_type": "code",
   "execution_count": 7,
   "metadata": {
    "ExecuteTime": {
     "end_time": "2020-12-03T13:54:39.647000+08:00",
     "start_time": "2020-12-03T05:54:37.091Z"
    },
    "scrolled": true
   },
   "outputs": [
    {
     "name": "stdout",
     "output_type": "stream",
     "text": [
      "  0.162123 seconds (342.93 k allocations: 17.545 MiB)\n"
     ]
    },
    {
     "name": "stderr",
     "output_type": "stream",
     "text": [
      "┌ Info: Answer found.\n",
      "│   answer = 7\n",
      "└ @ Main In[6]:2\n"
     ]
    }
   ],
   "source": [
    "@time show_answer_report(input_sample_1, Val(:part1))"
   ]
  },
  {
   "cell_type": "code",
   "execution_count": 8,
   "metadata": {
    "ExecuteTime": {
     "end_time": "2020-12-03T13:54:39.670000+08:00",
     "start_time": "2020-12-03T05:54:37.094Z"
    }
   },
   "outputs": [
    {
     "name": "stdout",
     "output_type": "stream",
     "text": [
      "  0.000076 seconds (33 allocations: 1.297 KiB)\n"
     ]
    },
    {
     "name": "stderr",
     "output_type": "stream",
     "text": [
      "┌ Info: Answer found.\n",
      "│   answer = 218\n",
      "└ @ Main In[6]:2\n"
     ]
    }
   ],
   "source": [
    "@time show_answer_report(input_puzzle, Val(:part1))"
   ]
  },
  {
   "cell_type": "markdown",
   "metadata": {},
   "source": [
    "## part 2"
   ]
  },
  {
   "cell_type": "markdown",
   "metadata": {},
   "source": [
    "### answer"
   ]
  },
  {
   "cell_type": "code",
   "execution_count": 9,
   "metadata": {
    "ExecuteTime": {
     "end_time": "2020-12-03T13:54:39.690000+08:00",
     "start_time": "2020-12-03T05:54:37.173Z"
    }
   },
   "outputs": [
    {
     "data": {
      "text/plain": [
       "show_answer_report (generic function with 2 methods)"
      ]
     },
     "execution_count": 9,
     "metadata": {},
     "output_type": "execute_result"
    }
   ],
   "source": [
    "function show_answer_report(input, ::Val{:part2})\n",
    "    num_treess = [\n",
    "        count_trees(input, 1, 1),\n",
    "        count_trees(input, 3, 1),\n",
    "        count_trees(input, 5, 1),\n",
    "        count_trees(input, 7, 1),\n",
    "        count_trees(input, 1, 2),\n",
    "    ]\n",
    "    @show num_treess\n",
    "    @info \"Answer found.\" answer=prod(num_treess)\n",
    "    return\n",
    "end"
   ]
  },
  {
   "cell_type": "code",
   "execution_count": 10,
   "metadata": {
    "ExecuteTime": {
     "end_time": "2020-12-03T13:54:39.866000+08:00",
     "start_time": "2020-12-03T05:54:37.175Z"
    },
    "scrolled": true
   },
   "outputs": [
    {
     "name": "stdout",
     "output_type": "stream",
     "text": [
      "num_treess = [2, 7, 3, 4, 2]\n",
      "  0.168003 seconds (422.12 k allocations: 21.158 MiB, 6.24% gc time)\n"
     ]
    },
    {
     "name": "stderr",
     "output_type": "stream",
     "text": [
      "┌ Info: Answer found.\n",
      "│   answer = 336\n",
      "└ @ Main In[9]:10\n"
     ]
    }
   ],
   "source": [
    "@time show_answer_report(input_sample_1, Val(:part2))"
   ]
  },
  {
   "cell_type": "code",
   "execution_count": 11,
   "metadata": {
    "ExecuteTime": {
     "end_time": "2020-12-03T13:54:39.873000+08:00",
     "start_time": "2020-12-03T05:54:37.177Z"
    },
    "scrolled": true
   },
   "outputs": [
    {
     "name": "stdout",
     "output_type": "stream",
     "text": [
      "num_treess = [77, 218, 65, 82, 43]\n",
      "  0.000172 seconds (101 allocations: 3.547 KiB)\n"
     ]
    },
    {
     "name": "stderr",
     "output_type": "stream",
     "text": [
      "┌ Info: Answer found.\n",
      "│   answer = 3847183340\n",
      "└ @ Main In[9]:10\n"
     ]
    }
   ],
   "source": [
    "@time show_answer_report(input_puzzle, Val(:part2))"
   ]
  }
 ],
 "metadata": {
  "@webio": {
   "lastCommId": null,
   "lastKernelId": null
  },
  "kernelspec": {
   "display_name": "Julia 1.5.3",
   "language": "julia",
   "name": "julia-1.5"
  },
  "language_info": {
   "file_extension": ".jl",
   "mimetype": "application/julia",
   "name": "julia",
   "version": "1.5.3"
  },
  "latex_envs": {
   "LaTeX_envs_menu_present": true,
   "autoclose": false,
   "autocomplete": true,
   "bibliofile": "biblio.bib",
   "cite_by": "apalike",
   "current_citInitial": 1,
   "eqLabelWithNumbers": true,
   "eqNumInitial": 1,
   "hotkeys": {
    "equation": "Ctrl-E",
    "itemize": "Ctrl-I"
   },
   "labels_anchors": false,
   "latex_user_defs": false,
   "report_style_numbering": false,
   "user_envs_cfg": false
  },
  "toc": {
   "base_numbering": 1,
   "nav_menu": {},
   "number_sections": true,
   "sideBar": true,
   "skip_h1_title": true,
   "title_cell": "Table of Contents",
   "title_sidebar": "Contents",
   "toc_cell": true,
   "toc_position": {},
   "toc_section_display": true,
   "toc_window_display": false
  }
 },
 "nbformat": 4,
 "nbformat_minor": 4
}
