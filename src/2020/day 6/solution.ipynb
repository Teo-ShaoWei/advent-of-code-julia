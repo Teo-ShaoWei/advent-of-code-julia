{
 "cells": [
  {
   "cell_type": "markdown",
   "metadata": {},
   "source": [
    "# Advent of Code 2020 Day 6\n",
    "[link](https://adventofcode.com/2020/day/6)"
   ]
  },
  {
   "cell_type": "markdown",
   "metadata": {
    "toc": true
   },
   "source": [
    "<h1>Table of Contents<span class=\"tocSkip\"></span></h1>\n",
    "<div class=\"toc\"><ul class=\"toc-item\"><li><span><a href=\"#dependencies\" data-toc-modified-id=\"dependencies-1\"><span class=\"toc-item-num\">1&nbsp;&nbsp;</span>dependencies</a></span></li><li><span><a href=\"#read-input\" data-toc-modified-id=\"read-input-2\"><span class=\"toc-item-num\">2&nbsp;&nbsp;</span>read input</a></span></li><li><span><a href=\"#part-1\" data-toc-modified-id=\"part-1-3\"><span class=\"toc-item-num\">3&nbsp;&nbsp;</span>part 1</a></span><ul class=\"toc-item\"><li><span><a href=\"#answer\" data-toc-modified-id=\"answer-3.1\"><span class=\"toc-item-num\">3.1&nbsp;&nbsp;</span>answer</a></span></li></ul></li><li><span><a href=\"#part-2\" data-toc-modified-id=\"part-2-4\"><span class=\"toc-item-num\">4&nbsp;&nbsp;</span>part 2</a></span><ul class=\"toc-item\"><li><span><a href=\"#answer\" data-toc-modified-id=\"answer-4.1\"><span class=\"toc-item-num\">4.1&nbsp;&nbsp;</span>answer</a></span></li></ul></li></ul></div>"
   ]
  },
  {
   "cell_type": "markdown",
   "metadata": {},
   "source": [
    "## dependencies"
   ]
  },
  {
   "cell_type": "code",
   "execution_count": 1,
   "metadata": {
    "ExecuteTime": {
     "end_time": "2020-12-07T12:15:25.793000+08:00",
     "start_time": "2020-12-07T04:15:24.948Z"
    }
   },
   "outputs": [],
   "source": [
    "using DataStructures"
   ]
  },
  {
   "cell_type": "markdown",
   "metadata": {},
   "source": [
    "## read input"
   ]
  },
  {
   "cell_type": "code",
   "execution_count": 2,
   "metadata": {
    "ExecuteTime": {
     "end_time": "2020-12-07T12:15:26.247000+08:00",
     "start_time": "2020-12-07T04:15:24.992Z"
    }
   },
   "outputs": [
    {
     "data": {
      "text/plain": [
       "parse_input (generic function with 1 method)"
      ]
     },
     "execution_count": 2,
     "metadata": {},
     "output_type": "execute_result"
    }
   ],
   "source": [
    "parse_input(filename) = split.(split(read(filename, String), \"\\n\\n\"))"
   ]
  },
  {
   "cell_type": "code",
   "execution_count": 3,
   "metadata": {
    "ExecuteTime": {
     "end_time": "2020-12-07T12:15:27.650000+08:00",
     "start_time": "2020-12-07T04:15:24.993Z"
    }
   },
   "outputs": [
    {
     "data": {
      "text/plain": [
       "491-element Array{Array{SubString{String},1},1}:\n",
       " [\"elmcifawqgkp\", \"dynwslejfcrkpv\"]\n",
       " [\"pagrovuzscemqiy\", \"paxomsgyuvc\"]\n",
       " [\"hcoljgiraqvs\", \"hgrvxqcojal\", \"arjhqclogv\", \"jlrvackhogq\"]\n",
       " [\"bagctysnmhodfe\", \"tfchsdoeagmnby\", \"csdhnotbfgayme\"]\n",
       " [\"rksnmhbxi\", \"dyhavkcjrp\"]\n",
       " [\"t\", \"tx\", \"t\"]\n",
       " [\"fd\", \"of\", \"wejznfa\", \"f\", \"fs\"]\n",
       " [\"lmz\", \"ml\", \"lm\"]\n",
       " [\"zsidpewbu\", \"uziwpbsed\", \"dpzwbuise\", \"uiebdpswz\", \"dsuwzeibp\"]\n",
       " [\"lpsk\", \"srgk\"]\n",
       " [\"xdktfapvyqmsgnzl\", \"nmgqvxjzdlayrspf\"]\n",
       " [\"reydlgxzvsokpi\", \"sexvyokldpgr\", \"yrqnkuixselvod\", \"rylcshwxtefbadmokjv\"]\n",
       " [\"qhxfn\", \"hqfx\", \"xifhq\", \"fqhx\"]\n",
       " ⋮\n",
       " [\"gz\", \"gez\", \"ze\", \"yxz\"]\n",
       " [\"luyj\", \"ljduny\", \"ljyu\", \"yjul\", \"juyl\"]\n",
       " [\"gbpfexukwdljnvaromisqhc\", \"ezsaumkfvxpnchdtlborqjwgi\"]\n",
       " [\"gzklpuaqehvio\", \"sijxncbmwfy\"]\n",
       " [\"vkwnrcyth\", \"vectwfk\"]\n",
       " [\"sg\", \"s\", \"s\"]\n",
       " [\"az\", \"caz\", \"zfta\", \"caz\"]\n",
       " [\"jlrifchmk\", \"irkjhmcfl\", \"ifqmpklchjrb\", \"kcjmlfhri\", \"ilmkhfcjr\"]\n",
       " [\"tjnqf\", \"ncyzf\", \"f\", \"fo\", \"lxdrgsfihbew\"]\n",
       " [\"ntirwquhv\", \"qwvhyuintr\"]\n",
       " [\"gvunymbitk\", \"dsbywnmzk\", \"qjanlhbxmroc\"]\n",
       " [\"pxsdylnmfhq\", \"pyduhnqmfxl\", \"dpmqchxtnlbyf\", \"hnpqlxydfm\"]"
      ]
     },
     "execution_count": 3,
     "metadata": {},
     "output_type": "execute_result"
    }
   ],
   "source": [
    "input_puzzle = parse_input(\"input_puzzle.txt\")"
   ]
  },
  {
   "cell_type": "markdown",
   "metadata": {},
   "source": [
    "## part 1"
   ]
  },
  {
   "cell_type": "code",
   "execution_count": 4,
   "metadata": {
    "ExecuteTime": {
     "end_time": "2020-12-07T12:15:27.723000+08:00",
     "start_time": "2020-12-07T04:15:25.040Z"
    }
   },
   "outputs": [
    {
     "data": {
      "text/plain": [
       "questions_with_some_yes (generic function with 1 method)"
      ]
     },
     "execution_count": 4,
     "metadata": {},
     "output_type": "execute_result"
    }
   ],
   "source": [
    "questions_with_some_yes(group) = ∪(Set.(group)...)"
   ]
  },
  {
   "cell_type": "markdown",
   "metadata": {},
   "source": [
    "### answer"
   ]
  },
  {
   "cell_type": "code",
   "execution_count": 5,
   "metadata": {
    "ExecuteTime": {
     "end_time": "2020-12-07T12:15:27.795000+08:00",
     "start_time": "2020-12-07T04:15:25.087Z"
    }
   },
   "outputs": [
    {
     "data": {
      "text/plain": [
       "show_answer_report (generic function with 1 method)"
      ]
     },
     "execution_count": 5,
     "metadata": {},
     "output_type": "execute_result"
    }
   ],
   "source": [
    "function show_answer_report(input, ::Val{:part1})\n",
    "    @info \"Answer found.\" answer=sum((length ∘ questions_with_some_yes).(input))\n",
    "    return\n",
    "end"
   ]
  },
  {
   "cell_type": "code",
   "execution_count": 6,
   "metadata": {
    "ExecuteTime": {
     "end_time": "2020-12-07T12:15:28.197000+08:00",
     "start_time": "2020-12-07T04:15:25.089Z"
    },
    "scrolled": false
   },
   "outputs": [
    {
     "name": "stdout",
     "output_type": "stream",
     "text": [
      "  0.357389 seconds (955.80 k allocations: 50.910 MiB, 2.63% gc time)\n"
     ]
    },
    {
     "name": "stderr",
     "output_type": "stream",
     "text": [
      "┌ Info: Answer found.\n",
      "│   answer = 6775\n",
      "└ @ Main In[5]:2\n"
     ]
    }
   ],
   "source": [
    "@time show_answer_report(input_puzzle, Val(:part1))"
   ]
  },
  {
   "cell_type": "markdown",
   "metadata": {},
   "source": [
    "## part 2"
   ]
  },
  {
   "cell_type": "code",
   "execution_count": 7,
   "metadata": {
    "ExecuteTime": {
     "end_time": "2020-12-07T12:15:28.268000+08:00",
     "start_time": "2020-12-07T04:15:25.144Z"
    }
   },
   "outputs": [
    {
     "data": {
      "text/plain": [
       "questions_with_all_yes (generic function with 1 method)"
      ]
     },
     "execution_count": 7,
     "metadata": {},
     "output_type": "execute_result"
    }
   ],
   "source": [
    "questions_with_all_yes(group) = ∩(Set.(group)...)"
   ]
  },
  {
   "cell_type": "markdown",
   "metadata": {},
   "source": [
    "### answer"
   ]
  },
  {
   "cell_type": "code",
   "execution_count": 8,
   "metadata": {
    "ExecuteTime": {
     "end_time": "2020-12-07T12:15:28.271000+08:00",
     "start_time": "2020-12-07T04:15:25.186Z"
    }
   },
   "outputs": [
    {
     "data": {
      "text/plain": [
       "show_answer_report (generic function with 2 methods)"
      ]
     },
     "execution_count": 8,
     "metadata": {},
     "output_type": "execute_result"
    }
   ],
   "source": [
    "function show_answer_report(input, ::Val{:part2})\n",
    "    @info \"Answer found.\" answer=sum((length ∘ questions_with_all_yes).(input))\n",
    "    return\n",
    "end"
   ]
  },
  {
   "cell_type": "code",
   "execution_count": 9,
   "metadata": {
    "ExecuteTime": {
     "end_time": "2020-12-07T12:15:28.535000+08:00",
     "start_time": "2020-12-07T04:15:25.187Z"
    },
    "scrolled": true
   },
   "outputs": [
    {
     "name": "stdout",
     "output_type": "stream",
     "text": [
      "  0.255709 seconds (559.74 k allocations: 29.092 MiB, 3.75% gc time)\n"
     ]
    },
    {
     "name": "stderr",
     "output_type": "stream",
     "text": [
      "┌ Info: Answer found.\n",
      "│   answer = 3356\n",
      "└ @ Main In[8]:2\n"
     ]
    }
   ],
   "source": [
    "@time show_answer_report(input_puzzle, Val(:part2))"
   ]
  }
 ],
 "metadata": {
  "@webio": {
   "lastCommId": null,
   "lastKernelId": null
  },
  "kernelspec": {
   "display_name": "Julia 1.5.3",
   "language": "julia",
   "name": "julia-1.5"
  },
  "language_info": {
   "file_extension": ".jl",
   "mimetype": "application/julia",
   "name": "julia",
   "version": "1.5.3"
  },
  "latex_envs": {
   "LaTeX_envs_menu_present": true,
   "autoclose": false,
   "autocomplete": true,
   "bibliofile": "biblio.bib",
   "cite_by": "apalike",
   "current_citInitial": 1,
   "eqLabelWithNumbers": true,
   "eqNumInitial": 1,
   "hotkeys": {
    "equation": "Ctrl-E",
    "itemize": "Ctrl-I"
   },
   "labels_anchors": false,
   "latex_user_defs": false,
   "report_style_numbering": false,
   "user_envs_cfg": false
  },
  "toc": {
   "base_numbering": 1,
   "nav_menu": {},
   "number_sections": true,
   "sideBar": true,
   "skip_h1_title": true,
   "title_cell": "Table of Contents",
   "title_sidebar": "Contents",
   "toc_cell": true,
   "toc_position": {},
   "toc_section_display": true,
   "toc_window_display": false
  }
 },
 "nbformat": 4,
 "nbformat_minor": 4
}
