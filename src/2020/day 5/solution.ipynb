{
 "cells": [
  {
   "cell_type": "markdown",
   "metadata": {},
   "source": [
    "# Advent of Code 2020 Day 5\n",
    "[link](https://adventofcode.com/2020/day/5)"
   ]
  },
  {
   "cell_type": "markdown",
   "metadata": {
    "toc": true
   },
   "source": [
    "<h1>Table of Contents<span class=\"tocSkip\"></span></h1>\n",
    "<div class=\"toc\"><ul class=\"toc-item\"><li><span><a href=\"#dependencies\" data-toc-modified-id=\"dependencies-1\"><span class=\"toc-item-num\">1&nbsp;&nbsp;</span>dependencies</a></span></li><li><span><a href=\"#read-input\" data-toc-modified-id=\"read-input-2\"><span class=\"toc-item-num\">2&nbsp;&nbsp;</span>read input</a></span></li><li><span><a href=\"#part-1\" data-toc-modified-id=\"part-1-3\"><span class=\"toc-item-num\">3&nbsp;&nbsp;</span>part 1</a></span><ul class=\"toc-item\"><li><span><a href=\"#answer\" data-toc-modified-id=\"answer-3.1\"><span class=\"toc-item-num\">3.1&nbsp;&nbsp;</span>answer</a></span></li></ul></li><li><span><a href=\"#part-2\" data-toc-modified-id=\"part-2-4\"><span class=\"toc-item-num\">4&nbsp;&nbsp;</span>part 2</a></span><ul class=\"toc-item\"><li><span><a href=\"#answer\" data-toc-modified-id=\"answer-4.1\"><span class=\"toc-item-num\">4.1&nbsp;&nbsp;</span>answer</a></span></li></ul></li></ul></div>"
   ]
  },
  {
   "cell_type": "markdown",
   "metadata": {},
   "source": [
    "## read input"
   ]
  },
  {
   "cell_type": "code",
   "execution_count": null,
   "metadata": {},
   "outputs": [],
   "source": [
    "parse_input(filename) = split.(split(read(filename, String), \"\\n\\n\"))"
   ]
  },
  {
   "cell_type": "code",
   "execution_count": 1,
   "metadata": {
    "ExecuteTime": {
     "end_time": "2020-12-05T17:11:31.902000+08:00",
     "start_time": "2020-12-05T09:11:27.405Z"
    }
   },
   "outputs": [
    {
     "data": {
      "text/plain": [
       "parse_input_line (generic function with 1 method)"
      ]
     },
     "execution_count": 1,
     "metadata": {},
     "output_type": "execute_result"
    }
   ],
   "source": [
    "function map_char(c)\n",
    "    lookup = Dict(\n",
    "        'F' => '0',\n",
    "        'B' => '1',\n",
    "        'L' => '0',\n",
    "        'R' => '1',\n",
    "    )\n",
    "    return lookup[c]\n",
    "end\n",
    "\n",
    "function parse_input_line(line)\n",
    "    return parse(\n",
    "        Int,\n",
    "        join(map_char.(collect(line))),\n",
    "        base = 2,\n",
    "    )\n",
    "end"
   ]
  },
  {
   "cell_type": "code",
   "execution_count": 2,
   "metadata": {
    "ExecuteTime": {
     "end_time": "2020-12-05T17:11:36.040000+08:00",
     "start_time": "2020-12-05T09:11:35.950Z"
    }
   },
   "outputs": [
    {
     "data": {
      "text/plain": [
       "parse_input (generic function with 1 method)"
      ]
     },
     "execution_count": 2,
     "metadata": {},
     "output_type": "execute_result"
    }
   ],
   "source": [
    "parse_input(filename) = parse_input_line.(readlines(filename))"
   ]
  },
  {
   "cell_type": "code",
   "execution_count": 3,
   "metadata": {
    "ExecuteTime": {
     "end_time": "2020-12-05T17:11:37.482000+08:00",
     "start_time": "2020-12-05T09:11:36.633Z"
    },
    "scrolled": true
   },
   "outputs": [
    {
     "data": {
      "text/plain": [
       "867-element Array{Int64,1}:\n",
       " 136\n",
       " 693\n",
       "  72\n",
       " 190\n",
       " 563\n",
       " 680\n",
       " 544\n",
       "  17\n",
       " 332\n",
       " 810\n",
       " 122\n",
       " 516\n",
       " 484\n",
       "   ⋮\n",
       " 697\n",
       "  66\n",
       " 541\n",
       " 807\n",
       " 726\n",
       " 866\n",
       " 244\n",
       " 312\n",
       " 354\n",
       " 575\n",
       " 766\n",
       " 449"
      ]
     },
     "execution_count": 3,
     "metadata": {},
     "output_type": "execute_result"
    }
   ],
   "source": [
    "input_puzzle = parse_input(\"input_puzzle.txt\")"
   ]
  },
  {
   "cell_type": "markdown",
   "metadata": {},
   "source": [
    "## part 1"
   ]
  },
  {
   "cell_type": "markdown",
   "metadata": {},
   "source": [
    "### answer"
   ]
  },
  {
   "cell_type": "code",
   "execution_count": 4,
   "metadata": {
    "ExecuteTime": {
     "end_time": "2020-12-05T17:11:56.451000+08:00",
     "start_time": "2020-12-05T09:11:56.363Z"
    }
   },
   "outputs": [
    {
     "data": {
      "text/plain": [
       "show_answer_report (generic function with 1 method)"
      ]
     },
     "execution_count": 4,
     "metadata": {},
     "output_type": "execute_result"
    }
   ],
   "source": [
    "function show_answer_report(input, ::Val{:part1})\n",
    "    @info \"Answer found.\" answer=maximum(input)\n",
    "    return\n",
    "end"
   ]
  },
  {
   "cell_type": "code",
   "execution_count": 5,
   "metadata": {
    "ExecuteTime": {
     "end_time": "2020-12-05T17:11:57.696000+08:00",
     "start_time": "2020-12-05T09:11:57.541Z"
    },
    "scrolled": false
   },
   "outputs": [
    {
     "name": "stdout",
     "output_type": "stream",
     "text": [
      "  0.104496 seconds (233.36 k allocations: 12.004 MiB, 7.24% gc time)\n"
     ]
    },
    {
     "name": "stderr",
     "output_type": "stream",
     "text": [
      "┌ Info: Answer found.\n",
      "│   answer = 880\n",
      "└ @ Main In[4]:2\n"
     ]
    }
   ],
   "source": [
    "@time show_answer_report(input_puzzle, Val(:part1))"
   ]
  },
  {
   "cell_type": "markdown",
   "metadata": {},
   "source": [
    "## part 2"
   ]
  },
  {
   "cell_type": "markdown",
   "metadata": {},
   "source": [
    "The trick is to realised that the answer have to be unique. From the problem setup, it is sufficient to sort the IDs, and find the single ID that is missing in the range of possible values. If there is more than one such value, then all of them should be a valid answer anyway."
   ]
  },
  {
   "cell_type": "code",
   "execution_count": 10,
   "metadata": {
    "ExecuteTime": {
     "end_time": "2020-12-05T17:15:09.126000+08:00",
     "start_time": "2020-12-05T09:15:09.122Z"
    }
   },
   "outputs": [
    {
     "data": {
      "text/plain": [
       "find_seat (generic function with 1 method)"
      ]
     },
     "execution_count": 10,
     "metadata": {},
     "output_type": "execute_result"
    }
   ],
   "source": [
    "function find_seat(ids)\n",
    "    ids = sort(ids)\n",
    "    missing_ids = setdiff(first(ids):last(ids), sort(ids))\n",
    "    \n",
    "    for id in missing_ids\n",
    "        if (id - 1) ∈ ids && (id + 1) ∈ ids\n",
    "            return id\n",
    "        end\n",
    "    end\n",
    "end"
   ]
  },
  {
   "cell_type": "markdown",
   "metadata": {},
   "source": [
    "### answer"
   ]
  },
  {
   "cell_type": "code",
   "execution_count": 11,
   "metadata": {
    "ExecuteTime": {
     "end_time": "2020-12-05T17:15:10.646000+08:00",
     "start_time": "2020-12-05T09:15:10.642Z"
    }
   },
   "outputs": [
    {
     "data": {
      "text/plain": [
       "show_answer_report (generic function with 2 methods)"
      ]
     },
     "execution_count": 11,
     "metadata": {},
     "output_type": "execute_result"
    }
   ],
   "source": [
    "function show_answer_report(input, ::Val{:part2})\n",
    "    @info \"Answer found.\" answer=find_seat(input)\n",
    "    return\n",
    "end"
   ]
  },
  {
   "cell_type": "code",
   "execution_count": 12,
   "metadata": {
    "ExecuteTime": {
     "end_time": "2020-12-05T17:15:11.618000+08:00",
     "start_time": "2020-12-05T09:15:11.569Z"
    },
    "scrolled": true
   },
   "outputs": [
    {
     "name": "stdout",
     "output_type": "stream",
     "text": [
      "  0.039424 seconds (108.95 k allocations: 5.166 MiB)\n"
     ]
    },
    {
     "name": "stderr",
     "output_type": "stream",
     "text": [
      "┌ Info: Answer found.\n",
      "│   answer = 731\n",
      "└ @ Main In[11]:2\n"
     ]
    }
   ],
   "source": [
    "@time show_answer_report(input_puzzle, Val(:part2))"
   ]
  }
 ],
 "metadata": {
  "@webio": {
   "lastCommId": null,
   "lastKernelId": null
  },
  "kernelspec": {
   "display_name": "Julia 1.5.3",
   "language": "julia",
   "name": "julia-1.5"
  },
  "language_info": {
   "file_extension": ".jl",
   "mimetype": "application/julia",
   "name": "julia",
   "version": "1.5.3"
  },
  "latex_envs": {
   "LaTeX_envs_menu_present": true,
   "autoclose": false,
   "autocomplete": true,
   "bibliofile": "biblio.bib",
   "cite_by": "apalike",
   "current_citInitial": 1,
   "eqLabelWithNumbers": true,
   "eqNumInitial": 1,
   "hotkeys": {
    "equation": "Ctrl-E",
    "itemize": "Ctrl-I"
   },
   "labels_anchors": false,
   "latex_user_defs": false,
   "report_style_numbering": false,
   "user_envs_cfg": false
  },
  "toc": {
   "base_numbering": 1,
   "nav_menu": {},
   "number_sections": true,
   "sideBar": true,
   "skip_h1_title": true,
   "title_cell": "Table of Contents",
   "title_sidebar": "Contents",
   "toc_cell": true,
   "toc_position": {},
   "toc_section_display": true,
   "toc_window_display": false
  }
 },
 "nbformat": 4,
 "nbformat_minor": 4
}
