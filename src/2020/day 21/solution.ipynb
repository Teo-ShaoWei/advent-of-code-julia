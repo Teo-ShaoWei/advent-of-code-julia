{
 "cells": [
  {
   "cell_type": "markdown",
   "metadata": {},
   "source": [
    "# Advent of Code 2020 Day 21\n",
    "[link](https://adventofcode.com/2020/day/21)"
   ]
  },
  {
   "cell_type": "markdown",
   "metadata": {
    "toc": true
   },
   "source": [
    "<h1>Table of Contents<span class=\"tocSkip\"></span></h1>\n",
    "<div class=\"toc\"><ul class=\"toc-item\"><li><span><a href=\"#dependencies\" data-toc-modified-id=\"dependencies-1\"><span class=\"toc-item-num\">1&nbsp;&nbsp;</span>dependencies</a></span></li><li><span><a href=\"#read-input\" data-toc-modified-id=\"read-input-2\"><span class=\"toc-item-num\">2&nbsp;&nbsp;</span>read input</a></span></li><li><span><a href=\"#part-1\" data-toc-modified-id=\"part-1-3\"><span class=\"toc-item-num\">3&nbsp;&nbsp;</span>part 1</a></span><ul class=\"toc-item\"><li><span><a href=\"#answer\" data-toc-modified-id=\"answer-3.1\"><span class=\"toc-item-num\">3.1&nbsp;&nbsp;</span>answer</a></span></li></ul></li><li><span><a href=\"#part-2\" data-toc-modified-id=\"part-2-4\"><span class=\"toc-item-num\">4&nbsp;&nbsp;</span>part 2</a></span><ul class=\"toc-item\"><li><span><a href=\"#answer\" data-toc-modified-id=\"answer-4.1\"><span class=\"toc-item-num\">4.1&nbsp;&nbsp;</span>answer</a></span></li></ul></li></ul></div>"
   ]
  },
  {
   "cell_type": "markdown",
   "metadata": {},
   "source": [
    "## dependencies"
   ]
  },
  {
   "cell_type": "code",
   "execution_count": 176,
   "metadata": {
    "ExecuteTime": {
     "end_time": "2020-12-22T12:33:35.284000+08:00",
     "start_time": "2020-12-22T04:33:35.279Z"
    }
   },
   "outputs": [],
   "source": [
    "using Combinatorics, DataStructures, JSON, OffsetArrays, Interact, Images, NBInclude, Lazy, Underscores"
   ]
  },
  {
   "cell_type": "markdown",
   "metadata": {},
   "source": [
    "## read input"
   ]
  },
  {
   "cell_type": "code",
   "execution_count": 258,
   "metadata": {
    "ExecuteTime": {
     "end_time": "2020-12-22T12:51:56.557000+08:00",
     "start_time": "2020-12-22T04:51:56.552Z"
    }
   },
   "outputs": [
    {
     "data": {
      "text/plain": [
       "parse_input (generic function with 1 method)"
      ]
     },
     "execution_count": 258,
     "metadata": {},
     "output_type": "execute_result"
    }
   ],
   "source": [
    "function parse_input(filename)\n",
    "    return readlines(filename) .|> function(line)\n",
    "        m = match(r\"(.+) \\(contains (.+)\\)\", line)\n",
    "        ingredients = Set(@> begin\n",
    "            m[1]\n",
    "            split(' ')\n",
    "            x -> String.(x)\n",
    "        end)\n",
    "        allergens = Set(@> begin\n",
    "            m[2]\n",
    "            split(\", \")\n",
    "            x -> String.(x)\n",
    "        end)\n",
    "        \n",
    "        return (; ingredients, allergens)\n",
    "    end\n",
    "end"
   ]
  },
  {
   "cell_type": "code",
   "execution_count": 259,
   "metadata": {
    "ExecuteTime": {
     "end_time": "2020-12-22T12:51:57.289000+08:00",
     "start_time": "2020-12-22T04:51:57.213Z"
    }
   },
   "outputs": [
    {
     "data": {
      "text/plain": [
       "4-element Array{NamedTuple{(:ingredients, :allergens),Tuple{Set{String},Set{String}}},1}:\n",
       " (ingredients = Set([\"sqjhc\", \"mxmxvkd\", \"kfcds\", \"nhms\"]), allergens = Set([\"fish\", \"dairy\"]))\n",
       " (ingredients = Set([\"sbzzf\", \"trh\", \"fvjkl\", \"mxmxvkd\"]), allergens = Set([\"dairy\"]))\n",
       " (ingredients = Set([\"sqjhc\", \"fvjkl\"]), allergens = Set([\"soy\"]))\n",
       " (ingredients = Set([\"sbzzf\", \"sqjhc\", \"mxmxvkd\"]), allergens = Set([\"fish\"]))"
      ]
     },
     "execution_count": 259,
     "metadata": {},
     "output_type": "execute_result"
    }
   ],
   "source": [
    "input_sample_1 = parse_input(\"input_sample_1.txt\")"
   ]
  },
  {
   "cell_type": "code",
   "execution_count": 260,
   "metadata": {
    "ExecuteTime": {
     "end_time": "2020-12-22T12:51:57.833000+08:00",
     "start_time": "2020-12-22T04:51:57.814Z"
    },
    "scrolled": true
   },
   "outputs": [
    {
     "data": {
      "text/plain": [
       "38-element Array{NamedTuple{(:ingredients, :allergens),Tuple{Set{String},Set{String}}},1}:\n",
       " (ingredients = Set([\"pqrvc\", \"lclnj\", \"pqqks\", \"tpv\", \"vpsmz\", \"tbv\", \"ffdsnc\", \"svpfz\", \"nvzjxr\", \"rrmvn\"  …  \"scfhknrs\", \"tnfgxsn\", \"mnpfcx\", \"lkv\", \"kfgln\", \"lgtpk\", \"kltxt\", \"zzvhml\", \"vcrs\", \"gdfddn\"]), allergens = Set([\"soy\", \"peanuts\", \"sesame\"]))\n",
       " (ingredients = Set([\"xtdrm\", \"dxxmnr\", \"qqsr\", \"qp\", \"pqrvc\", \"bbsnzc\", \"psrnxh\", \"gsbdgk\", \"lclnj\", \"pgckbv\"  …  \"jts\", \"lkgjp\", \"dcxcc\", \"lsntrr\", \"gmmtk\", \"jzfz\", \"fdsfpg\", \"hqtdss\", \"fbcnsr\", \"fjlhvt\"]), allergens = Set([\"wheat\"]))\n",
       " (ingredients = Set([\"nhlrh\", \"pqrvc\", \"psrnxh\", \"djrbkjr\", \"tsgvdsj\", \"jvx\", \"qltxnk\", \"pqqks\", \"mfl\", \"tpfjxp\"  …  \"tnfgxsn\", \"zpn\", \"lkv\", \"kfgln\", \"ndfq\", \"dcfzd\", \"kltxt\", \"tktff\", \"gmmtk\", \"xbj\"]), allergens = Set([\"peanuts\", \"dairy\", \"shellfish\"]))\n",
       " (ingredients = Set([\"bbsnzc\", \"psrnxh\", \"zttnb\", \"gppn\", \"cpnxdkk\", \"lfqpqc\", \"bvn\", \"dcrtvq\", \"xmnscmnv\", \"rjj\"  …  \"cbzcgvc\", \"tbrdjm\", \"vppmgd\", \"msqtqc\", \"flfn\", \"sgfvv\", \"qqdxk\", \"lkv\", \"glbpt\", \"cbpt\"]), allergens = Set([\"eggs\", \"sesame\"]))\n",
       " (ingredients = Set([\"lclnj\", \"djrbkjr\", \"xgqfzp\", \"xf\", \"zttnb\", \"jvx\", \"pqqks\", \"mfl\", \"gppn\", \"lxrtk\"  …  \"lkv\", \"lgtpk\", \"ndfq\", \"kfgln\", \"nvp\", \"kpsp\", \"mpklvq\", \"hqtdss\", \"xbf\", \"cbpt\"]), allergens = Set([\"fish\", \"eggs\", \"dairy\"]))\n",
       " (ingredients = Set([\"nhlrh\", \"jxdcgp\", \"dxxmnr\", \"qrdq\", \"pqrvc\", \"qp\", \"pgckbv\", \"xf\", \"lclnj\", \"djrbkjr\"  …  \"qntgqv\", \"gmmtk\", \"rmfmm\", \"jzfz\", \"fdsfpg\", \"gjcnhb\", \"frq\", \"xbj\", \"sxbr\", \"cpjmc\"]), allergens = Set([\"eggs\", \"sesame\"]))\n",
       " (ingredients = Set([\"pqrvc\", \"lclnj\", \"jvx\", \"pqqks\", \"cpnxdkk\", \"qhpds\", \"pcgr\", \"hvhsn\", \"kmzrf\", \"vlbdl\"  …  \"tbrdjm\", \"vppmgd\", \"chtd\", \"tffgpr\", \"lnfvdxb\", \"lkv\", \"bfrtj\", \"lsntrr\", \"tfdfqp\", \"gjcnhb\"]), allergens = Set([\"soy\", \"fish\"]))\n",
       " (ingredients = Set([\"nhlrh\", \"pqrvc\", \"xf\", \"djrbkjr\", \"vxn\", \"zttnb\", \"pqqks\", \"cpnxdkk\", \"lfqpqc\", \"tpfjxp\"  …  \"flfn\", \"cdkx\", \"tffgpr\", \"sgfvv\", \"lkv\", \"kfgln\", \"lkgjp\", \"kpsp\", \"zvdqv\", \"zzvhml\"]), allergens = Set([\"peanuts\", \"fish\", \"eggs\"]))\n",
       " (ingredients = Set([\"dxxmnr\", \"qrdq\", \"qp\", \"pqrvc\", \"qmq\", \"pgckbv\", \"jfpttz\", \"jdfcj\", \"tsgvdsj\", \"xf\"  …  \"lsntrr\", \"gmmtk\", \"tfdfqp\", \"mpklvq\", \"fdsfpg\", \"xbf\", \"fbcnsr\", \"ljnk\", \"qtsjztd\", \"fjlhvt\"]), allergens = Set([\"soy\", \"wheat\", \"dairy\"]))\n",
       " (ingredients = Set([\"qqsr\", \"pqrvc\", \"bbsnzc\", \"psrnxh\", \"jfpttz\", \"xgqfzp\", \"jvx\", \"xjvc\", \"pqqks\", \"mfl\"  …  \"ndfq\", \"kfgln\", \"lgtpk\", \"lkgjp\", \"gmmtk\", \"gjcnhb\", \"vcrs\", \"hqtdss\", \"xbj\", \"ljnk\"]), allergens = Set([\"soy\", \"fish\", \"dairy\"]))\n",
       " (ingredients = Set([\"qqsr\", \"pqrvc\", \"psrnxh\", \"lclnj\", \"xgqfzp\", \"qltxnk\", \"pqqks\", \"mfl\", \"cpnxdkk\", \"gppn\"  …  \"lfq\", \"gdgdd\", \"tffgpr\", \"sgfvv\", \"lkv\", \"kfgln\", \"bfrtj\", \"kltxt\", \"lkgjp\", \"tktff\"]), allergens = Set([\"peanuts\", \"eggs\", \"fish\"]))\n",
       " (ingredients = Set([\"nhlrh\", \"jxdcgp\", \"fjlhvt\", \"qrdq\", \"pqrvc\", \"qp\", \"vvgcfr\", \"gsbdgk\", \"lclnj\", \"tsdz\"  …  \"cbpt\", \"xbf\", \"xbj\", \"vqmqqr\", \"rfdm\", \"nnlmz\", \"qtsjztd\", \"sxbr\", \"frq\", \"cpjmc\"]), allergens = Set([\"soy\", \"eggs\", \"fish\"]))\n",
       " (ingredients = Set([\"pqrvc\", \"bbsnzc\", \"gsbdgk\", \"lclnj\", \"jfpttz\", \"djrbkjr\", \"tsgvdsj\", \"pqqks\", \"cpnxdkk\", \"qhpds\"  …  \"dzvsv\", \"zpn\", \"kfgln\", \"dcfzd\", \"nvp\", \"lkgjp\", \"lsntrr\", \"mpklvq\", \"hqtdss\", \"cbpt\"]), allergens = Set([\"eggs\"]))\n",
       " ⋮\n",
       " (ingredients = Set([\"xtdrm\", \"qqsr\", \"qrdq\", \"pqrvc\", \"qp\", \"vvgcfr\", \"psrnxh\", \"qmq\", \"lclnj\", \"xf\"  …  \"lkgjp\", \"zvdqv\", \"tktff\", \"gmmtk\", \"rmfmm\", \"gjcnhb\", \"fdsfpg\", \"hqtdss\", \"jzfz\", \"xbj\"]), allergens = Set([\"soy\"]))\n",
       " (ingredients = Set([\"nhlrh\", \"qrdq\", \"qp\", \"pqrvc\", \"bbsnzc\", \"grjrrm\", \"gsbdgk\", \"xf\", \"lclnj\", \"tsdz\"  …  \"fdsfpg\", \"cbpt\", \"xbf\", \"rfdm\", \"fbcnsr\", \"jzfz\", \"gdfddn\", \"vqmqqr\", \"nnlmz\", \"cpjmc\"]), allergens = Set([\"soy\", \"peanuts\", \"sesame\"]))\n",
       " (ingredients = Set([\"xf\", \"lclnj\", \"vxn\", \"xjvc\", \"pqqks\", \"mfl\", \"pcgr\", \"qmmzr\", \"tpfjxp\", \"bvn\"  …  \"cbzcgvc\", \"krg\", \"tkccrc\", \"chtd\", \"sgfvv\", \"lkv\", \"kfgln\", \"bfrtj\", \"tfdfqp\", \"xbf\"]), allergens = Set([\"peanuts\", \"sesame\"]))\n",
       " (ingredients = Set([\"qqsr\", \"pqrvc\", \"lclnj\", \"jfpttz\", \"zttnb\", \"qltxnk\", \"jvx\", \"pqqks\", \"xjvc\", \"qmmzr\"  …  \"sgfvv\", \"tffgpr\", \"mnpfcx\", \"lnfvdxb\", \"smk\", \"lkv\", \"kfgln\", \"kltxt\", \"zzvhml\", \"tfdfqp\"]), allergens = Set([\"soy\", \"dairy\", \"shellfish\"]))\n",
       " (ingredients = Set([\"xtdrm\", \"qqsr\", \"pqrvc\", \"bbsnzc\", \"djrbkjr\", \"lclnj\", \"xgqfzp\", \"zttnb\", \"qltxnk\", \"pqqks\"  …  \"smk\", \"kfgln\", \"bfrtj\", \"kltxt\", \"mpklvq\", \"tfdfqp\", \"vcrs\", \"xbj\", \"ljnk\", \"gdfddn\"]), allergens = Set([\"wheat\"]))\n",
       " (ingredients = Set([\"fjlhvt\", \"jxdcgp\", \"pqrvc\", \"dlrpp\", \"vvgcfr\", \"qmq\", \"xf\", \"jlxqpjd\", \"stvl\", \"pqqks\"  …  \"gmmtk\", \"gjcnhb\", \"jzfz\", \"fdsfpg\", \"hqtdss\", \"xbj\", \"fbcnsr\", \"nnlmz\", \"sxbr\", \"cpjmc\"]), allergens = Set([\"eggs\", \"fish\", \"sesame\"]))\n",
       " (ingredients = Set([\"pqrvc\", \"gsbdgk\", \"djrbkjr\", \"lclnj\", \"vxn\", \"jvx\", \"qltxnk\", \"pqqks\", \"zrxbmt\", \"gppn\"  …  \"tkccrc\", \"tbrdjm\", \"tffgpr\", \"mnpfcx\", \"lgtpk\", \"kfgln\", \"dcfzd\", \"pvpbdk\", \"gjcnhb\", \"xbf\"]), allergens = Set([\"shellfish\", \"sesame\"]))\n",
       " (ingredients = Set([\"jxdcgp\", \"qp\", \"pqrvc\", \"dlrpp\", \"vvgcfr\", \"jfpttz\", \"vxn\", \"qlcd\", \"jvx\", \"pqqks\"  …  \"tktff\", \"lsntrr\", \"vcrs\", \"fdsfpg\", \"xbf\", \"hqtdss\", \"vqmqqr\", \"fbcnsr\", \"vsskb\", \"nnlmz\"]), allergens = Set([\"shellfish\"]))\n",
       " (ingredients = Set([\"xtdrm\", \"dxxmnr\", \"pqrvc\", \"pgckbv\", \"lclnj\", \"djrbkjr\", \"jdfcj\", \"tsgvdsj\", \"jvx\", \"stvl\"  …  \"tktff\", \"zzvhml\", \"jzfz\", \"gjcnhb\", \"hqtdss\", \"xbf\", \"fbcnsr\", \"nnlmz\", \"ljnk\", \"vsskb\"]), allergens = Set([\"soy\", \"peanuts\", \"wheat\"]))\n",
       " (ingredients = Set([\"pqrvc\", \"bbsnzc\", \"lclnj\", \"jvx\", \"xjvc\", \"pqqks\", \"zrxbmt\", \"lxrtk\", \"nhnnc\", \"hvhsn\"  …  \"flfn\", \"chtd\", \"mnpfcx\", \"lnfvdxb\", \"smk\", \"lkv\", \"kfgln\", \"lgtpk\", \"zvdqv\", \"gjcnhb\"]), allergens = Set([\"wheat\"]))\n",
       " (ingredients = Set([\"pqrvc\", \"vxn\", \"jvx\", \"pqqks\", \"qhpds\", \"lfqpqc\", \"hvhsn\", \"rzjcr\", \"nzhsjkt\", \"rfqxzg\"  …  \"jbt\", \"xmcs\", \"nkktc\", \"vppmgd\", \"flfn\", \"lnfvdxb\", \"lkv\", \"kfgln\", \"ndfq\", \"tfdfqp\"]), allergens = Set([\"shellfish\"]))\n",
       " (ingredients = Set([\"qrdq\", \"pqrvc\", \"dlrpp\", \"grjrrm\", \"xf\", \"tsdz\", \"pgckbv\", \"zttnb\", \"jvx\", \"fnvjz\"  …  \"jzfz\", \"gjcnhb\", \"rmfmm\", \"cbpt\", \"xbf\", \"fdsfpg\", \"fbcnsr\", \"xbj\", \"vsskb\", \"rfdm\"]), allergens = Set([\"shellfish\"]))"
      ]
     },
     "execution_count": 260,
     "metadata": {},
     "output_type": "execute_result"
    }
   ],
   "source": [
    "input_puzzle = parse_input(\"input_puzzle.txt\")"
   ]
  },
  {
   "cell_type": "code",
   "execution_count": 101,
   "metadata": {
    "ExecuteTime": {
     "end_time": "2020-12-21T13:28:58.018000+08:00",
     "start_time": "2020-12-21T05:28:58.015Z"
    }
   },
   "outputs": [
    {
     "data": {
      "text/plain": [
       "4-element Array{NamedTuple{(:ingredients, :allergens),Tuple{Set{String},Set{String}}},1}:\n",
       " (ingredients = Set([\"sqjhc\", \"mxmxvkd\", \"kfcds\", \"nhms\"]), allergens = Set([\"fish\", \"dairy\"]))\n",
       " (ingredients = Set([\"sbzzf\", \"trh\", \"fvjkl\", \"mxmxvkd\"]), allergens = Set([\"dairy\"]))\n",
       " (ingredients = Set([\"sqjhc\", \"fvjkl\"]), allergens = Set([\"soy\"]))\n",
       " (ingredients = Set([\"sbzzf\", \"sqjhc\", \"mxmxvkd\"]), allergens = Set([\"fish\"]))"
      ]
     },
     "execution_count": 101,
     "metadata": {},
     "output_type": "execute_result"
    }
   ],
   "source": [
    "data = input_sample_1"
   ]
  },
  {
   "cell_type": "code",
   "execution_count": null,
   "metadata": {},
   "outputs": [],
   "source": [
    "json(input_sample_1, 4) |> clipboard"
   ]
  },
  {
   "cell_type": "code",
   "execution_count": null,
   "metadata": {},
   "outputs": [],
   "source": [
    "json(input_puzzle, 4) |> clipboard"
   ]
  },
  {
   "cell_type": "markdown",
   "metadata": {},
   "source": [
    "## part 1"
   ]
  },
  {
   "cell_type": "code",
   "execution_count": 110,
   "metadata": {
    "ExecuteTime": {
     "end_time": "2020-12-21T13:31:09.829000+08:00",
     "start_time": "2020-12-21T05:31:09.741Z"
    }
   },
   "outputs": [
    {
     "data": {
      "text/plain": [
       "all_ingredients (generic function with 1 method)"
      ]
     },
     "execution_count": 110,
     "metadata": {},
     "output_type": "execute_result"
    }
   ],
   "source": [
    "function all_ingredients(foods)\n",
    "    return union(getfield.(foods, :ingredients)...)\n",
    "end"
   ]
  },
  {
   "cell_type": "code",
   "execution_count": 142,
   "metadata": {
    "ExecuteTime": {
     "end_time": "2020-12-21T13:38:44.424000+08:00",
     "start_time": "2020-12-21T05:38:44.421Z"
    }
   },
   "outputs": [
    {
     "data": {
      "text/plain": [
       "all_allergens (generic function with 1 method)"
      ]
     },
     "execution_count": 142,
     "metadata": {},
     "output_type": "execute_result"
    }
   ],
   "source": [
    "function all_allergens(foods)\n",
    "    return union(getfield.(foods, :allergens)...)\n",
    "end"
   ]
  },
  {
   "cell_type": "code",
   "execution_count": 143,
   "metadata": {
    "ExecuteTime": {
     "end_time": "2020-12-21T13:38:49.254000+08:00",
     "start_time": "2020-12-21T05:38:49.251Z"
    }
   },
   "outputs": [
    {
     "data": {
      "text/plain": [
       "contain_allergen (generic function with 1 method)"
      ]
     },
     "execution_count": 143,
     "metadata": {},
     "output_type": "execute_result"
    }
   ],
   "source": [
    "function contain_allergen(food, allergen)\n",
    "    return allergen ∈ food.allergens\n",
    "end"
   ]
  },
  {
   "cell_type": "code",
   "execution_count": 150,
   "metadata": {
    "ExecuteTime": {
     "end_time": "2020-12-21T13:40:54.994000+08:00",
     "start_time": "2020-12-21T05:40:54.902Z"
    }
   },
   "outputs": [
    {
     "data": {
      "text/plain": [
       "ingredients_with_allergen (generic function with 1 method)"
      ]
     },
     "execution_count": 150,
     "metadata": {},
     "output_type": "execute_result"
    }
   ],
   "source": [
    "function ingredients_with_allergen(foods)\n",
    "    ingredient_choices = Dict(\n",
    "        a => intersect(\n",
    "            (foods[contain_allergen.(foods, a)] .|> function (food)\n",
    "                food.ingredients\n",
    "            end)...,\n",
    "        )    \n",
    "        for a in all_allergens(foods)\n",
    "    )\n",
    "    ingredient_choices\n",
    "    \n",
    "    ingredients_with_allergen = Dict()\n",
    "    \n",
    "    while !isempty(ingredient_choices)\n",
    "        for (a, is) in ingredient_choices\n",
    "            if length(is) == 1\n",
    "                marked_i = only(is)\n",
    "                ingredients_with_allergen[marked_i] = a\n",
    "                delete!(ingredient_choices, a)\n",
    "                for (_, other_is) in ingredient_choices\n",
    "                    delete!(other_is, marked_i)\n",
    "                end\n",
    "                break\n",
    "            end\n",
    "        end\n",
    "    end\n",
    "    \n",
    "    return ingredients_with_allergen\n",
    "end"
   ]
  },
  {
   "cell_type": "code",
   "execution_count": 151,
   "metadata": {
    "ExecuteTime": {
     "end_time": "2020-12-21T13:41:03.220000+08:00",
     "start_time": "2020-12-21T05:41:02.628Z"
    }
   },
   "outputs": [
    {
     "data": {
      "text/plain": [
       "Dict{Any,Any} with 3 entries:\n",
       "  \"sqjhc\"   => \"fish\"\n",
       "  \"fvjkl\"   => \"soy\"\n",
       "  \"mxmxvkd\" => \"dairy\""
      ]
     },
     "execution_count": 151,
     "metadata": {},
     "output_type": "execute_result"
    }
   ],
   "source": [
    "ingredients_with_allergen(data)"
   ]
  },
  {
   "cell_type": "code",
   "execution_count": 147,
   "metadata": {
    "ExecuteTime": {
     "end_time": "2020-12-21T13:39:05.837000+08:00",
     "start_time": "2020-12-21T05:39:05.830Z"
    }
   },
   "outputs": [
    {
     "data": {
      "text/plain": [
       "no_visible_allergen (generic function with 2 methods)"
      ]
     },
     "execution_count": 147,
     "metadata": {},
     "output_type": "execute_result"
    }
   ],
   "source": [
    "function no_visible_allergen(foods)\n",
    "    ingredient_choices = Dict(\n",
    "        a => intersect(\n",
    "            (foods[contain_allergen.(foods, a)] .|> function (food)\n",
    "                food.ingredients\n",
    "            end)...,\n",
    "        )    \n",
    "        for a in all_allergens(foods)\n",
    "    )\n",
    "    @show ingredient_choices\n",
    "    \n",
    "    @show length.(collect(values(ingredient_choices)))\n",
    "    \n",
    "    ingredient_with_allergen = Dict()\n",
    "    \n",
    "    while !isempty(ingredient_choices)\n",
    "        for (a, is) in ingredient_choices\n",
    "            if length(is) == 1\n",
    "                marked_i = only(is)\n",
    "                ingredient_with_allergen[marked_i] = a\n",
    "                delete!(ingredient_choices, a)\n",
    "                for (_, other_is) in ingredient_choices\n",
    "                    delete!(other_is, marked_i)\n",
    "                end\n",
    "                break\n",
    "            end\n",
    "        end\n",
    "    end\n",
    "    \n",
    "    return setdiff(all_ingredients(foods), keys(ingredient_with_allergen))\n",
    "end"
   ]
  },
  {
   "cell_type": "code",
   "execution_count": 125,
   "metadata": {
    "ExecuteTime": {
     "end_time": "2020-12-21T13:35:09.293000+08:00",
     "start_time": "2020-12-21T05:35:09.290Z"
    }
   },
   "outputs": [
    {
     "data": {
      "text/plain": [
       "appearance (generic function with 1 method)"
      ]
     },
     "execution_count": 125,
     "metadata": {},
     "output_type": "execute_result"
    }
   ],
   "source": [
    "function appearance(good_food, foods)\n",
    "    count(f -> good_food ∈ f.ingredients, foods)\n",
    "end"
   ]
  },
  {
   "cell_type": "markdown",
   "metadata": {},
   "source": [
    "### answer"
   ]
  },
  {
   "cell_type": "code",
   "execution_count": 136,
   "metadata": {
    "ExecuteTime": {
     "end_time": "2020-12-21T13:37:11.385000+08:00",
     "start_time": "2020-12-21T05:37:11.381Z"
    }
   },
   "outputs": [
    {
     "data": {
      "text/plain": [
       "show_answer_report (generic function with 1 method)"
      ]
     },
     "execution_count": 136,
     "metadata": {},
     "output_type": "execute_result"
    }
   ],
   "source": [
    "function show_answer_report(data, ::Val{:part1})\n",
    "    @show all_allergens(data)\n",
    "    good_foods = no_visible_allergen(data)\n",
    "    \n",
    "    @info \"Answer found.\" answer=sum(appearance.(good_foods, Ref(data)))\n",
    "    return\n",
    "end"
   ]
  },
  {
   "cell_type": "code",
   "execution_count": 148,
   "metadata": {
    "ExecuteTime": {
     "end_time": "2020-12-21T13:39:08.283000+08:00",
     "start_time": "2020-12-21T05:39:07.979Z"
    },
    "scrolled": true
   },
   "outputs": [
    {
     "name": "stdout",
     "output_type": "stream",
     "text": [
      "all_allergens(data) = Set([\"soy\", \"fish\", \"dairy\"])\n",
      "ingredient_choices = Dict{String,Set{String}}(\"soy\" => Set([\"sqjhc\", \"fvjkl\"]),\"fish\" => Set([\"sqjhc\", \"mxmxvkd\"]),\"dairy\" => Set([\"mxmxvkd\"]))\n",
      "length.(collect(values(ingredient_choices))) = [2, 2, 1]\n"
     ]
    },
    {
     "name": "stderr",
     "output_type": "stream",
     "text": [
      "┌ Info: Answer found.\n",
      "│   answer = 5\n",
      "└ @ Main In[136]:5\n"
     ]
    }
   ],
   "source": [
    "show_answer_report(input_sample_1, Val(:part1))"
   ]
  },
  {
   "cell_type": "code",
   "execution_count": 149,
   "metadata": {
    "ExecuteTime": {
     "end_time": "2020-12-21T13:39:09.222000+08:00",
     "start_time": "2020-12-21T05:39:09.218Z"
    },
    "scrolled": false
   },
   "outputs": [
    {
     "name": "stdout",
     "output_type": "stream",
     "text": [
      "all_allergens(data) = Set([\"soy\", \"peanuts\", \"eggs\", \"fish\", \"wheat\", \"dairy\", \"shellfish\", \"sesame\"])\n",
      "ingredient_choices = Dict{String,Set{String}}(\"soy\" => Set([\"pqrvc\", \"lkv\"]),\"peanuts\" => Set([\"pqqks\", \"lkv\", \"kfgln\", \"cbzcgvc\"]),\"eggs\" => Set([\"jmvxx\", \"kfgln\"]),\"fish\" => Set([\"pqqks\", \"jmvxx\", \"lkv\"]),\"wheat\" => Set([\"pqrvc\", \"lclnj\"]),\"dairy\" => Set([\"pqqks\", \"jmvxx\", \"lkv\", \"fdsfpg\"]),\"shellfish\" => Set([\"pqqks\", \"jmvxx\", \"kfgln\"]),\"sesame\" => Set([\"kfgln\"]))\n",
      "length.(collect(values(ingredient_choices))) = [2, 4, 2, 3, 2, 4, 3, 1]\n"
     ]
    },
    {
     "name": "stderr",
     "output_type": "stream",
     "text": [
      "┌ Info: Answer found.\n",
      "│   answer = 2072\n",
      "└ @ Main In[136]:5\n"
     ]
    }
   ],
   "source": [
    "show_answer_report(input_puzzle, Val(:part1))"
   ]
  },
  {
   "cell_type": "markdown",
   "metadata": {},
   "source": [
    "## part 2"
   ]
  },
  {
   "cell_type": "code",
   "execution_count": null,
   "metadata": {},
   "outputs": [],
   "source": []
  },
  {
   "cell_type": "markdown",
   "metadata": {},
   "source": [
    "### answer"
   ]
  },
  {
   "cell_type": "code",
   "execution_count": 165,
   "metadata": {
    "ExecuteTime": {
     "end_time": "2020-12-21T13:44:14.154000+08:00",
     "start_time": "2020-12-21T05:44:14.149Z"
    }
   },
   "outputs": [
    {
     "data": {
      "text/plain": [
       "show_answer_report (generic function with 2 methods)"
      ]
     },
     "execution_count": 165,
     "metadata": {},
     "output_type": "execute_result"
    }
   ],
   "source": [
    "function show_answer_report(data, ::Val{:part2})\n",
    "    @show danger_list = sort!(\n",
    "        ingredients_with_allergen(data) |> collect,\n",
    "        by = f -> last(f),\n",
    "    ) .|> first\n",
    "\n",
    "    @info \"Answer found.\" answer=join(danger_list, \",\")\n",
    "    return\n",
    "end"
   ]
  },
  {
   "cell_type": "code",
   "execution_count": 166,
   "metadata": {
    "ExecuteTime": {
     "end_time": "2020-12-21T13:44:14.928000+08:00",
     "start_time": "2020-12-21T05:44:14.791Z"
    },
    "scrolled": true
   },
   "outputs": [
    {
     "name": "stdout",
     "output_type": "stream",
     "text": [
      "danger_list = sort!(ingredients_with_allergen(data) |> collect, by = (f->begin\n",
      "                        #= In[165]:4 =#\n",
      "                        last(f)\n",
      "                    end)) .|> first = [\"mxmxvkd\", \"sqjhc\", \"fvjkl\"]\n"
     ]
    },
    {
     "name": "stderr",
     "output_type": "stream",
     "text": [
      "┌ Info: Answer found.\n",
      "│   answer = mxmxvkd,sqjhc,fvjkl\n",
      "└ @ Main In[165]:7\n"
     ]
    }
   ],
   "source": [
    "show_answer_report(input_sample_1, Val(:part2))"
   ]
  },
  {
   "cell_type": "code",
   "execution_count": 167,
   "metadata": {
    "ExecuteTime": {
     "end_time": "2020-12-21T13:44:16.408000+08:00",
     "start_time": "2020-12-21T05:44:16.406Z"
    },
    "scrolled": false
   },
   "outputs": [
    {
     "name": "stdout",
     "output_type": "stream",
     "text": [
      "danger_list = sort!(ingredients_with_allergen(data) |> collect, by = (f->begin\n",
      "                        #= In[165]:4 =#\n",
      "                        last(f)\n",
      "                    end)) .|> first = [\"fdsfpg\", \"jmvxx\", \"lkv\", \"cbzcgvc\", \"kfgln\", \"pqqks\", \"pqrvc\", \"lclnj\"]\n"
     ]
    },
    {
     "name": "stderr",
     "output_type": "stream",
     "text": [
      "┌ Info: Answer found.\n",
      "│   answer = fdsfpg,jmvxx,lkv,cbzcgvc,kfgln,pqqks,pqrvc,lclnj\n",
      "└ @ Main In[165]:7\n"
     ]
    }
   ],
   "source": [
    "show_answer_report(input_puzzle, Val(:part2))"
   ]
  }
 ],
 "metadata": {
  "@webio": {
   "lastCommId": null,
   "lastKernelId": null
  },
  "kernelspec": {
   "display_name": "Julia 1.5.3",
   "language": "julia",
   "name": "julia-1.5"
  },
  "language_info": {
   "file_extension": ".jl",
   "mimetype": "application/julia",
   "name": "julia",
   "version": "1.5.3"
  },
  "latex_envs": {
   "LaTeX_envs_menu_present": true,
   "autoclose": false,
   "autocomplete": true,
   "bibliofile": "biblio.bib",
   "cite_by": "apalike",
   "current_citInitial": 1,
   "eqLabelWithNumbers": true,
   "eqNumInitial": 1,
   "hotkeys": {
    "equation": "Ctrl-E",
    "itemize": "Ctrl-I"
   },
   "labels_anchors": false,
   "latex_user_defs": false,
   "report_style_numbering": false,
   "user_envs_cfg": false
  },
  "toc": {
   "base_numbering": 1,
   "nav_menu": {},
   "number_sections": true,
   "sideBar": true,
   "skip_h1_title": true,
   "title_cell": "Table of Contents",
   "title_sidebar": "Contents",
   "toc_cell": true,
   "toc_position": {},
   "toc_section_display": true,
   "toc_window_display": false
  }
 },
 "nbformat": 4,
 "nbformat_minor": 4
}
