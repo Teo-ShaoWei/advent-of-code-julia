{
 "cells": [
  {
   "cell_type": "markdown",
   "metadata": {},
   "source": [
    "# Advent of Code 2020 Day 9\n",
    "[link](https://adventofcode.com/2020/day/9)"
   ]
  },
  {
   "cell_type": "markdown",
   "metadata": {
    "toc": true
   },
   "source": [
    "<h1>Table of Contents<span class=\"tocSkip\"></span></h1>\n",
    "<div class=\"toc\"><ul class=\"toc-item\"><li><span><a href=\"#dependencies\" data-toc-modified-id=\"dependencies-1\"><span class=\"toc-item-num\">1&nbsp;&nbsp;</span>dependencies</a></span></li><li><span><a href=\"#read-input\" data-toc-modified-id=\"read-input-2\"><span class=\"toc-item-num\">2&nbsp;&nbsp;</span>read input</a></span></li><li><span><a href=\"#part-1\" data-toc-modified-id=\"part-1-3\"><span class=\"toc-item-num\">3&nbsp;&nbsp;</span>part 1</a></span><ul class=\"toc-item\"><li><span><a href=\"#answer\" data-toc-modified-id=\"answer-3.1\"><span class=\"toc-item-num\">3.1&nbsp;&nbsp;</span>answer</a></span></li></ul></li><li><span><a href=\"#part-2\" data-toc-modified-id=\"part-2-4\"><span class=\"toc-item-num\">4&nbsp;&nbsp;</span>part 2</a></span><ul class=\"toc-item\"><li><span><a href=\"#answer\" data-toc-modified-id=\"answer-4.1\"><span class=\"toc-item-num\">4.1&nbsp;&nbsp;</span>answer</a></span></li></ul></li></ul></div>"
   ]
  },
  {
   "cell_type": "markdown",
   "metadata": {},
   "source": [
    "## dependencies"
   ]
  },
  {
   "cell_type": "code",
   "execution_count": 65,
   "metadata": {
    "ExecuteTime": {
     "end_time": "2020-12-09T13:31:35.813000+08:00",
     "start_time": "2020-12-09T05:31:35.809Z"
    }
   },
   "outputs": [],
   "source": [
    "using Combinatorics"
   ]
  },
  {
   "cell_type": "markdown",
   "metadata": {},
   "source": [
    "## read input"
   ]
  },
  {
   "cell_type": "code",
   "execution_count": 2,
   "metadata": {
    "ExecuteTime": {
     "end_time": "2020-12-09T13:02:12.272000+08:00",
     "start_time": "2020-12-09T05:02:11.761Z"
    }
   },
   "outputs": [
    {
     "data": {
      "text/plain": [
       "parse_input (generic function with 1 method)"
      ]
     },
     "execution_count": 2,
     "metadata": {},
     "output_type": "execute_result"
    }
   ],
   "source": [
    "parse_input(filename) = parse.(Int,readlines(filename))"
   ]
  },
  {
   "cell_type": "code",
   "execution_count": 3,
   "metadata": {
    "ExecuteTime": {
     "end_time": "2020-12-09T13:02:13.886000+08:00",
     "start_time": "2020-12-09T05:02:13.067Z"
    }
   },
   "outputs": [
    {
     "data": {
      "text/plain": [
       "20-element Array{Int64,1}:\n",
       "  35\n",
       "  20\n",
       "  15\n",
       "  25\n",
       "  47\n",
       "  40\n",
       "  62\n",
       "  55\n",
       "  65\n",
       "  95\n",
       " 102\n",
       " 117\n",
       " 150\n",
       " 182\n",
       " 127\n",
       " 219\n",
       " 299\n",
       " 277\n",
       " 309\n",
       " 576"
      ]
     },
     "execution_count": 3,
     "metadata": {},
     "output_type": "execute_result"
    }
   ],
   "source": [
    "input_sample_1 = parse_input(\"input_sample_1.txt\")"
   ]
  },
  {
   "cell_type": "code",
   "execution_count": 4,
   "metadata": {
    "ExecuteTime": {
     "end_time": "2020-12-09T13:02:14.050000+08:00",
     "start_time": "2020-12-09T05:02:13.710Z"
    },
    "scrolled": true
   },
   "outputs": [
    {
     "data": {
      "text/plain": [
       "1000-element Array{Int64,1}:\n",
       "             11\n",
       "              6\n",
       "             42\n",
       "             19\n",
       "             23\n",
       "             20\n",
       "             26\n",
       "              4\n",
       "              2\n",
       "             36\n",
       "             35\n",
       "             41\n",
       "             18\n",
       "              ⋮\n",
       " 41070776879501\n",
       " 44813344760504\n",
       " 44894753223573\n",
       " 55984218546228\n",
       " 70174997745923\n",
       " 62509509999501\n",
       " 46895950681612\n",
       " 50572486281168\n",
       " 52342759990328\n",
       " 51650968425725\n",
       " 54817267608338\n",
       " 53421242134885"
      ]
     },
     "execution_count": 4,
     "metadata": {},
     "output_type": "execute_result"
    }
   ],
   "source": [
    "input_puzzle = parse_input(\"input_puzzle.txt\")"
   ]
  },
  {
   "cell_type": "markdown",
   "metadata": {},
   "source": [
    "## part 1"
   ]
  },
  {
   "cell_type": "code",
   "execution_count": 94,
   "metadata": {
    "ExecuteTime": {
     "end_time": "2020-12-09T13:49:08.872000+08:00",
     "start_time": "2020-12-09T05:49:08.867Z"
    }
   },
   "outputs": [
    {
     "data": {
      "text/plain": [
       "bad_number (generic function with 2 methods)"
      ]
     },
     "execution_count": 94,
     "metadata": {},
     "output_type": "execute_result"
    }
   ],
   "source": [
    "function bad_number(nums, k)\n",
    "    for i in (k + 1):length(nums)\n",
    "        if !any(num1 + num2 == nums[i] for (num1, num2) in combinations(nums[(i - k):(i - 1)], 2))\n",
    "            return nums[i]\n",
    "        end\n",
    "    end\n",
    "end"
   ]
  },
  {
   "cell_type": "markdown",
   "metadata": {},
   "source": [
    "### answer"
   ]
  },
  {
   "cell_type": "code",
   "execution_count": 67,
   "metadata": {
    "ExecuteTime": {
     "end_time": "2020-12-09T13:34:47.592000+08:00",
     "start_time": "2020-12-09T05:34:47.588Z"
    }
   },
   "outputs": [
    {
     "data": {
      "text/plain": [
       "show_answer_report (generic function with 3 methods)"
      ]
     },
     "execution_count": 67,
     "metadata": {},
     "output_type": "execute_result"
    }
   ],
   "source": [
    "function show_answer_report(input, k, ::Val{:part1})\n",
    "    @info \"Answer found.\" answer=bad_number(input, k)\n",
    "    return\n",
    "end"
   ]
  },
  {
   "cell_type": "code",
   "execution_count": 74,
   "metadata": {
    "ExecuteTime": {
     "end_time": "2020-12-09T13:35:52.105000+08:00",
     "start_time": "2020-12-09T05:35:51.999Z"
    },
    "scrolled": true
   },
   "outputs": [
    {
     "name": "stdout",
     "output_type": "stream",
     "text": [
      "  0.096662 seconds (264.87 k allocations: 13.383 MiB)\n"
     ]
    },
    {
     "name": "stderr",
     "output_type": "stream",
     "text": [
      "┌ Info: Answer found.\n",
      "│   answer = 127\n",
      "└ @ Main In[67]:2\n"
     ]
    }
   ],
   "source": [
    "@time show_answer_report(input_sample_1, 5, Val(:part1))"
   ]
  },
  {
   "cell_type": "code",
   "execution_count": 102,
   "metadata": {
    "ExecuteTime": {
     "end_time": "2020-12-09T13:49:19.228000+08:00",
     "start_time": "2020-12-09T05:49:19.215Z"
    },
    "scrolled": false
   },
   "outputs": [
    {
     "name": "stdout",
     "output_type": "stream",
     "text": [
      "  0.002945 seconds (75.58 k allocations: 4.768 MiB)\n"
     ]
    },
    {
     "name": "stderr",
     "output_type": "stream",
     "text": [
      "┌ Info: Answer found.\n",
      "│   answer = 1930745883\n",
      "└ @ Main In[67]:2\n"
     ]
    }
   ],
   "source": [
    "@time show_answer_report(input_puzzle, 25, Val(:part1))"
   ]
  },
  {
   "cell_type": "markdown",
   "metadata": {},
   "source": [
    "## part 2"
   ]
  },
  {
   "cell_type": "code",
   "execution_count": 130,
   "metadata": {
    "ExecuteTime": {
     "end_time": "2020-12-09T13:53:57.041000+08:00",
     "start_time": "2020-12-09T05:53:57.038Z"
    }
   },
   "outputs": [
    {
     "data": {
      "text/plain": [
       "rectify (generic function with 1 method)"
      ]
     },
     "execution_count": 130,
     "metadata": {},
     "output_type": "execute_result"
    }
   ],
   "source": [
    "function rectify(nums, k)\n",
    "    v = bad_number(nums, k)\n",
    "    i = 1; j = 1\n",
    "    while (s = sum(@view nums[i:j])) != v\n",
    "        s < v ? j += 1 : i += 1\n",
    "    end\n",
    "    \n",
    "    return sum(extrema(nums[i:j]))\n",
    "end"
   ]
  },
  {
   "cell_type": "markdown",
   "metadata": {},
   "source": [
    "### answer"
   ]
  },
  {
   "cell_type": "code",
   "execution_count": 42,
   "metadata": {
    "ExecuteTime": {
     "end_time": "2020-12-09T13:14:00.676000+08:00",
     "start_time": "2020-12-09T05:14:00.672Z"
    }
   },
   "outputs": [
    {
     "data": {
      "text/plain": [
       "show_answer_report (generic function with 3 methods)"
      ]
     },
     "execution_count": 42,
     "metadata": {},
     "output_type": "execute_result"
    }
   ],
   "source": [
    "function show_answer_report(input, k, ::Val{:part2})\n",
    "    @info \"Answer found.\" answer=rectify(input, k)\n",
    "    return\n",
    "end"
   ]
  },
  {
   "cell_type": "code",
   "execution_count": 131,
   "metadata": {
    "ExecuteTime": {
     "end_time": "2020-12-09T13:53:59.393000+08:00",
     "start_time": "2020-12-09T05:53:59.308Z"
    },
    "scrolled": true
   },
   "outputs": [
    {
     "name": "stdout",
     "output_type": "stream",
     "text": [
      "  0.075836 seconds (185.61 k allocations: 9.340 MiB)\n"
     ]
    },
    {
     "name": "stderr",
     "output_type": "stream",
     "text": [
      "┌ Info: Answer found.\n",
      "│   answer = 62\n",
      "└ @ Main In[42]:2\n"
     ]
    }
   ],
   "source": [
    "@time show_answer_report(input_sample_1, 5, Val(:part2))"
   ]
  },
  {
   "cell_type": "code",
   "execution_count": 132,
   "metadata": {
    "ExecuteTime": {
     "end_time": "2020-12-09T13:54:00.164000+08:00",
     "start_time": "2020-12-09T05:54:00.151Z"
    },
    "scrolled": true
   },
   "outputs": [
    {
     "name": "stdout",
     "output_type": "stream",
     "text": [
      "  0.002797 seconds (75.57 k allocations: 4.769 MiB)\n"
     ]
    },
    {
     "name": "stderr",
     "output_type": "stream",
     "text": [
      "┌ Info: Answer found.\n",
      "│   answer = 268878261\n",
      "└ @ Main In[42]:2\n"
     ]
    }
   ],
   "source": [
    "@time show_answer_report(input_puzzle, 25, Val(:part2))"
   ]
  }
 ],
 "metadata": {
  "@webio": {
   "lastCommId": null,
   "lastKernelId": null
  },
  "kernelspec": {
   "display_name": "Julia 1.5.3",
   "language": "julia",
   "name": "julia-1.5"
  },
  "language_info": {
   "file_extension": ".jl",
   "mimetype": "application/julia",
   "name": "julia",
   "version": "1.5.3"
  },
  "latex_envs": {
   "LaTeX_envs_menu_present": true,
   "autoclose": false,
   "autocomplete": true,
   "bibliofile": "biblio.bib",
   "cite_by": "apalike",
   "current_citInitial": 1,
   "eqLabelWithNumbers": true,
   "eqNumInitial": 1,
   "hotkeys": {
    "equation": "Ctrl-E",
    "itemize": "Ctrl-I"
   },
   "labels_anchors": false,
   "latex_user_defs": false,
   "report_style_numbering": false,
   "user_envs_cfg": false
  },
  "toc": {
   "base_numbering": 1,
   "nav_menu": {},
   "number_sections": true,
   "sideBar": true,
   "skip_h1_title": true,
   "title_cell": "Table of Contents",
   "title_sidebar": "Contents",
   "toc_cell": true,
   "toc_position": {},
   "toc_section_display": true,
   "toc_window_display": false
  }
 },
 "nbformat": 4,
 "nbformat_minor": 4
}
