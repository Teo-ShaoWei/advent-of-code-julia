{
 "cells": [
  {
   "cell_type": "markdown",
   "metadata": {},
   "source": [
    "# Advent of Code 2020 Day ?\n",
    "[link](https://adventofcode.com/2020/day/?)"
   ]
  },
  {
   "cell_type": "markdown",
   "metadata": {
    "toc": true
   },
   "source": [
    "<h1>Table of Contents<span class=\"tocSkip\"></span></h1>\n",
    "<div class=\"toc\"><ul class=\"toc-item\"><li><span><a href=\"#dependencies\" data-toc-modified-id=\"dependencies-1\"><span class=\"toc-item-num\">1&nbsp;&nbsp;</span>dependencies</a></span></li><li><span><a href=\"#read-input\" data-toc-modified-id=\"read-input-2\"><span class=\"toc-item-num\">2&nbsp;&nbsp;</span>read input</a></span></li><li><span><a href=\"#part-1\" data-toc-modified-id=\"part-1-3\"><span class=\"toc-item-num\">3&nbsp;&nbsp;</span>part 1</a></span><ul class=\"toc-item\"><li><span><a href=\"#answer\" data-toc-modified-id=\"answer-3.1\"><span class=\"toc-item-num\">3.1&nbsp;&nbsp;</span>answer</a></span></li></ul></li><li><span><a href=\"#part-2\" data-toc-modified-id=\"part-2-4\"><span class=\"toc-item-num\">4&nbsp;&nbsp;</span>part 2</a></span><ul class=\"toc-item\"><li><span><a href=\"#answer\" data-toc-modified-id=\"answer-4.1\"><span class=\"toc-item-num\">4.1&nbsp;&nbsp;</span>answer</a></span></li></ul></li></ul></div>"
   ]
  },
  {
   "cell_type": "markdown",
   "metadata": {},
   "source": [
    "## dependencies"
   ]
  },
  {
   "cell_type": "markdown",
   "metadata": {},
   "source": [
    "## read input"
   ]
  },
  {
   "cell_type": "code",
   "execution_count": 1,
   "metadata": {
    "ExecuteTime": {
     "end_time": "2020-12-07T15:46:00.027000+08:00",
     "start_time": "2020-12-07T07:45:58.938Z"
    }
   },
   "outputs": [
    {
     "data": {
      "text/plain": [
       "parse_subbag (generic function with 1 method)"
      ]
     },
     "execution_count": 1,
     "metadata": {},
     "output_type": "execute_result"
    }
   ],
   "source": [
    "function parse_subbag(str)::Pair{String, Int}\n",
    "    contains(str, \"no other bags\") && return \"other\" => 0\n",
    "    \n",
    "    found = match.(r\"(\\d*) (.*) bag\", str)\n",
    "    return found[2] => parse(Int, found[1])\n",
    "end"
   ]
  },
  {
   "cell_type": "code",
   "execution_count": 2,
   "metadata": {
    "ExecuteTime": {
     "end_time": "2020-12-07T15:46:00.115000+08:00",
     "start_time": "2020-12-07T07:45:58.941Z"
    }
   },
   "outputs": [
    {
     "data": {
      "text/plain": [
       "split_subbags_string (generic function with 1 method)"
      ]
     },
     "execution_count": 2,
     "metadata": {},
     "output_type": "execute_result"
    }
   ],
   "source": [
    "split_subbags_string(str)::Vector{SubString} = str == \"no other bags.\" ? [] : split(str, \", \")"
   ]
  },
  {
   "cell_type": "code",
   "execution_count": 3,
   "metadata": {
    "ExecuteTime": {
     "end_time": "2020-12-07T15:46:00.198000+08:00",
     "start_time": "2020-12-07T07:45:58.942Z"
    }
   },
   "outputs": [
    {
     "data": {
      "text/plain": [
       "parse_input_line (generic function with 1 method)"
      ]
     },
     "execution_count": 3,
     "metadata": {},
     "output_type": "execute_result"
    }
   ],
   "source": [
    "function parse_input_line(line)::Pair{String, Dict{String, Int}}\n",
    "    k, v = split(line, \" bags contain \")\n",
    "    return k => Dict(parse_subbag.(split_subbags_string(v)))\n",
    "end"
   ]
  },
  {
   "cell_type": "code",
   "execution_count": 4,
   "metadata": {
    "ExecuteTime": {
     "end_time": "2020-12-07T15:46:00.271000+08:00",
     "start_time": "2020-12-07T07:45:58.944Z"
    }
   },
   "outputs": [
    {
     "data": {
      "text/plain": [
       "parse_input (generic function with 1 method)"
      ]
     },
     "execution_count": 4,
     "metadata": {},
     "output_type": "execute_result"
    }
   ],
   "source": [
    "parse_input(filename) = Dict(parse_input_line.(readlines(filename)))"
   ]
  },
  {
   "cell_type": "code",
   "execution_count": 5,
   "metadata": {
    "ExecuteTime": {
     "end_time": "2020-12-07T15:46:01.407000+08:00",
     "start_time": "2020-12-07T07:45:58.946Z"
    }
   },
   "outputs": [
    {
     "data": {
      "text/plain": [
       "Dict{String,Dict{String,Int64}} with 9 entries:\n",
       "  \"muted yellow\" => Dict(\"shiny gold\"=>2,\"faded blue\"=>9)\n",
       "  \"shiny gold\"   => Dict(\"vibrant plum\"=>2,\"dark olive\"=>1)\n",
       "  \"dotted black\" => Dict{String,Int64}()\n",
       "  \"dark orange\"  => Dict(\"muted yellow\"=>4,\"bright white\"=>3)\n",
       "  \"vibrant plum\" => Dict(\"dotted black\"=>6,\"faded blue\"=>5)\n",
       "  \"faded blue\"   => Dict{String,Int64}()\n",
       "  \"dark olive\"   => Dict(\"dotted black\"=>4,\"faded blue\"=>3)\n",
       "  \"light red\"    => Dict(\"muted yellow\"=>2,\"bright white\"=>1)\n",
       "  \"bright white\" => Dict(\"shiny gold\"=>1)"
      ]
     },
     "execution_count": 5,
     "metadata": {},
     "output_type": "execute_result"
    }
   ],
   "source": [
    "input_sample_1 = parse_input(\"input_sample_1.txt\")"
   ]
  },
  {
   "cell_type": "code",
   "execution_count": 6,
   "metadata": {
    "ExecuteTime": {
     "end_time": "2020-12-07T15:46:01.409000+08:00",
     "start_time": "2020-12-07T07:45:58.948Z"
    }
   },
   "outputs": [
    {
     "data": {
      "text/plain": [
       "Dict{String,Dict{String,Int64}} with 7 entries:\n",
       "  \"shiny gold\"  => Dict(\"dark red\"=>2)\n",
       "  \"dark red\"    => Dict(\"dark orange\"=>2)\n",
       "  \"dark yellow\" => Dict(\"dark green\"=>2)\n",
       "  \"dark blue\"   => Dict(\"dark violet\"=>2)\n",
       "  \"dark orange\" => Dict(\"dark yellow\"=>2)\n",
       "  \"dark violet\" => Dict{String,Int64}()\n",
       "  \"dark green\"  => Dict(\"dark blue\"=>2)"
      ]
     },
     "execution_count": 6,
     "metadata": {},
     "output_type": "execute_result"
    }
   ],
   "source": [
    "input_sample_2 = parse_input(\"input_sample_2.txt\")"
   ]
  },
  {
   "cell_type": "code",
   "execution_count": 7,
   "metadata": {
    "ExecuteTime": {
     "end_time": "2020-12-07T15:46:01.429000+08:00",
     "start_time": "2020-12-07T07:45:58.951Z"
    },
    "scrolled": true
   },
   "outputs": [
    {
     "data": {
      "text/plain": [
       "Dict{String,Dict{String,Int64}} with 594 entries:\n",
       "  \"posh teal\"           => Dict(\"posh indigo\"=>5)\n",
       "  \"clear teal\"          => Dict(\"wavy red\"=>2,\"dotted salmon\"=>2)\n",
       "  \"faded tomato\"        => Dict(\"bright silver\"=>3)\n",
       "  \"dull indigo\"         => Dict(\"plaid purple\"=>4,\"dull beige\"=>1)\n",
       "  \"drab indigo\"         => Dict(\"dim chartreuse\"=>2)\n",
       "  \"mirrored chartreuse\" => Dict(\"dotted plum\"=>4)\n",
       "  \"shiny lime\"          => Dict(\"dim purple\"=>1,\"shiny tomato\"=>3)\n",
       "  \"dark brown\"          => Dict(\"plaid white\"=>3,\"muted turquoise\"=>5)\n",
       "  \"dotted fuchsia\"      => Dict(\"plaid tan\"=>1,\"posh turquoise\"=>3,\"muted black…\n",
       "  \"shiny green\"         => Dict(\"dim maroon\"=>1,\"faded olive\"=>4,\"muted lavende…\n",
       "  \"mirrored violet\"     => Dict(\"striped orange\"=>3,\"clear plum\"=>5,\"dull green…\n",
       "  \"posh gray\"           => Dict(\"clear beige\"=>2,\"vibrant yellow\"=>5,\"dotted sa…\n",
       "  \"bright brown\"        => Dict(\"dark bronze\"=>5)\n",
       "  \"drab cyan\"           => Dict(\"faded tomato\"=>4,\"dark lime\"=>1,\"pale brown\"=>…\n",
       "  \"posh brown\"          => Dict(\"light brown\"=>1,\"mirrored gold\"=>2,\"muted aqua…\n",
       "  \"dim aqua\"            => Dict(\"posh fuchsia\"=>2,\"plaid crimson\"=>2)\n",
       "  \"vibrant violet\"      => Dict(\"striped crimson\"=>2,\"light green\"=>1)\n",
       "  \"light lime\"          => Dict(\"wavy lime\"=>2,\"mirrored aqua\"=>2,\"muted turquo…\n",
       "  \"shiny silver\"        => Dict(\"plaid olive\"=>2,\"pale maroon\"=>3,\"dim teal\"=>1)\n",
       "  \"vibrant silver\"      => Dict(\"wavy maroon\"=>4,\"bright gold\"=>1)\n",
       "  \"muted olive\"         => Dict(\"mirrored tan\"=>2)\n",
       "  \"dotted bronze\"       => Dict(\"dim fuchsia\"=>2,\"plaid turquoise\"=>1,\"pale bro…\n",
       "  \"wavy aqua\"           => Dict(\"mirrored white\"=>4)\n",
       "  \"vibrant bronze\"      => Dict(\"clear orange\"=>3)\n",
       "  \"wavy beige\"          => Dict(\"shiny gold\"=>2,\"bright maroon\"=>2,\"pale purple…\n",
       "  ⋮                     => ⋮"
      ]
     },
     "execution_count": 7,
     "metadata": {},
     "output_type": "execute_result"
    }
   ],
   "source": [
    "input_puzzle = parse_input(\"input_puzzle.txt\")"
   ]
  },
  {
   "cell_type": "markdown",
   "metadata": {},
   "source": [
    "## part 1"
   ]
  },
  {
   "cell_type": "code",
   "execution_count": 8,
   "metadata": {
    "ExecuteTime": {
     "end_time": "2020-12-07T15:46:01.509000+08:00",
     "start_time": "2020-12-07T07:45:58.996Z"
    }
   },
   "outputs": [
    {
     "data": {
      "text/plain": [
       "count_superbags (generic function with 1 method)"
      ]
     },
     "execution_count": 8,
     "metadata": {},
     "output_type": "execute_result"
    }
   ],
   "source": [
    "function count_superbags(bag, subbag_lookup)\n",
    "    result = Dict{String, Bool}()\n",
    "    \n",
    "    function is_superbag(bag1)\n",
    "        haskey(result, bag1) && return result[bag1]\n",
    "        bag1 == bag && return true\n",
    "        return result[bag1] = any(is_superbag.(keys(subbag_lookup[bag1])))\n",
    "    end\n",
    "    \n",
    "    foreach(is_superbag, keys(subbag_lookup))\n",
    "    \n",
    "    return count(values(result))\n",
    "end"
   ]
  },
  {
   "cell_type": "markdown",
   "metadata": {},
   "source": [
    "### answer"
   ]
  },
  {
   "cell_type": "code",
   "execution_count": 9,
   "metadata": {
    "ExecuteTime": {
     "end_time": "2020-12-07T15:46:01.578000+08:00",
     "start_time": "2020-12-07T07:45:59.051Z"
    }
   },
   "outputs": [
    {
     "data": {
      "text/plain": [
       "show_answer_report (generic function with 1 method)"
      ]
     },
     "execution_count": 9,
     "metadata": {},
     "output_type": "execute_result"
    }
   ],
   "source": [
    "function show_answer_report(input, ::Val{:part1})\n",
    "    @info \"Answer found.\" answer=count_superbags(\"shiny gold\", input)\n",
    "    return\n",
    "end"
   ]
  },
  {
   "cell_type": "code",
   "execution_count": 10,
   "metadata": {
    "ExecuteTime": {
     "end_time": "2020-12-07T15:46:01.945000+08:00",
     "start_time": "2020-12-07T07:45:59.054Z"
    },
    "scrolled": true
   },
   "outputs": [
    {
     "name": "stdout",
     "output_type": "stream",
     "text": [
      "  0.316557 seconds (618.14 k allocations: 31.986 MiB, 3.13% gc time)\n"
     ]
    },
    {
     "name": "stderr",
     "output_type": "stream",
     "text": [
      "┌ Info: Answer found.\n",
      "│   answer = 4\n",
      "└ @ Main In[9]:2\n"
     ]
    }
   ],
   "source": [
    "@time show_answer_report(input_sample_1, Val(:part1))"
   ]
  },
  {
   "cell_type": "code",
   "execution_count": 11,
   "metadata": {
    "ExecuteTime": {
     "end_time": "2020-12-07T15:46:01.953000+08:00",
     "start_time": "2020-12-07T07:45:59.056Z"
    },
    "scrolled": false
   },
   "outputs": [
    {
     "name": "stdout",
     "output_type": "stream",
     "text": [
      "  0.001020 seconds (5.94 k allocations: 373.953 KiB)\n"
     ]
    },
    {
     "name": "stderr",
     "output_type": "stream",
     "text": [
      "┌ Info: Answer found.\n",
      "│   answer = 142\n",
      "└ @ Main In[9]:2\n"
     ]
    }
   ],
   "source": [
    "@time show_answer_report(input_puzzle, Val(:part1))"
   ]
  },
  {
   "cell_type": "markdown",
   "metadata": {},
   "source": [
    "## part 2"
   ]
  },
  {
   "cell_type": "code",
   "execution_count": 12,
   "metadata": {
    "ExecuteTime": {
     "end_time": "2020-12-07T15:46:02.029000+08:00",
     "start_time": "2020-12-07T07:45:59.114Z"
    }
   },
   "outputs": [
    {
     "data": {
      "text/plain": [
       "count_subbags (generic function with 1 method)"
      ]
     },
     "execution_count": 12,
     "metadata": {},
     "output_type": "execute_result"
    }
   ],
   "source": [
    "function count_subbags(bag, subbag_lookup)\n",
    "    result = Dict{String, Int}()\n",
    "    \n",
    "    function helper(bag)\n",
    "        if !haskey(result, bag)\n",
    "            total = 0\n",
    "            for (subbag, count) in subbag_lookup[bag]\n",
    "                total += count * (1 + helper(subbag))\n",
    "            end\n",
    "            result[bag] = total\n",
    "        end\n",
    "        return result[bag]\n",
    "    end\n",
    "    \n",
    "    return helper(bag)\n",
    "end"
   ]
  },
  {
   "cell_type": "markdown",
   "metadata": {},
   "source": [
    "### answer"
   ]
  },
  {
   "cell_type": "code",
   "execution_count": 13,
   "metadata": {
    "ExecuteTime": {
     "end_time": "2020-12-07T15:46:02.032000+08:00",
     "start_time": "2020-12-07T07:45:59.173Z"
    }
   },
   "outputs": [
    {
     "data": {
      "text/plain": [
       "show_answer_report (generic function with 2 methods)"
      ]
     },
     "execution_count": 13,
     "metadata": {},
     "output_type": "execute_result"
    }
   ],
   "source": [
    "function show_answer_report(input, ::Val{:part2})\n",
    "    @info \"Answer found.\" answer=count_subbags(\"shiny gold\", input)\n",
    "    return\n",
    "end"
   ]
  },
  {
   "cell_type": "code",
   "execution_count": 14,
   "metadata": {
    "ExecuteTime": {
     "end_time": "2020-12-07T15:46:02.124000+08:00",
     "start_time": "2020-12-07T07:45:59.174Z"
    },
    "scrolled": false
   },
   "outputs": [
    {
     "name": "stdout",
     "output_type": "stream",
     "text": [
      "  0.084082 seconds (164.92 k allocations: 8.206 MiB, 14.02% gc time)\n"
     ]
    },
    {
     "name": "stderr",
     "output_type": "stream",
     "text": [
      "┌ Info: Answer found.\n",
      "│   answer = 32\n",
      "└ @ Main In[13]:2\n"
     ]
    }
   ],
   "source": [
    "@time show_answer_report(input_sample_1, Val(:part2))"
   ]
  },
  {
   "cell_type": "code",
   "execution_count": 15,
   "metadata": {
    "ExecuteTime": {
     "end_time": "2020-12-07T15:46:02.150000+08:00",
     "start_time": "2020-12-07T07:45:59.177Z"
    },
    "scrolled": false
   },
   "outputs": [
    {
     "name": "stdout",
     "output_type": "stream",
     "text": [
      "  0.000155 seconds (43 allocations: 2.000 KiB)\n"
     ]
    },
    {
     "name": "stderr",
     "output_type": "stream",
     "text": [
      "┌ Info: Answer found.\n",
      "│   answer = 126\n",
      "└ @ Main In[13]:2\n"
     ]
    }
   ],
   "source": [
    "@time show_answer_report(input_sample_2, Val(:part2))"
   ]
  },
  {
   "cell_type": "code",
   "execution_count": 16,
   "metadata": {
    "ExecuteTime": {
     "end_time": "2020-12-07T15:46:02.158000+08:00",
     "start_time": "2020-12-07T07:45:59.179Z"
    },
    "scrolled": true
   },
   "outputs": [
    {
     "name": "stdout",
     "output_type": "stream",
     "text": [
      "  0.000120 seconds (66 allocations: 3.828 KiB)\n"
     ]
    },
    {
     "name": "stderr",
     "output_type": "stream",
     "text": [
      "┌ Info: Answer found.\n",
      "│   answer = 10219\n",
      "└ @ Main In[13]:2\n"
     ]
    }
   ],
   "source": [
    "@time show_answer_report(input_puzzle, Val(:part2))"
   ]
  }
 ],
 "metadata": {
  "@webio": {
   "lastCommId": null,
   "lastKernelId": null
  },
  "kernelspec": {
   "display_name": "Julia 1.5.3",
   "language": "julia",
   "name": "julia-1.5"
  },
  "language_info": {
   "file_extension": ".jl",
   "mimetype": "application/julia",
   "name": "julia",
   "version": "1.5.3"
  },
  "latex_envs": {
   "LaTeX_envs_menu_present": true,
   "autoclose": false,
   "autocomplete": true,
   "bibliofile": "biblio.bib",
   "cite_by": "apalike",
   "current_citInitial": 1,
   "eqLabelWithNumbers": true,
   "eqNumInitial": 1,
   "hotkeys": {
    "equation": "Ctrl-E",
    "itemize": "Ctrl-I"
   },
   "labels_anchors": false,
   "latex_user_defs": false,
   "report_style_numbering": false,
   "user_envs_cfg": false
  },
  "toc": {
   "base_numbering": 1,
   "nav_menu": {},
   "number_sections": true,
   "sideBar": true,
   "skip_h1_title": true,
   "title_cell": "Table of Contents",
   "title_sidebar": "Contents",
   "toc_cell": true,
   "toc_position": {},
   "toc_section_display": true,
   "toc_window_display": false
  }
 },
 "nbformat": 4,
 "nbformat_minor": 4
}
